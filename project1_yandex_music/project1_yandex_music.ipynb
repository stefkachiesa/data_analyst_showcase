{
 "cells": [
  {
   "cell_type": "markdown",
   "metadata": {
    "id": "E0vqbgi9ay0H"
   },
   "source": [
    "# Yandex.Music"
   ]
  },
  {
   "cell_type": "markdown",
   "metadata": {
    "id": "fhq_eyov_Zcs"
   },
   "source": [
    "# Contents <a id='back'></a>\n",
    "\n",
    "* [Introduction](#intro)\n",
    "* [Stage 1. Data overview](#data_review)\n",
    "    * [Conclusions](#data_review_conclusions)\n",
    "* [Stage 2. Data preprocessing](#data_preprocessing)\n",
    "    * [2.1 Header style](#header_style)\n",
    "    * [2.2 Missing values](#missing_values)\n",
    "    * [2.3 Duplicates](#duplicates)\n",
    "    * [2.4 Conclusions](#data_preprocessing_conclusions)\n",
    "* [Stage 3. Testing the hypotheses](#hypotheses)\n",
    "    * [3.1 Hypothesis 1: user activity in the two cities](#activity)\n",
    "    * [3.2 Hypothesis 2: music preferences on Monday and Friday](#week)\n",
    "    * [3.3 Hypothesis 3: genre preferences in Springfield and Shelbyville](#genre)\n",
    "* [Findings](#end)"
   ]
  },
  {
   "cell_type": "markdown",
   "metadata": {
    "id": "VUC88oWjTJw2"
   },
   "source": [
    "## Introduction <a id='intro'></a>\n",
    "Whenever we're doing research, we need to formulate hypotheses that we can then test. Sometimes we accept these hypotheses; other times, we reject them. To make the right decisions, a business must be able to understand whether or not it's making the right assumptions.\n",
    "\n",
    "In this project, you'll compare the music preferences of the cities of Springfield and Shelbyville. You'll study real Yandex.Music data to test the hypotheses below and compare user behavior for these two cities.\n",
    "\n",
    "### Goal: \n",
    "Test three hypotheses:\n",
    "1. User activity differs depending on the day of the week and from city to city. \n",
    "2. On Monday mornings, Springfield and Shelbyville residents listen to different genres. This is also true for Friday evenings. \n",
    "3. Springfield and Shelbyville listeners have different preferences. In Springfield, they prefer pop, while Shelbyville has more rap fans.\n",
    "\n",
    "### Stages \n",
    "Data on user behavior is stored in the file `/datasets/music_project_en.csv`. There is no information about the quality of the data, so we will need to explore it before testing the hypotheses. \n",
    "\n",
    "First, we'll evaluate the quality of the data and see whether its issues are significant. Then, during data preprocessing, we will try to account for the most critical problems.\n",
    " \n",
    "Your project will consist of three stages:\n",
    " 1. Data overview\n",
    " 2. Data preprocessing\n",
    " 3. Testing the hypotheses\n",
    " \n",
    " ## Disclaimer \n",
    "\n",
    "Please note that this project does not employ statistical hypothesis testing, which offers a more precise and quantitative approach to hypothesis validation.\n",
    "The analyses presented here are based on exploratory data analysis techniques, which provide insights but may not offer the same level of rigor as statistical testing.\n",
    "Additionally, it's essential to recognize that drawing conclusions about an entire city based solely on data from a single source may not capture the full spectrum of preferences and behaviors\n",
    "within the population. Factors such as sample bias, data limitations, and external influences could impact the generalizability of our findings.\n",
    "Therefore, while our analysis offers valuable insights into music preferences within Springfield and Shelbyville, it's crucial to interpret the results with these limitations in mind.\n",
    "\n",
    "[Back to Contents](#back)"
   ]
  },
  {
   "cell_type": "markdown",
   "metadata": {
    "id": "Ml1hmfXC_Zcs"
   },
   "source": [
    "## Stage 1. Data overview <a id='data_review'></a>\n",
    "\n",
    "Open the data on Yandex.Music and explore it."
   ]
  },
  {
   "cell_type": "markdown",
   "metadata": {
    "id": "57eAOGIz_Zcs"
   },
   "source": [
    "You'll need `pandas`, so import it."
   ]
  },
  {
   "cell_type": "code",
   "execution_count": 1,
   "metadata": {
    "id": "AXN7PHPN_Zcs"
   },
   "outputs": [],
   "source": [
    "# importing pandas\n",
    "import pandas as pd\n"
   ]
  },
  {
   "cell_type": "markdown",
   "metadata": {
    "id": "SG23P8tt_Zcs"
   },
   "source": [
    "Read the file `music_project_en.csv` from the `/datasets/` folder and save it in the `df` variable:"
   ]
  },
  {
   "cell_type": "code",
   "execution_count": 2,
   "metadata": {
    "id": "fFVu7vqh_Zct"
   },
   "outputs": [],
   "source": [
    "# reading the file and storing it to df\n",
    "df=pd.read_csv('https://practicum-content.s3.us-west-1.amazonaws.com/datasets/music_project_en.csv')\n"
   ]
  },
  {
   "cell_type": "markdown",
   "metadata": {
    "id": "rDoOMd3uTqnZ"
   },
   "source": [
    "Print the first 10 table rows:"
   ]
  },
  {
   "cell_type": "code",
   "execution_count": 3,
   "metadata": {
    "id": "oWTVX3gW_Zct"
   },
   "outputs": [
    {
     "name": "stdout",
     "output_type": "stream",
     "text": [
      "     userID                        Track            artist   genre  \\\n",
      "0  FFB692EC            Kamigata To Boots  The Mass Missile    rock   \n",
      "1  55204538  Delayed Because of Accident  Andreas Rönnberg    rock   \n",
      "2    20EC38            Funiculì funiculà       Mario Lanza     pop   \n",
      "3  A3DD03C9        Dragons in the Sunset        Fire + Ice    folk   \n",
      "4  E2DC1FAE                  Soul People        Space Echo   dance   \n",
      "5  842029A1                       Chains          Obladaet  rusrap   \n",
      "6  4CB90AA5                         True      Roman Messer   dance   \n",
      "7  F03E1C1F             Feeling This Way   Polina Griffith   dance   \n",
      "8  8FA1D3BE                     L’estate       Julia Dalia  ruspop   \n",
      "9  E772D5C0                    Pessimist               NaN   dance   \n",
      "\n",
      "        City        time        Day  \n",
      "0  Shelbyville  20:28:33  Wednesday  \n",
      "1  Springfield  14:07:09     Friday  \n",
      "2  Shelbyville  20:58:07  Wednesday  \n",
      "3  Shelbyville  08:37:09     Monday  \n",
      "4  Springfield  08:34:34     Monday  \n",
      "5  Shelbyville  13:09:41     Friday  \n",
      "6  Springfield  13:00:07  Wednesday  \n",
      "7  Springfield  20:47:49  Wednesday  \n",
      "8  Springfield  09:17:40     Friday  \n",
      "9  Shelbyville  21:20:49  Wednesday  \n"
     ]
    }
   ],
   "source": [
    "# obtaining the first 10 rows from the df table\n",
    "print(df.head(10))\n"
   ]
  },
  {
   "cell_type": "markdown",
   "metadata": {},
   "source": [
    "\n",
    "    \n",
    "You can also use here other methods like `.sample(n)` or `.tail(n)` to show sample of data. \n",
    "    \n",
    "You can read about it here: https://pandas.pydata.org/docs/reference/api/pandas.DataFrame.sample.html\n",
    "    "
   ]
  },
  {
   "cell_type": "markdown",
   "metadata": {
    "id": "EO73Kwic_Zct"
   },
   "source": [
    "Obtaining the general information about the table with one command:"
   ]
  },
  {
   "cell_type": "code",
   "execution_count": 4,
   "metadata": {
    "id": "DSf2kIb-_Zct"
   },
   "outputs": [
    {
     "name": "stdout",
     "output_type": "stream",
     "text": [
      "<class 'pandas.core.frame.DataFrame'>\n",
      "RangeIndex: 65079 entries, 0 to 65078\n",
      "Data columns (total 7 columns):\n",
      " #   Column    Non-Null Count  Dtype \n",
      "---  ------    --------------  ----- \n",
      " 0     userID  65079 non-null  object\n",
      " 1   Track     63736 non-null  object\n",
      " 2   artist    57512 non-null  object\n",
      " 3   genre     63881 non-null  object\n",
      " 4     City    65079 non-null  object\n",
      " 5   time      65079 non-null  object\n",
      " 6   Day       65079 non-null  object\n",
      "dtypes: object(7)\n",
      "memory usage: 3.5+ MB\n"
     ]
    }
   ],
   "source": [
    "# obtaining general information about the data in df\n",
    "df.info()"
   ]
  },
  {
   "cell_type": "markdown",
   "metadata": {
    "id": "TaQ2Iwbr_Zct"
   },
   "source": [
    "The table contains seven columns. They all store the same data type: `object`.\n",
    "\n",
    "According to the documentation:\n",
    "- `'userID'` — user identifier\n",
    "- `'Track'` — track title\n",
    "- `'artist'` — artist's name\n",
    "- `'genre'`\n",
    "- `'City'` — user's city\n",
    "- `'time'` — the exact time the track was played\n",
    "- `'Day'` — day of the week\n",
    "\n",
    "We can see three issues with style in the column names:\n",
    "1. Some names are uppercase, some are lowercase.\n",
    "2. There are spaces in some names.\n",
    "3. ` userID is basically two words and needs snake_case`.\n",
    "\n",
    "The number of column values is different. This means the data contains missing values.\n"
   ]
  },
  {
   "cell_type": "markdown",
   "metadata": {
    "id": "MCB6-dXG_Zct"
   },
   "source": [
    "### Conclusions <a id='data_review_conclusions'></a> \n",
    "\n",
    "Each row in the table stores data on a track that was played. Some columns describe the track itself: its title, artist and genre. The rest convey information about the user: the city they come from, the time they played the track. \n",
    "\n",
    "It's clear that the data is sufficient to test the hypotheses. However, there are missing values.\n",
    "\n",
    "To move forward, we need to preprocess the data."
   ]
  },
  {
   "cell_type": "markdown",
   "metadata": {
    "id": "3eL__vcwViOi"
   },
   "source": [
    "[Back to Contents](#back)"
   ]
  },
  {
   "cell_type": "markdown",
   "metadata": {
    "id": "SjYF6Ub9_Zct"
   },
   "source": [
    "## Stage 2. Data preprocessing <a id='data_preprocessing'></a>\n",
    "Correct the formatting in the column headers and deal with the missing values. Then, check whether there are duplicates in the data."
   ]
  },
  {
   "cell_type": "markdown",
   "metadata": {
    "id": "dIaKXr29_Zct"
   },
   "source": [
    "### Header style <a id='header_style'></a>\n",
    "Print the column header:"
   ]
  },
  {
   "cell_type": "code",
   "execution_count": 5,
   "metadata": {
    "id": "oKOTdF_Q_Zct"
   },
   "outputs": [
    {
     "name": "stdout",
     "output_type": "stream",
     "text": [
      "  userID\n",
      "Track\n",
      "artist\n",
      "genre\n",
      "  City  \n",
      "time\n",
      "Day\n"
     ]
    }
   ],
   "source": [
    "for col in df.columns:\n",
    "    print(col)\n",
    "    \n",
    "\n",
    "\n"
   ]
  },
  {
   "cell_type": "code",
   "execution_count": 6,
   "metadata": {},
   "outputs": [
    {
     "data": {
      "text/plain": [
       "Index(['  userID', 'Track', 'artist', 'genre', '  City  ', 'time', 'Day'], dtype='object')"
      ]
     },
     "execution_count": 6,
     "metadata": {},
     "output_type": "execute_result"
    }
   ],
   "source": [
    "df.columns"
   ]
  },
  {
   "cell_type": "markdown",
   "metadata": {
    "id": "zj5534cv_Zct"
   },
   "source": [
    "Change column names according to the rules of good style:\n",
    "* If the name has several words, use snake_case\n",
    "* All characters must be lowercase\n",
    "* Delete spaces"
   ]
  },
  {
   "cell_type": "code",
   "execution_count": 7,
   "metadata": {
    "id": "ISlFqs5y_Zct"
   },
   "outputs": [],
   "source": [
    "# renaming column: \n",
    "# here I can't understund why certain columns are not getting renamed\n",
    "\n",
    "# df = df.rename(columns = {\n",
    "#    ' userID': 'user_id',\n",
    "#    'Track' : 'track',\n",
    "#    'artist' : 'artist',\n",
    "#    'genre' : 'genre',\n",
    "#    '  City ' : 'city',\n",
    "#    'time' : 'time_of_the_day',\n",
    "#    'Day' : 'day'})\n",
    "\n"
   ]
  },
  {
   "cell_type": "code",
   "execution_count": 12,
   "metadata": {},
   "outputs": [],
   "source": [
    "df = df.rename(columns = {\n",
    "   '  userID': 'user_id',\n",
    "   'Track' : 'track',\n",
    "   'artist' : 'artist',\n",
    "   'genre' : 'genre',\n",
    "   '  City  ' : 'city',\n",
    "   'time' : 'time_of_the_day',\n",
    "   'Day' : 'day'})"
   ]
  },
  {
   "cell_type": "markdown",
   "metadata": {
    "id": "1dqbh00J_Zct"
   },
   "source": [
    "Check the result. Print the names of the columns once more:"
   ]
  },
  {
   "cell_type": "code",
   "execution_count": 13,
   "metadata": {
    "id": "d4NOAmTW_Zct"
   },
   "outputs": [
    {
     "name": "stdout",
     "output_type": "stream",
     "text": [
      "Index(['user_id', 'track', 'artist', 'genre', 'city', 'time_of_the_day',\n",
      "       'day'],\n",
      "      dtype='object')\n"
     ]
    }
   ],
   "source": [
    "# checking result: the list of column names\n",
    "print(df.columns)\n",
    "\n"
   ]
  },
  {
   "cell_type": "markdown",
   "metadata": {},
   "source": [
    "following, there is a slighly different code, I am going to rename the existing DataFrame(rather than creating a copy) "
   ]
  },
  {
   "cell_type": "code",
   "execution_count": 14,
   "metadata": {},
   "outputs": [
    {
     "name": "stdout",
     "output_type": "stream",
     "text": [
      "Index(['user_id', 'track', 'artist', 'genre', 'city', 'time_of_the_day',\n",
      "       'day'],\n",
      "      dtype='object')\n"
     ]
    }
   ],
   "source": [
    "df.rename(columns={'  userID': 'user_id',\n",
    "                   '  City  ' : 'city', \n",
    "                   'Track' : 'track', \n",
    "                   'Day' : 'day', \n",
    "                   'time' : 'time_of_the_day'}, inplace=True)\n",
    "\n",
    "print(df.columns)"
   ]
  },
  {
   "cell_type": "markdown",
   "metadata": {
    "id": "xYJk6ksJVpOl"
   },
   "source": [
    "[Back to Contents](#back)"
   ]
  },
  {
   "cell_type": "markdown",
   "metadata": {
    "id": "5ISfbcfY_Zct"
   },
   "source": [
    "### Missing values <a id='missing_values'></a>\n",
    "First, find the number of missing values in the table. To do so, use two `pandas` methods:"
   ]
  },
  {
   "cell_type": "code",
   "execution_count": 15,
   "metadata": {
    "id": "RskX29qr_Zct"
   },
   "outputs": [
    {
     "name": "stdout",
     "output_type": "stream",
     "text": [
      "user_id               0\n",
      "track              1343\n",
      "artist             7567\n",
      "genre              1198\n",
      "city                  0\n",
      "time_of_the_day       0\n",
      "day                   0\n",
      "dtype: int64\n"
     ]
    }
   ],
   "source": [
    "# calculating missing values\n",
    "print(df.isna().sum()) "
   ]
  },
  {
   "cell_type": "markdown",
   "metadata": {},
   "source": [
    "<div class=\"alert alert-success\">\n",
    "\n",
    "It is also sometimes helpful to check not only the total amount of missing values in each column but also look at the percentage of missing values. It helps to understand the overall impact. You can check percentage using, for example, this code:\n",
    "\n",
    "`df.isnull().sum()/len(df)`"
   ]
  },
  {
   "cell_type": "markdown",
   "metadata": {
    "id": "qubhgnlO_Zct"
   },
   "source": [
    "Not all the missing values affect the research. For instance, the missing values in `track` and `artist` are not critical. We can simply replace them with clear markers.\n",
    "\n",
    "But missing values in `'genre'` can affect the comparison of music preferences in Springfield and Shelbyville. In real life, it would be useful to learn the reasons why the data is missing and try to make up for them. But we do not have that opportunity in this project. So you will have to:\n",
    "* Fill in these missing values with markers\n",
    "* Evaluate how much the missing values may affect your computations"
   ]
  },
  {
   "cell_type": "markdown",
   "metadata": {
    "id": "fSv2laPA_Zct"
   },
   "source": [
    "Replace the missing values in `'track'`, `'artist'`, and `'genre'` with the string `'unknown'`. To do this, create the `columns_to_replace` list, loop over it with `for`, and replace the missing values in each of the columns:"
   ]
  },
  {
   "cell_type": "code",
   "execution_count": 17,
   "metadata": {
    "id": "KplB5qWs_Zct"
   },
   "outputs": [],
   "source": [
    "# looping over column names and replacing missing values with 'unknown'\n",
    "columns_to_replace = ['track', 'artist', 'genre'] \n",
    "for column in columns_to_replace:\n",
    "    df[columns_to_replace] = df[columns_to_replace].fillna('unknown')\n",
    "    "
   ]
  },
  {
   "cell_type": "markdown",
   "metadata": {
    "id": "Ilsm-MZo_Zct"
   },
   "source": [
    "Make sure the table contains no more missing values. Count the missing values again."
   ]
  },
  {
   "cell_type": "code",
   "execution_count": 18,
   "metadata": {
    "id": "Tq4nYRX4_Zct"
   },
   "outputs": [
    {
     "name": "stdout",
     "output_type": "stream",
     "text": [
      "user_id            0\n",
      "track              0\n",
      "artist             0\n",
      "genre              0\n",
      "city               0\n",
      "time_of_the_day    0\n",
      "day                0\n",
      "dtype: int64\n"
     ]
    }
   ],
   "source": [
    "# counting missing values\n",
    "print(df.isna().sum()) "
   ]
  },
  {
   "cell_type": "markdown",
   "metadata": {
    "id": "74ZIBmq9VrsK"
   },
   "source": [
    "[Back to Contents](#back)"
   ]
  },
  {
   "cell_type": "markdown",
   "metadata": {
    "id": "BWKRtBJ3_Zct"
   },
   "source": [
    "### Duplicates <a id='duplicates'></a>\n",
    "Find the number of obvious duplicates in the table using one command:"
   ]
  },
  {
   "cell_type": "code",
   "execution_count": 19,
   "metadata": {
    "id": "36eES_S0_Zct"
   },
   "outputs": [
    {
     "name": "stdout",
     "output_type": "stream",
     "text": [
      "3826\n"
     ]
    }
   ],
   "source": [
    "# counting clear duplicates\n",
    "print(df.duplicated().sum())"
   ]
  },
  {
   "cell_type": "markdown",
   "metadata": {
    "id": "Ot25h6XR_Zct"
   },
   "source": [
    "Call the `pandas` method for getting rid of obvious duplicates:"
   ]
  },
  {
   "cell_type": "code",
   "execution_count": 20,
   "metadata": {
    "id": "exFHq6tt_Zct"
   },
   "outputs": [],
   "source": [
    "# removing obvious duplicates\n",
    "df = df.drop_duplicates().reset_index(drop=True)"
   ]
  },
  {
   "cell_type": "markdown",
   "metadata": {
    "id": "Im2YwBEG_Zct"
   },
   "source": [
    "Count obvious duplicates once more to make sure you have removed all of them:"
   ]
  },
  {
   "cell_type": "code",
   "execution_count": 21,
   "metadata": {
    "id": "-8PuNWQ0_Zct"
   },
   "outputs": [
    {
     "name": "stdout",
     "output_type": "stream",
     "text": [
      "0\n"
     ]
    }
   ],
   "source": [
    "# checking for duplicates\n",
    "print(df.duplicated().sum())"
   ]
  },
  {
   "cell_type": "markdown",
   "metadata": {
    "id": "QlFBsxAr_Zct"
   },
   "source": [
    "Now get rid of implicit duplicates in the `genre` column. For example, the name of a genre can be written in different ways. Such errors will also affect the result."
   ]
  },
  {
   "cell_type": "markdown",
   "metadata": {
    "id": "eSjWwsOh_Zct"
   },
   "source": [
    "Print a list of unique genre names, sorted in alphabetical order. To do so:\n",
    "* Retrieve the intended DataFrame column \n",
    "* Apply a sorting method to it\n",
    "* For the sorted column, call the method that will return all unique column values"
   ]
  },
  {
   "cell_type": "code",
   "execution_count": 22,
   "metadata": {
    "id": "JIUcqzZN_Zct"
   },
   "outputs": [
    {
     "name": "stdout",
     "output_type": "stream",
     "text": [
      "['acid' 'acoustic' 'action' 'adult' 'africa' 'afrikaans' 'alternative'\n",
      " 'ambient' 'americana' 'animated' 'anime' 'arabesk' 'arabic' 'arena'\n",
      " 'argentinetango' 'art' 'audiobook' 'avantgarde' 'axé' 'baile' 'balkan'\n",
      " 'beats' 'bigroom' 'black' 'bluegrass' 'blues' 'bollywood' 'bossa'\n",
      " 'brazilian' 'breakbeat' 'breaks' 'broadway' 'cantautori' 'cantopop'\n",
      " 'canzone' 'caribbean' 'caucasian' 'celtic' 'chamber' 'children' 'chill'\n",
      " 'chinese' 'choral' 'christian' 'christmas' 'classical' 'classicmetal'\n",
      " 'club' 'colombian' 'comedy' 'conjazz' 'contemporary' 'country' 'cuban'\n",
      " 'dance' 'dancehall' 'dancepop' 'dark' 'death' 'deep' 'deutschrock'\n",
      " 'deutschspr' 'dirty' 'disco' 'dnb' 'documentary' 'downbeat' 'downtempo'\n",
      " 'drum' 'dub' 'dubstep' 'eastern' 'easy' 'electronic' 'electropop' 'emo'\n",
      " 'entehno' 'epicmetal' 'estrada' 'ethnic' 'eurofolk' 'european'\n",
      " 'experimental' 'extrememetal' 'fado' 'film' 'fitness' 'flamenco' 'folk'\n",
      " 'folklore' 'folkmetal' 'folkrock' 'folktronica' 'forró' 'frankreich'\n",
      " 'französisch' 'french' 'funk' 'future' 'gangsta' 'garage' 'german'\n",
      " 'ghazal' 'gitarre' 'glitch' 'gospel' 'gothic' 'grime' 'grunge' 'gypsy'\n",
      " 'handsup' \"hard'n'heavy\" 'hardcore' 'hardstyle' 'hardtechno' 'hip'\n",
      " 'hip-hop' 'hiphop' 'historisch' 'holiday' 'hop' 'horror' 'house' 'idm'\n",
      " 'independent' 'indian' 'indie' 'indipop' 'industrial' 'inspirational'\n",
      " 'instrumental' 'international' 'irish' 'jam' 'japanese' 'jazz' 'jewish'\n",
      " 'jpop' 'jungle' 'k-pop' 'karadeniz' 'karaoke' 'kayokyoku' 'korean'\n",
      " 'laiko' 'latin' 'latino' 'leftfield' 'local' 'lounge' 'loungeelectronic'\n",
      " 'lovers' 'malaysian' 'mandopop' 'marschmusik' 'meditative'\n",
      " 'mediterranean' 'melodic' 'metal' 'metalcore' 'mexican' 'middle'\n",
      " 'minimal' 'miscellaneous' 'modern' 'mood' 'mpb' 'muslim' 'native'\n",
      " 'neoklassik' 'neue' 'new' 'newage' 'newwave' 'nu' 'nujazz' 'numetal'\n",
      " 'oceania' 'old' 'opera' 'orchestral' 'other' 'piano' 'pop'\n",
      " 'popelectronic' 'popeurodance' 'post' 'posthardcore' 'postrock' 'power'\n",
      " 'progmetal' 'progressive' 'psychedelic' 'punjabi' 'punk' 'quebecois'\n",
      " 'ragga' 'ram' 'rancheras' 'rap' 'rave' 'reggae' 'reggaeton' 'regional'\n",
      " 'relax' 'religious' 'retro' 'rhythm' 'rnb' 'rnr' 'rock' 'rockabilly'\n",
      " 'romance' 'roots' 'ruspop' 'rusrap' 'rusrock' 'salsa' 'samba' 'schlager'\n",
      " 'self' 'sertanejo' 'shoegazing' 'showtunes' 'singer' 'ska' 'slow'\n",
      " 'smooth' 'soul' 'soulful' 'sound' 'soundtrack' 'southern' 'specialty'\n",
      " 'speech' 'spiritual' 'sport' 'stonerrock' 'surf' 'swing' 'synthpop'\n",
      " 'sängerportrait' 'tango' 'tanzorchester' 'taraftar' 'tech' 'techno'\n",
      " 'thrash' 'top' 'traditional' 'tradjazz' 'trance' 'tribal' 'trip'\n",
      " 'triphop' 'tropical' 'türk' 'türkçe' 'unknown' 'urban' 'uzbek' 'variété'\n",
      " 'vi' 'videogame' 'vocal' 'western' 'world' 'worldbeat' 'ïîï']\n"
     ]
    }
   ],
   "source": [
    "# viewing unique genre names\n",
    "print(df['genre'].sort_values().unique()) \n",
    "\n"
   ]
  },
  {
   "cell_type": "markdown",
   "metadata": {
    "id": "qej-Qmuo_Zct"
   },
   "source": [
    "Look through the list to find implicit duplicates of the genre `hiphop`. These could be names written incorrectly or alternative names of the same genre.\n",
    "\n",
    "You will see the following implicit duplicates:\n",
    "* `hip`\n",
    "* `hop`\n",
    "* `hip-hop`\n",
    "\n",
    "To get rid of them, declare the function `replace_wrong_genres()` with two parameters: \n",
    "* `wrong_genres=` — the list of duplicates\n",
    "* `correct_genre=` — the string with the correct value\n",
    "\n",
    "The function should correct the names in the `'genre'` column from the `df` table, i.e. replace each value from the `wrong_genres` list with the value in `correct_genre`."
   ]
  },
  {
   "cell_type": "code",
   "execution_count": 24,
   "metadata": {
    "id": "ErNDkmns_Zct"
   },
   "outputs": [],
   "source": [
    "# function for replacing implicit duplicates\n",
    "def replace_wrong_genres(wrong_genres, correct_genre): \n",
    "    for wrong_genre in wrong_genres:\n",
    "        df['genre'] = df['genre'].replace(wrong_genres, correct_genre)\n",
    "                \n",
    "\n",
    "\n"
   ]
  },
  {
   "cell_type": "markdown",
   "metadata": {
    "id": "aDoBJxbA_Zct"
   },
   "source": [
    "Call `replace_wrong_genres()` and pass it arguments so that it clears implicit duplcates (`hip`, `hop`, and `hip-hop`) and replaces them with `hiphop`:"
   ]
  },
  {
   "cell_type": "code",
   "execution_count": 25,
   "metadata": {
    "id": "YN5i2hpmSo09"
   },
   "outputs": [],
   "source": [
    "# removing implicit duplicates\n",
    "wrong_genres = ['hip','hop','hip-hop']\n",
    "correct_genre = 'hiphop'\n",
    "replace_wrong_genres(wrong_genres, correct_genre)"
   ]
  },
  {
   "cell_type": "markdown",
   "metadata": {},
   "source": [
    "\n",
    "    \n",
    "Btw you can also just pass values in your function:\n",
    "    \n",
    "    `replace_wrong_genres(['hip', 'hop', 'hip-hop'], 'hiphop')`\n",
    "    \n",
    "If you want to check the output of the function you can add the following line at the end.\n",
    "    \n",
    "    `return(wrong_genres, correct_genre)`"
   ]
  },
  {
   "cell_type": "code",
   "execution_count": 26,
   "metadata": {},
   "outputs": [],
   "source": [
    "def replace_wrong_genres(wrong_genres, correct_genre): \n",
    "    for wrong_genre in wrong_genres:\n",
    "        replace_wrong_genres(['hip', 'hop', 'hip-hop'], 'hiphop')\n",
    "    return(wrong_genres, correct_genre)\n",
    "    "
   ]
  },
  {
   "cell_type": "markdown",
   "metadata": {
    "id": "zQKF16_RG15m"
   },
   "source": [
    "Make sure the duplicate names were removed. Print the list of unique values from the `'genre'` column:"
   ]
  },
  {
   "cell_type": "code",
   "execution_count": 27,
   "metadata": {
    "id": "wvixALnFG15m",
    "scrolled": true
   },
   "outputs": [
    {
     "name": "stdout",
     "output_type": "stream",
     "text": [
      "['acid' 'acoustic' 'action' 'adult' 'africa' 'afrikaans' 'alternative'\n",
      " 'ambient' 'americana' 'animated' 'anime' 'arabesk' 'arabic' 'arena'\n",
      " 'argentinetango' 'art' 'audiobook' 'avantgarde' 'axé' 'baile' 'balkan'\n",
      " 'beats' 'bigroom' 'black' 'bluegrass' 'blues' 'bollywood' 'bossa'\n",
      " 'brazilian' 'breakbeat' 'breaks' 'broadway' 'cantautori' 'cantopop'\n",
      " 'canzone' 'caribbean' 'caucasian' 'celtic' 'chamber' 'children' 'chill'\n",
      " 'chinese' 'choral' 'christian' 'christmas' 'classical' 'classicmetal'\n",
      " 'club' 'colombian' 'comedy' 'conjazz' 'contemporary' 'country' 'cuban'\n",
      " 'dance' 'dancehall' 'dancepop' 'dark' 'death' 'deep' 'deutschrock'\n",
      " 'deutschspr' 'dirty' 'disco' 'dnb' 'documentary' 'downbeat' 'downtempo'\n",
      " 'drum' 'dub' 'dubstep' 'eastern' 'easy' 'electronic' 'electropop' 'emo'\n",
      " 'entehno' 'epicmetal' 'estrada' 'ethnic' 'eurofolk' 'european'\n",
      " 'experimental' 'extrememetal' 'fado' 'film' 'fitness' 'flamenco' 'folk'\n",
      " 'folklore' 'folkmetal' 'folkrock' 'folktronica' 'forró' 'frankreich'\n",
      " 'französisch' 'french' 'funk' 'future' 'gangsta' 'garage' 'german'\n",
      " 'ghazal' 'gitarre' 'glitch' 'gospel' 'gothic' 'grime' 'grunge' 'gypsy'\n",
      " 'handsup' \"hard'n'heavy\" 'hardcore' 'hardstyle' 'hardtechno' 'hiphop'\n",
      " 'historisch' 'holiday' 'horror' 'house' 'idm' 'independent' 'indian'\n",
      " 'indie' 'indipop' 'industrial' 'inspirational' 'instrumental'\n",
      " 'international' 'irish' 'jam' 'japanese' 'jazz' 'jewish' 'jpop' 'jungle'\n",
      " 'k-pop' 'karadeniz' 'karaoke' 'kayokyoku' 'korean' 'laiko' 'latin'\n",
      " 'latino' 'leftfield' 'local' 'lounge' 'loungeelectronic' 'lovers'\n",
      " 'malaysian' 'mandopop' 'marschmusik' 'meditative' 'mediterranean'\n",
      " 'melodic' 'metal' 'metalcore' 'mexican' 'middle' 'minimal'\n",
      " 'miscellaneous' 'modern' 'mood' 'mpb' 'muslim' 'native' 'neoklassik'\n",
      " 'neue' 'new' 'newage' 'newwave' 'nu' 'nujazz' 'numetal' 'oceania' 'old'\n",
      " 'opera' 'orchestral' 'other' 'piano' 'pop' 'popelectronic' 'popeurodance'\n",
      " 'post' 'posthardcore' 'postrock' 'power' 'progmetal' 'progressive'\n",
      " 'psychedelic' 'punjabi' 'punk' 'quebecois' 'ragga' 'ram' 'rancheras'\n",
      " 'rap' 'rave' 'reggae' 'reggaeton' 'regional' 'relax' 'religious' 'retro'\n",
      " 'rhythm' 'rnb' 'rnr' 'rock' 'rockabilly' 'romance' 'roots' 'ruspop'\n",
      " 'rusrap' 'rusrock' 'salsa' 'samba' 'schlager' 'self' 'sertanejo'\n",
      " 'shoegazing' 'showtunes' 'singer' 'ska' 'slow' 'smooth' 'soul' 'soulful'\n",
      " 'sound' 'soundtrack' 'southern' 'specialty' 'speech' 'spiritual' 'sport'\n",
      " 'stonerrock' 'surf' 'swing' 'synthpop' 'sängerportrait' 'tango'\n",
      " 'tanzorchester' 'taraftar' 'tech' 'techno' 'thrash' 'top' 'traditional'\n",
      " 'tradjazz' 'trance' 'tribal' 'trip' 'triphop' 'tropical' 'türk' 'türkçe'\n",
      " 'unknown' 'urban' 'uzbek' 'variété' 'vi' 'videogame' 'vocal' 'western'\n",
      " 'world' 'worldbeat' 'ïîï']\n"
     ]
    }
   ],
   "source": [
    "# checking for implicit duplicates\n",
    "print(df['genre'].sort_values().unique())"
   ]
  },
  {
   "cell_type": "markdown",
   "metadata": {
    "id": "ALgNbvF3VtPA"
   },
   "source": [
    "[Back to Contents](#back)"
   ]
  },
  {
   "cell_type": "markdown",
   "metadata": {
    "id": "jz6a9-7HQUDd"
   },
   "source": [
    "### Conclusions <a id='data_preprocessing_conclusions'></a>\n",
    "We detected three issues with the data:\n",
    "\n",
    "- Incorrect header styles\n",
    "- Missing values\n",
    "- Obvious and implicit duplicates\n",
    "\n",
    "The headers have been cleaned up to make processing the table simpler.\n",
    "\n",
    "All missing values have been replaced with `'unknown'`. But we still have to see whether the missing values in `'genre'` will affect our calculations.\n",
    "\n",
    "The absence of duplicates will make the results more precise and easier to understand.\n",
    "\n",
    "Now we can move on to testing hypotheses. "
   ]
  },
  {
   "cell_type": "markdown",
   "metadata": {},
   "source": [
    "<div class=\"alert alert-success\">\n",
    "<b>Reviewer's comment v1:</b>\n",
    "    \n",
    "Great, you correctly identified and fixed missing values and duplicates."
   ]
  },
  {
   "cell_type": "markdown",
   "metadata": {
    "id": "eK1es74rVujj"
   },
   "source": [
    "[Back to Contents](#back)"
   ]
  },
  {
   "cell_type": "markdown",
   "metadata": {
    "id": "WttZHXH0SqKk"
   },
   "source": [
    "## Stage 3. Testing hypotheses <a id='hypotheses'></a>"
   ]
  },
  {
   "cell_type": "markdown",
   "metadata": {
    "id": "Im936VVi_Zcu"
   },
   "source": [
    "### Hypothesis 1: comparing user behavior in two cities <a id='activity'></a>"
   ]
  },
  {
   "cell_type": "markdown",
   "metadata": {
    "id": "nwt_MuaL_Zcu"
   },
   "source": [
    "According to the first hypothesis, users from Springfield and Shelbyville listen to music differently. Test this using the data on three days of the week: Monday, Wednesday, and Friday.\n",
    "\n",
    "* Divide the users into groups by city.\n",
    "* Compare how many tracks each group played on Monday, Wednesday, and Friday.\n"
   ]
  },
  {
   "cell_type": "markdown",
   "metadata": {
    "id": "8Dw_YMmT_Zcu"
   },
   "source": [
    "For the sake of practice, perform each computation separately. \n",
    "\n",
    "Evaluate user activity in each city. Group the data by city and find the number of songs played in each group.\n",
    "\n"
   ]
  },
  {
   "cell_type": "code",
   "execution_count": 29,
   "metadata": {
    "id": "0_Qs96oh_Zcu"
   },
   "outputs": [
    {
     "name": "stdout",
     "output_type": "stream",
     "text": [
      "city\n",
      "Shelbyville    18512\n",
      "Springfield    42741\n",
      "Name: genre, dtype: int64\n"
     ]
    }
   ],
   "source": [
    "# Counting up the tracks played in each city\n",
    "print(df.groupby('city')['genre'].count()) "
   ]
  },
  {
   "cell_type": "markdown",
   "metadata": {
    "id": "dzli3w8o_Zcu"
   },
   "source": [
    "Springfield has more tracks played than Shelbyville. But that does not imply that citizens of Springfield listen to music more often. This city is simply bigger, and there are more users.\n",
    "\n",
    "Now group the data by day of the week and find the number of tracks played on Monday, Wednesday, and Friday.\n"
   ]
  },
  {
   "cell_type": "code",
   "execution_count": 30,
   "metadata": {
    "id": "uZMKjiJz_Zcu"
   },
   "outputs": [
    {
     "name": "stdout",
     "output_type": "stream",
     "text": [
      "           user_id  track  artist  genre   city  time_of_the_day\n",
      "day                                                             \n",
      "Friday       21840  21840   21840  21840  21840            21840\n",
      "Monday       21354  21354   21354  21354  21354            21354\n",
      "Wednesday    18059  18059   18059  18059  18059            18059\n"
     ]
    }
   ],
   "source": [
    "# Calculating tracks played on each of the three days\n",
    "print(df.groupby('day').count()) \n"
   ]
  },
  {
   "cell_type": "code",
   "execution_count": 31,
   "metadata": {},
   "outputs": [
    {
     "name": "stdout",
     "output_type": "stream",
     "text": [
      "day\n",
      "Friday       21840\n",
      "Monday       21354\n",
      "Wednesday    18059\n",
      "Name: track, dtype: int64\n"
     ]
    }
   ],
   "source": [
    "print(df.groupby('day')['track'].count()) "
   ]
  },
  {
   "cell_type": "markdown",
   "metadata": {
    "id": "cC2tNrlL_Zcu"
   },
   "source": [
    "Wednesday is the quietest day overall. But if we consider the two cities separately, we might come to a different conclusion."
   ]
  },
  {
   "cell_type": "markdown",
   "metadata": {
    "id": "POzs8bGa_Zcu"
   },
   "source": [
    "You have seen how grouping by city or day works. Now write a function that will group by both.\n",
    "\n",
    "Create the `number_tracks()` function to calculate the number of songs played for a given day and city. It will require two parameters:\n",
    "* day of the week\n",
    "* name of the city\n",
    "\n",
    "In the function, use a variable to store the rows from the original table, where:\n",
    "  * `'day'` column value is equal to the `day` parameter\n",
    "  * `'city'` column value is equal to the `city` parameter\n",
    "\n",
    "Apply consecutive filtering with logical indexing.\n",
    "\n",
    "Then calculate the `'user_id'` column values in the resulting table. Store the result to a new variable. Return this variable from the function."
   ]
  },
  {
   "cell_type": "code",
   "execution_count": 32,
   "metadata": {
    "id": "Nz3GdQB1_Zcu"
   },
   "outputs": [],
   "source": [
    "# <creating the function number_tracks()>\n",
    "\n",
    "def number_tracks(day, city):\n",
    "    \n",
    "    '''We declare a function with two parameters: day=, city=.\n",
    "       Let the track_list variable store the df rows where\n",
    "       the value in the 'day' column is equal to the day= parameter and, at the same time, \n",
    "       the value in the 'city' column is equal to the city= parameter (apply consecutive filtering \n",
    "       with logical indexing)'''\n",
    "    \n",
    "    track_list=df[df['day'] == day]  \n",
    "    track_list=track_list[track_list['city'] == city]\n",
    "    \n",
    "#Let the track_list_count variable store the number of 'user_id' column values in track_list (found with the count() method).   \n",
    "    track_list_count = track_list['user_id'].count()\n",
    "# Let the function return a number: the value of track_list_count. \n",
    "    return track_list_count\n",
    "\n",
    "\n",
    "\n",
    "\n",
    "\n",
    "# To see what it returns, wrap the function call in print().\n",
    "\n",
    "    \n",
    "\n"
   ]
  },
  {
   "cell_type": "markdown",
   "metadata": {
    "id": "ytf7xFrFJQ2r"
   },
   "source": [
    "Call `number_tracks()` six times, changing the parameter values, so that you retrieve the data on both cities for each of the three days."
   ]
  },
  {
   "cell_type": "code",
   "execution_count": 33,
   "metadata": {
    "id": "rJcRATNQ_Zcu"
   },
   "outputs": [
    {
     "name": "stdout",
     "output_type": "stream",
     "text": [
      "15740\n"
     ]
    }
   ],
   "source": [
    "# the number of songs played in Springfield on Monday\n",
    "print(number_tracks('Monday','Springfield'))"
   ]
  },
  {
   "cell_type": "code",
   "execution_count": 34,
   "metadata": {
    "id": "hq_ncZ5T_Zcu"
   },
   "outputs": [
    {
     "name": "stdout",
     "output_type": "stream",
     "text": [
      "5614\n"
     ]
    }
   ],
   "source": [
    "# the number of songs played in Shelbyville on Monday\n",
    "print(number_tracks('Monday','Shelbyville'))"
   ]
  },
  {
   "cell_type": "code",
   "execution_count": 35,
   "metadata": {
    "id": "_NTy2VPU_Zcu"
   },
   "outputs": [
    {
     "name": "stdout",
     "output_type": "stream",
     "text": [
      "11056\n"
     ]
    }
   ],
   "source": [
    "# the number of songs played in Springfield on Wednesday\n",
    "print(number_tracks('Wednesday','Springfield'))"
   ]
  },
  {
   "cell_type": "code",
   "execution_count": 36,
   "metadata": {
    "id": "j2y3TAwo_Zcu"
   },
   "outputs": [
    {
     "name": "stdout",
     "output_type": "stream",
     "text": [
      "7003\n"
     ]
    }
   ],
   "source": [
    "# the number of songs played in Shelbyville on Wednesday\n",
    "print(number_tracks('Wednesday','Shelbyville'))"
   ]
  },
  {
   "cell_type": "code",
   "execution_count": 37,
   "metadata": {
    "id": "vYDw5u_K_Zcu"
   },
   "outputs": [
    {
     "name": "stdout",
     "output_type": "stream",
     "text": [
      "15945\n"
     ]
    }
   ],
   "source": [
    "# the number of songs played in Springfield on Friday\n",
    "print(number_tracks('Friday','Springfield'))\n"
   ]
  },
  {
   "cell_type": "code",
   "execution_count": 38,
   "metadata": {
    "id": "8_yzFtW3_Zcu"
   },
   "outputs": [
    {
     "name": "stdout",
     "output_type": "stream",
     "text": [
      "5895\n"
     ]
    }
   ],
   "source": [
    "# the number of songs played in Shelbyville on Friday\n",
    "print(number_tracks('Friday','Shelbyville'))"
   ]
  },
  {
   "cell_type": "markdown",
   "metadata": {
    "id": "7QXffbO-_Zcu"
   },
   "source": [
    "Use `pd.DataFrame` to create a table, where\n",
    "* Column names are: `['city', 'monday', 'wednesday', 'friday']`\n",
    "* The data is the results you got from `number_tracks()`"
   ]
  },
  {
   "cell_type": "code",
   "execution_count": 39,
   "metadata": {
    "id": "APAcLpOr_Zcu"
   },
   "outputs": [
    {
     "name": "stdout",
     "output_type": "stream",
     "text": [
      "          city  monday  wednesday  friday\n",
      "0  Springfield   15740      11056   15945\n",
      "1  Shelbyville    5614       7003    5895\n"
     ]
    }
   ],
   "source": [
    "# table with results\n",
    "\n",
    "number_tracks= [['Springfield', 15740, 11056, 15945],\n",
    "          ['Shelbyville',5614, 7003, 5895 ] ]\n",
    "       \n",
    "column_names = ['city', 'monday', 'wednesday', 'friday']\n",
    "table = pd.DataFrame(data= number_tracks, columns=column_names)\n",
    "print(table)\n"
   ]
  },
  {
   "cell_type": "markdown",
   "metadata": {
    "id": "-EgPIHYu_Zcu"
   },
   "source": [
    "**Conclusions**\n",
    "\n",
    "The data reveals differences in user behavior:\n",
    "\n",
    "- In Springfield, the number of songs played peaks on Mondays and Fridays, while on Wednesday there is a decrease in activity.\n",
    "- In Shelbyville, on the contrary, users listen to music more on Wednesday. User activity on Monday and Friday is smaller.\n",
    "\n",
    "So the first hypothesis seems to be correct."
   ]
  },
  {
   "cell_type": "markdown",
   "metadata": {
    "id": "p7nFQajCVw5B"
   },
   "source": [
    "[Back to Contents](#back)"
   ]
  },
  {
   "cell_type": "markdown",
   "metadata": {
    "id": "atZAxtq4_Zcu"
   },
   "source": [
    "### Hypothesis 2: music at the beginning and end of the week <a id='week'></a>"
   ]
  },
  {
   "cell_type": "markdown",
   "metadata": {
    "id": "eXrQqXFH_Zcu"
   },
   "source": [
    "According to the second hypothesis, on Monday morning and Friday night, citizens of Springfield listen to genres that differ from ones users from Shelbyville enjoy."
   ]
  },
  {
   "cell_type": "markdown",
   "metadata": {
    "id": "S8UcW6Hw_Zcu"
   },
   "source": [
    "Get tables (make sure that the name of your combined table matches the DataFrame given in the two code blocks below):\n",
    "* For Springfield — `spr_general`\n",
    "* For Shelbyville — `shel_general`"
   ]
  },
  {
   "cell_type": "code",
   "execution_count": 40,
   "metadata": {
    "id": "qeaFfM_P_Zcu",
    "pycharm": {
     "is_executing": true
    }
   },
   "outputs": [
    {
     "name": "stdout",
     "output_type": "stream",
     "text": [
      "        user_id                          track                   artist  \\\n",
      "1      55204538    Delayed Because of Accident         Andreas Rönnberg   \n",
      "4      E2DC1FAE                    Soul People               Space Echo   \n",
      "6      4CB90AA5                           True             Roman Messer   \n",
      "7      F03E1C1F               Feeling This Way          Polina Griffith   \n",
      "8      8FA1D3BE                       L’estate              Julia Dalia   \n",
      "...         ...                            ...                      ...   \n",
      "61247  83A474E7  I Worship Only What You Bleed  The Black Dahlia Murder   \n",
      "61248  729CBB09                        My Name                   McLean   \n",
      "61250  C5E3A0D5                      Jalopiina                  unknown   \n",
      "61251  321D0506                  Freight Train            Chas McDevitt   \n",
      "61252  3A64EF84      Tell Me Sweet Little Lies             Monica Lopez   \n",
      "\n",
      "              genre         city time_of_the_day        day  \n",
      "1              rock  Springfield        14:07:09     Friday  \n",
      "4             dance  Springfield        08:34:34     Monday  \n",
      "6             dance  Springfield        13:00:07  Wednesday  \n",
      "7             dance  Springfield        20:47:49  Wednesday  \n",
      "8            ruspop  Springfield        09:17:40     Friday  \n",
      "...             ...          ...             ...        ...  \n",
      "61247  extrememetal  Springfield        21:07:12     Monday  \n",
      "61248           rnb  Springfield        13:32:28  Wednesday  \n",
      "61250    industrial  Springfield        20:09:26     Friday  \n",
      "61251          rock  Springfield        21:43:59     Friday  \n",
      "61252       country  Springfield        21:59:46     Friday  \n",
      "\n",
      "[42741 rows x 7 columns]\n"
     ]
    }
   ],
   "source": [
    "# create the spr_general table from the df rows, \n",
    "# where the value in the 'city' column is 'Springfield'\n",
    "spr_general = df[df['city'] == 'Springfield']\n",
    "\n",
    "\n",
    "print(spr_general)\n",
    "\n",
    "\n"
   ]
  },
  {
   "cell_type": "markdown",
   "metadata": {},
   "source": [
    "<div class=\"alert alert-success\">\n",
    "\n",
    "    \n",
    "Additionally there are other methods that could be helpful to filter your data, for example:`query()`.\n",
    "\n",
    "    \n",
    "`spr_general = df.query('city == \"Springfield\"')`\n",
    "    \n",
    "You can read about them additionally here: \n",
    "https://towardsdatascience.com/10-examples-that-will-make-you-use-pandas-query-function-more-often-a8fb3e9361cb\n",
    "https://towardsdatascience.com/how-to-use-loc-and-iloc-for-selecting-data-in-pandas-bd09cb4c3d79    "
   ]
  },
  {
   "cell_type": "code",
   "execution_count": 41,
   "metadata": {},
   "outputs": [],
   "source": [
    "#spr_general = df.query('city == \"Springfield\"')\n",
    "#print(spr_general)"
   ]
  },
  {
   "cell_type": "code",
   "execution_count": 42,
   "metadata": {
    "id": "ORaVRKto_Zcu"
   },
   "outputs": [
    {
     "name": "stdout",
     "output_type": "stream",
     "text": [
      "        user_id                              track              artist  \\\n",
      "0      FFB692EC                  Kamigata To Boots    The Mass Missile   \n",
      "2        20EC38                  Funiculì funiculà         Mario Lanza   \n",
      "3      A3DD03C9              Dragons in the Sunset          Fire + Ice   \n",
      "5      842029A1                             Chains            Obladaet   \n",
      "9      E772D5C0                          Pessimist             unknown   \n",
      "...         ...                                ...                 ...   \n",
      "61239  D94F810B        Theme from the Walking Dead  Proyecto Halloween   \n",
      "61240  BC8EC5CF       Red Lips: Gta (Rover Rework)               Rover   \n",
      "61241  29E04611                       Bre Petrunko       Perunika Trio   \n",
      "61242  1B91C621             (Hello) Cloud Mountain     sleepmakeswaves   \n",
      "61249  D08D4A55  Maybe One Day (feat. Black Spade)         Blu & Exile   \n",
      "\n",
      "            genre         city time_of_the_day        day  \n",
      "0            rock  Shelbyville        20:28:33  Wednesday  \n",
      "2             pop  Shelbyville        20:58:07  Wednesday  \n",
      "3            folk  Shelbyville        08:37:09     Monday  \n",
      "5          rusrap  Shelbyville        13:09:41     Friday  \n",
      "9           dance  Shelbyville        21:20:49  Wednesday  \n",
      "...           ...          ...             ...        ...  \n",
      "61239        film  Shelbyville        21:14:40     Monday  \n",
      "61240  electronic  Shelbyville        21:06:50     Monday  \n",
      "61241       world  Shelbyville        13:56:00     Monday  \n",
      "61242    postrock  Shelbyville        09:22:13     Monday  \n",
      "61249      hiphop  Shelbyville        10:00:00     Monday  \n",
      "\n",
      "[18512 rows x 7 columns]\n"
     ]
    }
   ],
   "source": [
    "# create the shel_general from the df rows,\n",
    "# where the value in the 'city' column is 'Shelbyville'\n",
    "shel_general=df[df['city'] == 'Shelbyville' ]\n",
    "print(shel_general)\n"
   ]
  },
  {
   "cell_type": "markdown",
   "metadata": {
    "id": "MEJV-CX2_Zcu"
   },
   "source": [
    "Write the `genre_weekday()` function with four parameters:\n",
    "* A table for data (`df`)\n",
    "* The day of the week (`day`)\n",
    "* The first timestamp, in 'hh:mm' format (`time1`)\n",
    "* The last timestamp, in 'hh:mm' format (`time2`)\n",
    "\n",
    "The function should return info on the 15 most popular genres on a given day within the period between the two timestamps."
   ]
  },
  {
   "cell_type": "code",
   "execution_count": 43,
   "metadata": {},
   "outputs": [],
   "source": [
    "def genre_weekday(df, day, time1, time2):\n",
    "    '''Write the genre_weekday() function with four parameters:\n",
    "       A table for data (df)\n",
    "       The day of the week (day)\n",
    "       The first timestamp, in 'hh:mm' format (time1)\n",
    "       The last timestamp, in 'hh:mm' format (time2)'''\n",
    "    # Let the genre_df variable store the rows that meet several conditions:\n",
    "    #the value in the 'day' column is equal to the value of the day= argument:\n",
    "\n",
    "    genre_df = df[df['day'] == day]\n",
    "    \n",
    "    # the value in the 'time' column is greater than the value of the time1= argument:\n",
    "    \n",
    "    genre_df = genre_df[genre_df['time_of_the_day']> time1]\n",
    "    \n",
    "    #the value in the 'time' column is smaller than the value of the time2= argument\n",
    "    # I applied consecutive filtering with logical indexing.\n",
    "    \n",
    "    genre_df =genre_df [genre_df['time_of_the_day'] < time2 ]\n",
    "    \n",
    "    # group the filtered DataFrame by the column with the names of genres, take the genre column, \n",
    "    #and find the number of rows for each genre with the count() method\n",
    "\n",
    "    genre_df_count=genre_df.groupby('genre')['day'].count()\n",
    "    \n",
    "    #    # sort the result in descending order (so that the most popular genres come first \n",
    "    #in the morning (from 7AM to 11AM) and on Friday evening (from 17:00 to 23:00):\n",
    "\n",
    "    \n",
    "    genre_df_sorted = genre_df_count.sort_values(ascending= False)\n",
    "    \n",
    "    # Return a Series object with the first 15 genre_df_sorted value - the 15 most\n",
    "\n",
    "    \n",
    "    return genre_df_sorted[:15]\n",
    "   "
   ]
  },
  {
   "cell_type": "code",
   "execution_count": 44,
   "metadata": {
    "id": "EzXVRE1o_Zcu"
   },
   "outputs": [
    {
     "name": "stdout",
     "output_type": "stream",
     "text": [
      "genre\n",
      "pop            713\n",
      "rock           517\n",
      "dance          495\n",
      "electronic     482\n",
      "hiphop         273\n",
      "world          208\n",
      "ruspop         170\n",
      "classical      163\n",
      "alternative    163\n",
      "rusrap         142\n",
      "jazz           111\n",
      "unknown        110\n",
      "soundtrack     105\n",
      "rnb             90\n",
      "metal           88\n",
      "Name: day, dtype: int64\n"
     ]
    }
   ],
   "source": [
    "# calling the function for Friday evening in Springfield\n",
    "print(genre_weekday(spr_general, 'Friday', '17:00', '23:00' ))"
   ]
  },
  {
   "cell_type": "code",
   "execution_count": 45,
   "metadata": {
    "id": "kwUcHPdy_Zcu"
   },
   "outputs": [
    {
     "name": "stdout",
     "output_type": "stream",
     "text": [
      "genre\n",
      "pop            218\n",
      "dance          182\n",
      "rock           162\n",
      "electronic     147\n",
      "hiphop          80\n",
      "ruspop          64\n",
      "alternative     58\n",
      "rusrap          55\n",
      "jazz            44\n",
      "classical       40\n",
      "world           36\n",
      "rap             32\n",
      "soundtrack      31\n",
      "rnb             27\n",
      "metal           27\n",
      "Name: day, dtype: int64\n"
     ]
    }
   ],
   "source": [
    "# calling the function for Monday morning in Shelbyville (use shel_general instead of the df table)\n",
    "print(genre_weekday(shel_general, 'Monday', '07:00', '11:00' ))\n"
   ]
  },
  {
   "cell_type": "code",
   "execution_count": 46,
   "metadata": {
    "id": "JZaEKu5v_Zcu"
   },
   "outputs": [
    {
     "name": "stdout",
     "output_type": "stream",
     "text": [
      "genre\n",
      "pop            256\n",
      "rock           216\n",
      "electronic     216\n",
      "dance          210\n",
      "hiphop          97\n",
      "alternative     63\n",
      "jazz            61\n",
      "classical       60\n",
      "rusrap          59\n",
      "world           54\n",
      "unknown         47\n",
      "ruspop          47\n",
      "soundtrack      40\n",
      "metal           39\n",
      "rap             36\n",
      "Name: day, dtype: int64\n"
     ]
    }
   ],
   "source": [
    "# calling the function for Friday evening in Shelbyville\n",
    "print(genre_weekday(shel_general, 'Friday', '17:00', '23:00' ))"
   ]
  },
  {
   "cell_type": "markdown",
   "metadata": {
    "id": "wrCe4MNX_Zcu"
   },
   "source": [
    "**Conclusion**\n",
    "\n",
    "Having compared the top 15 genres on Monday morning, we can draw the following conclusions:\n",
    "\n",
    "1. Users from Springfield and Shelbyville listen to similar music. The top five genres are the same, only rock and electronic have switched places.\n",
    "\n",
    "2. In Springfield, the number of missing values turned out to be so big that the value `'unknown'` came in 10th. This means that missing values make up a considerable portion of the data, which may be a basis for questioning the reliability of our conclusions.\n",
    "\n",
    "For Friday evening, the situation is similar. Individual genres vary somewhat, but on the whole, the top 15 is similar for the two cities.\n",
    "\n",
    "Thus, the second hypothesis has been partially proven true:\n",
    "* Users listen to similar music at the beginning and end of the week.\n",
    "* There is no major difference between Springfield and Shelbyville. In both cities, pop is the most popular genre.\n",
    "\n",
    "However, the number of missing values makes this result questionable. In Springfield, there are so many that they affect our top 15. Were we not missing these values, things might look different."
   ]
  },
  {
   "cell_type": "markdown",
   "metadata": {
    "id": "jLmXgdanVyhP"
   },
   "source": [
    "[Back to Contents](#back)"
   ]
  },
  {
   "cell_type": "markdown",
   "metadata": {
    "id": "JolODAqr_Zcu"
   },
   "source": [
    "### Hypothesis 3: genre preferences in Springfield and Shelbyville <a id='genre'></a>\n",
    "\n",
    "Hypothesis: Shelbyville loves rap music. Springfield's citizens are more into pop."
   ]
  },
  {
   "cell_type": "markdown",
   "metadata": {
    "id": "DlegSvaT_Zcu"
   },
   "source": [
    "Group the `spr_general` table by genre and find the number of songs played for each genre with the `count()` method. Then sort the result in descending order and store it to `spr_genres`."
   ]
  },
  {
   "cell_type": "code",
   "execution_count": 47,
   "metadata": {
    "id": "r19lIPke_Zcu"
   },
   "outputs": [],
   "source": [
    "# on one line: group the spr_general table by the 'genre' column, \n",
    "spr_genres= spr_general.groupby('genre')['user_id'].count().sort_values(ascending= False)\n",
    "\n",
    "# count the 'genre' values with count() in the grouping, \n",
    "# sort the resulting Series in descending order, and store it to spr_genres"
   ]
  },
  {
   "cell_type": "markdown",
   "metadata": {
    "id": "6kMuomxTiIr8"
   },
   "source": [
    "Print the first 10 rows from `spr_genres`:"
   ]
  },
  {
   "cell_type": "code",
   "execution_count": 48,
   "metadata": {
    "id": "WhCSooF8_Zcv"
   },
   "outputs": [
    {
     "name": "stdout",
     "output_type": "stream",
     "text": [
      "genre\n",
      "pop            5892\n",
      "dance          4435\n",
      "rock           3965\n",
      "electronic     3786\n",
      "hiphop         2096\n",
      "classical      1616\n",
      "world          1432\n",
      "alternative    1379\n",
      "ruspop         1372\n",
      "rusrap         1161\n",
      "Name: user_id, dtype: int64\n"
     ]
    }
   ],
   "source": [
    "# printing the first 10 rows of spr_genres\n",
    "print(spr_genres.head(10))"
   ]
  },
  {
   "cell_type": "markdown",
   "metadata": {
    "id": "cnPG2vnN_Zcv"
   },
   "source": [
    "Now do the same with the data on Shelbyville.\n",
    "\n",
    "Group the `shel_general` table by genre and find the number of songs played for each genre. Then sort the result in descending order and store it to the `shel_genres` table:\n"
   ]
  },
  {
   "cell_type": "code",
   "execution_count": 49,
   "metadata": {
    "id": "gluLIpE7_Zcv"
   },
   "outputs": [],
   "source": [
    "# on one line: group the shel_general table by the 'genre' column, \n",
    "# count the 'genre' values in the grouping with count(), \n",
    "# sort the resulting Series in descending order and store it to shel_genres\n",
    "shel_genres = spr_general.groupby('genre')['user_id'].count().sort_values(ascending= False)"
   ]
  },
  {
   "cell_type": "markdown",
   "metadata": {
    "id": "5Doha_ODgyQ8"
   },
   "source": [
    "Print the first 10 rows of `shel_genres`:"
   ]
  },
  {
   "cell_type": "code",
   "execution_count": 50,
   "metadata": {
    "id": "uaGJHjVU_Zcv"
   },
   "outputs": [
    {
     "name": "stdout",
     "output_type": "stream",
     "text": [
      "genre\n",
      "pop            5892\n",
      "dance          4435\n",
      "rock           3965\n",
      "electronic     3786\n",
      "hiphop         2096\n",
      "classical      1616\n",
      "world          1432\n",
      "alternative    1379\n",
      "ruspop         1372\n",
      "rusrap         1161\n",
      "Name: user_id, dtype: int64\n"
     ]
    }
   ],
   "source": [
    "# printing the first 10 rows from shel_genres\n",
    "print(shel_genres.head(10))"
   ]
  },
  {
   "cell_type": "markdown",
   "metadata": {
    "id": "RY51YJYu_Zcv"
   },
   "source": [
    "**Conclusion**"
   ]
  },
  {
   "cell_type": "markdown",
   "metadata": {
    "id": "nVhnJEm__Zcv"
   },
   "source": [
    "The hypothesis has been partially proven true:\n",
    "* Pop music is the most popular genre in Springfield, as expected.\n",
    "* However, pop music turned out to be equally popular in Springfield and Shelbyville, and rap wasn't in the top 5 for either city.\n"
   ]
  },
  {
   "cell_type": "markdown",
   "metadata": {
    "id": "Byr0RfpPVz14"
   },
   "source": [
    "[Back to Contents](#back)"
   ]
  },
  {
   "cell_type": "markdown",
   "metadata": {
    "id": "ykKQ0N65_Zcv"
   },
   "source": [
    "# Findings <a id='end'></a>"
   ]
  },
  {
   "cell_type": "markdown",
   "metadata": {
    "id": "tjUwbHb3_Zcv"
   },
   "source": [
    "We have tested the following three hypotheses:\n",
    "\n",
    "1. User activity differs depending on the day of the week and from city to city. \n",
    "2. On Monday mornings, Springfield and Shelbyville residents listen to different genres. This is also true for Friday evenings. \n",
    "3. Springfield and Shelbyville listeners have different preferences. In both Springfield and Shelbyville, they prefer pop.\n",
    "\n",
    "After analyzing the data, we concluded:\n",
    "\n",
    "1. User activity in Springfield and Shelbyville depends on the day of the week, though the cities vary in different ways. \n",
    "\n",
    "The first hypothesis is fully accepted.\n",
    "\n",
    "2. Musical preferences do not vary significantly over the course of the week in both Springfield and Shelbyville. We can see small differences in order on Mondays, but:\n",
    "* In Springfield and Shelbyville, people listen to pop music most.\n",
    "\n",
    "So we can't accept this hypothesis. We must also keep in mind that the result could have been different if not for the missing values.\n",
    "\n",
    "3. It turns out that the musical preferences of users from Springfield and Shelbyville are quite similar.\n",
    "\n",
    "The third hypothesis is rejected. If there is any difference in preferences, it cannot be seen from this data.\n",
    "\n",
    "### Note \n",
    "In real projects, research involves statistical hypothesis testing, which is more precise and more quantitative. Also note that you cannot always draw conclusions about an entire city based on the data from just one source.\n",
    "\n"
   ]
  },
  {
   "cell_type": "markdown",
   "metadata": {
    "id": "Ju4AHDSgV1FE"
   },
   "source": [
    "[Back to Contents](#back)"
   ]
  }
 ],
 "metadata": {
  "ExecuteTimeLog": [
   {
    "duration": 45,
    "start_time": "2022-07-16T12:16:35.303Z"
   },
   {
    "duration": 6,
    "start_time": "2022-07-16T12:16:40.232Z"
   },
   {
    "duration": 379,
    "start_time": "2022-07-16T12:16:43.312Z"
   },
   {
    "duration": 3,
    "start_time": "2022-07-16T12:16:46.398Z"
   },
   {
    "duration": 30,
    "start_time": "2022-07-16T12:17:39.010Z"
   },
   {
    "duration": 8,
    "start_time": "2022-07-16T12:17:57.011Z"
   },
   {
    "duration": 47,
    "start_time": "2022-07-16T12:21:23.117Z"
   },
   {
    "duration": 9,
    "start_time": "2022-07-16T12:21:34.970Z"
   },
   {
    "duration": 218,
    "start_time": "2022-07-16T12:25:28.076Z"
   },
   {
    "duration": 175,
    "start_time": "2022-07-16T12:25:31.592Z"
   },
   {
    "duration": 10,
    "start_time": "2022-07-16T12:25:46.272Z"
   },
   {
    "duration": 8,
    "start_time": "2022-07-16T12:36:23.724Z"
   },
   {
    "duration": 11,
    "start_time": "2022-07-16T12:41:55.096Z"
   },
   {
    "duration": 27,
    "start_time": "2022-07-16T12:45:09.275Z"
   },
   {
    "duration": 2,
    "start_time": "2022-07-16T12:58:44.177Z"
   },
   {
    "duration": 2,
    "start_time": "2022-07-16T12:58:49.709Z"
   },
   {
    "duration": 8,
    "start_time": "2022-07-16T13:07:44.284Z"
   },
   {
    "duration": 3,
    "start_time": "2022-07-16T13:08:27.503Z"
   },
   {
    "duration": 9,
    "start_time": "2022-07-16T13:08:30.679Z"
   },
   {
    "duration": 8,
    "start_time": "2022-07-16T13:14:39.276Z"
   },
   {
    "duration": 8,
    "start_time": "2022-07-16T13:15:05.436Z"
   },
   {
    "duration": 8,
    "start_time": "2022-07-16T13:16:32.115Z"
   },
   {
    "duration": 58,
    "start_time": "2022-07-16T13:17:17.220Z"
   },
   {
    "duration": 47,
    "start_time": "2022-07-16T13:18:03.163Z"
   },
   {
    "duration": 52,
    "start_time": "2022-07-16T13:18:18.936Z"
   },
   {
    "duration": 67,
    "start_time": "2022-07-16T13:19:39.216Z"
   },
   {
    "duration": 70,
    "start_time": "2022-07-16T13:19:51.962Z"
   },
   {
    "duration": 56,
    "start_time": "2022-07-16T13:19:58.721Z"
   },
   {
    "duration": 3,
    "start_time": "2022-07-16T13:21:07.132Z"
   },
   {
    "duration": 4,
    "start_time": "2022-07-16T13:21:58.567Z"
   },
   {
    "duration": 2,
    "start_time": "2022-07-16T13:24:58.639Z"
   },
   {
    "duration": 8,
    "start_time": "2022-07-16T13:25:01.010Z"
   },
   {
    "duration": 6,
    "start_time": "2022-07-16T13:25:19.329Z"
   },
   {
    "duration": 45,
    "start_time": "2022-07-16T13:30:51.769Z"
   },
   {
    "duration": 152,
    "start_time": "2022-07-16T13:31:50.023Z"
   },
   {
    "duration": 8,
    "start_time": "2022-07-16T13:31:52.600Z"
   },
   {
    "duration": 28,
    "start_time": "2022-07-16T13:32:03.886Z"
   },
   {
    "duration": 8,
    "start_time": "2022-07-16T13:35:21.705Z"
   },
   {
    "duration": 61,
    "start_time": "2022-07-16T13:35:25.471Z"
   },
   {
    "duration": 19,
    "start_time": "2022-07-16T13:45:35.582Z"
   },
   {
    "duration": 4,
    "start_time": "2022-07-16T13:45:54.774Z"
   },
   {
    "duration": 3,
    "start_time": "2022-07-16T13:46:03.625Z"
   },
   {
    "duration": 51,
    "start_time": "2022-07-16T13:46:19.269Z"
   },
   {
    "duration": 8,
    "start_time": "2022-07-16T13:46:29.262Z"
   },
   {
    "duration": 16,
    "start_time": "2022-07-16T13:59:00.109Z"
   },
   {
    "duration": 41,
    "start_time": "2022-07-16T13:59:09.689Z"
   },
   {
    "duration": 42,
    "start_time": "2022-07-16T13:59:18.559Z"
   },
   {
    "duration": 368,
    "start_time": "2022-07-16T14:12:19.905Z"
   },
   {
    "duration": 47,
    "start_time": "2022-07-16T14:13:41.320Z"
   },
   {
    "duration": 9,
    "start_time": "2022-07-16T14:15:38.582Z"
   },
   {
    "duration": 390,
    "start_time": "2022-07-16T14:17:15.735Z"
   },
   {
    "duration": 171,
    "start_time": "2022-07-16T14:17:27.383Z"
   },
   {
    "duration": 8,
    "start_time": "2022-07-16T14:19:44.261Z"
   },
   {
    "duration": 7,
    "start_time": "2022-07-16T14:58:59.108Z"
   },
   {
    "duration": 29,
    "start_time": "2022-07-16T14:59:22.956Z"
   },
   {
    "duration": 10,
    "start_time": "2022-07-16T15:26:57.984Z"
   },
   {
    "duration": 81,
    "start_time": "2022-07-16T15:36:59.299Z"
   },
   {
    "duration": 60,
    "start_time": "2022-07-16T15:39:51.372Z"
   },
   {
    "duration": 50,
    "start_time": "2022-07-16T15:40:19.423Z"
   },
   {
    "duration": 48,
    "start_time": "2022-07-16T15:41:18.812Z"
   },
   {
    "duration": 52,
    "start_time": "2022-07-16T15:41:31.965Z"
   },
   {
    "duration": 44,
    "start_time": "2022-07-16T15:42:53.317Z"
   },
   {
    "duration": 44,
    "start_time": "2022-07-16T15:43:27.701Z"
   },
   {
    "duration": 44,
    "start_time": "2022-07-16T15:43:35.957Z"
   },
   {
    "duration": 58,
    "start_time": "2022-07-16T15:43:43.806Z"
   },
   {
    "duration": 54,
    "start_time": "2022-07-16T15:54:33.226Z"
   },
   {
    "duration": 7,
    "start_time": "2022-07-16T15:55:44.277Z"
   },
   {
    "duration": 7,
    "start_time": "2022-07-16T16:21:18.112Z"
   },
   {
    "duration": 6,
    "start_time": "2022-07-16T16:22:48.588Z"
   },
   {
    "duration": 7,
    "start_time": "2022-07-16T16:23:42.782Z"
   },
   {
    "duration": 7,
    "start_time": "2022-07-16T16:24:30.603Z"
   },
   {
    "duration": 3,
    "start_time": "2022-07-16T16:25:53.376Z"
   },
   {
    "duration": 7,
    "start_time": "2022-07-16T16:26:21.301Z"
   },
   {
    "duration": 41,
    "start_time": "2022-07-16T16:27:51.330Z"
   },
   {
    "duration": 6,
    "start_time": "2022-07-16T16:29:40.966Z"
   },
   {
    "duration": 6,
    "start_time": "2022-07-16T16:30:40.199Z"
   },
   {
    "duration": 360,
    "start_time": "2022-07-16T16:30:52.625Z"
   },
   {
    "duration": 151,
    "start_time": "2022-07-16T16:30:58.262Z"
   },
   {
    "duration": 9,
    "start_time": "2022-07-16T16:31:01.966Z"
   },
   {
    "duration": 41,
    "start_time": "2022-07-16T16:31:05.370Z"
   },
   {
    "duration": 4,
    "start_time": "2022-07-16T16:31:10.511Z"
   },
   {
    "duration": 29,
    "start_time": "2022-07-16T16:31:26.570Z"
   },
   {
    "duration": 10,
    "start_time": "2022-07-16T16:31:29.771Z"
   },
   {
    "duration": 10,
    "start_time": "2022-07-16T16:42:13.477Z"
   },
   {
    "duration": 13,
    "start_time": "2022-07-16T16:45:39.801Z"
   },
   {
    "duration": 13,
    "start_time": "2022-07-16T16:45:55.973Z"
   },
   {
    "duration": 3,
    "start_time": "2022-07-16T16:45:59.757Z"
   },
   {
    "duration": 52,
    "start_time": "2022-07-16T16:46:34.273Z"
   },
   {
    "duration": 380,
    "start_time": "2022-07-16T16:46:45.081Z"
   },
   {
    "duration": 155,
    "start_time": "2022-07-16T16:46:47.991Z"
   },
   {
    "duration": 8,
    "start_time": "2022-07-16T16:46:50.218Z"
   },
   {
    "duration": 30,
    "start_time": "2022-07-16T16:46:53.237Z"
   },
   {
    "duration": 3,
    "start_time": "2022-07-16T16:46:58.052Z"
   },
   {
    "duration": 14,
    "start_time": "2022-07-16T16:47:00.995Z"
   },
   {
    "duration": 3,
    "start_time": "2022-07-16T16:47:03.670Z"
   },
   {
    "duration": 14,
    "start_time": "2022-07-16T16:52:13.129Z"
   },
   {
    "duration": 3,
    "start_time": "2022-07-16T16:52:15.046Z"
   },
   {
    "duration": 13,
    "start_time": "2022-07-16T16:53:20.582Z"
   },
   {
    "duration": 3,
    "start_time": "2022-07-16T16:53:23.385Z"
   },
   {
    "duration": 10,
    "start_time": "2022-07-16T16:53:32.718Z"
   },
   {
    "duration": 3,
    "start_time": "2022-07-16T16:53:37.569Z"
   },
   {
    "duration": 8,
    "start_time": "2022-07-16T16:53:57.755Z"
   },
   {
    "duration": 3,
    "start_time": "2022-07-16T16:54:00.152Z"
   },
   {
    "duration": 9,
    "start_time": "2022-07-16T16:54:24.424Z"
   },
   {
    "duration": 8,
    "start_time": "2022-07-16T16:54:27.782Z"
   },
   {
    "duration": 3,
    "start_time": "2022-07-16T16:54:32.357Z"
   },
   {
    "duration": 8,
    "start_time": "2022-07-16T16:54:59.923Z"
   },
   {
    "duration": 8,
    "start_time": "2022-07-16T16:55:03.112Z"
   },
   {
    "duration": 3,
    "start_time": "2022-07-16T16:55:05.599Z"
   },
   {
    "duration": 76,
    "start_time": "2022-07-16T16:55:43.011Z"
   },
   {
    "duration": 65,
    "start_time": "2022-07-16T16:55:47.058Z"
   },
   {
    "duration": 4,
    "start_time": "2022-07-16T16:56:02.042Z"
   },
   {
    "duration": 47,
    "start_time": "2022-07-16T16:56:04.856Z"
   },
   {
    "duration": 4,
    "start_time": "2022-07-16T16:56:12.366Z"
   },
   {
    "duration": 3,
    "start_time": "2022-07-16T16:56:30.324Z"
   },
   {
    "duration": 194,
    "start_time": "2022-07-16T16:56:32.453Z"
   },
   {
    "duration": 6,
    "start_time": "2022-07-16T16:56:34.336Z"
   },
   {
    "duration": 31,
    "start_time": "2022-07-16T16:56:45.906Z"
   },
   {
    "duration": 3,
    "start_time": "2022-07-16T16:56:51.354Z"
   },
   {
    "duration": 46,
    "start_time": "2022-07-16T16:56:53.823Z"
   },
   {
    "duration": 3,
    "start_time": "2022-07-16T16:57:11.354Z"
   },
   {
    "duration": 49,
    "start_time": "2022-07-16T17:03:01.917Z"
   },
   {
    "duration": 50,
    "start_time": "2022-07-16T17:03:04.105Z"
   },
   {
    "duration": 4,
    "start_time": "2022-07-16T17:03:09.716Z"
   },
   {
    "duration": 403,
    "start_time": "2022-07-16T17:03:20.233Z"
   },
   {
    "duration": 171,
    "start_time": "2022-07-16T17:03:22.401Z"
   },
   {
    "duration": 8,
    "start_time": "2022-07-16T17:03:24.581Z"
   },
   {
    "duration": 28,
    "start_time": "2022-07-16T17:03:28.936Z"
   },
   {
    "duration": 4,
    "start_time": "2022-07-16T17:03:33.928Z"
   },
   {
    "duration": 48,
    "start_time": "2022-07-16T17:03:36.363Z"
   },
   {
    "duration": 3,
    "start_time": "2022-07-16T17:03:45.555Z"
   },
   {
    "duration": 43,
    "start_time": "2022-07-16T17:03:58.506Z"
   },
   {
    "duration": 64,
    "start_time": "2022-07-16T17:05:02.988Z"
   },
   {
    "duration": 60,
    "start_time": "2022-07-16T17:05:57.184Z"
   },
   {
    "duration": 15,
    "start_time": "2022-07-16T17:07:09.716Z"
   },
   {
    "duration": 4,
    "start_time": "2022-07-16T17:07:14.729Z"
   },
   {
    "duration": 26,
    "start_time": "2022-07-16T17:08:17.969Z"
   },
   {
    "duration": 49,
    "start_time": "2022-07-16T17:13:39.463Z"
   },
   {
    "duration": 55,
    "start_time": "2022-07-16T17:14:54.599Z"
   },
   {
    "duration": 850,
    "start_time": "2022-07-16T17:15:05.775Z"
   },
   {
    "duration": 862,
    "start_time": "2022-07-16T17:15:33.965Z"
   },
   {
    "duration": 63,
    "start_time": "2022-07-16T17:52:32.793Z"
   },
   {
    "duration": 17,
    "start_time": "2022-07-16T17:52:58.784Z"
   },
   {
    "duration": 1248,
    "start_time": "2022-07-16T17:53:38.301Z"
   },
   {
    "duration": 75,
    "start_time": "2022-07-16T17:53:53.148Z"
   },
   {
    "duration": 56,
    "start_time": "2022-07-16T17:53:57.228Z"
   },
   {
    "duration": 41,
    "start_time": "2022-07-16T17:54:26.864Z"
   },
   {
    "duration": 66,
    "start_time": "2022-07-16T18:59:54.338Z"
   },
   {
    "duration": 74,
    "start_time": "2022-07-16T19:00:48.900Z"
   },
   {
    "duration": 58,
    "start_time": "2022-07-16T19:01:03.071Z"
   },
   {
    "duration": 842,
    "start_time": "2022-07-16T19:03:39.827Z"
   },
   {
    "duration": 7,
    "start_time": "2022-07-16T19:12:09.688Z"
   },
   {
    "duration": 77,
    "start_time": "2022-07-16T19:33:44.654Z"
   },
   {
    "duration": 81,
    "start_time": "2022-07-16T19:34:02.056Z"
   },
   {
    "duration": 49,
    "start_time": "2022-07-16T19:34:35.715Z"
   },
   {
    "duration": 60,
    "start_time": "2022-07-16T19:34:44.851Z"
   },
   {
    "duration": 15,
    "start_time": "2022-07-16T19:39:38.471Z"
   },
   {
    "duration": 10,
    "start_time": "2022-07-16T19:39:51.394Z"
   },
   {
    "duration": 3,
    "start_time": "2022-07-16T19:39:57.477Z"
   },
   {
    "duration": 5,
    "start_time": "2022-07-16T19:40:20.511Z"
   },
   {
    "duration": 10,
    "start_time": "2022-07-16T19:41:02.792Z"
   },
   {
    "duration": 9,
    "start_time": "2022-07-16T19:42:19.240Z"
   },
   {
    "duration": 11,
    "start_time": "2022-07-16T19:45:09.058Z"
   },
   {
    "duration": 4,
    "start_time": "2022-07-16T19:45:22.028Z"
   },
   {
    "duration": 12,
    "start_time": "2022-07-16T19:46:29.868Z"
   },
   {
    "duration": 490,
    "start_time": "2022-07-16T19:53:04.048Z"
   },
   {
    "duration": 4,
    "start_time": "2022-07-16T19:53:24.042Z"
   },
   {
    "duration": 8,
    "start_time": "2022-07-16T19:53:55.143Z"
   },
   {
    "duration": 9,
    "start_time": "2022-07-16T19:54:21.229Z"
   },
   {
    "duration": 10,
    "start_time": "2022-07-16T19:54:49.337Z"
   },
   {
    "duration": 5,
    "start_time": "2022-07-16T19:54:58.392Z"
   },
   {
    "duration": 48,
    "start_time": "2022-07-16T20:03:02.262Z"
   },
   {
    "duration": 14,
    "start_time": "2022-07-16T20:04:32.881Z"
   },
   {
    "duration": 12,
    "start_time": "2022-07-16T20:22:02.385Z"
   },
   {
    "duration": 8,
    "start_time": "2022-07-16T20:22:56.845Z"
   },
   {
    "duration": 6,
    "start_time": "2022-07-16T20:23:26.881Z"
   },
   {
    "duration": 13,
    "start_time": "2022-07-16T20:30:35.529Z"
   },
   {
    "duration": 17,
    "start_time": "2022-07-16T20:30:54.356Z"
   },
   {
    "duration": 9,
    "start_time": "2022-07-16T20:31:19.576Z"
   },
   {
    "duration": 74,
    "start_time": "2022-07-16T20:37:27.063Z"
   },
   {
    "duration": 54,
    "start_time": "2022-07-16T20:37:40.705Z"
   },
   {
    "duration": 62,
    "start_time": "2022-07-16T20:38:16.749Z"
   },
   {
    "duration": 23,
    "start_time": "2022-07-16T20:40:45.437Z"
   },
   {
    "duration": 9,
    "start_time": "2022-07-16T20:41:19.729Z"
   },
   {
    "duration": 4,
    "start_time": "2022-07-16T20:41:45.715Z"
   },
   {
    "duration": 7,
    "start_time": "2022-07-16T20:46:18.575Z"
   },
   {
    "duration": 7,
    "start_time": "2022-07-16T20:50:04.001Z"
   },
   {
    "duration": 367,
    "start_time": "2022-07-17T08:25:02.754Z"
   },
   {
    "duration": 228,
    "start_time": "2022-07-17T08:25:05.093Z"
   },
   {
    "duration": 9,
    "start_time": "2022-07-17T08:25:07.392Z"
   },
   {
    "duration": 29,
    "start_time": "2022-07-17T08:25:16.759Z"
   },
   {
    "duration": 4,
    "start_time": "2022-07-17T08:25:23.361Z"
   },
   {
    "duration": 13,
    "start_time": "2022-07-17T08:26:25.436Z"
   },
   {
    "duration": 3,
    "start_time": "2022-07-17T08:26:32.668Z"
   },
   {
    "duration": 22,
    "start_time": "2022-07-17T08:28:36.194Z"
   },
   {
    "duration": 43,
    "start_time": "2022-07-17T08:28:40.700Z"
   },
   {
    "duration": 23,
    "start_time": "2022-07-17T08:28:49.698Z"
   },
   {
    "duration": 56,
    "start_time": "2022-07-17T08:29:07.426Z"
   },
   {
    "duration": 70,
    "start_time": "2022-07-17T08:29:14.192Z"
   },
   {
    "duration": 51,
    "start_time": "2022-07-17T08:29:18.365Z"
   },
   {
    "duration": 7,
    "start_time": "2022-07-17T08:29:23.396Z"
   },
   {
    "duration": 65,
    "start_time": "2022-07-17T09:06:37.095Z"
   },
   {
    "duration": 3,
    "start_time": "2022-07-17T09:06:51.737Z"
   },
   {
    "duration": 9,
    "start_time": "2022-07-17T09:09:18.725Z"
   },
   {
    "duration": 9,
    "start_time": "2022-07-17T09:11:04.451Z"
   },
   {
    "duration": 9,
    "start_time": "2022-07-17T09:12:56.196Z"
   },
   {
    "duration": 3,
    "start_time": "2022-07-17T09:13:51.015Z"
   },
   {
    "duration": 23,
    "start_time": "2022-07-17T09:13:52.808Z"
   },
   {
    "duration": 7,
    "start_time": "2022-07-17T09:17:27.245Z"
   },
   {
    "duration": 9,
    "start_time": "2022-07-17T09:59:51.268Z"
   },
   {
    "duration": 37,
    "start_time": "2022-07-17T10:00:40.900Z"
   },
   {
    "duration": 3,
    "start_time": "2022-07-17T10:00:52.958Z"
   },
   {
    "duration": 22,
    "start_time": "2022-07-17T10:00:55.657Z"
   },
   {
    "duration": 7,
    "start_time": "2022-07-17T10:01:01.272Z"
   },
   {
    "duration": 30,
    "start_time": "2022-07-17T10:05:27.769Z"
   },
   {
    "duration": 28,
    "start_time": "2022-07-17T10:07:09.552Z"
   },
   {
    "duration": 169,
    "start_time": "2022-07-17T10:45:54.411Z"
   },
   {
    "duration": 7,
    "start_time": "2022-07-17T10:45:56.741Z"
   },
   {
    "duration": 28,
    "start_time": "2022-07-17T10:46:00.496Z"
   },
   {
    "duration": 458,
    "start_time": "2022-07-17T10:46:07.205Z"
   },
   {
    "duration": 173,
    "start_time": "2022-07-17T10:46:09.123Z"
   },
   {
    "duration": 11,
    "start_time": "2022-07-17T10:46:11.516Z"
   },
   {
    "duration": 29,
    "start_time": "2022-07-17T10:46:14.650Z"
   },
   {
    "duration": 5,
    "start_time": "2022-07-17T10:46:21.974Z"
   },
   {
    "duration": 14,
    "start_time": "2022-07-17T10:46:24.599Z"
   },
   {
    "duration": 30,
    "start_time": "2022-07-17T10:46:31.481Z"
   },
   {
    "duration": 57,
    "start_time": "2022-07-17T10:46:34.613Z"
   },
   {
    "duration": 24,
    "start_time": "2022-07-17T10:46:36.104Z"
   },
   {
    "duration": 63,
    "start_time": "2022-07-17T10:46:38.892Z"
   },
   {
    "duration": 68,
    "start_time": "2022-07-17T10:46:41.837Z"
   },
   {
    "duration": 52,
    "start_time": "2022-07-17T10:46:44.006Z"
   },
   {
    "duration": 38,
    "start_time": "2022-07-17T10:46:46.904Z"
   },
   {
    "duration": 3,
    "start_time": "2022-07-17T10:46:55.717Z"
   },
   {
    "duration": 59,
    "start_time": "2022-07-17T10:46:58.533Z"
   },
   {
    "duration": 7,
    "start_time": "2022-07-17T10:47:17.622Z"
   },
   {
    "duration": 6,
    "start_time": "2022-07-17T10:47:33.978Z"
   },
   {
    "duration": 24,
    "start_time": "2022-07-17T10:47:59.897Z"
   },
   {
    "duration": 7,
    "start_time": "2022-07-17T10:48:04.555Z"
   },
   {
    "duration": 32,
    "start_time": "2022-07-17T10:48:10.230Z"
   },
   {
    "duration": 30,
    "start_time": "2022-07-17T10:48:13.278Z"
   },
   {
    "duration": 56,
    "start_time": "2022-07-17T15:04:42.564Z"
   },
   {
    "duration": 200,
    "start_time": "2022-07-17T15:25:01.975Z"
   },
   {
    "duration": 73,
    "start_time": "2022-07-17T15:25:11.594Z"
   },
   {
    "duration": 62,
    "start_time": "2022-07-17T15:25:33.699Z"
   },
   {
    "duration": 4,
    "start_time": "2022-07-17T15:26:04.571Z"
   },
   {
    "duration": 3,
    "start_time": "2022-07-17T15:26:12.878Z"
   },
   {
    "duration": 57,
    "start_time": "2022-07-17T15:26:59.390Z"
   },
   {
    "duration": 368,
    "start_time": "2022-07-17T15:27:42.569Z"
   },
   {
    "duration": 243,
    "start_time": "2022-07-17T15:27:44.627Z"
   },
   {
    "duration": 8,
    "start_time": "2022-07-17T15:27:46.925Z"
   },
   {
    "duration": 40,
    "start_time": "2022-07-17T15:27:50.300Z"
   },
   {
    "duration": 3,
    "start_time": "2022-07-17T15:27:54.577Z"
   },
   {
    "duration": 15,
    "start_time": "2022-07-17T15:27:57.624Z"
   },
   {
    "duration": 3,
    "start_time": "2022-07-17T15:28:00.479Z"
   },
   {
    "duration": 22,
    "start_time": "2022-07-17T15:28:04.225Z"
   },
   {
    "duration": 47,
    "start_time": "2022-07-17T15:28:07.241Z"
   },
   {
    "duration": 21,
    "start_time": "2022-07-17T15:28:10.078Z"
   },
   {
    "duration": 66,
    "start_time": "2022-07-17T15:28:12.968Z"
   },
   {
    "duration": 68,
    "start_time": "2022-07-17T15:28:16.224Z"
   },
   {
    "duration": 50,
    "start_time": "2022-07-17T15:28:19.223Z"
   },
   {
    "duration": 42,
    "start_time": "2022-07-17T15:28:22.011Z"
   },
   {
    "duration": 3,
    "start_time": "2022-07-17T15:28:26.756Z"
   },
   {
    "duration": 27,
    "start_time": "2022-07-17T15:28:29.992Z"
   },
   {
    "duration": 7,
    "start_time": "2022-07-17T15:28:32.095Z"
   },
   {
    "duration": 28,
    "start_time": "2022-07-17T15:28:37.739Z"
   },
   {
    "duration": 40,
    "start_time": "2022-07-17T15:28:40.499Z"
   },
   {
    "duration": 4,
    "start_time": "2022-07-17T15:28:44.688Z"
   },
   {
    "duration": 14,
    "start_time": "2022-07-17T15:28:52.229Z"
   },
   {
    "duration": 13,
    "start_time": "2022-07-17T15:29:24.056Z"
   },
   {
    "duration": 14,
    "start_time": "2022-07-17T15:30:35.734Z"
   },
   {
    "duration": 3,
    "start_time": "2022-07-17T15:30:53.825Z"
   },
   {
    "duration": 847,
    "start_time": "2022-07-17T15:30:58.291Z"
   },
   {
    "duration": 3,
    "start_time": "2022-07-17T15:31:48.858Z"
   },
   {
    "duration": 690,
    "start_time": "2022-07-17T15:31:52.071Z"
   },
   {
    "duration": 370,
    "start_time": "2022-07-17T15:32:31.227Z"
   },
   {
    "duration": 155,
    "start_time": "2022-07-17T15:32:33.416Z"
   },
   {
    "duration": 9,
    "start_time": "2022-07-17T15:32:35.341Z"
   },
   {
    "duration": 25,
    "start_time": "2022-07-17T15:32:38.589Z"
   },
   {
    "duration": 3,
    "start_time": "2022-07-17T15:32:42.879Z"
   },
   {
    "duration": 12,
    "start_time": "2022-07-17T15:32:45.816Z"
   },
   {
    "duration": 3,
    "start_time": "2022-07-17T15:32:48.842Z"
   },
   {
    "duration": 21,
    "start_time": "2022-07-17T15:32:51.879Z"
   },
   {
    "duration": 43,
    "start_time": "2022-07-17T15:32:54.862Z"
   },
   {
    "duration": 20,
    "start_time": "2022-07-17T15:32:56.689Z"
   },
   {
    "duration": 54,
    "start_time": "2022-07-17T15:32:59.518Z"
   },
   {
    "duration": 69,
    "start_time": "2022-07-17T15:33:02.577Z"
   },
   {
    "duration": 53,
    "start_time": "2022-07-17T15:33:04.899Z"
   },
   {
    "duration": 43,
    "start_time": "2022-07-17T15:33:08.370Z"
   },
   {
    "duration": 3,
    "start_time": "2022-07-17T15:33:12.678Z"
   },
   {
    "duration": 20,
    "start_time": "2022-07-17T15:33:15.834Z"
   },
   {
    "duration": 7,
    "start_time": "2022-07-17T15:33:18.200Z"
   },
   {
    "duration": 26,
    "start_time": "2022-07-17T15:33:23.798Z"
   },
   {
    "duration": 63,
    "start_time": "2022-07-17T15:33:36.303Z"
   },
   {
    "duration": 27,
    "start_time": "2022-07-17T15:33:43.189Z"
   },
   {
    "duration": 3,
    "start_time": "2022-07-17T15:34:10.514Z"
   },
   {
    "duration": 14,
    "start_time": "2022-07-17T15:34:16.525Z"
   },
   {
    "duration": 14,
    "start_time": "2022-07-17T15:34:25.901Z"
   },
   {
    "duration": 13,
    "start_time": "2022-07-17T15:34:28.883Z"
   },
   {
    "duration": 15,
    "start_time": "2022-07-17T15:35:10.991Z"
   },
   {
    "duration": 13,
    "start_time": "2022-07-17T15:35:31.577Z"
   },
   {
    "duration": 12,
    "start_time": "2022-07-17T15:35:42.389Z"
   },
   {
    "duration": 9,
    "start_time": "2022-07-17T15:42:51.642Z"
   },
   {
    "duration": 8,
    "start_time": "2022-07-17T15:43:08.279Z"
   },
   {
    "duration": 4,
    "start_time": "2022-07-17T15:43:35.692Z"
   },
   {
    "duration": 8,
    "start_time": "2022-07-17T15:43:40.317Z"
   },
   {
    "duration": 9,
    "start_time": "2022-07-17T15:44:47.299Z"
   },
   {
    "duration": 13,
    "start_time": "2022-07-17T15:45:12.867Z"
   },
   {
    "duration": 12,
    "start_time": "2022-07-17T15:45:51.732Z"
   },
   {
    "duration": 8,
    "start_time": "2022-07-17T15:50:53.884Z"
   },
   {
    "duration": 14,
    "start_time": "2022-07-17T15:51:21.025Z"
   },
   {
    "duration": 12,
    "start_time": "2022-07-17T15:51:29.229Z"
   },
   {
    "duration": 8,
    "start_time": "2022-07-17T17:01:30.074Z"
   },
   {
    "duration": 3,
    "start_time": "2022-07-17T17:02:17.664Z"
   },
   {
    "duration": 331,
    "start_time": "2022-07-17T17:02:24.059Z"
   },
   {
    "duration": 146,
    "start_time": "2022-07-17T17:02:26.424Z"
   },
   {
    "duration": 9,
    "start_time": "2022-07-17T17:02:28.326Z"
   },
   {
    "duration": 25,
    "start_time": "2022-07-17T17:02:31.223Z"
   },
   {
    "duration": 5,
    "start_time": "2022-07-17T17:02:35.221Z"
   },
   {
    "duration": 13,
    "start_time": "2022-07-17T17:02:38.378Z"
   },
   {
    "duration": 3,
    "start_time": "2022-07-17T17:02:40.937Z"
   },
   {
    "duration": 19,
    "start_time": "2022-07-17T17:02:49.183Z"
   },
   {
    "duration": 40,
    "start_time": "2022-07-17T17:02:53.197Z"
   },
   {
    "duration": 20,
    "start_time": "2022-07-17T17:02:55.995Z"
   },
   {
    "duration": 54,
    "start_time": "2022-07-17T17:02:59.034Z"
   },
   {
    "duration": 74,
    "start_time": "2022-07-17T17:03:01.699Z"
   },
   {
    "duration": 62,
    "start_time": "2022-07-17T17:03:04.124Z"
   },
   {
    "duration": 33,
    "start_time": "2022-07-17T17:03:07.884Z"
   },
   {
    "duration": 3,
    "start_time": "2022-07-17T17:03:11.783Z"
   },
   {
    "duration": 24,
    "start_time": "2022-07-17T17:03:13.924Z"
   },
   {
    "duration": 28,
    "start_time": "2022-07-17T17:03:20.429Z"
   },
   {
    "duration": 28,
    "start_time": "2022-07-17T17:03:30.955Z"
   },
   {
    "duration": 3,
    "start_time": "2022-07-17T17:03:35.151Z"
   },
   {
    "duration": 15,
    "start_time": "2022-07-17T17:03:38.040Z"
   },
   {
    "duration": 15,
    "start_time": "2022-07-17T17:03:41.960Z"
   },
   {
    "duration": 13,
    "start_time": "2022-07-17T17:03:44.762Z"
   },
   {
    "duration": 14,
    "start_time": "2022-07-17T17:03:47.510Z"
   },
   {
    "duration": 15,
    "start_time": "2022-07-17T17:03:49.796Z"
   },
   {
    "duration": 14,
    "start_time": "2022-07-17T17:03:51.837Z"
   },
   {
    "duration": 60,
    "start_time": "2022-07-17T17:03:57.154Z"
   },
   {
    "duration": 8,
    "start_time": "2022-07-17T17:05:22.088Z"
   },
   {
    "duration": 11,
    "start_time": "2022-07-17T17:05:32.597Z"
   },
   {
    "duration": 11,
    "start_time": "2022-07-17T17:06:08.205Z"
   },
   {
    "duration": 16,
    "start_time": "2022-07-17T17:06:31.701Z"
   },
   {
    "duration": 13,
    "start_time": "2022-07-17T17:06:42.035Z"
   },
   {
    "duration": 8,
    "start_time": "2022-07-17T17:08:17.439Z"
   },
   {
    "duration": 16,
    "start_time": "2022-07-17T17:08:51.817Z"
   },
   {
    "duration": 13,
    "start_time": "2022-07-17T17:09:08.688Z"
   },
   {
    "duration": 8,
    "start_time": "2022-07-17T17:12:48.950Z"
   },
   {
    "duration": 44,
    "start_time": "2022-07-17T17:13:49.187Z"
   },
   {
    "duration": 48,
    "start_time": "2022-07-17T17:15:33.969Z"
   },
   {
    "duration": 398,
    "start_time": "2022-07-17T17:16:36.893Z"
   },
   {
    "duration": 158,
    "start_time": "2022-07-17T17:16:38.988Z"
   },
   {
    "duration": 8,
    "start_time": "2022-07-17T17:16:42.070Z"
   },
   {
    "duration": 33,
    "start_time": "2022-07-17T17:16:45.327Z"
   },
   {
    "duration": 4,
    "start_time": "2022-07-17T17:16:50.567Z"
   },
   {
    "duration": 14,
    "start_time": "2022-07-17T17:16:53.463Z"
   },
   {
    "duration": 3,
    "start_time": "2022-07-17T17:16:55.570Z"
   },
   {
    "duration": 21,
    "start_time": "2022-07-17T17:16:59.163Z"
   },
   {
    "duration": 57,
    "start_time": "2022-07-17T17:17:02.315Z"
   },
   {
    "duration": 21,
    "start_time": "2022-07-17T17:17:04.939Z"
   },
   {
    "duration": 60,
    "start_time": "2022-07-17T17:17:07.930Z"
   },
   {
    "duration": 69,
    "start_time": "2022-07-17T17:17:10.859Z"
   },
   {
    "duration": 50,
    "start_time": "2022-07-17T17:17:14.674Z"
   },
   {
    "duration": 31,
    "start_time": "2022-07-17T17:17:17.717Z"
   },
   {
    "duration": 3,
    "start_time": "2022-07-17T17:17:22.268Z"
   },
   {
    "duration": 24,
    "start_time": "2022-07-17T17:17:25.278Z"
   },
   {
    "duration": 7,
    "start_time": "2022-07-17T17:17:27.997Z"
   },
   {
    "duration": 34,
    "start_time": "2022-07-17T17:17:33.299Z"
   },
   {
    "duration": 25,
    "start_time": "2022-07-17T17:17:36.084Z"
   },
   {
    "duration": 4,
    "start_time": "2022-07-17T17:17:39.475Z"
   },
   {
    "duration": 16,
    "start_time": "2022-07-17T17:17:42.564Z"
   },
   {
    "duration": 14,
    "start_time": "2022-07-17T17:17:44.568Z"
   },
   {
    "duration": 14,
    "start_time": "2022-07-17T17:17:46.159Z"
   },
   {
    "duration": 13,
    "start_time": "2022-07-17T17:17:46.799Z"
   },
   {
    "duration": 15,
    "start_time": "2022-07-17T17:17:47.342Z"
   },
   {
    "duration": 14,
    "start_time": "2022-07-17T17:17:48.971Z"
   },
   {
    "duration": 46,
    "start_time": "2022-07-17T17:17:50.470Z"
   },
   {
    "duration": 50,
    "start_time": "2022-07-17T17:19:26.271Z"
   },
   {
    "duration": 65,
    "start_time": "2022-07-17T17:22:39.754Z"
   },
   {
    "duration": 14,
    "start_time": "2022-07-17T17:23:05.055Z"
   },
   {
    "duration": 12,
    "start_time": "2022-07-17T17:23:44.577Z"
   },
   {
    "duration": 12,
    "start_time": "2022-07-17T17:24:09.463Z"
   },
   {
    "duration": 14,
    "start_time": "2022-07-17T17:25:21.587Z"
   },
   {
    "duration": 7,
    "start_time": "2022-07-17T17:27:04.207Z"
   },
   {
    "duration": 13,
    "start_time": "2022-07-17T17:27:19.781Z"
   },
   {
    "duration": 11,
    "start_time": "2022-07-17T17:29:52.422Z"
   },
   {
    "duration": 7,
    "start_time": "2022-07-17T17:32:51.662Z"
   },
   {
    "duration": 13,
    "start_time": "2022-07-17T17:33:07.505Z"
   },
   {
    "duration": 12,
    "start_time": "2022-07-17T17:33:13.551Z"
   },
   {
    "duration": 67,
    "start_time": "2022-07-18T13:52:22.968Z"
   },
   {
    "duration": 364,
    "start_time": "2022-07-18T13:53:02.153Z"
   },
   {
    "duration": 573,
    "start_time": "2022-07-18T13:53:25.989Z"
   },
   {
    "duration": 21,
    "start_time": "2022-07-18T13:53:30.628Z"
   },
   {
    "duration": 25,
    "start_time": "2022-07-18T13:53:33.564Z"
   },
   {
    "duration": 4,
    "start_time": "2022-07-18T13:53:37.091Z"
   },
   {
    "duration": 13,
    "start_time": "2022-07-18T13:53:39.469Z"
   },
   {
    "duration": 26,
    "start_time": "2022-07-18T13:53:43.133Z"
   },
   {
    "duration": 71,
    "start_time": "2022-07-18T13:53:45.793Z"
   },
   {
    "duration": 54,
    "start_time": "2022-07-18T13:53:47.502Z"
   },
   {
    "duration": 68,
    "start_time": "2022-07-18T13:53:50.260Z"
   },
   {
    "duration": 77,
    "start_time": "2022-07-18T13:53:52.060Z"
   },
   {
    "duration": 49,
    "start_time": "2022-07-18T13:53:53.946Z"
   },
   {
    "duration": 31,
    "start_time": "2022-07-18T13:53:56.054Z"
   },
   {
    "duration": 3,
    "start_time": "2022-07-18T13:53:59.497Z"
   },
   {
    "duration": 32,
    "start_time": "2022-07-18T13:54:01.594Z"
   },
   {
    "duration": 12,
    "start_time": "2022-07-18T13:54:03.399Z"
   },
   {
    "duration": 60,
    "start_time": "2022-07-18T13:54:07.597Z"
   },
   {
    "duration": 28,
    "start_time": "2022-07-18T13:54:10.049Z"
   },
   {
    "duration": 3,
    "start_time": "2022-07-18T13:54:12.996Z"
   },
   {
    "duration": 22,
    "start_time": "2022-07-18T13:54:15.630Z"
   },
   {
    "duration": 16,
    "start_time": "2022-07-18T13:54:18.194Z"
   },
   {
    "duration": 13,
    "start_time": "2022-07-18T13:54:20.358Z"
   },
   {
    "duration": 11,
    "start_time": "2022-07-18T13:54:22.287Z"
   },
   {
    "duration": 13,
    "start_time": "2022-07-18T13:54:24.779Z"
   },
   {
    "duration": 162,
    "start_time": "2022-07-18T13:54:30.965Z"
   },
   {
    "duration": 12,
    "start_time": "2022-07-18T14:08:54.553Z"
   },
   {
    "duration": 29,
    "start_time": "2022-07-18T14:09:07.101Z"
   },
   {
    "duration": 8,
    "start_time": "2022-07-18T14:09:39.628Z"
   },
   {
    "duration": 3,
    "start_time": "2022-07-18T14:18:02.266Z"
   },
   {
    "duration": 3,
    "start_time": "2022-07-18T14:18:48.641Z"
   },
   {
    "duration": 12,
    "start_time": "2022-07-18T14:20:03.726Z"
   },
   {
    "duration": 4,
    "start_time": "2022-07-18T14:20:13.285Z"
   },
   {
    "duration": 3,
    "start_time": "2022-07-18T14:21:20.038Z"
   },
   {
    "duration": 11,
    "start_time": "2022-07-18T14:23:26.556Z"
   },
   {
    "duration": 3,
    "start_time": "2022-07-18T14:38:26.466Z"
   },
   {
    "duration": 1715,
    "start_time": "2022-07-18T14:38:48.469Z"
   },
   {
    "duration": 6,
    "start_time": "2022-07-18T14:39:22.524Z"
   },
   {
    "duration": 11,
    "start_time": "2022-07-18T14:39:35.318Z"
   },
   {
    "duration": 12,
    "start_time": "2022-07-18T14:40:12.512Z"
   },
   {
    "duration": 5,
    "start_time": "2022-07-18T14:41:03.136Z"
   },
   {
    "duration": 12,
    "start_time": "2022-07-18T14:52:48.033Z"
   },
   {
    "duration": 8,
    "start_time": "2022-07-18T14:53:06.649Z"
   },
   {
    "duration": 6,
    "start_time": "2022-07-18T14:53:30.320Z"
   },
   {
    "duration": 88,
    "start_time": "2022-07-18T15:10:16.463Z"
   },
   {
    "duration": 114,
    "start_time": "2022-07-18T15:10:29.259Z"
   },
   {
    "duration": 4,
    "start_time": "2022-07-18T15:11:10.430Z"
   },
   {
    "duration": 10,
    "start_time": "2022-07-18T15:11:31.619Z"
   },
   {
    "duration": 10,
    "start_time": "2022-07-18T15:11:44.806Z"
   },
   {
    "duration": 1527,
    "start_time": "2022-07-18T15:16:34.751Z"
   },
   {
    "duration": 1577,
    "start_time": "2022-07-18T15:17:09.362Z"
   },
   {
    "duration": 7,
    "start_time": "2022-07-18T15:17:21.944Z"
   },
   {
    "duration": 1620,
    "start_time": "2022-07-18T15:20:32.856Z"
   },
   {
    "duration": 12,
    "start_time": "2022-07-18T15:21:59.930Z"
   },
   {
    "duration": 4,
    "start_time": "2022-07-18T15:22:00.745Z"
   },
   {
    "duration": 8,
    "start_time": "2022-07-18T15:30:59.337Z"
   },
   {
    "duration": 3,
    "start_time": "2022-07-18T15:31:20.839Z"
   },
   {
    "duration": 15,
    "start_time": "2022-07-18T15:33:21.140Z"
   },
   {
    "duration": 16,
    "start_time": "2022-07-18T15:34:22.720Z"
   },
   {
    "duration": 5,
    "start_time": "2022-07-18T15:36:29.439Z"
   },
   {
    "duration": 4613,
    "start_time": "2022-07-18T15:38:50.553Z"
   },
   {
    "duration": 2470,
    "start_time": "2022-07-18T15:39:26.058Z"
   },
   {
    "duration": 4,
    "start_time": "2022-07-18T15:43:13.294Z"
   },
   {
    "duration": 19,
    "start_time": "2022-07-18T15:43:18.553Z"
   },
   {
    "duration": 5,
    "start_time": "2022-07-18T15:44:45.823Z"
   },
   {
    "duration": 29,
    "start_time": "2022-07-18T15:44:48.392Z"
   },
   {
    "duration": 12,
    "start_time": "2022-07-18T15:46:00.931Z"
   },
   {
    "duration": 20,
    "start_time": "2022-07-18T15:49:18.022Z"
   },
   {
    "duration": 23,
    "start_time": "2022-07-18T15:49:30.896Z"
   },
   {
    "duration": 7,
    "start_time": "2022-07-18T17:30:44.821Z"
   },
   {
    "duration": 4,
    "start_time": "2022-07-18T17:30:51.930Z"
   },
   {
    "duration": 21,
    "start_time": "2022-07-18T17:30:53.729Z"
   },
   {
    "duration": 5,
    "start_time": "2022-07-18T17:35:23.541Z"
   },
   {
    "duration": 25,
    "start_time": "2022-07-18T17:35:26.190Z"
   },
   {
    "duration": 9,
    "start_time": "2022-07-18T17:36:00.906Z"
   },
   {
    "duration": 18,
    "start_time": "2022-07-18T17:36:04.734Z"
   },
   {
    "duration": 5,
    "start_time": "2022-07-18T17:36:36.954Z"
   },
   {
    "duration": 19,
    "start_time": "2022-07-18T17:36:39.313Z"
   },
   {
    "duration": 4,
    "start_time": "2022-07-18T17:36:57.694Z"
   },
   {
    "duration": 19,
    "start_time": "2022-07-18T17:36:59.929Z"
   },
   {
    "duration": 5,
    "start_time": "2022-07-18T17:37:21.527Z"
   },
   {
    "duration": 17,
    "start_time": "2022-07-18T17:37:23.639Z"
   },
   {
    "duration": 13,
    "start_time": "2022-07-18T17:37:52.428Z"
   },
   {
    "duration": 4,
    "start_time": "2022-07-18T17:41:51.959Z"
   },
   {
    "duration": 18,
    "start_time": "2022-07-18T17:41:54.328Z"
   },
   {
    "duration": 4,
    "start_time": "2022-07-18T17:43:25.259Z"
   },
   {
    "duration": 15,
    "start_time": "2022-07-18T17:43:34.901Z"
   },
   {
    "duration": 4,
    "start_time": "2022-07-18T17:43:43.086Z"
   },
   {
    "duration": 22,
    "start_time": "2022-07-18T17:43:59.797Z"
   },
   {
    "duration": 4,
    "start_time": "2022-07-18T17:44:40.648Z"
   },
   {
    "duration": 24,
    "start_time": "2022-07-18T17:44:42.811Z"
   },
   {
    "duration": 15,
    "start_time": "2022-07-18T17:44:45.693Z"
   },
   {
    "duration": 14,
    "start_time": "2022-07-18T17:47:56.865Z"
   },
   {
    "duration": 21,
    "start_time": "2022-07-18T17:52:15.293Z"
   },
   {
    "duration": 7,
    "start_time": "2022-07-18T18:25:30.908Z"
   },
   {
    "duration": 22,
    "start_time": "2022-07-18T18:25:59.363Z"
   },
   {
    "duration": 23,
    "start_time": "2022-07-18T18:26:26.993Z"
   },
   {
    "duration": 30,
    "start_time": "2022-07-18T18:30:37.435Z"
   },
   {
    "duration": 4,
    "start_time": "2022-07-18T18:31:32.480Z"
   },
   {
    "duration": 22,
    "start_time": "2022-07-18T18:31:34.730Z"
   },
   {
    "duration": 5,
    "start_time": "2022-07-18T18:31:43.745Z"
   },
   {
    "duration": 18,
    "start_time": "2022-07-18T18:31:46.159Z"
   },
   {
    "duration": 4,
    "start_time": "2022-07-18T18:35:52.138Z"
   },
   {
    "duration": 17,
    "start_time": "2022-07-18T18:35:54.053Z"
   },
   {
    "duration": 4,
    "start_time": "2022-07-18T18:36:52.211Z"
   },
   {
    "duration": 18,
    "start_time": "2022-07-18T18:36:53.743Z"
   },
   {
    "duration": 13,
    "start_time": "2022-07-18T18:37:11.211Z"
   },
   {
    "duration": 19,
    "start_time": "2022-07-18T18:37:20.897Z"
   },
   {
    "duration": 18,
    "start_time": "2022-07-18T18:37:37.089Z"
   },
   {
    "duration": 13,
    "start_time": "2022-07-18T18:37:42.089Z"
   },
   {
    "duration": 22,
    "start_time": "2022-07-18T18:38:01.314Z"
   },
   {
    "duration": 19,
    "start_time": "2022-07-18T18:39:03.609Z"
   },
   {
    "duration": 5,
    "start_time": "2022-07-18T18:39:37.128Z"
   },
   {
    "duration": 19,
    "start_time": "2022-07-18T18:40:54.497Z"
   },
   {
    "duration": 4,
    "start_time": "2022-07-18T18:40:55.993Z"
   },
   {
    "duration": 18,
    "start_time": "2022-07-18T18:41:06.610Z"
   },
   {
    "duration": 4,
    "start_time": "2022-07-18T18:41:30.484Z"
   },
   {
    "duration": 345,
    "start_time": "2022-07-18T18:42:18.624Z"
   },
   {
    "duration": 199,
    "start_time": "2022-07-18T18:42:20.664Z"
   },
   {
    "duration": 7,
    "start_time": "2022-07-18T18:42:23.142Z"
   },
   {
    "duration": 24,
    "start_time": "2022-07-18T18:42:27.128Z"
   },
   {
    "duration": 4,
    "start_time": "2022-07-18T18:42:31.750Z"
   },
   {
    "duration": 12,
    "start_time": "2022-07-18T18:42:36.201Z"
   },
   {
    "duration": 3,
    "start_time": "2022-07-18T18:42:39.000Z"
   },
   {
    "duration": 19,
    "start_time": "2022-07-18T18:42:41.806Z"
   },
   {
    "duration": 39,
    "start_time": "2022-07-18T18:42:48.624Z"
   },
   {
    "duration": 19,
    "start_time": "2022-07-18T18:42:51.139Z"
   },
   {
    "duration": 53,
    "start_time": "2022-07-18T18:42:54.572Z"
   },
   {
    "duration": 63,
    "start_time": "2022-07-18T18:42:58.365Z"
   },
   {
    "duration": 51,
    "start_time": "2022-07-18T18:43:03.171Z"
   },
   {
    "duration": 30,
    "start_time": "2022-07-18T18:43:05.844Z"
   },
   {
    "duration": 3,
    "start_time": "2022-07-18T18:43:10.152Z"
   },
   {
    "duration": 18,
    "start_time": "2022-07-18T18:43:12.811Z"
   },
   {
    "duration": 7,
    "start_time": "2022-07-18T18:43:15.404Z"
   },
   {
    "duration": 27,
    "start_time": "2022-07-18T18:43:19.691Z"
   },
   {
    "duration": 26,
    "start_time": "2022-07-18T18:43:21.948Z"
   },
   {
    "duration": 3,
    "start_time": "2022-07-18T18:43:25.556Z"
   },
   {
    "duration": 15,
    "start_time": "2022-07-18T18:43:28.473Z"
   },
   {
    "duration": 14,
    "start_time": "2022-07-18T18:43:30.669Z"
   },
   {
    "duration": 14,
    "start_time": "2022-07-18T18:43:31.237Z"
   },
   {
    "duration": 12,
    "start_time": "2022-07-18T18:43:31.805Z"
   },
   {
    "duration": 13,
    "start_time": "2022-07-18T18:43:32.602Z"
   },
   {
    "duration": 14,
    "start_time": "2022-07-18T18:43:35.135Z"
   },
   {
    "duration": 6,
    "start_time": "2022-07-18T18:43:38.374Z"
   },
   {
    "duration": 14,
    "start_time": "2022-07-18T18:43:44.537Z"
   },
   {
    "duration": 12,
    "start_time": "2022-07-18T18:43:50.371Z"
   },
   {
    "duration": 4,
    "start_time": "2022-07-18T18:43:54.384Z"
   },
   {
    "duration": 18,
    "start_time": "2022-07-18T18:43:57.295Z"
   },
   {
    "duration": 12,
    "start_time": "2022-07-18T18:43:59.286Z"
   },
   {
    "duration": 19,
    "start_time": "2022-07-18T18:43:59.983Z"
   },
   {
    "duration": 14,
    "start_time": "2022-07-18T18:44:02.881Z"
   },
   {
    "duration": 22,
    "start_time": "2022-07-18T18:44:14.309Z"
   },
   {
    "duration": 4,
    "start_time": "2022-07-18T18:44:16.935Z"
   },
   {
    "duration": 22,
    "start_time": "2022-07-18T18:44:19.849Z"
   },
   {
    "duration": 5,
    "start_time": "2022-07-18T18:44:22.166Z"
   },
   {
    "duration": 449,
    "start_time": "2022-07-19T20:23:45.296Z"
   },
   {
    "duration": 468,
    "start_time": "2022-07-19T20:23:45.747Z"
   },
   {
    "duration": 8,
    "start_time": "2022-07-19T20:23:46.217Z"
   },
   {
    "duration": 52,
    "start_time": "2022-07-19T20:23:46.227Z"
   },
   {
    "duration": 20,
    "start_time": "2022-07-19T20:23:46.281Z"
   },
   {
    "duration": 28,
    "start_time": "2022-07-19T20:23:46.302Z"
   },
   {
    "duration": 12,
    "start_time": "2022-07-19T20:23:46.332Z"
   },
   {
    "duration": 56,
    "start_time": "2022-07-19T20:23:46.346Z"
   },
   {
    "duration": 79,
    "start_time": "2022-07-19T20:23:46.404Z"
   },
   {
    "duration": 26,
    "start_time": "2022-07-19T20:23:46.485Z"
   },
   {
    "duration": 87,
    "start_time": "2022-07-19T20:23:46.513Z"
   },
   {
    "duration": 79,
    "start_time": "2022-07-19T20:23:46.602Z"
   },
   {
    "duration": 62,
    "start_time": "2022-07-19T20:23:46.683Z"
   },
   {
    "duration": 41,
    "start_time": "2022-07-19T20:23:46.748Z"
   },
   {
    "duration": 3,
    "start_time": "2022-07-19T20:23:46.790Z"
   },
   {
    "duration": 42,
    "start_time": "2022-07-19T20:23:46.810Z"
   },
   {
    "duration": 13,
    "start_time": "2022-07-19T20:23:46.853Z"
   },
   {
    "duration": 44,
    "start_time": "2022-07-19T20:23:46.868Z"
   },
   {
    "duration": 33,
    "start_time": "2022-07-19T20:23:46.913Z"
   },
   {
    "duration": 4,
    "start_time": "2022-07-19T20:23:46.948Z"
   },
   {
    "duration": 46,
    "start_time": "2022-07-19T20:23:46.953Z"
   },
   {
    "duration": 29,
    "start_time": "2022-07-19T20:23:47.000Z"
   },
   {
    "duration": 26,
    "start_time": "2022-07-19T20:23:47.031Z"
   },
   {
    "duration": 31,
    "start_time": "2022-07-19T20:23:47.059Z"
   },
   {
    "duration": 25,
    "start_time": "2022-07-19T20:23:47.092Z"
   },
   {
    "duration": 18,
    "start_time": "2022-07-19T20:23:47.119Z"
   },
   {
    "duration": 20,
    "start_time": "2022-07-19T20:23:47.139Z"
   },
   {
    "duration": 42,
    "start_time": "2022-07-19T20:23:47.161Z"
   },
   {
    "duration": 23,
    "start_time": "2022-07-19T20:23:47.205Z"
   },
   {
    "duration": 13,
    "start_time": "2022-07-19T20:23:47.230Z"
   },
   {
    "duration": 42,
    "start_time": "2022-07-19T20:23:47.245Z"
   },
   {
    "duration": 14,
    "start_time": "2022-07-19T20:23:47.289Z"
   },
   {
    "duration": 25,
    "start_time": "2022-07-19T20:23:47.304Z"
   },
   {
    "duration": 17,
    "start_time": "2022-07-19T20:23:47.331Z"
   },
   {
    "duration": 28,
    "start_time": "2022-07-19T20:23:47.350Z"
   },
   {
    "duration": 6,
    "start_time": "2022-07-19T20:23:47.380Z"
   },
   {
    "duration": 42,
    "start_time": "2022-07-19T20:23:47.388Z"
   },
   {
    "duration": 6,
    "start_time": "2022-07-19T20:23:47.432Z"
   },
   {
    "duration": 57,
    "start_time": "2022-07-20T08:29:53.402Z"
   },
   {
    "duration": 407,
    "start_time": "2022-07-20T08:30:11.469Z"
   },
   {
    "duration": 3,
    "start_time": "2022-07-20T08:30:14.900Z"
   },
   {
    "duration": 423,
    "start_time": "2022-07-20T08:30:19.628Z"
   },
   {
    "duration": 928,
    "start_time": "2022-07-20T08:30:22.007Z"
   },
   {
    "duration": 12,
    "start_time": "2022-07-20T08:30:25.123Z"
   },
   {
    "duration": 27,
    "start_time": "2022-07-20T08:30:29.867Z"
   },
   {
    "duration": 4,
    "start_time": "2022-07-20T08:30:34.198Z"
   },
   {
    "duration": 13,
    "start_time": "2022-07-20T08:30:35.602Z"
   },
   {
    "duration": 4,
    "start_time": "2022-07-20T08:30:54.376Z"
   },
   {
    "duration": 42,
    "start_time": "2022-07-20T08:30:56.038Z"
   },
   {
    "duration": 51,
    "start_time": "2022-07-20T08:30:58.368Z"
   },
   {
    "duration": 23,
    "start_time": "2022-07-20T08:31:01.597Z"
   },
   {
    "duration": 73,
    "start_time": "2022-07-20T08:31:04.202Z"
   },
   {
    "duration": 97,
    "start_time": "2022-07-20T08:31:05.328Z"
   },
   {
    "duration": 76,
    "start_time": "2022-07-20T08:31:06.618Z"
   },
   {
    "duration": 65,
    "start_time": "2022-07-20T08:31:09.212Z"
   },
   {
    "duration": 4,
    "start_time": "2022-07-20T08:31:13.000Z"
   },
   {
    "duration": 42,
    "start_time": "2022-07-20T08:31:22.215Z"
   },
   {
    "duration": 8,
    "start_time": "2022-07-20T08:31:24.722Z"
   },
   {
    "duration": 23,
    "start_time": "2022-07-20T08:31:39.858Z"
   },
   {
    "duration": 126,
    "start_time": "2022-07-20T08:32:36.832Z"
   },
   {
    "duration": 85,
    "start_time": "2022-07-20T08:32:56.168Z"
   },
   {
    "duration": 40,
    "start_time": "2022-07-20T08:33:40.179Z"
   },
   {
    "duration": 11,
    "start_time": "2022-07-20T08:33:56.299Z"
   },
   {
    "duration": 12,
    "start_time": "2022-07-20T08:34:37.260Z"
   },
   {
    "duration": 9,
    "start_time": "2022-07-20T08:40:47.718Z"
   },
   {
    "duration": 15,
    "start_time": "2022-07-20T08:41:23.034Z"
   },
   {
    "duration": 7,
    "start_time": "2022-07-20T08:41:25.390Z"
   },
   {
    "duration": 58,
    "start_time": "2022-07-20T08:41:59.586Z"
   },
   {
    "duration": 459,
    "start_time": "2022-07-20T08:42:11.026Z"
   },
   {
    "duration": 183,
    "start_time": "2022-07-20T08:42:12.319Z"
   },
   {
    "duration": 10,
    "start_time": "2022-07-20T08:42:12.972Z"
   },
   {
    "duration": 32,
    "start_time": "2022-07-20T08:42:14.247Z"
   },
   {
    "duration": 5,
    "start_time": "2022-07-20T08:42:17.966Z"
   },
   {
    "duration": 15,
    "start_time": "2022-07-20T08:42:22.580Z"
   },
   {
    "duration": 5,
    "start_time": "2022-07-20T08:42:23.297Z"
   },
   {
    "duration": 26,
    "start_time": "2022-07-20T08:42:24.205Z"
   },
   {
    "duration": 57,
    "start_time": "2022-07-20T08:42:25.425Z"
   },
   {
    "duration": 33,
    "start_time": "2022-07-20T08:42:26.246Z"
   },
   {
    "duration": 70,
    "start_time": "2022-07-20T08:42:27.419Z"
   },
   {
    "duration": 100,
    "start_time": "2022-07-20T08:42:28.003Z"
   },
   {
    "duration": 74,
    "start_time": "2022-07-20T08:42:28.560Z"
   },
   {
    "duration": 44,
    "start_time": "2022-07-20T08:42:30.003Z"
   },
   {
    "duration": 4,
    "start_time": "2022-07-20T08:42:31.311Z"
   },
   {
    "duration": 45,
    "start_time": "2022-07-20T08:42:32.306Z"
   },
   {
    "duration": 52,
    "start_time": "2022-07-20T08:42:34.785Z"
   },
   {
    "duration": 18,
    "start_time": "2022-07-20T08:42:39.641Z"
   },
   {
    "duration": 10,
    "start_time": "2022-07-20T08:42:42.923Z"
   },
   {
    "duration": 5,
    "start_time": "2022-07-20T08:42:44.314Z"
   },
   {
    "duration": 22,
    "start_time": "2022-07-20T08:42:46.204Z"
   },
   {
    "duration": 21,
    "start_time": "2022-07-20T08:42:47.664Z"
   },
   {
    "duration": 21,
    "start_time": "2022-07-20T08:42:48.962Z"
   },
   {
    "duration": 22,
    "start_time": "2022-07-20T08:42:49.265Z"
   },
   {
    "duration": 27,
    "start_time": "2022-07-20T08:42:51.928Z"
   },
   {
    "duration": 19,
    "start_time": "2022-07-20T08:42:52.183Z"
   },
   {
    "duration": 6,
    "start_time": "2022-07-20T08:42:53.114Z"
   },
   {
    "duration": 16,
    "start_time": "2022-07-20T08:42:57.260Z"
   },
   {
    "duration": 14,
    "start_time": "2022-07-20T08:42:58.659Z"
   },
   {
    "duration": 4,
    "start_time": "2022-07-20T08:43:01.507Z"
   },
   {
    "duration": 33,
    "start_time": "2022-07-20T08:43:03.186Z"
   },
   {
    "duration": 131,
    "start_time": "2022-07-20T08:43:15.093Z"
   },
   {
    "duration": 30,
    "start_time": "2022-07-20T08:43:56.260Z"
   },
   {
    "duration": 18,
    "start_time": "2022-07-20T08:44:21.681Z"
   },
   {
    "duration": 20,
    "start_time": "2022-07-20T08:44:46.293Z"
   },
   {
    "duration": 20,
    "start_time": "2022-07-20T08:44:59.358Z"
   },
   {
    "duration": 6,
    "start_time": "2022-07-20T08:45:56.458Z"
   },
   {
    "duration": 18,
    "start_time": "2022-07-20T08:46:00.149Z"
   },
   {
    "duration": 6,
    "start_time": "2022-07-20T08:46:15.358Z"
   },
   {
    "duration": 18,
    "start_time": "2022-07-20T08:46:17.676Z"
   },
   {
    "duration": 96,
    "start_time": "2022-07-20T08:47:29.137Z"
   },
   {
    "duration": 4,
    "start_time": "2022-07-20T08:47:36.402Z"
   },
   {
    "duration": 36,
    "start_time": "2022-07-20T08:47:38.666Z"
   },
   {
    "duration": 89,
    "start_time": "2022-07-20T08:48:20.311Z"
   },
   {
    "duration": 6,
    "start_time": "2022-07-20T08:48:30.965Z"
   },
   {
    "duration": 4,
    "start_time": "2022-07-20T08:48:53.715Z"
   },
   {
    "duration": 20,
    "start_time": "2022-07-20T08:48:55.521Z"
   },
   {
    "duration": 20,
    "start_time": "2022-07-20T08:49:28.864Z"
   },
   {
    "duration": 14,
    "start_time": "2022-07-20T08:49:41.083Z"
   },
   {
    "duration": 110,
    "start_time": "2022-07-20T08:50:14.698Z"
   },
   {
    "duration": 6,
    "start_time": "2022-07-20T08:50:35.246Z"
   },
   {
    "duration": 26,
    "start_time": "2022-07-20T08:50:38.393Z"
   },
   {
    "duration": 431,
    "start_time": "2022-08-05T15:59:00.287Z"
   },
   {
    "duration": 216,
    "start_time": "2022-08-05T15:59:01.890Z"
   },
   {
    "duration": 3,
    "start_time": "2022-08-05T16:10:46.333Z"
   },
   {
    "duration": 12,
    "start_time": "2022-08-05T16:10:51.613Z"
   },
   {
    "duration": 4,
    "start_time": "2022-08-05T16:10:59.056Z"
   },
   {
    "duration": 62,
    "start_time": "2022-08-05T16:12:15.065Z"
   },
   {
    "duration": 3,
    "start_time": "2022-08-05T16:19:30.775Z"
   },
   {
    "duration": 4,
    "start_time": "2022-08-05T16:20:42.720Z"
   },
   {
    "duration": 420,
    "start_time": "2022-08-05T16:25:40.105Z"
   },
   {
    "duration": 148,
    "start_time": "2022-08-05T16:25:40.528Z"
   },
   {
    "duration": 8,
    "start_time": "2022-08-05T16:25:40.678Z"
   },
   {
    "duration": 31,
    "start_time": "2022-08-05T16:25:40.687Z"
   },
   {
    "duration": 18,
    "start_time": "2022-08-05T16:25:40.719Z"
   },
   {
    "duration": 44,
    "start_time": "2022-08-05T16:25:40.739Z"
   },
   {
    "duration": 0,
    "start_time": "2022-08-05T16:25:40.785Z"
   },
   {
    "duration": 0,
    "start_time": "2022-08-05T16:25:40.786Z"
   },
   {
    "duration": 0,
    "start_time": "2022-08-05T16:25:40.788Z"
   },
   {
    "duration": 0,
    "start_time": "2022-08-05T16:25:40.789Z"
   },
   {
    "duration": 0,
    "start_time": "2022-08-05T16:25:40.790Z"
   },
   {
    "duration": 0,
    "start_time": "2022-08-05T16:25:40.792Z"
   },
   {
    "duration": 0,
    "start_time": "2022-08-05T16:25:40.793Z"
   },
   {
    "duration": 0,
    "start_time": "2022-08-05T16:25:40.794Z"
   },
   {
    "duration": 0,
    "start_time": "2022-08-05T16:25:40.795Z"
   },
   {
    "duration": 0,
    "start_time": "2022-08-05T16:25:40.796Z"
   },
   {
    "duration": 0,
    "start_time": "2022-08-05T16:25:40.797Z"
   },
   {
    "duration": 0,
    "start_time": "2022-08-05T16:25:40.798Z"
   },
   {
    "duration": 0,
    "start_time": "2022-08-05T16:25:40.799Z"
   },
   {
    "duration": 0,
    "start_time": "2022-08-05T16:25:40.801Z"
   },
   {
    "duration": 0,
    "start_time": "2022-08-05T16:25:40.801Z"
   },
   {
    "duration": 0,
    "start_time": "2022-08-05T16:25:40.802Z"
   },
   {
    "duration": 0,
    "start_time": "2022-08-05T16:25:40.803Z"
   },
   {
    "duration": 0,
    "start_time": "2022-08-05T16:25:40.804Z"
   },
   {
    "duration": 0,
    "start_time": "2022-08-05T16:25:40.804Z"
   },
   {
    "duration": 0,
    "start_time": "2022-08-05T16:25:40.805Z"
   },
   {
    "duration": 0,
    "start_time": "2022-08-05T16:25:40.806Z"
   },
   {
    "duration": 0,
    "start_time": "2022-08-05T16:25:40.807Z"
   },
   {
    "duration": 0,
    "start_time": "2022-08-05T16:25:40.809Z"
   },
   {
    "duration": 0,
    "start_time": "2022-08-05T16:25:40.809Z"
   },
   {
    "duration": 0,
    "start_time": "2022-08-05T16:25:40.810Z"
   },
   {
    "duration": 0,
    "start_time": "2022-08-05T16:25:40.811Z"
   },
   {
    "duration": 0,
    "start_time": "2022-08-05T16:25:40.812Z"
   },
   {
    "duration": 0,
    "start_time": "2022-08-05T16:25:40.813Z"
   },
   {
    "duration": 0,
    "start_time": "2022-08-05T16:25:40.813Z"
   },
   {
    "duration": 0,
    "start_time": "2022-08-05T16:25:40.814Z"
   },
   {
    "duration": 0,
    "start_time": "2022-08-05T16:25:40.815Z"
   },
   {
    "duration": 0,
    "start_time": "2022-08-05T16:25:40.816Z"
   },
   {
    "duration": 0,
    "start_time": "2022-08-05T16:25:40.816Z"
   },
   {
    "duration": 13,
    "start_time": "2022-08-05T16:26:42.230Z"
   },
   {
    "duration": 6,
    "start_time": "2022-08-05T16:30:44.456Z"
   },
   {
    "duration": 22,
    "start_time": "2022-08-05T16:30:51.300Z"
   },
   {
    "duration": 4,
    "start_time": "2022-08-05T16:33:05.389Z"
   },
   {
    "duration": 10,
    "start_time": "2022-08-05T19:41:24.121Z"
   },
   {
    "duration": 749,
    "start_time": "2022-08-05T20:13:40.782Z"
   },
   {
    "duration": 808,
    "start_time": "2022-08-05T20:14:11.306Z"
   },
   {
    "duration": 11,
    "start_time": "2022-08-05T20:14:24.307Z"
   },
   {
    "duration": 4,
    "start_time": "2022-08-05T20:15:25.917Z"
   },
   {
    "duration": 747,
    "start_time": "2022-08-05T20:15:56.081Z"
   },
   {
    "duration": 5,
    "start_time": "2022-08-05T20:16:16.501Z"
   },
   {
    "duration": 16,
    "start_time": "2022-08-05T20:16:24.731Z"
   },
   {
    "duration": 15,
    "start_time": "2022-08-05T20:16:28.125Z"
   },
   {
    "duration": 21,
    "start_time": "2022-08-05T20:16:29.897Z"
   },
   {
    "duration": 15,
    "start_time": "2022-08-05T20:16:30.630Z"
   },
   {
    "duration": 16,
    "start_time": "2022-08-05T20:16:31.332Z"
   },
   {
    "duration": 14,
    "start_time": "2022-08-05T20:16:32.041Z"
   },
   {
    "duration": 6,
    "start_time": "2022-08-05T20:16:38.218Z"
   },
   {
    "duration": 17,
    "start_time": "2022-08-05T20:25:38.449Z"
   },
   {
    "duration": 7,
    "start_time": "2022-08-05T20:27:23.150Z"
   },
   {
    "duration": 7,
    "start_time": "2022-08-05T20:27:39.401Z"
   },
   {
    "duration": 18,
    "start_time": "2022-08-05T20:28:04.214Z"
   },
   {
    "duration": 7,
    "start_time": "2022-08-05T20:28:40.837Z"
   },
   {
    "duration": 770,
    "start_time": "2022-08-05T20:28:46.172Z"
   },
   {
    "duration": 13,
    "start_time": "2022-08-05T20:28:58.397Z"
   },
   {
    "duration": 7,
    "start_time": "2022-08-05T20:29:10.952Z"
   },
   {
    "duration": 7,
    "start_time": "2022-08-05T20:29:24.703Z"
   },
   {
    "duration": 4,
    "start_time": "2022-08-05T20:29:26.999Z"
   },
   {
    "duration": 746,
    "start_time": "2022-08-05T20:29:29.511Z"
   },
   {
    "duration": 15,
    "start_time": "2022-08-05T20:29:39.622Z"
   },
   {
    "duration": 17,
    "start_time": "2022-08-05T20:29:40.466Z"
   },
   {
    "duration": 14,
    "start_time": "2022-08-05T20:29:40.759Z"
   },
   {
    "duration": 4,
    "start_time": "2022-08-05T20:29:46.554Z"
   },
   {
    "duration": 820,
    "start_time": "2022-08-05T20:29:49.246Z"
   },
   {
    "duration": 4,
    "start_time": "2022-08-05T20:30:10.112Z"
   },
   {
    "duration": 371,
    "start_time": "2022-08-05T20:31:46.576Z"
   },
   {
    "duration": 152,
    "start_time": "2022-08-05T20:31:46.949Z"
   },
   {
    "duration": 8,
    "start_time": "2022-08-05T20:31:47.102Z"
   },
   {
    "duration": 39,
    "start_time": "2022-08-05T20:31:47.112Z"
   },
   {
    "duration": 4,
    "start_time": "2022-08-05T20:31:47.154Z"
   },
   {
    "duration": 7,
    "start_time": "2022-08-05T20:31:47.159Z"
   },
   {
    "duration": 10,
    "start_time": "2022-08-05T20:31:47.167Z"
   },
   {
    "duration": 7,
    "start_time": "2022-08-05T20:31:47.179Z"
   },
   {
    "duration": 28,
    "start_time": "2022-08-05T20:31:47.188Z"
   },
   {
    "duration": 68,
    "start_time": "2022-08-05T20:31:47.218Z"
   },
   {
    "duration": 24,
    "start_time": "2022-08-05T20:31:47.287Z"
   },
   {
    "duration": 68,
    "start_time": "2022-08-05T20:31:47.313Z"
   },
   {
    "duration": 79,
    "start_time": "2022-08-05T20:31:47.383Z"
   },
   {
    "duration": 51,
    "start_time": "2022-08-05T20:31:47.465Z"
   },
   {
    "duration": 48,
    "start_time": "2022-08-05T20:31:47.517Z"
   },
   {
    "duration": 2,
    "start_time": "2022-08-05T20:31:47.567Z"
   },
   {
    "duration": 25,
    "start_time": "2022-08-05T20:31:47.570Z"
   },
   {
    "duration": 3,
    "start_time": "2022-08-05T20:31:47.596Z"
   },
   {
    "duration": 54,
    "start_time": "2022-08-05T20:31:47.601Z"
   },
   {
    "duration": 9,
    "start_time": "2022-08-05T20:31:47.657Z"
   },
   {
    "duration": 39,
    "start_time": "2022-08-05T20:31:47.667Z"
   },
   {
    "duration": 47,
    "start_time": "2022-08-05T20:31:47.707Z"
   },
   {
    "duration": 4,
    "start_time": "2022-08-05T20:31:47.756Z"
   },
   {
    "duration": 26,
    "start_time": "2022-08-05T20:31:47.761Z"
   },
   {
    "duration": 13,
    "start_time": "2022-08-05T20:31:47.788Z"
   },
   {
    "duration": 12,
    "start_time": "2022-08-05T20:31:47.802Z"
   },
   {
    "duration": 26,
    "start_time": "2022-08-05T20:31:47.816Z"
   },
   {
    "duration": 14,
    "start_time": "2022-08-05T20:31:47.843Z"
   },
   {
    "duration": 13,
    "start_time": "2022-08-05T20:31:47.858Z"
   },
   {
    "duration": 6,
    "start_time": "2022-08-05T20:31:47.872Z"
   },
   {
    "duration": 15,
    "start_time": "2022-08-05T20:31:47.880Z"
   },
   {
    "duration": 46,
    "start_time": "2022-08-05T20:31:47.897Z"
   },
   {
    "duration": 13,
    "start_time": "2022-08-05T20:31:47.944Z"
   },
   {
    "duration": 4,
    "start_time": "2022-08-05T20:31:47.959Z"
   },
   {
    "duration": 954,
    "start_time": "2022-08-05T20:31:47.965Z"
   },
   {
    "duration": 0,
    "start_time": "2022-08-05T20:31:48.921Z"
   },
   {
    "duration": 0,
    "start_time": "2022-08-05T20:31:48.922Z"
   },
   {
    "duration": 0,
    "start_time": "2022-08-05T20:31:48.924Z"
   },
   {
    "duration": 0,
    "start_time": "2022-08-05T20:31:48.925Z"
   },
   {
    "duration": 0,
    "start_time": "2022-08-05T20:31:48.926Z"
   },
   {
    "duration": 0,
    "start_time": "2022-08-05T20:31:48.928Z"
   },
   {
    "duration": 0,
    "start_time": "2022-08-05T20:31:48.929Z"
   },
   {
    "duration": 754,
    "start_time": "2022-08-05T20:35:04.628Z"
   },
   {
    "duration": 6,
    "start_time": "2022-08-05T20:40:32.603Z"
   },
   {
    "duration": 746,
    "start_time": "2022-08-05T20:40:56.846Z"
   },
   {
    "duration": 821,
    "start_time": "2022-08-05T20:42:37.271Z"
   },
   {
    "duration": 342,
    "start_time": "2022-08-05T20:44:55.196Z"
   },
   {
    "duration": 151,
    "start_time": "2022-08-05T20:44:55.540Z"
   },
   {
    "duration": 8,
    "start_time": "2022-08-05T20:44:55.693Z"
   },
   {
    "duration": 38,
    "start_time": "2022-08-05T20:44:55.703Z"
   },
   {
    "duration": 4,
    "start_time": "2022-08-05T20:44:55.743Z"
   },
   {
    "duration": 6,
    "start_time": "2022-08-05T20:44:55.748Z"
   },
   {
    "duration": 7,
    "start_time": "2022-08-05T20:44:55.755Z"
   },
   {
    "duration": 5,
    "start_time": "2022-08-05T20:44:55.764Z"
   },
   {
    "duration": 25,
    "start_time": "2022-08-05T20:44:55.770Z"
   },
   {
    "duration": 68,
    "start_time": "2022-08-05T20:44:55.796Z"
   },
   {
    "duration": 21,
    "start_time": "2022-08-05T20:44:55.866Z"
   },
   {
    "duration": 69,
    "start_time": "2022-08-05T20:44:55.888Z"
   },
   {
    "duration": 80,
    "start_time": "2022-08-05T20:44:55.959Z"
   },
   {
    "duration": 56,
    "start_time": "2022-08-05T20:44:56.042Z"
   },
   {
    "duration": 51,
    "start_time": "2022-08-05T20:44:56.100Z"
   },
   {
    "duration": 5,
    "start_time": "2022-08-05T20:44:56.153Z"
   },
   {
    "duration": 27,
    "start_time": "2022-08-05T20:44:56.160Z"
   },
   {
    "duration": 3,
    "start_time": "2022-08-05T20:44:56.189Z"
   },
   {
    "duration": 54,
    "start_time": "2022-08-05T20:44:56.193Z"
   },
   {
    "duration": 10,
    "start_time": "2022-08-05T20:44:56.249Z"
   },
   {
    "duration": 27,
    "start_time": "2022-08-05T20:44:56.260Z"
   },
   {
    "duration": 27,
    "start_time": "2022-08-05T20:44:56.288Z"
   },
   {
    "duration": 4,
    "start_time": "2022-08-05T20:44:56.338Z"
   },
   {
    "duration": 21,
    "start_time": "2022-08-05T20:44:56.344Z"
   },
   {
    "duration": 12,
    "start_time": "2022-08-05T20:44:56.367Z"
   },
   {
    "duration": 12,
    "start_time": "2022-08-05T20:44:56.381Z"
   },
   {
    "duration": 13,
    "start_time": "2022-08-05T20:44:56.395Z"
   },
   {
    "duration": 42,
    "start_time": "2022-08-05T20:44:56.409Z"
   },
   {
    "duration": 12,
    "start_time": "2022-08-05T20:44:56.452Z"
   },
   {
    "duration": 5,
    "start_time": "2022-08-05T20:44:56.466Z"
   },
   {
    "duration": 15,
    "start_time": "2022-08-05T20:44:56.473Z"
   },
   {
    "duration": 16,
    "start_time": "2022-08-05T20:44:56.489Z"
   },
   {
    "duration": 39,
    "start_time": "2022-08-05T20:44:56.506Z"
   },
   {
    "duration": 3,
    "start_time": "2022-08-05T20:44:56.547Z"
   },
   {
    "duration": 29,
    "start_time": "2022-08-05T20:44:56.552Z"
   },
   {
    "duration": 12,
    "start_time": "2022-08-05T20:44:56.583Z"
   },
   {
    "duration": 18,
    "start_time": "2022-08-05T20:44:56.597Z"
   },
   {
    "duration": 33,
    "start_time": "2022-08-05T20:44:56.616Z"
   },
   {
    "duration": 20,
    "start_time": "2022-08-05T20:44:56.650Z"
   },
   {
    "duration": 4,
    "start_time": "2022-08-05T20:44:56.672Z"
   },
   {
    "duration": 21,
    "start_time": "2022-08-05T20:44:56.680Z"
   },
   {
    "duration": 4,
    "start_time": "2022-08-05T20:44:56.703Z"
   },
   {
    "duration": 83,
    "start_time": "2022-08-05T20:52:15.203Z"
   },
   {
    "duration": 74,
    "start_time": "2022-08-05T20:52:35.283Z"
   },
   {
    "duration": 4,
    "start_time": "2022-08-05T20:52:57.799Z"
   },
   {
    "duration": 58,
    "start_time": "2022-08-05T20:53:00.741Z"
   },
   {
    "duration": 4,
    "start_time": "2022-08-05T20:53:22.104Z"
   },
   {
    "duration": 22,
    "start_time": "2022-08-05T20:53:24.920Z"
   },
   {
    "duration": 52,
    "start_time": "2022-08-05T20:59:34.016Z"
   },
   {
    "duration": 99,
    "start_time": "2022-08-05T21:00:08.902Z"
   },
   {
    "duration": 57,
    "start_time": "2022-08-05T21:01:43.065Z"
   },
   {
    "duration": 71,
    "start_time": "2022-08-05T21:03:18.040Z"
   },
   {
    "duration": 144,
    "start_time": "2022-08-05T21:03:57.661Z"
   },
   {
    "duration": 381,
    "start_time": "2022-08-05T21:04:46.254Z"
   },
   {
    "duration": 164,
    "start_time": "2022-08-05T21:04:46.638Z"
   },
   {
    "duration": 8,
    "start_time": "2022-08-05T21:04:46.804Z"
   },
   {
    "duration": 33,
    "start_time": "2022-08-05T21:04:46.813Z"
   },
   {
    "duration": 8,
    "start_time": "2022-08-05T21:04:46.848Z"
   },
   {
    "duration": 13,
    "start_time": "2022-08-05T21:04:46.858Z"
   },
   {
    "duration": 8,
    "start_time": "2022-08-05T21:04:46.873Z"
   },
   {
    "duration": 10,
    "start_time": "2022-08-05T21:04:46.882Z"
   },
   {
    "duration": 29,
    "start_time": "2022-08-05T21:04:46.893Z"
   },
   {
    "duration": 60,
    "start_time": "2022-08-05T21:04:46.925Z"
   },
   {
    "duration": 23,
    "start_time": "2022-08-05T21:04:46.986Z"
   },
   {
    "duration": 75,
    "start_time": "2022-08-05T21:04:47.010Z"
   },
   {
    "duration": 73,
    "start_time": "2022-08-05T21:04:47.087Z"
   },
   {
    "duration": 54,
    "start_time": "2022-08-05T21:04:47.161Z"
   },
   {
    "duration": 51,
    "start_time": "2022-08-05T21:04:47.216Z"
   },
   {
    "duration": 2,
    "start_time": "2022-08-05T21:04:47.269Z"
   },
   {
    "duration": 27,
    "start_time": "2022-08-05T21:04:47.273Z"
   },
   {
    "duration": 3,
    "start_time": "2022-08-05T21:04:47.301Z"
   },
   {
    "duration": 49,
    "start_time": "2022-08-05T21:04:47.305Z"
   },
   {
    "duration": 10,
    "start_time": "2022-08-05T21:04:47.355Z"
   },
   {
    "duration": 43,
    "start_time": "2022-08-05T21:04:47.366Z"
   },
   {
    "duration": 34,
    "start_time": "2022-08-05T21:04:47.411Z"
   },
   {
    "duration": 3,
    "start_time": "2022-08-05T21:04:47.447Z"
   },
   {
    "duration": 42,
    "start_time": "2022-08-05T21:04:47.451Z"
   },
   {
    "duration": 23,
    "start_time": "2022-08-05T21:04:47.495Z"
   },
   {
    "duration": 17,
    "start_time": "2022-08-05T21:04:47.519Z"
   },
   {
    "duration": 23,
    "start_time": "2022-08-05T21:04:47.537Z"
   },
   {
    "duration": 15,
    "start_time": "2022-08-05T21:04:47.564Z"
   },
   {
    "duration": 13,
    "start_time": "2022-08-05T21:04:47.580Z"
   },
   {
    "duration": 5,
    "start_time": "2022-08-05T21:04:47.595Z"
   },
   {
    "duration": 22,
    "start_time": "2022-08-05T21:04:47.601Z"
   },
   {
    "duration": 29,
    "start_time": "2022-08-05T21:04:47.624Z"
   },
   {
    "duration": 12,
    "start_time": "2022-08-05T21:04:47.655Z"
   },
   {
    "duration": 49,
    "start_time": "2022-08-05T21:04:47.669Z"
   },
   {
    "duration": 0,
    "start_time": "2022-08-05T21:04:47.720Z"
   },
   {
    "duration": 0,
    "start_time": "2022-08-05T21:04:47.721Z"
   },
   {
    "duration": 0,
    "start_time": "2022-08-05T21:04:47.722Z"
   },
   {
    "duration": 0,
    "start_time": "2022-08-05T21:04:47.723Z"
   },
   {
    "duration": 0,
    "start_time": "2022-08-05T21:04:47.724Z"
   },
   {
    "duration": 0,
    "start_time": "2022-08-05T21:04:47.726Z"
   },
   {
    "duration": 0,
    "start_time": "2022-08-05T21:04:47.727Z"
   },
   {
    "duration": 0,
    "start_time": "2022-08-05T21:04:47.728Z"
   },
   {
    "duration": 56,
    "start_time": "2022-08-05T21:07:13.932Z"
   },
   {
    "duration": 108,
    "start_time": "2022-08-05T21:16:25.076Z"
   },
   {
    "duration": 423,
    "start_time": "2022-08-05T21:16:58.819Z"
   },
   {
    "duration": 155,
    "start_time": "2022-08-05T21:16:59.244Z"
   },
   {
    "duration": 8,
    "start_time": "2022-08-05T21:16:59.401Z"
   },
   {
    "duration": 32,
    "start_time": "2022-08-05T21:16:59.411Z"
   },
   {
    "duration": 3,
    "start_time": "2022-08-05T21:16:59.445Z"
   },
   {
    "duration": 10,
    "start_time": "2022-08-05T21:16:59.449Z"
   },
   {
    "duration": 6,
    "start_time": "2022-08-05T21:16:59.460Z"
   },
   {
    "duration": 10,
    "start_time": "2022-08-05T21:16:59.467Z"
   },
   {
    "duration": 31,
    "start_time": "2022-08-05T21:16:59.478Z"
   },
   {
    "duration": 53,
    "start_time": "2022-08-05T21:16:59.511Z"
   },
   {
    "duration": 24,
    "start_time": "2022-08-05T21:16:59.566Z"
   },
   {
    "duration": 70,
    "start_time": "2022-08-05T21:16:59.591Z"
   },
   {
    "duration": 95,
    "start_time": "2022-08-05T21:16:59.663Z"
   },
   {
    "duration": 50,
    "start_time": "2022-08-05T21:16:59.759Z"
   },
   {
    "duration": 47,
    "start_time": "2022-08-05T21:16:59.811Z"
   },
   {
    "duration": 3,
    "start_time": "2022-08-05T21:16:59.860Z"
   },
   {
    "duration": 32,
    "start_time": "2022-08-05T21:16:59.864Z"
   },
   {
    "duration": 3,
    "start_time": "2022-08-05T21:16:59.898Z"
   },
   {
    "duration": 48,
    "start_time": "2022-08-05T21:16:59.902Z"
   },
   {
    "duration": 11,
    "start_time": "2022-08-05T21:16:59.952Z"
   },
   {
    "duration": 30,
    "start_time": "2022-08-05T21:16:59.965Z"
   },
   {
    "duration": 53,
    "start_time": "2022-08-05T21:16:59.997Z"
   },
   {
    "duration": 4,
    "start_time": "2022-08-05T21:17:00.051Z"
   },
   {
    "duration": 24,
    "start_time": "2022-08-05T21:17:00.056Z"
   },
   {
    "duration": 13,
    "start_time": "2022-08-05T21:17:00.082Z"
   },
   {
    "duration": 14,
    "start_time": "2022-08-05T21:17:00.096Z"
   },
   {
    "duration": 34,
    "start_time": "2022-08-05T21:17:00.112Z"
   },
   {
    "duration": 19,
    "start_time": "2022-08-05T21:17:00.149Z"
   },
   {
    "duration": 18,
    "start_time": "2022-08-05T21:17:00.169Z"
   },
   {
    "duration": 12,
    "start_time": "2022-08-05T21:17:00.189Z"
   },
   {
    "duration": 29,
    "start_time": "2022-08-05T21:17:00.203Z"
   },
   {
    "duration": 17,
    "start_time": "2022-08-05T21:17:00.238Z"
   },
   {
    "duration": 19,
    "start_time": "2022-08-05T21:17:00.257Z"
   },
   {
    "duration": 75,
    "start_time": "2022-08-05T21:17:00.278Z"
   },
   {
    "duration": 0,
    "start_time": "2022-08-05T21:17:00.355Z"
   },
   {
    "duration": 0,
    "start_time": "2022-08-05T21:17:00.356Z"
   },
   {
    "duration": 0,
    "start_time": "2022-08-05T21:17:00.357Z"
   },
   {
    "duration": 0,
    "start_time": "2022-08-05T21:17:00.358Z"
   },
   {
    "duration": 0,
    "start_time": "2022-08-05T21:17:00.359Z"
   },
   {
    "duration": 0,
    "start_time": "2022-08-05T21:17:00.360Z"
   },
   {
    "duration": 0,
    "start_time": "2022-08-05T21:17:00.361Z"
   },
   {
    "duration": 52,
    "start_time": "2022-08-05T21:17:17.802Z"
   },
   {
    "duration": 398,
    "start_time": "2022-08-06T08:26:05.492Z"
   },
   {
    "duration": 437,
    "start_time": "2022-08-06T08:26:05.894Z"
   },
   {
    "duration": 8,
    "start_time": "2022-08-06T08:26:06.334Z"
   },
   {
    "duration": 31,
    "start_time": "2022-08-06T08:26:06.344Z"
   },
   {
    "duration": 4,
    "start_time": "2022-08-06T08:26:06.377Z"
   },
   {
    "duration": 5,
    "start_time": "2022-08-06T08:26:06.383Z"
   },
   {
    "duration": 6,
    "start_time": "2022-08-06T08:26:06.390Z"
   },
   {
    "duration": 13,
    "start_time": "2022-08-06T08:26:06.397Z"
   },
   {
    "duration": 60,
    "start_time": "2022-08-06T08:26:06.412Z"
   },
   {
    "duration": 94,
    "start_time": "2022-08-06T08:26:06.476Z"
   },
   {
    "duration": 36,
    "start_time": "2022-08-06T08:26:06.574Z"
   },
   {
    "duration": 122,
    "start_time": "2022-08-06T08:26:06.612Z"
   },
   {
    "duration": 110,
    "start_time": "2022-08-06T08:26:06.736Z"
   },
   {
    "duration": 73,
    "start_time": "2022-08-06T08:26:06.850Z"
   },
   {
    "duration": 50,
    "start_time": "2022-08-06T08:26:06.925Z"
   },
   {
    "duration": 5,
    "start_time": "2022-08-06T08:26:06.976Z"
   },
   {
    "duration": 25,
    "start_time": "2022-08-06T08:26:06.982Z"
   },
   {
    "duration": 4,
    "start_time": "2022-08-06T08:26:07.009Z"
   },
   {
    "duration": 57,
    "start_time": "2022-08-06T08:26:07.014Z"
   },
   {
    "duration": 14,
    "start_time": "2022-08-06T08:26:07.073Z"
   },
   {
    "duration": 35,
    "start_time": "2022-08-06T08:26:07.089Z"
   },
   {
    "duration": 60,
    "start_time": "2022-08-06T08:26:07.126Z"
   },
   {
    "duration": 5,
    "start_time": "2022-08-06T08:26:07.188Z"
   },
   {
    "duration": 23,
    "start_time": "2022-08-06T08:26:07.195Z"
   },
   {
    "duration": 15,
    "start_time": "2022-08-06T08:26:07.220Z"
   },
   {
    "duration": 39,
    "start_time": "2022-08-06T08:26:07.236Z"
   },
   {
    "duration": 14,
    "start_time": "2022-08-06T08:26:07.277Z"
   },
   {
    "duration": 23,
    "start_time": "2022-08-06T08:26:07.296Z"
   },
   {
    "duration": 51,
    "start_time": "2022-08-06T08:26:07.321Z"
   },
   {
    "duration": 10,
    "start_time": "2022-08-06T08:26:07.374Z"
   },
   {
    "duration": 47,
    "start_time": "2022-08-06T08:26:07.386Z"
   },
   {
    "duration": 47,
    "start_time": "2022-08-06T08:26:07.435Z"
   },
   {
    "duration": 34,
    "start_time": "2022-08-06T08:26:07.484Z"
   },
   {
    "duration": 95,
    "start_time": "2022-08-06T08:26:07.521Z"
   },
   {
    "duration": 0,
    "start_time": "2022-08-06T08:26:07.619Z"
   },
   {
    "duration": 0,
    "start_time": "2022-08-06T08:26:07.621Z"
   },
   {
    "duration": 0,
    "start_time": "2022-08-06T08:26:07.622Z"
   },
   {
    "duration": 0,
    "start_time": "2022-08-06T08:26:07.624Z"
   },
   {
    "duration": 0,
    "start_time": "2022-08-06T08:26:07.626Z"
   },
   {
    "duration": 0,
    "start_time": "2022-08-06T08:26:07.627Z"
   },
   {
    "duration": 0,
    "start_time": "2022-08-06T08:26:07.628Z"
   },
   {
    "duration": 0,
    "start_time": "2022-08-06T08:26:07.629Z"
   },
   {
    "duration": 77,
    "start_time": "2022-08-06T08:26:14.367Z"
   },
   {
    "duration": 1830,
    "start_time": "2022-08-06T08:29:18.593Z"
   },
   {
    "duration": 1645,
    "start_time": "2022-08-06T08:29:20.786Z"
   },
   {
    "duration": 34,
    "start_time": "2022-08-06T08:29:33.517Z"
   },
   {
    "duration": 4,
    "start_time": "2022-08-06T08:30:36.821Z"
   },
   {
    "duration": 1329,
    "start_time": "2022-08-06T08:30:55.861Z"
   },
   {
    "duration": 1312,
    "start_time": "2022-08-06T08:31:10.538Z"
   },
   {
    "duration": 12,
    "start_time": "2022-08-06T08:31:51.051Z"
   },
   {
    "duration": 377,
    "start_time": "2022-08-06T08:32:21.724Z"
   },
   {
    "duration": 205,
    "start_time": "2022-08-06T08:32:22.104Z"
   },
   {
    "duration": 10,
    "start_time": "2022-08-06T08:32:22.311Z"
   },
   {
    "duration": 53,
    "start_time": "2022-08-06T08:32:22.324Z"
   },
   {
    "duration": 5,
    "start_time": "2022-08-06T08:32:22.379Z"
   },
   {
    "duration": 4,
    "start_time": "2022-08-06T08:32:22.386Z"
   },
   {
    "duration": 11,
    "start_time": "2022-08-06T08:32:22.391Z"
   },
   {
    "duration": 8,
    "start_time": "2022-08-06T08:32:22.405Z"
   },
   {
    "duration": 66,
    "start_time": "2022-08-06T08:32:22.416Z"
   },
   {
    "duration": 63,
    "start_time": "2022-08-06T08:32:22.485Z"
   },
   {
    "duration": 40,
    "start_time": "2022-08-06T08:32:22.550Z"
   },
   {
    "duration": 85,
    "start_time": "2022-08-06T08:32:22.592Z"
   },
   {
    "duration": 90,
    "start_time": "2022-08-06T08:32:22.679Z"
   },
   {
    "duration": 80,
    "start_time": "2022-08-06T08:32:22.771Z"
   },
   {
    "duration": 61,
    "start_time": "2022-08-06T08:32:22.868Z"
   },
   {
    "duration": 4,
    "start_time": "2022-08-06T08:32:22.931Z"
   },
   {
    "duration": 43,
    "start_time": "2022-08-06T08:32:22.937Z"
   },
   {
    "duration": 4,
    "start_time": "2022-08-06T08:32:22.982Z"
   },
   {
    "duration": 51,
    "start_time": "2022-08-06T08:32:22.987Z"
   },
   {
    "duration": 10,
    "start_time": "2022-08-06T08:32:23.040Z"
   },
   {
    "duration": 110,
    "start_time": "2022-08-06T08:32:23.052Z"
   },
   {
    "duration": 0,
    "start_time": "2022-08-06T08:32:23.164Z"
   },
   {
    "duration": 0,
    "start_time": "2022-08-06T08:32:23.167Z"
   },
   {
    "duration": 0,
    "start_time": "2022-08-06T08:32:23.169Z"
   },
   {
    "duration": 0,
    "start_time": "2022-08-06T08:32:23.171Z"
   },
   {
    "duration": 0,
    "start_time": "2022-08-06T08:32:23.173Z"
   },
   {
    "duration": 0,
    "start_time": "2022-08-06T08:32:23.174Z"
   },
   {
    "duration": 0,
    "start_time": "2022-08-06T08:32:23.176Z"
   },
   {
    "duration": 0,
    "start_time": "2022-08-06T08:32:23.180Z"
   },
   {
    "duration": 0,
    "start_time": "2022-08-06T08:32:23.182Z"
   },
   {
    "duration": 0,
    "start_time": "2022-08-06T08:32:23.184Z"
   },
   {
    "duration": 0,
    "start_time": "2022-08-06T08:32:23.186Z"
   },
   {
    "duration": 0,
    "start_time": "2022-08-06T08:32:23.187Z"
   },
   {
    "duration": 0,
    "start_time": "2022-08-06T08:32:23.189Z"
   },
   {
    "duration": 0,
    "start_time": "2022-08-06T08:32:23.191Z"
   },
   {
    "duration": 0,
    "start_time": "2022-08-06T08:32:23.194Z"
   },
   {
    "duration": 0,
    "start_time": "2022-08-06T08:32:23.195Z"
   },
   {
    "duration": 0,
    "start_time": "2022-08-06T08:32:23.197Z"
   },
   {
    "duration": 0,
    "start_time": "2022-08-06T08:32:23.199Z"
   },
   {
    "duration": 0,
    "start_time": "2022-08-06T08:32:23.201Z"
   },
   {
    "duration": 0,
    "start_time": "2022-08-06T08:32:23.202Z"
   },
   {
    "duration": 0,
    "start_time": "2022-08-06T08:32:23.204Z"
   },
   {
    "duration": 11,
    "start_time": "2022-08-06T08:32:38.118Z"
   },
   {
    "duration": 9,
    "start_time": "2022-08-06T08:33:04.330Z"
   },
   {
    "duration": 3,
    "start_time": "2022-08-06T08:33:54.169Z"
   },
   {
    "duration": 36,
    "start_time": "2022-08-06T08:33:57.048Z"
   },
   {
    "duration": 15,
    "start_time": "2022-08-06T08:34:16.323Z"
   },
   {
    "duration": 30,
    "start_time": "2022-08-06T08:35:40.516Z"
   },
   {
    "duration": 16,
    "start_time": "2022-08-06T08:37:36.469Z"
   },
   {
    "duration": 3,
    "start_time": "2022-08-06T08:39:45.310Z"
   },
   {
    "duration": 19,
    "start_time": "2022-08-06T08:39:50.731Z"
   },
   {
    "duration": 15,
    "start_time": "2022-08-06T08:39:51.684Z"
   },
   {
    "duration": 17,
    "start_time": "2022-08-06T08:39:51.888Z"
   },
   {
    "duration": 14,
    "start_time": "2022-08-06T08:39:52.474Z"
   },
   {
    "duration": 25,
    "start_time": "2022-08-06T08:39:52.764Z"
   },
   {
    "duration": 21,
    "start_time": "2022-08-06T08:39:53.449Z"
   },
   {
    "duration": 9,
    "start_time": "2022-08-06T08:39:54.106Z"
   },
   {
    "duration": 4,
    "start_time": "2022-08-06T08:45:22.590Z"
   },
   {
    "duration": 4,
    "start_time": "2022-08-06T08:45:45.849Z"
   },
   {
    "duration": 4,
    "start_time": "2022-08-06T08:46:36.774Z"
   },
   {
    "duration": 76,
    "start_time": "2022-08-06T08:47:12.662Z"
   },
   {
    "duration": 75,
    "start_time": "2022-08-06T08:48:31.678Z"
   },
   {
    "duration": 75,
    "start_time": "2022-08-06T08:51:01.666Z"
   },
   {
    "duration": 78,
    "start_time": "2022-08-06T08:51:41.235Z"
   },
   {
    "duration": 75,
    "start_time": "2022-08-06T08:52:38.570Z"
   },
   {
    "duration": 9,
    "start_time": "2022-08-06T08:52:47.437Z"
   },
   {
    "duration": 75,
    "start_time": "2022-08-06T08:54:30.977Z"
   },
   {
    "duration": 76,
    "start_time": "2022-08-06T08:56:59.872Z"
   },
   {
    "duration": 81,
    "start_time": "2022-08-06T08:57:23.016Z"
   },
   {
    "duration": 79,
    "start_time": "2022-08-06T08:58:04.875Z"
   },
   {
    "duration": 5,
    "start_time": "2022-08-06T08:58:51.388Z"
   },
   {
    "duration": 5,
    "start_time": "2022-08-06T08:58:55.028Z"
   },
   {
    "duration": 5,
    "start_time": "2022-08-06T08:59:12.429Z"
   },
   {
    "duration": 4,
    "start_time": "2022-08-06T08:59:29.321Z"
   },
   {
    "duration": 3,
    "start_time": "2022-08-06T09:00:01.372Z"
   },
   {
    "duration": 4,
    "start_time": "2022-08-06T09:00:16.632Z"
   },
   {
    "duration": 5,
    "start_time": "2022-08-06T09:00:18.710Z"
   },
   {
    "duration": 74,
    "start_time": "2022-08-06T09:00:43.560Z"
   },
   {
    "duration": 5,
    "start_time": "2022-08-06T09:00:56.689Z"
   },
   {
    "duration": 6,
    "start_time": "2022-08-06T09:01:55.177Z"
   },
   {
    "duration": 4,
    "start_time": "2022-08-06T13:56:57.444Z"
   },
   {
    "duration": 7,
    "start_time": "2022-08-06T13:57:04.185Z"
   },
   {
    "duration": 477,
    "start_time": "2022-08-06T13:57:30.998Z"
   },
   {
    "duration": 221,
    "start_time": "2022-08-06T13:57:31.477Z"
   },
   {
    "duration": 9,
    "start_time": "2022-08-06T13:57:31.700Z"
   },
   {
    "duration": 40,
    "start_time": "2022-08-06T13:57:31.711Z"
   },
   {
    "duration": 15,
    "start_time": "2022-08-06T13:57:31.753Z"
   },
   {
    "duration": 3,
    "start_time": "2022-08-06T13:57:31.771Z"
   },
   {
    "duration": 7,
    "start_time": "2022-08-06T13:57:31.776Z"
   },
   {
    "duration": 14,
    "start_time": "2022-08-06T13:57:31.785Z"
   },
   {
    "duration": 39,
    "start_time": "2022-08-06T13:57:31.801Z"
   },
   {
    "duration": 87,
    "start_time": "2022-08-06T13:57:31.844Z"
   },
   {
    "duration": 36,
    "start_time": "2022-08-06T13:57:31.933Z"
   },
   {
    "duration": 100,
    "start_time": "2022-08-06T13:57:31.971Z"
   },
   {
    "duration": 123,
    "start_time": "2022-08-06T13:57:32.073Z"
   },
   {
    "duration": 84,
    "start_time": "2022-08-06T13:57:32.198Z"
   },
   {
    "duration": 49,
    "start_time": "2022-08-06T13:57:32.284Z"
   },
   {
    "duration": 3,
    "start_time": "2022-08-06T13:57:32.335Z"
   },
   {
    "duration": 46,
    "start_time": "2022-08-06T13:57:32.339Z"
   },
   {
    "duration": 4,
    "start_time": "2022-08-06T13:57:32.387Z"
   },
   {
    "duration": 75,
    "start_time": "2022-08-06T13:57:32.393Z"
   },
   {
    "duration": 18,
    "start_time": "2022-08-06T13:57:32.470Z"
   },
   {
    "duration": 51,
    "start_time": "2022-08-06T13:57:32.490Z"
   },
   {
    "duration": 44,
    "start_time": "2022-08-06T13:57:32.543Z"
   },
   {
    "duration": 5,
    "start_time": "2022-08-06T13:57:32.589Z"
   },
   {
    "duration": 24,
    "start_time": "2022-08-06T13:57:32.596Z"
   },
   {
    "duration": 18,
    "start_time": "2022-08-06T13:57:32.623Z"
   },
   {
    "duration": 21,
    "start_time": "2022-08-06T13:57:32.667Z"
   },
   {
    "duration": 20,
    "start_time": "2022-08-06T13:57:32.691Z"
   },
   {
    "duration": 22,
    "start_time": "2022-08-06T13:57:32.715Z"
   },
   {
    "duration": 20,
    "start_time": "2022-08-06T13:57:32.768Z"
   },
   {
    "duration": 9,
    "start_time": "2022-08-06T13:57:32.790Z"
   },
   {
    "duration": 21,
    "start_time": "2022-08-06T13:57:32.801Z"
   },
   {
    "duration": 48,
    "start_time": "2022-08-06T13:57:32.824Z"
   },
   {
    "duration": 15,
    "start_time": "2022-08-06T13:57:32.873Z"
   },
   {
    "duration": 5,
    "start_time": "2022-08-06T13:57:32.890Z"
   },
   {
    "duration": 152,
    "start_time": "2022-08-06T13:57:32.898Z"
   },
   {
    "duration": 0,
    "start_time": "2022-08-06T13:57:33.052Z"
   },
   {
    "duration": 0,
    "start_time": "2022-08-06T13:57:33.053Z"
   },
   {
    "duration": 0,
    "start_time": "2022-08-06T13:57:33.054Z"
   },
   {
    "duration": 0,
    "start_time": "2022-08-06T13:57:33.056Z"
   },
   {
    "duration": 0,
    "start_time": "2022-08-06T13:57:33.056Z"
   },
   {
    "duration": 0,
    "start_time": "2022-08-06T13:57:33.068Z"
   },
   {
    "duration": 0,
    "start_time": "2022-08-06T13:57:33.069Z"
   },
   {
    "duration": 4,
    "start_time": "2022-08-06T13:58:11.404Z"
   },
   {
    "duration": 37,
    "start_time": "2022-08-06T13:58:15.834Z"
   },
   {
    "duration": 43,
    "start_time": "2022-08-06T13:58:56.331Z"
   },
   {
    "duration": 5,
    "start_time": "2022-08-06T13:59:51.383Z"
   },
   {
    "duration": 64,
    "start_time": "2022-08-06T13:59:53.327Z"
   },
   {
    "duration": 22,
    "start_time": "2022-08-06T14:00:13.722Z"
   },
   {
    "duration": 4,
    "start_time": "2022-08-06T14:04:09.906Z"
   },
   {
    "duration": 41,
    "start_time": "2022-08-06T14:04:13.717Z"
   },
   {
    "duration": 64,
    "start_time": "2022-08-06T14:05:12.117Z"
   },
   {
    "duration": 28,
    "start_time": "2022-08-06T14:06:07.772Z"
   },
   {
    "duration": 36,
    "start_time": "2022-08-06T14:06:17.985Z"
   },
   {
    "duration": 370,
    "start_time": "2022-08-06T14:07:09.709Z"
   },
   {
    "duration": 176,
    "start_time": "2022-08-06T14:07:10.081Z"
   },
   {
    "duration": 11,
    "start_time": "2022-08-06T14:07:10.258Z"
   },
   {
    "duration": 36,
    "start_time": "2022-08-06T14:07:10.271Z"
   },
   {
    "duration": 4,
    "start_time": "2022-08-06T14:07:10.309Z"
   },
   {
    "duration": 16,
    "start_time": "2022-08-06T14:07:10.315Z"
   },
   {
    "duration": 11,
    "start_time": "2022-08-06T14:07:10.333Z"
   },
   {
    "duration": 10,
    "start_time": "2022-08-06T14:07:10.346Z"
   },
   {
    "duration": 40,
    "start_time": "2022-08-06T14:07:10.358Z"
   },
   {
    "duration": 59,
    "start_time": "2022-08-06T14:07:10.401Z"
   },
   {
    "duration": 23,
    "start_time": "2022-08-06T14:07:10.467Z"
   },
   {
    "duration": 84,
    "start_time": "2022-08-06T14:07:10.492Z"
   },
   {
    "duration": 90,
    "start_time": "2022-08-06T14:07:10.578Z"
   },
   {
    "duration": 59,
    "start_time": "2022-08-06T14:07:10.669Z"
   },
   {
    "duration": 46,
    "start_time": "2022-08-06T14:07:10.730Z"
   },
   {
    "duration": 2,
    "start_time": "2022-08-06T14:07:10.778Z"
   },
   {
    "duration": 29,
    "start_time": "2022-08-06T14:07:10.782Z"
   },
   {
    "duration": 3,
    "start_time": "2022-08-06T14:07:10.813Z"
   },
   {
    "duration": 50,
    "start_time": "2022-08-06T14:07:10.817Z"
   },
   {
    "duration": 11,
    "start_time": "2022-08-06T14:07:10.869Z"
   },
   {
    "duration": 32,
    "start_time": "2022-08-06T14:07:10.881Z"
   },
   {
    "duration": 13,
    "start_time": "2022-08-06T14:07:10.914Z"
   },
   {
    "duration": 4,
    "start_time": "2022-08-06T14:07:10.929Z"
   },
   {
    "duration": 17,
    "start_time": "2022-08-06T14:07:10.967Z"
   },
   {
    "duration": 14,
    "start_time": "2022-08-06T14:07:10.986Z"
   },
   {
    "duration": 15,
    "start_time": "2022-08-06T14:07:11.001Z"
   },
   {
    "duration": 51,
    "start_time": "2022-08-06T14:07:11.018Z"
   },
   {
    "duration": 24,
    "start_time": "2022-08-06T14:07:11.073Z"
   },
   {
    "duration": 22,
    "start_time": "2022-08-06T14:07:11.099Z"
   },
   {
    "duration": 7,
    "start_time": "2022-08-06T14:07:11.123Z"
   },
   {
    "duration": 46,
    "start_time": "2022-08-06T14:07:11.132Z"
   },
   {
    "duration": 3,
    "start_time": "2022-08-06T14:07:11.180Z"
   },
   {
    "duration": 20,
    "start_time": "2022-08-06T14:07:11.185Z"
   },
   {
    "duration": 4,
    "start_time": "2022-08-06T14:07:11.207Z"
   },
   {
    "duration": 34,
    "start_time": "2022-08-06T14:07:11.213Z"
   },
   {
    "duration": 96,
    "start_time": "2022-08-06T14:07:11.249Z"
   },
   {
    "duration": 0,
    "start_time": "2022-08-06T14:07:11.346Z"
   },
   {
    "duration": 0,
    "start_time": "2022-08-06T14:07:11.347Z"
   },
   {
    "duration": 0,
    "start_time": "2022-08-06T14:07:11.348Z"
   },
   {
    "duration": 0,
    "start_time": "2022-08-06T14:07:11.349Z"
   },
   {
    "duration": 0,
    "start_time": "2022-08-06T14:07:11.350Z"
   },
   {
    "duration": 0,
    "start_time": "2022-08-06T14:07:11.351Z"
   },
   {
    "duration": 23,
    "start_time": "2022-08-06T14:07:19.031Z"
   },
   {
    "duration": 3,
    "start_time": "2022-08-06T14:08:39.229Z"
   },
   {
    "duration": 22,
    "start_time": "2022-08-06T14:08:42.176Z"
   },
   {
    "duration": 4,
    "start_time": "2022-08-06T14:09:38.545Z"
   },
   {
    "duration": 15,
    "start_time": "2022-08-06T14:09:41.608Z"
   },
   {
    "duration": 15,
    "start_time": "2022-08-06T14:13:05.263Z"
   },
   {
    "duration": 29,
    "start_time": "2022-08-06T14:13:15.084Z"
   },
   {
    "duration": 36,
    "start_time": "2022-08-06T14:26:50.444Z"
   },
   {
    "duration": 4,
    "start_time": "2022-08-06T14:26:53.564Z"
   },
   {
    "duration": 15,
    "start_time": "2022-08-06T14:26:56.835Z"
   },
   {
    "duration": 25,
    "start_time": "2022-08-06T14:26:58.343Z"
   },
   {
    "duration": 403,
    "start_time": "2022-08-06T14:28:21.390Z"
   },
   {
    "duration": 160,
    "start_time": "2022-08-06T14:28:21.794Z"
   },
   {
    "duration": 13,
    "start_time": "2022-08-06T14:28:21.955Z"
   },
   {
    "duration": 41,
    "start_time": "2022-08-06T14:28:21.970Z"
   },
   {
    "duration": 11,
    "start_time": "2022-08-06T14:28:22.013Z"
   },
   {
    "duration": 27,
    "start_time": "2022-08-06T14:28:22.026Z"
   },
   {
    "duration": 12,
    "start_time": "2022-08-06T14:28:22.054Z"
   },
   {
    "duration": 23,
    "start_time": "2022-08-06T14:28:22.067Z"
   },
   {
    "duration": 37,
    "start_time": "2022-08-06T14:28:22.092Z"
   },
   {
    "duration": 62,
    "start_time": "2022-08-06T14:28:22.133Z"
   },
   {
    "duration": 23,
    "start_time": "2022-08-06T14:28:22.197Z"
   },
   {
    "duration": 84,
    "start_time": "2022-08-06T14:28:22.221Z"
   },
   {
    "duration": 89,
    "start_time": "2022-08-06T14:28:22.307Z"
   },
   {
    "duration": 71,
    "start_time": "2022-08-06T14:28:22.398Z"
   },
   {
    "duration": 38,
    "start_time": "2022-08-06T14:28:22.471Z"
   },
   {
    "duration": 4,
    "start_time": "2022-08-06T14:28:22.511Z"
   },
   {
    "duration": 61,
    "start_time": "2022-08-06T14:28:22.517Z"
   },
   {
    "duration": 4,
    "start_time": "2022-08-06T14:28:22.580Z"
   },
   {
    "duration": 55,
    "start_time": "2022-08-06T14:28:22.586Z"
   },
   {
    "duration": 10,
    "start_time": "2022-08-06T14:28:22.643Z"
   },
   {
    "duration": 44,
    "start_time": "2022-08-06T14:28:22.655Z"
   },
   {
    "duration": 13,
    "start_time": "2022-08-06T14:28:22.701Z"
   },
   {
    "duration": 5,
    "start_time": "2022-08-06T14:28:22.716Z"
   },
   {
    "duration": 26,
    "start_time": "2022-08-06T14:28:22.722Z"
   },
   {
    "duration": 45,
    "start_time": "2022-08-06T14:28:22.750Z"
   },
   {
    "duration": 14,
    "start_time": "2022-08-06T14:28:22.797Z"
   },
   {
    "duration": 25,
    "start_time": "2022-08-06T14:28:22.813Z"
   },
   {
    "duration": 28,
    "start_time": "2022-08-06T14:28:22.841Z"
   },
   {
    "duration": 20,
    "start_time": "2022-08-06T14:28:22.871Z"
   },
   {
    "duration": 16,
    "start_time": "2022-08-06T14:28:22.893Z"
   },
   {
    "duration": 26,
    "start_time": "2022-08-06T14:28:22.911Z"
   },
   {
    "duration": 3,
    "start_time": "2022-08-06T14:28:22.939Z"
   },
   {
    "duration": 33,
    "start_time": "2022-08-06T14:28:22.944Z"
   },
   {
    "duration": 5,
    "start_time": "2022-08-06T14:28:22.979Z"
   },
   {
    "duration": 40,
    "start_time": "2022-08-06T14:28:22.986Z"
   },
   {
    "duration": 99,
    "start_time": "2022-08-06T14:28:23.028Z"
   },
   {
    "duration": 0,
    "start_time": "2022-08-06T14:28:23.129Z"
   },
   {
    "duration": 0,
    "start_time": "2022-08-06T14:28:23.131Z"
   },
   {
    "duration": 0,
    "start_time": "2022-08-06T14:28:23.133Z"
   },
   {
    "duration": 0,
    "start_time": "2022-08-06T14:28:23.134Z"
   },
   {
    "duration": 0,
    "start_time": "2022-08-06T14:28:23.136Z"
   },
   {
    "duration": 0,
    "start_time": "2022-08-06T14:28:23.137Z"
   },
   {
    "duration": 5,
    "start_time": "2022-08-06T14:28:37.886Z"
   },
   {
    "duration": 17,
    "start_time": "2022-08-06T14:28:40.662Z"
   },
   {
    "duration": 5,
    "start_time": "2022-08-06T14:30:08.563Z"
   },
   {
    "duration": 17,
    "start_time": "2022-08-06T14:30:10.212Z"
   },
   {
    "duration": 3,
    "start_time": "2022-08-06T14:31:36.731Z"
   },
   {
    "duration": 21,
    "start_time": "2022-08-06T14:31:39.565Z"
   },
   {
    "duration": 77,
    "start_time": "2022-08-06T14:32:16.986Z"
   },
   {
    "duration": 4,
    "start_time": "2022-08-06T14:32:24.118Z"
   },
   {
    "duration": 4,
    "start_time": "2022-08-06T14:34:45.165Z"
   },
   {
    "duration": 18,
    "start_time": "2022-08-06T14:34:46.409Z"
   },
   {
    "duration": 27,
    "start_time": "2022-08-06T14:34:52.725Z"
   },
   {
    "duration": 22,
    "start_time": "2022-08-06T14:39:24.570Z"
   },
   {
    "duration": 6,
    "start_time": "2022-08-06T14:43:29.879Z"
   },
   {
    "duration": 6,
    "start_time": "2022-08-06T14:44:33.609Z"
   },
   {
    "duration": 30,
    "start_time": "2022-08-06T14:44:36.180Z"
   },
   {
    "duration": 3,
    "start_time": "2022-08-06T14:44:53.019Z"
   },
   {
    "duration": 14,
    "start_time": "2022-08-06T14:44:55.984Z"
   },
   {
    "duration": 4,
    "start_time": "2022-08-06T14:45:15.406Z"
   },
   {
    "duration": 21,
    "start_time": "2022-08-06T14:45:16.837Z"
   },
   {
    "duration": 5,
    "start_time": "2022-08-06T14:47:53.306Z"
   },
   {
    "duration": 19,
    "start_time": "2022-08-06T14:47:54.959Z"
   },
   {
    "duration": 19,
    "start_time": "2022-08-06T14:48:00.869Z"
   },
   {
    "duration": 17,
    "start_time": "2022-08-06T14:48:10.614Z"
   },
   {
    "duration": 16,
    "start_time": "2022-08-06T14:48:11.533Z"
   },
   {
    "duration": 11,
    "start_time": "2022-08-06T14:48:12.840Z"
   },
   {
    "duration": 21,
    "start_time": "2022-08-06T14:49:19.427Z"
   },
   {
    "duration": 13,
    "start_time": "2022-08-06T14:49:33.952Z"
   },
   {
    "duration": 20,
    "start_time": "2022-08-06T14:49:47.265Z"
   },
   {
    "duration": 24,
    "start_time": "2022-08-06T14:50:41.642Z"
   },
   {
    "duration": 5,
    "start_time": "2022-08-06T14:50:43.072Z"
   },
   {
    "duration": 5,
    "start_time": "2022-08-06T14:51:10.146Z"
   },
   {
    "duration": 13,
    "start_time": "2022-08-06T14:51:14.127Z"
   },
   {
    "duration": 8,
    "start_time": "2022-08-06T14:51:24.613Z"
   },
   {
    "duration": 4,
    "start_time": "2022-08-06T14:51:27.471Z"
   },
   {
    "duration": 23,
    "start_time": "2022-08-06T14:52:01.073Z"
   },
   {
    "duration": 5,
    "start_time": "2022-08-06T14:52:02.548Z"
   },
   {
    "duration": 404,
    "start_time": "2022-08-06T14:54:03.332Z"
   },
   {
    "duration": 155,
    "start_time": "2022-08-06T14:54:03.738Z"
   },
   {
    "duration": 8,
    "start_time": "2022-08-06T14:54:03.895Z"
   },
   {
    "duration": 33,
    "start_time": "2022-08-06T14:54:03.904Z"
   },
   {
    "duration": 3,
    "start_time": "2022-08-06T14:54:03.940Z"
   },
   {
    "duration": 10,
    "start_time": "2022-08-06T14:54:03.945Z"
   },
   {
    "duration": 9,
    "start_time": "2022-08-06T14:54:03.956Z"
   },
   {
    "duration": 12,
    "start_time": "2022-08-06T14:54:03.968Z"
   },
   {
    "duration": 29,
    "start_time": "2022-08-06T14:54:03.982Z"
   },
   {
    "duration": 56,
    "start_time": "2022-08-06T14:54:04.013Z"
   },
   {
    "duration": 21,
    "start_time": "2022-08-06T14:54:04.071Z"
   },
   {
    "duration": 75,
    "start_time": "2022-08-06T14:54:04.094Z"
   },
   {
    "duration": 77,
    "start_time": "2022-08-06T14:54:04.172Z"
   },
   {
    "duration": 69,
    "start_time": "2022-08-06T14:54:04.253Z"
   },
   {
    "duration": 51,
    "start_time": "2022-08-06T14:54:04.324Z"
   },
   {
    "duration": 3,
    "start_time": "2022-08-06T14:54:04.377Z"
   },
   {
    "duration": 31,
    "start_time": "2022-08-06T14:54:04.382Z"
   },
   {
    "duration": 3,
    "start_time": "2022-08-06T14:54:04.415Z"
   },
   {
    "duration": 38,
    "start_time": "2022-08-06T14:54:04.419Z"
   },
   {
    "duration": 17,
    "start_time": "2022-08-06T14:54:04.459Z"
   },
   {
    "duration": 38,
    "start_time": "2022-08-06T14:54:04.478Z"
   },
   {
    "duration": 10,
    "start_time": "2022-08-06T14:54:04.518Z"
   },
   {
    "duration": 9,
    "start_time": "2022-08-06T14:54:04.530Z"
   },
   {
    "duration": 28,
    "start_time": "2022-08-06T14:54:04.540Z"
   },
   {
    "duration": 15,
    "start_time": "2022-08-06T14:54:04.570Z"
   },
   {
    "duration": 17,
    "start_time": "2022-08-06T14:54:04.587Z"
   },
   {
    "duration": 13,
    "start_time": "2022-08-06T14:54:04.605Z"
   },
   {
    "duration": 17,
    "start_time": "2022-08-06T14:54:04.619Z"
   },
   {
    "duration": 43,
    "start_time": "2022-08-06T14:54:04.638Z"
   },
   {
    "duration": 9,
    "start_time": "2022-08-06T14:54:04.683Z"
   },
   {
    "duration": 30,
    "start_time": "2022-08-06T14:54:04.693Z"
   },
   {
    "duration": 23,
    "start_time": "2022-08-06T14:54:04.725Z"
   },
   {
    "duration": 26,
    "start_time": "2022-08-06T14:54:04.750Z"
   },
   {
    "duration": 5,
    "start_time": "2022-08-06T14:54:04.778Z"
   },
   {
    "duration": 21,
    "start_time": "2022-08-06T14:54:04.785Z"
   },
   {
    "duration": 15,
    "start_time": "2022-08-06T14:54:04.808Z"
   },
   {
    "duration": 11,
    "start_time": "2022-08-06T14:54:04.825Z"
   },
   {
    "duration": 32,
    "start_time": "2022-08-06T14:54:04.838Z"
   },
   {
    "duration": 9,
    "start_time": "2022-08-06T14:54:04.872Z"
   },
   {
    "duration": 5,
    "start_time": "2022-08-06T14:54:04.882Z"
   },
   {
    "duration": 106,
    "start_time": "2022-08-06T14:54:04.891Z"
   },
   {
    "duration": 1,
    "start_time": "2022-08-06T14:54:04.998Z"
   },
   {
    "duration": 11,
    "start_time": "2022-08-06T14:54:45.029Z"
   },
   {
    "duration": 4,
    "start_time": "2022-08-06T14:54:47.612Z"
   },
   {
    "duration": 71,
    "start_time": "2022-08-06T14:55:12.571Z"
   },
   {
    "duration": 9,
    "start_time": "2022-08-06T14:56:08.907Z"
   },
   {
    "duration": 3,
    "start_time": "2022-08-06T14:56:11.327Z"
   },
   {
    "duration": 457,
    "start_time": "2022-08-06T15:14:43.283Z"
   },
   {
    "duration": 172,
    "start_time": "2022-08-06T15:14:43.742Z"
   },
   {
    "duration": 8,
    "start_time": "2022-08-06T15:14:43.916Z"
   },
   {
    "duration": 45,
    "start_time": "2022-08-06T15:14:43.926Z"
   },
   {
    "duration": 3,
    "start_time": "2022-08-06T15:14:43.973Z"
   },
   {
    "duration": 5,
    "start_time": "2022-08-06T15:14:43.978Z"
   },
   {
    "duration": 5,
    "start_time": "2022-08-06T15:14:43.985Z"
   },
   {
    "duration": 8,
    "start_time": "2022-08-06T15:14:43.992Z"
   },
   {
    "duration": 25,
    "start_time": "2022-08-06T15:14:44.002Z"
   },
   {
    "duration": 84,
    "start_time": "2022-08-06T15:14:44.030Z"
   },
   {
    "duration": 23,
    "start_time": "2022-08-06T15:14:44.116Z"
   },
   {
    "duration": 86,
    "start_time": "2022-08-06T15:14:44.141Z"
   },
   {
    "duration": 92,
    "start_time": "2022-08-06T15:14:44.229Z"
   },
   {
    "duration": 68,
    "start_time": "2022-08-06T15:14:44.323Z"
   },
   {
    "duration": 38,
    "start_time": "2022-08-06T15:14:44.392Z"
   },
   {
    "duration": 3,
    "start_time": "2022-08-06T15:14:44.431Z"
   },
   {
    "duration": 43,
    "start_time": "2022-08-06T15:14:44.436Z"
   },
   {
    "duration": 3,
    "start_time": "2022-08-06T15:14:44.481Z"
   },
   {
    "duration": 39,
    "start_time": "2022-08-06T15:14:44.485Z"
   },
   {
    "duration": 10,
    "start_time": "2022-08-06T15:14:44.525Z"
   },
   {
    "duration": 57,
    "start_time": "2022-08-06T15:14:44.537Z"
   },
   {
    "duration": 13,
    "start_time": "2022-08-06T15:14:44.596Z"
   },
   {
    "duration": 3,
    "start_time": "2022-08-06T15:14:44.611Z"
   },
   {
    "duration": 23,
    "start_time": "2022-08-06T15:14:44.616Z"
   },
   {
    "duration": 37,
    "start_time": "2022-08-06T15:14:44.641Z"
   },
   {
    "duration": 16,
    "start_time": "2022-08-06T15:14:44.680Z"
   },
   {
    "duration": 15,
    "start_time": "2022-08-06T15:14:44.698Z"
   },
   {
    "duration": 51,
    "start_time": "2022-08-06T15:14:44.717Z"
   },
   {
    "duration": 16,
    "start_time": "2022-08-06T15:14:44.769Z"
   },
   {
    "duration": 7,
    "start_time": "2022-08-06T15:14:44.786Z"
   },
   {
    "duration": 18,
    "start_time": "2022-08-06T15:14:44.795Z"
   },
   {
    "duration": 4,
    "start_time": "2022-08-06T15:14:44.814Z"
   },
   {
    "duration": 52,
    "start_time": "2022-08-06T15:14:44.820Z"
   },
   {
    "duration": 4,
    "start_time": "2022-08-06T15:14:44.874Z"
   },
   {
    "duration": 24,
    "start_time": "2022-08-06T15:14:44.880Z"
   },
   {
    "duration": 18,
    "start_time": "2022-08-06T15:14:44.906Z"
   },
   {
    "duration": 46,
    "start_time": "2022-08-06T15:14:44.926Z"
   },
   {
    "duration": 13,
    "start_time": "2022-08-06T15:14:44.974Z"
   },
   {
    "duration": 9,
    "start_time": "2022-08-06T15:14:44.990Z"
   },
   {
    "duration": 4,
    "start_time": "2022-08-06T15:14:45.001Z"
   },
   {
    "duration": 13,
    "start_time": "2022-08-06T15:14:45.006Z"
   },
   {
    "duration": 10,
    "start_time": "2022-08-06T15:14:45.020Z"
   },
   {
    "duration": 80,
    "start_time": "2022-08-06T15:16:37.666Z"
   },
   {
    "duration": 118,
    "start_time": "2022-08-06T15:18:50.836Z"
   },
   {
    "duration": 406,
    "start_time": "2022-08-06T15:20:22.700Z"
   },
   {
    "duration": 169,
    "start_time": "2022-08-06T15:20:23.108Z"
   },
   {
    "duration": 8,
    "start_time": "2022-08-06T15:20:23.279Z"
   },
   {
    "duration": 39,
    "start_time": "2022-08-06T15:20:23.290Z"
   },
   {
    "duration": 5,
    "start_time": "2022-08-06T15:20:23.331Z"
   },
   {
    "duration": 7,
    "start_time": "2022-08-06T15:20:23.338Z"
   },
   {
    "duration": 3,
    "start_time": "2022-08-06T15:20:23.367Z"
   },
   {
    "duration": 9,
    "start_time": "2022-08-06T15:20:23.372Z"
   },
   {
    "duration": 30,
    "start_time": "2022-08-06T15:20:23.382Z"
   },
   {
    "duration": 87,
    "start_time": "2022-08-06T15:20:23.415Z"
   },
   {
    "duration": 25,
    "start_time": "2022-08-06T15:20:23.503Z"
   },
   {
    "duration": 87,
    "start_time": "2022-08-06T15:20:23.530Z"
   },
   {
    "duration": 101,
    "start_time": "2022-08-06T15:20:23.619Z"
   },
   {
    "duration": 68,
    "start_time": "2022-08-06T15:20:23.722Z"
   },
   {
    "duration": 37,
    "start_time": "2022-08-06T15:20:23.792Z"
   },
   {
    "duration": 4,
    "start_time": "2022-08-06T15:20:23.831Z"
   },
   {
    "duration": 45,
    "start_time": "2022-08-06T15:20:23.837Z"
   },
   {
    "duration": 3,
    "start_time": "2022-08-06T15:20:23.885Z"
   },
   {
    "duration": 39,
    "start_time": "2022-08-06T15:20:23.890Z"
   },
   {
    "duration": 11,
    "start_time": "2022-08-06T15:20:23.931Z"
   },
   {
    "duration": 49,
    "start_time": "2022-08-06T15:20:23.944Z"
   },
   {
    "duration": 15,
    "start_time": "2022-08-06T15:20:23.996Z"
   },
   {
    "duration": 65,
    "start_time": "2022-08-06T15:20:24.013Z"
   },
   {
    "duration": 71,
    "start_time": "2022-08-06T15:20:24.080Z"
   },
   {
    "duration": 52,
    "start_time": "2022-08-06T15:20:24.153Z"
   },
   {
    "duration": 55,
    "start_time": "2022-08-06T15:20:24.207Z"
   },
   {
    "duration": 48,
    "start_time": "2022-08-06T15:20:24.264Z"
   },
   {
    "duration": 20,
    "start_time": "2022-08-06T15:20:24.316Z"
   },
   {
    "duration": 23,
    "start_time": "2022-08-06T15:20:24.338Z"
   },
   {
    "duration": 8,
    "start_time": "2022-08-06T15:20:24.364Z"
   },
   {
    "duration": 29,
    "start_time": "2022-08-06T15:20:24.374Z"
   },
   {
    "duration": 9,
    "start_time": "2022-08-06T15:20:24.405Z"
   },
   {
    "duration": 23,
    "start_time": "2022-08-06T15:20:24.416Z"
   },
   {
    "duration": 19,
    "start_time": "2022-08-06T15:20:24.440Z"
   },
   {
    "duration": 29,
    "start_time": "2022-08-06T15:20:24.461Z"
   },
   {
    "duration": 16,
    "start_time": "2022-08-06T15:20:24.492Z"
   },
   {
    "duration": 20,
    "start_time": "2022-08-06T15:20:24.510Z"
   },
   {
    "duration": 14,
    "start_time": "2022-08-06T15:20:24.532Z"
   },
   {
    "duration": 10,
    "start_time": "2022-08-06T15:20:24.568Z"
   },
   {
    "duration": 5,
    "start_time": "2022-08-06T15:20:24.579Z"
   },
   {
    "duration": 14,
    "start_time": "2022-08-06T15:20:24.586Z"
   },
   {
    "duration": 5,
    "start_time": "2022-08-06T15:20:24.602Z"
   },
   {
    "duration": 408,
    "start_time": "2022-08-07T08:16:08.498Z"
   },
   {
    "duration": 207,
    "start_time": "2022-08-07T08:16:09.199Z"
   },
   {
    "duration": 7,
    "start_time": "2022-08-07T08:16:12.218Z"
   },
   {
    "duration": 27,
    "start_time": "2022-08-07T08:16:15.273Z"
   },
   {
    "duration": 4,
    "start_time": "2022-08-07T08:16:18.607Z"
   },
   {
    "duration": 13,
    "start_time": "2022-08-07T08:16:28.347Z"
   },
   {
    "duration": 3,
    "start_time": "2022-08-07T08:16:32.937Z"
   },
   {
    "duration": 13,
    "start_time": "2022-08-07T08:17:48.571Z"
   },
   {
    "duration": 3,
    "start_time": "2022-08-07T08:17:50.104Z"
   },
   {
    "duration": 12,
    "start_time": "2022-08-07T08:17:53.982Z"
   },
   {
    "duration": 3,
    "start_time": "2022-08-07T08:17:54.827Z"
   },
   {
    "duration": 8,
    "start_time": "2022-08-07T08:18:40.549Z"
   },
   {
    "duration": 3,
    "start_time": "2022-08-07T08:18:42.085Z"
   },
   {
    "duration": 177,
    "start_time": "2022-08-07T08:18:58.825Z"
   },
   {
    "duration": 9,
    "start_time": "2022-08-07T08:19:01.941Z"
   },
   {
    "duration": 3,
    "start_time": "2022-08-07T08:19:03.336Z"
   },
   {
    "duration": 7,
    "start_time": "2022-08-07T08:19:22.459Z"
   },
   {
    "duration": 3,
    "start_time": "2022-08-07T08:19:23.767Z"
   },
   {
    "duration": 160,
    "start_time": "2022-08-07T08:19:28.663Z"
   },
   {
    "duration": 8,
    "start_time": "2022-08-07T08:19:31.675Z"
   },
   {
    "duration": 3,
    "start_time": "2022-08-07T08:19:33.325Z"
   },
   {
    "duration": 9,
    "start_time": "2022-08-07T08:20:14.173Z"
   },
   {
    "duration": 3,
    "start_time": "2022-08-07T08:20:15.385Z"
   },
   {
    "duration": 8,
    "start_time": "2022-08-07T08:20:45.276Z"
   },
   {
    "duration": 4,
    "start_time": "2022-08-07T08:20:46.853Z"
   },
   {
    "duration": 18,
    "start_time": "2022-08-07T08:21:11.637Z"
   },
   {
    "duration": 7,
    "start_time": "2022-08-07T08:21:37.293Z"
   },
   {
    "duration": 6,
    "start_time": "2022-08-07T08:21:49.333Z"
   },
   {
    "duration": 3,
    "start_time": "2022-08-07T08:21:50.619Z"
   },
   {
    "duration": 171,
    "start_time": "2022-08-07T08:22:03.862Z"
   },
   {
    "duration": 4,
    "start_time": "2022-08-07T08:22:08.022Z"
   }
  ],
  "colab": {
   "collapsed_sections": [
    "E0vqbgi9ay0H",
    "VUC88oWjTJw2",
    "atZAxtq4_Zcu"
   ],
   "name": "EmptyFinalProject.ipynb\"",
   "provenance": []
  },
  "kernelspec": {
   "display_name": "Python 3 (ipykernel)",
   "language": "python",
   "name": "python3"
  },
  "language_info": {
   "codemirror_mode": {
    "name": "ipython",
    "version": 3
   },
   "file_extension": ".py",
   "mimetype": "text/x-python",
   "name": "python",
   "nbconvert_exporter": "python",
   "pygments_lexer": "ipython3",
   "version": "3.9.12"
  },
  "toc": {
   "base_numbering": 1,
   "nav_menu": {},
   "number_sections": true,
   "sideBar": true,
   "skip_h1_title": true,
   "title_cell": "Table of Contents",
   "title_sidebar": "Contents",
   "toc_cell": false,
   "toc_position": {},
   "toc_section_display": true,
   "toc_window_display": false
  }
 },
 "nbformat": 4,
 "nbformat_minor": 4
}

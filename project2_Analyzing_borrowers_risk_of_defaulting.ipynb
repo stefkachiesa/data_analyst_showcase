{
 "cells": [
  {
   "cell_type": "markdown",
   "metadata": {},
   "source": [
    "## Open the data file and have a look at the general information. \n",
    "\n"
   ]
  },
  {
   "cell_type": "code",
   "execution_count": 1,
   "metadata": {},
   "outputs": [],
   "source": [
    "# Loading all the libraries\n",
    "import pandas as pd\n",
    "import numpy as np\n",
    "\n",
    "\n",
    "\n",
    "# Load the data\n",
    "#data=pd.read_csv('/datasets/credit_scoring_eng.csv')\n"
   ]
  },
  {
   "cell_type": "code",
   "execution_count": 3,
   "metadata": {},
   "outputs": [],
   "source": [
    "try:\n",
    "    data = pd.read_csv('credit_scoring_eng.csv')\n",
    "except:\n",
    "    data= pd.read_csv('https://practicum-content.s3.us-west-1.amazonaws.com/datasets/credit_scoring_eng.csv')"
   ]
  },
  {
   "cell_type": "markdown",
   "metadata": {},
   "source": [
    "##  Data exploration\n",
    "\n",
    "**Description of the data**\n",
    "- `children` - the number of children in the family\n",
    "- `days_employed` - work experience in days\n",
    "- `dob_years` - client's age in years\n",
    "- `education` - client's education\n",
    "- `education_id` - education identifier\n",
    "- `family_status` - marital status\n",
    "- `family_status_id` - marital status identifier\n",
    "- `gender` - gender of the client\n",
    "- `income_type` - type of employment\n",
    "- `debt` - was there any debt on loan repayment\n",
    "- `total_income` - monthly income\n",
    "- `purpose` - the purpose of obtaining a loan\n",
    "\n"
   ]
  },
  {
   "cell_type": "code",
   "execution_count": 4,
   "metadata": {},
   "outputs": [
    {
     "name": "stdout",
     "output_type": "stream",
     "text": [
      "(21525, 12)\n"
     ]
    }
   ],
   "source": [
    "# Let's see how many rows and columns our dataset has\n",
    "print(data.shape)\n",
    "\n"
   ]
  },
  {
   "cell_type": "code",
   "execution_count": 5,
   "metadata": {
    "scrolled": true
   },
   "outputs": [
    {
     "data": {
      "text/html": [
       "<div>\n",
       "<style scoped>\n",
       "    .dataframe tbody tr th:only-of-type {\n",
       "        vertical-align: middle;\n",
       "    }\n",
       "\n",
       "    .dataframe tbody tr th {\n",
       "        vertical-align: top;\n",
       "    }\n",
       "\n",
       "    .dataframe thead th {\n",
       "        text-align: right;\n",
       "    }\n",
       "</style>\n",
       "<table border=\"1\" class=\"dataframe\">\n",
       "  <thead>\n",
       "    <tr style=\"text-align: right;\">\n",
       "      <th></th>\n",
       "      <th>children</th>\n",
       "      <th>days_employed</th>\n",
       "      <th>dob_years</th>\n",
       "      <th>education</th>\n",
       "      <th>education_id</th>\n",
       "      <th>family_status</th>\n",
       "      <th>family_status_id</th>\n",
       "      <th>gender</th>\n",
       "      <th>income_type</th>\n",
       "      <th>debt</th>\n",
       "      <th>total_income</th>\n",
       "      <th>purpose</th>\n",
       "    </tr>\n",
       "  </thead>\n",
       "  <tbody>\n",
       "    <tr>\n",
       "      <th>0</th>\n",
       "      <td>1</td>\n",
       "      <td>-8437.673028</td>\n",
       "      <td>42</td>\n",
       "      <td>bachelor's degree</td>\n",
       "      <td>0</td>\n",
       "      <td>married</td>\n",
       "      <td>0</td>\n",
       "      <td>F</td>\n",
       "      <td>employee</td>\n",
       "      <td>0</td>\n",
       "      <td>40620.102</td>\n",
       "      <td>purchase of the house</td>\n",
       "    </tr>\n",
       "    <tr>\n",
       "      <th>1</th>\n",
       "      <td>1</td>\n",
       "      <td>-4024.803754</td>\n",
       "      <td>36</td>\n",
       "      <td>secondary education</td>\n",
       "      <td>1</td>\n",
       "      <td>married</td>\n",
       "      <td>0</td>\n",
       "      <td>F</td>\n",
       "      <td>employee</td>\n",
       "      <td>0</td>\n",
       "      <td>17932.802</td>\n",
       "      <td>car purchase</td>\n",
       "    </tr>\n",
       "    <tr>\n",
       "      <th>2</th>\n",
       "      <td>0</td>\n",
       "      <td>-5623.422610</td>\n",
       "      <td>33</td>\n",
       "      <td>Secondary Education</td>\n",
       "      <td>1</td>\n",
       "      <td>married</td>\n",
       "      <td>0</td>\n",
       "      <td>M</td>\n",
       "      <td>employee</td>\n",
       "      <td>0</td>\n",
       "      <td>23341.752</td>\n",
       "      <td>purchase of the house</td>\n",
       "    </tr>\n",
       "    <tr>\n",
       "      <th>3</th>\n",
       "      <td>3</td>\n",
       "      <td>-4124.747207</td>\n",
       "      <td>32</td>\n",
       "      <td>secondary education</td>\n",
       "      <td>1</td>\n",
       "      <td>married</td>\n",
       "      <td>0</td>\n",
       "      <td>M</td>\n",
       "      <td>employee</td>\n",
       "      <td>0</td>\n",
       "      <td>42820.568</td>\n",
       "      <td>supplementary education</td>\n",
       "    </tr>\n",
       "    <tr>\n",
       "      <th>4</th>\n",
       "      <td>0</td>\n",
       "      <td>340266.072047</td>\n",
       "      <td>53</td>\n",
       "      <td>secondary education</td>\n",
       "      <td>1</td>\n",
       "      <td>civil partnership</td>\n",
       "      <td>1</td>\n",
       "      <td>F</td>\n",
       "      <td>retiree</td>\n",
       "      <td>0</td>\n",
       "      <td>25378.572</td>\n",
       "      <td>to have a wedding</td>\n",
       "    </tr>\n",
       "    <tr>\n",
       "      <th>5</th>\n",
       "      <td>0</td>\n",
       "      <td>-926.185831</td>\n",
       "      <td>27</td>\n",
       "      <td>bachelor's degree</td>\n",
       "      <td>0</td>\n",
       "      <td>civil partnership</td>\n",
       "      <td>1</td>\n",
       "      <td>M</td>\n",
       "      <td>business</td>\n",
       "      <td>0</td>\n",
       "      <td>40922.170</td>\n",
       "      <td>purchase of the house</td>\n",
       "    </tr>\n",
       "    <tr>\n",
       "      <th>6</th>\n",
       "      <td>0</td>\n",
       "      <td>-2879.202052</td>\n",
       "      <td>43</td>\n",
       "      <td>bachelor's degree</td>\n",
       "      <td>0</td>\n",
       "      <td>married</td>\n",
       "      <td>0</td>\n",
       "      <td>F</td>\n",
       "      <td>business</td>\n",
       "      <td>0</td>\n",
       "      <td>38484.156</td>\n",
       "      <td>housing transactions</td>\n",
       "    </tr>\n",
       "    <tr>\n",
       "      <th>7</th>\n",
       "      <td>0</td>\n",
       "      <td>-152.779569</td>\n",
       "      <td>50</td>\n",
       "      <td>SECONDARY EDUCATION</td>\n",
       "      <td>1</td>\n",
       "      <td>married</td>\n",
       "      <td>0</td>\n",
       "      <td>M</td>\n",
       "      <td>employee</td>\n",
       "      <td>0</td>\n",
       "      <td>21731.829</td>\n",
       "      <td>education</td>\n",
       "    </tr>\n",
       "    <tr>\n",
       "      <th>8</th>\n",
       "      <td>2</td>\n",
       "      <td>-6929.865299</td>\n",
       "      <td>35</td>\n",
       "      <td>BACHELOR'S DEGREE</td>\n",
       "      <td>0</td>\n",
       "      <td>civil partnership</td>\n",
       "      <td>1</td>\n",
       "      <td>F</td>\n",
       "      <td>employee</td>\n",
       "      <td>0</td>\n",
       "      <td>15337.093</td>\n",
       "      <td>having a wedding</td>\n",
       "    </tr>\n",
       "    <tr>\n",
       "      <th>9</th>\n",
       "      <td>0</td>\n",
       "      <td>-2188.756445</td>\n",
       "      <td>41</td>\n",
       "      <td>secondary education</td>\n",
       "      <td>1</td>\n",
       "      <td>married</td>\n",
       "      <td>0</td>\n",
       "      <td>M</td>\n",
       "      <td>employee</td>\n",
       "      <td>0</td>\n",
       "      <td>23108.150</td>\n",
       "      <td>purchase of the house for my family</td>\n",
       "    </tr>\n",
       "    <tr>\n",
       "      <th>10</th>\n",
       "      <td>2</td>\n",
       "      <td>-4171.483647</td>\n",
       "      <td>36</td>\n",
       "      <td>bachelor's degree</td>\n",
       "      <td>0</td>\n",
       "      <td>married</td>\n",
       "      <td>0</td>\n",
       "      <td>M</td>\n",
       "      <td>business</td>\n",
       "      <td>0</td>\n",
       "      <td>18230.959</td>\n",
       "      <td>buy real estate</td>\n",
       "    </tr>\n",
       "    <tr>\n",
       "      <th>11</th>\n",
       "      <td>0</td>\n",
       "      <td>-792.701887</td>\n",
       "      <td>40</td>\n",
       "      <td>secondary education</td>\n",
       "      <td>1</td>\n",
       "      <td>married</td>\n",
       "      <td>0</td>\n",
       "      <td>F</td>\n",
       "      <td>employee</td>\n",
       "      <td>0</td>\n",
       "      <td>12331.077</td>\n",
       "      <td>buy commercial real estate</td>\n",
       "    </tr>\n",
       "    <tr>\n",
       "      <th>12</th>\n",
       "      <td>0</td>\n",
       "      <td>NaN</td>\n",
       "      <td>65</td>\n",
       "      <td>secondary education</td>\n",
       "      <td>1</td>\n",
       "      <td>civil partnership</td>\n",
       "      <td>1</td>\n",
       "      <td>M</td>\n",
       "      <td>retiree</td>\n",
       "      <td>0</td>\n",
       "      <td>NaN</td>\n",
       "      <td>to have a wedding</td>\n",
       "    </tr>\n",
       "    <tr>\n",
       "      <th>13</th>\n",
       "      <td>0</td>\n",
       "      <td>-1846.641941</td>\n",
       "      <td>54</td>\n",
       "      <td>some college</td>\n",
       "      <td>2</td>\n",
       "      <td>married</td>\n",
       "      <td>0</td>\n",
       "      <td>F</td>\n",
       "      <td>employee</td>\n",
       "      <td>0</td>\n",
       "      <td>20873.317</td>\n",
       "      <td>car purchase</td>\n",
       "    </tr>\n",
       "    <tr>\n",
       "      <th>14</th>\n",
       "      <td>0</td>\n",
       "      <td>-1844.956182</td>\n",
       "      <td>56</td>\n",
       "      <td>bachelor's degree</td>\n",
       "      <td>0</td>\n",
       "      <td>civil partnership</td>\n",
       "      <td>1</td>\n",
       "      <td>F</td>\n",
       "      <td>business</td>\n",
       "      <td>1</td>\n",
       "      <td>26420.466</td>\n",
       "      <td>buy residential real estate</td>\n",
       "    </tr>\n",
       "  </tbody>\n",
       "</table>\n",
       "</div>"
      ],
      "text/plain": [
       "    children  days_employed  dob_years            education  education_id  \\\n",
       "0          1   -8437.673028         42    bachelor's degree             0   \n",
       "1          1   -4024.803754         36  secondary education             1   \n",
       "2          0   -5623.422610         33  Secondary Education             1   \n",
       "3          3   -4124.747207         32  secondary education             1   \n",
       "4          0  340266.072047         53  secondary education             1   \n",
       "5          0    -926.185831         27    bachelor's degree             0   \n",
       "6          0   -2879.202052         43    bachelor's degree             0   \n",
       "7          0    -152.779569         50  SECONDARY EDUCATION             1   \n",
       "8          2   -6929.865299         35    BACHELOR'S DEGREE             0   \n",
       "9          0   -2188.756445         41  secondary education             1   \n",
       "10         2   -4171.483647         36    bachelor's degree             0   \n",
       "11         0    -792.701887         40  secondary education             1   \n",
       "12         0            NaN         65  secondary education             1   \n",
       "13         0   -1846.641941         54         some college             2   \n",
       "14         0   -1844.956182         56    bachelor's degree             0   \n",
       "\n",
       "        family_status  family_status_id gender income_type  debt  \\\n",
       "0             married                 0      F    employee     0   \n",
       "1             married                 0      F    employee     0   \n",
       "2             married                 0      M    employee     0   \n",
       "3             married                 0      M    employee     0   \n",
       "4   civil partnership                 1      F     retiree     0   \n",
       "5   civil partnership                 1      M    business     0   \n",
       "6             married                 0      F    business     0   \n",
       "7             married                 0      M    employee     0   \n",
       "8   civil partnership                 1      F    employee     0   \n",
       "9             married                 0      M    employee     0   \n",
       "10            married                 0      M    business     0   \n",
       "11            married                 0      F    employee     0   \n",
       "12  civil partnership                 1      M     retiree     0   \n",
       "13            married                 0      F    employee     0   \n",
       "14  civil partnership                 1      F    business     1   \n",
       "\n",
       "    total_income                              purpose  \n",
       "0      40620.102                purchase of the house  \n",
       "1      17932.802                         car purchase  \n",
       "2      23341.752                purchase of the house  \n",
       "3      42820.568              supplementary education  \n",
       "4      25378.572                    to have a wedding  \n",
       "5      40922.170                purchase of the house  \n",
       "6      38484.156                 housing transactions  \n",
       "7      21731.829                            education  \n",
       "8      15337.093                     having a wedding  \n",
       "9      23108.150  purchase of the house for my family  \n",
       "10     18230.959                      buy real estate  \n",
       "11     12331.077           buy commercial real estate  \n",
       "12           NaN                    to have a wedding  \n",
       "13     20873.317                         car purchase  \n",
       "14     26420.466          buy residential real estate  "
      ]
     },
     "execution_count": 5,
     "metadata": {},
     "output_type": "execute_result"
    }
   ],
   "source": [
    "# let's print the first N rows\n",
    "\n",
    "data.head(15)\n"
   ]
  },
  {
   "cell_type": "markdown",
   "metadata": {},
   "source": [
    "\n",
    "\n",
    "From a first sight of the data sample, I can already see that there are missing data, negative numbers which don't make any sense and strings written in upper case. I will need to operate some changes and investigate about the missing data: how many, do they overlap, which columns and rows."
   ]
  },
  {
   "cell_type": "code",
   "execution_count": 6,
   "metadata": {
    "scrolled": false
   },
   "outputs": [
    {
     "name": "stdout",
     "output_type": "stream",
     "text": [
      "<class 'pandas.core.frame.DataFrame'>\n",
      "RangeIndex: 21525 entries, 0 to 21524\n",
      "Data columns (total 12 columns):\n",
      " #   Column            Non-Null Count  Dtype  \n",
      "---  ------            --------------  -----  \n",
      " 0   children          21525 non-null  int64  \n",
      " 1   days_employed     19351 non-null  float64\n",
      " 2   dob_years         21525 non-null  int64  \n",
      " 3   education         21525 non-null  object \n",
      " 4   education_id      21525 non-null  int64  \n",
      " 5   family_status     21525 non-null  object \n",
      " 6   family_status_id  21525 non-null  int64  \n",
      " 7   gender            21525 non-null  object \n",
      " 8   income_type       21525 non-null  object \n",
      " 9   debt              21525 non-null  int64  \n",
      " 10  total_income      19351 non-null  float64\n",
      " 11  purpose           21525 non-null  object \n",
      "dtypes: float64(2), int64(5), object(5)\n",
      "memory usage: 2.0+ MB\n"
     ]
    }
   ],
   "source": [
    "# Get info on data\n",
    "data.info()"
   ]
  },
  {
   "cell_type": "markdown",
   "metadata": {},
   "source": [
    "From a first look we can see that there are two columns with missing values. let's see how many values we are missing in each column:"
   ]
  },
  {
   "cell_type": "code",
   "execution_count": 7,
   "metadata": {
    "scrolled": true
   },
   "outputs": [
    {
     "data": {
      "text/plain": [
       "children               0\n",
       "days_employed       2174\n",
       "dob_years              0\n",
       "education              0\n",
       "education_id           0\n",
       "family_status          0\n",
       "family_status_id       0\n",
       "gender                 0\n",
       "income_type            0\n",
       "debt                   0\n",
       "total_income        2174\n",
       "purpose                0\n",
       "dtype: int64"
      ]
     },
     "execution_count": 7,
     "metadata": {},
     "output_type": "execute_result"
    }
   ],
   "source": [
    "# Let's look in the filtered table at the the first column with missing data\n",
    "data.isnull().sum()\n",
    "\n"
   ]
  },
  {
   "cell_type": "markdown",
   "metadata": {},
   "source": [
    "\n",
    "\n",
    "There is the same exact amount of missing values in each column. I think they might be symmetrical, but I cannot just assume so. Therefore i will proceed to further investigation."
   ]
  },
  {
   "cell_type": "code",
   "execution_count": 8,
   "metadata": {},
   "outputs": [
    {
     "data": {
      "text/plain": [
       "children            0.000000\n",
       "days_employed       0.100999\n",
       "dob_years           0.000000\n",
       "education           0.000000\n",
       "education_id        0.000000\n",
       "family_status       0.000000\n",
       "family_status_id    0.000000\n",
       "gender              0.000000\n",
       "income_type         0.000000\n",
       "debt                0.000000\n",
       "total_income        0.100999\n",
       "purpose             0.000000\n",
       "dtype: float64"
      ]
     },
     "execution_count": 8,
     "metadata": {},
     "output_type": "execute_result"
    }
   ],
   "source": [
    "# i want to see the percentage of missing values in each column\n",
    "data.isnull().sum()/len(data)\n"
   ]
  },
  {
   "cell_type": "markdown",
   "metadata": {},
   "source": [
    "<div class=\"alert alert-block alert-success\">\n",
    "<b>Reviewer's comment v1</b>\n",
    " \n",
    "\n",
    "Great! It is indeed helpful to check not only the total amount of missing values in each column but also look at the percentage of missing values. It helps to understand the overall impact. You can check percentage using, for example, this code: \n",
    "    \n",
    "    data.isnull().sum()/len(data)\n",
    "\n",
    "Or you can even make a dataframe of of it using to_frame\n",
    "    \n",
    "    mis_values = data.isnull().sum().to_frame('missing_values')\n",
    "    mis_values['%'] = round(data.isnull().sum()/len(data),3)\n",
    "    mis_values.sort_values(by='%', ascending=False)\n",
    "    \n",
    "   "
   ]
  },
  {
   "cell_type": "markdown",
   "metadata": {},
   "source": [
    "<div class=\"alert alert-info\"> <b>Student comments:</b> Trying the suggestion:</div>   "
   ]
  },
  {
   "cell_type": "code",
   "execution_count": 9,
   "metadata": {},
   "outputs": [
    {
     "data": {
      "text/html": [
       "<div>\n",
       "<style scoped>\n",
       "    .dataframe tbody tr th:only-of-type {\n",
       "        vertical-align: middle;\n",
       "    }\n",
       "\n",
       "    .dataframe tbody tr th {\n",
       "        vertical-align: top;\n",
       "    }\n",
       "\n",
       "    .dataframe thead th {\n",
       "        text-align: right;\n",
       "    }\n",
       "</style>\n",
       "<table border=\"1\" class=\"dataframe\">\n",
       "  <thead>\n",
       "    <tr style=\"text-align: right;\">\n",
       "      <th></th>\n",
       "      <th>missing_values</th>\n",
       "      <th>%</th>\n",
       "    </tr>\n",
       "  </thead>\n",
       "  <tbody>\n",
       "    <tr>\n",
       "      <th>days_employed</th>\n",
       "      <td>2174</td>\n",
       "      <td>0.101</td>\n",
       "    </tr>\n",
       "    <tr>\n",
       "      <th>total_income</th>\n",
       "      <td>2174</td>\n",
       "      <td>0.101</td>\n",
       "    </tr>\n",
       "    <tr>\n",
       "      <th>children</th>\n",
       "      <td>0</td>\n",
       "      <td>0.000</td>\n",
       "    </tr>\n",
       "    <tr>\n",
       "      <th>dob_years</th>\n",
       "      <td>0</td>\n",
       "      <td>0.000</td>\n",
       "    </tr>\n",
       "    <tr>\n",
       "      <th>education</th>\n",
       "      <td>0</td>\n",
       "      <td>0.000</td>\n",
       "    </tr>\n",
       "    <tr>\n",
       "      <th>education_id</th>\n",
       "      <td>0</td>\n",
       "      <td>0.000</td>\n",
       "    </tr>\n",
       "    <tr>\n",
       "      <th>family_status</th>\n",
       "      <td>0</td>\n",
       "      <td>0.000</td>\n",
       "    </tr>\n",
       "    <tr>\n",
       "      <th>family_status_id</th>\n",
       "      <td>0</td>\n",
       "      <td>0.000</td>\n",
       "    </tr>\n",
       "    <tr>\n",
       "      <th>gender</th>\n",
       "      <td>0</td>\n",
       "      <td>0.000</td>\n",
       "    </tr>\n",
       "    <tr>\n",
       "      <th>income_type</th>\n",
       "      <td>0</td>\n",
       "      <td>0.000</td>\n",
       "    </tr>\n",
       "    <tr>\n",
       "      <th>debt</th>\n",
       "      <td>0</td>\n",
       "      <td>0.000</td>\n",
       "    </tr>\n",
       "    <tr>\n",
       "      <th>purpose</th>\n",
       "      <td>0</td>\n",
       "      <td>0.000</td>\n",
       "    </tr>\n",
       "  </tbody>\n",
       "</table>\n",
       "</div>"
      ],
      "text/plain": [
       "                  missing_values      %\n",
       "days_employed               2174  0.101\n",
       "total_income                2174  0.101\n",
       "children                       0  0.000\n",
       "dob_years                      0  0.000\n",
       "education                      0  0.000\n",
       "education_id                   0  0.000\n",
       "family_status                  0  0.000\n",
       "family_status_id               0  0.000\n",
       "gender                         0  0.000\n",
       "income_type                    0  0.000\n",
       "debt                           0  0.000\n",
       "purpose                        0  0.000"
      ]
     },
     "execution_count": 9,
     "metadata": {},
     "output_type": "execute_result"
    }
   ],
   "source": [
    "mis_values = data.isnull().sum().to_frame('missing_values')\n",
    "mis_values['%'] = round(data.isnull().sum()/len(data),3)\n",
    "mis_values.sort_values(by='%', ascending=False)"
   ]
  },
  {
   "cell_type": "code",
   "execution_count": 10,
   "metadata": {},
   "outputs": [
    {
     "name": "stdout",
     "output_type": "stream",
     "text": [
      "days_employed\n",
      "total_income\n"
     ]
    }
   ],
   "source": [
    "# just trying a different way to see columns with missing values\n",
    "for i in data:\n",
    "    if data[i].isnull().sum() >0 :\n",
    "        print(i)\n"
   ]
  },
  {
   "cell_type": "code",
   "execution_count": 11,
   "metadata": {},
   "outputs": [
    {
     "name": "stdout",
     "output_type": "stream",
     "text": [
      "       children  days_employed  dob_years            education  education_id  \\\n",
      "12            0            NaN         65  secondary education             1   \n",
      "26            0            NaN         41  secondary education             1   \n",
      "29            0            NaN         63  secondary education             1   \n",
      "41            0            NaN         50  secondary education             1   \n",
      "55            0            NaN         54  secondary education             1   \n",
      "...         ...            ...        ...                  ...           ...   \n",
      "21489         2            NaN         47  Secondary Education             1   \n",
      "21495         1            NaN         50  secondary education             1   \n",
      "21497         0            NaN         48    BACHELOR'S DEGREE             0   \n",
      "21502         1            NaN         42  secondary education             1   \n",
      "21510         2            NaN         28  secondary education             1   \n",
      "\n",
      "           family_status  family_status_id gender    income_type  debt  \\\n",
      "12     civil partnership                 1      M        retiree     0   \n",
      "26               married                 0      M  civil servant     0   \n",
      "29             unmarried                 4      F        retiree     0   \n",
      "41               married                 0      F  civil servant     0   \n",
      "55     civil partnership                 1      F        retiree     1   \n",
      "...                  ...               ...    ...            ...   ...   \n",
      "21489            married                 0      M       business     0   \n",
      "21495  civil partnership                 1      F       employee     0   \n",
      "21497            married                 0      F       business     0   \n",
      "21502            married                 0      F       employee     0   \n",
      "21510            married                 0      F       employee     0   \n",
      "\n",
      "       total_income                   purpose  \n",
      "12              NaN         to have a wedding  \n",
      "26              NaN                 education  \n",
      "29              NaN    building a real estate  \n",
      "41              NaN  second-hand car purchase  \n",
      "55              NaN         to have a wedding  \n",
      "...             ...                       ...  \n",
      "21489           NaN         purchase of a car  \n",
      "21495           NaN          wedding ceremony  \n",
      "21497           NaN       building a property  \n",
      "21502           NaN    building a real estate  \n",
      "21510           NaN              car purchase  \n",
      "\n",
      "[2174 rows x 12 columns]\n"
     ]
    }
   ],
   "source": [
    "print(data[data['days_employed'].isna()])"
   ]
  },
  {
   "cell_type": "code",
   "execution_count": 12,
   "metadata": {},
   "outputs": [
    {
     "name": "stdout",
     "output_type": "stream",
     "text": [
      "       children  days_employed  dob_years            education  education_id  \\\n",
      "12            0            NaN         65  secondary education             1   \n",
      "26            0            NaN         41  secondary education             1   \n",
      "29            0            NaN         63  secondary education             1   \n",
      "41            0            NaN         50  secondary education             1   \n",
      "55            0            NaN         54  secondary education             1   \n",
      "...         ...            ...        ...                  ...           ...   \n",
      "21489         2            NaN         47  Secondary Education             1   \n",
      "21495         1            NaN         50  secondary education             1   \n",
      "21497         0            NaN         48    BACHELOR'S DEGREE             0   \n",
      "21502         1            NaN         42  secondary education             1   \n",
      "21510         2            NaN         28  secondary education             1   \n",
      "\n",
      "           family_status  family_status_id gender    income_type  debt  \\\n",
      "12     civil partnership                 1      M        retiree     0   \n",
      "26               married                 0      M  civil servant     0   \n",
      "29             unmarried                 4      F        retiree     0   \n",
      "41               married                 0      F  civil servant     0   \n",
      "55     civil partnership                 1      F        retiree     1   \n",
      "...                  ...               ...    ...            ...   ...   \n",
      "21489            married                 0      M       business     0   \n",
      "21495  civil partnership                 1      F       employee     0   \n",
      "21497            married                 0      F       business     0   \n",
      "21502            married                 0      F       employee     0   \n",
      "21510            married                 0      F       employee     0   \n",
      "\n",
      "       total_income                   purpose  \n",
      "12              NaN         to have a wedding  \n",
      "26              NaN                 education  \n",
      "29              NaN    building a real estate  \n",
      "41              NaN  second-hand car purchase  \n",
      "55              NaN         to have a wedding  \n",
      "...             ...                       ...  \n",
      "21489           NaN         purchase of a car  \n",
      "21495           NaN          wedding ceremony  \n",
      "21497           NaN       building a property  \n",
      "21502           NaN    building a real estate  \n",
      "21510           NaN              car purchase  \n",
      "\n",
      "[2174 rows x 12 columns]\n"
     ]
    }
   ],
   "source": [
    "print(data[data['total_income'].isna()])"
   ]
  },
  {
   "cell_type": "markdown",
   "metadata": {},
   "source": [
    "At this stage we proved that the columns 'days_employed' and 'total_income' have missing values. It seems that NaN are symmetrical, let's check it :\n"
   ]
  },
  {
   "cell_type": "code",
   "execution_count": 13,
   "metadata": {
    "scrolled": true
   },
   "outputs": [
    {
     "name": "stdout",
     "output_type": "stream",
     "text": [
      "True\n"
     ]
    }
   ],
   "source": [
    "# I replace missing values with string 'NaN'\n",
    "data[['days_employed']] = data[['days_employed']].fillna('NaN')\n",
    "# compare the two columns by indexes: NaN and'NaN' are missing values,\n",
    "#they should be in the same rows if the missing values are symmetrical. \n",
    "#in that case the funcion will return boolean True\n",
    "test = data.loc[data['total_income'].isna(), 'days_employed'].eq('NaN').all()\n",
    "print(test)"
   ]
  },
  {
   "cell_type": "code",
   "execution_count": 14,
   "metadata": {},
   "outputs": [
    {
     "name": "stdout",
     "output_type": "stream",
     "text": [
      "0      -8437.673028\n",
      "1      -4024.803754\n",
      "2      -5623.422610\n",
      "3      -4124.747207\n",
      "4     340266.072047\n",
      "5       -926.185831\n",
      "6      -2879.202052\n",
      "7       -152.779569\n",
      "8      -6929.865299\n",
      "9      -2188.756445\n",
      "10     -4171.483647\n",
      "11      -792.701887\n",
      "12              NaN\n",
      "13     -1846.641941\n",
      "14     -1844.956182\n",
      "15      -972.364419\n",
      "16     -1719.934226\n",
      "17     -2369.999720\n",
      "18    400281.136913\n",
      "19    -10038.818549\n",
      "20     -1311.604166\n",
      "21      -253.685166\n",
      "22     -1766.644138\n",
      "23      -272.981385\n",
      "24    338551.952911\n",
      "Name: days_employed, dtype: float64\n"
     ]
    }
   ],
   "source": [
    "# restoring NaN from string to float\n",
    "data.replace('NaN', np.nan, inplace=True)\n",
    "#check if the missing values have been restored to float\n",
    "print(data['days_employed'].head(25))\n"
   ]
  },
  {
   "cell_type": "markdown",
   "metadata": {},
   "source": [
    "We proved that there are missing values in the exact same rows.\n",
    "I think it is a pattern: maybe some data were lost systematically at some point, or is a version of the same investigation without this specific data. If it looks relevant to my analysys I might proceed to further digging. Otherwise I might just ignore or drop the missing values. I don't think is a good idea to replace the missing values because the total day of employment is too much personal. I could deal with the negatives just by converting the negative numbers into positive, and convert them to years, to see if datas make sense."
   ]
  },
  {
   "cell_type": "code",
   "execution_count": 15,
   "metadata": {
    "scrolled": true
   },
   "outputs": [
    {
     "name": "stdout",
     "output_type": "stream",
     "text": [
      "<class 'pandas.core.frame.DataFrame'>\n",
      "Int64Index: 2174 entries, 12 to 21510\n",
      "Data columns (total 12 columns):\n",
      " #   Column            Non-Null Count  Dtype  \n",
      "---  ------            --------------  -----  \n",
      " 0   children          2174 non-null   int64  \n",
      " 1   days_employed     0 non-null      float64\n",
      " 2   dob_years         2174 non-null   int64  \n",
      " 3   education         2174 non-null   object \n",
      " 4   education_id      2174 non-null   int64  \n",
      " 5   family_status     2174 non-null   object \n",
      " 6   family_status_id  2174 non-null   int64  \n",
      " 7   gender            2174 non-null   object \n",
      " 8   income_type       2174 non-null   object \n",
      " 9   debt              2174 non-null   int64  \n",
      " 10  total_income      0 non-null      float64\n",
      " 11  purpose           2174 non-null   object \n",
      "dtypes: float64(2), int64(5), object(5)\n",
      "memory usage: 220.8+ KB\n",
      "None\n"
     ]
    }
   ],
   "source": [
    "#another way to see if missing values overlap\n",
    "\n",
    "filtered=data[(data.total_income.isnull())&(data.days_employed.isnull())]\n",
    "\n",
    "# I filter two columns of the dataframe at the same time, for missing value\n",
    "print(filtered.info())"
   ]
  },
  {
   "cell_type": "markdown",
   "metadata": {},
   "source": [
    "**Intermediate conclusion**\n",
    "\n",
    "\n",
    "\n",
    "The number of the rows in the filtered data matches the number of missing values, it means that there is an overlap of missing values rows, the missing values appear in the same rows\n",
    "\n",
    "Let's alculate the percentage of the missing values compared to the whole dataset.If it is  considerably large piece of data. it's recommended to fill the missing values. To do that, firstly we should consider whether the missing data could be due to the specific client characteristic, such as employment type or something else. Secondly, we should check whether there's any dependence missing values have on the value of other indicators with the columns with identified specific client characteristic.\n"
   ]
  },
  {
   "cell_type": "markdown",
   "metadata": {},
   "source": [
    "I am going to compare the column with missing data, with other columns:"
   ]
  },
  {
   "cell_type": "code",
   "execution_count": 16,
   "metadata": {},
   "outputs": [
    {
     "data": {
      "text/plain": [
       "12             retiree\n",
       "26       civil servant\n",
       "29             retiree\n",
       "41       civil servant\n",
       "55             retiree\n",
       "             ...      \n",
       "21489         business\n",
       "21495         employee\n",
       "21497         business\n",
       "21502         employee\n",
       "21510         employee\n",
       "Name: income_type, Length: 2174, dtype: object"
      ]
     },
     "execution_count": 16,
     "metadata": {},
     "output_type": "execute_result"
    }
   ],
   "source": [
    "data[data.days_employed.isnull()]['income_type']"
   ]
  },
  {
   "cell_type": "code",
   "execution_count": 17,
   "metadata": {},
   "outputs": [
    {
     "data": {
      "text/plain": [
       "employee         1105\n",
       "business          508\n",
       "retiree           413\n",
       "civil servant     147\n",
       "entrepreneur        1\n",
       "Name: income_type, dtype: int64"
      ]
     },
     "execution_count": 17,
     "metadata": {},
     "output_type": "execute_result"
    }
   ],
   "source": [
    "data[data.days_employed.isnull()]['income_type'].value_counts()"
   ]
  },
  {
   "cell_type": "markdown",
   "metadata": {},
   "source": [
    "faster way to compare to all columns:\n"
   ]
  },
  {
   "cell_type": "code",
   "execution_count": 18,
   "metadata": {},
   "outputs": [
    {
     "name": "stdout",
     "output_type": "stream",
     "text": [
      " 0     1439\n",
      " 1      475\n",
      " 2      204\n",
      " 3       36\n",
      " 20       9\n",
      " 4        7\n",
      "-1        3\n",
      " 5        1\n",
      "Name: children, dtype: int64\n",
      "-------------\n",
      "Series([], Name: days_employed, dtype: int64)\n",
      "-------------\n",
      "34    69\n",
      "40    66\n",
      "42    65\n",
      "31    65\n",
      "35    64\n",
      "36    63\n",
      "47    59\n",
      "41    59\n",
      "30    58\n",
      "28    57\n",
      "58    56\n",
      "57    56\n",
      "54    55\n",
      "56    54\n",
      "38    54\n",
      "52    53\n",
      "37    53\n",
      "33    51\n",
      "39    51\n",
      "50    51\n",
      "43    50\n",
      "45    50\n",
      "49    50\n",
      "51    50\n",
      "29    50\n",
      "46    48\n",
      "55    48\n",
      "48    46\n",
      "44    44\n",
      "53    44\n",
      "60    39\n",
      "62    38\n",
      "61    38\n",
      "32    37\n",
      "64    37\n",
      "23    36\n",
      "27    36\n",
      "26    35\n",
      "59    34\n",
      "63    29\n",
      "25    23\n",
      "24    21\n",
      "65    20\n",
      "66    20\n",
      "21    18\n",
      "22    17\n",
      "67    16\n",
      "0     10\n",
      "68     9\n",
      "71     5\n",
      "69     5\n",
      "20     5\n",
      "70     3\n",
      "72     2\n",
      "19     1\n",
      "73     1\n",
      "Name: dob_years, dtype: int64\n",
      "-------------\n",
      "secondary education    1408\n",
      "bachelor's degree       496\n",
      "SECONDARY EDUCATION      67\n",
      "Secondary Education      65\n",
      "some college             55\n",
      "Bachelor's Degree        25\n",
      "BACHELOR'S DEGREE        23\n",
      "primary education        19\n",
      "Some College              7\n",
      "SOME COLLEGE              7\n",
      "Primary Education         1\n",
      "PRIMARY EDUCATION         1\n",
      "Name: education, dtype: int64\n",
      "-------------\n",
      "1    1540\n",
      "0     544\n",
      "2      69\n",
      "3      21\n",
      "Name: education_id, dtype: int64\n",
      "-------------\n",
      "married              1237\n",
      "civil partnership     442\n",
      "unmarried             288\n",
      "divorced              112\n",
      "widow / widower        95\n",
      "Name: family_status, dtype: int64\n",
      "-------------\n",
      "0    1237\n",
      "1     442\n",
      "4     288\n",
      "3     112\n",
      "2      95\n",
      "Name: family_status_id, dtype: int64\n",
      "-------------\n",
      "F    1484\n",
      "M     690\n",
      "Name: gender, dtype: int64\n",
      "-------------\n",
      "employee         1105\n",
      "business          508\n",
      "retiree           413\n",
      "civil servant     147\n",
      "entrepreneur        1\n",
      "Name: income_type, dtype: int64\n",
      "-------------\n",
      "0    2004\n",
      "1     170\n",
      "Name: debt, dtype: int64\n",
      "-------------\n",
      "Series([], Name: total_income, dtype: int64)\n",
      "-------------\n",
      "having a wedding                            92\n",
      "to have a wedding                           81\n",
      "wedding ceremony                            76\n",
      "construction of own property                75\n",
      "housing transactions                        74\n",
      "buy real estate                             72\n",
      "purchase of the house for my family         71\n",
      "transactions with my real estate            71\n",
      "transactions with commercial real estate    70\n",
      "housing renovation                          70\n",
      "buy commercial real estate                  67\n",
      "buying property for renting out             65\n",
      "property                                    62\n",
      "real estate transactions                    61\n",
      "buy residential real estate                 61\n",
      "housing                                     60\n",
      "building a property                         59\n",
      "cars                                        57\n",
      "going to university                         56\n",
      "to become educated                          55\n",
      "second-hand car purchase                    54\n",
      "buying my own car                           53\n",
      "to own a car                                52\n",
      "purchase of the house                       52\n",
      "to get a supplementary education            51\n",
      "getting an education                        50\n",
      "supplementary education                     48\n",
      "profile education                           47\n",
      "purchase of a car                           46\n",
      "building a real estate                      46\n",
      "purchase of my own house                    46\n",
      "car purchase                                43\n",
      "education                                   42\n",
      "buying a second-hand car                    42\n",
      "car                                         41\n",
      "university education                        40\n",
      "getting higher education                    36\n",
      "to buy a car                                30\n",
      "Name: purpose, dtype: int64\n",
      "-------------\n"
     ]
    }
   ],
   "source": [
    "for i in data:\n",
    "    print(data[data.days_employed.isnull()][i].value_counts())\n",
    "    print('-------------')"
   ]
  },
  {
   "cell_type": "markdown",
   "metadata": {},
   "source": [
    "I just checked the missing values in days_employed, compared to the other columns, to see if there is any dependence that missing values have on the value of other indicators with the columns with identified specific client characteristic"
   ]
  },
  {
   "cell_type": "code",
   "execution_count": 19,
   "metadata": {
    "scrolled": false
   },
   "outputs": [
    {
     "name": "stdout",
     "output_type": "stream",
     "text": [
      " 0     1439\n",
      " 1      475\n",
      " 2      204\n",
      " 3       36\n",
      " 20       9\n",
      " 4        7\n",
      "-1        3\n",
      " 5        1\n",
      "Name: children, dtype: int64\n",
      "-------------\n",
      "Series([], Name: days_employed, dtype: int64)\n",
      "-------------\n",
      "34    69\n",
      "40    66\n",
      "42    65\n",
      "31    65\n",
      "35    64\n",
      "36    63\n",
      "47    59\n",
      "41    59\n",
      "30    58\n",
      "28    57\n",
      "58    56\n",
      "57    56\n",
      "54    55\n",
      "56    54\n",
      "38    54\n",
      "52    53\n",
      "37    53\n",
      "33    51\n",
      "39    51\n",
      "50    51\n",
      "43    50\n",
      "45    50\n",
      "49    50\n",
      "51    50\n",
      "29    50\n",
      "46    48\n",
      "55    48\n",
      "48    46\n",
      "44    44\n",
      "53    44\n",
      "60    39\n",
      "62    38\n",
      "61    38\n",
      "32    37\n",
      "64    37\n",
      "23    36\n",
      "27    36\n",
      "26    35\n",
      "59    34\n",
      "63    29\n",
      "25    23\n",
      "24    21\n",
      "65    20\n",
      "66    20\n",
      "21    18\n",
      "22    17\n",
      "67    16\n",
      "0     10\n",
      "68     9\n",
      "71     5\n",
      "69     5\n",
      "20     5\n",
      "70     3\n",
      "72     2\n",
      "19     1\n",
      "73     1\n",
      "Name: dob_years, dtype: int64\n",
      "-------------\n",
      "secondary education    1408\n",
      "bachelor's degree       496\n",
      "SECONDARY EDUCATION      67\n",
      "Secondary Education      65\n",
      "some college             55\n",
      "Bachelor's Degree        25\n",
      "BACHELOR'S DEGREE        23\n",
      "primary education        19\n",
      "Some College              7\n",
      "SOME COLLEGE              7\n",
      "Primary Education         1\n",
      "PRIMARY EDUCATION         1\n",
      "Name: education, dtype: int64\n",
      "-------------\n",
      "1    1540\n",
      "0     544\n",
      "2      69\n",
      "3      21\n",
      "Name: education_id, dtype: int64\n",
      "-------------\n",
      "married              1237\n",
      "civil partnership     442\n",
      "unmarried             288\n",
      "divorced              112\n",
      "widow / widower        95\n",
      "Name: family_status, dtype: int64\n",
      "-------------\n",
      "0    1237\n",
      "1     442\n",
      "4     288\n",
      "3     112\n",
      "2      95\n",
      "Name: family_status_id, dtype: int64\n",
      "-------------\n",
      "F    1484\n",
      "M     690\n",
      "Name: gender, dtype: int64\n",
      "-------------\n",
      "employee         1105\n",
      "business          508\n",
      "retiree           413\n",
      "civil servant     147\n",
      "entrepreneur        1\n",
      "Name: income_type, dtype: int64\n",
      "-------------\n",
      "0    2004\n",
      "1     170\n",
      "Name: debt, dtype: int64\n",
      "-------------\n",
      "Series([], Name: total_income, dtype: int64)\n",
      "-------------\n",
      "having a wedding                            92\n",
      "to have a wedding                           81\n",
      "wedding ceremony                            76\n",
      "construction of own property                75\n",
      "housing transactions                        74\n",
      "buy real estate                             72\n",
      "purchase of the house for my family         71\n",
      "transactions with my real estate            71\n",
      "transactions with commercial real estate    70\n",
      "housing renovation                          70\n",
      "buy commercial real estate                  67\n",
      "buying property for renting out             65\n",
      "property                                    62\n",
      "real estate transactions                    61\n",
      "buy residential real estate                 61\n",
      "housing                                     60\n",
      "building a property                         59\n",
      "cars                                        57\n",
      "going to university                         56\n",
      "to become educated                          55\n",
      "second-hand car purchase                    54\n",
      "buying my own car                           53\n",
      "to own a car                                52\n",
      "purchase of the house                       52\n",
      "to get a supplementary education            51\n",
      "getting an education                        50\n",
      "supplementary education                     48\n",
      "profile education                           47\n",
      "purchase of a car                           46\n",
      "building a real estate                      46\n",
      "purchase of my own house                    46\n",
      "car purchase                                43\n",
      "education                                   42\n",
      "buying a second-hand car                    42\n",
      "car                                         41\n",
      "university education                        40\n",
      "getting higher education                    36\n",
      "to buy a car                                30\n",
      "Name: purpose, dtype: int64\n",
      "-------------\n"
     ]
    }
   ],
   "source": [
    "for i in data:\n",
    "    print(data[data.total_income.isnull()][i].value_counts())\n",
    "    print('-------------')"
   ]
  },
  {
   "cell_type": "markdown",
   "metadata": {},
   "source": [
    "I looked for any dependance also in the column total_income. In both results, I cannot identify any particular connections."
   ]
  },
  {
   "cell_type": "markdown",
   "metadata": {},
   "source": [
    "let's proceed to find subtle missing value's: I will look for zeros, values=0 which do not resonate with the decripion of the data."
   ]
  },
  {
   "cell_type": "code",
   "execution_count": 20,
   "metadata": {},
   "outputs": [
    {
     "name": "stdout",
     "output_type": "stream",
     "text": [
      "children 14149\n",
      "days_employed 0\n",
      "dob_years 101\n",
      "education 0\n",
      "education_id 5260\n",
      "family_status 0\n",
      "family_status_id 12380\n",
      "gender 0\n",
      "income_type 0\n",
      "debt 19784\n",
      "total_income 0\n",
      "purpose 0\n"
     ]
    }
   ],
   "source": [
    "\n",
    "#checking for 0's: the function retuns the columns where I have values 0\n",
    "\n",
    "for i in data:\n",
    "    print(i, len(data[data[i]==0]))\n",
    "\n",
    "    \n"
   ]
  },
  {
   "cell_type": "markdown",
   "metadata": {},
   "source": [
    "There are some missing values in the age of the client(dob), someone who requests a loan cannot be a baby. i could replace them with mean or average"
   ]
  },
  {
   "cell_type": "code",
   "execution_count": 21,
   "metadata": {},
   "outputs": [],
   "source": [
    "# I change the 0 in dob_years, to NaN, so I can compare with the other missing values\n",
    "data['dob_years'].replace(0, np.nan, inplace = True)\n"
   ]
  },
  {
   "cell_type": "code",
   "execution_count": 22,
   "metadata": {},
   "outputs": [
    {
     "name": "stdout",
     "output_type": "stream",
     "text": [
      "       children  days_employed  dob_years            education  education_id  \\\n",
      "1890          0            NaN        NaN    bachelor's degree             0   \n",
      "2284          0            NaN        NaN  secondary education             1   \n",
      "4064          1            NaN        NaN  secondary education             1   \n",
      "5014          0            NaN        NaN  secondary education             1   \n",
      "6411          0            NaN        NaN    bachelor's degree             0   \n",
      "6670          0            NaN        NaN    Bachelor's Degree             0   \n",
      "8574          0            NaN        NaN  secondary education             1   \n",
      "12403         3            NaN        NaN  secondary education             1   \n",
      "13741         0            NaN        NaN  secondary education             1   \n",
      "19829         0            NaN        NaN  secondary education             1   \n",
      "\n",
      "           family_status  family_status_id gender income_type  debt  \\\n",
      "1890           unmarried                 4      F    employee     0   \n",
      "2284     widow / widower                 2      F     retiree     0   \n",
      "4064   civil partnership                 1      M    business     0   \n",
      "5014             married                 0      F    business     0   \n",
      "6411   civil partnership                 1      F     retiree     0   \n",
      "6670            divorced                 3      F     retiree     0   \n",
      "8574             married                 0      F    employee     0   \n",
      "12403            married                 0      M    employee     0   \n",
      "13741  civil partnership                 1      F    employee     0   \n",
      "19829            married                 0      F    employee     0   \n",
      "\n",
      "       total_income                                   purpose  \n",
      "1890            NaN                                   housing  \n",
      "2284            NaN                                  property  \n",
      "4064            NaN                        housing renovation  \n",
      "5014            NaN                           buy real estate  \n",
      "6411            NaN                          wedding ceremony  \n",
      "6670            NaN               buy residential real estate  \n",
      "8574            NaN                                  property  \n",
      "12403           NaN  transactions with commercial real estate  \n",
      "13741           NaN                          having a wedding  \n",
      "19829           NaN                                   housing  \n"
     ]
    }
   ],
   "source": [
    "# compare dob missing values with days_employed\n",
    "zeros_dob=data[(data.days_employed.isnull())&(data.dob_years.isnull())]\n",
    "print(zeros_dob.head(25))\n"
   ]
  },
  {
   "cell_type": "markdown",
   "metadata": {},
   "source": [
    "it seems that we have only 10 entries, let's verify:"
   ]
  },
  {
   "cell_type": "code",
   "execution_count": 23,
   "metadata": {},
   "outputs": [
    {
     "name": "stdout",
     "output_type": "stream",
     "text": [
      "<class 'pandas.core.frame.DataFrame'>\n",
      "Int64Index: 10 entries, 1890 to 19829\n",
      "Data columns (total 12 columns):\n",
      " #   Column            Non-Null Count  Dtype  \n",
      "---  ------            --------------  -----  \n",
      " 0   children          10 non-null     int64  \n",
      " 1   days_employed     0 non-null      float64\n",
      " 2   dob_years         0 non-null      float64\n",
      " 3   education         10 non-null     object \n",
      " 4   education_id      10 non-null     int64  \n",
      " 5   family_status     10 non-null     object \n",
      " 6   family_status_id  10 non-null     int64  \n",
      " 7   gender            10 non-null     object \n",
      " 8   income_type       10 non-null     object \n",
      " 9   debt              10 non-null     int64  \n",
      " 10  total_income      0 non-null      float64\n",
      " 11  purpose           10 non-null     object \n",
      "dtypes: float64(3), int64(4), object(5)\n",
      "memory usage: 1.0+ KB\n",
      "None\n"
     ]
    }
   ],
   "source": [
    "# Checking distrib\n",
    "print(zeros_dob.info())\n"
   ]
  },
  {
   "cell_type": "markdown",
   "metadata": {},
   "source": [
    "Out of 101 values of zeros in dob, only 10 overlap with the other 2 columns containing missing values. it means that in this set, there is no connection between miissing values in dob and other columns."
   ]
  },
  {
   "cell_type": "code",
   "execution_count": 24,
   "metadata": {},
   "outputs": [],
   "source": [
    "#restoring NaN in dob_years with 0\n",
    "data['dob_years'] = data['dob_years'].fillna(0)"
   ]
  },
  {
   "cell_type": "code",
   "execution_count": 25,
   "metadata": {},
   "outputs": [
    {
     "data": {
      "text/plain": [
       "count    21525.000000\n",
       "mean        43.293380\n",
       "std         12.574584\n",
       "min          0.000000\n",
       "25%         33.000000\n",
       "50%         42.000000\n",
       "75%         53.000000\n",
       "max         75.000000\n",
       "Name: dob_years, dtype: float64"
      ]
     },
     "execution_count": 25,
     "metadata": {},
     "output_type": "execute_result"
    }
   ],
   "source": [
    "# Checking the distribution in the whole dataset\n",
    "data['dob_years'].describe()"
   ]
  },
  {
   "cell_type": "code",
   "execution_count": 26,
   "metadata": {},
   "outputs": [
    {
     "data": {
      "text/html": [
       "<div>\n",
       "<style scoped>\n",
       "    .dataframe tbody tr th:only-of-type {\n",
       "        vertical-align: middle;\n",
       "    }\n",
       "\n",
       "    .dataframe tbody tr th {\n",
       "        vertical-align: top;\n",
       "    }\n",
       "\n",
       "    .dataframe thead th {\n",
       "        text-align: right;\n",
       "    }\n",
       "</style>\n",
       "<table border=\"1\" class=\"dataframe\">\n",
       "  <thead>\n",
       "    <tr style=\"text-align: right;\">\n",
       "      <th></th>\n",
       "      <th>children</th>\n",
       "      <th>days_employed</th>\n",
       "      <th>dob_years</th>\n",
       "      <th>education_id</th>\n",
       "      <th>family_status_id</th>\n",
       "      <th>debt</th>\n",
       "      <th>total_income</th>\n",
       "    </tr>\n",
       "  </thead>\n",
       "  <tbody>\n",
       "    <tr>\n",
       "      <th>count</th>\n",
       "      <td>21525.000000</td>\n",
       "      <td>19351.000000</td>\n",
       "      <td>21525.000000</td>\n",
       "      <td>21525.000000</td>\n",
       "      <td>21525.000000</td>\n",
       "      <td>21525.000000</td>\n",
       "      <td>19351.000000</td>\n",
       "    </tr>\n",
       "    <tr>\n",
       "      <th>mean</th>\n",
       "      <td>0.538908</td>\n",
       "      <td>63046.497661</td>\n",
       "      <td>43.293380</td>\n",
       "      <td>0.817236</td>\n",
       "      <td>0.972544</td>\n",
       "      <td>0.080883</td>\n",
       "      <td>26787.568355</td>\n",
       "    </tr>\n",
       "    <tr>\n",
       "      <th>std</th>\n",
       "      <td>1.381587</td>\n",
       "      <td>140827.311974</td>\n",
       "      <td>12.574584</td>\n",
       "      <td>0.548138</td>\n",
       "      <td>1.420324</td>\n",
       "      <td>0.272661</td>\n",
       "      <td>16475.450632</td>\n",
       "    </tr>\n",
       "    <tr>\n",
       "      <th>min</th>\n",
       "      <td>-1.000000</td>\n",
       "      <td>-18388.949901</td>\n",
       "      <td>0.000000</td>\n",
       "      <td>0.000000</td>\n",
       "      <td>0.000000</td>\n",
       "      <td>0.000000</td>\n",
       "      <td>3306.762000</td>\n",
       "    </tr>\n",
       "    <tr>\n",
       "      <th>25%</th>\n",
       "      <td>0.000000</td>\n",
       "      <td>-2747.423625</td>\n",
       "      <td>33.000000</td>\n",
       "      <td>1.000000</td>\n",
       "      <td>0.000000</td>\n",
       "      <td>0.000000</td>\n",
       "      <td>16488.504500</td>\n",
       "    </tr>\n",
       "    <tr>\n",
       "      <th>50%</th>\n",
       "      <td>0.000000</td>\n",
       "      <td>-1203.369529</td>\n",
       "      <td>42.000000</td>\n",
       "      <td>1.000000</td>\n",
       "      <td>0.000000</td>\n",
       "      <td>0.000000</td>\n",
       "      <td>23202.870000</td>\n",
       "    </tr>\n",
       "    <tr>\n",
       "      <th>75%</th>\n",
       "      <td>1.000000</td>\n",
       "      <td>-291.095954</td>\n",
       "      <td>53.000000</td>\n",
       "      <td>1.000000</td>\n",
       "      <td>1.000000</td>\n",
       "      <td>0.000000</td>\n",
       "      <td>32549.611000</td>\n",
       "    </tr>\n",
       "    <tr>\n",
       "      <th>max</th>\n",
       "      <td>20.000000</td>\n",
       "      <td>401755.400475</td>\n",
       "      <td>75.000000</td>\n",
       "      <td>4.000000</td>\n",
       "      <td>4.000000</td>\n",
       "      <td>1.000000</td>\n",
       "      <td>362496.645000</td>\n",
       "    </tr>\n",
       "  </tbody>\n",
       "</table>\n",
       "</div>"
      ],
      "text/plain": [
       "           children  days_employed     dob_years  education_id  \\\n",
       "count  21525.000000   19351.000000  21525.000000  21525.000000   \n",
       "mean       0.538908   63046.497661     43.293380      0.817236   \n",
       "std        1.381587  140827.311974     12.574584      0.548138   \n",
       "min       -1.000000  -18388.949901      0.000000      0.000000   \n",
       "25%        0.000000   -2747.423625     33.000000      1.000000   \n",
       "50%        0.000000   -1203.369529     42.000000      1.000000   \n",
       "75%        1.000000    -291.095954     53.000000      1.000000   \n",
       "max       20.000000  401755.400475     75.000000      4.000000   \n",
       "\n",
       "       family_status_id          debt   total_income  \n",
       "count      21525.000000  21525.000000   19351.000000  \n",
       "mean           0.972544      0.080883   26787.568355  \n",
       "std            1.420324      0.272661   16475.450632  \n",
       "min            0.000000      0.000000    3306.762000  \n",
       "25%            0.000000      0.000000   16488.504500  \n",
       "50%            0.000000      0.000000   23202.870000  \n",
       "75%            1.000000      0.000000   32549.611000  \n",
       "max            4.000000      1.000000  362496.645000  "
      ]
     },
     "execution_count": 26,
     "metadata": {},
     "output_type": "execute_result"
    }
   ],
   "source": [
    "data.describe()"
   ]
  },
  {
   "cell_type": "markdown",
   "metadata": {},
   "source": [
    "I don't see any other relevant zero( missing value)"
   ]
  },
  {
   "cell_type": "code",
   "execution_count": 27,
   "metadata": {},
   "outputs": [
    {
     "name": "stdout",
     "output_type": "stream",
     "text": [
      "19784\n",
      "1741\n"
     ]
    }
   ],
   "source": [
    "# count the values of debt=0 and debt=1\n",
    "count_zero_debt=(data['debt']==0).sum()\n",
    "count_debt=(data['debt']==1).sum()\n",
    "print(count_zero_debt)\n",
    "print(count_debt)"
   ]
  },
  {
   "cell_type": "code",
   "execution_count": 28,
   "metadata": {},
   "outputs": [
    {
     "data": {
      "text/plain": [
       "433"
      ]
     },
     "execution_count": 28,
     "metadata": {},
     "output_type": "execute_result"
    }
   ],
   "source": [
    "(data.total_income.isnull().sum())-(count_debt)"
   ]
  },
  {
   "cell_type": "code",
   "execution_count": 29,
   "metadata": {},
   "outputs": [
    {
     "data": {
      "text/plain": [
       "dtype('int64')"
      ]
     },
     "execution_count": 29,
     "metadata": {},
     "output_type": "execute_result"
    }
   ],
   "source": [
    "data.debt.dtype"
   ]
  },
  {
   "cell_type": "markdown",
   "metadata": {},
   "source": [
    "I don't want to just drop the missing values rows, cause they contain a large portion of the debt=1"
   ]
  },
  {
   "cell_type": "markdown",
   "metadata": {},
   "source": [
    "\n",
    "\n",
    "\n",
    "**Possible reasons for missing values in data**\n",
    "\n",
    "\n",
    "\n",
    "Missing data can occur due to several reasons, e.g. interviewer mistakes, anonymization purposes, or survey filters.Data can go missing due to incomplete data entry, equipment malfunctions, lost files.Values might be missing because of some technical mistake, wrong data entry\n",
    "\n",
    "In my dataset I spotted a pattern, for which there's overlap of missing values among 2 columns. I determine that this is nonignorable data and I can't drop the rows with missing data, because this approach would reduce statistical power and increases estimation bias. \n",
    "\n",
    "\n"
   ]
  },
  {
   "cell_type": "code",
   "execution_count": 30,
   "metadata": {},
   "outputs": [
    {
     "name": "stdout",
     "output_type": "stream",
     "text": [
      "Empty DataFrame\n",
      "Columns: [children, days_employed, dob_years, education, education_id, family_status, family_status_id, gender, income_type, debt, total_income, purpose]\n",
      "Index: []\n"
     ]
    }
   ],
   "source": [
    "#seeking for empty strings that could be missing data\n",
    "\n",
    "empty_strings = data[data['education'].str.len() == 0]\n",
    "print(empty_strings)"
   ]
  },
  {
   "cell_type": "code",
   "execution_count": 31,
   "metadata": {},
   "outputs": [
    {
     "name": "stdout",
     "output_type": "stream",
     "text": [
      "Empty DataFrame\n",
      "Columns: [children, days_employed, dob_years, education, education_id, family_status, family_status_id, gender, income_type, debt, total_income, purpose]\n",
      "Index: []\n"
     ]
    }
   ],
   "source": [
    "#same for the column purpose\n",
    "empty_strings = data[data['purpose'].str.len() == 0]\n",
    "print(empty_strings)"
   ]
  },
  {
   "cell_type": "code",
   "execution_count": 32,
   "metadata": {},
   "outputs": [],
   "source": [
    "#Whith the following code, I verified that it works by using values>0 :\n",
    "\n",
    "#empty_strings = data[data['purpose'].str.len() > 0]\n",
    "#print(empty_strings)"
   ]
  },
  {
   "cell_type": "code",
   "execution_count": 33,
   "metadata": {},
   "outputs": [
    {
     "data": {
      "text/html": [
       "<div>\n",
       "<style scoped>\n",
       "    .dataframe tbody tr th:only-of-type {\n",
       "        vertical-align: middle;\n",
       "    }\n",
       "\n",
       "    .dataframe tbody tr th {\n",
       "        vertical-align: top;\n",
       "    }\n",
       "\n",
       "    .dataframe thead th {\n",
       "        text-align: right;\n",
       "    }\n",
       "</style>\n",
       "<table border=\"1\" class=\"dataframe\">\n",
       "  <thead>\n",
       "    <tr style=\"text-align: right;\">\n",
       "      <th></th>\n",
       "      <th>count</th>\n",
       "      <th>unique</th>\n",
       "      <th>top</th>\n",
       "      <th>freq</th>\n",
       "      <th>mean</th>\n",
       "      <th>std</th>\n",
       "      <th>min</th>\n",
       "      <th>25%</th>\n",
       "      <th>50%</th>\n",
       "      <th>75%</th>\n",
       "      <th>max</th>\n",
       "    </tr>\n",
       "  </thead>\n",
       "  <tbody>\n",
       "    <tr>\n",
       "      <th>children</th>\n",
       "      <td>21525.0</td>\n",
       "      <td>NaN</td>\n",
       "      <td>NaN</td>\n",
       "      <td>NaN</td>\n",
       "      <td>0.538908</td>\n",
       "      <td>1.381587</td>\n",
       "      <td>-1.0</td>\n",
       "      <td>0.0</td>\n",
       "      <td>0.0</td>\n",
       "      <td>1.0</td>\n",
       "      <td>20.0</td>\n",
       "    </tr>\n",
       "    <tr>\n",
       "      <th>days_employed</th>\n",
       "      <td>19351.0</td>\n",
       "      <td>NaN</td>\n",
       "      <td>NaN</td>\n",
       "      <td>NaN</td>\n",
       "      <td>63046.497661</td>\n",
       "      <td>140827.311974</td>\n",
       "      <td>-18388.949901</td>\n",
       "      <td>-2747.423625</td>\n",
       "      <td>-1203.369529</td>\n",
       "      <td>-291.095954</td>\n",
       "      <td>401755.400475</td>\n",
       "    </tr>\n",
       "    <tr>\n",
       "      <th>dob_years</th>\n",
       "      <td>21525.0</td>\n",
       "      <td>NaN</td>\n",
       "      <td>NaN</td>\n",
       "      <td>NaN</td>\n",
       "      <td>43.29338</td>\n",
       "      <td>12.574584</td>\n",
       "      <td>0.0</td>\n",
       "      <td>33.0</td>\n",
       "      <td>42.0</td>\n",
       "      <td>53.0</td>\n",
       "      <td>75.0</td>\n",
       "    </tr>\n",
       "    <tr>\n",
       "      <th>education</th>\n",
       "      <td>21525</td>\n",
       "      <td>15</td>\n",
       "      <td>secondary education</td>\n",
       "      <td>13750</td>\n",
       "      <td>NaN</td>\n",
       "      <td>NaN</td>\n",
       "      <td>NaN</td>\n",
       "      <td>NaN</td>\n",
       "      <td>NaN</td>\n",
       "      <td>NaN</td>\n",
       "      <td>NaN</td>\n",
       "    </tr>\n",
       "    <tr>\n",
       "      <th>education_id</th>\n",
       "      <td>21525.0</td>\n",
       "      <td>NaN</td>\n",
       "      <td>NaN</td>\n",
       "      <td>NaN</td>\n",
       "      <td>0.817236</td>\n",
       "      <td>0.548138</td>\n",
       "      <td>0.0</td>\n",
       "      <td>1.0</td>\n",
       "      <td>1.0</td>\n",
       "      <td>1.0</td>\n",
       "      <td>4.0</td>\n",
       "    </tr>\n",
       "    <tr>\n",
       "      <th>family_status</th>\n",
       "      <td>21525</td>\n",
       "      <td>5</td>\n",
       "      <td>married</td>\n",
       "      <td>12380</td>\n",
       "      <td>NaN</td>\n",
       "      <td>NaN</td>\n",
       "      <td>NaN</td>\n",
       "      <td>NaN</td>\n",
       "      <td>NaN</td>\n",
       "      <td>NaN</td>\n",
       "      <td>NaN</td>\n",
       "    </tr>\n",
       "    <tr>\n",
       "      <th>family_status_id</th>\n",
       "      <td>21525.0</td>\n",
       "      <td>NaN</td>\n",
       "      <td>NaN</td>\n",
       "      <td>NaN</td>\n",
       "      <td>0.972544</td>\n",
       "      <td>1.420324</td>\n",
       "      <td>0.0</td>\n",
       "      <td>0.0</td>\n",
       "      <td>0.0</td>\n",
       "      <td>1.0</td>\n",
       "      <td>4.0</td>\n",
       "    </tr>\n",
       "    <tr>\n",
       "      <th>gender</th>\n",
       "      <td>21525</td>\n",
       "      <td>3</td>\n",
       "      <td>F</td>\n",
       "      <td>14236</td>\n",
       "      <td>NaN</td>\n",
       "      <td>NaN</td>\n",
       "      <td>NaN</td>\n",
       "      <td>NaN</td>\n",
       "      <td>NaN</td>\n",
       "      <td>NaN</td>\n",
       "      <td>NaN</td>\n",
       "    </tr>\n",
       "    <tr>\n",
       "      <th>income_type</th>\n",
       "      <td>21525</td>\n",
       "      <td>8</td>\n",
       "      <td>employee</td>\n",
       "      <td>11119</td>\n",
       "      <td>NaN</td>\n",
       "      <td>NaN</td>\n",
       "      <td>NaN</td>\n",
       "      <td>NaN</td>\n",
       "      <td>NaN</td>\n",
       "      <td>NaN</td>\n",
       "      <td>NaN</td>\n",
       "    </tr>\n",
       "    <tr>\n",
       "      <th>debt</th>\n",
       "      <td>21525.0</td>\n",
       "      <td>NaN</td>\n",
       "      <td>NaN</td>\n",
       "      <td>NaN</td>\n",
       "      <td>0.080883</td>\n",
       "      <td>0.272661</td>\n",
       "      <td>0.0</td>\n",
       "      <td>0.0</td>\n",
       "      <td>0.0</td>\n",
       "      <td>0.0</td>\n",
       "      <td>1.0</td>\n",
       "    </tr>\n",
       "    <tr>\n",
       "      <th>total_income</th>\n",
       "      <td>19351.0</td>\n",
       "      <td>NaN</td>\n",
       "      <td>NaN</td>\n",
       "      <td>NaN</td>\n",
       "      <td>26787.568355</td>\n",
       "      <td>16475.450632</td>\n",
       "      <td>3306.762</td>\n",
       "      <td>16488.5045</td>\n",
       "      <td>23202.87</td>\n",
       "      <td>32549.611</td>\n",
       "      <td>362496.645</td>\n",
       "    </tr>\n",
       "    <tr>\n",
       "      <th>purpose</th>\n",
       "      <td>21525</td>\n",
       "      <td>38</td>\n",
       "      <td>wedding ceremony</td>\n",
       "      <td>797</td>\n",
       "      <td>NaN</td>\n",
       "      <td>NaN</td>\n",
       "      <td>NaN</td>\n",
       "      <td>NaN</td>\n",
       "      <td>NaN</td>\n",
       "      <td>NaN</td>\n",
       "      <td>NaN</td>\n",
       "    </tr>\n",
       "  </tbody>\n",
       "</table>\n",
       "</div>"
      ],
      "text/plain": [
       "                    count unique                  top   freq          mean  \\\n",
       "children          21525.0    NaN                  NaN    NaN      0.538908   \n",
       "days_employed     19351.0    NaN                  NaN    NaN  63046.497661   \n",
       "dob_years         21525.0    NaN                  NaN    NaN      43.29338   \n",
       "education           21525     15  secondary education  13750           NaN   \n",
       "education_id      21525.0    NaN                  NaN    NaN      0.817236   \n",
       "family_status       21525      5              married  12380           NaN   \n",
       "family_status_id  21525.0    NaN                  NaN    NaN      0.972544   \n",
       "gender              21525      3                    F  14236           NaN   \n",
       "income_type         21525      8             employee  11119           NaN   \n",
       "debt              21525.0    NaN                  NaN    NaN      0.080883   \n",
       "total_income      19351.0    NaN                  NaN    NaN  26787.568355   \n",
       "purpose             21525     38     wedding ceremony    797           NaN   \n",
       "\n",
       "                            std           min          25%          50%  \\\n",
       "children               1.381587          -1.0          0.0          0.0   \n",
       "days_employed     140827.311974 -18388.949901 -2747.423625 -1203.369529   \n",
       "dob_years             12.574584           0.0         33.0         42.0   \n",
       "education                   NaN           NaN          NaN          NaN   \n",
       "education_id           0.548138           0.0          1.0          1.0   \n",
       "family_status               NaN           NaN          NaN          NaN   \n",
       "family_status_id       1.420324           0.0          0.0          0.0   \n",
       "gender                      NaN           NaN          NaN          NaN   \n",
       "income_type                 NaN           NaN          NaN          NaN   \n",
       "debt                   0.272661           0.0          0.0          0.0   \n",
       "total_income       16475.450632      3306.762   16488.5045     23202.87   \n",
       "purpose                     NaN           NaN          NaN          NaN   \n",
       "\n",
       "                         75%            max  \n",
       "children                 1.0           20.0  \n",
       "days_employed    -291.095954  401755.400475  \n",
       "dob_years               53.0           75.0  \n",
       "education                NaN            NaN  \n",
       "education_id             1.0            4.0  \n",
       "family_status            NaN            NaN  \n",
       "family_status_id         1.0            4.0  \n",
       "gender                   NaN            NaN  \n",
       "income_type              NaN            NaN  \n",
       "debt                     0.0            1.0  \n",
       "total_income       32549.611     362496.645  \n",
       "purpose                  NaN            NaN  "
      ]
     },
     "execution_count": 33,
     "metadata": {},
     "output_type": "execute_result"
    }
   ],
   "source": [
    "data.describe(include='all').T\n"
   ]
  },
  {
   "cell_type": "markdown",
   "metadata": {},
   "source": [
    "**Intermediate conclusion**\n",
    "\n",
    "[Can we finally confirm that missing values are accidental? Check for anything else that you think might be important here.]"
   ]
  },
  {
   "cell_type": "markdown",
   "metadata": {},
   "source": [
    "**Conclusions**\n",
    "\n",
    "\n",
    "In my dataset I spotted a pattern, for which there's overlap of missing values among 2 columns: total_income and days_employed. I determine that this is non-ignorable data and I can't drop the rows with missing data, because this approach would reduce statistical power and increases estimation bias. \n",
    "\n",
    "Both columns are numerical data, so I want to be as accurate as possible, replacing them with means or medians calculated by considering also other known data about the clients.\n",
    "\n",
    "I will replace the zeros in the age with mean, and proceed to search for duplicates. I will also furter categorize the data within some columns in order to have a more accurate, and easy too interpret, approach."
   ]
  },
  {
   "cell_type": "markdown",
   "metadata": {},
   "source": [
    "## Data transformation\n",
    "\n",
    "Let's go through each column to see what issues we may have in them.\n",
    "\n"
   ]
  },
  {
   "cell_type": "code",
   "execution_count": 33,
   "metadata": {},
   "outputs": [
    {
     "name": "stdout",
     "output_type": "stream",
     "text": [
      "0      bachelor's degree\n",
      "1    secondary education\n",
      "2    Secondary Education\n",
      "3    secondary education\n",
      "4    secondary education\n",
      "5      bachelor's degree\n",
      "6      bachelor's degree\n",
      "7    SECONDARY EDUCATION\n",
      "8      BACHELOR'S DEGREE\n",
      "9    secondary education\n",
      "Name: education, dtype: object\n"
     ]
    }
   ],
   "source": [
    "# Let's see all values in education column to check if and what spellings will need to be fixed\n",
    "print(data['education'].head(10))"
   ]
  },
  {
   "cell_type": "markdown",
   "metadata": {},
   "source": [
    "There's need to convert all strings to lower case, that way we can find duplicates:"
   ]
  },
  {
   "cell_type": "code",
   "execution_count": 34,
   "metadata": {
    "scrolled": true
   },
   "outputs": [],
   "source": [
    "\n",
    "\n",
    "data['education'] = data['education'].str.lower()\n"
   ]
  },
  {
   "cell_type": "code",
   "execution_count": 34,
   "metadata": {},
   "outputs": [
    {
     "data": {
      "text/plain": [
       "0      bachelor's degree\n",
       "1    secondary education\n",
       "2    Secondary Education\n",
       "3    secondary education\n",
       "4    secondary education\n",
       "5      bachelor's degree\n",
       "6      bachelor's degree\n",
       "7    SECONDARY EDUCATION\n",
       "8      BACHELOR'S DEGREE\n",
       "9    secondary education\n",
       "Name: education, dtype: object"
      ]
     },
     "execution_count": 34,
     "metadata": {},
     "output_type": "execute_result"
    }
   ],
   "source": [
    "# Checking all the values in the column to make sure we fixed them\n",
    "\n",
    "data['education'].head(10)"
   ]
  },
  {
   "cell_type": "markdown",
   "metadata": {},
   "source": [
    "Check the data the `children` column"
   ]
  },
  {
   "cell_type": "code",
   "execution_count": 35,
   "metadata": {},
   "outputs": [
    {
     "name": "stdout",
     "output_type": "stream",
     "text": [
      "count    21525.000000\n",
      "mean         0.538908\n",
      "std          1.381587\n",
      "min         -1.000000\n",
      "25%          0.000000\n",
      "50%          0.000000\n",
      "75%          1.000000\n",
      "max         20.000000\n",
      "Name: children, dtype: float64\n"
     ]
    }
   ],
   "source": [
    "# Let's see the distribution of values in the `children` column\n",
    "print(data['children'].describe())\n"
   ]
  },
  {
   "cell_type": "code",
   "execution_count": 36,
   "metadata": {},
   "outputs": [
    {
     "data": {
      "text/plain": [
       " 0     14149\n",
       " 1      4818\n",
       " 2      2055\n",
       " 3       330\n",
       " 20       76\n",
       "-1        47\n",
       " 4        41\n",
       " 5         9\n",
       "Name: children, dtype: int64"
      ]
     },
     "execution_count": 36,
     "metadata": {},
     "output_type": "execute_result"
    }
   ],
   "source": [
    "data['children'].value_counts()"
   ]
  },
  {
   "cell_type": "markdown",
   "metadata": {},
   "source": [
    "there are few inconsistent data here:"
   ]
  },
  {
   "cell_type": "markdown",
   "metadata": {},
   "source": [
    "20 kids for a person, -1: human mistake. Since I think that's because of typo wile entering data, i decided to replace -1 with 1 and 20 with 2"
   ]
  },
  {
   "cell_type": "code",
   "execution_count": 37,
   "metadata": {},
   "outputs": [],
   "source": [
    "# fix the data \n",
    "\n",
    "data['children']=data['children'].replace([-1], 1)\n",
    "data['children']=data['children'].replace([20], 2)\n",
    "\n",
    "#i decided to replace -1 with 1 and 20 with 2, i think those where typos"
   ]
  },
  {
   "cell_type": "markdown",
   "metadata": {},
   "source": [
    "I converted those rows to 1 and 2"
   ]
  },
  {
   "cell_type": "code",
   "execution_count": 39,
   "metadata": {},
   "outputs": [
    {
     "data": {
      "text/plain": [
       "0    14149\n",
       "1     4865\n",
       "2     2131\n",
       "3      330\n",
       "4       41\n",
       "5        9\n",
       "Name: children, dtype: int64"
      ]
     },
     "execution_count": 39,
     "metadata": {},
     "output_type": "execute_result"
    }
   ],
   "source": [
    "# Checking the `children` column again to make sure it's all fixed\n",
    "data['children'].value_counts()\n"
   ]
  },
  {
   "cell_type": "markdown",
   "metadata": {},
   "source": [
    "Check the data in the `days_employed` column. I expect to see negative numbers and maybe an eccessive or inconsistent number of days. I will return the absolute values of the negatives, convert days to years and if the data appears good, I will proceed to replace NaN with a median."
   ]
  },
  {
   "cell_type": "code",
   "execution_count": 40,
   "metadata": {},
   "outputs": [
    {
     "data": {
      "text/plain": [
       "-8437.673028      1\n",
       "-3507.818775      1\n",
       " 354500.415854    1\n",
       "-769.717438       1\n",
       "-3963.590317      1\n",
       "                 ..\n",
       "-1099.957609      1\n",
       "-209.984794       1\n",
       " 398099.392433    1\n",
       "-1271.038880      1\n",
       "-1984.507589      1\n",
       "Name: days_employed, Length: 19351, dtype: int64"
      ]
     },
     "execution_count": 40,
     "metadata": {},
     "output_type": "execute_result"
    }
   ],
   "source": [
    "# Find problematic data in `days_employed`, if they exist, and calculate the percentage\n",
    "data['days_employed'].value_counts()"
   ]
  },
  {
   "cell_type": "markdown",
   "metadata": {},
   "source": [
    "The amount of problematic data is high, it could've been due to some technical issues. Maybe the data was entered using the minus operator as a bullet point."
   ]
  },
  {
   "cell_type": "code",
   "execution_count": 41,
   "metadata": {},
   "outputs": [],
   "source": [
    "# Address the problematic values, if they exist\n",
    "\n",
    "#converting all numbers to their absolute value\n",
    "\n",
    "data['days_employed']=data['days_employed'].abs()"
   ]
  },
  {
   "cell_type": "markdown",
   "metadata": {},
   "source": [
    "I converted all the negative values in \"days_employed\", to their absolute values, this way I can work on them"
   ]
  },
  {
   "cell_type": "code",
   "execution_count": 42,
   "metadata": {},
   "outputs": [
    {
     "name": "stdout",
     "output_type": "stream",
     "text": [
      "0       8437.673028\n",
      "1       4024.803754\n",
      "2       5623.422610\n",
      "3       4124.747207\n",
      "4     340266.072047\n",
      "5        926.185831\n",
      "6       2879.202052\n",
      "7        152.779569\n",
      "8       6929.865299\n",
      "9       2188.756445\n",
      "10      4171.483647\n",
      "11       792.701887\n",
      "12              NaN\n",
      "13      1846.641941\n",
      "14      1844.956182\n",
      "15       972.364419\n",
      "16      1719.934226\n",
      "17      2369.999720\n",
      "18    400281.136913\n",
      "19     10038.818549\n",
      "Name: days_employed, dtype: float64\n"
     ]
    }
   ],
   "source": [
    "data['days_employed']=abs(data['days_employed'])\n",
    "print(data['days_employed'].head(20))"
   ]
  },
  {
   "cell_type": "code",
   "execution_count": 43,
   "metadata": {},
   "outputs": [
    {
     "data": {
      "text/plain": [
       "8437.673028      1\n",
       "3507.818775      1\n",
       "354500.415854    1\n",
       "769.717438       1\n",
       "3963.590317      1\n",
       "                ..\n",
       "1099.957609      1\n",
       "209.984794       1\n",
       "398099.392433    1\n",
       "1271.038880      1\n",
       "1984.507589      1\n",
       "Name: days_employed, Length: 19351, dtype: int64"
      ]
     },
     "execution_count": 43,
     "metadata": {},
     "output_type": "execute_result"
    }
   ],
   "source": [
    "# Check the result - make sure it's fixed\n",
    "data['days_employed'].value_counts()"
   ]
  },
  {
   "cell_type": "markdown",
   "metadata": {},
   "source": [
    "I want to convert days to years, to see what's going on:"
   ]
  },
  {
   "cell_type": "code",
   "execution_count": 44,
   "metadata": {},
   "outputs": [
    {
     "name": "stdout",
     "output_type": "stream",
     "text": [
      "6954     1100.699727\n",
      "10006    1100.591265\n",
      "7664     1100.479708\n",
      "2156     1100.477991\n",
      "7794     1100.448904\n",
      "4697     1100.369953\n",
      "13420    1100.327762\n",
      "17823    1100.313632\n",
      "10991    1100.251585\n",
      "8369     1100.247814\n",
      "1184     1100.206018\n",
      "4949     1100.202480\n",
      "15192    1100.155489\n",
      "5716     1100.066463\n",
      "10484    1100.047333\n",
      "16237    1099.963580\n",
      "15599    1099.887336\n",
      "701      1099.853279\n",
      "14356    1099.837902\n",
      "5762     1099.675989\n",
      "Name: years_employed, dtype: float64\n"
     ]
    }
   ],
   "source": [
    "data['years_employed']= data['days_employed'].div(365)\n",
    "print (data['years_employed'].sort_values(ascending=False).head(20))"
   ]
  },
  {
   "cell_type": "code",
   "execution_count": 45,
   "metadata": {},
   "outputs": [
    {
     "name": "stdout",
     "output_type": "stream",
     "text": [
      "9291        4.397143\n",
      "17857       9.005262\n",
      "4678        2.028091\n",
      "5585        1.725349\n",
      "21485     997.250546\n",
      "10595       2.488144\n",
      "20589       1.811366\n",
      "21215     925.392493\n",
      "6143        6.170858\n",
      "5323        6.554750\n",
      "13760    1038.421946\n",
      "6908        2.200549\n",
      "6740             NaN\n",
      "13516       0.296359\n",
      "9897     1098.968642\n",
      "11981            NaN\n",
      "17909    1055.630986\n",
      "16206       5.361217\n",
      "6521        0.359487\n",
      "15084      20.513519\n",
      "Name: years_employed, dtype: float64\n"
     ]
    }
   ],
   "source": [
    "print (data['years_employed'].sort_values(ascending=False).sample(20))"
   ]
  },
  {
   "cell_type": "markdown",
   "metadata": {},
   "source": [
    "comparing years employed to age:"
   ]
  },
  {
   "cell_type": "code",
   "execution_count": 46,
   "metadata": {},
   "outputs": [
    {
     "name": "stdout",
     "output_type": "stream",
     "text": [
      "17437    31.0\n",
      "8336     32.0\n",
      "6157     47.0\n",
      "9683     43.0\n",
      "2127     31.0\n",
      "         ... \n",
      "7794     61.0\n",
      "2156     60.0\n",
      "7664     61.0\n",
      "10006    69.0\n",
      "6954     56.0\n",
      "Name: dob_years, Length: 19351, dtype: float64\n"
     ]
    }
   ],
   "source": [
    "test=data.groupby(['years_employed'])['dob_years']\n",
    "print(test.sample())"
   ]
  },
  {
   "cell_type": "markdown",
   "metadata": {},
   "source": [
    "obviously here we deal with a set of very inconsistent data, nobody could have been employed for thousands of year!"
   ]
  },
  {
   "cell_type": "code",
   "execution_count": 47,
   "metadata": {
    "scrolled": true
   },
   "outputs": [
    {
     "data": {
      "text/html": [
       "<div>\n",
       "<style scoped>\n",
       "    .dataframe tbody tr th:only-of-type {\n",
       "        vertical-align: middle;\n",
       "    }\n",
       "\n",
       "    .dataframe tbody tr th {\n",
       "        vertical-align: top;\n",
       "    }\n",
       "\n",
       "    .dataframe thead th {\n",
       "        text-align: right;\n",
       "    }\n",
       "</style>\n",
       "<table border=\"1\" class=\"dataframe\">\n",
       "  <thead>\n",
       "    <tr style=\"text-align: right;\">\n",
       "      <th></th>\n",
       "      <th>children</th>\n",
       "      <th>days_employed</th>\n",
       "      <th>dob_years</th>\n",
       "      <th>education_id</th>\n",
       "      <th>family_status_id</th>\n",
       "      <th>debt</th>\n",
       "      <th>total_income</th>\n",
       "      <th>years_employed</th>\n",
       "    </tr>\n",
       "  </thead>\n",
       "  <tbody>\n",
       "    <tr>\n",
       "      <th>count</th>\n",
       "      <td>21525.000000</td>\n",
       "      <td>19351.000000</td>\n",
       "      <td>21525.000000</td>\n",
       "      <td>21525.000000</td>\n",
       "      <td>21525.000000</td>\n",
       "      <td>21525.000000</td>\n",
       "      <td>19351.000000</td>\n",
       "      <td>19351.000000</td>\n",
       "    </tr>\n",
       "    <tr>\n",
       "      <th>mean</th>\n",
       "      <td>0.479721</td>\n",
       "      <td>66914.728907</td>\n",
       "      <td>43.293380</td>\n",
       "      <td>0.817236</td>\n",
       "      <td>0.972544</td>\n",
       "      <td>0.080883</td>\n",
       "      <td>26787.568355</td>\n",
       "      <td>183.328024</td>\n",
       "    </tr>\n",
       "    <tr>\n",
       "      <th>std</th>\n",
       "      <td>0.755528</td>\n",
       "      <td>139030.880527</td>\n",
       "      <td>12.574584</td>\n",
       "      <td>0.548138</td>\n",
       "      <td>1.420324</td>\n",
       "      <td>0.272661</td>\n",
       "      <td>16475.450632</td>\n",
       "      <td>380.906522</td>\n",
       "    </tr>\n",
       "    <tr>\n",
       "      <th>min</th>\n",
       "      <td>0.000000</td>\n",
       "      <td>24.141633</td>\n",
       "      <td>0.000000</td>\n",
       "      <td>0.000000</td>\n",
       "      <td>0.000000</td>\n",
       "      <td>0.000000</td>\n",
       "      <td>3306.762000</td>\n",
       "      <td>0.066141</td>\n",
       "    </tr>\n",
       "    <tr>\n",
       "      <th>25%</th>\n",
       "      <td>0.000000</td>\n",
       "      <td>927.009265</td>\n",
       "      <td>33.000000</td>\n",
       "      <td>1.000000</td>\n",
       "      <td>0.000000</td>\n",
       "      <td>0.000000</td>\n",
       "      <td>16488.504500</td>\n",
       "      <td>2.539751</td>\n",
       "    </tr>\n",
       "    <tr>\n",
       "      <th>50%</th>\n",
       "      <td>0.000000</td>\n",
       "      <td>2194.220567</td>\n",
       "      <td>42.000000</td>\n",
       "      <td>1.000000</td>\n",
       "      <td>0.000000</td>\n",
       "      <td>0.000000</td>\n",
       "      <td>23202.870000</td>\n",
       "      <td>6.011563</td>\n",
       "    </tr>\n",
       "    <tr>\n",
       "      <th>75%</th>\n",
       "      <td>1.000000</td>\n",
       "      <td>5537.882441</td>\n",
       "      <td>53.000000</td>\n",
       "      <td>1.000000</td>\n",
       "      <td>1.000000</td>\n",
       "      <td>0.000000</td>\n",
       "      <td>32549.611000</td>\n",
       "      <td>15.172281</td>\n",
       "    </tr>\n",
       "    <tr>\n",
       "      <th>max</th>\n",
       "      <td>5.000000</td>\n",
       "      <td>401755.400475</td>\n",
       "      <td>75.000000</td>\n",
       "      <td>4.000000</td>\n",
       "      <td>4.000000</td>\n",
       "      <td>1.000000</td>\n",
       "      <td>362496.645000</td>\n",
       "      <td>1100.699727</td>\n",
       "    </tr>\n",
       "  </tbody>\n",
       "</table>\n",
       "</div>"
      ],
      "text/plain": [
       "           children  days_employed     dob_years  education_id  \\\n",
       "count  21525.000000   19351.000000  21525.000000  21525.000000   \n",
       "mean       0.479721   66914.728907     43.293380      0.817236   \n",
       "std        0.755528  139030.880527     12.574584      0.548138   \n",
       "min        0.000000      24.141633      0.000000      0.000000   \n",
       "25%        0.000000     927.009265     33.000000      1.000000   \n",
       "50%        0.000000    2194.220567     42.000000      1.000000   \n",
       "75%        1.000000    5537.882441     53.000000      1.000000   \n",
       "max        5.000000  401755.400475     75.000000      4.000000   \n",
       "\n",
       "       family_status_id          debt   total_income  years_employed  \n",
       "count      21525.000000  21525.000000   19351.000000    19351.000000  \n",
       "mean           0.972544      0.080883   26787.568355      183.328024  \n",
       "std            1.420324      0.272661   16475.450632      380.906522  \n",
       "min            0.000000      0.000000    3306.762000        0.066141  \n",
       "25%            0.000000      0.000000   16488.504500        2.539751  \n",
       "50%            0.000000      0.000000   23202.870000        6.011563  \n",
       "75%            1.000000      0.000000   32549.611000       15.172281  \n",
       "max            4.000000      1.000000  362496.645000     1100.699727  "
      ]
     },
     "execution_count": 47,
     "metadata": {},
     "output_type": "execute_result"
    }
   ],
   "source": [
    "# Check the `dob_years` for suspicious values and count the percentage\n",
    "\n",
    "data.describe()"
   ]
  },
  {
   "cell_type": "markdown",
   "metadata": {},
   "source": [
    "replacing 0's in dob years with mean as there aren'tmany missing value and not big outliers"
   ]
  },
  {
   "cell_type": "code",
   "execution_count": 48,
   "metadata": {},
   "outputs": [],
   "source": [
    "# Address the issues in the `dob_years` column, if they exist\n",
    "#I will replace the 0's with a mean; we don't have many missing value aand not big outliers.\n",
    "data['dob_years']=data['dob_years'].replace(0,data['dob_years'].mean())"
   ]
  },
  {
   "cell_type": "code",
   "execution_count": 49,
   "metadata": {
    "scrolled": true
   },
   "outputs": [
    {
     "data": {
      "text/html": [
       "<div>\n",
       "<style scoped>\n",
       "    .dataframe tbody tr th:only-of-type {\n",
       "        vertical-align: middle;\n",
       "    }\n",
       "\n",
       "    .dataframe tbody tr th {\n",
       "        vertical-align: top;\n",
       "    }\n",
       "\n",
       "    .dataframe thead th {\n",
       "        text-align: right;\n",
       "    }\n",
       "</style>\n",
       "<table border=\"1\" class=\"dataframe\">\n",
       "  <thead>\n",
       "    <tr style=\"text-align: right;\">\n",
       "      <th></th>\n",
       "      <th>children</th>\n",
       "      <th>days_employed</th>\n",
       "      <th>dob_years</th>\n",
       "      <th>education_id</th>\n",
       "      <th>family_status_id</th>\n",
       "      <th>debt</th>\n",
       "      <th>total_income</th>\n",
       "      <th>years_employed</th>\n",
       "    </tr>\n",
       "  </thead>\n",
       "  <tbody>\n",
       "    <tr>\n",
       "      <th>count</th>\n",
       "      <td>21525.000000</td>\n",
       "      <td>19351.000000</td>\n",
       "      <td>21525.000000</td>\n",
       "      <td>21525.000000</td>\n",
       "      <td>21525.000000</td>\n",
       "      <td>21525.000000</td>\n",
       "      <td>19351.000000</td>\n",
       "      <td>19351.000000</td>\n",
       "    </tr>\n",
       "    <tr>\n",
       "      <th>mean</th>\n",
       "      <td>0.479721</td>\n",
       "      <td>66914.728907</td>\n",
       "      <td>43.496522</td>\n",
       "      <td>0.817236</td>\n",
       "      <td>0.972544</td>\n",
       "      <td>0.080883</td>\n",
       "      <td>26787.568355</td>\n",
       "      <td>183.328024</td>\n",
       "    </tr>\n",
       "    <tr>\n",
       "      <th>std</th>\n",
       "      <td>0.755528</td>\n",
       "      <td>139030.880527</td>\n",
       "      <td>12.218174</td>\n",
       "      <td>0.548138</td>\n",
       "      <td>1.420324</td>\n",
       "      <td>0.272661</td>\n",
       "      <td>16475.450632</td>\n",
       "      <td>380.906522</td>\n",
       "    </tr>\n",
       "    <tr>\n",
       "      <th>min</th>\n",
       "      <td>0.000000</td>\n",
       "      <td>24.141633</td>\n",
       "      <td>19.000000</td>\n",
       "      <td>0.000000</td>\n",
       "      <td>0.000000</td>\n",
       "      <td>0.000000</td>\n",
       "      <td>3306.762000</td>\n",
       "      <td>0.066141</td>\n",
       "    </tr>\n",
       "    <tr>\n",
       "      <th>25%</th>\n",
       "      <td>0.000000</td>\n",
       "      <td>927.009265</td>\n",
       "      <td>34.000000</td>\n",
       "      <td>1.000000</td>\n",
       "      <td>0.000000</td>\n",
       "      <td>0.000000</td>\n",
       "      <td>16488.504500</td>\n",
       "      <td>2.539751</td>\n",
       "    </tr>\n",
       "    <tr>\n",
       "      <th>50%</th>\n",
       "      <td>0.000000</td>\n",
       "      <td>2194.220567</td>\n",
       "      <td>43.000000</td>\n",
       "      <td>1.000000</td>\n",
       "      <td>0.000000</td>\n",
       "      <td>0.000000</td>\n",
       "      <td>23202.870000</td>\n",
       "      <td>6.011563</td>\n",
       "    </tr>\n",
       "    <tr>\n",
       "      <th>75%</th>\n",
       "      <td>1.000000</td>\n",
       "      <td>5537.882441</td>\n",
       "      <td>53.000000</td>\n",
       "      <td>1.000000</td>\n",
       "      <td>1.000000</td>\n",
       "      <td>0.000000</td>\n",
       "      <td>32549.611000</td>\n",
       "      <td>15.172281</td>\n",
       "    </tr>\n",
       "    <tr>\n",
       "      <th>max</th>\n",
       "      <td>5.000000</td>\n",
       "      <td>401755.400475</td>\n",
       "      <td>75.000000</td>\n",
       "      <td>4.000000</td>\n",
       "      <td>4.000000</td>\n",
       "      <td>1.000000</td>\n",
       "      <td>362496.645000</td>\n",
       "      <td>1100.699727</td>\n",
       "    </tr>\n",
       "  </tbody>\n",
       "</table>\n",
       "</div>"
      ],
      "text/plain": [
       "           children  days_employed     dob_years  education_id  \\\n",
       "count  21525.000000   19351.000000  21525.000000  21525.000000   \n",
       "mean       0.479721   66914.728907     43.496522      0.817236   \n",
       "std        0.755528  139030.880527     12.218174      0.548138   \n",
       "min        0.000000      24.141633     19.000000      0.000000   \n",
       "25%        0.000000     927.009265     34.000000      1.000000   \n",
       "50%        0.000000    2194.220567     43.000000      1.000000   \n",
       "75%        1.000000    5537.882441     53.000000      1.000000   \n",
       "max        5.000000  401755.400475     75.000000      4.000000   \n",
       "\n",
       "       family_status_id          debt   total_income  years_employed  \n",
       "count      21525.000000  21525.000000   19351.000000    19351.000000  \n",
       "mean           0.972544      0.080883   26787.568355      183.328024  \n",
       "std            1.420324      0.272661   16475.450632      380.906522  \n",
       "min            0.000000      0.000000    3306.762000        0.066141  \n",
       "25%            0.000000      0.000000   16488.504500        2.539751  \n",
       "50%            0.000000      0.000000   23202.870000        6.011563  \n",
       "75%            1.000000      0.000000   32549.611000       15.172281  \n",
       "max            4.000000      1.000000  362496.645000     1100.699727  "
      ]
     },
     "execution_count": 49,
     "metadata": {},
     "output_type": "execute_result"
    }
   ],
   "source": [
    "# Check the result - make sure it's fixed\n",
    "data.describe()"
   ]
  },
  {
   "cell_type": "markdown",
   "metadata": {},
   "source": [
    "It's fixed: the minimum age now is 19 and not 0"
   ]
  },
  {
   "cell_type": "markdown",
   "metadata": {},
   "source": [
    "Now let's check the `family_status` column. See what kind of values there are and what problems there might be"
   ]
  },
  {
   "cell_type": "code",
   "execution_count": 50,
   "metadata": {},
   "outputs": [
    {
     "name": "stdout",
     "output_type": "stream",
     "text": [
      "married              12380\n",
      "civil partnership     4177\n",
      "unmarried             2813\n",
      "divorced              1195\n",
      "widow / widower        960\n",
      "Name: family_status, dtype: int64\n"
     ]
    }
   ],
   "source": [
    "# Let's see the values for the column\n",
    "\n",
    "print(data['family_status'].value_counts())\n"
   ]
  },
  {
   "cell_type": "markdown",
   "metadata": {},
   "source": [
    "everything seems fine"
   ]
  },
  {
   "cell_type": "markdown",
   "metadata": {},
   "source": [
    "Now let's check the `gender` column. See what kind of values there are and what problems need to be addressed"
   ]
  },
  {
   "cell_type": "code",
   "execution_count": 51,
   "metadata": {},
   "outputs": [
    {
     "name": "stdout",
     "output_type": "stream",
     "text": [
      "F      14236\n",
      "M       7288\n",
      "XNA        1\n",
      "Name: gender, dtype: int64\n"
     ]
    }
   ],
   "source": [
    "# Let's see the values in the column\n",
    "print(data['gender'].value_counts())"
   ]
  },
  {
   "cell_type": "code",
   "execution_count": 52,
   "metadata": {},
   "outputs": [],
   "source": [
    "# Address the problematic values, if they exist\n",
    "data['gender'] = data['gender'].replace('XNA', np.nan)\n",
    "\n",
    "\n",
    "#I want to ignore XNA because is only 1 value compared to more that 21000, not statistically relevant"
   ]
  },
  {
   "cell_type": "markdown",
   "metadata": {},
   "source": [
    "I want to ignore XNA because is only 1 value compared to more that 21000, not statistically relevant. replaced with NaN"
   ]
  },
  {
   "cell_type": "code",
   "execution_count": 53,
   "metadata": {},
   "outputs": [
    {
     "name": "stdout",
     "output_type": "stream",
     "text": [
      "F    14236\n",
      "M     7288\n",
      "Name: gender, dtype: int64\n"
     ]
    }
   ],
   "source": [
    "# Check the result - make sure it's fixed\n",
    "print(data['gender'].value_counts())"
   ]
  },
  {
   "cell_type": "markdown",
   "metadata": {},
   "source": [
    "Now let's check the `income_type` column. "
   ]
  },
  {
   "cell_type": "code",
   "execution_count": 54,
   "metadata": {},
   "outputs": [
    {
     "name": "stdout",
     "output_type": "stream",
     "text": [
      "employee                       11119\n",
      "business                        5085\n",
      "retiree                         3856\n",
      "civil servant                   1459\n",
      "unemployed                         2\n",
      "entrepreneur                       2\n",
      "student                            1\n",
      "paternity / maternity leave        1\n",
      "Name: income_type, dtype: int64\n"
     ]
    }
   ],
   "source": [
    "# Let's see the values in the column\n",
    "print(data['income_type'].value_counts())"
   ]
  },
  {
   "cell_type": "code",
   "execution_count": 55,
   "metadata": {},
   "outputs": [],
   "source": [
    "# Address the problematic values, if they exist\n",
    "# i will just add those few values to the value employee, by replacing the string with \"employee\"\n",
    "# I think is better to add them to the largest category and not lose those few data in the row\n",
    "#data['income_type'] = data['income_type'].replace(['entrepreneur',\n",
    "                                                   #'unemployed', \n",
    "                                                   #'paternity / maternity leave', \n",
    "                                                   #'student'], 'employee')"
   ]
  },
  {
   "cell_type": "markdown",
   "metadata": {},
   "source": [
    "I actually reduced the categories of employment type by adding six rows of former categories to the most popiulated one: employee"
   ]
  },
  {
   "cell_type": "code",
   "execution_count": 56,
   "metadata": {},
   "outputs": [],
   "source": [
    "data['income_type'] = data['income_type'].replace(['entrepreneur',\n",
    "                                                   'unemployed', \n",
    "                                                   'paternity / maternity leave', \n",
    "                                                   'student'], np.nan)"
   ]
  },
  {
   "cell_type": "code",
   "execution_count": 57,
   "metadata": {},
   "outputs": [
    {
     "name": "stdout",
     "output_type": "stream",
     "text": [
      "employee         11119\n",
      "business          5085\n",
      "retiree           3856\n",
      "civil servant     1459\n",
      "Name: income_type, dtype: int64\n"
     ]
    }
   ],
   "source": [
    "# Check the result - make sure it's fixed\n",
    "\n",
    "print(data['income_type'].value_counts())"
   ]
  },
  {
   "cell_type": "markdown",
   "metadata": {},
   "source": [
    "I want to ignore those four categories of income because are  only few values compared to more that 21000, not statistically relevant. replaced with NaN"
   ]
  },
  {
   "cell_type": "markdown",
   "metadata": {},
   "source": [
    "Now let's see if we have any duplicates in our dataset, and address the issues if there are any:"
   ]
  },
  {
   "cell_type": "code",
   "execution_count": 58,
   "metadata": {},
   "outputs": [
    {
     "name": "stdout",
     "output_type": "stream",
     "text": [
      "       children  days_employed  dob_years            education  education_id  \\\n",
      "2849          0            NaN       41.0  secondary education             1   \n",
      "4182          1            NaN       34.0    BACHELOR'S DEGREE             0   \n",
      "4851          0            NaN       60.0  secondary education             1   \n",
      "5557          0            NaN       58.0  secondary education             1   \n",
      "7808          0            NaN       57.0  secondary education             1   \n",
      "8583          0            NaN       58.0    bachelor's degree             0   \n",
      "9238          2            NaN       34.0  secondary education             1   \n",
      "9528          0            NaN       66.0  secondary education             1   \n",
      "9627          0            NaN       56.0  secondary education             1   \n",
      "10462         0            NaN       62.0  secondary education             1   \n",
      "10697         0            NaN       40.0  secondary education             1   \n",
      "10864         0            NaN       62.0  secondary education             1   \n",
      "10994         0            NaN       62.0  secondary education             1   \n",
      "11791         0            NaN       47.0  secondary education             1   \n",
      "12373         0            NaN       58.0  secondary education             1   \n",
      "12375         1            NaN       37.0  secondary education             1   \n",
      "12736         0            NaN       59.0  secondary education             1   \n",
      "13025         1            NaN       44.0  secondary education             1   \n",
      "13639         0            NaN       64.0  secondary education             1   \n",
      "13773         0            NaN       35.0  secondary education             1   \n",
      "13878         1            NaN       31.0  secondary education             1   \n",
      "13942         0            NaN       44.0  secondary education             1   \n",
      "14432         2            NaN       36.0    bachelor's degree             0   \n",
      "14832         0            NaN       50.0  secondary education             1   \n",
      "15091         0            NaN       58.0  secondary education             1   \n",
      "15188         0            NaN       60.0  secondary education             1   \n",
      "15273         0            NaN       57.0  secondary education             1   \n",
      "16176         0            NaN       47.0  secondary education             1   \n",
      "16378         0            NaN       46.0  secondary education             1   \n",
      "16902         2            NaN       39.0  secondary education             1   \n",
      "16904         1            NaN       32.0    bachelor's degree             0   \n",
      "17379         0            NaN       54.0    bachelor's degree             0   \n",
      "17755         1            NaN       43.0  secondary education             1   \n",
      "17774         1            NaN       40.0  secondary education             1   \n",
      "18328         0            NaN       29.0    bachelor's degree             0   \n",
      "18349         1            NaN       30.0    bachelor's degree             0   \n",
      "18428         0            NaN       64.0  secondary education             1   \n",
      "18521         0            NaN       56.0  secondary education             1   \n",
      "18563         0            NaN       54.0  secondary education             1   \n",
      "18755         0            NaN       58.0  secondary education             1   \n",
      "19041         0            NaN       56.0  secondary education             1   \n",
      "19184         0            NaN       46.0  secondary education             1   \n",
      "19321         0            NaN       23.0  secondary education             1   \n",
      "19387         0            NaN       38.0    bachelor's degree             0   \n",
      "19688         0            NaN       61.0  secondary education             1   \n",
      "19832         0            NaN       48.0  secondary education             1   \n",
      "19946         0            NaN       57.0  secondary education             1   \n",
      "20116         0            NaN       57.0  secondary education             1   \n",
      "20165         0            NaN       42.0  secondary education             1   \n",
      "20702         0            NaN       64.0  secondary education             1   \n",
      "21032         0            NaN       60.0  secondary education             1   \n",
      "21132         0            NaN       47.0  secondary education             1   \n",
      "21281         1            NaN       30.0    bachelor's degree             0   \n",
      "21415         0            NaN       54.0  secondary education             1   \n",
      "\n",
      "           family_status  family_status_id gender    income_type  debt  \\\n",
      "2849             married                 0      F       employee     0   \n",
      "4182   civil partnership                 1      F       employee     0   \n",
      "4851   civil partnership                 1      F        retiree     0   \n",
      "5557   civil partnership                 1      F        retiree     0   \n",
      "7808   civil partnership                 1      F        retiree     0   \n",
      "8583           unmarried                 4      F        retiree     0   \n",
      "9238             married                 0      F       employee     0   \n",
      "9528     widow / widower                 2      F        retiree     0   \n",
      "9627             married                 0      F        retiree     0   \n",
      "10462            married                 0      F        retiree     0   \n",
      "10697  civil partnership                 1      F       business     0   \n",
      "10864            married                 0      F        retiree     0   \n",
      "10994            married                 0      F        retiree     0   \n",
      "11791            married                 0      F       employee     0   \n",
      "12373            married                 0      M       employee     0   \n",
      "12375            married                 0      F       employee     0   \n",
      "12736            married                 0      F        retiree     0   \n",
      "13025            married                 0      F       employee     0   \n",
      "13639            married                 0      F        retiree     0   \n",
      "13773  civil partnership                 1      F       employee     0   \n",
      "13878            married                 0      F       business     0   \n",
      "13942            married                 0      F       employee     0   \n",
      "14432            married                 0      F  civil servant     0   \n",
      "14832          unmarried                 4      F       employee     0   \n",
      "15091  civil partnership                 1      M       employee     0   \n",
      "15188            married                 0      M       employee     0   \n",
      "15273  civil partnership                 1      F        retiree     0   \n",
      "16176            married                 0      F       employee     0   \n",
      "16378            married                 0      F       employee     0   \n",
      "16902  civil partnership                 1      F       employee     0   \n",
      "16904            married                 0      F       employee     0   \n",
      "17379            married                 0      M       business     0   \n",
      "17755            married                 0      M       employee     0   \n",
      "17774  civil partnership                 1      F       business     0   \n",
      "18328            married                 0      M       employee     0   \n",
      "18349            married                 0      F  civil servant     0   \n",
      "18428            married                 0      F        retiree     0   \n",
      "18521  civil partnership                 1      F       employee     0   \n",
      "18563            married                 0      F       employee     0   \n",
      "18755            married                 0      F        retiree     0   \n",
      "19041  civil partnership                 1      F       employee     0   \n",
      "19184            married                 0      F       employee     0   \n",
      "19321          unmarried                 4      F       employee     0   \n",
      "19387  civil partnership                 1      F       business     0   \n",
      "19688            married                 0      F        retiree     0   \n",
      "19832            married                 0      F       employee     0   \n",
      "19946            married                 0      F       employee     0   \n",
      "20116  civil partnership                 1      M        retiree     0   \n",
      "20165            married                 0      F       employee     0   \n",
      "20702            married                 0      F        retiree     0   \n",
      "21032            married                 0      F        retiree     0   \n",
      "21132            married                 0      F       employee     0   \n",
      "21281            married                 0      F       employee     0   \n",
      "21415            married                 0      F        retiree     0   \n",
      "\n",
      "       total_income                                   purpose  years_employed  \n",
      "2849            NaN       purchase of the house for my family             NaN  \n",
      "4182            NaN                          wedding ceremony             NaN  \n",
      "4851            NaN                          wedding ceremony             NaN  \n",
      "5557            NaN                         to have a wedding             NaN  \n",
      "7808            NaN                          having a wedding             NaN  \n",
      "8583            NaN                   supplementary education             NaN  \n",
      "9238            NaN           buying property for renting out             NaN  \n",
      "9528            NaN          transactions with my real estate             NaN  \n",
      "9627            NaN          transactions with my real estate             NaN  \n",
      "10462           NaN                buy commercial real estate             NaN  \n",
      "10697           NaN                         to have a wedding             NaN  \n",
      "10864           NaN                        housing renovation             NaN  \n",
      "10994           NaN                        housing renovation             NaN  \n",
      "11791           NaN                       building a property             NaN  \n",
      "12373           NaN                           buy real estate             NaN  \n",
      "12375           NaN                           buy real estate             NaN  \n",
      "12736           NaN                        to become educated             NaN  \n",
      "13025           NaN                  second-hand car purchase             NaN  \n",
      "13639           NaN                                       car             NaN  \n",
      "13773           NaN                         to have a wedding             NaN  \n",
      "13878           NaN                     purchase of the house             NaN  \n",
      "13942           NaN                              car purchase             NaN  \n",
      "14432           NaN                      getting an education             NaN  \n",
      "14832           NaN                                  property             NaN  \n",
      "15091           NaN                          having a wedding             NaN  \n",
      "15188           NaN                           buy real estate             NaN  \n",
      "15273           NaN                          wedding ceremony             NaN  \n",
      "16176           NaN                        housing renovation             NaN  \n",
      "16378           NaN                      university education             NaN  \n",
      "16902           NaN                         to have a wedding             NaN  \n",
      "16904           NaN                  buying a second-hand car             NaN  \n",
      "17379           NaN  transactions with commercial real estate             NaN  \n",
      "17755           NaN                        to become educated             NaN  \n",
      "17774           NaN                    building a real estate             NaN  \n",
      "18328           NaN               buy residential real estate             NaN  \n",
      "18349           NaN       purchase of the house for my family             NaN  \n",
      "18428           NaN                                   housing             NaN  \n",
      "18521           NaN                         to have a wedding             NaN  \n",
      "18563           NaN          transactions with my real estate             NaN  \n",
      "18755           NaN                        to become educated             NaN  \n",
      "19041           NaN                          having a wedding             NaN  \n",
      "19184           NaN                              to own a car             NaN  \n",
      "19321           NaN                  second-hand car purchase             NaN  \n",
      "19387           NaN                          having a wedding             NaN  \n",
      "19688           NaN                  real estate transactions             NaN  \n",
      "19832           NaN                        housing renovation             NaN  \n",
      "19946           NaN                  second-hand car purchase             NaN  \n",
      "20116           NaN                          wedding ceremony             NaN  \n",
      "20165           NaN       purchase of the house for my family             NaN  \n",
      "20702           NaN                   supplementary education             NaN  \n",
      "21032           NaN                        to become educated             NaN  \n",
      "21132           NaN                        housing renovation             NaN  \n",
      "21281           NaN                buy commercial real estate             NaN  \n",
      "21415           NaN                      housing transactions             NaN  \n"
     ]
    }
   ],
   "source": [
    "# Checking duplicates\n",
    "duplicateRows = data[data.duplicated()]\n",
    "print(duplicateRows)"
   ]
  },
  {
   "cell_type": "markdown",
   "metadata": {},
   "source": [
    "there are 71 duplicates: I want to drop them because duplicates are an extreme case of nonrandom sampling, and they bias our  model. Including them will essentially lead to data redundancy."
   ]
  },
  {
   "cell_type": "code",
   "execution_count": 59,
   "metadata": {},
   "outputs": [],
   "source": [
    "# Address the duplicates, if they exist\n",
    "data=data.drop_duplicates()"
   ]
  },
  {
   "cell_type": "code",
   "execution_count": 60,
   "metadata": {},
   "outputs": [
    {
     "name": "stdout",
     "output_type": "stream",
     "text": [
      "Empty DataFrame\n",
      "Columns: [children, days_employed, dob_years, education, education_id, family_status, family_status_id, gender, income_type, debt, total_income, purpose, years_employed]\n",
      "Index: []\n"
     ]
    }
   ],
   "source": [
    "# Last check whether we have any duplicates\n",
    "duplicateRows = data[data.duplicated()]\n",
    "print(duplicateRows)"
   ]
  },
  {
   "cell_type": "markdown",
   "metadata": {},
   "source": [
    "I removed the duplicates"
   ]
  },
  {
   "cell_type": "code",
   "execution_count": 61,
   "metadata": {},
   "outputs": [
    {
     "name": "stdout",
     "output_type": "stream",
     "text": [
      "<class 'pandas.core.frame.DataFrame'>\n",
      "Int64Index: 21471 entries, 0 to 21524\n",
      "Data columns (total 13 columns):\n",
      " #   Column            Non-Null Count  Dtype  \n",
      "---  ------            --------------  -----  \n",
      " 0   children          21471 non-null  int64  \n",
      " 1   days_employed     19351 non-null  float64\n",
      " 2   dob_years         21471 non-null  float64\n",
      " 3   education         21471 non-null  object \n",
      " 4   education_id      21471 non-null  int64  \n",
      " 5   family_status     21471 non-null  object \n",
      " 6   family_status_id  21471 non-null  int64  \n",
      " 7   gender            21470 non-null  object \n",
      " 8   income_type       21465 non-null  object \n",
      " 9   debt              21471 non-null  int64  \n",
      " 10  total_income      19351 non-null  float64\n",
      " 11  purpose           21471 non-null  object \n",
      " 12  years_employed    19351 non-null  float64\n",
      "dtypes: float64(4), int64(4), object(5)\n",
      "memory usage: 2.3+ MB\n"
     ]
    }
   ],
   "source": [
    "# Check the size of the dataset that you now have after the first manipulations with it\n",
    "data.info()"
   ]
  },
  {
   "cell_type": "markdown",
   "metadata": {},
   "source": [
    "we can observe, now, a diminished number of entry in our dataset"
   ]
  },
  {
   "cell_type": "code",
   "execution_count": 62,
   "metadata": {},
   "outputs": [
    {
     "data": {
      "text/html": [
       "<div>\n",
       "<style scoped>\n",
       "    .dataframe tbody tr th:only-of-type {\n",
       "        vertical-align: middle;\n",
       "    }\n",
       "\n",
       "    .dataframe tbody tr th {\n",
       "        vertical-align: top;\n",
       "    }\n",
       "\n",
       "    .dataframe thead th {\n",
       "        text-align: right;\n",
       "    }\n",
       "</style>\n",
       "<table border=\"1\" class=\"dataframe\">\n",
       "  <thead>\n",
       "    <tr style=\"text-align: right;\">\n",
       "      <th></th>\n",
       "      <th>children</th>\n",
       "      <th>days_employed</th>\n",
       "      <th>dob_years</th>\n",
       "      <th>education_id</th>\n",
       "      <th>family_status_id</th>\n",
       "      <th>debt</th>\n",
       "      <th>total_income</th>\n",
       "      <th>years_employed</th>\n",
       "    </tr>\n",
       "  </thead>\n",
       "  <tbody>\n",
       "    <tr>\n",
       "      <th>count</th>\n",
       "      <td>21471.000000</td>\n",
       "      <td>19351.000000</td>\n",
       "      <td>21471.000000</td>\n",
       "      <td>21471.000000</td>\n",
       "      <td>21471.000000</td>\n",
       "      <td>21471.000000</td>\n",
       "      <td>19351.000000</td>\n",
       "      <td>19351.000000</td>\n",
       "    </tr>\n",
       "    <tr>\n",
       "      <th>mean</th>\n",
       "      <td>0.480229</td>\n",
       "      <td>66914.728907</td>\n",
       "      <td>43.482727</td>\n",
       "      <td>0.817195</td>\n",
       "      <td>0.973685</td>\n",
       "      <td>0.081086</td>\n",
       "      <td>26787.568355</td>\n",
       "      <td>183.328024</td>\n",
       "    </tr>\n",
       "    <tr>\n",
       "      <th>std</th>\n",
       "      <td>0.755892</td>\n",
       "      <td>139030.880527</td>\n",
       "      <td>12.217198</td>\n",
       "      <td>0.548508</td>\n",
       "      <td>1.421082</td>\n",
       "      <td>0.272974</td>\n",
       "      <td>16475.450632</td>\n",
       "      <td>380.906522</td>\n",
       "    </tr>\n",
       "    <tr>\n",
       "      <th>min</th>\n",
       "      <td>0.000000</td>\n",
       "      <td>24.141633</td>\n",
       "      <td>19.000000</td>\n",
       "      <td>0.000000</td>\n",
       "      <td>0.000000</td>\n",
       "      <td>0.000000</td>\n",
       "      <td>3306.762000</td>\n",
       "      <td>0.066141</td>\n",
       "    </tr>\n",
       "    <tr>\n",
       "      <th>25%</th>\n",
       "      <td>0.000000</td>\n",
       "      <td>927.009265</td>\n",
       "      <td>33.500000</td>\n",
       "      <td>1.000000</td>\n",
       "      <td>0.000000</td>\n",
       "      <td>0.000000</td>\n",
       "      <td>16488.504500</td>\n",
       "      <td>2.539751</td>\n",
       "    </tr>\n",
       "    <tr>\n",
       "      <th>50%</th>\n",
       "      <td>0.000000</td>\n",
       "      <td>2194.220567</td>\n",
       "      <td>43.000000</td>\n",
       "      <td>1.000000</td>\n",
       "      <td>0.000000</td>\n",
       "      <td>0.000000</td>\n",
       "      <td>23202.870000</td>\n",
       "      <td>6.011563</td>\n",
       "    </tr>\n",
       "    <tr>\n",
       "      <th>75%</th>\n",
       "      <td>1.000000</td>\n",
       "      <td>5537.882441</td>\n",
       "      <td>53.000000</td>\n",
       "      <td>1.000000</td>\n",
       "      <td>1.000000</td>\n",
       "      <td>0.000000</td>\n",
       "      <td>32549.611000</td>\n",
       "      <td>15.172281</td>\n",
       "    </tr>\n",
       "    <tr>\n",
       "      <th>max</th>\n",
       "      <td>5.000000</td>\n",
       "      <td>401755.400475</td>\n",
       "      <td>75.000000</td>\n",
       "      <td>4.000000</td>\n",
       "      <td>4.000000</td>\n",
       "      <td>1.000000</td>\n",
       "      <td>362496.645000</td>\n",
       "      <td>1100.699727</td>\n",
       "    </tr>\n",
       "  </tbody>\n",
       "</table>\n",
       "</div>"
      ],
      "text/plain": [
       "           children  days_employed     dob_years  education_id  \\\n",
       "count  21471.000000   19351.000000  21471.000000  21471.000000   \n",
       "mean       0.480229   66914.728907     43.482727      0.817195   \n",
       "std        0.755892  139030.880527     12.217198      0.548508   \n",
       "min        0.000000      24.141633     19.000000      0.000000   \n",
       "25%        0.000000     927.009265     33.500000      1.000000   \n",
       "50%        0.000000    2194.220567     43.000000      1.000000   \n",
       "75%        1.000000    5537.882441     53.000000      1.000000   \n",
       "max        5.000000  401755.400475     75.000000      4.000000   \n",
       "\n",
       "       family_status_id          debt   total_income  years_employed  \n",
       "count      21471.000000  21471.000000   19351.000000    19351.000000  \n",
       "mean           0.973685      0.081086   26787.568355      183.328024  \n",
       "std            1.421082      0.272974   16475.450632      380.906522  \n",
       "min            0.000000      0.000000    3306.762000        0.066141  \n",
       "25%            0.000000      0.000000   16488.504500        2.539751  \n",
       "50%            0.000000      0.000000   23202.870000        6.011563  \n",
       "75%            1.000000      0.000000   32549.611000       15.172281  \n",
       "max            4.000000      1.000000  362496.645000     1100.699727  "
      ]
     },
     "execution_count": 62,
     "metadata": {},
     "output_type": "execute_result"
    }
   ],
   "source": [
    "data.describe()"
   ]
  },
  {
   "cell_type": "markdown",
   "metadata": {},
   "source": [
    "[Describe your new dataset: briefly say what's changed and what's the percentage of the changes, if there were any.]\n"
   ]
  },
  {
   "cell_type": "markdown",
   "metadata": {},
   "source": [
    "The size of the data is smaller, the minumum age now is 19"
   ]
  },
  {
   "cell_type": "markdown",
   "metadata": {},
   "source": [
    "# Working with missing values"
   ]
  },
  {
   "cell_type": "markdown",
   "metadata": {},
   "source": [
    "it's good to find dictionaries, in order to use them as reference when we have descriptive strings, and rto use them as well in possible functions we might want to write."
   ]
  },
  {
   "cell_type": "code",
   "execution_count": 63,
   "metadata": {},
   "outputs": [
    {
     "data": {
      "text/html": [
       "<div>\n",
       "<style scoped>\n",
       "    .dataframe tbody tr th:only-of-type {\n",
       "        vertical-align: middle;\n",
       "    }\n",
       "\n",
       "    .dataframe tbody tr th {\n",
       "        vertical-align: top;\n",
       "    }\n",
       "\n",
       "    .dataframe thead th {\n",
       "        text-align: right;\n",
       "    }\n",
       "</style>\n",
       "<table border=\"1\" class=\"dataframe\">\n",
       "  <thead>\n",
       "    <tr style=\"text-align: right;\">\n",
       "      <th></th>\n",
       "      <th>children</th>\n",
       "      <th>days_employed</th>\n",
       "      <th>dob_years</th>\n",
       "      <th>education</th>\n",
       "      <th>education_id</th>\n",
       "      <th>family_status</th>\n",
       "      <th>family_status_id</th>\n",
       "      <th>gender</th>\n",
       "      <th>income_type</th>\n",
       "      <th>debt</th>\n",
       "      <th>total_income</th>\n",
       "      <th>purpose</th>\n",
       "      <th>years_employed</th>\n",
       "    </tr>\n",
       "  </thead>\n",
       "  <tbody>\n",
       "    <tr>\n",
       "      <th>0</th>\n",
       "      <td>1</td>\n",
       "      <td>8437.673028</td>\n",
       "      <td>42.0</td>\n",
       "      <td>bachelor's degree</td>\n",
       "      <td>0</td>\n",
       "      <td>married</td>\n",
       "      <td>0</td>\n",
       "      <td>F</td>\n",
       "      <td>employee</td>\n",
       "      <td>0</td>\n",
       "      <td>40620.102</td>\n",
       "      <td>purchase of the house</td>\n",
       "      <td>23.116912</td>\n",
       "    </tr>\n",
       "    <tr>\n",
       "      <th>1</th>\n",
       "      <td>1</td>\n",
       "      <td>4024.803754</td>\n",
       "      <td>36.0</td>\n",
       "      <td>secondary education</td>\n",
       "      <td>1</td>\n",
       "      <td>married</td>\n",
       "      <td>0</td>\n",
       "      <td>F</td>\n",
       "      <td>employee</td>\n",
       "      <td>0</td>\n",
       "      <td>17932.802</td>\n",
       "      <td>car purchase</td>\n",
       "      <td>11.026860</td>\n",
       "    </tr>\n",
       "    <tr>\n",
       "      <th>2</th>\n",
       "      <td>0</td>\n",
       "      <td>5623.422610</td>\n",
       "      <td>33.0</td>\n",
       "      <td>Secondary Education</td>\n",
       "      <td>1</td>\n",
       "      <td>married</td>\n",
       "      <td>0</td>\n",
       "      <td>M</td>\n",
       "      <td>employee</td>\n",
       "      <td>0</td>\n",
       "      <td>23341.752</td>\n",
       "      <td>purchase of the house</td>\n",
       "      <td>15.406637</td>\n",
       "    </tr>\n",
       "    <tr>\n",
       "      <th>3</th>\n",
       "      <td>3</td>\n",
       "      <td>4124.747207</td>\n",
       "      <td>32.0</td>\n",
       "      <td>secondary education</td>\n",
       "      <td>1</td>\n",
       "      <td>married</td>\n",
       "      <td>0</td>\n",
       "      <td>M</td>\n",
       "      <td>employee</td>\n",
       "      <td>0</td>\n",
       "      <td>42820.568</td>\n",
       "      <td>supplementary education</td>\n",
       "      <td>11.300677</td>\n",
       "    </tr>\n",
       "    <tr>\n",
       "      <th>4</th>\n",
       "      <td>0</td>\n",
       "      <td>340266.072047</td>\n",
       "      <td>53.0</td>\n",
       "      <td>secondary education</td>\n",
       "      <td>1</td>\n",
       "      <td>civil partnership</td>\n",
       "      <td>1</td>\n",
       "      <td>F</td>\n",
       "      <td>retiree</td>\n",
       "      <td>0</td>\n",
       "      <td>25378.572</td>\n",
       "      <td>to have a wedding</td>\n",
       "      <td>932.235814</td>\n",
       "    </tr>\n",
       "    <tr>\n",
       "      <th>5</th>\n",
       "      <td>0</td>\n",
       "      <td>926.185831</td>\n",
       "      <td>27.0</td>\n",
       "      <td>bachelor's degree</td>\n",
       "      <td>0</td>\n",
       "      <td>civil partnership</td>\n",
       "      <td>1</td>\n",
       "      <td>M</td>\n",
       "      <td>business</td>\n",
       "      <td>0</td>\n",
       "      <td>40922.170</td>\n",
       "      <td>purchase of the house</td>\n",
       "      <td>2.537495</td>\n",
       "    </tr>\n",
       "    <tr>\n",
       "      <th>6</th>\n",
       "      <td>0</td>\n",
       "      <td>2879.202052</td>\n",
       "      <td>43.0</td>\n",
       "      <td>bachelor's degree</td>\n",
       "      <td>0</td>\n",
       "      <td>married</td>\n",
       "      <td>0</td>\n",
       "      <td>F</td>\n",
       "      <td>business</td>\n",
       "      <td>0</td>\n",
       "      <td>38484.156</td>\n",
       "      <td>housing transactions</td>\n",
       "      <td>7.888225</td>\n",
       "    </tr>\n",
       "    <tr>\n",
       "      <th>7</th>\n",
       "      <td>0</td>\n",
       "      <td>152.779569</td>\n",
       "      <td>50.0</td>\n",
       "      <td>SECONDARY EDUCATION</td>\n",
       "      <td>1</td>\n",
       "      <td>married</td>\n",
       "      <td>0</td>\n",
       "      <td>M</td>\n",
       "      <td>employee</td>\n",
       "      <td>0</td>\n",
       "      <td>21731.829</td>\n",
       "      <td>education</td>\n",
       "      <td>0.418574</td>\n",
       "    </tr>\n",
       "    <tr>\n",
       "      <th>8</th>\n",
       "      <td>2</td>\n",
       "      <td>6929.865299</td>\n",
       "      <td>35.0</td>\n",
       "      <td>BACHELOR'S DEGREE</td>\n",
       "      <td>0</td>\n",
       "      <td>civil partnership</td>\n",
       "      <td>1</td>\n",
       "      <td>F</td>\n",
       "      <td>employee</td>\n",
       "      <td>0</td>\n",
       "      <td>15337.093</td>\n",
       "      <td>having a wedding</td>\n",
       "      <td>18.985932</td>\n",
       "    </tr>\n",
       "    <tr>\n",
       "      <th>9</th>\n",
       "      <td>0</td>\n",
       "      <td>2188.756445</td>\n",
       "      <td>41.0</td>\n",
       "      <td>secondary education</td>\n",
       "      <td>1</td>\n",
       "      <td>married</td>\n",
       "      <td>0</td>\n",
       "      <td>M</td>\n",
       "      <td>employee</td>\n",
       "      <td>0</td>\n",
       "      <td>23108.150</td>\n",
       "      <td>purchase of the house for my family</td>\n",
       "      <td>5.996593</td>\n",
       "    </tr>\n",
       "    <tr>\n",
       "      <th>10</th>\n",
       "      <td>2</td>\n",
       "      <td>4171.483647</td>\n",
       "      <td>36.0</td>\n",
       "      <td>bachelor's degree</td>\n",
       "      <td>0</td>\n",
       "      <td>married</td>\n",
       "      <td>0</td>\n",
       "      <td>M</td>\n",
       "      <td>business</td>\n",
       "      <td>0</td>\n",
       "      <td>18230.959</td>\n",
       "      <td>buy real estate</td>\n",
       "      <td>11.428722</td>\n",
       "    </tr>\n",
       "    <tr>\n",
       "      <th>11</th>\n",
       "      <td>0</td>\n",
       "      <td>792.701887</td>\n",
       "      <td>40.0</td>\n",
       "      <td>secondary education</td>\n",
       "      <td>1</td>\n",
       "      <td>married</td>\n",
       "      <td>0</td>\n",
       "      <td>F</td>\n",
       "      <td>employee</td>\n",
       "      <td>0</td>\n",
       "      <td>12331.077</td>\n",
       "      <td>buy commercial real estate</td>\n",
       "      <td>2.171786</td>\n",
       "    </tr>\n",
       "    <tr>\n",
       "      <th>12</th>\n",
       "      <td>0</td>\n",
       "      <td>NaN</td>\n",
       "      <td>65.0</td>\n",
       "      <td>secondary education</td>\n",
       "      <td>1</td>\n",
       "      <td>civil partnership</td>\n",
       "      <td>1</td>\n",
       "      <td>M</td>\n",
       "      <td>retiree</td>\n",
       "      <td>0</td>\n",
       "      <td>NaN</td>\n",
       "      <td>to have a wedding</td>\n",
       "      <td>NaN</td>\n",
       "    </tr>\n",
       "    <tr>\n",
       "      <th>13</th>\n",
       "      <td>0</td>\n",
       "      <td>1846.641941</td>\n",
       "      <td>54.0</td>\n",
       "      <td>some college</td>\n",
       "      <td>2</td>\n",
       "      <td>married</td>\n",
       "      <td>0</td>\n",
       "      <td>F</td>\n",
       "      <td>employee</td>\n",
       "      <td>0</td>\n",
       "      <td>20873.317</td>\n",
       "      <td>car purchase</td>\n",
       "      <td>5.059293</td>\n",
       "    </tr>\n",
       "    <tr>\n",
       "      <th>14</th>\n",
       "      <td>0</td>\n",
       "      <td>1844.956182</td>\n",
       "      <td>56.0</td>\n",
       "      <td>bachelor's degree</td>\n",
       "      <td>0</td>\n",
       "      <td>civil partnership</td>\n",
       "      <td>1</td>\n",
       "      <td>F</td>\n",
       "      <td>business</td>\n",
       "      <td>1</td>\n",
       "      <td>26420.466</td>\n",
       "      <td>buy residential real estate</td>\n",
       "      <td>5.054674</td>\n",
       "    </tr>\n",
       "  </tbody>\n",
       "</table>\n",
       "</div>"
      ],
      "text/plain": [
       "    children  days_employed  dob_years            education  education_id  \\\n",
       "0          1    8437.673028       42.0    bachelor's degree             0   \n",
       "1          1    4024.803754       36.0  secondary education             1   \n",
       "2          0    5623.422610       33.0  Secondary Education             1   \n",
       "3          3    4124.747207       32.0  secondary education             1   \n",
       "4          0  340266.072047       53.0  secondary education             1   \n",
       "5          0     926.185831       27.0    bachelor's degree             0   \n",
       "6          0    2879.202052       43.0    bachelor's degree             0   \n",
       "7          0     152.779569       50.0  SECONDARY EDUCATION             1   \n",
       "8          2    6929.865299       35.0    BACHELOR'S DEGREE             0   \n",
       "9          0    2188.756445       41.0  secondary education             1   \n",
       "10         2    4171.483647       36.0    bachelor's degree             0   \n",
       "11         0     792.701887       40.0  secondary education             1   \n",
       "12         0            NaN       65.0  secondary education             1   \n",
       "13         0    1846.641941       54.0         some college             2   \n",
       "14         0    1844.956182       56.0    bachelor's degree             0   \n",
       "\n",
       "        family_status  family_status_id gender income_type  debt  \\\n",
       "0             married                 0      F    employee     0   \n",
       "1             married                 0      F    employee     0   \n",
       "2             married                 0      M    employee     0   \n",
       "3             married                 0      M    employee     0   \n",
       "4   civil partnership                 1      F     retiree     0   \n",
       "5   civil partnership                 1      M    business     0   \n",
       "6             married                 0      F    business     0   \n",
       "7             married                 0      M    employee     0   \n",
       "8   civil partnership                 1      F    employee     0   \n",
       "9             married                 0      M    employee     0   \n",
       "10            married                 0      M    business     0   \n",
       "11            married                 0      F    employee     0   \n",
       "12  civil partnership                 1      M     retiree     0   \n",
       "13            married                 0      F    employee     0   \n",
       "14  civil partnership                 1      F    business     1   \n",
       "\n",
       "    total_income                              purpose  years_employed  \n",
       "0      40620.102                purchase of the house       23.116912  \n",
       "1      17932.802                         car purchase       11.026860  \n",
       "2      23341.752                purchase of the house       15.406637  \n",
       "3      42820.568              supplementary education       11.300677  \n",
       "4      25378.572                    to have a wedding      932.235814  \n",
       "5      40922.170                purchase of the house        2.537495  \n",
       "6      38484.156                 housing transactions        7.888225  \n",
       "7      21731.829                            education        0.418574  \n",
       "8      15337.093                     having a wedding       18.985932  \n",
       "9      23108.150  purchase of the house for my family        5.996593  \n",
       "10     18230.959                      buy real estate       11.428722  \n",
       "11     12331.077           buy commercial real estate        2.171786  \n",
       "12           NaN                    to have a wedding             NaN  \n",
       "13     20873.317                         car purchase        5.059293  \n",
       "14     26420.466          buy residential real estate        5.054674  "
      ]
     },
     "execution_count": 63,
     "metadata": {},
     "output_type": "execute_result"
    }
   ],
   "source": [
    "# Find the dictionaries\n",
    "data.head(15)"
   ]
  },
  {
   "cell_type": "code",
   "execution_count": 64,
   "metadata": {},
   "outputs": [
    {
     "name": "stdout",
     "output_type": "stream",
     "text": [
      "{0: \"bachelor's degree\", 1: 'secondary education', 2: 'some college', 3: 'primary education', 4: 'graduate degree'}\n",
      "{0: 'married', 1: 'civil partnership', 2: 'widow / widower', 3: 'divorced', 4: 'unmarried'}\n"
     ]
    }
   ],
   "source": [
    "#education, education_id and family_status can be converted into dictionaries\n",
    "reference_edu=dict(zip(data.education_id, data.education))\n",
    "reference_fam=dict(zip(data.family_status_id, data.family_status))\n",
    "print(reference_edu)\n",
    "print(reference_fam)"
   ]
  },
  {
   "cell_type": "markdown",
   "metadata": {},
   "source": [
    "### Restoring missing values in `total_income`"
   ]
  },
  {
   "cell_type": "code",
   "execution_count": 65,
   "metadata": {},
   "outputs": [
    {
     "name": "stdout",
     "output_type": "stream",
     "text": [
      "       children  days_employed  dob_years            education  education_id  \\\n",
      "12            0            NaN       65.0  secondary education             1   \n",
      "26            0            NaN       41.0  secondary education             1   \n",
      "29            0            NaN       63.0  secondary education             1   \n",
      "41            0            NaN       50.0  secondary education             1   \n",
      "55            0            NaN       54.0  secondary education             1   \n",
      "...         ...            ...        ...                  ...           ...   \n",
      "21489         2            NaN       47.0  Secondary Education             1   \n",
      "21495         1            NaN       50.0  secondary education             1   \n",
      "21497         0            NaN       48.0    BACHELOR'S DEGREE             0   \n",
      "21502         1            NaN       42.0  secondary education             1   \n",
      "21510         2            NaN       28.0  secondary education             1   \n",
      "\n",
      "           family_status  family_status_id gender    income_type  debt  \\\n",
      "12     civil partnership                 1      M        retiree     0   \n",
      "26               married                 0      M  civil servant     0   \n",
      "29             unmarried                 4      F        retiree     0   \n",
      "41               married                 0      F  civil servant     0   \n",
      "55     civil partnership                 1      F        retiree     1   \n",
      "...                  ...               ...    ...            ...   ...   \n",
      "21489            married                 0      M       business     0   \n",
      "21495  civil partnership                 1      F       employee     0   \n",
      "21497            married                 0      F       business     0   \n",
      "21502            married                 0      F       employee     0   \n",
      "21510            married                 0      F       employee     0   \n",
      "\n",
      "       total_income                   purpose  years_employed  \n",
      "12              NaN         to have a wedding             NaN  \n",
      "26              NaN                 education             NaN  \n",
      "29              NaN    building a real estate             NaN  \n",
      "41              NaN  second-hand car purchase             NaN  \n",
      "55              NaN         to have a wedding             NaN  \n",
      "...             ...                       ...             ...  \n",
      "21489           NaN         purchase of a car             NaN  \n",
      "21495           NaN          wedding ceremony             NaN  \n",
      "21497           NaN       building a property             NaN  \n",
      "21502           NaN    building a real estate             NaN  \n",
      "21510           NaN              car purchase             NaN  \n",
      "\n",
      "[2126 rows x 13 columns]\n"
     ]
    }
   ],
   "source": [
    "data_nan=data[data.isnull().any(axis=1)]\n",
    "print(data_nan)"
   ]
  },
  {
   "cell_type": "markdown",
   "metadata": {},
   "source": [
    "\n",
    "I will address only the colum 'total income'. I can compare the values to other known specifications of the client and draft a way to replace the missing values with mean or median based on comparison with known values.\n",
    "\n",
    "\n",
    "Start with addressing total income missing values. Create and age category for clients. Create a new column with the age category. This strategy can help with calculating values for the total income.\n"
   ]
  },
  {
   "cell_type": "code",
   "execution_count": 66,
   "metadata": {},
   "outputs": [],
   "source": [
    "# Let's write a function that calculates the age category\n",
    "def age_group(age):\n",
    "    ''' The function returns the age group according to the age value,\n",
    "    following a pretty intuitive method: '''\n",
    "     \n",
    "    if 18<= age <= 25 :\n",
    "        return '18-25'\n",
    "    elif age < 35:\n",
    "        return '26-34'\n",
    "    elif age < 40:\n",
    "        return '35-39'\n",
    "    elif age < 50:\n",
    "        return '40-49'\n",
    "    elif age < 60:\n",
    "        return '50-59'\n",
    "    elif age < 70:\n",
    "        return '60-69'\n",
    "    else:\n",
    "        return '70+'\n",
    "    "
   ]
  },
  {
   "cell_type": "markdown",
   "metadata": {},
   "source": [
    "<div class=\"alert alert-success\" role=\"alert\">\n",
    "<b>Reviewer's comment v1</b>\n",
    "\n",
    "Great that you managed to create a function to automate your code.\n",
    "</div>"
   ]
  },
  {
   "cell_type": "code",
   "execution_count": 67,
   "metadata": {},
   "outputs": [
    {
     "name": "stdout",
     "output_type": "stream",
     "text": [
      "26-34\n",
      "50-59\n",
      "18-25\n"
     ]
    }
   ],
   "source": [
    "# Test if the function works\n",
    "print(age_group(27)) \n",
    "print(age_group(53)) \n",
    "print(age_group(25)) "
   ]
  },
  {
   "cell_type": "code",
   "execution_count": 68,
   "metadata": {},
   "outputs": [
    {
     "name": "stderr",
     "output_type": "stream",
     "text": [
      "C:\\Users\\User\\AppData\\Local\\Temp\\ipykernel_14840\\3193536393.py:1: SettingWithCopyWarning: \n",
      "A value is trying to be set on a copy of a slice from a DataFrame.\n",
      "Try using .loc[row_indexer,col_indexer] = value instead\n",
      "\n",
      "See the caveats in the documentation: https://pandas.pydata.org/pandas-docs/stable/user_guide/indexing.html#returning-a-view-versus-a-copy\n",
      "  data['age_group_test1'] = data['dob_years'].apply(age_group)\n"
     ]
    }
   ],
   "source": [
    "data['age_group_test1'] = data['dob_years'].apply(age_group)"
   ]
  },
  {
   "cell_type": "code",
   "execution_count": 69,
   "metadata": {},
   "outputs": [
    {
     "data": {
      "text/plain": [
       "40-49    5459\n",
       "26-34    4736\n",
       "50-59    4662\n",
       "35-39    2875\n",
       "60-69    2335\n",
       "18-25    1233\n",
       "70+       171\n",
       "Name: age_group_test1, dtype: int64"
      ]
     },
     "execution_count": 69,
     "metadata": {},
     "output_type": "execute_result"
    }
   ],
   "source": [
    "data['age_group_test1'].value_counts()"
   ]
  },
  {
   "cell_type": "code",
   "execution_count": 70,
   "metadata": {},
   "outputs": [
    {
     "name": "stderr",
     "output_type": "stream",
     "text": [
      "C:\\Users\\User\\AppData\\Local\\Temp\\ipykernel_14840\\4017200806.py:1: SettingWithCopyWarning: \n",
      "A value is trying to be set on a copy of a slice from a DataFrame.\n",
      "Try using .loc[row_indexer,col_indexer] = value instead\n",
      "\n",
      "See the caveats in the documentation: https://pandas.pydata.org/pandas-docs/stable/user_guide/indexing.html#returning-a-view-versus-a-copy\n",
      "  data['age_group'] = (data.loc[:,('dob_years')]).apply(age_group)\n"
     ]
    }
   ],
   "source": [
    "data['age_group'] = (data.loc[:,('dob_years')]).apply(age_group)"
   ]
  },
  {
   "cell_type": "code",
   "execution_count": 71,
   "metadata": {},
   "outputs": [
    {
     "data": {
      "text/plain": [
       "40-49    5459\n",
       "26-34    4736\n",
       "50-59    4662\n",
       "35-39    2875\n",
       "60-69    2335\n",
       "18-25    1233\n",
       "70+       171\n",
       "Name: age_group, dtype: int64"
      ]
     },
     "execution_count": 71,
     "metadata": {},
     "output_type": "execute_result"
    }
   ],
   "source": [
    "# Checking how values in the new column\n",
    "data['age_group'].value_counts()"
   ]
  },
  {
   "cell_type": "markdown",
   "metadata": {},
   "source": [
    "I followed the suggestion from SettingWithCopyWarning:  but I get the same result: the function though, it works!"
   ]
  },
  {
   "cell_type": "markdown",
   "metadata": {},
   "source": [
    "usually the income depend's on a person's age, gender, education and employment. Let's try to group these impacting factor and calculate mean and median based on them. Then proceed to replace"
   ]
  },
  {
   "cell_type": "markdown",
   "metadata": {},
   "source": [
    "first, let's create a table that only has data without missing values. This data will be used to restore the missing values"
   ]
  },
  {
   "cell_type": "code",
   "execution_count": 72,
   "metadata": {},
   "outputs": [
    {
     "name": "stdout",
     "output_type": "stream",
     "text": [
      "   children  days_employed  dob_years            education  education_id  \\\n",
      "0         1    8437.673028       42.0    bachelor's degree             0   \n",
      "1         1    4024.803754       36.0  secondary education             1   \n",
      "2         0    5623.422610       33.0  Secondary Education             1   \n",
      "3         3    4124.747207       32.0  secondary education             1   \n",
      "4         0  340266.072047       53.0  secondary education             1   \n",
      "5         0     926.185831       27.0    bachelor's degree             0   \n",
      "6         0    2879.202052       43.0    bachelor's degree             0   \n",
      "7         0     152.779569       50.0  SECONDARY EDUCATION             1   \n",
      "8         2    6929.865299       35.0    BACHELOR'S DEGREE             0   \n",
      "9         0    2188.756445       41.0  secondary education             1   \n",
      "\n",
      "       family_status  family_status_id gender income_type  debt  total_income  \\\n",
      "0            married                 0      F    employee     0     40620.102   \n",
      "1            married                 0      F    employee     0     17932.802   \n",
      "2            married                 0      M    employee     0     23341.752   \n",
      "3            married                 0      M    employee     0     42820.568   \n",
      "4  civil partnership                 1      F     retiree     0     25378.572   \n",
      "5  civil partnership                 1      M    business     0     40922.170   \n",
      "6            married                 0      F    business     0     38484.156   \n",
      "7            married                 0      M    employee     0     21731.829   \n",
      "8  civil partnership                 1      F    employee     0     15337.093   \n",
      "9            married                 0      M    employee     0     23108.150   \n",
      "\n",
      "                               purpose  years_employed age_group_test1  \\\n",
      "0                purchase of the house       23.116912           40-49   \n",
      "1                         car purchase       11.026860           35-39   \n",
      "2                purchase of the house       15.406637           26-34   \n",
      "3              supplementary education       11.300677           26-34   \n",
      "4                    to have a wedding      932.235814           50-59   \n",
      "5                purchase of the house        2.537495           26-34   \n",
      "6                 housing transactions        7.888225           40-49   \n",
      "7                            education        0.418574           50-59   \n",
      "8                     having a wedding       18.985932           35-39   \n",
      "9  purchase of the house for my family        5.996593           40-49   \n",
      "\n",
      "  age_group  \n",
      "0     40-49  \n",
      "1     35-39  \n",
      "2     26-34  \n",
      "3     26-34  \n",
      "4     50-59  \n",
      "5     26-34  \n",
      "6     40-49  \n",
      "7     50-59  \n",
      "8     35-39  \n",
      "9     40-49  \n"
     ]
    }
   ],
   "source": [
    "# Create a table without missing values and print a few of its rows to make sure it looks fine\n",
    "#Use boolean indexing with check missing values and any for check at least one True per rows:\n",
    "mask= data.isnull().any(axis=1)\n",
    "dataf1=data[~mask] \n",
    "print(dataf1.head(10))"
   ]
  },
  {
   "cell_type": "code",
   "execution_count": 73,
   "metadata": {},
   "outputs": [],
   "source": [
    "# Look at the mean values for income based on your identified factors\n",
    "#total_income_mean2=dataf1['total_income'].mean()\n",
    "#print(total_income_mean2)\n"
   ]
  },
  {
   "cell_type": "code",
   "execution_count": 74,
   "metadata": {},
   "outputs": [
    {
     "name": "stdout",
     "output_type": "stream",
     "text": [
      "26787.56835465871\n"
     ]
    }
   ],
   "source": [
    "total_income_mean=data['total_income'].mean()\n",
    "print(total_income_mean)"
   ]
  },
  {
   "cell_type": "code",
   "execution_count": 75,
   "metadata": {},
   "outputs": [],
   "source": [
    "\n",
    "#total_income_bytype_mean2=dataf1.groupby('income_type')['total_income'].mean()\n",
    "#print(total_income_bytype_mean2)\n"
   ]
  },
  {
   "cell_type": "code",
   "execution_count": 76,
   "metadata": {},
   "outputs": [
    {
     "name": "stdout",
     "output_type": "stream",
     "text": [
      "income_type\n",
      "business         32386.793835\n",
      "civil servant    27343.729582\n",
      "employee         25820.841683\n",
      "retiree          21940.394503\n",
      "Name: total_income, dtype: float64\n"
     ]
    }
   ],
   "source": [
    "total_income_bytype_mean=data.groupby('income_type')['total_income'].mean()\n",
    "print(total_income_bytype_mean)"
   ]
  },
  {
   "cell_type": "code",
   "execution_count": 77,
   "metadata": {},
   "outputs": [],
   "source": [
    "#total_income_bytype_median2=dataf1.groupby('income_type')['total_income'].median()\n",
    "#print(total_income_bytype_median2)\n"
   ]
  },
  {
   "cell_type": "code",
   "execution_count": 78,
   "metadata": {},
   "outputs": [
    {
     "name": "stdout",
     "output_type": "stream",
     "text": [
      "income_type\n",
      "business         27577.2720\n",
      "civil servant    24071.6695\n",
      "employee         22815.1035\n",
      "retiree          18962.3180\n",
      "Name: total_income, dtype: float64\n"
     ]
    }
   ],
   "source": [
    "total_income_bytype_median=data.groupby('income_type')['total_income'].median()\n",
    "print(total_income_bytype_median)"
   ]
  },
  {
   "cell_type": "markdown",
   "metadata": {},
   "source": [
    "There is a small difference beween means and mediand calculated on the masked dataframe and on the original dataframe.In this set of data, that difference is not crucial to determine our final results. I will prefer to use the original dataframe, in the attemp to generate less errors."
   ]
  },
  {
   "cell_type": "markdown",
   "metadata": {},
   "source": [
    "let's find mean and median on grouped set of columns:"
   ]
  },
  {
   "cell_type": "code",
   "execution_count": 79,
   "metadata": {},
   "outputs": [
    {
     "name": "stdout",
     "output_type": "stream",
     "text": [
      "debt\n",
      "0    26848.661065\n",
      "1    26096.143537\n",
      "Name: total_income, dtype: float64\n"
     ]
    }
   ],
   "source": [
    "# Look at the mean values for income based on identified factors\n",
    "total_income_debt=data.groupby('debt')['total_income'].mean()\n",
    "print(total_income_debt)\n"
   ]
  },
  {
   "cell_type": "code",
   "execution_count": 80,
   "metadata": {
    "scrolled": true
   },
   "outputs": [
    {
     "name": "stdout",
     "output_type": "stream",
     "text": [
      "debt\n",
      "0    23225.905\n",
      "1    22928.480\n",
      "Name: total_income, dtype: float64\n"
     ]
    }
   ],
   "source": [
    "# Look at the median values for income based on identified factors\n",
    "total_income_debt_median=data.groupby('debt')['total_income'].median()\n",
    "print(total_income_debt_median)\n"
   ]
  },
  {
   "cell_type": "markdown",
   "metadata": {},
   "source": [
    "Repeat such comparisons for multiple factors.Usually the income depend's on a person's age, gender, education and employment. Let's try to group these impacting factor and calculate mean and median based on them. \n",
    "\n"
   ]
  },
  {
   "cell_type": "code",
   "execution_count": 81,
   "metadata": {},
   "outputs": [
    {
     "name": "stdout",
     "output_type": "stream",
     "text": [
      "education_id\n",
      "0    33142.802434\n",
      "1    24594.503037\n",
      "2    29045.443644\n",
      "3    21144.882211\n",
      "4    27960.024667\n",
      "Name: total_income, dtype: float64\n",
      "education_id\n",
      "0    28054.5310\n",
      "1    21836.5830\n",
      "2    25618.4640\n",
      "3    18741.9760\n",
      "4    25161.5835\n",
      "Name: total_income, dtype: float64\n"
     ]
    }
   ],
   "source": [
    "\n",
    "edu_mean=data.groupby('education_id')['total_income'].mean()\n",
    "print(edu_mean)\n",
    "edu_medi=data.groupby('education_id')['total_income'].median()\n",
    "print(edu_medi)"
   ]
  },
  {
   "cell_type": "code",
   "execution_count": 82,
   "metadata": {
    "scrolled": true
   },
   "outputs": [
    {
     "name": "stdout",
     "output_type": "stream",
     "text": [
      "gender\n",
      "F    24655.604757\n",
      "M    30907.144369\n",
      "Name: total_income, dtype: float64\n",
      "gender\n",
      "F    21464.845\n",
      "M    26834.295\n",
      "Name: total_income, dtype: float64\n"
     ]
    }
   ],
   "source": [
    "gender_mean=data.groupby('gender')['total_income'].mean()\n",
    "print(gender_mean)\n",
    "gender_medi=data.groupby('gender')['total_income'].median()\n",
    "print(gender_medi)\n"
   ]
  },
  {
   "cell_type": "code",
   "execution_count": 83,
   "metadata": {},
   "outputs": [
    {
     "name": "stdout",
     "output_type": "stream",
     "text": [
      "gender  education_id\n",
      "F       0               30306.441576\n",
      "        1               22671.099805\n",
      "        2               26470.312199\n",
      "        3               19118.479588\n",
      "        4               29345.394000\n",
      "M       0               38981.070503\n",
      "        1               28296.294264\n",
      "        2               33209.842210\n",
      "        3               23798.931664\n",
      "        4               27267.340000\n",
      "Name: total_income, dtype: float64\n",
      "gender  education_id\n",
      "F       0               26063.4715\n",
      "        1               20101.2700\n",
      "        2               22836.0820\n",
      "        3               17223.9615\n",
      "        4               29345.3940\n",
      "M       0               32675.8355\n",
      "        1               25435.5815\n",
      "        2               29973.6640\n",
      "        3               21204.0860\n",
      "        4               25161.5835\n",
      "Name: total_income, dtype: float64\n"
     ]
    }
   ],
   "source": [
    "gender_edu_mean=data.groupby(['gender','education_id'])['total_income'].mean()\n",
    "print(gender_edu_mean)\n",
    "gender_edu_medi=data.groupby(['gender','education_id'])['total_income'].median()\n",
    "print(gender_edu_medi)\n"
   ]
  },
  {
   "cell_type": "markdown",
   "metadata": {},
   "source": [
    "take a look at min and max income by known factors, this will help us to decide wether to use mean or median"
   ]
  },
  {
   "cell_type": "code",
   "execution_count": 84,
   "metadata": {},
   "outputs": [
    {
     "name": "stdout",
     "output_type": "stream",
     "text": [
      "gender  education_id\n",
      "F       0               228469.514\n",
      "        1               274402.943\n",
      "        2               153349.533\n",
      "        3                65263.983\n",
      "        4                40868.031\n",
      "M       0               362496.645\n",
      "        1               276204.162\n",
      "        2               131588.163\n",
      "        3                78410.774\n",
      "        4                42945.794\n",
      "Name: total_income, dtype: float64\n",
      "gender  education_id\n",
      "F       0                5148.514\n",
      "        1                3306.762\n",
      "        2                5831.255\n",
      "        3                4049.374\n",
      "        4               17822.757\n",
      "M       0                6844.452\n",
      "        1                3392.845\n",
      "        2                5514.581\n",
      "        3                5837.099\n",
      "        4               15800.399\n",
      "Name: total_income, dtype: float64\n"
     ]
    }
   ],
   "source": [
    "test1=data.groupby(['gender','education_id'])['total_income'].max()\n",
    "print(test1)\n",
    "test2=data.groupby(['gender','education_id'])['total_income'].min()\n",
    "print(test2)"
   ]
  },
  {
   "cell_type": "code",
   "execution_count": 85,
   "metadata": {},
   "outputs": [
    {
     "name": "stdout",
     "output_type": "stream",
     "text": [
      "3306.762\n",
      "362496.645\n"
     ]
    }
   ],
   "source": [
    "min_total_income=data['total_income'].min()\n",
    "print(min_total_income)\n",
    "max_total_income=data['total_income'].max()\n",
    "print(max_total_income)"
   ]
  },
  {
   "cell_type": "code",
   "execution_count": 86,
   "metadata": {},
   "outputs": [
    {
     "name": "stdout",
     "output_type": "stream",
     "text": [
      "income_type    education_id\n",
      "business       0               38780.136881\n",
      "               1               28718.435242\n",
      "               2               31623.893705\n",
      "               3               26409.124931\n",
      "civil servant  0               31571.287664\n",
      "               1               24648.816597\n",
      "               2               27596.312587\n",
      "               3               29449.016667\n",
      "               4               17822.757000\n",
      "employee       0               30650.288996\n",
      "               1               24426.079549\n",
      "               2               27951.531586\n",
      "               3               21954.056075\n",
      "               4               31089.653667\n",
      "retiree        0               27306.878056\n",
      "               1               21071.829349\n",
      "               2               22129.937314\n",
      "               3               17810.387914\n",
      "               4               28334.215000\n",
      "Name: total_income, dtype: float64\n",
      "income_type    education_id\n",
      "business       0               32285.6640\n",
      "               1               25451.3100\n",
      "               2               28778.7440\n",
      "               3               21887.8250\n",
      "civil servant  0               27601.7775\n",
      "               1               21864.4750\n",
      "               2               25694.7750\n",
      "               3               23734.2870\n",
      "               4               17822.7570\n",
      "employee       0               26502.5190\n",
      "               1               21848.8175\n",
      "               2               24209.4300\n",
      "               3               20159.1860\n",
      "               4               31771.3210\n",
      "retiree        0               23078.5230\n",
      "               1               18374.8570\n",
      "               2               19221.9030\n",
      "               3               16415.7850\n",
      "               4               28334.2150\n",
      "Name: total_income, dtype: float64\n"
     ]
    }
   ],
   "source": [
    "type_inc_edu_mean=data.groupby(['income_type','education_id'])['total_income'].mean()\n",
    "print(type_inc_edu_mean)\n",
    "type_inc_edu_median=data.groupby(['income_type','education_id'])['total_income'].median()\n",
    "print(type_inc_edu_median)"
   ]
  },
  {
   "cell_type": "markdown",
   "metadata": {},
   "source": [
    "I should proceed to some further calculations to find if the data are skewed and if there are outliers. For now, taking a look at the description, and to the resuts of mean, median, min and max ,I assume that there are outliers and that the data are not symmetrical. So I will use MEDIAN, and i will find the median for total incomes based on 4 known factors: age, gender, education and type of income."
   ]
  },
  {
   "cell_type": "code",
   "execution_count": 87,
   "metadata": {
    "scrolled": true
   },
   "outputs": [
    {
     "name": "stdout",
     "output_type": "stream",
     "text": [
      "0        40620.102\n",
      "1        17932.802\n",
      "2        23341.752\n",
      "3        42820.568\n",
      "4        25378.572\n",
      "           ...    \n",
      "21520    35966.698\n",
      "21521    24959.969\n",
      "21522    14347.610\n",
      "21523    39054.888\n",
      "21524    13127.587\n",
      "Name: total_income, Length: 21471, dtype: float64\n"
     ]
    },
    {
     "name": "stderr",
     "output_type": "stream",
     "text": [
      "C:\\Users\\User\\AppData\\Local\\Temp\\ipykernel_14840\\4131064928.py:4: SettingWithCopyWarning: \n",
      "A value is trying to be set on a copy of a slice from a DataFrame.\n",
      "Try using .loc[row_indexer,col_indexer] = value instead\n",
      "\n",
      "See the caveats in the documentation: https://pandas.pydata.org/pandas-docs/stable/user_guide/indexing.html#returning-a-view-versus-a-copy\n",
      "  data['total_income'] = data['total_income'].fillna(medians)\n"
     ]
    }
   ],
   "source": [
    "#using transform()\n",
    "medians = data.groupby(['income_type','education_id','gender', 'age_group'])['total_income'].transform('median')\n",
    "\n",
    "data['total_income'] = data['total_income'].fillna(medians)\n",
    "print(data['total_income'])"
   ]
  },
  {
   "cell_type": "code",
   "execution_count": 88,
   "metadata": {},
   "outputs": [
    {
     "name": "stdout",
     "output_type": "stream",
     "text": [
      "income_type\n",
      "business         27577.2720\n",
      "civil servant    24071.6695\n",
      "employee         22815.1035\n",
      "retiree          18962.3180\n",
      "Name: total_income, dtype: float64\n"
     ]
    }
   ],
   "source": [
    "print(total_income_bytype_median)"
   ]
  },
  {
   "cell_type": "code",
   "execution_count": 89,
   "metadata": {},
   "outputs": [
    {
     "name": "stdout",
     "output_type": "stream",
     "text": [
      "<class 'pandas.core.frame.DataFrame'>\n",
      "Int64Index: 21471 entries, 0 to 21524\n",
      "Data columns (total 15 columns):\n",
      " #   Column            Non-Null Count  Dtype  \n",
      "---  ------            --------------  -----  \n",
      " 0   children          21471 non-null  int64  \n",
      " 1   days_employed     19351 non-null  float64\n",
      " 2   dob_years         21471 non-null  float64\n",
      " 3   education         21471 non-null  object \n",
      " 4   education_id      21471 non-null  int64  \n",
      " 5   family_status     21471 non-null  object \n",
      " 6   family_status_id  21471 non-null  int64  \n",
      " 7   gender            21470 non-null  object \n",
      " 8   income_type       21465 non-null  object \n",
      " 9   debt              21471 non-null  int64  \n",
      " 10  total_income      21467 non-null  float64\n",
      " 11  purpose           21471 non-null  object \n",
      " 12  years_employed    19351 non-null  float64\n",
      " 13  age_group_test1   21471 non-null  object \n",
      " 14  age_group         21471 non-null  object \n",
      "dtypes: float64(4), int64(4), object(7)\n",
      "memory usage: 2.6+ MB\n"
     ]
    }
   ],
   "source": [
    "data.info()"
   ]
  },
  {
   "cell_type": "markdown",
   "metadata": {},
   "source": [
    "we can see that in the column 10, we don't have missing vlues anymore. let's check if they were replaced correctly: i will access some of the rows where previously there were NaN, and see which values there are now"
   ]
  },
  {
   "cell_type": "code",
   "execution_count": 90,
   "metadata": {},
   "outputs": [
    {
     "name": "stdout",
     "output_type": "stream",
     "text": [
      "children                                   0\n",
      "days_employed                            NaN\n",
      "dob_years                               50.0\n",
      "education                secondary education\n",
      "education_id                               1\n",
      "family_status                        married\n",
      "family_status_id                           0\n",
      "gender                                     F\n",
      "income_type                    civil servant\n",
      "debt                                       0\n",
      "total_income                       21093.356\n",
      "purpose             second-hand car purchase\n",
      "years_employed                           NaN\n",
      "age_group_test1                        50-59\n",
      "age_group                              50-59\n",
      "Name: 41, dtype: object\n",
      "children                              0\n",
      "days_employed                       NaN\n",
      "dob_years                          54.0\n",
      "education           secondary education\n",
      "education_id                          1\n",
      "family_status         civil partnership\n",
      "family_status_id                      1\n",
      "gender                                F\n",
      "income_type                     retiree\n",
      "debt                                  1\n",
      "total_income                  18366.459\n",
      "purpose               to have a wedding\n",
      "years_employed                      NaN\n",
      "age_group_test1                   50-59\n",
      "age_group                         50-59\n",
      "Name: 55, dtype: object\n",
      "children                              0\n",
      "days_employed                       NaN\n",
      "dob_years                          41.0\n",
      "education           secondary education\n",
      "education_id                          1\n",
      "family_status                   married\n",
      "family_status_id                      0\n",
      "gender                                M\n",
      "income_type               civil servant\n",
      "debt                                  0\n",
      "total_income                  27691.871\n",
      "purpose                       education\n",
      "years_employed                      NaN\n",
      "age_group_test1                   40-49\n",
      "age_group                         40-49\n",
      "Name: 26, dtype: object\n",
      "children                               2\n",
      "days_employed                        NaN\n",
      "dob_years                           35.0\n",
      "education              bachelor's degree\n",
      "education_id                           0\n",
      "family_status                    married\n",
      "family_status_id                       0\n",
      "gender                                 F\n",
      "income_type                     employee\n",
      "debt                                   0\n",
      "total_income                  25091.4555\n",
      "purpose             housing transactions\n",
      "years_employed                       NaN\n",
      "age_group_test1                    35-39\n",
      "age_group                          35-39\n",
      "Name: 90, dtype: object\n",
      "children                                                   1\n",
      "days_employed                                            NaN\n",
      "dob_years                                               32.0\n",
      "education                                  bachelor's degree\n",
      "education_id                                               0\n",
      "family_status                                        married\n",
      "family_status_id                                           0\n",
      "gender                                                     M\n",
      "income_type                                    civil servant\n",
      "debt                                                       0\n",
      "total_income                                       33935.027\n",
      "purpose             transactions with commercial real estate\n",
      "years_employed                                           NaN\n",
      "age_group_test1                                        26-34\n",
      "age_group                                              26-34\n",
      "Name: 72, dtype: object\n"
     ]
    }
   ],
   "source": [
    "print(data.iloc[41])\n",
    "print(data.iloc[55]) \n",
    "print(data.iloc[26])\n",
    "print(data.iloc[90])\n",
    "print(data.iloc[72])\n",
    "\n"
   ]
  },
  {
   "cell_type": "markdown",
   "metadata": {},
   "source": [
    "trying a different code:"
   ]
  },
  {
   "cell_type": "code",
   "execution_count": 91,
   "metadata": {},
   "outputs": [
    {
     "name": "stderr",
     "output_type": "stream",
     "text": [
      "C:\\Users\\User\\AppData\\Local\\Temp\\ipykernel_14840\\2163718313.py:2: SettingWithCopyWarning: \n",
      "A value is trying to be set on a copy of a slice from a DataFrame.\n",
      "Try using .loc[row_indexer,col_indexer] = value instead\n",
      "\n",
      "See the caveats in the documentation: https://pandas.pydata.org/pandas-docs/stable/user_guide/indexing.html#returning-a-view-versus-a-copy\n",
      "  data['total_income']=data['total_income'].fillna(data.income_type.map(total_income_bytype_median_dict))\n"
     ]
    }
   ],
   "source": [
    "total_income_bytype_median_dict=pd.Series(total_income_bytype_median).to_dict()\n",
    "data['total_income']=data['total_income'].fillna(data.income_type.map(total_income_bytype_median_dict))"
   ]
  },
  {
   "cell_type": "code",
   "execution_count": 93,
   "metadata": {},
   "outputs": [
    {
     "data": {
      "text/plain": [
       "children                                   0\n",
       "days_employed                            NaN\n",
       "dob_years                               50.0\n",
       "education                secondary education\n",
       "education_id                               1\n",
       "family_status                        married\n",
       "family_status_id                           0\n",
       "gender                                     F\n",
       "income_type                    civil servant\n",
       "debt                                       0\n",
       "total_income                       21093.356\n",
       "purpose             second-hand car purchase\n",
       "years_employed                           NaN\n",
       "age_group_test1                        50-59\n",
       "age_group                              50-59\n",
       "Name: 41, dtype: object"
      ]
     },
     "metadata": {},
     "output_type": "display_data"
    },
    {
     "data": {
      "text/plain": [
       "children                              0\n",
       "days_employed                       NaN\n",
       "dob_years                          54.0\n",
       "education           secondary education\n",
       "education_id                          1\n",
       "family_status         civil partnership\n",
       "family_status_id                      1\n",
       "gender                                F\n",
       "income_type                     retiree\n",
       "debt                                  1\n",
       "total_income                  18366.459\n",
       "purpose               to have a wedding\n",
       "years_employed                      NaN\n",
       "age_group_test1                   50-59\n",
       "age_group                         50-59\n",
       "Name: 55, dtype: object"
      ]
     },
     "metadata": {},
     "output_type": "display_data"
    },
    {
     "data": {
      "text/plain": [
       "children                              0\n",
       "days_employed                       NaN\n",
       "dob_years                          41.0\n",
       "education           secondary education\n",
       "education_id                          1\n",
       "family_status                   married\n",
       "family_status_id                      0\n",
       "gender                                M\n",
       "income_type               civil servant\n",
       "debt                                  0\n",
       "total_income                  27691.871\n",
       "purpose                       education\n",
       "years_employed                      NaN\n",
       "age_group_test1                   40-49\n",
       "age_group                         40-49\n",
       "Name: 26, dtype: object"
      ]
     },
     "metadata": {},
     "output_type": "display_data"
    },
    {
     "data": {
      "text/plain": [
       "children                               2\n",
       "days_employed                        NaN\n",
       "dob_years                           35.0\n",
       "education              bachelor's degree\n",
       "education_id                           0\n",
       "family_status                    married\n",
       "family_status_id                       0\n",
       "gender                                 F\n",
       "income_type                     employee\n",
       "debt                                   0\n",
       "total_income                  25091.4555\n",
       "purpose             housing transactions\n",
       "years_employed                       NaN\n",
       "age_group_test1                    35-39\n",
       "age_group                          35-39\n",
       "Name: 90, dtype: object"
      ]
     },
     "metadata": {},
     "output_type": "display_data"
    },
    {
     "data": {
      "text/plain": [
       "children                                                   1\n",
       "days_employed                                            NaN\n",
       "dob_years                                               32.0\n",
       "education                                  bachelor's degree\n",
       "education_id                                               0\n",
       "family_status                                        married\n",
       "family_status_id                                           0\n",
       "gender                                                     M\n",
       "income_type                                    civil servant\n",
       "debt                                                       0\n",
       "total_income                                       33935.027\n",
       "purpose             transactions with commercial real estate\n",
       "years_employed                                           NaN\n",
       "age_group_test1                                        26-34\n",
       "age_group                                              26-34\n",
       "Name: 72, dtype: object"
      ]
     },
     "metadata": {},
     "output_type": "display_data"
    }
   ],
   "source": [
    "display(data.iloc[41])\n",
    "display(data.iloc[55]) \n",
    "display(data.iloc[26])\n",
    "display(data.iloc[90])\n",
    "display(data.iloc[72])"
   ]
  },
  {
   "cell_type": "markdown",
   "metadata": {},
   "source": [
    "it seems like, in both methods, the total_income for the rows with missing values have been filled with the medians for different categories"
   ]
  },
  {
   "cell_type": "code",
   "execution_count": 94,
   "metadata": {},
   "outputs": [
    {
     "name": "stdout",
     "output_type": "stream",
     "text": [
      "<class 'pandas.core.frame.DataFrame'>\n",
      "Int64Index: 21471 entries, 0 to 21524\n",
      "Data columns (total 15 columns):\n",
      " #   Column            Non-Null Count  Dtype  \n",
      "---  ------            --------------  -----  \n",
      " 0   children          21471 non-null  int64  \n",
      " 1   days_employed     19351 non-null  float64\n",
      " 2   dob_years         21471 non-null  float64\n",
      " 3   education         21471 non-null  object \n",
      " 4   education_id      21471 non-null  int64  \n",
      " 5   family_status     21471 non-null  object \n",
      " 6   family_status_id  21471 non-null  int64  \n",
      " 7   gender            21470 non-null  object \n",
      " 8   income_type       21465 non-null  object \n",
      " 9   debt              21471 non-null  int64  \n",
      " 10  total_income      21470 non-null  float64\n",
      " 11  purpose           21471 non-null  object \n",
      " 12  years_employed    19351 non-null  float64\n",
      " 13  age_group_test1   21471 non-null  object \n",
      " 14  age_group         21471 non-null  object \n",
      "dtypes: float64(4), int64(4), object(7)\n",
      "memory usage: 2.6+ MB\n"
     ]
    },
    {
     "data": {
      "text/plain": [
       "children               0\n",
       "days_employed       2120\n",
       "dob_years              0\n",
       "education              0\n",
       "education_id           0\n",
       "family_status          0\n",
       "family_status_id       0\n",
       "gender                 1\n",
       "income_type            6\n",
       "debt                   0\n",
       "total_income           1\n",
       "purpose                0\n",
       "years_employed      2120\n",
       "age_group_test1        0\n",
       "age_group              0\n",
       "dtype: int64"
      ]
     },
     "execution_count": 94,
     "metadata": {},
     "output_type": "execute_result"
    }
   ],
   "source": [
    "data.info()\n",
    "data.isnull().sum()\n"
   ]
  },
  {
   "cell_type": "markdown",
   "metadata": {},
   "source": [
    "###  Restoring values in `days_employed`"
   ]
  },
  {
   "cell_type": "markdown",
   "metadata": {},
   "source": [
    "If possible, I will restore missing values following the same  procedures used to fix the total incomes. However, I already suspect that this column have more issues: I already dealt with negatives that appeared scattered all over the columns. let's figure out if the current values make sense by trasansforming days into years and comparing it with age of the client."
   ]
  },
  {
   "cell_type": "code",
   "execution_count": 95,
   "metadata": {
    "pycharm": {
     "name": "#%%\n"
    }
   },
   "outputs": [
    {
     "name": "stdout",
     "output_type": "stream",
     "text": [
      "gender  education_id\n",
      "F       0                 2009.211057\n",
      "        1                 2890.224831\n",
      "        2                 1209.128083\n",
      "        3               168556.875700\n",
      "        4               191122.147707\n",
      "M       0                 1657.056118\n",
      "        1                 1710.440205\n",
      "        2                 1197.316592\n",
      "        3                 1331.017371\n",
      "        4                 3851.735057\n",
      "Name: days_employed, dtype: float64\n"
     ]
    }
   ],
   "source": [
    "# Distribution of `days_employed` medians based on your identified parameters\n",
    "\n",
    "days_employed_median=data.groupby(['gender','education_id'])['days_employed'].median()\n",
    "print(days_employed_median)"
   ]
  },
  {
   "cell_type": "code",
   "execution_count": 96,
   "metadata": {},
   "outputs": [
    {
     "name": "stdout",
     "output_type": "stream",
     "text": [
      "gender  education_id\n",
      "F       0                47234.757552\n",
      "        1                95616.564419\n",
      "        2                28078.545846\n",
      "        3               183252.662395\n",
      "        4               191122.147707\n",
      "M       0                32373.092864\n",
      "        1                39456.131517\n",
      "        2                 8685.270012\n",
      "        3                61039.444626\n",
      "        4                86424.371456\n",
      "Name: days_employed, dtype: float64\n"
     ]
    }
   ],
   "source": [
    "# Distribution of `days_employed` means based on your identified parameters\n",
    "days_employed_mean=data.groupby(['gender','education_id'])['days_employed'].mean()\n",
    "print(days_employed_mean)"
   ]
  },
  {
   "cell_type": "code",
   "execution_count": 97,
   "metadata": {},
   "outputs": [
    {
     "data": {
      "text/html": [
       "<div>\n",
       "<style scoped>\n",
       "    .dataframe tbody tr th:only-of-type {\n",
       "        vertical-align: middle;\n",
       "    }\n",
       "\n",
       "    .dataframe tbody tr th {\n",
       "        vertical-align: top;\n",
       "    }\n",
       "\n",
       "    .dataframe thead th {\n",
       "        text-align: right;\n",
       "    }\n",
       "</style>\n",
       "<table border=\"1\" class=\"dataframe\">\n",
       "  <thead>\n",
       "    <tr style=\"text-align: right;\">\n",
       "      <th></th>\n",
       "      <th>children</th>\n",
       "      <th>days_employed</th>\n",
       "      <th>dob_years</th>\n",
       "      <th>education</th>\n",
       "      <th>education_id</th>\n",
       "      <th>family_status</th>\n",
       "      <th>family_status_id</th>\n",
       "      <th>gender</th>\n",
       "      <th>income_type</th>\n",
       "      <th>debt</th>\n",
       "      <th>total_income</th>\n",
       "      <th>purpose</th>\n",
       "      <th>years_employed</th>\n",
       "      <th>age_group_test1</th>\n",
       "      <th>age_group</th>\n",
       "    </tr>\n",
       "  </thead>\n",
       "  <tbody>\n",
       "    <tr>\n",
       "      <th>0</th>\n",
       "      <td>1</td>\n",
       "      <td>8437.673028</td>\n",
       "      <td>42.0</td>\n",
       "      <td>bachelor's degree</td>\n",
       "      <td>0</td>\n",
       "      <td>married</td>\n",
       "      <td>0</td>\n",
       "      <td>F</td>\n",
       "      <td>employee</td>\n",
       "      <td>0</td>\n",
       "      <td>40620.102</td>\n",
       "      <td>purchase of the house</td>\n",
       "      <td>23.116912</td>\n",
       "      <td>40-49</td>\n",
       "      <td>40-49</td>\n",
       "    </tr>\n",
       "    <tr>\n",
       "      <th>1</th>\n",
       "      <td>1</td>\n",
       "      <td>4024.803754</td>\n",
       "      <td>36.0</td>\n",
       "      <td>secondary education</td>\n",
       "      <td>1</td>\n",
       "      <td>married</td>\n",
       "      <td>0</td>\n",
       "      <td>F</td>\n",
       "      <td>employee</td>\n",
       "      <td>0</td>\n",
       "      <td>17932.802</td>\n",
       "      <td>car purchase</td>\n",
       "      <td>11.026860</td>\n",
       "      <td>35-39</td>\n",
       "      <td>35-39</td>\n",
       "    </tr>\n",
       "    <tr>\n",
       "      <th>2</th>\n",
       "      <td>0</td>\n",
       "      <td>5623.422610</td>\n",
       "      <td>33.0</td>\n",
       "      <td>Secondary Education</td>\n",
       "      <td>1</td>\n",
       "      <td>married</td>\n",
       "      <td>0</td>\n",
       "      <td>M</td>\n",
       "      <td>employee</td>\n",
       "      <td>0</td>\n",
       "      <td>23341.752</td>\n",
       "      <td>purchase of the house</td>\n",
       "      <td>15.406637</td>\n",
       "      <td>26-34</td>\n",
       "      <td>26-34</td>\n",
       "    </tr>\n",
       "    <tr>\n",
       "      <th>3</th>\n",
       "      <td>3</td>\n",
       "      <td>4124.747207</td>\n",
       "      <td>32.0</td>\n",
       "      <td>secondary education</td>\n",
       "      <td>1</td>\n",
       "      <td>married</td>\n",
       "      <td>0</td>\n",
       "      <td>M</td>\n",
       "      <td>employee</td>\n",
       "      <td>0</td>\n",
       "      <td>42820.568</td>\n",
       "      <td>supplementary education</td>\n",
       "      <td>11.300677</td>\n",
       "      <td>26-34</td>\n",
       "      <td>26-34</td>\n",
       "    </tr>\n",
       "    <tr>\n",
       "      <th>4</th>\n",
       "      <td>0</td>\n",
       "      <td>340266.072047</td>\n",
       "      <td>53.0</td>\n",
       "      <td>secondary education</td>\n",
       "      <td>1</td>\n",
       "      <td>civil partnership</td>\n",
       "      <td>1</td>\n",
       "      <td>F</td>\n",
       "      <td>retiree</td>\n",
       "      <td>0</td>\n",
       "      <td>25378.572</td>\n",
       "      <td>to have a wedding</td>\n",
       "      <td>932.235814</td>\n",
       "      <td>50-59</td>\n",
       "      <td>50-59</td>\n",
       "    </tr>\n",
       "    <tr>\n",
       "      <th>5</th>\n",
       "      <td>0</td>\n",
       "      <td>926.185831</td>\n",
       "      <td>27.0</td>\n",
       "      <td>bachelor's degree</td>\n",
       "      <td>0</td>\n",
       "      <td>civil partnership</td>\n",
       "      <td>1</td>\n",
       "      <td>M</td>\n",
       "      <td>business</td>\n",
       "      <td>0</td>\n",
       "      <td>40922.170</td>\n",
       "      <td>purchase of the house</td>\n",
       "      <td>2.537495</td>\n",
       "      <td>26-34</td>\n",
       "      <td>26-34</td>\n",
       "    </tr>\n",
       "    <tr>\n",
       "      <th>6</th>\n",
       "      <td>0</td>\n",
       "      <td>2879.202052</td>\n",
       "      <td>43.0</td>\n",
       "      <td>bachelor's degree</td>\n",
       "      <td>0</td>\n",
       "      <td>married</td>\n",
       "      <td>0</td>\n",
       "      <td>F</td>\n",
       "      <td>business</td>\n",
       "      <td>0</td>\n",
       "      <td>38484.156</td>\n",
       "      <td>housing transactions</td>\n",
       "      <td>7.888225</td>\n",
       "      <td>40-49</td>\n",
       "      <td>40-49</td>\n",
       "    </tr>\n",
       "    <tr>\n",
       "      <th>7</th>\n",
       "      <td>0</td>\n",
       "      <td>152.779569</td>\n",
       "      <td>50.0</td>\n",
       "      <td>SECONDARY EDUCATION</td>\n",
       "      <td>1</td>\n",
       "      <td>married</td>\n",
       "      <td>0</td>\n",
       "      <td>M</td>\n",
       "      <td>employee</td>\n",
       "      <td>0</td>\n",
       "      <td>21731.829</td>\n",
       "      <td>education</td>\n",
       "      <td>0.418574</td>\n",
       "      <td>50-59</td>\n",
       "      <td>50-59</td>\n",
       "    </tr>\n",
       "    <tr>\n",
       "      <th>8</th>\n",
       "      <td>2</td>\n",
       "      <td>6929.865299</td>\n",
       "      <td>35.0</td>\n",
       "      <td>BACHELOR'S DEGREE</td>\n",
       "      <td>0</td>\n",
       "      <td>civil partnership</td>\n",
       "      <td>1</td>\n",
       "      <td>F</td>\n",
       "      <td>employee</td>\n",
       "      <td>0</td>\n",
       "      <td>15337.093</td>\n",
       "      <td>having a wedding</td>\n",
       "      <td>18.985932</td>\n",
       "      <td>35-39</td>\n",
       "      <td>35-39</td>\n",
       "    </tr>\n",
       "    <tr>\n",
       "      <th>9</th>\n",
       "      <td>0</td>\n",
       "      <td>2188.756445</td>\n",
       "      <td>41.0</td>\n",
       "      <td>secondary education</td>\n",
       "      <td>1</td>\n",
       "      <td>married</td>\n",
       "      <td>0</td>\n",
       "      <td>M</td>\n",
       "      <td>employee</td>\n",
       "      <td>0</td>\n",
       "      <td>23108.150</td>\n",
       "      <td>purchase of the house for my family</td>\n",
       "      <td>5.996593</td>\n",
       "      <td>40-49</td>\n",
       "      <td>40-49</td>\n",
       "    </tr>\n",
       "    <tr>\n",
       "      <th>10</th>\n",
       "      <td>2</td>\n",
       "      <td>4171.483647</td>\n",
       "      <td>36.0</td>\n",
       "      <td>bachelor's degree</td>\n",
       "      <td>0</td>\n",
       "      <td>married</td>\n",
       "      <td>0</td>\n",
       "      <td>M</td>\n",
       "      <td>business</td>\n",
       "      <td>0</td>\n",
       "      <td>18230.959</td>\n",
       "      <td>buy real estate</td>\n",
       "      <td>11.428722</td>\n",
       "      <td>35-39</td>\n",
       "      <td>35-39</td>\n",
       "    </tr>\n",
       "    <tr>\n",
       "      <th>11</th>\n",
       "      <td>0</td>\n",
       "      <td>792.701887</td>\n",
       "      <td>40.0</td>\n",
       "      <td>secondary education</td>\n",
       "      <td>1</td>\n",
       "      <td>married</td>\n",
       "      <td>0</td>\n",
       "      <td>F</td>\n",
       "      <td>employee</td>\n",
       "      <td>0</td>\n",
       "      <td>12331.077</td>\n",
       "      <td>buy commercial real estate</td>\n",
       "      <td>2.171786</td>\n",
       "      <td>40-49</td>\n",
       "      <td>40-49</td>\n",
       "    </tr>\n",
       "    <tr>\n",
       "      <th>12</th>\n",
       "      <td>0</td>\n",
       "      <td>NaN</td>\n",
       "      <td>65.0</td>\n",
       "      <td>secondary education</td>\n",
       "      <td>1</td>\n",
       "      <td>civil partnership</td>\n",
       "      <td>1</td>\n",
       "      <td>M</td>\n",
       "      <td>retiree</td>\n",
       "      <td>0</td>\n",
       "      <td>18655.606</td>\n",
       "      <td>to have a wedding</td>\n",
       "      <td>NaN</td>\n",
       "      <td>60-69</td>\n",
       "      <td>60-69</td>\n",
       "    </tr>\n",
       "    <tr>\n",
       "      <th>13</th>\n",
       "      <td>0</td>\n",
       "      <td>1846.641941</td>\n",
       "      <td>54.0</td>\n",
       "      <td>some college</td>\n",
       "      <td>2</td>\n",
       "      <td>married</td>\n",
       "      <td>0</td>\n",
       "      <td>F</td>\n",
       "      <td>employee</td>\n",
       "      <td>0</td>\n",
       "      <td>20873.317</td>\n",
       "      <td>car purchase</td>\n",
       "      <td>5.059293</td>\n",
       "      <td>50-59</td>\n",
       "      <td>50-59</td>\n",
       "    </tr>\n",
       "  </tbody>\n",
       "</table>\n",
       "</div>"
      ],
      "text/plain": [
       "    children  days_employed  dob_years            education  education_id  \\\n",
       "0          1    8437.673028       42.0    bachelor's degree             0   \n",
       "1          1    4024.803754       36.0  secondary education             1   \n",
       "2          0    5623.422610       33.0  Secondary Education             1   \n",
       "3          3    4124.747207       32.0  secondary education             1   \n",
       "4          0  340266.072047       53.0  secondary education             1   \n",
       "5          0     926.185831       27.0    bachelor's degree             0   \n",
       "6          0    2879.202052       43.0    bachelor's degree             0   \n",
       "7          0     152.779569       50.0  SECONDARY EDUCATION             1   \n",
       "8          2    6929.865299       35.0    BACHELOR'S DEGREE             0   \n",
       "9          0    2188.756445       41.0  secondary education             1   \n",
       "10         2    4171.483647       36.0    bachelor's degree             0   \n",
       "11         0     792.701887       40.0  secondary education             1   \n",
       "12         0            NaN       65.0  secondary education             1   \n",
       "13         0    1846.641941       54.0         some college             2   \n",
       "\n",
       "        family_status  family_status_id gender income_type  debt  \\\n",
       "0             married                 0      F    employee     0   \n",
       "1             married                 0      F    employee     0   \n",
       "2             married                 0      M    employee     0   \n",
       "3             married                 0      M    employee     0   \n",
       "4   civil partnership                 1      F     retiree     0   \n",
       "5   civil partnership                 1      M    business     0   \n",
       "6             married                 0      F    business     0   \n",
       "7             married                 0      M    employee     0   \n",
       "8   civil partnership                 1      F    employee     0   \n",
       "9             married                 0      M    employee     0   \n",
       "10            married                 0      M    business     0   \n",
       "11            married                 0      F    employee     0   \n",
       "12  civil partnership                 1      M     retiree     0   \n",
       "13            married                 0      F    employee     0   \n",
       "\n",
       "    total_income                              purpose  years_employed  \\\n",
       "0      40620.102                purchase of the house       23.116912   \n",
       "1      17932.802                         car purchase       11.026860   \n",
       "2      23341.752                purchase of the house       15.406637   \n",
       "3      42820.568              supplementary education       11.300677   \n",
       "4      25378.572                    to have a wedding      932.235814   \n",
       "5      40922.170                purchase of the house        2.537495   \n",
       "6      38484.156                 housing transactions        7.888225   \n",
       "7      21731.829                            education        0.418574   \n",
       "8      15337.093                     having a wedding       18.985932   \n",
       "9      23108.150  purchase of the house for my family        5.996593   \n",
       "10     18230.959                      buy real estate       11.428722   \n",
       "11     12331.077           buy commercial real estate        2.171786   \n",
       "12     18655.606                    to have a wedding             NaN   \n",
       "13     20873.317                         car purchase        5.059293   \n",
       "\n",
       "   age_group_test1 age_group  \n",
       "0            40-49     40-49  \n",
       "1            35-39     35-39  \n",
       "2            26-34     26-34  \n",
       "3            26-34     26-34  \n",
       "4            50-59     50-59  \n",
       "5            26-34     26-34  \n",
       "6            40-49     40-49  \n",
       "7            50-59     50-59  \n",
       "8            35-39     35-39  \n",
       "9            40-49     40-49  \n",
       "10           35-39     35-39  \n",
       "11           40-49     40-49  \n",
       "12           60-69     60-69  \n",
       "13           50-59     50-59  "
      ]
     },
     "execution_count": 97,
     "metadata": {},
     "output_type": "execute_result"
    }
   ],
   "source": [
    "data.head(14)\n"
   ]
  },
  {
   "cell_type": "markdown",
   "metadata": {},
   "source": [
    "\n",
    "I will use median to have a more accurate estimation, since there are considerable differences among the groups"
   ]
  },
  {
   "cell_type": "code",
   "execution_count": 98,
   "metadata": {},
   "outputs": [
    {
     "name": "stdout",
     "output_type": "stream",
     "text": [
      "gender  education_id\n",
      "F       4               523.622322\n",
      "        3               502.062089\n",
      "        1               261.963190\n",
      "M       4               236.779100\n",
      "        3               167.231355\n",
      "F       0               129.410295\n",
      "M       1               108.098990\n",
      "        0                88.693405\n",
      "F       2                76.927523\n",
      "M       2                23.795260\n",
      "Name: days_employed, dtype: float64\n"
     ]
    }
   ],
   "source": [
    "# Let's write divide the medians fo 365 in order to find the years employed\n",
    "median_years=days_employed_mean.div(365)\n",
    "print (median_years.sort_values(ascending=False).head(20))"
   ]
  },
  {
   "cell_type": "markdown",
   "metadata": {},
   "source": [
    "as previously assessed, the data in days_employed column are corrupted and also non relevant to my study, so I will not proceed to replace missing values"
   ]
  },
  {
   "cell_type": "markdown",
   "metadata": {},
   "source": [
    "for the sake of practice and to benefit the business, i will proceed to replace missing values in the column days_employed:"
   ]
  },
  {
   "cell_type": "code",
   "execution_count": 99,
   "metadata": {},
   "outputs": [
    {
     "name": "stdout",
     "output_type": "stream",
     "text": [
      "0          8437.673028\n",
      "1          4024.803754\n",
      "2          5623.422610\n",
      "3          4124.747207\n",
      "4        340266.072047\n",
      "             ...      \n",
      "21520      4529.316663\n",
      "21521    343937.404131\n",
      "21522      2113.346888\n",
      "21523      3112.481705\n",
      "21524      1984.507589\n",
      "Name: days_employed, Length: 21471, dtype: float64\n"
     ]
    },
    {
     "name": "stderr",
     "output_type": "stream",
     "text": [
      "C:\\Users\\User\\AppData\\Local\\Temp\\ipykernel_14840\\828409014.py:2: SettingWithCopyWarning: \n",
      "A value is trying to be set on a copy of a slice from a DataFrame.\n",
      "Try using .loc[row_indexer,col_indexer] = value instead\n",
      "\n",
      "See the caveats in the documentation: https://pandas.pydata.org/pandas-docs/stable/user_guide/indexing.html#returning-a-view-versus-a-copy\n",
      "  data['days_employed'] = data['days_employed'].fillna(days_employed_median)\n"
     ]
    }
   ],
   "source": [
    "days_employed_median=data.groupby(['gender','education_id'])['days_employed'].transform('median')\n",
    "data['days_employed'] = data['days_employed'].fillna(days_employed_median)\n",
    "print(data['days_employed'])\n"
   ]
  },
  {
   "cell_type": "code",
   "execution_count": 100,
   "metadata": {},
   "outputs": [
    {
     "name": "stdout",
     "output_type": "stream",
     "text": [
      "<class 'pandas.core.frame.DataFrame'>\n",
      "Int64Index: 21471 entries, 0 to 21524\n",
      "Data columns (total 15 columns):\n",
      " #   Column            Non-Null Count  Dtype  \n",
      "---  ------            --------------  -----  \n",
      " 0   children          21471 non-null  int64  \n",
      " 1   days_employed     21471 non-null  float64\n",
      " 2   dob_years         21471 non-null  float64\n",
      " 3   education         21471 non-null  object \n",
      " 4   education_id      21471 non-null  int64  \n",
      " 5   family_status     21471 non-null  object \n",
      " 6   family_status_id  21471 non-null  int64  \n",
      " 7   gender            21470 non-null  object \n",
      " 8   income_type       21465 non-null  object \n",
      " 9   debt              21471 non-null  int64  \n",
      " 10  total_income      21470 non-null  float64\n",
      " 11  purpose           21471 non-null  object \n",
      " 12  years_employed    19351 non-null  float64\n",
      " 13  age_group_test1   21471 non-null  object \n",
      " 14  age_group         21471 non-null  object \n",
      "dtypes: float64(4), int64(4), object(7)\n",
      "memory usage: 2.6+ MB\n"
     ]
    },
    {
     "data": {
      "text/plain": [
       "children               0\n",
       "days_employed          0\n",
       "dob_years              0\n",
       "education              0\n",
       "education_id           0\n",
       "family_status          0\n",
       "family_status_id       0\n",
       "gender                 1\n",
       "income_type            6\n",
       "debt                   0\n",
       "total_income           1\n",
       "purpose                0\n",
       "years_employed      2120\n",
       "age_group_test1        0\n",
       "age_group              0\n",
       "dtype: int64"
      ]
     },
     "execution_count": 100,
     "metadata": {},
     "output_type": "execute_result"
    }
   ],
   "source": [
    "data.info()\n",
    "data.isnull().sum()\n",
    "\n"
   ]
  },
  {
   "cell_type": "markdown",
   "metadata": {},
   "source": [
    "we can see that all missing values have been replaced with the exception of the column 'years_employed' that I created, I don't need this column anymore, so I prefer to drop it, in order to simplify my analysis."
   ]
  },
  {
   "cell_type": "code",
   "execution_count": 101,
   "metadata": {},
   "outputs": [],
   "source": [
    "data=data.drop(columns=['years_employed'])"
   ]
  },
  {
   "cell_type": "code",
   "execution_count": 102,
   "metadata": {},
   "outputs": [
    {
     "name": "stdout",
     "output_type": "stream",
     "text": [
      "<class 'pandas.core.frame.DataFrame'>\n",
      "Int64Index: 21471 entries, 0 to 21524\n",
      "Data columns (total 14 columns):\n",
      " #   Column            Non-Null Count  Dtype  \n",
      "---  ------            --------------  -----  \n",
      " 0   children          21471 non-null  int64  \n",
      " 1   days_employed     21471 non-null  float64\n",
      " 2   dob_years         21471 non-null  float64\n",
      " 3   education         21471 non-null  object \n",
      " 4   education_id      21471 non-null  int64  \n",
      " 5   family_status     21471 non-null  object \n",
      " 6   family_status_id  21471 non-null  int64  \n",
      " 7   gender            21470 non-null  object \n",
      " 8   income_type       21465 non-null  object \n",
      " 9   debt              21471 non-null  int64  \n",
      " 10  total_income      21470 non-null  float64\n",
      " 11  purpose           21471 non-null  object \n",
      " 12  age_group_test1   21471 non-null  object \n",
      " 13  age_group         21471 non-null  object \n",
      "dtypes: float64(3), int64(4), object(7)\n",
      "memory usage: 2.5+ MB\n"
     ]
    },
    {
     "data": {
      "text/plain": [
       "children            0\n",
       "days_employed       0\n",
       "dob_years           0\n",
       "education           0\n",
       "education_id        0\n",
       "family_status       0\n",
       "family_status_id    0\n",
       "gender              1\n",
       "income_type         6\n",
       "debt                0\n",
       "total_income        1\n",
       "purpose             0\n",
       "age_group_test1     0\n",
       "age_group           0\n",
       "dtype: int64"
      ]
     },
     "execution_count": 102,
     "metadata": {},
     "output_type": "execute_result"
    }
   ],
   "source": [
    "data.info()\n",
    "data.isnull().sum()"
   ]
  },
  {
   "cell_type": "markdown",
   "metadata": {},
   "source": [
    "## Categorization of data\n",
    "\n",
    "#### Goal of analysis: check wether there is a difference in defaulting loan rate depending on : number of kids, marital status, income level and loan purposes\n",
    "\n",
    "Is there a connection between having kids and repaying a loan on time?\n",
    "Is there a connection between marital status and repaying a loan on time?\n",
    "Is there a connection between income level and repaying a loan on time?\n",
    "How do different loan purposes affect on-time loan repayment?\n",
    "\n",
    "To answer the questions and test the hypotheses, it's better to work with categorized data, so we can provide more clear informations. I will categorize the data about total income and purpose of the loan, so we will be able to easily compare with the debt info"
   ]
  },
  {
   "cell_type": "code",
   "execution_count": 103,
   "metadata": {
    "scrolled": true
   },
   "outputs": [
    {
     "name": "stdout",
     "output_type": "stream",
     "text": [
      "20178.4195    175\n",
      "18366.4590    132\n",
      "17749.0720    128\n",
      "18986.5500    107\n",
      "24506.8390     85\n",
      "             ... \n",
      "15843.5710      1\n",
      "35720.9900      1\n",
      "17950.7370      1\n",
      "13535.0140      1\n",
      "13127.5870      1\n",
      "Name: total_income, Length: 19411, dtype: int64\n",
      "0    12344\n",
      "1     4163\n",
      "4     2810\n",
      "3     1195\n",
      "2      959\n",
      "Name: family_status_id, dtype: int64\n",
      "0    14107\n",
      "1     4856\n",
      "2     2128\n",
      "3      330\n",
      "4       41\n",
      "5        9\n",
      "Name: children, dtype: int64\n",
      "wedding ceremony                            793\n",
      "having a wedding                            773\n",
      "to have a wedding                           769\n",
      "real estate transactions                    675\n",
      "buy commercial real estate                  662\n",
      "buying property for renting out             652\n",
      "housing transactions                        652\n",
      "transactions with commercial real estate    650\n",
      "purchase of the house                       646\n",
      "housing                                     646\n",
      "purchase of the house for my family         638\n",
      "construction of own property                635\n",
      "property                                    633\n",
      "transactions with my real estate            627\n",
      "building a real estate                      625\n",
      "buy real estate                             621\n",
      "purchase of my own house                    620\n",
      "building a property                         619\n",
      "housing renovation                          607\n",
      "buy residential real estate                 606\n",
      "buying my own car                           505\n",
      "going to university                         496\n",
      "car                                         494\n",
      "second-hand car purchase                    486\n",
      "to own a car                                479\n",
      "buying a second-hand car                    478\n",
      "cars                                        478\n",
      "to buy a car                                472\n",
      "car purchase                                461\n",
      "supplementary education                     460\n",
      "purchase of a car                           455\n",
      "university education                        452\n",
      "education                                   447\n",
      "to get a supplementary education            447\n",
      "getting an education                        442\n",
      "profile education                           436\n",
      "getting higher education                    426\n",
      "to become educated                          408\n",
      "Name: purpose, dtype: int64\n",
      "0    19730\n",
      "1     1741\n",
      "Name: debt, dtype: int64\n"
     ]
    }
   ],
   "source": [
    "# Print the values for selected data for categorization\n",
    "print(data['total_income'].value_counts())\n",
    "print(data['family_status_id'].value_counts())\n",
    "print(data['children'].value_counts())\n",
    "print(data['purpose'].value_counts())\n",
    "print(data['debt'].value_counts())\n",
    "\n"
   ]
  },
  {
   "cell_type": "markdown",
   "metadata": {},
   "source": [
    "Let's check unique values"
   ]
  },
  {
   "cell_type": "code",
   "execution_count": 104,
   "metadata": {},
   "outputs": [
    {
     "name": "stdout",
     "output_type": "stream",
     "text": [
      "['purchase of the house' 'car purchase' 'supplementary education'\n",
      " 'to have a wedding' 'housing transactions' 'education' 'having a wedding'\n",
      " 'purchase of the house for my family' 'buy real estate'\n",
      " 'buy commercial real estate' 'buy residential real estate'\n",
      " 'construction of own property' 'property' 'building a property'\n",
      " 'buying a second-hand car' 'buying my own car'\n",
      " 'transactions with commercial real estate' 'building a real estate'\n",
      " 'housing' 'transactions with my real estate' 'cars' 'to become educated'\n",
      " 'second-hand car purchase' 'getting an education' 'car'\n",
      " 'wedding ceremony' 'to get a supplementary education'\n",
      " 'purchase of my own house' 'real estate transactions'\n",
      " 'getting higher education' 'to own a car' 'purchase of a car'\n",
      " 'profile education' 'university education'\n",
      " 'buying property for renting out' 'to buy a car' 'housing renovation'\n",
      " 'going to university']\n"
     ]
    }
   ],
   "source": [
    "# Check the unique values\n",
    "print(data['purpose'].unique())\n",
    "\n"
   ]
  },
  {
   "cell_type": "markdown",
   "metadata": {},
   "source": [
    "I can spot 4 main categories: wedding, car, education, and real estate. I will create a new column with those category and assign the rows with Lemmatization approach.\n"
   ]
  },
  {
   "cell_type": "code",
   "execution_count": 111,
   "metadata": {},
   "outputs": [
    {
     "name": "stderr",
     "output_type": "stream",
     "text": [
      "Installing mystem to C:\\Users\\User/.local/bin\\mystem.exe from http://download.cdn.yandex.net/mystem/mystem-3.1-win-64bit.zip\n"
     ]
    }
   ],
   "source": [
    "from pymystem3 import Mystem\n",
    "from collections import Counter\n",
    "m = Mystem()"
   ]
  },
  {
   "cell_type": "code",
   "execution_count": 112,
   "metadata": {},
   "outputs": [
    {
     "data": {
      "text/plain": [
       "0      purchase of the house\n",
       "1               car purchase\n",
       "2      purchase of the house\n",
       "3    supplementary education\n",
       "4          to have a wedding\n",
       "Name: purpose, dtype: object"
      ]
     },
     "execution_count": 112,
     "metadata": {},
     "output_type": "execute_result"
    }
   ],
   "source": [
    "# importing WordNet Lemmatizer:\n",
    "import nltk\n",
    "from nltk.stem import WordNetLemmatizer\n",
    "\n",
    "wordnet_lemma = WordNetLemmatizer()\n",
    "\n",
    "data.purpose.head()"
   ]
  },
  {
   "cell_type": "code",
   "execution_count": 113,
   "metadata": {},
   "outputs": [],
   "source": [
    "\n",
    "# Create a column with the categories and count the values for them\n",
    "real_estate_category=['house','housing','real estate','property']\n",
    "car_category=['car', 'cars']\n",
    "\n",
    "education_category= ['education', 'educated','university']\n",
    "           \n",
    "wedding_category =['wedding']"
   ]
  },
  {
   "cell_type": "code",
   "execution_count": 114,
   "metadata": {},
   "outputs": [],
   "source": [
    "# Let's write a function to categorize the data based on common topic\n",
    "\n",
    "def lemmatization_func(line):\n",
    "  \n",
    "    words = nltk.word_tokenize(line)\n",
    "    lemmas = [wordnet_lemma.lemmatize(w, pos = 'n') for w in words]\n",
    "    lemmas=[l.lower() for l in lemmas]\n",
    "    \n",
    "    if any(word in lemmas for word in real_estate_category):\n",
    "        return 'real estate'\n",
    "    elif  any(word in lemmas for word in car_category):\n",
    "        return 'car'\n",
    "    elif  any(word in lemmas for word in education_category):\n",
    "        return 'education'\n",
    "    elif  any(word in lemmas for word in wedding_category):\n",
    "        return 'wedding'\n",
    "    else:\n",
    "        \n",
    "        return 'other'\n"
   ]
  },
  {
   "cell_type": "code",
   "execution_count": 121,
   "metadata": {},
   "outputs": [
    {
     "name": "stderr",
     "output_type": "stream",
     "text": [
      "[nltk_data] Downloading package punkt to\n",
      "[nltk_data]     C:\\Users\\User\\AppData\\Roaming\\nltk_data...\n",
      "[nltk_data]   Package punkt is already up-to-date!\n",
      "[nltk_data] Downloading package wordnet to\n",
      "[nltk_data]     C:\\Users\\User\\AppData\\Roaming\\nltk_data...\n",
      "[nltk_data]   Package wordnet is already up-to-date!\n",
      "[nltk_data] Downloading package omw-1.4 to\n",
      "[nltk_data]     C:\\Users\\User\\AppData\\Roaming\\nltk_data...\n"
     ]
    },
    {
     "data": {
      "text/plain": [
       "True"
      ]
     },
     "execution_count": 121,
     "metadata": {},
     "output_type": "execute_result"
    }
   ],
   "source": [
    "import nltk\n",
    "nltk.download('punkt')\n",
    "nltk.download('wordnet')\n",
    "nltk.download('omw-1.4')"
   ]
  },
  {
   "cell_type": "code",
   "execution_count": 122,
   "metadata": {},
   "outputs": [],
   "source": [
    "data['clean_purpose']=data['purpose'].apply(lemmatization_func)"
   ]
  },
  {
   "cell_type": "code",
   "execution_count": 123,
   "metadata": {},
   "outputs": [
    {
     "data": {
      "text/plain": [
       "real estate    6348\n",
       "other          4466\n",
       "car            4308\n",
       "education      4014\n",
       "wedding        2335\n",
       "Name: clean_purpose, dtype: int64"
      ]
     },
     "execution_count": 123,
     "metadata": {},
     "output_type": "execute_result"
    }
   ],
   "source": [
    "data['clean_purpose'].value_counts()"
   ]
  },
  {
   "cell_type": "code",
   "execution_count": 124,
   "metadata": {},
   "outputs": [
    {
     "data": {
      "text/plain": [
       "21471"
      ]
     },
     "execution_count": 124,
     "metadata": {},
     "output_type": "execute_result"
    }
   ],
   "source": [
    "#count the total values, to make sure nothing was lost\n",
    "data['clean_purpose'].value_counts().sum()"
   ]
  },
  {
   "cell_type": "markdown",
   "metadata": {},
   "source": [
    "my new column, called 'clean_purpose' is ready with the four categories."
   ]
  },
  {
   "cell_type": "code",
   "execution_count": 125,
   "metadata": {},
   "outputs": [
    {
     "data": {
      "text/plain": [
       "0    14107\n",
       "1     4856\n",
       "2     2128\n",
       "3      330\n",
       "4       41\n",
       "5        9\n",
       "Name: children, dtype: int64"
      ]
     },
     "execution_count": 125,
     "metadata": {},
     "output_type": "execute_result"
    }
   ],
   "source": [
    "data['children'].value_counts()"
   ]
  },
  {
   "cell_type": "markdown",
   "metadata": {},
   "source": [
    "there are already categories"
   ]
  },
  {
   "cell_type": "code",
   "execution_count": 126,
   "metadata": {},
   "outputs": [
    {
     "name": "stdout",
     "output_type": "stream",
     "text": [
      "children  family_status    \n",
      "0         married              7473\n",
      "          civil partnership    2741\n",
      "          unmarried            2262\n",
      "          widow / widower       847\n",
      "          divorced              784\n",
      "1         married              3004\n",
      "          civil partnership    1001\n",
      "          unmarried             454\n",
      "          divorced              316\n",
      "          widow / widower        81\n",
      "2         married              1582\n",
      "          civil partnership     355\n",
      "          unmarried              84\n",
      "          divorced               83\n",
      "          widow / widower        24\n",
      "3         married               249\n",
      "          civil partnership      56\n",
      "          divorced               11\n",
      "          unmarried               8\n",
      "          widow / widower         6\n",
      "4         married                29\n",
      "          civil partnership       8\n",
      "          unmarried               2\n",
      "          divorced                1\n",
      "          widow / widower         1\n",
      "5         married                 7\n",
      "          civil partnership       2\n",
      "Name: family_status, dtype: int64\n"
     ]
    }
   ],
   "source": [
    "print(data.groupby('children')['family_status'].value_counts())"
   ]
  },
  {
   "cell_type": "markdown",
   "metadata": {},
   "source": [
    "I could categorize the income by household: family status and number of children, but is my understanding that the hypothesis are more straightforward (ex: number of kids and debt) so i don't think is necessary to add this step."
   ]
  },
  {
   "cell_type": "markdown",
   "metadata": {},
   "source": [
    "let's categorize income"
   ]
  },
  {
   "cell_type": "code",
   "execution_count": 127,
   "metadata": {},
   "outputs": [
    {
     "data": {
      "text/html": [
       "<div>\n",
       "<style scoped>\n",
       "    .dataframe tbody tr th:only-of-type {\n",
       "        vertical-align: middle;\n",
       "    }\n",
       "\n",
       "    .dataframe tbody tr th {\n",
       "        vertical-align: top;\n",
       "    }\n",
       "\n",
       "    .dataframe thead th {\n",
       "        text-align: right;\n",
       "    }\n",
       "</style>\n",
       "<table border=\"1\" class=\"dataframe\">\n",
       "  <thead>\n",
       "    <tr style=\"text-align: right;\">\n",
       "      <th></th>\n",
       "      <th>children</th>\n",
       "      <th>days_employed</th>\n",
       "      <th>dob_years</th>\n",
       "      <th>education_id</th>\n",
       "      <th>family_status_id</th>\n",
       "      <th>debt</th>\n",
       "      <th>total_income</th>\n",
       "    </tr>\n",
       "  </thead>\n",
       "  <tbody>\n",
       "    <tr>\n",
       "      <th>count</th>\n",
       "      <td>21471.000000</td>\n",
       "      <td>21471.000000</td>\n",
       "      <td>21471.000000</td>\n",
       "      <td>21471.000000</td>\n",
       "      <td>21471.000000</td>\n",
       "      <td>21471.000000</td>\n",
       "      <td>21470.000000</td>\n",
       "    </tr>\n",
       "    <tr>\n",
       "      <th>mean</th>\n",
       "      <td>0.480229</td>\n",
       "      <td>60651.763994</td>\n",
       "      <td>43.482727</td>\n",
       "      <td>0.817195</td>\n",
       "      <td>0.973685</td>\n",
       "      <td>0.081086</td>\n",
       "      <td>26476.595986</td>\n",
       "    </tr>\n",
       "    <tr>\n",
       "      <th>std</th>\n",
       "      <td>0.755892</td>\n",
       "      <td>133409.875647</td>\n",
       "      <td>12.217198</td>\n",
       "      <td>0.548508</td>\n",
       "      <td>1.421082</td>\n",
       "      <td>0.272974</td>\n",
       "      <td>15748.494239</td>\n",
       "    </tr>\n",
       "    <tr>\n",
       "      <th>min</th>\n",
       "      <td>0.000000</td>\n",
       "      <td>24.141633</td>\n",
       "      <td>19.000000</td>\n",
       "      <td>0.000000</td>\n",
       "      <td>0.000000</td>\n",
       "      <td>0.000000</td>\n",
       "      <td>3306.762000</td>\n",
       "    </tr>\n",
       "    <tr>\n",
       "      <th>25%</th>\n",
       "      <td>0.000000</td>\n",
       "      <td>1024.274090</td>\n",
       "      <td>33.500000</td>\n",
       "      <td>1.000000</td>\n",
       "      <td>0.000000</td>\n",
       "      <td>0.000000</td>\n",
       "      <td>17156.087750</td>\n",
       "    </tr>\n",
       "    <tr>\n",
       "      <th>50%</th>\n",
       "      <td>0.000000</td>\n",
       "      <td>2182.448451</td>\n",
       "      <td>43.000000</td>\n",
       "      <td>1.000000</td>\n",
       "      <td>0.000000</td>\n",
       "      <td>0.000000</td>\n",
       "      <td>23219.727000</td>\n",
       "    </tr>\n",
       "    <tr>\n",
       "      <th>75%</th>\n",
       "      <td>1.000000</td>\n",
       "      <td>4815.241499</td>\n",
       "      <td>53.000000</td>\n",
       "      <td>1.000000</td>\n",
       "      <td>1.000000</td>\n",
       "      <td>0.000000</td>\n",
       "      <td>31639.309000</td>\n",
       "    </tr>\n",
       "    <tr>\n",
       "      <th>max</th>\n",
       "      <td>5.000000</td>\n",
       "      <td>401755.400475</td>\n",
       "      <td>75.000000</td>\n",
       "      <td>4.000000</td>\n",
       "      <td>4.000000</td>\n",
       "      <td>1.000000</td>\n",
       "      <td>362496.645000</td>\n",
       "    </tr>\n",
       "  </tbody>\n",
       "</table>\n",
       "</div>"
      ],
      "text/plain": [
       "           children  days_employed     dob_years  education_id  \\\n",
       "count  21471.000000   21471.000000  21471.000000  21471.000000   \n",
       "mean       0.480229   60651.763994     43.482727      0.817195   \n",
       "std        0.755892  133409.875647     12.217198      0.548508   \n",
       "min        0.000000      24.141633     19.000000      0.000000   \n",
       "25%        0.000000    1024.274090     33.500000      1.000000   \n",
       "50%        0.000000    2182.448451     43.000000      1.000000   \n",
       "75%        1.000000    4815.241499     53.000000      1.000000   \n",
       "max        5.000000  401755.400475     75.000000      4.000000   \n",
       "\n",
       "       family_status_id          debt   total_income  \n",
       "count      21471.000000  21471.000000   21470.000000  \n",
       "mean           0.973685      0.081086   26476.595986  \n",
       "std            1.421082      0.272974   15748.494239  \n",
       "min            0.000000      0.000000    3306.762000  \n",
       "25%            0.000000      0.000000   17156.087750  \n",
       "50%            0.000000      0.000000   23219.727000  \n",
       "75%            1.000000      0.000000   31639.309000  \n",
       "max            4.000000      1.000000  362496.645000  "
      ]
     },
     "execution_count": 127,
     "metadata": {},
     "output_type": "execute_result"
    }
   ],
   "source": [
    "data.describe()"
   ]
  },
  {
   "cell_type": "code",
   "execution_count": 128,
   "metadata": {},
   "outputs": [],
   "source": [
    "\n",
    "def total_income_group(income):\n",
    "        '''The function returns the income group according to the income value, using the following rules:\n",
    "    —'low income' for income < 20000\n",
    "    —'middle income' for income < 50000\n",
    "    —'middle upper income' for income < 100000\n",
    "    —'upper' for income < 200000\n",
    "    —'very high income' for superior values\n",
    "    '''\n",
    "        if  income < 20000:\n",
    "            return 'low income'\n",
    "        if  income < 50000 :\n",
    "            return'middle income'\n",
    "        if  income < 100000 :\n",
    "            return 'middle upper income'\n",
    "        if  income < 200000 :\n",
    "            return'upper income'\n",
    "        else:  \n",
    "            return'very high income'\n",
    "        \n",
    "        "
   ]
  },
  {
   "cell_type": "markdown",
   "metadata": {},
   "source": [
    "check if it works"
   ]
  },
  {
   "cell_type": "code",
   "execution_count": 129,
   "metadata": {},
   "outputs": [
    {
     "name": "stdout",
     "output_type": "stream",
     "text": [
      "low income\n",
      "very high income\n",
      "middle upper income\n"
     ]
    }
   ],
   "source": [
    "print(total_income_group(17.000))\n",
    "print(total_income_group(300000))\n",
    "print(total_income_group(60000))"
   ]
  },
  {
   "cell_type": "markdown",
   "metadata": {},
   "source": [
    "apply the function to 'total_income'"
   ]
  },
  {
   "cell_type": "code",
   "execution_count": 134,
   "metadata": {},
   "outputs": [],
   "source": [
    "\n",
    "data['total_income_groups'] = data['total_income'].apply(lambda income: total_income_group(income))"
   ]
  },
  {
   "cell_type": "code",
   "execution_count": 135,
   "metadata": {},
   "outputs": [
    {
     "name": "stdout",
     "output_type": "stream",
     "text": [
      "middle income          12294\n",
      "low income              7855\n",
      "middle upper income     1222\n",
      "upper income              88\n",
      "very high income          12\n",
      "Name: total_income_groups, dtype: int64\n"
     ]
    }
   ],
   "source": [
    "# Getting summary statistics for the column\n",
    "print(data['total_income_groups'].value_counts())\n",
    "\n"
   ]
  },
  {
   "cell_type": "markdown",
   "metadata": {},
   "source": [
    "[Decide what ranges you will use for grouping and explain why.]"
   ]
  },
  {
   "cell_type": "code",
   "execution_count": 136,
   "metadata": {},
   "outputs": [
    {
     "data": {
      "text/plain": [
       "21495          middle income\n",
       "21496             low income\n",
       "21497          middle income\n",
       "21498          middle income\n",
       "21499          middle income\n",
       "21500             low income\n",
       "21501             low income\n",
       "21502          middle income\n",
       "21503          middle income\n",
       "21504             low income\n",
       "21505             low income\n",
       "21506          middle income\n",
       "21507             low income\n",
       "21508             low income\n",
       "21509             low income\n",
       "21510             low income\n",
       "21511          middle income\n",
       "21512          middle income\n",
       "21513          middle income\n",
       "21514    middle upper income\n",
       "21515             low income\n",
       "21516    middle upper income\n",
       "21517          middle income\n",
       "21518          middle income\n",
       "21519             low income\n",
       "21520          middle income\n",
       "21521          middle income\n",
       "21522             low income\n",
       "21523          middle income\n",
       "21524             low income\n",
       "Name: total_income_groups, dtype: object"
      ]
     },
     "execution_count": 136,
     "metadata": {},
     "output_type": "execute_result"
    }
   ],
   "source": [
    "# Creating function for categorizing into different numerical groups based on ranges\n",
    "#done\n",
    "data['total_income_groups'].tail(30)"
   ]
  },
  {
   "cell_type": "code",
   "execution_count": 137,
   "metadata": {
    "scrolled": true
   },
   "outputs": [
    {
     "data": {
      "text/html": [
       "<div>\n",
       "<style scoped>\n",
       "    .dataframe tbody tr th:only-of-type {\n",
       "        vertical-align: middle;\n",
       "    }\n",
       "\n",
       "    .dataframe tbody tr th {\n",
       "        vertical-align: top;\n",
       "    }\n",
       "\n",
       "    .dataframe thead th {\n",
       "        text-align: right;\n",
       "    }\n",
       "</style>\n",
       "<table border=\"1\" class=\"dataframe\">\n",
       "  <thead>\n",
       "    <tr style=\"text-align: right;\">\n",
       "      <th></th>\n",
       "      <th>children</th>\n",
       "      <th>days_employed</th>\n",
       "      <th>dob_years</th>\n",
       "      <th>education</th>\n",
       "      <th>education_id</th>\n",
       "      <th>family_status</th>\n",
       "      <th>family_status_id</th>\n",
       "      <th>gender</th>\n",
       "      <th>income_type</th>\n",
       "      <th>debt</th>\n",
       "      <th>total_income</th>\n",
       "      <th>purpose</th>\n",
       "      <th>age_group_test1</th>\n",
       "      <th>age_group</th>\n",
       "      <th>clean_purpose</th>\n",
       "      <th>total_income_groups</th>\n",
       "    </tr>\n",
       "  </thead>\n",
       "  <tbody>\n",
       "    <tr>\n",
       "      <th>0</th>\n",
       "      <td>1</td>\n",
       "      <td>8437.673028</td>\n",
       "      <td>42.0</td>\n",
       "      <td>bachelor's degree</td>\n",
       "      <td>0</td>\n",
       "      <td>married</td>\n",
       "      <td>0</td>\n",
       "      <td>F</td>\n",
       "      <td>employee</td>\n",
       "      <td>0</td>\n",
       "      <td>40620.102</td>\n",
       "      <td>purchase of the house</td>\n",
       "      <td>40-49</td>\n",
       "      <td>40-49</td>\n",
       "      <td>real estate</td>\n",
       "      <td>middle income</td>\n",
       "    </tr>\n",
       "    <tr>\n",
       "      <th>1</th>\n",
       "      <td>1</td>\n",
       "      <td>4024.803754</td>\n",
       "      <td>36.0</td>\n",
       "      <td>secondary education</td>\n",
       "      <td>1</td>\n",
       "      <td>married</td>\n",
       "      <td>0</td>\n",
       "      <td>F</td>\n",
       "      <td>employee</td>\n",
       "      <td>0</td>\n",
       "      <td>17932.802</td>\n",
       "      <td>car purchase</td>\n",
       "      <td>35-39</td>\n",
       "      <td>35-39</td>\n",
       "      <td>car</td>\n",
       "      <td>low income</td>\n",
       "    </tr>\n",
       "    <tr>\n",
       "      <th>2</th>\n",
       "      <td>0</td>\n",
       "      <td>5623.422610</td>\n",
       "      <td>33.0</td>\n",
       "      <td>Secondary Education</td>\n",
       "      <td>1</td>\n",
       "      <td>married</td>\n",
       "      <td>0</td>\n",
       "      <td>M</td>\n",
       "      <td>employee</td>\n",
       "      <td>0</td>\n",
       "      <td>23341.752</td>\n",
       "      <td>purchase of the house</td>\n",
       "      <td>26-34</td>\n",
       "      <td>26-34</td>\n",
       "      <td>real estate</td>\n",
       "      <td>middle income</td>\n",
       "    </tr>\n",
       "    <tr>\n",
       "      <th>3</th>\n",
       "      <td>3</td>\n",
       "      <td>4124.747207</td>\n",
       "      <td>32.0</td>\n",
       "      <td>secondary education</td>\n",
       "      <td>1</td>\n",
       "      <td>married</td>\n",
       "      <td>0</td>\n",
       "      <td>M</td>\n",
       "      <td>employee</td>\n",
       "      <td>0</td>\n",
       "      <td>42820.568</td>\n",
       "      <td>supplementary education</td>\n",
       "      <td>26-34</td>\n",
       "      <td>26-34</td>\n",
       "      <td>education</td>\n",
       "      <td>middle income</td>\n",
       "    </tr>\n",
       "    <tr>\n",
       "      <th>4</th>\n",
       "      <td>0</td>\n",
       "      <td>340266.072047</td>\n",
       "      <td>53.0</td>\n",
       "      <td>secondary education</td>\n",
       "      <td>1</td>\n",
       "      <td>civil partnership</td>\n",
       "      <td>1</td>\n",
       "      <td>F</td>\n",
       "      <td>retiree</td>\n",
       "      <td>0</td>\n",
       "      <td>25378.572</td>\n",
       "      <td>to have a wedding</td>\n",
       "      <td>50-59</td>\n",
       "      <td>50-59</td>\n",
       "      <td>wedding</td>\n",
       "      <td>middle income</td>\n",
       "    </tr>\n",
       "    <tr>\n",
       "      <th>5</th>\n",
       "      <td>0</td>\n",
       "      <td>926.185831</td>\n",
       "      <td>27.0</td>\n",
       "      <td>bachelor's degree</td>\n",
       "      <td>0</td>\n",
       "      <td>civil partnership</td>\n",
       "      <td>1</td>\n",
       "      <td>M</td>\n",
       "      <td>business</td>\n",
       "      <td>0</td>\n",
       "      <td>40922.170</td>\n",
       "      <td>purchase of the house</td>\n",
       "      <td>26-34</td>\n",
       "      <td>26-34</td>\n",
       "      <td>real estate</td>\n",
       "      <td>middle income</td>\n",
       "    </tr>\n",
       "    <tr>\n",
       "      <th>6</th>\n",
       "      <td>0</td>\n",
       "      <td>2879.202052</td>\n",
       "      <td>43.0</td>\n",
       "      <td>bachelor's degree</td>\n",
       "      <td>0</td>\n",
       "      <td>married</td>\n",
       "      <td>0</td>\n",
       "      <td>F</td>\n",
       "      <td>business</td>\n",
       "      <td>0</td>\n",
       "      <td>38484.156</td>\n",
       "      <td>housing transactions</td>\n",
       "      <td>40-49</td>\n",
       "      <td>40-49</td>\n",
       "      <td>real estate</td>\n",
       "      <td>middle income</td>\n",
       "    </tr>\n",
       "    <tr>\n",
       "      <th>7</th>\n",
       "      <td>0</td>\n",
       "      <td>152.779569</td>\n",
       "      <td>50.0</td>\n",
       "      <td>SECONDARY EDUCATION</td>\n",
       "      <td>1</td>\n",
       "      <td>married</td>\n",
       "      <td>0</td>\n",
       "      <td>M</td>\n",
       "      <td>employee</td>\n",
       "      <td>0</td>\n",
       "      <td>21731.829</td>\n",
       "      <td>education</td>\n",
       "      <td>50-59</td>\n",
       "      <td>50-59</td>\n",
       "      <td>education</td>\n",
       "      <td>middle income</td>\n",
       "    </tr>\n",
       "    <tr>\n",
       "      <th>8</th>\n",
       "      <td>2</td>\n",
       "      <td>6929.865299</td>\n",
       "      <td>35.0</td>\n",
       "      <td>BACHELOR'S DEGREE</td>\n",
       "      <td>0</td>\n",
       "      <td>civil partnership</td>\n",
       "      <td>1</td>\n",
       "      <td>F</td>\n",
       "      <td>employee</td>\n",
       "      <td>0</td>\n",
       "      <td>15337.093</td>\n",
       "      <td>having a wedding</td>\n",
       "      <td>35-39</td>\n",
       "      <td>35-39</td>\n",
       "      <td>wedding</td>\n",
       "      <td>low income</td>\n",
       "    </tr>\n",
       "    <tr>\n",
       "      <th>9</th>\n",
       "      <td>0</td>\n",
       "      <td>2188.756445</td>\n",
       "      <td>41.0</td>\n",
       "      <td>secondary education</td>\n",
       "      <td>1</td>\n",
       "      <td>married</td>\n",
       "      <td>0</td>\n",
       "      <td>M</td>\n",
       "      <td>employee</td>\n",
       "      <td>0</td>\n",
       "      <td>23108.150</td>\n",
       "      <td>purchase of the house for my family</td>\n",
       "      <td>40-49</td>\n",
       "      <td>40-49</td>\n",
       "      <td>real estate</td>\n",
       "      <td>middle income</td>\n",
       "    </tr>\n",
       "    <tr>\n",
       "      <th>10</th>\n",
       "      <td>2</td>\n",
       "      <td>4171.483647</td>\n",
       "      <td>36.0</td>\n",
       "      <td>bachelor's degree</td>\n",
       "      <td>0</td>\n",
       "      <td>married</td>\n",
       "      <td>0</td>\n",
       "      <td>M</td>\n",
       "      <td>business</td>\n",
       "      <td>0</td>\n",
       "      <td>18230.959</td>\n",
       "      <td>buy real estate</td>\n",
       "      <td>35-39</td>\n",
       "      <td>35-39</td>\n",
       "      <td>other</td>\n",
       "      <td>low income</td>\n",
       "    </tr>\n",
       "    <tr>\n",
       "      <th>11</th>\n",
       "      <td>0</td>\n",
       "      <td>792.701887</td>\n",
       "      <td>40.0</td>\n",
       "      <td>secondary education</td>\n",
       "      <td>1</td>\n",
       "      <td>married</td>\n",
       "      <td>0</td>\n",
       "      <td>F</td>\n",
       "      <td>employee</td>\n",
       "      <td>0</td>\n",
       "      <td>12331.077</td>\n",
       "      <td>buy commercial real estate</td>\n",
       "      <td>40-49</td>\n",
       "      <td>40-49</td>\n",
       "      <td>other</td>\n",
       "      <td>low income</td>\n",
       "    </tr>\n",
       "    <tr>\n",
       "      <th>12</th>\n",
       "      <td>0</td>\n",
       "      <td>1710.440205</td>\n",
       "      <td>65.0</td>\n",
       "      <td>secondary education</td>\n",
       "      <td>1</td>\n",
       "      <td>civil partnership</td>\n",
       "      <td>1</td>\n",
       "      <td>M</td>\n",
       "      <td>retiree</td>\n",
       "      <td>0</td>\n",
       "      <td>18655.606</td>\n",
       "      <td>to have a wedding</td>\n",
       "      <td>60-69</td>\n",
       "      <td>60-69</td>\n",
       "      <td>wedding</td>\n",
       "      <td>low income</td>\n",
       "    </tr>\n",
       "    <tr>\n",
       "      <th>13</th>\n",
       "      <td>0</td>\n",
       "      <td>1846.641941</td>\n",
       "      <td>54.0</td>\n",
       "      <td>some college</td>\n",
       "      <td>2</td>\n",
       "      <td>married</td>\n",
       "      <td>0</td>\n",
       "      <td>F</td>\n",
       "      <td>employee</td>\n",
       "      <td>0</td>\n",
       "      <td>20873.317</td>\n",
       "      <td>car purchase</td>\n",
       "      <td>50-59</td>\n",
       "      <td>50-59</td>\n",
       "      <td>car</td>\n",
       "      <td>middle income</td>\n",
       "    </tr>\n",
       "    <tr>\n",
       "      <th>14</th>\n",
       "      <td>0</td>\n",
       "      <td>1844.956182</td>\n",
       "      <td>56.0</td>\n",
       "      <td>bachelor's degree</td>\n",
       "      <td>0</td>\n",
       "      <td>civil partnership</td>\n",
       "      <td>1</td>\n",
       "      <td>F</td>\n",
       "      <td>business</td>\n",
       "      <td>1</td>\n",
       "      <td>26420.466</td>\n",
       "      <td>buy residential real estate</td>\n",
       "      <td>50-59</td>\n",
       "      <td>50-59</td>\n",
       "      <td>other</td>\n",
       "      <td>middle income</td>\n",
       "    </tr>\n",
       "    <tr>\n",
       "      <th>15</th>\n",
       "      <td>1</td>\n",
       "      <td>972.364419</td>\n",
       "      <td>26.0</td>\n",
       "      <td>secondary education</td>\n",
       "      <td>1</td>\n",
       "      <td>married</td>\n",
       "      <td>0</td>\n",
       "      <td>F</td>\n",
       "      <td>employee</td>\n",
       "      <td>0</td>\n",
       "      <td>18691.345</td>\n",
       "      <td>construction of own property</td>\n",
       "      <td>26-34</td>\n",
       "      <td>26-34</td>\n",
       "      <td>real estate</td>\n",
       "      <td>low income</td>\n",
       "    </tr>\n",
       "    <tr>\n",
       "      <th>16</th>\n",
       "      <td>0</td>\n",
       "      <td>1719.934226</td>\n",
       "      <td>35.0</td>\n",
       "      <td>secondary education</td>\n",
       "      <td>1</td>\n",
       "      <td>married</td>\n",
       "      <td>0</td>\n",
       "      <td>F</td>\n",
       "      <td>employee</td>\n",
       "      <td>0</td>\n",
       "      <td>46272.433</td>\n",
       "      <td>property</td>\n",
       "      <td>35-39</td>\n",
       "      <td>35-39</td>\n",
       "      <td>real estate</td>\n",
       "      <td>middle income</td>\n",
       "    </tr>\n",
       "    <tr>\n",
       "      <th>17</th>\n",
       "      <td>0</td>\n",
       "      <td>2369.999720</td>\n",
       "      <td>33.0</td>\n",
       "      <td>bachelor's degree</td>\n",
       "      <td>0</td>\n",
       "      <td>civil partnership</td>\n",
       "      <td>1</td>\n",
       "      <td>M</td>\n",
       "      <td>employee</td>\n",
       "      <td>0</td>\n",
       "      <td>14465.694</td>\n",
       "      <td>building a property</td>\n",
       "      <td>26-34</td>\n",
       "      <td>26-34</td>\n",
       "      <td>real estate</td>\n",
       "      <td>low income</td>\n",
       "    </tr>\n",
       "    <tr>\n",
       "      <th>18</th>\n",
       "      <td>0</td>\n",
       "      <td>400281.136913</td>\n",
       "      <td>53.0</td>\n",
       "      <td>secondary education</td>\n",
       "      <td>1</td>\n",
       "      <td>widow / widower</td>\n",
       "      <td>2</td>\n",
       "      <td>F</td>\n",
       "      <td>retiree</td>\n",
       "      <td>0</td>\n",
       "      <td>9091.804</td>\n",
       "      <td>buying a second-hand car</td>\n",
       "      <td>50-59</td>\n",
       "      <td>50-59</td>\n",
       "      <td>car</td>\n",
       "      <td>low income</td>\n",
       "    </tr>\n",
       "    <tr>\n",
       "      <th>19</th>\n",
       "      <td>0</td>\n",
       "      <td>10038.818549</td>\n",
       "      <td>48.0</td>\n",
       "      <td>SECONDARY EDUCATION</td>\n",
       "      <td>1</td>\n",
       "      <td>divorced</td>\n",
       "      <td>3</td>\n",
       "      <td>F</td>\n",
       "      <td>employee</td>\n",
       "      <td>0</td>\n",
       "      <td>38852.977</td>\n",
       "      <td>buying my own car</td>\n",
       "      <td>40-49</td>\n",
       "      <td>40-49</td>\n",
       "      <td>car</td>\n",
       "      <td>middle income</td>\n",
       "    </tr>\n",
       "    <tr>\n",
       "      <th>20</th>\n",
       "      <td>1</td>\n",
       "      <td>1311.604166</td>\n",
       "      <td>36.0</td>\n",
       "      <td>secondary education</td>\n",
       "      <td>1</td>\n",
       "      <td>married</td>\n",
       "      <td>0</td>\n",
       "      <td>M</td>\n",
       "      <td>employee</td>\n",
       "      <td>0</td>\n",
       "      <td>33528.423</td>\n",
       "      <td>property</td>\n",
       "      <td>35-39</td>\n",
       "      <td>35-39</td>\n",
       "      <td>real estate</td>\n",
       "      <td>middle income</td>\n",
       "    </tr>\n",
       "    <tr>\n",
       "      <th>21</th>\n",
       "      <td>1</td>\n",
       "      <td>253.685166</td>\n",
       "      <td>33.0</td>\n",
       "      <td>secondary education</td>\n",
       "      <td>1</td>\n",
       "      <td>civil partnership</td>\n",
       "      <td>1</td>\n",
       "      <td>F</td>\n",
       "      <td>employee</td>\n",
       "      <td>0</td>\n",
       "      <td>21089.953</td>\n",
       "      <td>car purchase</td>\n",
       "      <td>26-34</td>\n",
       "      <td>26-34</td>\n",
       "      <td>car</td>\n",
       "      <td>middle income</td>\n",
       "    </tr>\n",
       "    <tr>\n",
       "      <th>22</th>\n",
       "      <td>1</td>\n",
       "      <td>1766.644138</td>\n",
       "      <td>24.0</td>\n",
       "      <td>secondary education</td>\n",
       "      <td>1</td>\n",
       "      <td>civil partnership</td>\n",
       "      <td>1</td>\n",
       "      <td>F</td>\n",
       "      <td>employee</td>\n",
       "      <td>0</td>\n",
       "      <td>23948.983</td>\n",
       "      <td>buying a second-hand car</td>\n",
       "      <td>18-25</td>\n",
       "      <td>18-25</td>\n",
       "      <td>car</td>\n",
       "      <td>middle income</td>\n",
       "    </tr>\n",
       "    <tr>\n",
       "      <th>23</th>\n",
       "      <td>0</td>\n",
       "      <td>272.981385</td>\n",
       "      <td>21.0</td>\n",
       "      <td>bachelor's degree</td>\n",
       "      <td>0</td>\n",
       "      <td>civil partnership</td>\n",
       "      <td>1</td>\n",
       "      <td>M</td>\n",
       "      <td>employee</td>\n",
       "      <td>0</td>\n",
       "      <td>20522.515</td>\n",
       "      <td>to have a wedding</td>\n",
       "      <td>18-25</td>\n",
       "      <td>18-25</td>\n",
       "      <td>wedding</td>\n",
       "      <td>middle income</td>\n",
       "    </tr>\n",
       "    <tr>\n",
       "      <th>24</th>\n",
       "      <td>1</td>\n",
       "      <td>338551.952911</td>\n",
       "      <td>57.0</td>\n",
       "      <td>secondary education</td>\n",
       "      <td>1</td>\n",
       "      <td>unmarried</td>\n",
       "      <td>4</td>\n",
       "      <td>F</td>\n",
       "      <td>retiree</td>\n",
       "      <td>0</td>\n",
       "      <td>46487.558</td>\n",
       "      <td>transactions with commercial real estate</td>\n",
       "      <td>50-59</td>\n",
       "      <td>50-59</td>\n",
       "      <td>other</td>\n",
       "      <td>middle income</td>\n",
       "    </tr>\n",
       "    <tr>\n",
       "      <th>25</th>\n",
       "      <td>0</td>\n",
       "      <td>363548.489348</td>\n",
       "      <td>67.0</td>\n",
       "      <td>secondary education</td>\n",
       "      <td>1</td>\n",
       "      <td>married</td>\n",
       "      <td>0</td>\n",
       "      <td>M</td>\n",
       "      <td>retiree</td>\n",
       "      <td>0</td>\n",
       "      <td>8818.041</td>\n",
       "      <td>buy real estate</td>\n",
       "      <td>60-69</td>\n",
       "      <td>60-69</td>\n",
       "      <td>other</td>\n",
       "      <td>low income</td>\n",
       "    </tr>\n",
       "    <tr>\n",
       "      <th>26</th>\n",
       "      <td>0</td>\n",
       "      <td>1710.440205</td>\n",
       "      <td>41.0</td>\n",
       "      <td>secondary education</td>\n",
       "      <td>1</td>\n",
       "      <td>married</td>\n",
       "      <td>0</td>\n",
       "      <td>M</td>\n",
       "      <td>civil servant</td>\n",
       "      <td>0</td>\n",
       "      <td>27691.871</td>\n",
       "      <td>education</td>\n",
       "      <td>40-49</td>\n",
       "      <td>40-49</td>\n",
       "      <td>education</td>\n",
       "      <td>middle income</td>\n",
       "    </tr>\n",
       "    <tr>\n",
       "      <th>27</th>\n",
       "      <td>0</td>\n",
       "      <td>529.191635</td>\n",
       "      <td>28.0</td>\n",
       "      <td>bachelor's degree</td>\n",
       "      <td>0</td>\n",
       "      <td>married</td>\n",
       "      <td>0</td>\n",
       "      <td>M</td>\n",
       "      <td>employee</td>\n",
       "      <td>0</td>\n",
       "      <td>49415.837</td>\n",
       "      <td>construction of own property</td>\n",
       "      <td>26-34</td>\n",
       "      <td>26-34</td>\n",
       "      <td>real estate</td>\n",
       "      <td>middle income</td>\n",
       "    </tr>\n",
       "    <tr>\n",
       "      <th>28</th>\n",
       "      <td>1</td>\n",
       "      <td>717.274324</td>\n",
       "      <td>26.0</td>\n",
       "      <td>bachelor's degree</td>\n",
       "      <td>0</td>\n",
       "      <td>married</td>\n",
       "      <td>0</td>\n",
       "      <td>F</td>\n",
       "      <td>employee</td>\n",
       "      <td>0</td>\n",
       "      <td>30058.118</td>\n",
       "      <td>construction of own property</td>\n",
       "      <td>26-34</td>\n",
       "      <td>26-34</td>\n",
       "      <td>real estate</td>\n",
       "      <td>middle income</td>\n",
       "    </tr>\n",
       "    <tr>\n",
       "      <th>29</th>\n",
       "      <td>0</td>\n",
       "      <td>2890.224831</td>\n",
       "      <td>63.0</td>\n",
       "      <td>secondary education</td>\n",
       "      <td>1</td>\n",
       "      <td>unmarried</td>\n",
       "      <td>4</td>\n",
       "      <td>F</td>\n",
       "      <td>retiree</td>\n",
       "      <td>0</td>\n",
       "      <td>17749.072</td>\n",
       "      <td>building a real estate</td>\n",
       "      <td>60-69</td>\n",
       "      <td>60-69</td>\n",
       "      <td>other</td>\n",
       "      <td>low income</td>\n",
       "    </tr>\n",
       "  </tbody>\n",
       "</table>\n",
       "</div>"
      ],
      "text/plain": [
       "    children  days_employed  dob_years            education  education_id  \\\n",
       "0          1    8437.673028       42.0    bachelor's degree             0   \n",
       "1          1    4024.803754       36.0  secondary education             1   \n",
       "2          0    5623.422610       33.0  Secondary Education             1   \n",
       "3          3    4124.747207       32.0  secondary education             1   \n",
       "4          0  340266.072047       53.0  secondary education             1   \n",
       "5          0     926.185831       27.0    bachelor's degree             0   \n",
       "6          0    2879.202052       43.0    bachelor's degree             0   \n",
       "7          0     152.779569       50.0  SECONDARY EDUCATION             1   \n",
       "8          2    6929.865299       35.0    BACHELOR'S DEGREE             0   \n",
       "9          0    2188.756445       41.0  secondary education             1   \n",
       "10         2    4171.483647       36.0    bachelor's degree             0   \n",
       "11         0     792.701887       40.0  secondary education             1   \n",
       "12         0    1710.440205       65.0  secondary education             1   \n",
       "13         0    1846.641941       54.0         some college             2   \n",
       "14         0    1844.956182       56.0    bachelor's degree             0   \n",
       "15         1     972.364419       26.0  secondary education             1   \n",
       "16         0    1719.934226       35.0  secondary education             1   \n",
       "17         0    2369.999720       33.0    bachelor's degree             0   \n",
       "18         0  400281.136913       53.0  secondary education             1   \n",
       "19         0   10038.818549       48.0  SECONDARY EDUCATION             1   \n",
       "20         1    1311.604166       36.0  secondary education             1   \n",
       "21         1     253.685166       33.0  secondary education             1   \n",
       "22         1    1766.644138       24.0  secondary education             1   \n",
       "23         0     272.981385       21.0    bachelor's degree             0   \n",
       "24         1  338551.952911       57.0  secondary education             1   \n",
       "25         0  363548.489348       67.0  secondary education             1   \n",
       "26         0    1710.440205       41.0  secondary education             1   \n",
       "27         0     529.191635       28.0    bachelor's degree             0   \n",
       "28         1     717.274324       26.0    bachelor's degree             0   \n",
       "29         0    2890.224831       63.0  secondary education             1   \n",
       "\n",
       "        family_status  family_status_id gender    income_type  debt  \\\n",
       "0             married                 0      F       employee     0   \n",
       "1             married                 0      F       employee     0   \n",
       "2             married                 0      M       employee     0   \n",
       "3             married                 0      M       employee     0   \n",
       "4   civil partnership                 1      F        retiree     0   \n",
       "5   civil partnership                 1      M       business     0   \n",
       "6             married                 0      F       business     0   \n",
       "7             married                 0      M       employee     0   \n",
       "8   civil partnership                 1      F       employee     0   \n",
       "9             married                 0      M       employee     0   \n",
       "10            married                 0      M       business     0   \n",
       "11            married                 0      F       employee     0   \n",
       "12  civil partnership                 1      M        retiree     0   \n",
       "13            married                 0      F       employee     0   \n",
       "14  civil partnership                 1      F       business     1   \n",
       "15            married                 0      F       employee     0   \n",
       "16            married                 0      F       employee     0   \n",
       "17  civil partnership                 1      M       employee     0   \n",
       "18    widow / widower                 2      F        retiree     0   \n",
       "19           divorced                 3      F       employee     0   \n",
       "20            married                 0      M       employee     0   \n",
       "21  civil partnership                 1      F       employee     0   \n",
       "22  civil partnership                 1      F       employee     0   \n",
       "23  civil partnership                 1      M       employee     0   \n",
       "24          unmarried                 4      F        retiree     0   \n",
       "25            married                 0      M        retiree     0   \n",
       "26            married                 0      M  civil servant     0   \n",
       "27            married                 0      M       employee     0   \n",
       "28            married                 0      F       employee     0   \n",
       "29          unmarried                 4      F        retiree     0   \n",
       "\n",
       "    total_income                                   purpose age_group_test1  \\\n",
       "0      40620.102                     purchase of the house           40-49   \n",
       "1      17932.802                              car purchase           35-39   \n",
       "2      23341.752                     purchase of the house           26-34   \n",
       "3      42820.568                   supplementary education           26-34   \n",
       "4      25378.572                         to have a wedding           50-59   \n",
       "5      40922.170                     purchase of the house           26-34   \n",
       "6      38484.156                      housing transactions           40-49   \n",
       "7      21731.829                                 education           50-59   \n",
       "8      15337.093                          having a wedding           35-39   \n",
       "9      23108.150       purchase of the house for my family           40-49   \n",
       "10     18230.959                           buy real estate           35-39   \n",
       "11     12331.077                buy commercial real estate           40-49   \n",
       "12     18655.606                         to have a wedding           60-69   \n",
       "13     20873.317                              car purchase           50-59   \n",
       "14     26420.466               buy residential real estate           50-59   \n",
       "15     18691.345              construction of own property           26-34   \n",
       "16     46272.433                                  property           35-39   \n",
       "17     14465.694                       building a property           26-34   \n",
       "18      9091.804                  buying a second-hand car           50-59   \n",
       "19     38852.977                         buying my own car           40-49   \n",
       "20     33528.423                                  property           35-39   \n",
       "21     21089.953                              car purchase           26-34   \n",
       "22     23948.983                  buying a second-hand car           18-25   \n",
       "23     20522.515                         to have a wedding           18-25   \n",
       "24     46487.558  transactions with commercial real estate           50-59   \n",
       "25      8818.041                           buy real estate           60-69   \n",
       "26     27691.871                                 education           40-49   \n",
       "27     49415.837              construction of own property           26-34   \n",
       "28     30058.118              construction of own property           26-34   \n",
       "29     17749.072                    building a real estate           60-69   \n",
       "\n",
       "   age_group clean_purpose total_income_groups  \n",
       "0      40-49   real estate       middle income  \n",
       "1      35-39           car          low income  \n",
       "2      26-34   real estate       middle income  \n",
       "3      26-34     education       middle income  \n",
       "4      50-59       wedding       middle income  \n",
       "5      26-34   real estate       middle income  \n",
       "6      40-49   real estate       middle income  \n",
       "7      50-59     education       middle income  \n",
       "8      35-39       wedding          low income  \n",
       "9      40-49   real estate       middle income  \n",
       "10     35-39         other          low income  \n",
       "11     40-49         other          low income  \n",
       "12     60-69       wedding          low income  \n",
       "13     50-59           car       middle income  \n",
       "14     50-59         other       middle income  \n",
       "15     26-34   real estate          low income  \n",
       "16     35-39   real estate       middle income  \n",
       "17     26-34   real estate          low income  \n",
       "18     50-59           car          low income  \n",
       "19     40-49           car       middle income  \n",
       "20     35-39   real estate       middle income  \n",
       "21     26-34           car       middle income  \n",
       "22     18-25           car       middle income  \n",
       "23     18-25       wedding       middle income  \n",
       "24     50-59         other       middle income  \n",
       "25     60-69         other          low income  \n",
       "26     40-49     education       middle income  \n",
       "27     26-34   real estate       middle income  \n",
       "28     26-34   real estate       middle income  \n",
       "29     60-69         other          low income  "
      ]
     },
     "execution_count": 137,
     "metadata": {},
     "output_type": "execute_result"
    }
   ],
   "source": [
    "# Count each categories values to see the distribution\n",
    "data.head(30)\n"
   ]
  },
  {
   "cell_type": "markdown",
   "metadata": {},
   "source": [
    "## Checking the Hypotheses\n"
   ]
  },
  {
   "cell_type": "markdown",
   "metadata": {},
   "source": [
    "**Is there a correlation between having children and paying back on time?**"
   ]
  },
  {
   "cell_type": "code",
   "execution_count": 138,
   "metadata": {},
   "outputs": [],
   "source": [
    "children_count=data['children'].value_counts()"
   ]
  },
  {
   "cell_type": "code",
   "execution_count": 139,
   "metadata": {},
   "outputs": [
    {
     "name": "stdout",
     "output_type": "stream",
     "text": [
      "children  debt\n",
      "0         0       13044\n",
      "          1        1063\n",
      "1         0        4411\n",
      "          1         445\n",
      "2         0        1926\n",
      "          1         202\n",
      "3         0         303\n",
      "          1          27\n",
      "4         0          37\n",
      "          1           4\n",
      "5         0           9\n",
      "Name: debt, dtype: int64\n"
     ]
    }
   ],
   "source": [
    "# Check the children data and paying back on time\n",
    "grouped_children_debt=data.groupby(['children','debt'])['debt'].size()\n",
    "\n",
    "print(grouped_children_debt)\n",
    "\n",
    "\n",
    "\n"
   ]
  },
  {
   "cell_type": "code",
   "execution_count": 140,
   "metadata": {},
   "outputs": [
    {
     "name": "stdout",
     "output_type": "stream",
     "text": [
      "          debt\n",
      "children      \n",
      "0         1063\n",
      "1          445\n",
      "2          202\n",
      "3           27\n",
      "4            4\n",
      "5            0\n"
     ]
    }
   ],
   "source": [
    "data_pivot_1= data.pivot_table(index='children', values='debt', aggfunc='sum')\n",
    "\n",
    "print(data_pivot_1)"
   ]
  },
  {
   "cell_type": "code",
   "execution_count": 141,
   "metadata": {},
   "outputs": [
    {
     "name": "stdout",
     "output_type": "stream",
     "text": [
      "          debt  default_rate_children\n",
      "children                             \n",
      "0         1063               7.535266\n",
      "1          445               9.163921\n",
      "2          202               9.492481\n",
      "3           27               8.181818\n",
      "4            4               9.756098\n",
      "5            0               0.000000\n"
     ]
    }
   ],
   "source": [
    "# add a 'ratio' column\n",
    "\n",
    "data_pivot_1['default_rate_children']=(data_pivot_1['debt'] / children_count)*100\n",
    "\n",
    "print(data_pivot_1)"
   ]
  },
  {
   "cell_type": "code",
   "execution_count": 142,
   "metadata": {},
   "outputs": [
    {
     "data": {
      "text/html": [
       "<div>\n",
       "<style scoped>\n",
       "    .dataframe tbody tr th:only-of-type {\n",
       "        vertical-align: middle;\n",
       "    }\n",
       "\n",
       "    .dataframe tbody tr th {\n",
       "        vertical-align: top;\n",
       "    }\n",
       "\n",
       "    .dataframe thead th {\n",
       "        text-align: right;\n",
       "    }\n",
       "</style>\n",
       "<table border=\"1\" class=\"dataframe\">\n",
       "  <thead>\n",
       "    <tr style=\"text-align: right;\">\n",
       "      <th></th>\n",
       "      <th>Count</th>\n",
       "      <th>Sum</th>\n",
       "      <th>Mean</th>\n",
       "    </tr>\n",
       "    <tr>\n",
       "      <th>children</th>\n",
       "      <th></th>\n",
       "      <th></th>\n",
       "      <th></th>\n",
       "    </tr>\n",
       "  </thead>\n",
       "  <tbody>\n",
       "    <tr>\n",
       "      <th>0</th>\n",
       "      <td>14107</td>\n",
       "      <td>1063</td>\n",
       "      <td>0.075353</td>\n",
       "    </tr>\n",
       "    <tr>\n",
       "      <th>1</th>\n",
       "      <td>4856</td>\n",
       "      <td>445</td>\n",
       "      <td>0.091639</td>\n",
       "    </tr>\n",
       "    <tr>\n",
       "      <th>2</th>\n",
       "      <td>2128</td>\n",
       "      <td>202</td>\n",
       "      <td>0.094925</td>\n",
       "    </tr>\n",
       "    <tr>\n",
       "      <th>3</th>\n",
       "      <td>330</td>\n",
       "      <td>27</td>\n",
       "      <td>0.081818</td>\n",
       "    </tr>\n",
       "    <tr>\n",
       "      <th>4</th>\n",
       "      <td>41</td>\n",
       "      <td>4</td>\n",
       "      <td>0.097561</td>\n",
       "    </tr>\n",
       "    <tr>\n",
       "      <th>5</th>\n",
       "      <td>9</td>\n",
       "      <td>0</td>\n",
       "      <td>0.000000</td>\n",
       "    </tr>\n",
       "  </tbody>\n",
       "</table>\n",
       "</div>"
      ],
      "text/plain": [
       "          Count   Sum      Mean\n",
       "children                       \n",
       "0         14107  1063  0.075353\n",
       "1          4856   445  0.091639\n",
       "2          2128   202  0.094925\n",
       "3           330    27  0.081818\n",
       "4            41     4  0.097561\n",
       "5             9     0  0.000000"
      ]
     },
     "metadata": {},
     "output_type": "display_data"
    }
   ],
   "source": [
    "default_rate_children = data.groupby('children')['debt'].agg(Count='count', Sum='sum', Mean = 'mean')\n",
    "display(default_rate_children)\n"
   ]
  },
  {
   "cell_type": "markdown",
   "metadata": {},
   "source": [
    "We obtained a  table with sum of client with debts per number of children. Since debt=0 and deb=1, the fuction sum() will return us the total amount of clients with debt. If we look at the variable grouped_children_debt, we can easily see that for same number of children, there are more client without debt, then clients with debt."
   ]
  },
  {
   "cell_type": "markdown",
   "metadata": {},
   "source": [
    "**Conclusion**\n",
    "\n",
    "\n",
    "Based on ratio of clients with children and having ever defaulted a loan, we can assess that there isn't correlation between the two.\n"
   ]
  },
  {
   "cell_type": "markdown",
   "metadata": {},
   "source": [
    "**Is there a correlation between family status and paying back on time?**"
   ]
  },
  {
   "cell_type": "markdown",
   "metadata": {},
   "source": [
    "Following the same code and thinking process as before: comparing debt an family status on a pivot table and adding defaulting ratew column to the pivot table.By observation, determine if there is a connection between the catacteristics."
   ]
  },
  {
   "cell_type": "code",
   "execution_count": 143,
   "metadata": {},
   "outputs": [
    {
     "name": "stdout",
     "output_type": "stream",
     "text": [
      "family_status      debt\n",
      "civil partnership  0        3775\n",
      "                   1         388\n",
      "divorced           0        1110\n",
      "                   1          85\n",
      "married            0       11413\n",
      "                   1         931\n",
      "unmarried          0        2536\n",
      "                   1         274\n",
      "widow / widower    0         896\n",
      "                   1          63\n",
      "Name: debt, dtype: int64\n"
     ]
    }
   ],
   "source": [
    "# Check the family status data and paying back on time\n",
    "family_status_debt=data.groupby(['family_status','debt'])['debt'].size()\n",
    "\n",
    "print(family_status_debt)\n",
    "\n",
    "\n",
    "# Calculating default-rate based on family status\n",
    "\n"
   ]
  },
  {
   "cell_type": "code",
   "execution_count": 144,
   "metadata": {},
   "outputs": [
    {
     "name": "stdout",
     "output_type": "stream",
     "text": [
      "                   debt\n",
      "family_status          \n",
      "civil partnership   388\n",
      "divorced             85\n",
      "married             931\n",
      "unmarried           274\n",
      "widow / widower      63\n"
     ]
    }
   ],
   "source": [
    "data_pivot_2 = data.pivot_table(index='family_status', values='debt', aggfunc='sum')\n",
    "\n",
    "print(data_pivot_2)"
   ]
  },
  {
   "cell_type": "code",
   "execution_count": 145,
   "metadata": {},
   "outputs": [
    {
     "name": "stdout",
     "output_type": "stream",
     "text": [
      "married              12344\n",
      "civil partnership     4163\n",
      "unmarried             2810\n",
      "divorced              1195\n",
      "widow / widower        959\n",
      "Name: family_status, dtype: int64\n"
     ]
    }
   ],
   "source": [
    "family_status_count=data['family_status'].value_counts()\n",
    "print(family_status_count)"
   ]
  },
  {
   "cell_type": "code",
   "execution_count": 146,
   "metadata": {},
   "outputs": [
    {
     "data": {
      "text/html": [
       "<div>\n",
       "<style scoped>\n",
       "    .dataframe tbody tr th:only-of-type {\n",
       "        vertical-align: middle;\n",
       "    }\n",
       "\n",
       "    .dataframe tbody tr th {\n",
       "        vertical-align: top;\n",
       "    }\n",
       "\n",
       "    .dataframe thead th {\n",
       "        text-align: right;\n",
       "    }\n",
       "</style>\n",
       "<table border=\"1\" class=\"dataframe\">\n",
       "  <thead>\n",
       "    <tr style=\"text-align: right;\">\n",
       "      <th></th>\n",
       "      <th>debt</th>\n",
       "      <th>default_rate_family_status</th>\n",
       "    </tr>\n",
       "    <tr>\n",
       "      <th>family_status</th>\n",
       "      <th></th>\n",
       "      <th></th>\n",
       "    </tr>\n",
       "  </thead>\n",
       "  <tbody>\n",
       "    <tr>\n",
       "      <th>civil partnership</th>\n",
       "      <td>388</td>\n",
       "      <td>9.320202</td>\n",
       "    </tr>\n",
       "    <tr>\n",
       "      <th>divorced</th>\n",
       "      <td>85</td>\n",
       "      <td>7.112971</td>\n",
       "    </tr>\n",
       "    <tr>\n",
       "      <th>married</th>\n",
       "      <td>931</td>\n",
       "      <td>7.542126</td>\n",
       "    </tr>\n",
       "    <tr>\n",
       "      <th>unmarried</th>\n",
       "      <td>274</td>\n",
       "      <td>9.750890</td>\n",
       "    </tr>\n",
       "    <tr>\n",
       "      <th>widow / widower</th>\n",
       "      <td>63</td>\n",
       "      <td>6.569343</td>\n",
       "    </tr>\n",
       "  </tbody>\n",
       "</table>\n",
       "</div>"
      ],
      "text/plain": [
       "                   debt  default_rate_family_status\n",
       "family_status                                      \n",
       "civil partnership   388                    9.320202\n",
       "divorced             85                    7.112971\n",
       "married             931                    7.542126\n",
       "unmarried           274                    9.750890\n",
       "widow / widower      63                    6.569343"
      ]
     },
     "metadata": {},
     "output_type": "display_data"
    }
   ],
   "source": [
    "# add a 'ratio' column\n",
    "\n",
    "data_pivot_2['default_rate_family_status']=(data_pivot_2['debt'] /family_status_count )*100\n",
    "\n",
    "display(data_pivot_2)"
   ]
  },
  {
   "cell_type": "code",
   "execution_count": 147,
   "metadata": {},
   "outputs": [
    {
     "data": {
      "text/html": [
       "<div>\n",
       "<style scoped>\n",
       "    .dataframe tbody tr th:only-of-type {\n",
       "        vertical-align: middle;\n",
       "    }\n",
       "\n",
       "    .dataframe tbody tr th {\n",
       "        vertical-align: top;\n",
       "    }\n",
       "\n",
       "    .dataframe thead th {\n",
       "        text-align: right;\n",
       "    }\n",
       "</style>\n",
       "<table border=\"1\" class=\"dataframe\">\n",
       "  <thead>\n",
       "    <tr style=\"text-align: right;\">\n",
       "      <th></th>\n",
       "      <th>Count</th>\n",
       "      <th>Sum</th>\n",
       "      <th>Mean</th>\n",
       "    </tr>\n",
       "    <tr>\n",
       "      <th>family_status</th>\n",
       "      <th></th>\n",
       "      <th></th>\n",
       "      <th></th>\n",
       "    </tr>\n",
       "  </thead>\n",
       "  <tbody>\n",
       "    <tr>\n",
       "      <th>civil partnership</th>\n",
       "      <td>4163</td>\n",
       "      <td>388</td>\n",
       "      <td>0.093202</td>\n",
       "    </tr>\n",
       "    <tr>\n",
       "      <th>divorced</th>\n",
       "      <td>1195</td>\n",
       "      <td>85</td>\n",
       "      <td>0.071130</td>\n",
       "    </tr>\n",
       "    <tr>\n",
       "      <th>married</th>\n",
       "      <td>12344</td>\n",
       "      <td>931</td>\n",
       "      <td>0.075421</td>\n",
       "    </tr>\n",
       "    <tr>\n",
       "      <th>unmarried</th>\n",
       "      <td>2810</td>\n",
       "      <td>274</td>\n",
       "      <td>0.097509</td>\n",
       "    </tr>\n",
       "    <tr>\n",
       "      <th>widow / widower</th>\n",
       "      <td>959</td>\n",
       "      <td>63</td>\n",
       "      <td>0.065693</td>\n",
       "    </tr>\n",
       "  </tbody>\n",
       "</table>\n",
       "</div>"
      ],
      "text/plain": [
       "                   Count  Sum      Mean\n",
       "family_status                          \n",
       "civil partnership   4163  388  0.093202\n",
       "divorced            1195   85  0.071130\n",
       "married            12344  931  0.075421\n",
       "unmarried           2810  274  0.097509\n",
       "widow / widower      959   63  0.065693"
      ]
     },
     "metadata": {},
     "output_type": "display_data"
    }
   ],
   "source": [
    "default_rate_family_status=data.groupby('family_status')['debt'].agg(Count='count', Sum='sum', Mean = 'mean')\n",
    "display(default_rate_family_status)"
   ]
  },
  {
   "cell_type": "markdown",
   "metadata": {},
   "source": [
    "**Conclusion**\n",
    "\n",
    "Also in this case we don't see a significant default rate difference among the family status categories, for all categories, the default rate ranges between 6 to 9 %\n"
   ]
  },
  {
   "cell_type": "markdown",
   "metadata": {},
   "source": [
    "**Is there a correlation between income level and paying back on time?**"
   ]
  },
  {
   "cell_type": "code",
   "execution_count": 148,
   "metadata": {},
   "outputs": [
    {
     "name": "stdout",
     "output_type": "stream",
     "text": [
      "total_income_groups  debt\n",
      "low income           0        7200\n",
      "                     1         655\n",
      "middle income        0       11300\n",
      "                     1         994\n",
      "middle upper income  0        1136\n",
      "                     1          86\n",
      "upper income         0          83\n",
      "                     1           5\n",
      "very high income     0          11\n",
      "                     1           1\n",
      "Name: debt, dtype: int64\n"
     ]
    }
   ],
   "source": [
    "# Check the income level data and paying back on time\n",
    "\n",
    "total_income_groups_debt=data.groupby(['total_income_groups','debt'])['debt'].size()\n",
    "\n",
    "print(total_income_groups_debt)\n",
    "\n",
    "\n",
    "# Calculating default-rate based on income level\n",
    "\n"
   ]
  },
  {
   "cell_type": "code",
   "execution_count": 149,
   "metadata": {},
   "outputs": [
    {
     "name": "stdout",
     "output_type": "stream",
     "text": [
      "middle income          12294\n",
      "low income              7855\n",
      "middle upper income     1222\n",
      "upper income              88\n",
      "very high income          12\n",
      "Name: total_income_groups, dtype: int64\n"
     ]
    }
   ],
   "source": [
    "total_income_groups_count=data['total_income_groups'].value_counts()\n",
    "print(total_income_groups_count)"
   ]
  },
  {
   "cell_type": "code",
   "execution_count": 150,
   "metadata": {},
   "outputs": [
    {
     "name": "stdout",
     "output_type": "stream",
     "text": [
      "                     debt\n",
      "total_income_groups      \n",
      "low income            655\n",
      "middle income         994\n",
      "middle upper income    86\n",
      "upper income            5\n",
      "very high income        1\n"
     ]
    }
   ],
   "source": [
    "data_pivot_3 = data.pivot_table(index='total_income_groups', values='debt', aggfunc='sum')\n",
    "\n",
    "print(data_pivot_3)"
   ]
  },
  {
   "cell_type": "code",
   "execution_count": 151,
   "metadata": {},
   "outputs": [
    {
     "name": "stdout",
     "output_type": "stream",
     "text": [
      "                     debt  default_rate_total_income_group\n",
      "total_income_groups                                       \n",
      "low income            655                         8.338638\n",
      "middle income         994                         8.085245\n",
      "middle upper income    86                         7.037643\n",
      "upper income            5                         5.681818\n",
      "very high income        1                         8.333333\n"
     ]
    }
   ],
   "source": [
    "data_pivot_3['default_rate_total_income_group']=(data_pivot_3['debt'] /total_income_groups_count)*100\n",
    "\n",
    "print(data_pivot_3)"
   ]
  },
  {
   "cell_type": "code",
   "execution_count": 152,
   "metadata": {},
   "outputs": [
    {
     "data": {
      "text/html": [
       "<div>\n",
       "<style scoped>\n",
       "    .dataframe tbody tr th:only-of-type {\n",
       "        vertical-align: middle;\n",
       "    }\n",
       "\n",
       "    .dataframe tbody tr th {\n",
       "        vertical-align: top;\n",
       "    }\n",
       "\n",
       "    .dataframe thead th {\n",
       "        text-align: right;\n",
       "    }\n",
       "</style>\n",
       "<table border=\"1\" class=\"dataframe\">\n",
       "  <thead>\n",
       "    <tr style=\"text-align: right;\">\n",
       "      <th></th>\n",
       "      <th>Count</th>\n",
       "      <th>Sum</th>\n",
       "      <th>Mean</th>\n",
       "    </tr>\n",
       "    <tr>\n",
       "      <th>total_income_groups</th>\n",
       "      <th></th>\n",
       "      <th></th>\n",
       "      <th></th>\n",
       "    </tr>\n",
       "  </thead>\n",
       "  <tbody>\n",
       "    <tr>\n",
       "      <th>low income</th>\n",
       "      <td>7855</td>\n",
       "      <td>655</td>\n",
       "      <td>0.083386</td>\n",
       "    </tr>\n",
       "    <tr>\n",
       "      <th>middle income</th>\n",
       "      <td>12294</td>\n",
       "      <td>994</td>\n",
       "      <td>0.080852</td>\n",
       "    </tr>\n",
       "    <tr>\n",
       "      <th>middle upper income</th>\n",
       "      <td>1222</td>\n",
       "      <td>86</td>\n",
       "      <td>0.070376</td>\n",
       "    </tr>\n",
       "    <tr>\n",
       "      <th>upper income</th>\n",
       "      <td>88</td>\n",
       "      <td>5</td>\n",
       "      <td>0.056818</td>\n",
       "    </tr>\n",
       "    <tr>\n",
       "      <th>very high income</th>\n",
       "      <td>12</td>\n",
       "      <td>1</td>\n",
       "      <td>0.083333</td>\n",
       "    </tr>\n",
       "  </tbody>\n",
       "</table>\n",
       "</div>"
      ],
      "text/plain": [
       "                     Count  Sum      Mean\n",
       "total_income_groups                      \n",
       "low income            7855  655  0.083386\n",
       "middle income        12294  994  0.080852\n",
       "middle upper income   1222   86  0.070376\n",
       "upper income            88    5  0.056818\n",
       "very high income        12    1  0.083333"
      ]
     },
     "metadata": {},
     "output_type": "display_data"
    }
   ],
   "source": [
    "default_rate_total_income_groups=data.groupby('total_income_groups')['debt'].agg(Count='count', Sum='sum', Mean = 'mean')\n",
    "display(default_rate_total_income_groups)"
   ]
  },
  {
   "cell_type": "markdown",
   "metadata": {},
   "source": [
    "**Conclusion**\n",
    "From this third pivot table, we can observe that for all categories of income, the rate of default, ranges between 6 to 8. We can assess that not even the income level define a higher or lower risk, however I would not underestimate 1.6% if we are talking about numbers in some mid-big bank."
   ]
  },
  {
   "cell_type": "markdown",
   "metadata": {},
   "source": [
    "**How does credit purpose affect the default rate?**"
   ]
  },
  {
   "cell_type": "code",
   "execution_count": 153,
   "metadata": {},
   "outputs": [
    {
     "name": "stdout",
     "output_type": "stream",
     "text": [
      "clean_purpose  debt\n",
      "car            0       3905\n",
      "               1        403\n",
      "education      0       3644\n",
      "               1        370\n",
      "other          0       4130\n",
      "               1        336\n",
      "real estate    0       5902\n",
      "               1        446\n",
      "wedding        0       2149\n",
      "               1        186\n",
      "Name: debt, dtype: int64\n"
     ]
    }
   ],
   "source": [
    "# Check the percentages for default rate for each credit purpose and analyze them\n",
    "\n",
    "credit_purpose_debt=data.groupby(['clean_purpose','debt'])['debt'].size()\n",
    "\n",
    "print(credit_purpose_debt)"
   ]
  },
  {
   "cell_type": "code",
   "execution_count": 154,
   "metadata": {},
   "outputs": [
    {
     "name": "stdout",
     "output_type": "stream",
     "text": [
      "real estate    6348\n",
      "other          4466\n",
      "car            4308\n",
      "education      4014\n",
      "wedding        2335\n",
      "Name: clean_purpose, dtype: int64\n"
     ]
    }
   ],
   "source": [
    "credit_purpose_count=data['clean_purpose'].value_counts()\n",
    "print(credit_purpose_count)"
   ]
  },
  {
   "cell_type": "code",
   "execution_count": 155,
   "metadata": {},
   "outputs": [
    {
     "name": "stdout",
     "output_type": "stream",
     "text": [
      "               debt\n",
      "clean_purpose      \n",
      "car             403\n",
      "education       370\n",
      "other           336\n",
      "real estate     446\n",
      "wedding         186\n"
     ]
    }
   ],
   "source": [
    "data_pivot_4 = data.pivot_table(index='clean_purpose', values='debt', aggfunc='sum')\n",
    "\n",
    "print(data_pivot_4)"
   ]
  },
  {
   "cell_type": "code",
   "execution_count": 156,
   "metadata": {},
   "outputs": [
    {
     "name": "stdout",
     "output_type": "stream",
     "text": [
      "               debt  default_rate_credit_purpose\n",
      "clean_purpose                                   \n",
      "car             403                     9.354689\n",
      "education       370                     9.217738\n",
      "other           336                     7.523511\n",
      "real estate     446                     7.025835\n",
      "wedding         186                     7.965739\n"
     ]
    }
   ],
   "source": [
    "data_pivot_4['default_rate_credit_purpose']=(data_pivot_4['debt'] /credit_purpose_count)*100\n",
    "\n",
    "print(data_pivot_4)"
   ]
  },
  {
   "cell_type": "code",
   "execution_count": 157,
   "metadata": {},
   "outputs": [
    {
     "data": {
      "text/html": [
       "<div>\n",
       "<style scoped>\n",
       "    .dataframe tbody tr th:only-of-type {\n",
       "        vertical-align: middle;\n",
       "    }\n",
       "\n",
       "    .dataframe tbody tr th {\n",
       "        vertical-align: top;\n",
       "    }\n",
       "\n",
       "    .dataframe thead th {\n",
       "        text-align: right;\n",
       "    }\n",
       "</style>\n",
       "<table border=\"1\" class=\"dataframe\">\n",
       "  <thead>\n",
       "    <tr style=\"text-align: right;\">\n",
       "      <th></th>\n",
       "      <th>Count</th>\n",
       "      <th>Sum</th>\n",
       "      <th>Mean</th>\n",
       "    </tr>\n",
       "    <tr>\n",
       "      <th>clean_purpose</th>\n",
       "      <th></th>\n",
       "      <th></th>\n",
       "      <th></th>\n",
       "    </tr>\n",
       "  </thead>\n",
       "  <tbody>\n",
       "    <tr>\n",
       "      <th>car</th>\n",
       "      <td>4308</td>\n",
       "      <td>403</td>\n",
       "      <td>0.093547</td>\n",
       "    </tr>\n",
       "    <tr>\n",
       "      <th>education</th>\n",
       "      <td>4014</td>\n",
       "      <td>370</td>\n",
       "      <td>0.092177</td>\n",
       "    </tr>\n",
       "    <tr>\n",
       "      <th>other</th>\n",
       "      <td>4466</td>\n",
       "      <td>336</td>\n",
       "      <td>0.075235</td>\n",
       "    </tr>\n",
       "    <tr>\n",
       "      <th>real estate</th>\n",
       "      <td>6348</td>\n",
       "      <td>446</td>\n",
       "      <td>0.070258</td>\n",
       "    </tr>\n",
       "    <tr>\n",
       "      <th>wedding</th>\n",
       "      <td>2335</td>\n",
       "      <td>186</td>\n",
       "      <td>0.079657</td>\n",
       "    </tr>\n",
       "  </tbody>\n",
       "</table>\n",
       "</div>"
      ],
      "text/plain": [
       "               Count  Sum      Mean\n",
       "clean_purpose                      \n",
       "car             4308  403  0.093547\n",
       "education       4014  370  0.092177\n",
       "other           4466  336  0.075235\n",
       "real estate     6348  446  0.070258\n",
       "wedding         2335  186  0.079657"
      ]
     },
     "metadata": {},
     "output_type": "display_data"
    }
   ],
   "source": [
    "default_rate_credit_purpose=data.groupby('clean_purpose')['debt'].agg(Count='count', Sum='sum', Mean = 'mean')\n",
    "display(default_rate_credit_purpose)"
   ]
  },
  {
   "cell_type": "markdown",
   "metadata": {},
   "source": [
    "**Conclusion**\n",
    "\n",
    "in this last pivot table, we can observe again a small range od defaulting rate, between 7 to 9, similar for all credit purposes.\n"
   ]
  },
  {
   "cell_type": "code",
   "execution_count": 158,
   "metadata": {},
   "outputs": [
    {
     "data": {
      "text/html": [
       "<div>\n",
       "<style scoped>\n",
       "    .dataframe tbody tr th:only-of-type {\n",
       "        vertical-align: middle;\n",
       "    }\n",
       "\n",
       "    .dataframe tbody tr th {\n",
       "        vertical-align: top;\n",
       "    }\n",
       "\n",
       "    .dataframe thead th {\n",
       "        text-align: right;\n",
       "    }\n",
       "</style>\n",
       "<table border=\"1\" class=\"dataframe\">\n",
       "  <thead>\n",
       "    <tr style=\"text-align: right;\">\n",
       "      <th></th>\n",
       "      <th>debt</th>\n",
       "      <th>default_rate_children</th>\n",
       "    </tr>\n",
       "    <tr>\n",
       "      <th>children</th>\n",
       "      <th></th>\n",
       "      <th></th>\n",
       "    </tr>\n",
       "  </thead>\n",
       "  <tbody>\n",
       "    <tr>\n",
       "      <th>0</th>\n",
       "      <td>1063</td>\n",
       "      <td>7.535266</td>\n",
       "    </tr>\n",
       "    <tr>\n",
       "      <th>1</th>\n",
       "      <td>445</td>\n",
       "      <td>9.163921</td>\n",
       "    </tr>\n",
       "    <tr>\n",
       "      <th>2</th>\n",
       "      <td>202</td>\n",
       "      <td>9.492481</td>\n",
       "    </tr>\n",
       "    <tr>\n",
       "      <th>3</th>\n",
       "      <td>27</td>\n",
       "      <td>8.181818</td>\n",
       "    </tr>\n",
       "    <tr>\n",
       "      <th>4</th>\n",
       "      <td>4</td>\n",
       "      <td>9.756098</td>\n",
       "    </tr>\n",
       "    <tr>\n",
       "      <th>5</th>\n",
       "      <td>0</td>\n",
       "      <td>0.000000</td>\n",
       "    </tr>\n",
       "  </tbody>\n",
       "</table>\n",
       "</div>"
      ],
      "text/plain": [
       "          debt  default_rate_children\n",
       "children                             \n",
       "0         1063               7.535266\n",
       "1          445               9.163921\n",
       "2          202               9.492481\n",
       "3           27               8.181818\n",
       "4            4               9.756098\n",
       "5            0               0.000000"
      ]
     },
     "metadata": {},
     "output_type": "display_data"
    },
    {
     "data": {
      "text/html": [
       "<div>\n",
       "<style scoped>\n",
       "    .dataframe tbody tr th:only-of-type {\n",
       "        vertical-align: middle;\n",
       "    }\n",
       "\n",
       "    .dataframe tbody tr th {\n",
       "        vertical-align: top;\n",
       "    }\n",
       "\n",
       "    .dataframe thead th {\n",
       "        text-align: right;\n",
       "    }\n",
       "</style>\n",
       "<table border=\"1\" class=\"dataframe\">\n",
       "  <thead>\n",
       "    <tr style=\"text-align: right;\">\n",
       "      <th></th>\n",
       "      <th>debt</th>\n",
       "      <th>default_rate_family_status</th>\n",
       "    </tr>\n",
       "    <tr>\n",
       "      <th>family_status</th>\n",
       "      <th></th>\n",
       "      <th></th>\n",
       "    </tr>\n",
       "  </thead>\n",
       "  <tbody>\n",
       "    <tr>\n",
       "      <th>civil partnership</th>\n",
       "      <td>388</td>\n",
       "      <td>9.320202</td>\n",
       "    </tr>\n",
       "    <tr>\n",
       "      <th>divorced</th>\n",
       "      <td>85</td>\n",
       "      <td>7.112971</td>\n",
       "    </tr>\n",
       "    <tr>\n",
       "      <th>married</th>\n",
       "      <td>931</td>\n",
       "      <td>7.542126</td>\n",
       "    </tr>\n",
       "    <tr>\n",
       "      <th>unmarried</th>\n",
       "      <td>274</td>\n",
       "      <td>9.750890</td>\n",
       "    </tr>\n",
       "    <tr>\n",
       "      <th>widow / widower</th>\n",
       "      <td>63</td>\n",
       "      <td>6.569343</td>\n",
       "    </tr>\n",
       "  </tbody>\n",
       "</table>\n",
       "</div>"
      ],
      "text/plain": [
       "                   debt  default_rate_family_status\n",
       "family_status                                      \n",
       "civil partnership   388                    9.320202\n",
       "divorced             85                    7.112971\n",
       "married             931                    7.542126\n",
       "unmarried           274                    9.750890\n",
       "widow / widower      63                    6.569343"
      ]
     },
     "metadata": {},
     "output_type": "display_data"
    },
    {
     "data": {
      "text/html": [
       "<div>\n",
       "<style scoped>\n",
       "    .dataframe tbody tr th:only-of-type {\n",
       "        vertical-align: middle;\n",
       "    }\n",
       "\n",
       "    .dataframe tbody tr th {\n",
       "        vertical-align: top;\n",
       "    }\n",
       "\n",
       "    .dataframe thead th {\n",
       "        text-align: right;\n",
       "    }\n",
       "</style>\n",
       "<table border=\"1\" class=\"dataframe\">\n",
       "  <thead>\n",
       "    <tr style=\"text-align: right;\">\n",
       "      <th></th>\n",
       "      <th>debt</th>\n",
       "      <th>default_rate_total_income_group</th>\n",
       "    </tr>\n",
       "    <tr>\n",
       "      <th>total_income_groups</th>\n",
       "      <th></th>\n",
       "      <th></th>\n",
       "    </tr>\n",
       "  </thead>\n",
       "  <tbody>\n",
       "    <tr>\n",
       "      <th>low income</th>\n",
       "      <td>655</td>\n",
       "      <td>8.338638</td>\n",
       "    </tr>\n",
       "    <tr>\n",
       "      <th>middle income</th>\n",
       "      <td>994</td>\n",
       "      <td>8.085245</td>\n",
       "    </tr>\n",
       "    <tr>\n",
       "      <th>middle upper income</th>\n",
       "      <td>86</td>\n",
       "      <td>7.037643</td>\n",
       "    </tr>\n",
       "    <tr>\n",
       "      <th>upper income</th>\n",
       "      <td>5</td>\n",
       "      <td>5.681818</td>\n",
       "    </tr>\n",
       "    <tr>\n",
       "      <th>very high income</th>\n",
       "      <td>1</td>\n",
       "      <td>8.333333</td>\n",
       "    </tr>\n",
       "  </tbody>\n",
       "</table>\n",
       "</div>"
      ],
      "text/plain": [
       "                     debt  default_rate_total_income_group\n",
       "total_income_groups                                       \n",
       "low income            655                         8.338638\n",
       "middle income         994                         8.085245\n",
       "middle upper income    86                         7.037643\n",
       "upper income            5                         5.681818\n",
       "very high income        1                         8.333333"
      ]
     },
     "metadata": {},
     "output_type": "display_data"
    },
    {
     "data": {
      "text/html": [
       "<div>\n",
       "<style scoped>\n",
       "    .dataframe tbody tr th:only-of-type {\n",
       "        vertical-align: middle;\n",
       "    }\n",
       "\n",
       "    .dataframe tbody tr th {\n",
       "        vertical-align: top;\n",
       "    }\n",
       "\n",
       "    .dataframe thead th {\n",
       "        text-align: right;\n",
       "    }\n",
       "</style>\n",
       "<table border=\"1\" class=\"dataframe\">\n",
       "  <thead>\n",
       "    <tr style=\"text-align: right;\">\n",
       "      <th></th>\n",
       "      <th>debt</th>\n",
       "      <th>default_rate_credit_purpose</th>\n",
       "    </tr>\n",
       "    <tr>\n",
       "      <th>clean_purpose</th>\n",
       "      <th></th>\n",
       "      <th></th>\n",
       "    </tr>\n",
       "  </thead>\n",
       "  <tbody>\n",
       "    <tr>\n",
       "      <th>car</th>\n",
       "      <td>403</td>\n",
       "      <td>9.354689</td>\n",
       "    </tr>\n",
       "    <tr>\n",
       "      <th>education</th>\n",
       "      <td>370</td>\n",
       "      <td>9.217738</td>\n",
       "    </tr>\n",
       "    <tr>\n",
       "      <th>other</th>\n",
       "      <td>336</td>\n",
       "      <td>7.523511</td>\n",
       "    </tr>\n",
       "    <tr>\n",
       "      <th>real estate</th>\n",
       "      <td>446</td>\n",
       "      <td>7.025835</td>\n",
       "    </tr>\n",
       "    <tr>\n",
       "      <th>wedding</th>\n",
       "      <td>186</td>\n",
       "      <td>7.965739</td>\n",
       "    </tr>\n",
       "  </tbody>\n",
       "</table>\n",
       "</div>"
      ],
      "text/plain": [
       "               debt  default_rate_credit_purpose\n",
       "clean_purpose                                   \n",
       "car             403                     9.354689\n",
       "education       370                     9.217738\n",
       "other           336                     7.523511\n",
       "real estate     446                     7.025835\n",
       "wedding         186                     7.965739"
      ]
     },
     "metadata": {},
     "output_type": "display_data"
    }
   ],
   "source": [
    "display(data_pivot_1)\n",
    "display(data_pivot_2)\n",
    "display(data_pivot_3)\n",
    "display(data_pivot_4)\n"
   ]
  },
  {
   "cell_type": "markdown",
   "metadata": {},
   "source": [
    "# General Conclusion \n",
    "\n",
    "If we take a look at the four pivot table, we can conclude that for all the observed categories (total income, number of children, purpose of the loan and marital status) the percentage of loan default ranges from 5 to 9 percent and there aren't any significant and considerable differences between all groups and all categories.\n",
    "\n",
    "Based on the dataset provided me by the bank's loan division, I can estimate that on this sample of clients, there are't significant differences among client's default loans rates.\n",
    "\n",
    "The general conclusion is that a customer's marital status, number of children, level of income and loan's purpose, do not pose an inpact on the risk of defaulting a loan payment.\n",
    "\n"
   ]
  }
 ],
 "metadata": {
  "ExecuteTimeLog": [
   {
    "duration": 2741,
    "start_time": "2021-10-21T01:08:49.480Z"
   },
   {
    "duration": 52,
    "start_time": "2021-10-21T01:08:53.315Z"
   },
   {
    "duration": 49,
    "start_time": "2021-10-21T01:08:57.432Z"
   },
   {
    "duration": 70,
    "start_time": "2021-10-21T01:09:07.706Z"
   },
   {
    "duration": 557,
    "start_time": "2022-07-31T12:36:11.814Z"
   },
   {
    "duration": 193,
    "start_time": "2022-07-31T12:36:40.344Z"
   },
   {
    "duration": 16,
    "start_time": "2022-07-31T12:40:54.742Z"
   },
   {
    "duration": 13,
    "start_time": "2022-07-31T12:42:42.189Z"
   },
   {
    "duration": 8,
    "start_time": "2022-07-31T12:53:35.185Z"
   },
   {
    "duration": 3,
    "start_time": "2022-07-31T12:53:47.288Z"
   },
   {
    "duration": 507,
    "start_time": "2022-07-31T12:55:40.016Z"
   },
   {
    "duration": 4,
    "start_time": "2022-07-31T12:55:48.254Z"
   },
   {
    "duration": 22,
    "start_time": "2022-07-31T12:55:53.635Z"
   },
   {
    "duration": 16,
    "start_time": "2022-07-31T12:56:00.090Z"
   },
   {
    "duration": 16,
    "start_time": "2022-07-31T12:56:29.528Z"
   },
   {
    "duration": 16,
    "start_time": "2022-07-31T12:58:00.264Z"
   },
   {
    "duration": 12,
    "start_time": "2022-07-31T12:58:35.050Z"
   },
   {
    "duration": 82,
    "start_time": "2022-07-31T13:03:27.251Z"
   },
   {
    "duration": 17,
    "start_time": "2022-07-31T13:03:44.086Z"
   },
   {
    "duration": 12,
    "start_time": "2022-07-31T13:04:42.968Z"
   },
   {
    "duration": 64,
    "start_time": "2022-07-31T13:07:46.294Z"
   },
   {
    "duration": 60,
    "start_time": "2022-07-31T13:08:08.336Z"
   },
   {
    "duration": 11,
    "start_time": "2022-07-31T13:16:12.335Z"
   },
   {
    "duration": 12,
    "start_time": "2022-07-31T13:21:19.732Z"
   },
   {
    "duration": 10,
    "start_time": "2022-07-31T13:30:02.233Z"
   },
   {
    "duration": 8,
    "start_time": "2022-07-31T13:39:17.255Z"
   },
   {
    "duration": 8,
    "start_time": "2022-07-31T13:40:23.341Z"
   },
   {
    "duration": 12,
    "start_time": "2022-07-31T13:40:44.520Z"
   },
   {
    "duration": 11,
    "start_time": "2022-07-31T13:44:23.771Z"
   },
   {
    "duration": 8,
    "start_time": "2022-07-31T13:47:20.358Z"
   },
   {
    "duration": 7,
    "start_time": "2022-07-31T13:48:41.323Z"
   },
   {
    "duration": 13,
    "start_time": "2022-07-31T13:53:49.674Z"
   },
   {
    "duration": 19,
    "start_time": "2022-07-31T13:54:59.750Z"
   },
   {
    "duration": 43,
    "start_time": "2022-07-31T14:09:02.105Z"
   },
   {
    "duration": 59,
    "start_time": "2022-07-31T14:46:33.299Z"
   },
   {
    "duration": 4,
    "start_time": "2022-07-31T14:57:41.865Z"
   },
   {
    "duration": 7,
    "start_time": "2022-07-31T15:00:39.017Z"
   },
   {
    "duration": 5,
    "start_time": "2022-07-31T15:00:59.940Z"
   },
   {
    "duration": 844,
    "start_time": "2022-07-31T15:21:39.885Z"
   },
   {
    "duration": 9,
    "start_time": "2022-07-31T15:21:48.369Z"
   },
   {
    "duration": 5,
    "start_time": "2022-07-31T15:22:39.921Z"
   },
   {
    "duration": 5,
    "start_time": "2022-07-31T15:22:51.561Z"
   },
   {
    "duration": 8,
    "start_time": "2022-07-31T15:26:21.236Z"
   },
   {
    "duration": 6,
    "start_time": "2022-07-31T15:30:33.387Z"
   },
   {
    "duration": 49,
    "start_time": "2022-07-31T15:45:10.618Z"
   },
   {
    "duration": 49,
    "start_time": "2022-07-31T18:32:56.793Z"
   },
   {
    "duration": 6,
    "start_time": "2022-07-31T18:33:13.347Z"
   },
   {
    "duration": 609,
    "start_time": "2022-07-31T18:33:44.567Z"
   },
   {
    "duration": 4,
    "start_time": "2022-07-31T18:33:47.717Z"
   },
   {
    "duration": 20,
    "start_time": "2022-07-31T18:33:50.306Z"
   },
   {
    "duration": 30,
    "start_time": "2022-07-31T18:33:53.568Z"
   },
   {
    "duration": 9,
    "start_time": "2022-07-31T18:33:56.534Z"
   },
   {
    "duration": 11,
    "start_time": "2022-07-31T18:33:59.336Z"
   },
   {
    "duration": 14,
    "start_time": "2022-07-31T18:34:02.203Z"
   },
   {
    "duration": 11,
    "start_time": "2022-07-31T18:34:03.414Z"
   },
   {
    "duration": 12,
    "start_time": "2022-07-31T18:34:04.111Z"
   },
   {
    "duration": 56,
    "start_time": "2022-07-31T18:34:06.201Z"
   },
   {
    "duration": 7,
    "start_time": "2022-07-31T18:43:40.724Z"
   },
   {
    "duration": 12,
    "start_time": "2022-07-31T18:43:53.004Z"
   },
   {
    "duration": 5,
    "start_time": "2022-07-31T18:44:02.408Z"
   },
   {
    "duration": 4,
    "start_time": "2022-07-31T18:44:05.829Z"
   },
   {
    "duration": 7,
    "start_time": "2022-07-31T18:44:16.103Z"
   },
   {
    "duration": 10,
    "start_time": "2022-07-31T18:47:25.389Z"
   },
   {
    "duration": 11,
    "start_time": "2022-07-31T18:47:41.628Z"
   },
   {
    "duration": 5,
    "start_time": "2022-07-31T18:54:42.843Z"
   },
   {
    "duration": 11,
    "start_time": "2022-07-31T18:57:28.547Z"
   },
   {
    "duration": 10,
    "start_time": "2022-07-31T18:58:13.332Z"
   },
   {
    "duration": 59,
    "start_time": "2022-08-01T15:22:19.382Z"
   },
   {
    "duration": 13,
    "start_time": "2022-08-01T15:29:15.459Z"
   },
   {
    "duration": 647,
    "start_time": "2022-08-01T15:29:48.020Z"
   },
   {
    "duration": 3,
    "start_time": "2022-08-01T15:29:50.944Z"
   },
   {
    "duration": 52,
    "start_time": "2022-08-01T15:29:52.852Z"
   },
   {
    "duration": 26,
    "start_time": "2022-08-01T15:29:59.445Z"
   },
   {
    "duration": 6,
    "start_time": "2022-08-01T15:45:08.218Z"
   },
   {
    "duration": 6,
    "start_time": "2022-08-01T15:45:11.033Z"
   },
   {
    "duration": 17,
    "start_time": "2022-08-01T15:45:23.004Z"
   },
   {
    "duration": 3,
    "start_time": "2022-08-01T16:55:22.934Z"
   },
   {
    "duration": 81,
    "start_time": "2022-08-01T17:00:25.637Z"
   },
   {
    "duration": 77,
    "start_time": "2022-08-01T17:00:41.362Z"
   },
   {
    "duration": 78,
    "start_time": "2022-08-01T17:00:49.141Z"
   },
   {
    "duration": 539,
    "start_time": "2022-08-01T17:01:00.953Z"
   },
   {
    "duration": 3,
    "start_time": "2022-08-01T17:01:03.423Z"
   },
   {
    "duration": 33,
    "start_time": "2022-08-01T17:01:03.792Z"
   },
   {
    "duration": 23,
    "start_time": "2022-08-01T17:01:04.528Z"
   },
   {
    "duration": 10,
    "start_time": "2022-08-01T17:01:04.989Z"
   },
   {
    "duration": 14,
    "start_time": "2022-08-01T17:01:05.387Z"
   },
   {
    "duration": 13,
    "start_time": "2022-08-01T17:01:05.583Z"
   },
   {
    "duration": 13,
    "start_time": "2022-08-01T17:01:05.788Z"
   },
   {
    "duration": 13,
    "start_time": "2022-08-01T17:01:06.000Z"
   },
   {
    "duration": 10,
    "start_time": "2022-08-01T17:01:07.542Z"
   },
   {
    "duration": 14,
    "start_time": "2022-08-01T17:01:08.548Z"
   },
   {
    "duration": 23,
    "start_time": "2022-08-01T17:01:10.547Z"
   },
   {
    "duration": 11,
    "start_time": "2022-08-01T17:01:11.711Z"
   },
   {
    "duration": 3,
    "start_time": "2022-08-01T17:01:15.087Z"
   },
   {
    "duration": 4,
    "start_time": "2022-08-01T17:01:18.289Z"
   },
   {
    "duration": 48,
    "start_time": "2022-08-01T17:01:20.248Z"
   },
   {
    "duration": 78,
    "start_time": "2022-08-01T17:01:23.666Z"
   },
   {
    "duration": 57,
    "start_time": "2022-08-01T17:03:59.500Z"
   },
   {
    "duration": 23,
    "start_time": "2022-08-01T17:05:52.061Z"
   },
   {
    "duration": 21,
    "start_time": "2022-08-01T17:17:23.883Z"
   },
   {
    "duration": 46,
    "start_time": "2022-08-01T17:20:28.078Z"
   },
   {
    "duration": 55,
    "start_time": "2022-08-01T17:20:59.808Z"
   },
   {
    "duration": 54,
    "start_time": "2022-08-01T17:21:11.607Z"
   },
   {
    "duration": 2529,
    "start_time": "2022-08-01T17:21:36.408Z"
   },
   {
    "duration": 45,
    "start_time": "2022-08-01T17:25:54.507Z"
   },
   {
    "duration": 45,
    "start_time": "2022-08-01T17:25:57.398Z"
   },
   {
    "duration": 7,
    "start_time": "2022-08-01T17:26:07.258Z"
   },
   {
    "duration": 8,
    "start_time": "2022-08-01T17:26:15.132Z"
   },
   {
    "duration": 5,
    "start_time": "2022-08-01T17:26:24.706Z"
   },
   {
    "duration": 5,
    "start_time": "2022-08-01T17:26:27.066Z"
   },
   {
    "duration": 7,
    "start_time": "2022-08-01T17:26:43.067Z"
   },
   {
    "duration": 10,
    "start_time": "2022-08-01T17:27:28.075Z"
   },
   {
    "duration": 5,
    "start_time": "2022-08-01T17:29:37.072Z"
   },
   {
    "duration": 4,
    "start_time": "2022-08-01T17:30:44.463Z"
   },
   {
    "duration": 7,
    "start_time": "2022-08-01T17:30:58.691Z"
   },
   {
    "duration": 5,
    "start_time": "2022-08-01T17:31:24.887Z"
   },
   {
    "duration": 4,
    "start_time": "2022-08-01T17:32:48.622Z"
   },
   {
    "duration": 5,
    "start_time": "2022-08-01T17:35:35.612Z"
   },
   {
    "duration": 4,
    "start_time": "2022-08-01T17:38:54.461Z"
   },
   {
    "duration": 14,
    "start_time": "2022-08-01T17:39:05.019Z"
   },
   {
    "duration": 7,
    "start_time": "2022-08-01T17:41:11.777Z"
   },
   {
    "duration": 7,
    "start_time": "2022-08-01T17:46:45.125Z"
   },
   {
    "duration": 11,
    "start_time": "2022-08-01T17:46:55.007Z"
   },
   {
    "duration": 13,
    "start_time": "2022-08-01T17:47:04.844Z"
   },
   {
    "duration": 5,
    "start_time": "2022-08-01T17:47:31.844Z"
   },
   {
    "duration": 12,
    "start_time": "2022-08-01T17:48:44.278Z"
   },
   {
    "duration": 13,
    "start_time": "2022-08-01T17:49:19.039Z"
   },
   {
    "duration": 7,
    "start_time": "2022-08-01T17:49:53.616Z"
   },
   {
    "duration": 13,
    "start_time": "2022-08-01T17:50:20.975Z"
   },
   {
    "duration": 68,
    "start_time": "2022-08-01T17:51:29.776Z"
   },
   {
    "duration": 76,
    "start_time": "2022-08-01T17:51:58.471Z"
   },
   {
    "duration": 17,
    "start_time": "2022-08-01T17:53:57.766Z"
   },
   {
    "duration": 12,
    "start_time": "2022-08-01T18:27:40.287Z"
   },
   {
    "duration": 14,
    "start_time": "2022-08-01T18:28:32.685Z"
   },
   {
    "duration": 10,
    "start_time": "2022-08-01T18:29:56.140Z"
   },
   {
    "duration": 9,
    "start_time": "2022-08-01T18:30:49.586Z"
   },
   {
    "duration": 3,
    "start_time": "2022-08-01T18:33:05.745Z"
   },
   {
    "duration": 38,
    "start_time": "2022-08-01T18:40:18.913Z"
   },
   {
    "duration": 8,
    "start_time": "2022-08-01T18:44:18.936Z"
   },
   {
    "duration": 7,
    "start_time": "2022-08-01T18:45:05.768Z"
   },
   {
    "duration": 9,
    "start_time": "2022-08-01T18:48:02.659Z"
   },
   {
    "duration": 23,
    "start_time": "2022-08-01T18:50:14.307Z"
   },
   {
    "duration": 7,
    "start_time": "2022-08-01T18:51:30.581Z"
   },
   {
    "duration": 8,
    "start_time": "2022-08-01T18:51:36.650Z"
   },
   {
    "duration": 9,
    "start_time": "2022-08-01T19:13:01.306Z"
   },
   {
    "duration": 5,
    "start_time": "2022-08-01T19:13:44.967Z"
   },
   {
    "duration": 79,
    "start_time": "2022-08-01T19:23:09.809Z"
   },
   {
    "duration": 12,
    "start_time": "2022-08-01T19:23:21.437Z"
   },
   {
    "duration": 10,
    "start_time": "2022-08-01T19:24:15.399Z"
   },
   {
    "duration": 13,
    "start_time": "2022-08-01T19:24:49.773Z"
   },
   {
    "duration": 19,
    "start_time": "2022-08-01T19:28:50.384Z"
   },
   {
    "duration": 12,
    "start_time": "2022-08-01T19:29:01.581Z"
   },
   {
    "duration": 8,
    "start_time": "2022-08-01T19:35:28.348Z"
   },
   {
    "duration": 6,
    "start_time": "2022-08-01T19:35:56.889Z"
   },
   {
    "duration": 7,
    "start_time": "2022-08-01T19:36:43.360Z"
   },
   {
    "duration": 8,
    "start_time": "2022-08-01T19:37:17.805Z"
   },
   {
    "duration": 7,
    "start_time": "2022-08-01T19:40:56.329Z"
   },
   {
    "duration": 6,
    "start_time": "2022-08-01T19:41:27.803Z"
   },
   {
    "duration": 3,
    "start_time": "2022-08-01T19:41:50.320Z"
   },
   {
    "duration": 6,
    "start_time": "2022-08-01T19:41:51.970Z"
   },
   {
    "duration": 9,
    "start_time": "2022-08-01T20:11:24.884Z"
   },
   {
    "duration": 7,
    "start_time": "2022-08-01T20:11:42.661Z"
   },
   {
    "duration": 32,
    "start_time": "2022-08-01T20:13:18.819Z"
   },
   {
    "duration": 4,
    "start_time": "2022-08-01T20:20:26.085Z"
   },
   {
    "duration": 30,
    "start_time": "2022-08-01T20:20:32.703Z"
   },
   {
    "duration": 33,
    "start_time": "2022-08-01T20:21:04.070Z"
   },
   {
    "duration": 7,
    "start_time": "2022-08-01T20:21:16.816Z"
   },
   {
    "duration": 8,
    "start_time": "2022-08-01T20:26:10.844Z"
   },
   {
    "duration": 5,
    "start_time": "2022-08-01T20:26:28.164Z"
   },
   {
    "duration": 34,
    "start_time": "2022-08-01T20:26:31.291Z"
   },
   {
    "duration": 6,
    "start_time": "2022-08-01T20:27:16.003Z"
   },
   {
    "duration": 35,
    "start_time": "2022-08-01T20:27:43.207Z"
   },
   {
    "duration": 54,
    "start_time": "2022-08-01T20:27:51.974Z"
   },
   {
    "duration": 3,
    "start_time": "2022-08-01T20:27:52.605Z"
   },
   {
    "duration": 13,
    "start_time": "2022-08-01T20:27:53.303Z"
   },
   {
    "duration": 15,
    "start_time": "2022-08-01T20:27:53.975Z"
   },
   {
    "duration": 11,
    "start_time": "2022-08-01T20:27:54.565Z"
   },
   {
    "duration": 15,
    "start_time": "2022-08-01T20:27:55.059Z"
   },
   {
    "duration": 10,
    "start_time": "2022-08-01T20:27:55.319Z"
   },
   {
    "duration": 12,
    "start_time": "2022-08-01T20:27:55.580Z"
   },
   {
    "duration": 12,
    "start_time": "2022-08-01T20:27:56.180Z"
   },
   {
    "duration": 9,
    "start_time": "2022-08-01T20:27:56.984Z"
   },
   {
    "duration": 10,
    "start_time": "2022-08-01T20:27:57.627Z"
   },
   {
    "duration": 15,
    "start_time": "2022-08-01T20:27:58.069Z"
   },
   {
    "duration": 11,
    "start_time": "2022-08-01T20:27:59.075Z"
   },
   {
    "duration": 31,
    "start_time": "2022-08-01T20:28:00.043Z"
   },
   {
    "duration": 8,
    "start_time": "2022-08-01T20:28:00.836Z"
   },
   {
    "duration": 13,
    "start_time": "2022-08-01T20:28:01.303Z"
   },
   {
    "duration": 13,
    "start_time": "2022-08-01T20:28:02.491Z"
   },
   {
    "duration": 4,
    "start_time": "2022-08-01T20:28:05.904Z"
   },
   {
    "duration": 30,
    "start_time": "2022-08-01T20:28:06.938Z"
   },
   {
    "duration": 14,
    "start_time": "2022-08-01T20:28:40.708Z"
   },
   {
    "duration": 11,
    "start_time": "2022-08-01T20:28:40.943Z"
   },
   {
    "duration": 3,
    "start_time": "2022-08-01T20:28:41.150Z"
   },
   {
    "duration": 3,
    "start_time": "2022-08-01T20:28:41.724Z"
   },
   {
    "duration": 3,
    "start_time": "2022-08-01T20:28:42.517Z"
   },
   {
    "duration": 7,
    "start_time": "2022-08-01T20:28:42.774Z"
   },
   {
    "duration": 5,
    "start_time": "2022-08-01T20:28:43.503Z"
   },
   {
    "duration": 7,
    "start_time": "2022-08-01T20:28:44.539Z"
   },
   {
    "duration": 5,
    "start_time": "2022-08-01T20:28:45.056Z"
   },
   {
    "duration": 5,
    "start_time": "2022-08-01T20:28:52.313Z"
   },
   {
    "duration": 6,
    "start_time": "2022-08-01T20:28:53.015Z"
   },
   {
    "duration": 6,
    "start_time": "2022-08-01T20:28:55.312Z"
   },
   {
    "duration": 3,
    "start_time": "2022-08-01T20:28:57.484Z"
   },
   {
    "duration": 7,
    "start_time": "2022-08-01T20:28:58.032Z"
   },
   {
    "duration": 31,
    "start_time": "2022-08-01T20:29:03.830Z"
   },
   {
    "duration": 5,
    "start_time": "2022-08-01T20:29:05.516Z"
   },
   {
    "duration": 41,
    "start_time": "2022-08-01T20:29:06.183Z"
   },
   {
    "duration": 45,
    "start_time": "2022-08-02T15:13:36.955Z"
   },
   {
    "duration": 533,
    "start_time": "2022-08-02T15:13:48.348Z"
   },
   {
    "duration": 3,
    "start_time": "2022-08-02T15:13:48.883Z"
   },
   {
    "duration": 22,
    "start_time": "2022-08-02T15:13:48.930Z"
   },
   {
    "duration": 16,
    "start_time": "2022-08-02T15:13:49.367Z"
   },
   {
    "duration": 9,
    "start_time": "2022-08-02T15:13:49.922Z"
   },
   {
    "duration": 11,
    "start_time": "2022-08-02T15:13:50.873Z"
   },
   {
    "duration": 10,
    "start_time": "2022-08-02T15:13:51.322Z"
   },
   {
    "duration": 11,
    "start_time": "2022-08-02T15:13:51.923Z"
   },
   {
    "duration": 12,
    "start_time": "2022-08-02T15:13:52.359Z"
   },
   {
    "duration": 10,
    "start_time": "2022-08-02T15:13:52.915Z"
   },
   {
    "duration": 14,
    "start_time": "2022-08-02T15:13:53.643Z"
   },
   {
    "duration": 14,
    "start_time": "2022-08-02T15:13:54.475Z"
   },
   {
    "duration": 11,
    "start_time": "2022-08-02T15:13:56.519Z"
   },
   {
    "duration": 24,
    "start_time": "2022-08-02T15:13:56.760Z"
   },
   {
    "duration": 9,
    "start_time": "2022-08-02T15:13:58.334Z"
   },
   {
    "duration": 10,
    "start_time": "2022-08-02T15:13:59.142Z"
   },
   {
    "duration": 12,
    "start_time": "2022-08-02T15:14:00.061Z"
   },
   {
    "duration": 4,
    "start_time": "2022-08-02T15:14:00.445Z"
   },
   {
    "duration": 36,
    "start_time": "2022-08-02T15:14:00.658Z"
   },
   {
    "duration": 13,
    "start_time": "2022-08-02T15:14:02.207Z"
   },
   {
    "duration": 13,
    "start_time": "2022-08-02T15:14:03.482Z"
   },
   {
    "duration": 3,
    "start_time": "2022-08-02T15:14:03.723Z"
   },
   {
    "duration": 4,
    "start_time": "2022-08-02T15:14:05.073Z"
   },
   {
    "duration": 4,
    "start_time": "2022-08-02T15:14:10.824Z"
   },
   {
    "duration": 8,
    "start_time": "2022-08-02T15:14:11.631Z"
   },
   {
    "duration": 5,
    "start_time": "2022-08-02T15:14:11.919Z"
   },
   {
    "duration": 8,
    "start_time": "2022-08-02T15:14:12.754Z"
   },
   {
    "duration": 7,
    "start_time": "2022-08-02T15:14:13.715Z"
   },
   {
    "duration": 5,
    "start_time": "2022-08-02T15:14:15.342Z"
   },
   {
    "duration": 8,
    "start_time": "2022-08-02T15:14:16.924Z"
   },
   {
    "duration": 8,
    "start_time": "2022-08-02T15:14:18.673Z"
   },
   {
    "duration": 4,
    "start_time": "2022-08-02T15:14:20.471Z"
   },
   {
    "duration": 7,
    "start_time": "2022-08-02T15:14:20.919Z"
   },
   {
    "duration": 30,
    "start_time": "2022-08-02T15:14:21.866Z"
   },
   {
    "duration": 4,
    "start_time": "2022-08-02T15:14:24.419Z"
   },
   {
    "duration": 40,
    "start_time": "2022-08-02T15:14:25.177Z"
   },
   {
    "duration": 9,
    "start_time": "2022-08-02T15:15:20.023Z"
   },
   {
    "duration": 9,
    "start_time": "2022-08-02T15:16:37.416Z"
   },
   {
    "duration": 6,
    "start_time": "2022-08-02T15:20:59.655Z"
   },
   {
    "duration": 6,
    "start_time": "2022-08-02T15:21:09.254Z"
   },
   {
    "duration": 60,
    "start_time": "2022-08-02T15:27:39.277Z"
   },
   {
    "duration": 6,
    "start_time": "2022-08-02T15:28:01.516Z"
   },
   {
    "duration": 8,
    "start_time": "2022-08-02T15:28:19.712Z"
   },
   {
    "duration": 5,
    "start_time": "2022-08-02T15:31:43.139Z"
   },
   {
    "duration": 6,
    "start_time": "2022-08-02T15:31:57.015Z"
   },
   {
    "duration": 7,
    "start_time": "2022-08-02T15:36:57.483Z"
   },
   {
    "duration": 12,
    "start_time": "2022-08-02T16:01:42.159Z"
   },
   {
    "duration": 10,
    "start_time": "2022-08-02T16:02:23.057Z"
   },
   {
    "duration": 8,
    "start_time": "2022-08-02T16:09:42.470Z"
   },
   {
    "duration": 6,
    "start_time": "2022-08-02T16:09:49.330Z"
   },
   {
    "duration": 9,
    "start_time": "2022-08-02T16:10:13.166Z"
   },
   {
    "duration": 7,
    "start_time": "2022-08-02T16:10:15.049Z"
   },
   {
    "duration": 18,
    "start_time": "2022-08-02T16:13:56.353Z"
   },
   {
    "duration": 24,
    "start_time": "2022-08-02T16:14:13.940Z"
   },
   {
    "duration": 22,
    "start_time": "2022-08-02T16:20:57.833Z"
   },
   {
    "duration": 18,
    "start_time": "2022-08-02T16:21:11.855Z"
   },
   {
    "duration": 19,
    "start_time": "2022-08-02T16:21:33.096Z"
   },
   {
    "duration": 32,
    "start_time": "2022-08-02T16:24:23.384Z"
   },
   {
    "duration": 18,
    "start_time": "2022-08-02T16:58:33.445Z"
   },
   {
    "duration": 15,
    "start_time": "2022-08-02T17:07:13.054Z"
   },
   {
    "duration": 13,
    "start_time": "2022-08-02T17:07:21.123Z"
   },
   {
    "duration": 11,
    "start_time": "2022-08-02T17:09:20.721Z"
   },
   {
    "duration": 9,
    "start_time": "2022-08-02T17:25:31.440Z"
   },
   {
    "duration": 9,
    "start_time": "2022-08-02T17:25:41.517Z"
   },
   {
    "duration": 9,
    "start_time": "2022-08-02T17:31:09.218Z"
   },
   {
    "duration": 60,
    "start_time": "2022-08-02T17:31:21.019Z"
   },
   {
    "duration": 4,
    "start_time": "2022-08-02T17:31:30.521Z"
   },
   {
    "duration": 3,
    "start_time": "2022-08-02T17:31:33.519Z"
   },
   {
    "duration": 63,
    "start_time": "2022-08-02T18:41:35.672Z"
   },
   {
    "duration": 460,
    "start_time": "2022-08-02T18:41:52.561Z"
   },
   {
    "duration": 7,
    "start_time": "2022-08-02T18:41:53.129Z"
   },
   {
    "duration": 25,
    "start_time": "2022-08-02T18:41:53.438Z"
   },
   {
    "duration": 17,
    "start_time": "2022-08-02T18:41:54.932Z"
   },
   {
    "duration": 17,
    "start_time": "2022-08-02T18:41:55.439Z"
   },
   {
    "duration": 16,
    "start_time": "2022-08-02T18:48:10.811Z"
   },
   {
    "duration": 19,
    "start_time": "2022-08-02T18:48:12.045Z"
   },
   {
    "duration": 23,
    "start_time": "2022-08-02T18:48:12.245Z"
   },
   {
    "duration": 12,
    "start_time": "2022-08-02T18:48:12.697Z"
   },
   {
    "duration": 18,
    "start_time": "2022-08-02T18:48:13.408Z"
   },
   {
    "duration": 46,
    "start_time": "2022-08-02T18:48:13.437Z"
   },
   {
    "duration": 25,
    "start_time": "2022-08-02T18:48:14.347Z"
   },
   {
    "duration": 23,
    "start_time": "2022-08-02T18:48:14.872Z"
   },
   {
    "duration": 10,
    "start_time": "2022-08-02T18:48:16.237Z"
   },
   {
    "duration": 12,
    "start_time": "2022-08-02T18:48:17.133Z"
   },
   {
    "duration": 12,
    "start_time": "2022-08-02T18:48:18.550Z"
   },
   {
    "duration": 4,
    "start_time": "2022-08-02T18:48:19.687Z"
   },
   {
    "duration": 30,
    "start_time": "2022-08-02T18:48:20.153Z"
   },
   {
    "duration": 12,
    "start_time": "2022-08-02T18:48:21.179Z"
   },
   {
    "duration": 18,
    "start_time": "2022-08-02T18:48:22.132Z"
   },
   {
    "duration": 3,
    "start_time": "2022-08-02T18:48:22.436Z"
   },
   {
    "duration": 2,
    "start_time": "2022-08-02T18:48:23.252Z"
   },
   {
    "duration": 11,
    "start_time": "2022-08-02T18:48:58.726Z"
   },
   {
    "duration": 2,
    "start_time": "2022-08-02T18:48:59.525Z"
   },
   {
    "duration": 3,
    "start_time": "2022-08-02T18:48:59.935Z"
   },
   {
    "duration": 5,
    "start_time": "2022-08-02T18:49:00.625Z"
   },
   {
    "duration": 9,
    "start_time": "2022-08-02T18:49:00.825Z"
   },
   {
    "duration": 6,
    "start_time": "2022-08-02T18:49:01.131Z"
   },
   {
    "duration": 8,
    "start_time": "2022-08-02T18:49:01.584Z"
   },
   {
    "duration": 6,
    "start_time": "2022-08-02T18:49:01.857Z"
   },
   {
    "duration": 6,
    "start_time": "2022-08-02T18:49:02.726Z"
   },
   {
    "duration": 6,
    "start_time": "2022-08-02T18:49:02.892Z"
   },
   {
    "duration": 8,
    "start_time": "2022-08-02T18:49:03.375Z"
   },
   {
    "duration": 3,
    "start_time": "2022-08-02T18:49:04.126Z"
   },
   {
    "duration": 8,
    "start_time": "2022-08-02T18:49:04.746Z"
   },
   {
    "duration": 32,
    "start_time": "2022-08-02T18:49:05.626Z"
   },
   {
    "duration": 5,
    "start_time": "2022-08-02T18:49:07.058Z"
   },
   {
    "duration": 37,
    "start_time": "2022-08-02T18:49:07.323Z"
   },
   {
    "duration": 7,
    "start_time": "2022-08-02T18:49:07.922Z"
   },
   {
    "duration": 3,
    "start_time": "2022-08-02T18:49:08.221Z"
   },
   {
    "duration": 2,
    "start_time": "2022-08-02T18:49:08.522Z"
   },
   {
    "duration": 7,
    "start_time": "2022-08-02T18:49:09.125Z"
   },
   {
    "duration": 4,
    "start_time": "2022-08-02T18:49:09.427Z"
   },
   {
    "duration": 6,
    "start_time": "2022-08-02T18:49:09.777Z"
   },
   {
    "duration": 6,
    "start_time": "2022-08-02T18:49:10.528Z"
   },
   {
    "duration": 7,
    "start_time": "2022-08-02T18:49:11.041Z"
   },
   {
    "duration": 6,
    "start_time": "2022-08-02T18:49:18.151Z"
   },
   {
    "duration": 25,
    "start_time": "2022-08-02T18:49:18.631Z"
   },
   {
    "duration": 23,
    "start_time": "2022-08-02T18:49:18.866Z"
   },
   {
    "duration": 28,
    "start_time": "2022-08-02T18:49:19.131Z"
   },
   {
    "duration": 15,
    "start_time": "2022-08-02T18:49:19.575Z"
   },
   {
    "duration": 32,
    "start_time": "2022-08-02T18:49:19.914Z"
   },
   {
    "duration": 12,
    "start_time": "2022-08-02T18:49:21.315Z"
   },
   {
    "duration": 18,
    "start_time": "2022-08-02T18:49:21.619Z"
   },
   {
    "duration": 4,
    "start_time": "2022-08-02T18:49:26.115Z"
   },
   {
    "duration": 3,
    "start_time": "2022-08-02T18:49:47.610Z"
   },
   {
    "duration": 15,
    "start_time": "2022-08-02T18:49:47.857Z"
   },
   {
    "duration": 9,
    "start_time": "2022-08-02T18:49:48.242Z"
   },
   {
    "duration": 56,
    "start_time": "2022-08-02T18:55:12.120Z"
   },
   {
    "duration": 18,
    "start_time": "2022-08-02T18:55:20.610Z"
   },
   {
    "duration": 34,
    "start_time": "2022-08-02T18:58:46.634Z"
   },
   {
    "duration": 31,
    "start_time": "2022-08-02T19:00:11.719Z"
   },
   {
    "duration": 53,
    "start_time": "2022-08-02T19:07:26.234Z"
   },
   {
    "duration": 17,
    "start_time": "2022-08-02T19:07:34.244Z"
   },
   {
    "duration": 17,
    "start_time": "2022-08-02T19:07:48.132Z"
   },
   {
    "duration": 62,
    "start_time": "2022-08-02T19:15:38.150Z"
   },
   {
    "duration": 16,
    "start_time": "2022-08-02T19:15:48.587Z"
   },
   {
    "duration": 6,
    "start_time": "2022-08-02T19:15:51.923Z"
   },
   {
    "duration": 9,
    "start_time": "2022-08-02T19:16:06.039Z"
   },
   {
    "duration": 3,
    "start_time": "2022-08-02T19:16:26.533Z"
   },
   {
    "duration": 9,
    "start_time": "2022-08-02T19:17:58.335Z"
   },
   {
    "duration": 3,
    "start_time": "2022-08-02T19:18:06.496Z"
   },
   {
    "duration": 457,
    "start_time": "2022-08-02T19:23:22.163Z"
   },
   {
    "duration": 4,
    "start_time": "2022-08-02T19:23:22.659Z"
   },
   {
    "duration": 20,
    "start_time": "2022-08-02T19:23:22.976Z"
   },
   {
    "duration": 18,
    "start_time": "2022-08-02T19:23:23.531Z"
   },
   {
    "duration": 10,
    "start_time": "2022-08-02T19:23:24.078Z"
   },
   {
    "duration": 12,
    "start_time": "2022-08-02T19:23:24.733Z"
   },
   {
    "duration": 16,
    "start_time": "2022-08-02T19:23:25.029Z"
   },
   {
    "duration": 13,
    "start_time": "2022-08-02T19:23:25.333Z"
   },
   {
    "duration": 12,
    "start_time": "2022-08-02T19:23:25.559Z"
   },
   {
    "duration": 10,
    "start_time": "2022-08-02T19:23:26.658Z"
   },
   {
    "duration": 11,
    "start_time": "2022-08-02T19:23:27.877Z"
   },
   {
    "duration": 15,
    "start_time": "2022-08-02T19:23:28.467Z"
   },
   {
    "duration": 10,
    "start_time": "2022-08-02T19:23:30.442Z"
   },
   {
    "duration": 22,
    "start_time": "2022-08-02T19:23:31.235Z"
   },
   {
    "duration": 8,
    "start_time": "2022-08-02T19:23:38.166Z"
   },
   {
    "duration": 10,
    "start_time": "2022-08-02T19:23:38.390Z"
   },
   {
    "duration": 12,
    "start_time": "2022-08-02T19:23:38.930Z"
   },
   {
    "duration": 6,
    "start_time": "2022-08-02T19:23:39.627Z"
   },
   {
    "duration": 32,
    "start_time": "2022-08-02T19:23:39.970Z"
   },
   {
    "duration": 11,
    "start_time": "2022-08-02T19:23:40.847Z"
   },
   {
    "duration": 12,
    "start_time": "2022-08-02T19:23:41.134Z"
   },
   {
    "duration": 2,
    "start_time": "2022-08-02T19:23:41.448Z"
   },
   {
    "duration": 3,
    "start_time": "2022-08-02T19:23:41.975Z"
   },
   {
    "duration": 6,
    "start_time": "2022-08-02T19:23:42.730Z"
   },
   {
    "duration": 8,
    "start_time": "2022-08-02T19:23:42.963Z"
   },
   {
    "duration": 7,
    "start_time": "2022-08-02T19:23:43.229Z"
   },
   {
    "duration": 7,
    "start_time": "2022-08-02T19:23:43.852Z"
   },
   {
    "duration": 6,
    "start_time": "2022-08-02T19:23:44.134Z"
   },
   {
    "duration": 4,
    "start_time": "2022-08-02T19:23:45.055Z"
   },
   {
    "duration": 6,
    "start_time": "2022-08-02T19:23:45.434Z"
   },
   {
    "duration": 7,
    "start_time": "2022-08-02T19:23:46.036Z"
   },
   {
    "duration": 6,
    "start_time": "2022-08-02T19:23:46.531Z"
   },
   {
    "duration": 6,
    "start_time": "2022-08-02T19:23:46.835Z"
   },
   {
    "duration": 37,
    "start_time": "2022-08-02T19:23:47.730Z"
   },
   {
    "duration": 4,
    "start_time": "2022-08-02T19:23:49.760Z"
   },
   {
    "duration": 36,
    "start_time": "2022-08-02T19:23:50.659Z"
   },
   {
    "duration": 5,
    "start_time": "2022-08-02T19:23:52.383Z"
   },
   {
    "duration": 2,
    "start_time": "2022-08-02T19:23:53.961Z"
   },
   {
    "duration": 3,
    "start_time": "2022-08-02T19:23:54.697Z"
   },
   {
    "duration": 6,
    "start_time": "2022-08-02T19:23:55.865Z"
   },
   {
    "duration": 4,
    "start_time": "2022-08-02T19:23:56.562Z"
   },
   {
    "duration": 6,
    "start_time": "2022-08-02T19:23:58.062Z"
   },
   {
    "duration": 8,
    "start_time": "2022-08-02T19:24:02.234Z"
   },
   {
    "duration": 6,
    "start_time": "2022-08-02T19:24:02.478Z"
   },
   {
    "duration": 6,
    "start_time": "2022-08-02T19:24:03.050Z"
   },
   {
    "duration": 38,
    "start_time": "2022-08-02T19:24:03.676Z"
   },
   {
    "duration": 17,
    "start_time": "2022-08-02T19:24:04.031Z"
   },
   {
    "duration": 26,
    "start_time": "2022-08-02T19:24:04.326Z"
   },
   {
    "duration": 14,
    "start_time": "2022-08-02T19:24:04.942Z"
   },
   {
    "duration": 31,
    "start_time": "2022-08-02T19:24:05.238Z"
   },
   {
    "duration": 12,
    "start_time": "2022-08-02T19:24:07.081Z"
   },
   {
    "duration": 26,
    "start_time": "2022-08-02T19:24:07.418Z"
   },
   {
    "duration": 4,
    "start_time": "2022-08-02T19:24:17.844Z"
   },
   {
    "duration": 4,
    "start_time": "2022-08-02T19:24:20.192Z"
   },
   {
    "duration": 19,
    "start_time": "2022-08-02T19:24:20.634Z"
   },
   {
    "duration": 7,
    "start_time": "2022-08-02T19:24:21.339Z"
   },
   {
    "duration": 20,
    "start_time": "2022-08-02T19:24:23.679Z"
   },
   {
    "duration": 4,
    "start_time": "2022-08-02T19:24:23.994Z"
   },
   {
    "duration": 2,
    "start_time": "2022-08-02T19:24:24.860Z"
   },
   {
    "duration": 5,
    "start_time": "2022-08-02T19:25:54.590Z"
   },
   {
    "duration": 4,
    "start_time": "2022-08-02T19:26:23.544Z"
   },
   {
    "duration": 10,
    "start_time": "2022-08-02T19:50:33.127Z"
   },
   {
    "duration": 9,
    "start_time": "2022-08-02T19:54:25.691Z"
   },
   {
    "duration": 66,
    "start_time": "2022-08-02T19:55:04.766Z"
   },
   {
    "duration": 10,
    "start_time": "2022-08-02T19:55:18.744Z"
   },
   {
    "duration": 45,
    "start_time": "2022-08-03T17:26:43.827Z"
   },
   {
    "duration": 672,
    "start_time": "2022-08-03T17:28:05.733Z"
   },
   {
    "duration": 3,
    "start_time": "2022-08-03T17:28:06.407Z"
   },
   {
    "duration": 31,
    "start_time": "2022-08-03T17:28:06.412Z"
   },
   {
    "duration": 16,
    "start_time": "2022-08-03T17:28:06.445Z"
   },
   {
    "duration": 9,
    "start_time": "2022-08-03T17:28:06.463Z"
   },
   {
    "duration": 12,
    "start_time": "2022-08-03T17:28:06.474Z"
   },
   {
    "duration": 10,
    "start_time": "2022-08-03T17:28:06.488Z"
   },
   {
    "duration": 20,
    "start_time": "2022-08-03T17:28:06.499Z"
   },
   {
    "duration": 45,
    "start_time": "2022-08-03T17:28:06.520Z"
   },
   {
    "duration": 10,
    "start_time": "2022-08-03T17:28:06.567Z"
   },
   {
    "duration": 10,
    "start_time": "2022-08-03T17:28:06.579Z"
   },
   {
    "duration": 15,
    "start_time": "2022-08-03T17:28:06.590Z"
   },
   {
    "duration": 9,
    "start_time": "2022-08-03T17:28:06.606Z"
   },
   {
    "duration": 61,
    "start_time": "2022-08-03T17:28:06.616Z"
   },
   {
    "duration": 10,
    "start_time": "2022-08-03T17:28:06.678Z"
   },
   {
    "duration": 19,
    "start_time": "2022-08-03T17:28:06.689Z"
   },
   {
    "duration": 9,
    "start_time": "2022-08-03T17:28:06.710Z"
   },
   {
    "duration": 34,
    "start_time": "2022-08-03T17:28:06.721Z"
   },
   {
    "duration": 48,
    "start_time": "2022-08-03T17:28:06.757Z"
   },
   {
    "duration": 12,
    "start_time": "2022-08-03T17:28:06.807Z"
   },
   {
    "duration": 16,
    "start_time": "2022-08-03T17:28:06.821Z"
   },
   {
    "duration": 18,
    "start_time": "2022-08-03T17:28:06.839Z"
   },
   {
    "duration": 8,
    "start_time": "2022-08-03T17:28:06.859Z"
   },
   {
    "duration": 8,
    "start_time": "2022-08-03T17:28:06.868Z"
   },
   {
    "duration": 34,
    "start_time": "2022-08-03T17:28:06.877Z"
   },
   {
    "duration": 10,
    "start_time": "2022-08-03T17:28:06.912Z"
   },
   {
    "duration": 8,
    "start_time": "2022-08-03T17:28:06.924Z"
   },
   {
    "duration": 5,
    "start_time": "2022-08-03T17:28:06.936Z"
   },
   {
    "duration": 13,
    "start_time": "2022-08-03T17:28:06.942Z"
   },
   {
    "duration": 4,
    "start_time": "2022-08-03T17:28:06.957Z"
   },
   {
    "duration": 8,
    "start_time": "2022-08-03T17:28:06.963Z"
   },
   {
    "duration": 4,
    "start_time": "2022-08-03T17:28:06.973Z"
   },
   {
    "duration": 12,
    "start_time": "2022-08-03T17:28:06.979Z"
   },
   {
    "duration": 71,
    "start_time": "2022-08-03T17:28:06.993Z"
   },
   {
    "duration": 4,
    "start_time": "2022-08-03T17:28:07.065Z"
   },
   {
    "duration": 31,
    "start_time": "2022-08-03T17:28:07.071Z"
   },
   {
    "duration": 6,
    "start_time": "2022-08-03T17:28:07.104Z"
   },
   {
    "duration": 8,
    "start_time": "2022-08-03T17:28:07.112Z"
   },
   {
    "duration": 8,
    "start_time": "2022-08-03T17:28:07.121Z"
   },
   {
    "duration": 29,
    "start_time": "2022-08-03T17:28:07.131Z"
   },
   {
    "duration": 8,
    "start_time": "2022-08-03T17:28:07.161Z"
   },
   {
    "duration": 12,
    "start_time": "2022-08-03T17:28:07.170Z"
   },
   {
    "duration": 13,
    "start_time": "2022-08-03T17:28:07.184Z"
   },
   {
    "duration": 7,
    "start_time": "2022-08-03T17:28:07.199Z"
   },
   {
    "duration": 5,
    "start_time": "2022-08-03T17:28:07.207Z"
   },
   {
    "duration": 55,
    "start_time": "2022-08-03T17:28:07.214Z"
   },
   {
    "duration": 17,
    "start_time": "2022-08-03T17:28:07.271Z"
   },
   {
    "duration": 25,
    "start_time": "2022-08-03T17:28:07.290Z"
   },
   {
    "duration": 44,
    "start_time": "2022-08-03T17:28:07.317Z"
   },
   {
    "duration": 40,
    "start_time": "2022-08-03T17:28:07.363Z"
   },
   {
    "duration": 14,
    "start_time": "2022-08-03T17:28:07.405Z"
   },
   {
    "duration": 47,
    "start_time": "2022-08-03T17:28:07.421Z"
   },
   {
    "duration": 8,
    "start_time": "2022-08-03T17:28:07.470Z"
   },
   {
    "duration": 12,
    "start_time": "2022-08-03T17:28:07.480Z"
   },
   {
    "duration": 23,
    "start_time": "2022-08-03T17:28:07.494Z"
   },
   {
    "duration": 8,
    "start_time": "2022-08-03T17:28:07.520Z"
   },
   {
    "duration": 77,
    "start_time": "2022-08-03T17:28:07.530Z"
   },
   {
    "duration": 0,
    "start_time": "2022-08-03T17:28:07.608Z"
   },
   {
    "duration": 0,
    "start_time": "2022-08-03T17:28:07.609Z"
   },
   {
    "duration": 0,
    "start_time": "2022-08-03T17:28:07.610Z"
   },
   {
    "duration": 0,
    "start_time": "2022-08-03T17:28:07.611Z"
   },
   {
    "duration": 0,
    "start_time": "2022-08-03T17:28:07.612Z"
   },
   {
    "duration": 0,
    "start_time": "2022-08-03T17:28:07.613Z"
   },
   {
    "duration": 0,
    "start_time": "2022-08-03T17:28:07.614Z"
   },
   {
    "duration": 0,
    "start_time": "2022-08-03T17:28:07.615Z"
   },
   {
    "duration": 0,
    "start_time": "2022-08-03T17:28:07.616Z"
   },
   {
    "duration": 0,
    "start_time": "2022-08-03T17:28:07.617Z"
   },
   {
    "duration": 0,
    "start_time": "2022-08-03T17:28:07.617Z"
   },
   {
    "duration": 0,
    "start_time": "2022-08-03T17:28:07.618Z"
   },
   {
    "duration": 0,
    "start_time": "2022-08-03T17:28:07.619Z"
   },
   {
    "duration": 0,
    "start_time": "2022-08-03T17:28:07.620Z"
   },
   {
    "duration": 0,
    "start_time": "2022-08-03T17:28:07.622Z"
   },
   {
    "duration": 0,
    "start_time": "2022-08-03T17:28:07.622Z"
   },
   {
    "duration": 0,
    "start_time": "2022-08-03T17:28:07.629Z"
   },
   {
    "duration": 0,
    "start_time": "2022-08-03T17:28:07.630Z"
   },
   {
    "duration": 0,
    "start_time": "2022-08-03T17:28:07.630Z"
   },
   {
    "duration": 0,
    "start_time": "2022-08-03T17:28:07.631Z"
   },
   {
    "duration": 0,
    "start_time": "2022-08-03T17:28:07.656Z"
   },
   {
    "duration": 0,
    "start_time": "2022-08-03T17:28:07.658Z"
   },
   {
    "duration": 0,
    "start_time": "2022-08-03T17:28:07.659Z"
   },
   {
    "duration": 0,
    "start_time": "2022-08-03T17:28:07.660Z"
   },
   {
    "duration": 0,
    "start_time": "2022-08-03T17:28:07.661Z"
   },
   {
    "duration": 0,
    "start_time": "2022-08-03T17:28:07.663Z"
   },
   {
    "duration": 0,
    "start_time": "2022-08-03T17:28:07.664Z"
   },
   {
    "duration": 0,
    "start_time": "2022-08-03T17:28:07.665Z"
   },
   {
    "duration": 0,
    "start_time": "2022-08-03T17:28:07.666Z"
   },
   {
    "duration": 0,
    "start_time": "2022-08-03T17:28:07.668Z"
   },
   {
    "duration": 0,
    "start_time": "2022-08-03T17:28:07.669Z"
   },
   {
    "duration": 1,
    "start_time": "2022-08-03T17:28:07.670Z"
   },
   {
    "duration": 18,
    "start_time": "2022-08-03T17:31:25.152Z"
   },
   {
    "duration": 15,
    "start_time": "2022-08-03T17:31:57.600Z"
   },
   {
    "duration": 4,
    "start_time": "2022-08-03T17:32:51.549Z"
   },
   {
    "duration": 9,
    "start_time": "2022-08-03T17:32:53.283Z"
   },
   {
    "duration": 8,
    "start_time": "2022-08-03T17:32:53.814Z"
   },
   {
    "duration": 4,
    "start_time": "2022-08-03T17:32:56.453Z"
   },
   {
    "duration": 9,
    "start_time": "2022-08-03T17:32:57.526Z"
   },
   {
    "duration": 6,
    "start_time": "2022-08-03T17:37:25.424Z"
   },
   {
    "duration": 8,
    "start_time": "2022-08-03T17:39:05.785Z"
   },
   {
    "duration": 10,
    "start_time": "2022-08-03T17:39:09.447Z"
   },
   {
    "duration": 9,
    "start_time": "2022-08-03T17:39:32.789Z"
   },
   {
    "duration": 8,
    "start_time": "2022-08-03T17:39:41.675Z"
   },
   {
    "duration": 9,
    "start_time": "2022-08-03T17:39:51.620Z"
   },
   {
    "duration": 12,
    "start_time": "2022-08-03T17:42:43.311Z"
   },
   {
    "duration": 8,
    "start_time": "2022-08-03T17:43:11.686Z"
   },
   {
    "duration": 9,
    "start_time": "2022-08-03T17:44:47.976Z"
   },
   {
    "duration": 8,
    "start_time": "2022-08-03T17:45:06.868Z"
   },
   {
    "duration": 13,
    "start_time": "2022-08-03T17:47:57.148Z"
   },
   {
    "duration": 10,
    "start_time": "2022-08-03T17:48:10.285Z"
   },
   {
    "duration": 70,
    "start_time": "2022-08-03T17:48:39.068Z"
   },
   {
    "duration": 11,
    "start_time": "2022-08-03T17:51:14.895Z"
   },
   {
    "duration": 11,
    "start_time": "2022-08-03T17:51:31.245Z"
   },
   {
    "duration": 12,
    "start_time": "2022-08-03T18:06:01.294Z"
   },
   {
    "duration": 5,
    "start_time": "2022-08-03T18:09:02.340Z"
   },
   {
    "duration": 6,
    "start_time": "2022-08-03T18:09:18.732Z"
   },
   {
    "duration": 511,
    "start_time": "2022-08-03T18:17:47.392Z"
   },
   {
    "duration": 261,
    "start_time": "2022-08-03T19:31:08.965Z"
   },
   {
    "duration": 582,
    "start_time": "2022-08-04T17:06:47.163Z"
   },
   {
    "duration": 3,
    "start_time": "2022-08-04T17:06:47.747Z"
   },
   {
    "duration": 22,
    "start_time": "2022-08-04T17:06:47.751Z"
   },
   {
    "duration": 16,
    "start_time": "2022-08-04T17:06:47.774Z"
   },
   {
    "duration": 10,
    "start_time": "2022-08-04T17:06:47.791Z"
   },
   {
    "duration": 13,
    "start_time": "2022-08-04T17:06:47.802Z"
   },
   {
    "duration": 24,
    "start_time": "2022-08-04T17:06:47.816Z"
   },
   {
    "duration": 13,
    "start_time": "2022-08-04T17:06:47.842Z"
   },
   {
    "duration": 12,
    "start_time": "2022-08-04T17:06:47.856Z"
   },
   {
    "duration": 8,
    "start_time": "2022-08-04T17:06:47.869Z"
   },
   {
    "duration": 11,
    "start_time": "2022-08-04T17:06:47.878Z"
   },
   {
    "duration": 13,
    "start_time": "2022-08-04T17:06:47.890Z"
   },
   {
    "duration": 10,
    "start_time": "2022-08-04T17:06:47.939Z"
   },
   {
    "duration": 20,
    "start_time": "2022-08-04T17:06:47.952Z"
   },
   {
    "duration": 7,
    "start_time": "2022-08-04T17:06:47.974Z"
   },
   {
    "duration": 14,
    "start_time": "2022-08-04T17:06:47.982Z"
   },
   {
    "duration": 10,
    "start_time": "2022-08-04T17:06:47.998Z"
   },
   {
    "duration": 29,
    "start_time": "2022-08-04T17:06:48.010Z"
   },
   {
    "duration": 33,
    "start_time": "2022-08-04T17:06:48.041Z"
   },
   {
    "duration": 10,
    "start_time": "2022-08-04T17:06:48.075Z"
   },
   {
    "duration": 19,
    "start_time": "2022-08-04T17:06:48.087Z"
   },
   {
    "duration": 2,
    "start_time": "2022-08-04T17:06:48.107Z"
   },
   {
    "duration": 6,
    "start_time": "2022-08-04T17:06:48.111Z"
   },
   {
    "duration": 21,
    "start_time": "2022-08-04T17:06:48.118Z"
   },
   {
    "duration": 8,
    "start_time": "2022-08-04T17:06:48.140Z"
   },
   {
    "duration": 6,
    "start_time": "2022-08-04T17:06:48.150Z"
   },
   {
    "duration": 8,
    "start_time": "2022-08-04T17:06:48.157Z"
   },
   {
    "duration": 4,
    "start_time": "2022-08-04T17:06:48.167Z"
   },
   {
    "duration": 4,
    "start_time": "2022-08-04T17:06:48.173Z"
   },
   {
    "duration": 8,
    "start_time": "2022-08-04T17:06:48.178Z"
   },
   {
    "duration": 8,
    "start_time": "2022-08-04T17:06:48.187Z"
   },
   {
    "duration": 3,
    "start_time": "2022-08-04T17:06:48.197Z"
   },
   {
    "duration": 39,
    "start_time": "2022-08-04T17:06:48.202Z"
   },
   {
    "duration": 36,
    "start_time": "2022-08-04T17:06:48.242Z"
   },
   {
    "duration": 4,
    "start_time": "2022-08-04T17:06:48.279Z"
   },
   {
    "duration": 57,
    "start_time": "2022-08-04T17:06:48.284Z"
   },
   {
    "duration": 6,
    "start_time": "2022-08-04T17:06:48.342Z"
   },
   {
    "duration": 4,
    "start_time": "2022-08-04T17:06:48.350Z"
   },
   {
    "duration": 6,
    "start_time": "2022-08-04T17:06:48.355Z"
   },
   {
    "duration": 8,
    "start_time": "2022-08-04T17:06:48.363Z"
   },
   {
    "duration": 3,
    "start_time": "2022-08-04T17:06:48.375Z"
   },
   {
    "duration": 7,
    "start_time": "2022-08-04T17:06:48.380Z"
   },
   {
    "duration": 7,
    "start_time": "2022-08-04T17:06:48.388Z"
   },
   {
    "duration": 8,
    "start_time": "2022-08-04T17:06:48.397Z"
   },
   {
    "duration": 33,
    "start_time": "2022-08-04T17:06:48.406Z"
   },
   {
    "duration": 26,
    "start_time": "2022-08-04T17:06:48.441Z"
   },
   {
    "duration": 16,
    "start_time": "2022-08-04T17:06:48.468Z"
   },
   {
    "duration": 17,
    "start_time": "2022-08-04T17:06:48.485Z"
   },
   {
    "duration": 40,
    "start_time": "2022-08-04T17:06:48.503Z"
   },
   {
    "duration": 29,
    "start_time": "2022-08-04T17:06:48.545Z"
   },
   {
    "duration": 11,
    "start_time": "2022-08-04T17:06:48.575Z"
   },
   {
    "duration": 11,
    "start_time": "2022-08-04T17:06:48.588Z"
   },
   {
    "duration": 7,
    "start_time": "2022-08-04T17:06:48.600Z"
   },
   {
    "duration": 6,
    "start_time": "2022-08-04T17:06:48.609Z"
   },
   {
    "duration": 11,
    "start_time": "2022-08-04T17:06:48.638Z"
   },
   {
    "duration": 8,
    "start_time": "2022-08-04T17:06:48.650Z"
   },
   {
    "duration": 22,
    "start_time": "2022-08-04T17:06:48.660Z"
   },
   {
    "duration": 3,
    "start_time": "2022-08-04T17:06:48.683Z"
   },
   {
    "duration": 14,
    "start_time": "2022-08-04T17:06:48.688Z"
   },
   {
    "duration": 6,
    "start_time": "2022-08-04T17:06:48.704Z"
   },
   {
    "duration": 8,
    "start_time": "2022-08-04T17:06:48.738Z"
   },
   {
    "duration": 60,
    "start_time": "2022-08-04T17:06:48.748Z"
   },
   {
    "duration": 0,
    "start_time": "2022-08-04T17:06:48.810Z"
   },
   {
    "duration": 0,
    "start_time": "2022-08-04T17:06:48.811Z"
   },
   {
    "duration": 0,
    "start_time": "2022-08-04T17:06:48.812Z"
   },
   {
    "duration": 0,
    "start_time": "2022-08-04T17:06:48.813Z"
   },
   {
    "duration": 0,
    "start_time": "2022-08-04T17:06:48.814Z"
   },
   {
    "duration": 0,
    "start_time": "2022-08-04T17:06:48.815Z"
   },
   {
    "duration": 0,
    "start_time": "2022-08-04T17:06:48.838Z"
   },
   {
    "duration": 0,
    "start_time": "2022-08-04T17:06:48.839Z"
   },
   {
    "duration": 0,
    "start_time": "2022-08-04T17:06:48.840Z"
   },
   {
    "duration": 0,
    "start_time": "2022-08-04T17:06:48.841Z"
   },
   {
    "duration": 0,
    "start_time": "2022-08-04T17:06:48.842Z"
   },
   {
    "duration": 0,
    "start_time": "2022-08-04T17:06:48.843Z"
   },
   {
    "duration": 0,
    "start_time": "2022-08-04T17:06:48.843Z"
   },
   {
    "duration": 0,
    "start_time": "2022-08-04T17:06:48.844Z"
   },
   {
    "duration": 0,
    "start_time": "2022-08-04T17:06:48.845Z"
   },
   {
    "duration": 0,
    "start_time": "2022-08-04T17:06:48.846Z"
   },
   {
    "duration": 0,
    "start_time": "2022-08-04T17:06:48.847Z"
   },
   {
    "duration": 0,
    "start_time": "2022-08-04T17:06:48.849Z"
   },
   {
    "duration": 0,
    "start_time": "2022-08-04T17:06:48.850Z"
   },
   {
    "duration": 0,
    "start_time": "2022-08-04T17:06:48.860Z"
   },
   {
    "duration": 0,
    "start_time": "2022-08-04T17:06:48.862Z"
   },
   {
    "duration": 0,
    "start_time": "2022-08-04T17:06:48.863Z"
   },
   {
    "duration": 0,
    "start_time": "2022-08-04T17:06:48.864Z"
   },
   {
    "duration": 0,
    "start_time": "2022-08-04T17:06:48.865Z"
   },
   {
    "duration": 0,
    "start_time": "2022-08-04T17:06:48.867Z"
   },
   {
    "duration": 0,
    "start_time": "2022-08-04T17:06:48.869Z"
   },
   {
    "duration": 0,
    "start_time": "2022-08-04T17:06:48.871Z"
   },
   {
    "duration": 0,
    "start_time": "2022-08-04T17:06:48.873Z"
   },
   {
    "duration": 0,
    "start_time": "2022-08-04T17:06:48.874Z"
   },
   {
    "duration": 0,
    "start_time": "2022-08-04T17:06:48.876Z"
   },
   {
    "duration": 0,
    "start_time": "2022-08-04T17:06:48.877Z"
   },
   {
    "duration": 0,
    "start_time": "2022-08-04T17:06:48.879Z"
   },
   {
    "duration": 0,
    "start_time": "2022-08-04T17:06:48.880Z"
   },
   {
    "duration": 0,
    "start_time": "2022-08-04T17:06:48.881Z"
   },
   {
    "duration": 635,
    "start_time": "2022-08-04T17:07:04.519Z"
   },
   {
    "duration": 10,
    "start_time": "2022-08-04T17:07:53.821Z"
   },
   {
    "duration": 10,
    "start_time": "2022-08-04T17:07:57.139Z"
   },
   {
    "duration": 8,
    "start_time": "2022-08-04T17:07:57.736Z"
   },
   {
    "duration": 9,
    "start_time": "2022-08-04T17:07:58.017Z"
   },
   {
    "duration": 11,
    "start_time": "2022-08-04T17:07:58.230Z"
   },
   {
    "duration": 12,
    "start_time": "2022-08-04T17:07:58.443Z"
   },
   {
    "duration": 5,
    "start_time": "2022-08-04T17:07:58.631Z"
   },
   {
    "duration": 339,
    "start_time": "2022-08-04T17:07:58.852Z"
   },
   {
    "duration": 25,
    "start_time": "2022-08-04T17:25:00.577Z"
   },
   {
    "duration": 13,
    "start_time": "2022-08-04T17:25:24.755Z"
   },
   {
    "duration": 16,
    "start_time": "2022-08-04T17:37:55.416Z"
   },
   {
    "duration": 485,
    "start_time": "2022-08-04T18:11:19.364Z"
   },
   {
    "duration": 3,
    "start_time": "2022-08-04T18:11:19.851Z"
   },
   {
    "duration": 24,
    "start_time": "2022-08-04T18:11:19.856Z"
   },
   {
    "duration": 14,
    "start_time": "2022-08-04T18:11:19.883Z"
   },
   {
    "duration": 10,
    "start_time": "2022-08-04T18:11:19.899Z"
   },
   {
    "duration": 12,
    "start_time": "2022-08-04T18:11:19.938Z"
   },
   {
    "duration": 16,
    "start_time": "2022-08-04T18:11:19.952Z"
   },
   {
    "duration": 14,
    "start_time": "2022-08-04T18:11:19.969Z"
   },
   {
    "duration": 11,
    "start_time": "2022-08-04T18:11:19.985Z"
   },
   {
    "duration": 47,
    "start_time": "2022-08-04T18:11:19.999Z"
   },
   {
    "duration": 16,
    "start_time": "2022-08-04T18:11:20.048Z"
   },
   {
    "duration": 15,
    "start_time": "2022-08-04T18:11:20.066Z"
   },
   {
    "duration": 13,
    "start_time": "2022-08-04T18:11:20.082Z"
   },
   {
    "duration": 64,
    "start_time": "2022-08-04T18:11:20.096Z"
   },
   {
    "duration": 13,
    "start_time": "2022-08-04T18:11:20.162Z"
   },
   {
    "duration": 34,
    "start_time": "2022-08-04T18:11:20.177Z"
   },
   {
    "duration": 25,
    "start_time": "2022-08-04T18:11:20.214Z"
   },
   {
    "duration": 9,
    "start_time": "2022-08-04T18:11:20.241Z"
   },
   {
    "duration": 51,
    "start_time": "2022-08-04T18:11:20.252Z"
   },
   {
    "duration": 17,
    "start_time": "2022-08-04T18:11:20.305Z"
   },
   {
    "duration": 15,
    "start_time": "2022-08-04T18:11:20.339Z"
   },
   {
    "duration": 12,
    "start_time": "2022-08-04T18:11:20.356Z"
   },
   {
    "duration": 10,
    "start_time": "2022-08-04T18:11:20.369Z"
   },
   {
    "duration": 7,
    "start_time": "2022-08-04T18:11:20.381Z"
   },
   {
    "duration": 14,
    "start_time": "2022-08-04T18:11:20.390Z"
   },
   {
    "duration": 9,
    "start_time": "2022-08-04T18:11:20.406Z"
   },
   {
    "duration": 8,
    "start_time": "2022-08-04T18:11:20.439Z"
   },
   {
    "duration": 15,
    "start_time": "2022-08-04T18:11:20.452Z"
   },
   {
    "duration": 8,
    "start_time": "2022-08-04T18:11:20.468Z"
   },
   {
    "duration": 12,
    "start_time": "2022-08-04T18:11:20.478Z"
   },
   {
    "duration": 14,
    "start_time": "2022-08-04T18:11:20.492Z"
   },
   {
    "duration": 4,
    "start_time": "2022-08-04T18:11:20.508Z"
   },
   {
    "duration": 32,
    "start_time": "2022-08-04T18:11:20.513Z"
   },
   {
    "duration": 34,
    "start_time": "2022-08-04T18:11:20.546Z"
   },
   {
    "duration": 5,
    "start_time": "2022-08-04T18:11:20.582Z"
   },
   {
    "duration": 66,
    "start_time": "2022-08-04T18:11:20.589Z"
   },
   {
    "duration": 6,
    "start_time": "2022-08-04T18:11:20.657Z"
   },
   {
    "duration": 16,
    "start_time": "2022-08-04T18:11:20.665Z"
   },
   {
    "duration": 8,
    "start_time": "2022-08-04T18:11:20.683Z"
   },
   {
    "duration": 10,
    "start_time": "2022-08-04T18:11:20.692Z"
   },
   {
    "duration": 7,
    "start_time": "2022-08-04T18:11:20.704Z"
   },
   {
    "duration": 9,
    "start_time": "2022-08-04T18:11:20.713Z"
   },
   {
    "duration": 6,
    "start_time": "2022-08-04T18:11:20.738Z"
   },
   {
    "duration": 18,
    "start_time": "2022-08-04T18:11:20.746Z"
   },
   {
    "duration": 10,
    "start_time": "2022-08-04T18:11:20.765Z"
   },
   {
    "duration": 30,
    "start_time": "2022-08-04T18:11:20.777Z"
   },
   {
    "duration": 38,
    "start_time": "2022-08-04T18:11:20.809Z"
   },
   {
    "duration": 18,
    "start_time": "2022-08-04T18:11:20.849Z"
   },
   {
    "duration": 16,
    "start_time": "2022-08-04T18:11:20.870Z"
   },
   {
    "duration": 67,
    "start_time": "2022-08-04T18:11:20.887Z"
   },
   {
    "duration": 16,
    "start_time": "2022-08-04T18:11:20.955Z"
   },
   {
    "duration": 10,
    "start_time": "2022-08-04T18:11:20.974Z"
   },
   {
    "duration": 5,
    "start_time": "2022-08-04T18:11:20.986Z"
   },
   {
    "duration": 7,
    "start_time": "2022-08-04T18:11:20.993Z"
   },
   {
    "duration": 49,
    "start_time": "2022-08-04T18:11:21.002Z"
   },
   {
    "duration": 12,
    "start_time": "2022-08-04T18:11:21.053Z"
   },
   {
    "duration": 24,
    "start_time": "2022-08-04T18:11:21.067Z"
   },
   {
    "duration": 4,
    "start_time": "2022-08-04T18:11:21.093Z"
   },
   {
    "duration": 43,
    "start_time": "2022-08-04T18:11:21.098Z"
   },
   {
    "duration": 14,
    "start_time": "2022-08-04T18:11:21.143Z"
   },
   {
    "duration": 12,
    "start_time": "2022-08-04T18:11:21.159Z"
   },
   {
    "duration": 22,
    "start_time": "2022-08-04T18:11:21.172Z"
   },
   {
    "duration": 13,
    "start_time": "2022-08-04T18:11:21.196Z"
   },
   {
    "duration": 33,
    "start_time": "2022-08-04T18:11:21.212Z"
   },
   {
    "duration": 13,
    "start_time": "2022-08-04T18:11:21.247Z"
   },
   {
    "duration": 28,
    "start_time": "2022-08-04T18:11:21.262Z"
   },
   {
    "duration": 14,
    "start_time": "2022-08-04T18:11:21.293Z"
   },
   {
    "duration": 31,
    "start_time": "2022-08-04T18:11:21.309Z"
   },
   {
    "duration": 499,
    "start_time": "2022-08-04T18:11:21.343Z"
   },
   {
    "duration": 14,
    "start_time": "2022-08-04T18:11:21.843Z"
   },
   {
    "duration": 37,
    "start_time": "2022-08-04T18:11:21.859Z"
   },
   {
    "duration": 6,
    "start_time": "2022-08-04T18:11:21.898Z"
   },
   {
    "duration": 5,
    "start_time": "2022-08-04T18:11:21.906Z"
   },
   {
    "duration": 6,
    "start_time": "2022-08-04T18:11:21.913Z"
   },
   {
    "duration": 6,
    "start_time": "2022-08-04T18:11:21.921Z"
   },
   {
    "duration": 9,
    "start_time": "2022-08-04T18:11:21.929Z"
   },
   {
    "duration": 9,
    "start_time": "2022-08-04T18:11:21.940Z"
   },
   {
    "duration": 7,
    "start_time": "2022-08-04T18:11:21.951Z"
   },
   {
    "duration": 4,
    "start_time": "2022-08-04T18:11:21.960Z"
   },
   {
    "duration": 18,
    "start_time": "2022-08-04T18:11:21.966Z"
   },
   {
    "duration": 5,
    "start_time": "2022-08-04T18:11:21.986Z"
   },
   {
    "duration": 2,
    "start_time": "2022-08-04T18:11:21.997Z"
   },
   {
    "duration": 5,
    "start_time": "2022-08-04T18:11:22.001Z"
   },
   {
    "duration": 4,
    "start_time": "2022-08-04T18:11:22.008Z"
   },
   {
    "duration": 25,
    "start_time": "2022-08-04T18:11:22.013Z"
   },
   {
    "duration": 5,
    "start_time": "2022-08-04T18:11:22.040Z"
   },
   {
    "duration": 7,
    "start_time": "2022-08-04T18:11:22.046Z"
   },
   {
    "duration": 6,
    "start_time": "2022-08-04T18:11:22.054Z"
   },
   {
    "duration": 9,
    "start_time": "2022-08-04T18:11:22.061Z"
   },
   {
    "duration": 8,
    "start_time": "2022-08-04T18:11:22.072Z"
   },
   {
    "duration": 5,
    "start_time": "2022-08-04T18:11:22.081Z"
   },
   {
    "duration": 5,
    "start_time": "2022-08-04T18:11:22.088Z"
   },
   {
    "duration": 5,
    "start_time": "2022-08-04T18:11:22.095Z"
   },
   {
    "duration": 44,
    "start_time": "2022-08-04T18:11:22.102Z"
   },
   {
    "duration": 8,
    "start_time": "2022-08-04T18:11:22.148Z"
   },
   {
    "duration": 5,
    "start_time": "2022-08-04T18:11:22.158Z"
   },
   {
    "duration": 4,
    "start_time": "2022-08-04T18:11:22.165Z"
   },
   {
    "duration": 10,
    "start_time": "2022-08-04T18:52:23.452Z"
   },
   {
    "duration": 11,
    "start_time": "2022-08-04T18:52:55.321Z"
   },
   {
    "duration": 16,
    "start_time": "2022-08-04T18:53:21.494Z"
   },
   {
    "duration": 430,
    "start_time": "2022-08-04T19:13:33.979Z"
   },
   {
    "duration": 3,
    "start_time": "2022-08-04T19:13:34.411Z"
   },
   {
    "duration": 23,
    "start_time": "2022-08-04T19:13:34.415Z"
   },
   {
    "duration": 14,
    "start_time": "2022-08-04T19:13:34.439Z"
   },
   {
    "duration": 8,
    "start_time": "2022-08-04T19:13:34.455Z"
   },
   {
    "duration": 11,
    "start_time": "2022-08-04T19:13:34.465Z"
   },
   {
    "duration": 10,
    "start_time": "2022-08-04T19:13:34.477Z"
   },
   {
    "duration": 13,
    "start_time": "2022-08-04T19:13:34.488Z"
   },
   {
    "duration": 45,
    "start_time": "2022-08-04T19:13:34.502Z"
   },
   {
    "duration": 9,
    "start_time": "2022-08-04T19:13:34.549Z"
   },
   {
    "duration": 13,
    "start_time": "2022-08-04T19:13:34.559Z"
   },
   {
    "duration": 15,
    "start_time": "2022-08-04T19:13:34.574Z"
   },
   {
    "duration": 10,
    "start_time": "2022-08-04T19:13:34.591Z"
   },
   {
    "duration": 54,
    "start_time": "2022-08-04T19:13:34.603Z"
   },
   {
    "duration": 7,
    "start_time": "2022-08-04T19:13:34.658Z"
   },
   {
    "duration": 10,
    "start_time": "2022-08-04T19:13:34.667Z"
   },
   {
    "duration": 9,
    "start_time": "2022-08-04T19:13:34.679Z"
   },
   {
    "duration": 4,
    "start_time": "2022-08-04T19:13:34.690Z"
   },
   {
    "duration": 71,
    "start_time": "2022-08-04T19:13:34.696Z"
   },
   {
    "duration": 12,
    "start_time": "2022-08-04T19:13:34.769Z"
   },
   {
    "duration": 12,
    "start_time": "2022-08-04T19:13:34.783Z"
   },
   {
    "duration": 3,
    "start_time": "2022-08-04T19:13:34.796Z"
   },
   {
    "duration": 5,
    "start_time": "2022-08-04T19:13:34.800Z"
   },
   {
    "duration": 6,
    "start_time": "2022-08-04T19:13:34.806Z"
   },
   {
    "duration": 29,
    "start_time": "2022-08-04T19:13:34.814Z"
   },
   {
    "duration": 7,
    "start_time": "2022-08-04T19:13:34.844Z"
   },
   {
    "duration": 8,
    "start_time": "2022-08-04T19:13:34.853Z"
   },
   {
    "duration": 4,
    "start_time": "2022-08-04T19:13:34.865Z"
   },
   {
    "duration": 6,
    "start_time": "2022-08-04T19:13:34.870Z"
   },
   {
    "duration": 6,
    "start_time": "2022-08-04T19:13:34.877Z"
   },
   {
    "duration": 8,
    "start_time": "2022-08-04T19:13:34.884Z"
   },
   {
    "duration": 3,
    "start_time": "2022-08-04T19:13:34.893Z"
   },
   {
    "duration": 9,
    "start_time": "2022-08-04T19:13:34.897Z"
   },
   {
    "duration": 30,
    "start_time": "2022-08-04T19:13:34.939Z"
   },
   {
    "duration": 4,
    "start_time": "2022-08-04T19:13:34.971Z"
   },
   {
    "duration": 31,
    "start_time": "2022-08-04T19:13:34.976Z"
   },
   {
    "duration": 5,
    "start_time": "2022-08-04T19:13:35.009Z"
   },
   {
    "duration": 23,
    "start_time": "2022-08-04T19:13:35.016Z"
   },
   {
    "duration": 7,
    "start_time": "2022-08-04T19:13:35.040Z"
   },
   {
    "duration": 11,
    "start_time": "2022-08-04T19:13:35.048Z"
   },
   {
    "duration": 7,
    "start_time": "2022-08-04T19:13:35.061Z"
   },
   {
    "duration": 7,
    "start_time": "2022-08-04T19:13:35.070Z"
   },
   {
    "duration": 19,
    "start_time": "2022-08-04T19:13:35.079Z"
   },
   {
    "duration": 11,
    "start_time": "2022-08-04T19:13:35.099Z"
   },
   {
    "duration": 8,
    "start_time": "2022-08-04T19:13:35.112Z"
   },
   {
    "duration": 31,
    "start_time": "2022-08-04T19:13:35.122Z"
   },
   {
    "duration": 15,
    "start_time": "2022-08-04T19:13:35.154Z"
   },
   {
    "duration": 17,
    "start_time": "2022-08-04T19:13:35.170Z"
   },
   {
    "duration": 13,
    "start_time": "2022-08-04T19:13:35.189Z"
   },
   {
    "duration": 51,
    "start_time": "2022-08-04T19:13:35.204Z"
   },
   {
    "duration": 13,
    "start_time": "2022-08-04T19:13:35.257Z"
   },
   {
    "duration": 16,
    "start_time": "2022-08-04T19:13:35.272Z"
   },
   {
    "duration": 5,
    "start_time": "2022-08-04T19:13:35.289Z"
   },
   {
    "duration": 5,
    "start_time": "2022-08-04T19:13:35.296Z"
   },
   {
    "duration": 14,
    "start_time": "2022-08-04T19:13:35.302Z"
   },
   {
    "duration": 24,
    "start_time": "2022-08-04T19:13:35.317Z"
   },
   {
    "duration": 24,
    "start_time": "2022-08-04T19:13:35.343Z"
   },
   {
    "duration": 3,
    "start_time": "2022-08-04T19:13:35.369Z"
   },
   {
    "duration": 11,
    "start_time": "2022-08-04T19:13:35.374Z"
   },
   {
    "duration": 7,
    "start_time": "2022-08-04T19:13:35.386Z"
   },
   {
    "duration": 8,
    "start_time": "2022-08-04T19:13:35.395Z"
   },
   {
    "duration": 35,
    "start_time": "2022-08-04T19:13:35.404Z"
   },
   {
    "duration": 10,
    "start_time": "2022-08-04T19:13:35.440Z"
   },
   {
    "duration": 7,
    "start_time": "2022-08-04T19:13:35.451Z"
   },
   {
    "duration": 8,
    "start_time": "2022-08-04T19:13:35.459Z"
   },
   {
    "duration": 11,
    "start_time": "2022-08-04T19:13:35.469Z"
   },
   {
    "duration": 10,
    "start_time": "2022-08-04T19:13:35.481Z"
   },
   {
    "duration": 47,
    "start_time": "2022-08-04T19:13:35.492Z"
   },
   {
    "duration": 477,
    "start_time": "2022-08-04T19:13:35.541Z"
   },
   {
    "duration": 19,
    "start_time": "2022-08-04T19:13:36.020Z"
   },
   {
    "duration": 10,
    "start_time": "2022-08-04T19:13:36.041Z"
   },
   {
    "duration": 15,
    "start_time": "2022-08-04T19:13:36.053Z"
   },
   {
    "duration": 49,
    "start_time": "2022-08-04T19:13:36.069Z"
   },
   {
    "duration": 0,
    "start_time": "2022-08-04T19:13:36.121Z"
   },
   {
    "duration": 0,
    "start_time": "2022-08-04T19:13:36.123Z"
   },
   {
    "duration": 0,
    "start_time": "2022-08-04T19:13:36.124Z"
   },
   {
    "duration": 0,
    "start_time": "2022-08-04T19:13:36.126Z"
   },
   {
    "duration": 0,
    "start_time": "2022-08-04T19:13:36.128Z"
   },
   {
    "duration": 0,
    "start_time": "2022-08-04T19:13:36.129Z"
   },
   {
    "duration": 0,
    "start_time": "2022-08-04T19:13:36.131Z"
   },
   {
    "duration": 0,
    "start_time": "2022-08-04T19:13:36.133Z"
   },
   {
    "duration": 0,
    "start_time": "2022-08-04T19:13:36.134Z"
   },
   {
    "duration": 0,
    "start_time": "2022-08-04T19:13:36.136Z"
   },
   {
    "duration": 0,
    "start_time": "2022-08-04T19:13:36.138Z"
   },
   {
    "duration": 0,
    "start_time": "2022-08-04T19:13:36.139Z"
   },
   {
    "duration": 0,
    "start_time": "2022-08-04T19:13:36.141Z"
   },
   {
    "duration": 0,
    "start_time": "2022-08-04T19:13:36.143Z"
   },
   {
    "duration": 0,
    "start_time": "2022-08-04T19:13:36.144Z"
   },
   {
    "duration": 0,
    "start_time": "2022-08-04T19:13:36.145Z"
   },
   {
    "duration": 0,
    "start_time": "2022-08-04T19:13:36.146Z"
   },
   {
    "duration": 0,
    "start_time": "2022-08-04T19:13:36.148Z"
   },
   {
    "duration": 0,
    "start_time": "2022-08-04T19:13:36.149Z"
   },
   {
    "duration": 1,
    "start_time": "2022-08-04T19:13:36.151Z"
   },
   {
    "duration": 0,
    "start_time": "2022-08-04T19:13:36.153Z"
   },
   {
    "duration": 0,
    "start_time": "2022-08-04T19:13:36.154Z"
   },
   {
    "duration": 0,
    "start_time": "2022-08-04T19:13:36.156Z"
   },
   {
    "duration": 0,
    "start_time": "2022-08-04T19:13:36.157Z"
   },
   {
    "duration": 0,
    "start_time": "2022-08-04T19:13:36.158Z"
   },
   {
    "duration": 0,
    "start_time": "2022-08-04T19:13:36.160Z"
   },
   {
    "duration": 0,
    "start_time": "2022-08-04T19:13:36.161Z"
   },
   {
    "duration": 18,
    "start_time": "2022-08-04T19:14:30.656Z"
   },
   {
    "duration": 5,
    "start_time": "2022-08-04T19:20:51.580Z"
   },
   {
    "duration": 70,
    "start_time": "2022-08-04T19:21:20.597Z"
   },
   {
    "duration": 44,
    "start_time": "2022-08-04T19:21:59.618Z"
   },
   {
    "duration": 7,
    "start_time": "2022-08-04T19:22:07.148Z"
   },
   {
    "duration": 53,
    "start_time": "2022-08-04T19:22:27.992Z"
   },
   {
    "duration": 4,
    "start_time": "2022-08-04T19:22:36.720Z"
   },
   {
    "duration": 7,
    "start_time": "2022-08-04T19:23:29.216Z"
   },
   {
    "duration": 6,
    "start_time": "2022-08-04T19:24:53.336Z"
   },
   {
    "duration": 449,
    "start_time": "2022-08-04T19:30:45.985Z"
   },
   {
    "duration": 3,
    "start_time": "2022-08-04T19:30:46.436Z"
   },
   {
    "duration": 24,
    "start_time": "2022-08-04T19:30:46.441Z"
   },
   {
    "duration": 17,
    "start_time": "2022-08-04T19:30:46.467Z"
   },
   {
    "duration": 9,
    "start_time": "2022-08-04T19:30:46.486Z"
   },
   {
    "duration": 13,
    "start_time": "2022-08-04T19:30:46.497Z"
   },
   {
    "duration": 37,
    "start_time": "2022-08-04T19:30:46.512Z"
   },
   {
    "duration": 14,
    "start_time": "2022-08-04T19:30:46.551Z"
   },
   {
    "duration": 12,
    "start_time": "2022-08-04T19:30:46.567Z"
   },
   {
    "duration": 10,
    "start_time": "2022-08-04T19:30:46.580Z"
   },
   {
    "duration": 48,
    "start_time": "2022-08-04T19:30:46.591Z"
   },
   {
    "duration": 15,
    "start_time": "2022-08-04T19:30:46.641Z"
   },
   {
    "duration": 10,
    "start_time": "2022-08-04T19:30:46.657Z"
   },
   {
    "duration": 22,
    "start_time": "2022-08-04T19:30:46.671Z"
   },
   {
    "duration": 8,
    "start_time": "2022-08-04T19:30:46.695Z"
   },
   {
    "duration": 10,
    "start_time": "2022-08-04T19:30:46.739Z"
   },
   {
    "duration": 11,
    "start_time": "2022-08-04T19:30:46.750Z"
   },
   {
    "duration": 5,
    "start_time": "2022-08-04T19:30:46.763Z"
   },
   {
    "duration": 69,
    "start_time": "2022-08-04T19:30:46.770Z"
   },
   {
    "duration": 11,
    "start_time": "2022-08-04T19:30:46.841Z"
   },
   {
    "duration": 25,
    "start_time": "2022-08-04T19:30:46.854Z"
   },
   {
    "duration": 5,
    "start_time": "2022-08-04T19:30:46.880Z"
   },
   {
    "duration": 5,
    "start_time": "2022-08-04T19:30:46.886Z"
   },
   {
    "duration": 9,
    "start_time": "2022-08-04T19:30:46.893Z"
   },
   {
    "duration": 14,
    "start_time": "2022-08-04T19:30:46.904Z"
   },
   {
    "duration": 6,
    "start_time": "2022-08-04T19:30:46.920Z"
   },
   {
    "duration": 11,
    "start_time": "2022-08-04T19:30:46.928Z"
   },
   {
    "duration": 8,
    "start_time": "2022-08-04T19:30:46.940Z"
   },
   {
    "duration": 9,
    "start_time": "2022-08-04T19:30:46.950Z"
   },
   {
    "duration": 7,
    "start_time": "2022-08-04T19:30:46.960Z"
   },
   {
    "duration": 8,
    "start_time": "2022-08-04T19:30:46.969Z"
   },
   {
    "duration": 3,
    "start_time": "2022-08-04T19:30:46.979Z"
   },
   {
    "duration": 13,
    "start_time": "2022-08-04T19:30:46.983Z"
   },
   {
    "duration": 62,
    "start_time": "2022-08-04T19:30:46.998Z"
   },
   {
    "duration": 4,
    "start_time": "2022-08-04T19:30:47.061Z"
   },
   {
    "duration": 34,
    "start_time": "2022-08-04T19:30:47.066Z"
   },
   {
    "duration": 6,
    "start_time": "2022-08-04T19:30:47.101Z"
   },
   {
    "duration": 29,
    "start_time": "2022-08-04T19:30:47.109Z"
   },
   {
    "duration": 5,
    "start_time": "2022-08-04T19:30:47.140Z"
   },
   {
    "duration": 8,
    "start_time": "2022-08-04T19:30:47.148Z"
   },
   {
    "duration": 4,
    "start_time": "2022-08-04T19:30:47.160Z"
   },
   {
    "duration": 7,
    "start_time": "2022-08-04T19:30:47.166Z"
   },
   {
    "duration": 11,
    "start_time": "2022-08-04T19:30:47.174Z"
   },
   {
    "duration": 8,
    "start_time": "2022-08-04T19:30:47.186Z"
   },
   {
    "duration": 6,
    "start_time": "2022-08-04T19:30:47.195Z"
   },
   {
    "duration": 56,
    "start_time": "2022-08-04T19:30:47.203Z"
   },
   {
    "duration": 17,
    "start_time": "2022-08-04T19:30:47.260Z"
   },
   {
    "duration": 17,
    "start_time": "2022-08-04T19:30:47.278Z"
   },
   {
    "duration": 15,
    "start_time": "2022-08-04T19:30:47.297Z"
   },
   {
    "duration": 30,
    "start_time": "2022-08-04T19:30:47.339Z"
   },
   {
    "duration": 15,
    "start_time": "2022-08-04T19:30:47.371Z"
   },
   {
    "duration": 12,
    "start_time": "2022-08-04T19:30:47.387Z"
   },
   {
    "duration": 46,
    "start_time": "2022-08-04T19:30:47.401Z"
   },
   {
    "duration": 3,
    "start_time": "2022-08-04T19:30:47.449Z"
   },
   {
    "duration": 6,
    "start_time": "2022-08-04T19:30:47.454Z"
   },
   {
    "duration": 12,
    "start_time": "2022-08-04T19:30:47.461Z"
   },
   {
    "duration": 7,
    "start_time": "2022-08-04T19:30:47.474Z"
   },
   {
    "duration": 23,
    "start_time": "2022-08-04T19:30:47.483Z"
   },
   {
    "duration": 4,
    "start_time": "2022-08-04T19:30:47.508Z"
   },
   {
    "duration": 10,
    "start_time": "2022-08-04T19:30:47.539Z"
   },
   {
    "duration": 8,
    "start_time": "2022-08-04T19:30:47.551Z"
   },
   {
    "duration": 8,
    "start_time": "2022-08-04T19:30:47.561Z"
   },
   {
    "duration": 10,
    "start_time": "2022-08-04T19:30:47.570Z"
   },
   {
    "duration": 9,
    "start_time": "2022-08-04T19:30:47.582Z"
   },
   {
    "duration": 46,
    "start_time": "2022-08-04T19:30:47.593Z"
   },
   {
    "duration": 12,
    "start_time": "2022-08-04T19:30:47.641Z"
   },
   {
    "duration": 12,
    "start_time": "2022-08-04T19:30:47.654Z"
   },
   {
    "duration": 14,
    "start_time": "2022-08-04T19:30:47.667Z"
   },
   {
    "duration": 5,
    "start_time": "2022-08-04T19:30:47.682Z"
   },
   {
    "duration": 561,
    "start_time": "2022-08-04T19:30:47.689Z"
   },
   {
    "duration": 13,
    "start_time": "2022-08-04T19:30:48.252Z"
   },
   {
    "duration": 12,
    "start_time": "2022-08-04T19:30:48.266Z"
   },
   {
    "duration": 16,
    "start_time": "2022-08-04T19:30:48.280Z"
   },
   {
    "duration": 44,
    "start_time": "2022-08-04T19:30:48.298Z"
   },
   {
    "duration": 14,
    "start_time": "2022-08-04T19:30:48.344Z"
   },
   {
    "duration": 11,
    "start_time": "2022-08-04T19:30:48.360Z"
   },
   {
    "duration": 12,
    "start_time": "2022-08-04T19:30:48.373Z"
   },
   {
    "duration": 6,
    "start_time": "2022-08-04T19:30:48.387Z"
   },
   {
    "duration": 20,
    "start_time": "2022-08-04T19:30:48.394Z"
   },
   {
    "duration": 11,
    "start_time": "2022-08-04T19:30:48.416Z"
   },
   {
    "duration": 11,
    "start_time": "2022-08-04T19:30:48.429Z"
   },
   {
    "duration": 11,
    "start_time": "2022-08-04T19:30:48.442Z"
   },
   {
    "duration": 11,
    "start_time": "2022-08-04T19:30:48.454Z"
   },
   {
    "duration": 16,
    "start_time": "2022-08-04T19:30:48.467Z"
   },
   {
    "duration": 12,
    "start_time": "2022-08-04T19:30:48.484Z"
   },
   {
    "duration": 8,
    "start_time": "2022-08-04T19:30:48.497Z"
   },
   {
    "duration": 6,
    "start_time": "2022-08-04T19:30:48.506Z"
   },
   {
    "duration": 7,
    "start_time": "2022-08-04T19:30:48.513Z"
   },
   {
    "duration": 9,
    "start_time": "2022-08-04T19:30:48.521Z"
   },
   {
    "duration": 12,
    "start_time": "2022-08-04T19:30:48.531Z"
   },
   {
    "duration": 5,
    "start_time": "2022-08-04T19:30:48.544Z"
   },
   {
    "duration": 9,
    "start_time": "2022-08-04T19:30:48.550Z"
   },
   {
    "duration": 10,
    "start_time": "2022-08-04T19:30:48.560Z"
   },
   {
    "duration": 8,
    "start_time": "2022-08-04T19:30:48.572Z"
   },
   {
    "duration": 11,
    "start_time": "2022-08-04T19:30:48.582Z"
   },
   {
    "duration": 14,
    "start_time": "2022-08-04T19:30:48.595Z"
   },
   {
    "duration": 19,
    "start_time": "2022-08-04T19:30:48.611Z"
   },
   {
    "duration": 37,
    "start_time": "2022-08-04T19:30:48.631Z"
   },
   {
    "duration": 21,
    "start_time": "2022-08-04T19:30:48.669Z"
   },
   {
    "duration": 35,
    "start_time": "2022-08-04T19:30:48.693Z"
   },
   {
    "duration": 22,
    "start_time": "2022-08-04T19:30:48.730Z"
   },
   {
    "duration": 21,
    "start_time": "2022-08-04T19:30:48.753Z"
   },
   {
    "duration": 20,
    "start_time": "2022-08-04T19:31:41.160Z"
   },
   {
    "duration": 20,
    "start_time": "2022-08-04T19:32:15.723Z"
   },
   {
    "duration": 76,
    "start_time": "2022-08-04T19:34:31.485Z"
   },
   {
    "duration": 18,
    "start_time": "2022-08-04T19:34:39.728Z"
   },
   {
    "duration": 13,
    "start_time": "2022-08-04T19:36:59.921Z"
   },
   {
    "duration": 12,
    "start_time": "2022-08-04T19:38:21.780Z"
   },
   {
    "duration": 12,
    "start_time": "2022-08-04T19:40:27.374Z"
   },
   {
    "duration": 12,
    "start_time": "2022-08-04T19:41:21.332Z"
   },
   {
    "duration": 14,
    "start_time": "2022-08-04T19:56:36.742Z"
   },
   {
    "duration": 33,
    "start_time": "2022-08-04T20:03:47.886Z"
   },
   {
    "duration": 15,
    "start_time": "2022-08-04T20:04:03.775Z"
   },
   {
    "duration": 6,
    "start_time": "2022-08-04T20:04:56.711Z"
   },
   {
    "duration": 55,
    "start_time": "2022-08-04T20:17:48.333Z"
   },
   {
    "duration": 15,
    "start_time": "2022-08-04T20:17:56.907Z"
   },
   {
    "duration": 477,
    "start_time": "2022-08-04T20:19:05.763Z"
   },
   {
    "duration": 4,
    "start_time": "2022-08-04T20:19:06.242Z"
   },
   {
    "duration": 34,
    "start_time": "2022-08-04T20:19:06.247Z"
   },
   {
    "duration": 22,
    "start_time": "2022-08-04T20:19:06.283Z"
   },
   {
    "duration": 11,
    "start_time": "2022-08-04T20:19:06.308Z"
   },
   {
    "duration": 23,
    "start_time": "2022-08-04T20:19:06.321Z"
   },
   {
    "duration": 11,
    "start_time": "2022-08-04T20:19:06.346Z"
   },
   {
    "duration": 19,
    "start_time": "2022-08-04T20:19:06.358Z"
   },
   {
    "duration": 12,
    "start_time": "2022-08-04T20:19:06.379Z"
   },
   {
    "duration": 17,
    "start_time": "2022-08-04T20:19:06.392Z"
   },
   {
    "duration": 29,
    "start_time": "2022-08-04T20:19:06.410Z"
   },
   {
    "duration": 14,
    "start_time": "2022-08-04T20:19:06.441Z"
   },
   {
    "duration": 12,
    "start_time": "2022-08-04T20:19:06.456Z"
   },
   {
    "duration": 22,
    "start_time": "2022-08-04T20:19:06.470Z"
   },
   {
    "duration": 8,
    "start_time": "2022-08-04T20:19:06.493Z"
   },
   {
    "duration": 40,
    "start_time": "2022-08-04T20:19:06.502Z"
   },
   {
    "duration": 10,
    "start_time": "2022-08-04T20:19:06.543Z"
   },
   {
    "duration": 8,
    "start_time": "2022-08-04T20:19:06.554Z"
   },
   {
    "duration": 48,
    "start_time": "2022-08-04T20:19:06.563Z"
   },
   {
    "duration": 11,
    "start_time": "2022-08-04T20:19:06.612Z"
   },
   {
    "duration": 17,
    "start_time": "2022-08-04T20:19:06.624Z"
   },
   {
    "duration": 23,
    "start_time": "2022-08-04T20:19:06.643Z"
   },
   {
    "duration": 52,
    "start_time": "2022-08-04T20:19:06.668Z"
   },
   {
    "duration": 29,
    "start_time": "2022-08-04T20:19:06.722Z"
   },
   {
    "duration": 18,
    "start_time": "2022-08-04T20:19:06.753Z"
   },
   {
    "duration": 10,
    "start_time": "2022-08-04T20:19:06.773Z"
   },
   {
    "duration": 12,
    "start_time": "2022-08-04T20:19:06.785Z"
   },
   {
    "duration": 29,
    "start_time": "2022-08-04T20:19:06.799Z"
   },
   {
    "duration": 9,
    "start_time": "2022-08-04T20:19:06.829Z"
   },
   {
    "duration": 11,
    "start_time": "2022-08-04T20:19:06.840Z"
   },
   {
    "duration": 17,
    "start_time": "2022-08-04T20:19:06.853Z"
   },
   {
    "duration": 3,
    "start_time": "2022-08-04T20:19:06.872Z"
   },
   {
    "duration": 15,
    "start_time": "2022-08-04T20:19:06.876Z"
   },
   {
    "duration": 28,
    "start_time": "2022-08-04T20:19:06.893Z"
   },
   {
    "duration": 3,
    "start_time": "2022-08-04T20:19:06.923Z"
   },
   {
    "duration": 35,
    "start_time": "2022-08-04T20:19:06.927Z"
   },
   {
    "duration": 5,
    "start_time": "2022-08-04T20:19:06.963Z"
   },
   {
    "duration": 23,
    "start_time": "2022-08-04T20:19:06.969Z"
   },
   {
    "duration": 6,
    "start_time": "2022-08-04T20:19:06.994Z"
   },
   {
    "duration": 23,
    "start_time": "2022-08-04T20:19:07.001Z"
   },
   {
    "duration": 17,
    "start_time": "2022-08-04T20:19:07.030Z"
   },
   {
    "duration": 9,
    "start_time": "2022-08-04T20:19:07.049Z"
   },
   {
    "duration": 11,
    "start_time": "2022-08-04T20:19:07.060Z"
   },
   {
    "duration": 9,
    "start_time": "2022-08-04T20:19:07.072Z"
   },
   {
    "duration": 7,
    "start_time": "2022-08-04T20:19:07.083Z"
   },
   {
    "duration": 27,
    "start_time": "2022-08-04T20:19:07.092Z"
   },
   {
    "duration": 18,
    "start_time": "2022-08-04T20:19:07.121Z"
   },
   {
    "duration": 17,
    "start_time": "2022-08-04T20:19:07.141Z"
   },
   {
    "duration": 14,
    "start_time": "2022-08-04T20:19:07.160Z"
   },
   {
    "duration": 30,
    "start_time": "2022-08-04T20:19:07.176Z"
   },
   {
    "duration": 42,
    "start_time": "2022-08-04T20:19:07.208Z"
   },
   {
    "duration": 18,
    "start_time": "2022-08-04T20:19:07.251Z"
   },
   {
    "duration": 16,
    "start_time": "2022-08-04T20:19:07.271Z"
   },
   {
    "duration": 4,
    "start_time": "2022-08-04T20:19:07.289Z"
   },
   {
    "duration": 13,
    "start_time": "2022-08-04T20:19:07.295Z"
   },
   {
    "duration": 30,
    "start_time": "2022-08-04T20:19:07.309Z"
   },
   {
    "duration": 8,
    "start_time": "2022-08-04T20:19:07.341Z"
   },
   {
    "duration": 26,
    "start_time": "2022-08-04T20:19:07.350Z"
   },
   {
    "duration": 7,
    "start_time": "2022-08-04T20:19:07.378Z"
   },
   {
    "duration": 22,
    "start_time": "2022-08-04T20:19:07.387Z"
   },
   {
    "duration": 7,
    "start_time": "2022-08-04T20:19:07.410Z"
   },
   {
    "duration": 13,
    "start_time": "2022-08-04T20:19:07.418Z"
   },
   {
    "duration": 9,
    "start_time": "2022-08-04T20:19:07.437Z"
   },
   {
    "duration": 15,
    "start_time": "2022-08-04T20:19:07.447Z"
   },
   {
    "duration": 9,
    "start_time": "2022-08-04T20:19:07.463Z"
   },
   {
    "duration": 16,
    "start_time": "2022-08-04T20:19:07.474Z"
   },
   {
    "duration": 25,
    "start_time": "2022-08-04T20:19:07.491Z"
   },
   {
    "duration": 22,
    "start_time": "2022-08-04T20:19:07.517Z"
   },
   {
    "duration": 11,
    "start_time": "2022-08-04T20:19:07.540Z"
   },
   {
    "duration": 502,
    "start_time": "2022-08-04T20:19:07.552Z"
   },
   {
    "duration": 16,
    "start_time": "2022-08-04T20:19:08.057Z"
   },
   {
    "duration": 17,
    "start_time": "2022-08-04T20:19:08.074Z"
   },
   {
    "duration": 11,
    "start_time": "2022-08-04T20:19:08.093Z"
   },
   {
    "duration": 41,
    "start_time": "2022-08-04T20:19:08.106Z"
   },
   {
    "duration": 30,
    "start_time": "2022-08-04T20:19:08.149Z"
   },
   {
    "duration": 20,
    "start_time": "2022-08-04T20:19:08.181Z"
   },
   {
    "duration": 21,
    "start_time": "2022-08-04T20:19:08.203Z"
   },
   {
    "duration": 2,
    "start_time": "2022-08-04T20:19:08.226Z"
   },
   {
    "duration": 5,
    "start_time": "2022-08-04T20:19:08.230Z"
   },
   {
    "duration": 9,
    "start_time": "2022-08-04T20:19:08.236Z"
   },
   {
    "duration": 11,
    "start_time": "2022-08-04T20:19:08.246Z"
   },
   {
    "duration": 8,
    "start_time": "2022-08-04T20:19:08.258Z"
   },
   {
    "duration": 8,
    "start_time": "2022-08-04T20:19:08.267Z"
   },
   {
    "duration": 5,
    "start_time": "2022-08-04T20:19:08.277Z"
   },
   {
    "duration": 6,
    "start_time": "2022-08-04T20:19:08.283Z"
   },
   {
    "duration": 7,
    "start_time": "2022-08-04T20:19:08.290Z"
   },
   {
    "duration": 5,
    "start_time": "2022-08-04T20:19:08.298Z"
   },
   {
    "duration": 7,
    "start_time": "2022-08-04T20:19:08.304Z"
   },
   {
    "duration": 6,
    "start_time": "2022-08-04T20:19:08.312Z"
   },
   {
    "duration": 8,
    "start_time": "2022-08-04T20:19:08.319Z"
   },
   {
    "duration": 7,
    "start_time": "2022-08-04T20:19:08.329Z"
   },
   {
    "duration": 6,
    "start_time": "2022-08-04T20:19:08.337Z"
   },
   {
    "duration": 10,
    "start_time": "2022-08-04T20:19:08.344Z"
   },
   {
    "duration": 4,
    "start_time": "2022-08-04T20:19:08.355Z"
   },
   {
    "duration": 5,
    "start_time": "2022-08-04T20:19:08.361Z"
   },
   {
    "duration": 21,
    "start_time": "2022-08-04T20:19:08.367Z"
   },
   {
    "duration": 5,
    "start_time": "2022-08-04T20:19:08.390Z"
   },
   {
    "duration": 5,
    "start_time": "2022-08-04T20:19:08.397Z"
   },
   {
    "duration": 9,
    "start_time": "2022-08-04T20:19:08.403Z"
   },
   {
    "duration": 7,
    "start_time": "2022-08-04T20:19:08.413Z"
   },
   {
    "duration": 11,
    "start_time": "2022-08-04T20:19:08.422Z"
   },
   {
    "duration": 8,
    "start_time": "2022-08-04T20:19:08.435Z"
   },
   {
    "duration": 16,
    "start_time": "2022-08-04T20:19:08.445Z"
   },
   {
    "duration": 10,
    "start_time": "2022-08-04T20:19:08.463Z"
   },
   {
    "duration": 8,
    "start_time": "2022-08-04T20:20:19.314Z"
   },
   {
    "duration": 16,
    "start_time": "2022-08-04T20:21:52.577Z"
   },
   {
    "duration": 69,
    "start_time": "2022-08-04T20:23:05.811Z"
   },
   {
    "duration": 10,
    "start_time": "2022-08-04T20:23:12.183Z"
   },
   {
    "duration": 22,
    "start_time": "2022-08-04T20:24:21.770Z"
   },
   {
    "duration": 2,
    "start_time": "2022-08-04T20:24:33.914Z"
   },
   {
    "duration": 3,
    "start_time": "2022-08-04T20:26:22.717Z"
   },
   {
    "duration": 4,
    "start_time": "2022-08-04T20:26:38.370Z"
   },
   {
    "duration": 30,
    "start_time": "2022-08-04T20:27:03.474Z"
   },
   {
    "duration": 10,
    "start_time": "2022-08-04T20:28:10.211Z"
   },
   {
    "duration": 10,
    "start_time": "2022-08-04T20:28:52.945Z"
   },
   {
    "duration": 10,
    "start_time": "2022-08-04T20:29:35.742Z"
   },
   {
    "duration": 9,
    "start_time": "2022-08-04T20:32:46.926Z"
   },
   {
    "duration": 12,
    "start_time": "2022-08-04T20:33:43.470Z"
   },
   {
    "duration": 11,
    "start_time": "2022-08-04T20:34:03.975Z"
   },
   {
    "duration": 8,
    "start_time": "2022-08-04T20:34:21.195Z"
   },
   {
    "duration": 8,
    "start_time": "2022-08-04T20:34:32.720Z"
   },
   {
    "duration": 17,
    "start_time": "2022-08-04T20:38:58.260Z"
   },
   {
    "duration": 61,
    "start_time": "2022-08-07T12:57:10.576Z"
   },
   {
    "duration": 675,
    "start_time": "2022-08-07T12:57:16.991Z"
   },
   {
    "duration": 4,
    "start_time": "2022-08-07T12:57:17.668Z"
   },
   {
    "duration": 27,
    "start_time": "2022-08-07T12:57:17.674Z"
   },
   {
    "duration": 16,
    "start_time": "2022-08-07T12:57:17.703Z"
   },
   {
    "duration": 11,
    "start_time": "2022-08-07T12:57:17.720Z"
   },
   {
    "duration": 45,
    "start_time": "2022-08-07T12:57:17.732Z"
   },
   {
    "duration": 10,
    "start_time": "2022-08-07T12:57:17.779Z"
   },
   {
    "duration": 13,
    "start_time": "2022-08-07T12:57:17.791Z"
   },
   {
    "duration": 12,
    "start_time": "2022-08-07T12:57:17.806Z"
   },
   {
    "duration": 9,
    "start_time": "2022-08-07T12:57:17.821Z"
   },
   {
    "duration": 43,
    "start_time": "2022-08-07T12:57:17.832Z"
   },
   {
    "duration": 16,
    "start_time": "2022-08-07T12:57:17.877Z"
   },
   {
    "duration": 1375,
    "start_time": "2022-08-07T12:57:17.895Z"
   },
   {
    "duration": 0,
    "start_time": "2022-08-07T12:57:19.274Z"
   },
   {
    "duration": 0,
    "start_time": "2022-08-07T12:57:19.275Z"
   },
   {
    "duration": 0,
    "start_time": "2022-08-07T12:57:19.277Z"
   },
   {
    "duration": 0,
    "start_time": "2022-08-07T12:57:19.278Z"
   },
   {
    "duration": 0,
    "start_time": "2022-08-07T12:57:19.279Z"
   },
   {
    "duration": 0,
    "start_time": "2022-08-07T12:57:19.279Z"
   },
   {
    "duration": 0,
    "start_time": "2022-08-07T12:57:19.281Z"
   },
   {
    "duration": 0,
    "start_time": "2022-08-07T12:57:19.282Z"
   },
   {
    "duration": 0,
    "start_time": "2022-08-07T12:57:19.283Z"
   },
   {
    "duration": 0,
    "start_time": "2022-08-07T12:57:19.284Z"
   },
   {
    "duration": 0,
    "start_time": "2022-08-07T12:57:19.285Z"
   },
   {
    "duration": 0,
    "start_time": "2022-08-07T12:57:19.286Z"
   },
   {
    "duration": 0,
    "start_time": "2022-08-07T12:57:19.287Z"
   },
   {
    "duration": 0,
    "start_time": "2022-08-07T12:57:19.288Z"
   },
   {
    "duration": 0,
    "start_time": "2022-08-07T12:57:19.289Z"
   },
   {
    "duration": 0,
    "start_time": "2022-08-07T12:57:19.290Z"
   },
   {
    "duration": 0,
    "start_time": "2022-08-07T12:57:19.291Z"
   },
   {
    "duration": 0,
    "start_time": "2022-08-07T12:57:19.292Z"
   },
   {
    "duration": 0,
    "start_time": "2022-08-07T12:57:19.294Z"
   },
   {
    "duration": 0,
    "start_time": "2022-08-07T12:57:19.295Z"
   },
   {
    "duration": 0,
    "start_time": "2022-08-07T12:57:19.296Z"
   },
   {
    "duration": 0,
    "start_time": "2022-08-07T12:57:19.297Z"
   },
   {
    "duration": 0,
    "start_time": "2022-08-07T12:57:19.298Z"
   },
   {
    "duration": 0,
    "start_time": "2022-08-07T12:57:19.299Z"
   },
   {
    "duration": 0,
    "start_time": "2022-08-07T12:57:19.300Z"
   },
   {
    "duration": 0,
    "start_time": "2022-08-07T12:57:19.301Z"
   },
   {
    "duration": 0,
    "start_time": "2022-08-07T12:57:19.302Z"
   },
   {
    "duration": 0,
    "start_time": "2022-08-07T12:57:19.304Z"
   },
   {
    "duration": 0,
    "start_time": "2022-08-07T12:57:19.305Z"
   },
   {
    "duration": 0,
    "start_time": "2022-08-07T12:57:19.306Z"
   },
   {
    "duration": 0,
    "start_time": "2022-08-07T12:57:19.307Z"
   },
   {
    "duration": 0,
    "start_time": "2022-08-07T12:57:19.308Z"
   },
   {
    "duration": 0,
    "start_time": "2022-08-07T12:57:19.309Z"
   },
   {
    "duration": 0,
    "start_time": "2022-08-07T12:57:19.310Z"
   },
   {
    "duration": 0,
    "start_time": "2022-08-07T12:57:19.311Z"
   },
   {
    "duration": 0,
    "start_time": "2022-08-07T12:57:19.368Z"
   },
   {
    "duration": 0,
    "start_time": "2022-08-07T12:57:19.369Z"
   },
   {
    "duration": 0,
    "start_time": "2022-08-07T12:57:19.370Z"
   },
   {
    "duration": 0,
    "start_time": "2022-08-07T12:57:19.371Z"
   },
   {
    "duration": 0,
    "start_time": "2022-08-07T12:57:19.372Z"
   },
   {
    "duration": 0,
    "start_time": "2022-08-07T12:57:19.373Z"
   },
   {
    "duration": 0,
    "start_time": "2022-08-07T12:57:19.375Z"
   },
   {
    "duration": 0,
    "start_time": "2022-08-07T12:57:19.376Z"
   },
   {
    "duration": 0,
    "start_time": "2022-08-07T12:57:19.377Z"
   },
   {
    "duration": 0,
    "start_time": "2022-08-07T12:57:19.378Z"
   },
   {
    "duration": 0,
    "start_time": "2022-08-07T12:57:19.379Z"
   },
   {
    "duration": 0,
    "start_time": "2022-08-07T12:57:19.380Z"
   },
   {
    "duration": 0,
    "start_time": "2022-08-07T12:57:19.381Z"
   },
   {
    "duration": 0,
    "start_time": "2022-08-07T12:57:19.382Z"
   },
   {
    "duration": 0,
    "start_time": "2022-08-07T12:57:19.383Z"
   },
   {
    "duration": 0,
    "start_time": "2022-08-07T12:57:19.384Z"
   },
   {
    "duration": 0,
    "start_time": "2022-08-07T12:57:19.385Z"
   },
   {
    "duration": 0,
    "start_time": "2022-08-07T12:57:19.386Z"
   },
   {
    "duration": 0,
    "start_time": "2022-08-07T12:57:19.387Z"
   },
   {
    "duration": 0,
    "start_time": "2022-08-07T12:57:19.388Z"
   },
   {
    "duration": 0,
    "start_time": "2022-08-07T12:57:19.389Z"
   },
   {
    "duration": 0,
    "start_time": "2022-08-07T12:57:19.390Z"
   },
   {
    "duration": 0,
    "start_time": "2022-08-07T12:57:19.391Z"
   },
   {
    "duration": 0,
    "start_time": "2022-08-07T12:57:19.392Z"
   },
   {
    "duration": 0,
    "start_time": "2022-08-07T12:57:19.393Z"
   },
   {
    "duration": 0,
    "start_time": "2022-08-07T12:57:19.394Z"
   },
   {
    "duration": 0,
    "start_time": "2022-08-07T12:57:19.395Z"
   },
   {
    "duration": 0,
    "start_time": "2022-08-07T12:57:19.396Z"
   },
   {
    "duration": 0,
    "start_time": "2022-08-07T12:57:19.397Z"
   },
   {
    "duration": 0,
    "start_time": "2022-08-07T12:57:19.398Z"
   },
   {
    "duration": 0,
    "start_time": "2022-08-07T12:57:19.399Z"
   },
   {
    "duration": 0,
    "start_time": "2022-08-07T12:57:19.400Z"
   },
   {
    "duration": 0,
    "start_time": "2022-08-07T12:57:19.401Z"
   },
   {
    "duration": 0,
    "start_time": "2022-08-07T12:57:19.402Z"
   },
   {
    "duration": 0,
    "start_time": "2022-08-07T12:57:19.403Z"
   },
   {
    "duration": 0,
    "start_time": "2022-08-07T12:57:19.404Z"
   },
   {
    "duration": 0,
    "start_time": "2022-08-07T12:57:19.405Z"
   },
   {
    "duration": 0,
    "start_time": "2022-08-07T12:57:19.406Z"
   },
   {
    "duration": 0,
    "start_time": "2022-08-07T12:57:19.469Z"
   },
   {
    "duration": 0,
    "start_time": "2022-08-07T12:57:19.470Z"
   },
   {
    "duration": 1,
    "start_time": "2022-08-07T12:57:19.471Z"
   },
   {
    "duration": 0,
    "start_time": "2022-08-07T12:57:19.473Z"
   },
   {
    "duration": 0,
    "start_time": "2022-08-07T12:57:19.474Z"
   },
   {
    "duration": 0,
    "start_time": "2022-08-07T12:57:19.476Z"
   },
   {
    "duration": 0,
    "start_time": "2022-08-07T12:57:19.478Z"
   },
   {
    "duration": 0,
    "start_time": "2022-08-07T12:57:19.479Z"
   },
   {
    "duration": 0,
    "start_time": "2022-08-07T12:57:19.480Z"
   },
   {
    "duration": 0,
    "start_time": "2022-08-07T12:57:19.481Z"
   },
   {
    "duration": 0,
    "start_time": "2022-08-07T12:57:19.483Z"
   },
   {
    "duration": 1,
    "start_time": "2022-08-07T12:57:19.486Z"
   },
   {
    "duration": 0,
    "start_time": "2022-08-07T12:57:19.488Z"
   },
   {
    "duration": 0,
    "start_time": "2022-08-07T12:57:19.490Z"
   },
   {
    "duration": 0,
    "start_time": "2022-08-07T12:57:19.492Z"
   },
   {
    "duration": 0,
    "start_time": "2022-08-07T12:57:19.493Z"
   },
   {
    "duration": 0,
    "start_time": "2022-08-07T12:57:19.495Z"
   },
   {
    "duration": 0,
    "start_time": "2022-08-07T12:57:19.497Z"
   },
   {
    "duration": 0,
    "start_time": "2022-08-07T12:57:19.499Z"
   },
   {
    "duration": 1499,
    "start_time": "2022-08-07T13:12:05.735Z"
   },
   {
    "duration": 1229,
    "start_time": "2022-08-07T13:13:43.733Z"
   },
   {
    "duration": 7,
    "start_time": "2022-08-07T13:14:40.638Z"
   },
   {
    "duration": 7,
    "start_time": "2022-08-07T13:25:34.098Z"
   },
   {
    "duration": 29,
    "start_time": "2022-08-07T13:31:11.738Z"
   },
   {
    "duration": 3,
    "start_time": "2022-08-07T13:41:57.269Z"
   },
   {
    "duration": 7,
    "start_time": "2022-08-07T13:42:04.892Z"
   },
   {
    "duration": 8,
    "start_time": "2022-08-07T13:43:21.779Z"
   },
   {
    "duration": 10,
    "start_time": "2022-08-07T13:43:22.648Z"
   },
   {
    "duration": 11,
    "start_time": "2022-08-07T13:43:41.332Z"
   },
   {
    "duration": 3,
    "start_time": "2022-08-07T13:45:47.686Z"
   },
   {
    "duration": 4,
    "start_time": "2022-08-07T13:46:10.101Z"
   },
   {
    "duration": 34,
    "start_time": "2022-08-07T13:46:25.355Z"
   },
   {
    "duration": 12,
    "start_time": "2022-08-07T13:50:29.761Z"
   },
   {
    "duration": 11,
    "start_time": "2022-08-07T13:50:35.081Z"
   },
   {
    "duration": 23,
    "start_time": "2022-08-07T13:51:10.484Z"
   },
   {
    "duration": 2,
    "start_time": "2022-08-07T13:52:36.529Z"
   },
   {
    "duration": 48,
    "start_time": "2022-08-07T13:54:35.165Z"
   },
   {
    "duration": 10,
    "start_time": "2022-08-07T13:55:10.819Z"
   },
   {
    "duration": 10,
    "start_time": "2022-08-07T13:55:50.219Z"
   },
   {
    "duration": 10,
    "start_time": "2022-08-07T13:56:18.445Z"
   },
   {
    "duration": 273,
    "start_time": "2022-08-07T13:56:55.478Z"
   },
   {
    "duration": 6,
    "start_time": "2022-08-07T13:57:48.567Z"
   },
   {
    "duration": 9,
    "start_time": "2022-08-07T13:57:55.048Z"
   },
   {
    "duration": 13,
    "start_time": "2022-08-07T13:57:56.414Z"
   },
   {
    "duration": 108,
    "start_time": "2022-08-07T13:59:12.841Z"
   },
   {
    "duration": 9,
    "start_time": "2022-08-07T13:59:22.104Z"
   },
   {
    "duration": 30,
    "start_time": "2022-08-07T14:03:23.731Z"
   },
   {
    "duration": 8,
    "start_time": "2022-08-07T14:05:18.554Z"
   },
   {
    "duration": 6,
    "start_time": "2022-08-07T14:05:20.795Z"
   },
   {
    "duration": 44,
    "start_time": "2022-08-07T18:34:33.294Z"
   },
   {
    "duration": 9,
    "start_time": "2022-08-07T18:34:37.266Z"
   },
   {
    "duration": 6,
    "start_time": "2022-08-07T18:34:45.166Z"
   },
   {
    "duration": 6,
    "start_time": "2022-08-07T18:34:47.865Z"
   },
   {
    "duration": 555,
    "start_time": "2022-08-07T18:35:10.059Z"
   },
   {
    "duration": 3,
    "start_time": "2022-08-07T18:35:10.616Z"
   },
   {
    "duration": 23,
    "start_time": "2022-08-07T18:35:10.621Z"
   },
   {
    "duration": 15,
    "start_time": "2022-08-07T18:35:10.645Z"
   },
   {
    "duration": 9,
    "start_time": "2022-08-07T18:35:10.661Z"
   },
   {
    "duration": 41,
    "start_time": "2022-08-07T18:35:10.671Z"
   },
   {
    "duration": 15,
    "start_time": "2022-08-07T18:35:10.713Z"
   },
   {
    "duration": 12,
    "start_time": "2022-08-07T18:35:10.729Z"
   },
   {
    "duration": 10,
    "start_time": "2022-08-07T18:35:10.743Z"
   },
   {
    "duration": 9,
    "start_time": "2022-08-07T18:35:10.755Z"
   },
   {
    "duration": 47,
    "start_time": "2022-08-07T18:35:10.765Z"
   },
   {
    "duration": 16,
    "start_time": "2022-08-07T18:35:10.813Z"
   },
   {
    "duration": 6,
    "start_time": "2022-08-07T18:35:10.830Z"
   },
   {
    "duration": 8,
    "start_time": "2022-08-07T18:35:10.838Z"
   },
   {
    "duration": 64,
    "start_time": "2022-08-07T18:35:10.848Z"
   },
   {
    "duration": 21,
    "start_time": "2022-08-07T18:35:10.914Z"
   },
   {
    "duration": 7,
    "start_time": "2022-08-07T18:35:10.937Z"
   },
   {
    "duration": 12,
    "start_time": "2022-08-07T18:35:10.945Z"
   },
   {
    "duration": 10,
    "start_time": "2022-08-07T18:35:10.959Z"
   },
   {
    "duration": 39,
    "start_time": "2022-08-07T18:35:10.970Z"
   },
   {
    "duration": 16,
    "start_time": "2022-08-07T18:35:11.011Z"
   },
   {
    "duration": 62,
    "start_time": "2022-08-07T18:35:11.028Z"
   },
   {
    "duration": 0,
    "start_time": "2022-08-07T18:35:11.093Z"
   },
   {
    "duration": 0,
    "start_time": "2022-08-07T18:35:11.094Z"
   },
   {
    "duration": 0,
    "start_time": "2022-08-07T18:35:11.096Z"
   },
   {
    "duration": 0,
    "start_time": "2022-08-07T18:35:11.097Z"
   },
   {
    "duration": 0,
    "start_time": "2022-08-07T18:35:11.109Z"
   },
   {
    "duration": 0,
    "start_time": "2022-08-07T18:35:11.111Z"
   },
   {
    "duration": 0,
    "start_time": "2022-08-07T18:35:11.112Z"
   },
   {
    "duration": 0,
    "start_time": "2022-08-07T18:35:11.112Z"
   },
   {
    "duration": 0,
    "start_time": "2022-08-07T18:35:11.114Z"
   },
   {
    "duration": 0,
    "start_time": "2022-08-07T18:35:11.114Z"
   },
   {
    "duration": 0,
    "start_time": "2022-08-07T18:35:11.116Z"
   },
   {
    "duration": 0,
    "start_time": "2022-08-07T18:35:11.117Z"
   },
   {
    "duration": 0,
    "start_time": "2022-08-07T18:35:11.118Z"
   },
   {
    "duration": 0,
    "start_time": "2022-08-07T18:35:11.119Z"
   },
   {
    "duration": 0,
    "start_time": "2022-08-07T18:35:11.120Z"
   },
   {
    "duration": 0,
    "start_time": "2022-08-07T18:35:11.121Z"
   },
   {
    "duration": 0,
    "start_time": "2022-08-07T18:35:11.122Z"
   },
   {
    "duration": 0,
    "start_time": "2022-08-07T18:35:11.122Z"
   },
   {
    "duration": 0,
    "start_time": "2022-08-07T18:35:11.123Z"
   },
   {
    "duration": 0,
    "start_time": "2022-08-07T18:35:11.124Z"
   },
   {
    "duration": 0,
    "start_time": "2022-08-07T18:35:11.125Z"
   },
   {
    "duration": 0,
    "start_time": "2022-08-07T18:35:11.126Z"
   },
   {
    "duration": 0,
    "start_time": "2022-08-07T18:35:11.127Z"
   },
   {
    "duration": 0,
    "start_time": "2022-08-07T18:35:11.128Z"
   },
   {
    "duration": 0,
    "start_time": "2022-08-07T18:35:11.129Z"
   },
   {
    "duration": 0,
    "start_time": "2022-08-07T18:35:11.130Z"
   },
   {
    "duration": 0,
    "start_time": "2022-08-07T18:35:11.130Z"
   },
   {
    "duration": 0,
    "start_time": "2022-08-07T18:35:11.131Z"
   },
   {
    "duration": 0,
    "start_time": "2022-08-07T18:35:11.132Z"
   },
   {
    "duration": 0,
    "start_time": "2022-08-07T18:35:11.133Z"
   },
   {
    "duration": 0,
    "start_time": "2022-08-07T18:35:11.134Z"
   },
   {
    "duration": 0,
    "start_time": "2022-08-07T18:35:11.135Z"
   },
   {
    "duration": 0,
    "start_time": "2022-08-07T18:35:11.136Z"
   },
   {
    "duration": 0,
    "start_time": "2022-08-07T18:35:11.136Z"
   },
   {
    "duration": 0,
    "start_time": "2022-08-07T18:35:11.137Z"
   },
   {
    "duration": 0,
    "start_time": "2022-08-07T18:35:11.138Z"
   },
   {
    "duration": 0,
    "start_time": "2022-08-07T18:35:11.139Z"
   },
   {
    "duration": 0,
    "start_time": "2022-08-07T18:35:11.140Z"
   },
   {
    "duration": 0,
    "start_time": "2022-08-07T18:35:11.141Z"
   },
   {
    "duration": 0,
    "start_time": "2022-08-07T18:35:11.142Z"
   },
   {
    "duration": 0,
    "start_time": "2022-08-07T18:35:11.143Z"
   },
   {
    "duration": 0,
    "start_time": "2022-08-07T18:35:11.144Z"
   },
   {
    "duration": 0,
    "start_time": "2022-08-07T18:35:11.145Z"
   },
   {
    "duration": 0,
    "start_time": "2022-08-07T18:35:11.146Z"
   },
   {
    "duration": 0,
    "start_time": "2022-08-07T18:35:11.209Z"
   },
   {
    "duration": 0,
    "start_time": "2022-08-07T18:35:11.210Z"
   },
   {
    "duration": 0,
    "start_time": "2022-08-07T18:35:11.211Z"
   },
   {
    "duration": 0,
    "start_time": "2022-08-07T18:35:11.212Z"
   },
   {
    "duration": 0,
    "start_time": "2022-08-07T18:35:11.213Z"
   },
   {
    "duration": 0,
    "start_time": "2022-08-07T18:35:11.214Z"
   },
   {
    "duration": 0,
    "start_time": "2022-08-07T18:35:11.215Z"
   },
   {
    "duration": 0,
    "start_time": "2022-08-07T18:35:11.217Z"
   },
   {
    "duration": 0,
    "start_time": "2022-08-07T18:35:11.218Z"
   },
   {
    "duration": 0,
    "start_time": "2022-08-07T18:35:11.219Z"
   },
   {
    "duration": 0,
    "start_time": "2022-08-07T18:35:11.219Z"
   },
   {
    "duration": 0,
    "start_time": "2022-08-07T18:35:11.221Z"
   },
   {
    "duration": 0,
    "start_time": "2022-08-07T18:35:11.222Z"
   },
   {
    "duration": 0,
    "start_time": "2022-08-07T18:35:11.223Z"
   },
   {
    "duration": 0,
    "start_time": "2022-08-07T18:35:11.225Z"
   },
   {
    "duration": 0,
    "start_time": "2022-08-07T18:35:11.226Z"
   },
   {
    "duration": 0,
    "start_time": "2022-08-07T18:35:11.227Z"
   },
   {
    "duration": 0,
    "start_time": "2022-08-07T18:35:11.228Z"
   },
   {
    "duration": 0,
    "start_time": "2022-08-07T18:35:11.229Z"
   },
   {
    "duration": 0,
    "start_time": "2022-08-07T18:35:11.230Z"
   },
   {
    "duration": 0,
    "start_time": "2022-08-07T18:35:11.231Z"
   },
   {
    "duration": 0,
    "start_time": "2022-08-07T18:35:11.232Z"
   },
   {
    "duration": 0,
    "start_time": "2022-08-07T18:35:11.234Z"
   },
   {
    "duration": 0,
    "start_time": "2022-08-07T18:35:11.235Z"
   },
   {
    "duration": 0,
    "start_time": "2022-08-07T18:35:11.236Z"
   },
   {
    "duration": 0,
    "start_time": "2022-08-07T18:35:11.243Z"
   },
   {
    "duration": 0,
    "start_time": "2022-08-07T18:35:11.244Z"
   },
   {
    "duration": 0,
    "start_time": "2022-08-07T18:35:11.246Z"
   },
   {
    "duration": 0,
    "start_time": "2022-08-07T18:35:11.309Z"
   },
   {
    "duration": 0,
    "start_time": "2022-08-07T18:35:11.311Z"
   },
   {
    "duration": 0,
    "start_time": "2022-08-07T18:35:11.313Z"
   },
   {
    "duration": 0,
    "start_time": "2022-08-07T18:35:11.314Z"
   },
   {
    "duration": 0,
    "start_time": "2022-08-07T18:35:11.315Z"
   },
   {
    "duration": 0,
    "start_time": "2022-08-07T18:35:11.317Z"
   },
   {
    "duration": 0,
    "start_time": "2022-08-07T18:35:11.319Z"
   },
   {
    "duration": 0,
    "start_time": "2022-08-07T18:35:11.320Z"
   },
   {
    "duration": 0,
    "start_time": "2022-08-07T18:35:11.321Z"
   },
   {
    "duration": 0,
    "start_time": "2022-08-07T18:35:11.322Z"
   },
   {
    "duration": 0,
    "start_time": "2022-08-07T18:35:11.324Z"
   },
   {
    "duration": 0,
    "start_time": "2022-08-07T18:35:11.325Z"
   },
   {
    "duration": 0,
    "start_time": "2022-08-07T18:35:11.327Z"
   },
   {
    "duration": 0,
    "start_time": "2022-08-07T18:35:11.328Z"
   },
   {
    "duration": 0,
    "start_time": "2022-08-07T18:35:11.329Z"
   },
   {
    "duration": 28,
    "start_time": "2022-08-07T18:37:06.816Z"
   },
   {
    "duration": 32,
    "start_time": "2022-08-07T18:39:28.007Z"
   },
   {
    "duration": 10,
    "start_time": "2022-08-07T18:44:10.663Z"
   },
   {
    "duration": 4,
    "start_time": "2022-08-07T18:44:19.832Z"
   },
   {
    "duration": 181,
    "start_time": "2022-08-07T18:44:43.626Z"
   },
   {
    "duration": 5,
    "start_time": "2022-08-07T18:44:49.964Z"
   },
   {
    "duration": 3,
    "start_time": "2022-08-07T18:45:03.753Z"
   },
   {
    "duration": 837,
    "start_time": "2022-08-07T18:45:24.668Z"
   },
   {
    "duration": 53,
    "start_time": "2022-08-07T18:45:38.217Z"
   },
   {
    "duration": 47,
    "start_time": "2022-08-07T18:47:45.409Z"
   },
   {
    "duration": 8,
    "start_time": "2022-08-07T18:48:55.820Z"
   },
   {
    "duration": 3,
    "start_time": "2022-08-07T18:50:32.427Z"
   },
   {
    "duration": 4,
    "start_time": "2022-08-07T18:50:48.844Z"
   },
   {
    "duration": 4,
    "start_time": "2022-08-07T18:53:20.886Z"
   },
   {
    "duration": 5,
    "start_time": "2022-08-07T18:56:49.647Z"
   },
   {
    "duration": 6,
    "start_time": "2022-08-07T18:57:15.540Z"
   },
   {
    "duration": 5,
    "start_time": "2022-08-07T18:57:26.806Z"
   },
   {
    "duration": 6,
    "start_time": "2022-08-07T19:06:20.997Z"
   },
   {
    "duration": 10,
    "start_time": "2022-08-07T19:08:08.493Z"
   },
   {
    "duration": 8,
    "start_time": "2022-08-07T19:08:18.528Z"
   },
   {
    "duration": 5,
    "start_time": "2022-08-07T19:08:23.999Z"
   },
   {
    "duration": 5,
    "start_time": "2022-08-07T19:09:18.101Z"
   },
   {
    "duration": 605,
    "start_time": "2022-08-08T15:53:37.608Z"
   },
   {
    "duration": 4,
    "start_time": "2022-08-08T15:53:38.214Z"
   },
   {
    "duration": 24,
    "start_time": "2022-08-08T15:53:38.219Z"
   },
   {
    "duration": 18,
    "start_time": "2022-08-08T15:53:38.245Z"
   },
   {
    "duration": 10,
    "start_time": "2022-08-08T15:53:38.265Z"
   },
   {
    "duration": 11,
    "start_time": "2022-08-08T15:53:38.276Z"
   },
   {
    "duration": 15,
    "start_time": "2022-08-08T15:53:38.309Z"
   },
   {
    "duration": 14,
    "start_time": "2022-08-08T15:53:38.326Z"
   },
   {
    "duration": 11,
    "start_time": "2022-08-08T15:53:38.342Z"
   },
   {
    "duration": 16,
    "start_time": "2022-08-08T15:53:38.354Z"
   },
   {
    "duration": 26,
    "start_time": "2022-08-08T15:53:38.371Z"
   },
   {
    "duration": 22,
    "start_time": "2022-08-08T15:53:38.410Z"
   },
   {
    "duration": 9,
    "start_time": "2022-08-08T15:53:38.434Z"
   },
   {
    "duration": 27,
    "start_time": "2022-08-08T15:53:38.447Z"
   },
   {
    "duration": 54,
    "start_time": "2022-08-08T15:53:38.475Z"
   },
   {
    "duration": 33,
    "start_time": "2022-08-08T15:53:38.530Z"
   },
   {
    "duration": 8,
    "start_time": "2022-08-08T15:53:38.564Z"
   },
   {
    "duration": 37,
    "start_time": "2022-08-08T15:53:38.573Z"
   },
   {
    "duration": 12,
    "start_time": "2022-08-08T15:53:38.612Z"
   },
   {
    "duration": 11,
    "start_time": "2022-08-08T15:53:38.626Z"
   },
   {
    "duration": 20,
    "start_time": "2022-08-08T15:53:38.638Z"
   },
   {
    "duration": 36,
    "start_time": "2022-08-08T15:53:38.660Z"
   },
   {
    "duration": 35,
    "start_time": "2022-08-08T15:53:38.698Z"
   },
   {
    "duration": 6,
    "start_time": "2022-08-08T15:53:38.735Z"
   },
   {
    "duration": 19,
    "start_time": "2022-08-08T15:53:38.743Z"
   },
   {
    "duration": 15,
    "start_time": "2022-08-08T15:53:38.764Z"
   },
   {
    "duration": 23,
    "start_time": "2022-08-08T15:53:38.781Z"
   },
   {
    "duration": 25,
    "start_time": "2022-08-08T15:53:38.806Z"
   },
   {
    "duration": 4,
    "start_time": "2022-08-08T15:53:38.833Z"
   },
   {
    "duration": 60,
    "start_time": "2022-08-08T15:53:38.838Z"
   },
   {
    "duration": 3,
    "start_time": "2022-08-08T15:53:38.899Z"
   },
   {
    "duration": 6,
    "start_time": "2022-08-08T15:53:38.904Z"
   },
   {
    "duration": 13,
    "start_time": "2022-08-08T15:53:38.912Z"
   },
   {
    "duration": 7,
    "start_time": "2022-08-08T15:53:38.927Z"
   },
   {
    "duration": 21,
    "start_time": "2022-08-08T15:53:38.936Z"
   },
   {
    "duration": 10,
    "start_time": "2022-08-08T15:53:38.958Z"
   },
   {
    "duration": 13,
    "start_time": "2022-08-08T15:53:38.970Z"
   },
   {
    "duration": 24,
    "start_time": "2022-08-08T15:53:38.985Z"
   },
   {
    "duration": 35,
    "start_time": "2022-08-08T15:53:39.010Z"
   },
   {
    "duration": 10,
    "start_time": "2022-08-08T15:53:39.047Z"
   },
   {
    "duration": 17,
    "start_time": "2022-08-08T15:53:39.063Z"
   },
   {
    "duration": 32,
    "start_time": "2022-08-08T15:53:39.082Z"
   },
   {
    "duration": 4,
    "start_time": "2022-08-08T15:53:39.115Z"
   },
   {
    "duration": 42,
    "start_time": "2022-08-08T15:53:39.121Z"
   },
   {
    "duration": 6,
    "start_time": "2022-08-08T15:53:39.164Z"
   },
   {
    "duration": 19,
    "start_time": "2022-08-08T15:53:39.171Z"
   },
   {
    "duration": 10,
    "start_time": "2022-08-08T15:53:39.192Z"
   },
   {
    "duration": 27,
    "start_time": "2022-08-08T15:53:39.203Z"
   },
   {
    "duration": 13,
    "start_time": "2022-08-08T15:53:39.232Z"
   },
   {
    "duration": 15,
    "start_time": "2022-08-08T15:53:39.247Z"
   },
   {
    "duration": 13,
    "start_time": "2022-08-08T15:53:39.264Z"
   },
   {
    "duration": 13,
    "start_time": "2022-08-08T15:53:39.279Z"
   },
   {
    "duration": 27,
    "start_time": "2022-08-08T15:53:39.294Z"
   },
   {
    "duration": 33,
    "start_time": "2022-08-08T15:53:39.322Z"
   },
   {
    "duration": 35,
    "start_time": "2022-08-08T15:53:39.357Z"
   },
   {
    "duration": 39,
    "start_time": "2022-08-08T15:53:39.394Z"
   },
   {
    "duration": 25,
    "start_time": "2022-08-08T15:53:39.435Z"
   },
   {
    "duration": 58,
    "start_time": "2022-08-08T15:53:39.462Z"
   },
   {
    "duration": 15,
    "start_time": "2022-08-08T15:53:39.522Z"
   },
   {
    "duration": 13,
    "start_time": "2022-08-08T15:53:39.539Z"
   },
   {
    "duration": 18,
    "start_time": "2022-08-08T15:53:39.554Z"
   },
   {
    "duration": 4,
    "start_time": "2022-08-08T15:53:39.573Z"
   },
   {
    "duration": 31,
    "start_time": "2022-08-08T15:53:39.578Z"
   },
   {
    "duration": 15,
    "start_time": "2022-08-08T15:53:39.611Z"
   },
   {
    "duration": 7,
    "start_time": "2022-08-08T15:53:39.627Z"
   },
   {
    "duration": 20,
    "start_time": "2022-08-08T15:53:39.636Z"
   },
   {
    "duration": 4,
    "start_time": "2022-08-08T15:53:39.658Z"
   },
   {
    "duration": 94,
    "start_time": "2022-08-08T15:53:39.664Z"
   },
   {
    "duration": 0,
    "start_time": "2022-08-08T15:53:39.760Z"
   },
   {
    "duration": 0,
    "start_time": "2022-08-08T15:53:39.761Z"
   },
   {
    "duration": 0,
    "start_time": "2022-08-08T15:53:39.762Z"
   },
   {
    "duration": 0,
    "start_time": "2022-08-08T15:53:39.763Z"
   },
   {
    "duration": 0,
    "start_time": "2022-08-08T15:53:39.765Z"
   },
   {
    "duration": 0,
    "start_time": "2022-08-08T15:53:39.766Z"
   },
   {
    "duration": 0,
    "start_time": "2022-08-08T15:53:39.767Z"
   },
   {
    "duration": 0,
    "start_time": "2022-08-08T15:53:39.767Z"
   },
   {
    "duration": 0,
    "start_time": "2022-08-08T15:53:39.769Z"
   },
   {
    "duration": 0,
    "start_time": "2022-08-08T15:53:39.770Z"
   },
   {
    "duration": 0,
    "start_time": "2022-08-08T15:53:39.771Z"
   },
   {
    "duration": 0,
    "start_time": "2022-08-08T15:53:39.772Z"
   },
   {
    "duration": 0,
    "start_time": "2022-08-08T15:53:39.774Z"
   },
   {
    "duration": 0,
    "start_time": "2022-08-08T15:53:39.775Z"
   },
   {
    "duration": 0,
    "start_time": "2022-08-08T15:53:39.810Z"
   },
   {
    "duration": 0,
    "start_time": "2022-08-08T15:53:39.811Z"
   },
   {
    "duration": 0,
    "start_time": "2022-08-08T15:53:39.814Z"
   },
   {
    "duration": 0,
    "start_time": "2022-08-08T15:53:39.815Z"
   },
   {
    "duration": 0,
    "start_time": "2022-08-08T15:53:39.816Z"
   },
   {
    "duration": 0,
    "start_time": "2022-08-08T15:53:39.818Z"
   },
   {
    "duration": 0,
    "start_time": "2022-08-08T15:53:39.819Z"
   },
   {
    "duration": 0,
    "start_time": "2022-08-08T15:53:39.821Z"
   },
   {
    "duration": 0,
    "start_time": "2022-08-08T15:53:39.822Z"
   },
   {
    "duration": 0,
    "start_time": "2022-08-08T15:53:39.824Z"
   },
   {
    "duration": 0,
    "start_time": "2022-08-08T15:53:39.825Z"
   },
   {
    "duration": 0,
    "start_time": "2022-08-08T15:53:39.827Z"
   },
   {
    "duration": 0,
    "start_time": "2022-08-08T15:53:39.828Z"
   },
   {
    "duration": 0,
    "start_time": "2022-08-08T15:53:39.830Z"
   },
   {
    "duration": 0,
    "start_time": "2022-08-08T15:53:39.831Z"
   },
   {
    "duration": 0,
    "start_time": "2022-08-08T15:53:39.833Z"
   },
   {
    "duration": 0,
    "start_time": "2022-08-08T15:53:39.835Z"
   },
   {
    "duration": 0,
    "start_time": "2022-08-08T15:53:39.836Z"
   },
   {
    "duration": 0,
    "start_time": "2022-08-08T15:53:39.838Z"
   },
   {
    "duration": 0,
    "start_time": "2022-08-08T15:53:39.839Z"
   },
   {
    "duration": 0,
    "start_time": "2022-08-08T15:53:39.841Z"
   },
   {
    "duration": 0,
    "start_time": "2022-08-08T15:53:39.845Z"
   },
   {
    "duration": 0,
    "start_time": "2022-08-08T15:53:39.846Z"
   },
   {
    "duration": 0,
    "start_time": "2022-08-08T15:53:39.848Z"
   },
   {
    "duration": 0,
    "start_time": "2022-08-08T15:53:39.910Z"
   },
   {
    "duration": 0,
    "start_time": "2022-08-08T15:53:39.911Z"
   },
   {
    "duration": 0,
    "start_time": "2022-08-08T15:53:39.913Z"
   },
   {
    "duration": 0,
    "start_time": "2022-08-08T15:53:39.914Z"
   },
   {
    "duration": 0,
    "start_time": "2022-08-08T15:53:39.915Z"
   },
   {
    "duration": 0,
    "start_time": "2022-08-08T15:53:39.917Z"
   },
   {
    "duration": 0,
    "start_time": "2022-08-08T15:53:39.918Z"
   },
   {
    "duration": 9,
    "start_time": "2022-08-08T15:53:58.055Z"
   },
   {
    "duration": 9,
    "start_time": "2022-08-08T15:55:03.260Z"
   },
   {
    "duration": 53,
    "start_time": "2022-08-08T16:03:33.623Z"
   },
   {
    "duration": 49,
    "start_time": "2022-08-08T16:03:50.965Z"
   },
   {
    "duration": 50,
    "start_time": "2022-08-08T16:05:38.113Z"
   },
   {
    "duration": 49,
    "start_time": "2022-08-08T16:05:48.194Z"
   },
   {
    "duration": 56,
    "start_time": "2022-08-08T16:07:33.123Z"
   },
   {
    "duration": 51,
    "start_time": "2022-08-08T16:08:07.170Z"
   },
   {
    "duration": 53,
    "start_time": "2022-08-08T16:09:30.460Z"
   },
   {
    "duration": 4,
    "start_time": "2022-08-08T16:09:47.028Z"
   },
   {
    "duration": 5,
    "start_time": "2022-08-08T16:10:05.851Z"
   },
   {
    "duration": 5,
    "start_time": "2022-08-08T16:12:00.525Z"
   },
   {
    "duration": 4,
    "start_time": "2022-08-08T16:12:34.816Z"
   },
   {
    "duration": 4,
    "start_time": "2022-08-08T16:13:18.638Z"
   },
   {
    "duration": 11,
    "start_time": "2022-08-08T16:14:00.990Z"
   },
   {
    "duration": 5,
    "start_time": "2022-08-08T16:14:21.046Z"
   },
   {
    "duration": 6,
    "start_time": "2022-08-08T16:15:51.762Z"
   },
   {
    "duration": 6,
    "start_time": "2022-08-08T16:19:14.820Z"
   },
   {
    "duration": 925,
    "start_time": "2022-08-08T16:19:51.466Z"
   },
   {
    "duration": 905,
    "start_time": "2022-08-08T16:20:06.900Z"
   },
   {
    "duration": 18,
    "start_time": "2022-08-08T16:21:42.861Z"
   },
   {
    "duration": 5,
    "start_time": "2022-08-08T16:27:48.946Z"
   },
   {
    "duration": 58,
    "start_time": "2022-08-08T16:28:39.890Z"
   },
   {
    "duration": 7,
    "start_time": "2022-08-08T16:28:50.177Z"
   },
   {
    "duration": 8,
    "start_time": "2022-08-08T16:34:31.618Z"
   },
   {
    "duration": 16,
    "start_time": "2022-08-08T16:35:14.935Z"
   },
   {
    "duration": 22,
    "start_time": "2022-08-08T16:35:24.238Z"
   },
   {
    "duration": 8,
    "start_time": "2022-08-08T16:35:29.759Z"
   },
   {
    "duration": 26,
    "start_time": "2022-08-08T16:35:40.231Z"
   },
   {
    "duration": 17,
    "start_time": "2022-08-08T16:37:27.632Z"
   },
   {
    "duration": 5,
    "start_time": "2022-08-08T16:37:35.173Z"
   },
   {
    "duration": 12,
    "start_time": "2022-08-08T16:37:40.687Z"
   },
   {
    "duration": 11,
    "start_time": "2022-08-08T16:39:51.035Z"
   },
   {
    "duration": 7,
    "start_time": "2022-08-08T16:39:56.794Z"
   },
   {
    "duration": 11,
    "start_time": "2022-08-08T16:41:01.476Z"
   },
   {
    "duration": 23,
    "start_time": "2022-08-08T16:41:58.104Z"
   },
   {
    "duration": 18,
    "start_time": "2022-08-08T16:42:07.422Z"
   },
   {
    "duration": 11,
    "start_time": "2022-08-08T16:42:19.132Z"
   },
   {
    "duration": 32,
    "start_time": "2022-08-08T16:42:23.403Z"
   },
   {
    "duration": 8,
    "start_time": "2022-08-08T16:47:57.032Z"
   },
   {
    "duration": 8,
    "start_time": "2022-08-08T16:48:43.962Z"
   },
   {
    "duration": 6,
    "start_time": "2022-08-08T16:49:24.130Z"
   },
   {
    "duration": 21,
    "start_time": "2022-08-08T17:15:49.423Z"
   },
   {
    "duration": 6,
    "start_time": "2022-08-08T17:17:34.648Z"
   },
   {
    "duration": 9,
    "start_time": "2022-08-08T17:18:21.561Z"
   },
   {
    "duration": 11,
    "start_time": "2022-08-08T17:18:58.138Z"
   },
   {
    "duration": 10,
    "start_time": "2022-08-08T17:19:05.827Z"
   },
   {
    "duration": 8,
    "start_time": "2022-08-08T17:20:04.179Z"
   },
   {
    "duration": 3,
    "start_time": "2022-08-08T17:23:47.577Z"
   },
   {
    "duration": 5,
    "start_time": "2022-08-08T17:23:56.757Z"
   },
   {
    "duration": 22,
    "start_time": "2022-08-08T17:24:18.863Z"
   },
   {
    "duration": 10,
    "start_time": "2022-08-08T17:24:57.722Z"
   },
   {
    "duration": 12,
    "start_time": "2022-08-08T17:25:59.615Z"
   },
   {
    "duration": 7,
    "start_time": "2022-08-08T17:26:33.991Z"
   },
   {
    "duration": 4,
    "start_time": "2022-08-08T17:26:50.279Z"
   },
   {
    "duration": 4,
    "start_time": "2022-08-08T17:27:17.855Z"
   },
   {
    "duration": 49,
    "start_time": "2022-08-08T17:31:44.844Z"
   },
   {
    "duration": 13,
    "start_time": "2022-08-08T17:32:17.656Z"
   },
   {
    "duration": 5,
    "start_time": "2022-08-08T17:33:07.630Z"
   },
   {
    "duration": 11,
    "start_time": "2022-08-08T17:34:02.674Z"
   },
   {
    "duration": 45,
    "start_time": "2022-08-08T17:34:19.974Z"
   },
   {
    "duration": 10,
    "start_time": "2022-08-08T17:34:25.196Z"
   },
   {
    "duration": 13,
    "start_time": "2022-08-08T17:34:42.092Z"
   },
   {
    "duration": 9,
    "start_time": "2022-08-08T18:33:31.458Z"
   },
   {
    "duration": 454,
    "start_time": "2022-08-08T18:34:06.539Z"
   },
   {
    "duration": 3,
    "start_time": "2022-08-08T18:34:06.995Z"
   },
   {
    "duration": 27,
    "start_time": "2022-08-08T18:34:07.000Z"
   },
   {
    "duration": 15,
    "start_time": "2022-08-08T18:34:07.029Z"
   },
   {
    "duration": 9,
    "start_time": "2022-08-08T18:34:07.046Z"
   },
   {
    "duration": 16,
    "start_time": "2022-08-08T18:34:07.056Z"
   },
   {
    "duration": 9,
    "start_time": "2022-08-08T18:34:07.074Z"
   },
   {
    "duration": 35,
    "start_time": "2022-08-08T18:34:07.085Z"
   },
   {
    "duration": 11,
    "start_time": "2022-08-08T18:34:07.122Z"
   },
   {
    "duration": 8,
    "start_time": "2022-08-08T18:34:07.135Z"
   },
   {
    "duration": 13,
    "start_time": "2022-08-08T18:34:07.145Z"
   },
   {
    "duration": 17,
    "start_time": "2022-08-08T18:34:07.160Z"
   },
   {
    "duration": 10,
    "start_time": "2022-08-08T18:34:07.208Z"
   },
   {
    "duration": 25,
    "start_time": "2022-08-08T18:34:07.220Z"
   },
   {
    "duration": 38,
    "start_time": "2022-08-08T18:34:07.247Z"
   },
   {
    "duration": 38,
    "start_time": "2022-08-08T18:34:07.288Z"
   },
   {
    "duration": 10,
    "start_time": "2022-08-08T18:34:07.329Z"
   },
   {
    "duration": 24,
    "start_time": "2022-08-08T18:34:07.341Z"
   },
   {
    "duration": 17,
    "start_time": "2022-08-08T18:34:07.368Z"
   },
   {
    "duration": 12,
    "start_time": "2022-08-08T18:34:07.387Z"
   },
   {
    "duration": 12,
    "start_time": "2022-08-08T18:34:07.408Z"
   },
   {
    "duration": 35,
    "start_time": "2022-08-08T18:34:07.421Z"
   },
   {
    "duration": 42,
    "start_time": "2022-08-08T18:34:07.458Z"
   },
   {
    "duration": 4,
    "start_time": "2022-08-08T18:34:07.502Z"
   },
   {
    "duration": 5,
    "start_time": "2022-08-08T18:34:07.509Z"
   },
   {
    "duration": 11,
    "start_time": "2022-08-08T18:34:07.516Z"
   },
   {
    "duration": 21,
    "start_time": "2022-08-08T18:34:07.529Z"
   },
   {
    "duration": 13,
    "start_time": "2022-08-08T18:34:07.554Z"
   },
   {
    "duration": 2,
    "start_time": "2022-08-08T18:34:07.569Z"
   },
   {
    "duration": 57,
    "start_time": "2022-08-08T18:34:07.572Z"
   },
   {
    "duration": 68,
    "start_time": "2022-08-08T18:34:07.631Z"
   },
   {
    "duration": 0,
    "start_time": "2022-08-08T18:34:07.709Z"
   },
   {
    "duration": 0,
    "start_time": "2022-08-08T18:34:07.711Z"
   },
   {
    "duration": 0,
    "start_time": "2022-08-08T18:34:07.712Z"
   },
   {
    "duration": 0,
    "start_time": "2022-08-08T18:34:07.714Z"
   },
   {
    "duration": 0,
    "start_time": "2022-08-08T18:34:07.715Z"
   },
   {
    "duration": 0,
    "start_time": "2022-08-08T18:34:07.717Z"
   },
   {
    "duration": 0,
    "start_time": "2022-08-08T18:34:07.718Z"
   },
   {
    "duration": 0,
    "start_time": "2022-08-08T18:34:07.719Z"
   },
   {
    "duration": 0,
    "start_time": "2022-08-08T18:34:07.720Z"
   },
   {
    "duration": 0,
    "start_time": "2022-08-08T18:34:07.720Z"
   },
   {
    "duration": 0,
    "start_time": "2022-08-08T18:34:07.721Z"
   },
   {
    "duration": 0,
    "start_time": "2022-08-08T18:34:07.722Z"
   },
   {
    "duration": 0,
    "start_time": "2022-08-08T18:34:07.723Z"
   },
   {
    "duration": 0,
    "start_time": "2022-08-08T18:34:07.724Z"
   },
   {
    "duration": 0,
    "start_time": "2022-08-08T18:34:07.725Z"
   },
   {
    "duration": 0,
    "start_time": "2022-08-08T18:34:07.726Z"
   },
   {
    "duration": 0,
    "start_time": "2022-08-08T18:34:07.727Z"
   },
   {
    "duration": 0,
    "start_time": "2022-08-08T18:34:07.728Z"
   },
   {
    "duration": 0,
    "start_time": "2022-08-08T18:34:07.729Z"
   },
   {
    "duration": 0,
    "start_time": "2022-08-08T18:34:07.730Z"
   },
   {
    "duration": 0,
    "start_time": "2022-08-08T18:34:07.731Z"
   },
   {
    "duration": 0,
    "start_time": "2022-08-08T18:34:07.731Z"
   },
   {
    "duration": 0,
    "start_time": "2022-08-08T18:34:07.732Z"
   },
   {
    "duration": 0,
    "start_time": "2022-08-08T18:34:07.733Z"
   },
   {
    "duration": 0,
    "start_time": "2022-08-08T18:34:07.734Z"
   },
   {
    "duration": 0,
    "start_time": "2022-08-08T18:34:07.735Z"
   },
   {
    "duration": 0,
    "start_time": "2022-08-08T18:34:07.736Z"
   },
   {
    "duration": 0,
    "start_time": "2022-08-08T18:34:07.738Z"
   },
   {
    "duration": 0,
    "start_time": "2022-08-08T18:34:07.739Z"
   },
   {
    "duration": 0,
    "start_time": "2022-08-08T18:34:07.740Z"
   },
   {
    "duration": 0,
    "start_time": "2022-08-08T18:34:07.741Z"
   },
   {
    "duration": 0,
    "start_time": "2022-08-08T18:34:07.741Z"
   },
   {
    "duration": 0,
    "start_time": "2022-08-08T18:34:07.742Z"
   },
   {
    "duration": 0,
    "start_time": "2022-08-08T18:34:07.743Z"
   },
   {
    "duration": 0,
    "start_time": "2022-08-08T18:34:07.744Z"
   },
   {
    "duration": 0,
    "start_time": "2022-08-08T18:34:07.745Z"
   },
   {
    "duration": 0,
    "start_time": "2022-08-08T18:34:07.746Z"
   },
   {
    "duration": 0,
    "start_time": "2022-08-08T18:34:07.747Z"
   },
   {
    "duration": 0,
    "start_time": "2022-08-08T18:34:07.748Z"
   },
   {
    "duration": 0,
    "start_time": "2022-08-08T18:34:07.809Z"
   },
   {
    "duration": 0,
    "start_time": "2022-08-08T18:34:07.810Z"
   },
   {
    "duration": 0,
    "start_time": "2022-08-08T18:34:07.811Z"
   },
   {
    "duration": 0,
    "start_time": "2022-08-08T18:34:07.812Z"
   },
   {
    "duration": 1,
    "start_time": "2022-08-08T18:34:07.812Z"
   },
   {
    "duration": 0,
    "start_time": "2022-08-08T18:34:07.813Z"
   },
   {
    "duration": 0,
    "start_time": "2022-08-08T18:34:07.814Z"
   },
   {
    "duration": 0,
    "start_time": "2022-08-08T18:34:07.815Z"
   },
   {
    "duration": 0,
    "start_time": "2022-08-08T18:34:07.816Z"
   },
   {
    "duration": 0,
    "start_time": "2022-08-08T18:34:07.817Z"
   },
   {
    "duration": 0,
    "start_time": "2022-08-08T18:34:07.818Z"
   },
   {
    "duration": 0,
    "start_time": "2022-08-08T18:34:07.819Z"
   },
   {
    "duration": 0,
    "start_time": "2022-08-08T18:34:07.820Z"
   },
   {
    "duration": 0,
    "start_time": "2022-08-08T18:34:07.820Z"
   },
   {
    "duration": 0,
    "start_time": "2022-08-08T18:34:07.821Z"
   },
   {
    "duration": 0,
    "start_time": "2022-08-08T18:34:07.822Z"
   },
   {
    "duration": 0,
    "start_time": "2022-08-08T18:34:07.823Z"
   },
   {
    "duration": 0,
    "start_time": "2022-08-08T18:34:07.824Z"
   },
   {
    "duration": 0,
    "start_time": "2022-08-08T18:34:07.825Z"
   },
   {
    "duration": 0,
    "start_time": "2022-08-08T18:34:07.826Z"
   },
   {
    "duration": 0,
    "start_time": "2022-08-08T18:34:07.827Z"
   },
   {
    "duration": 0,
    "start_time": "2022-08-08T18:34:07.828Z"
   },
   {
    "duration": 0,
    "start_time": "2022-08-08T18:34:07.829Z"
   },
   {
    "duration": 0,
    "start_time": "2022-08-08T18:34:07.830Z"
   },
   {
    "duration": 0,
    "start_time": "2022-08-08T18:34:07.831Z"
   },
   {
    "duration": 0,
    "start_time": "2022-08-08T18:34:07.833Z"
   },
   {
    "duration": 0,
    "start_time": "2022-08-08T18:34:07.834Z"
   },
   {
    "duration": 0,
    "start_time": "2022-08-08T18:34:07.834Z"
   },
   {
    "duration": 0,
    "start_time": "2022-08-08T18:34:07.835Z"
   },
   {
    "duration": 0,
    "start_time": "2022-08-08T18:34:07.836Z"
   },
   {
    "duration": 0,
    "start_time": "2022-08-08T18:34:07.837Z"
   },
   {
    "duration": 0,
    "start_time": "2022-08-08T18:34:07.838Z"
   },
   {
    "duration": 0,
    "start_time": "2022-08-08T18:34:07.839Z"
   },
   {
    "duration": 0,
    "start_time": "2022-08-08T18:34:07.841Z"
   },
   {
    "duration": 0,
    "start_time": "2022-08-08T18:34:07.842Z"
   },
   {
    "duration": 0,
    "start_time": "2022-08-08T18:34:07.843Z"
   },
   {
    "duration": 0,
    "start_time": "2022-08-08T18:34:07.844Z"
   },
   {
    "duration": 0,
    "start_time": "2022-08-08T18:34:07.845Z"
   },
   {
    "duration": 0,
    "start_time": "2022-08-08T18:34:07.846Z"
   },
   {
    "duration": 0,
    "start_time": "2022-08-08T18:34:07.847Z"
   },
   {
    "duration": 0,
    "start_time": "2022-08-08T18:34:07.909Z"
   },
   {
    "duration": 0,
    "start_time": "2022-08-08T18:34:07.910Z"
   },
   {
    "duration": 0,
    "start_time": "2022-08-08T18:34:07.912Z"
   },
   {
    "duration": 0,
    "start_time": "2022-08-08T18:34:07.913Z"
   },
   {
    "duration": 0,
    "start_time": "2022-08-08T18:34:07.913Z"
   },
   {
    "duration": 0,
    "start_time": "2022-08-08T18:34:07.914Z"
   },
   {
    "duration": 33,
    "start_time": "2022-08-08T18:47:09.272Z"
   },
   {
    "duration": 24,
    "start_time": "2022-08-08T18:56:39.605Z"
   },
   {
    "duration": 10,
    "start_time": "2022-08-08T19:07:17.049Z"
   },
   {
    "duration": 17,
    "start_time": "2022-08-08T19:07:19.790Z"
   },
   {
    "duration": 2,
    "start_time": "2022-08-08T19:07:21.945Z"
   },
   {
    "duration": 49,
    "start_time": "2022-08-08T19:07:22.864Z"
   },
   {
    "duration": 10,
    "start_time": "2022-08-08T19:07:31.643Z"
   },
   {
    "duration": 4,
    "start_time": "2022-08-08T19:08:21.554Z"
   },
   {
    "duration": 8,
    "start_time": "2022-08-08T19:08:31.337Z"
   },
   {
    "duration": 5,
    "start_time": "2022-08-08T19:08:33.866Z"
   },
   {
    "duration": 7,
    "start_time": "2022-08-08T19:08:52.032Z"
   },
   {
    "duration": 6,
    "start_time": "2022-08-08T19:08:58.999Z"
   },
   {
    "duration": 4,
    "start_time": "2022-08-08T19:09:04.514Z"
   },
   {
    "duration": 5,
    "start_time": "2022-08-08T19:09:08.461Z"
   },
   {
    "duration": 7,
    "start_time": "2022-08-08T19:09:35.043Z"
   },
   {
    "duration": 4,
    "start_time": "2022-08-08T19:15:20.976Z"
   },
   {
    "duration": 7,
    "start_time": "2022-08-08T19:15:22.380Z"
   },
   {
    "duration": 9,
    "start_time": "2022-08-08T19:16:27.538Z"
   },
   {
    "duration": 7,
    "start_time": "2022-08-08T19:17:14.171Z"
   },
   {
    "duration": 21,
    "start_time": "2022-08-08T19:17:57.120Z"
   },
   {
    "duration": 21,
    "start_time": "2022-08-08T19:18:44.348Z"
   },
   {
    "duration": 10,
    "start_time": "2022-08-08T19:23:01.197Z"
   },
   {
    "duration": 9,
    "start_time": "2022-08-08T19:23:17.871Z"
   },
   {
    "duration": 10,
    "start_time": "2022-08-08T19:23:28.880Z"
   },
   {
    "duration": 8,
    "start_time": "2022-08-08T19:23:52.457Z"
   },
   {
    "duration": 8,
    "start_time": "2022-08-08T19:24:10.415Z"
   },
   {
    "duration": 7,
    "start_time": "2022-08-08T19:24:43.566Z"
   },
   {
    "duration": 9,
    "start_time": "2022-08-08T19:24:57.911Z"
   },
   {
    "duration": 8,
    "start_time": "2022-08-08T19:27:15.892Z"
   },
   {
    "duration": 9,
    "start_time": "2022-08-08T19:27:39.939Z"
   },
   {
    "duration": 1971,
    "start_time": "2022-08-08T19:27:56.270Z"
   },
   {
    "duration": 204,
    "start_time": "2022-08-08T19:28:13.299Z"
   },
   {
    "duration": 224,
    "start_time": "2022-08-08T19:28:23.003Z"
   },
   {
    "duration": 1902,
    "start_time": "2022-08-08T19:28:29.853Z"
   },
   {
    "duration": 35,
    "start_time": "2022-08-08T19:30:58.617Z"
   },
   {
    "duration": 4,
    "start_time": "2022-08-08T19:31:03.051Z"
   },
   {
    "duration": 36,
    "start_time": "2022-08-08T19:31:05.989Z"
   },
   {
    "duration": 6,
    "start_time": "2022-08-08T19:32:31.779Z"
   },
   {
    "duration": 6,
    "start_time": "2022-08-08T19:33:16.893Z"
   },
   {
    "duration": 5,
    "start_time": "2022-08-08T19:33:20.800Z"
   },
   {
    "duration": 6,
    "start_time": "2022-08-08T19:33:58.255Z"
   },
   {
    "duration": 6,
    "start_time": "2022-08-08T19:34:06.657Z"
   },
   {
    "duration": 8,
    "start_time": "2022-08-08T19:34:15.876Z"
   },
   {
    "duration": 7,
    "start_time": "2022-08-08T19:34:29.058Z"
   },
   {
    "duration": 6,
    "start_time": "2022-08-08T19:34:30.188Z"
   },
   {
    "duration": 28,
    "start_time": "2022-08-08T19:34:45.747Z"
   },
   {
    "duration": 19,
    "start_time": "2022-08-08T19:35:31.645Z"
   },
   {
    "duration": 22,
    "start_time": "2022-08-08T19:35:32.765Z"
   },
   {
    "duration": 14,
    "start_time": "2022-08-08T19:36:48.827Z"
   },
   {
    "duration": 34,
    "start_time": "2022-08-08T19:37:09.410Z"
   },
   {
    "duration": 9,
    "start_time": "2022-08-08T19:39:45.874Z"
   },
   {
    "duration": 3,
    "start_time": "2022-08-08T19:39:48.920Z"
   },
   {
    "duration": 3,
    "start_time": "2022-08-08T19:39:49.604Z"
   },
   {
    "duration": 11,
    "start_time": "2022-08-08T19:39:51.243Z"
   },
   {
    "duration": 8,
    "start_time": "2022-08-08T19:41:30.759Z"
   },
   {
    "duration": 20,
    "start_time": "2022-08-08T19:42:25.841Z"
   },
   {
    "duration": 4,
    "start_time": "2022-08-08T19:42:31.751Z"
   },
   {
    "duration": 6,
    "start_time": "2022-08-08T19:45:04.064Z"
   },
   {
    "duration": 10,
    "start_time": "2022-08-08T19:45:21.981Z"
   },
   {
    "duration": 6,
    "start_time": "2022-08-08T19:45:33.924Z"
   },
   {
    "duration": 10,
    "start_time": "2022-08-08T19:46:27.119Z"
   },
   {
    "duration": 9,
    "start_time": "2022-08-08T19:46:36.612Z"
   },
   {
    "duration": 6,
    "start_time": "2022-08-08T19:46:44.042Z"
   },
   {
    "duration": 7,
    "start_time": "2022-08-08T19:47:58.321Z"
   },
   {
    "duration": 7,
    "start_time": "2022-08-08T19:48:27.815Z"
   },
   {
    "duration": 10,
    "start_time": "2022-08-08T19:49:15.352Z"
   },
   {
    "duration": 9,
    "start_time": "2022-08-08T19:49:27.534Z"
   },
   {
    "duration": 11,
    "start_time": "2022-08-08T19:49:31.278Z"
   },
   {
    "duration": 13,
    "start_time": "2022-08-08T19:49:34.215Z"
   },
   {
    "duration": 12,
    "start_time": "2022-08-08T19:51:52.308Z"
   },
   {
    "duration": 6,
    "start_time": "2022-08-08T19:52:02.785Z"
   },
   {
    "duration": 596,
    "start_time": "2022-08-08T19:52:07.413Z"
   },
   {
    "duration": 12,
    "start_time": "2022-08-08T19:52:15.749Z"
   },
   {
    "duration": 23,
    "start_time": "2022-08-08T19:53:47.297Z"
   },
   {
    "duration": 15,
    "start_time": "2022-08-08T19:55:17.216Z"
   },
   {
    "duration": 16,
    "start_time": "2022-08-08T19:56:02.853Z"
   },
   {
    "duration": 19,
    "start_time": "2022-08-08T19:56:30.463Z"
   },
   {
    "duration": 8,
    "start_time": "2022-08-08T19:56:38.056Z"
   },
   {
    "duration": 25,
    "start_time": "2022-08-08T19:57:56.190Z"
   },
   {
    "duration": 10,
    "start_time": "2022-08-08T20:02:07.378Z"
   },
   {
    "duration": 11,
    "start_time": "2022-08-08T20:02:25.879Z"
   },
   {
    "duration": 2,
    "start_time": "2022-08-08T20:03:49.329Z"
   },
   {
    "duration": 16,
    "start_time": "2022-08-08T20:03:52.778Z"
   },
   {
    "duration": 5,
    "start_time": "2022-08-08T20:04:23.500Z"
   },
   {
    "duration": 23,
    "start_time": "2022-08-08T20:05:20.558Z"
   },
   {
    "duration": 10,
    "start_time": "2022-08-08T20:06:40.501Z"
   },
   {
    "duration": 8,
    "start_time": "2022-08-08T20:07:42.043Z"
   },
   {
    "duration": 7,
    "start_time": "2022-08-08T20:08:09.401Z"
   },
   {
    "duration": 575,
    "start_time": "2022-08-09T14:32:03.730Z"
   },
   {
    "duration": 4,
    "start_time": "2022-08-09T14:32:04.307Z"
   },
   {
    "duration": 30,
    "start_time": "2022-08-09T14:32:04.312Z"
   },
   {
    "duration": 20,
    "start_time": "2022-08-09T14:32:04.345Z"
   },
   {
    "duration": 10,
    "start_time": "2022-08-09T14:32:04.367Z"
   },
   {
    "duration": 11,
    "start_time": "2022-08-09T14:32:04.378Z"
   },
   {
    "duration": 10,
    "start_time": "2022-08-09T14:32:04.390Z"
   },
   {
    "duration": 11,
    "start_time": "2022-08-09T14:32:04.401Z"
   },
   {
    "duration": 20,
    "start_time": "2022-08-09T14:32:04.440Z"
   },
   {
    "duration": 10,
    "start_time": "2022-08-09T14:32:04.463Z"
   },
   {
    "duration": 10,
    "start_time": "2022-08-09T14:32:04.475Z"
   },
   {
    "duration": 13,
    "start_time": "2022-08-09T14:32:04.487Z"
   },
   {
    "duration": 6,
    "start_time": "2022-08-09T14:32:04.501Z"
   },
   {
    "duration": 36,
    "start_time": "2022-08-09T14:32:04.509Z"
   },
   {
    "duration": 34,
    "start_time": "2022-08-09T14:32:04.547Z"
   },
   {
    "duration": 24,
    "start_time": "2022-08-09T14:32:04.583Z"
   },
   {
    "duration": 50,
    "start_time": "2022-08-09T14:32:04.608Z"
   },
   {
    "duration": 8,
    "start_time": "2022-08-09T14:32:04.659Z"
   },
   {
    "duration": 23,
    "start_time": "2022-08-09T14:32:04.668Z"
   },
   {
    "duration": 10,
    "start_time": "2022-08-09T14:32:04.693Z"
   },
   {
    "duration": 6,
    "start_time": "2022-08-09T14:32:04.705Z"
   },
   {
    "duration": 9,
    "start_time": "2022-08-09T14:32:04.712Z"
   },
   {
    "duration": 40,
    "start_time": "2022-08-09T14:32:04.723Z"
   },
   {
    "duration": 4,
    "start_time": "2022-08-09T14:32:04.765Z"
   },
   {
    "duration": 22,
    "start_time": "2022-08-09T14:32:04.771Z"
   },
   {
    "duration": 17,
    "start_time": "2022-08-09T14:32:04.794Z"
   },
   {
    "duration": 31,
    "start_time": "2022-08-09T14:32:04.813Z"
   },
   {
    "duration": 28,
    "start_time": "2022-08-09T14:32:04.849Z"
   },
   {
    "duration": 14,
    "start_time": "2022-08-09T14:32:04.879Z"
   },
   {
    "duration": 81,
    "start_time": "2022-08-09T14:32:04.894Z"
   },
   {
    "duration": 4,
    "start_time": "2022-08-09T14:32:04.976Z"
   },
   {
    "duration": 17,
    "start_time": "2022-08-09T14:32:04.982Z"
   },
   {
    "duration": 18,
    "start_time": "2022-08-09T14:32:05.000Z"
   },
   {
    "duration": 10,
    "start_time": "2022-08-09T14:32:05.019Z"
   },
   {
    "duration": 30,
    "start_time": "2022-08-09T14:32:05.030Z"
   },
   {
    "duration": 11,
    "start_time": "2022-08-09T14:32:05.062Z"
   },
   {
    "duration": 15,
    "start_time": "2022-08-09T14:32:05.074Z"
   },
   {
    "duration": 9,
    "start_time": "2022-08-09T14:32:05.090Z"
   },
   {
    "duration": 11,
    "start_time": "2022-08-09T14:32:05.101Z"
   },
   {
    "duration": 10,
    "start_time": "2022-08-09T14:32:05.114Z"
   },
   {
    "duration": 26,
    "start_time": "2022-08-09T14:32:05.125Z"
   },
   {
    "duration": 19,
    "start_time": "2022-08-09T14:32:05.153Z"
   },
   {
    "duration": 2205,
    "start_time": "2022-08-09T14:32:05.174Z"
   },
   {
    "duration": 42,
    "start_time": "2022-08-09T14:32:07.380Z"
   },
   {
    "duration": 4,
    "start_time": "2022-08-09T14:32:07.423Z"
   },
   {
    "duration": 42,
    "start_time": "2022-08-09T14:32:07.428Z"
   },
   {
    "duration": 5,
    "start_time": "2022-08-09T14:32:07.472Z"
   },
   {
    "duration": 10,
    "start_time": "2022-08-09T14:32:07.478Z"
   },
   {
    "duration": 6,
    "start_time": "2022-08-09T14:32:07.489Z"
   },
   {
    "duration": 10,
    "start_time": "2022-08-09T14:32:07.496Z"
   },
   {
    "duration": 13,
    "start_time": "2022-08-09T14:32:07.507Z"
   },
   {
    "duration": 26,
    "start_time": "2022-08-09T14:32:07.522Z"
   },
   {
    "duration": 9,
    "start_time": "2022-08-09T14:32:07.550Z"
   },
   {
    "duration": 33,
    "start_time": "2022-08-09T14:32:07.561Z"
   },
   {
    "duration": 63,
    "start_time": "2022-08-09T14:32:07.595Z"
   },
   {
    "duration": 0,
    "start_time": "2022-08-09T14:32:07.661Z"
   },
   {
    "duration": 0,
    "start_time": "2022-08-09T14:32:07.663Z"
   },
   {
    "duration": 0,
    "start_time": "2022-08-09T14:32:07.664Z"
   },
   {
    "duration": 0,
    "start_time": "2022-08-09T14:32:07.665Z"
   },
   {
    "duration": 0,
    "start_time": "2022-08-09T14:32:07.666Z"
   },
   {
    "duration": 0,
    "start_time": "2022-08-09T14:32:07.668Z"
   },
   {
    "duration": 0,
    "start_time": "2022-08-09T14:32:07.669Z"
   },
   {
    "duration": 0,
    "start_time": "2022-08-09T14:32:07.670Z"
   },
   {
    "duration": 0,
    "start_time": "2022-08-09T14:32:07.671Z"
   },
   {
    "duration": 0,
    "start_time": "2022-08-09T14:32:07.673Z"
   },
   {
    "duration": 0,
    "start_time": "2022-08-09T14:32:07.674Z"
   },
   {
    "duration": 0,
    "start_time": "2022-08-09T14:32:07.675Z"
   },
   {
    "duration": 0,
    "start_time": "2022-08-09T14:32:07.677Z"
   },
   {
    "duration": 0,
    "start_time": "2022-08-09T14:32:07.677Z"
   },
   {
    "duration": 0,
    "start_time": "2022-08-09T14:32:07.678Z"
   },
   {
    "duration": 0,
    "start_time": "2022-08-09T14:32:07.680Z"
   },
   {
    "duration": 0,
    "start_time": "2022-08-09T14:32:07.681Z"
   },
   {
    "duration": 0,
    "start_time": "2022-08-09T14:32:07.682Z"
   },
   {
    "duration": 0,
    "start_time": "2022-08-09T14:32:07.683Z"
   },
   {
    "duration": 0,
    "start_time": "2022-08-09T14:32:07.684Z"
   },
   {
    "duration": 0,
    "start_time": "2022-08-09T14:32:07.685Z"
   },
   {
    "duration": 0,
    "start_time": "2022-08-09T14:32:07.685Z"
   },
   {
    "duration": 0,
    "start_time": "2022-08-09T14:32:07.686Z"
   },
   {
    "duration": 0,
    "start_time": "2022-08-09T14:32:07.688Z"
   },
   {
    "duration": 0,
    "start_time": "2022-08-09T14:32:07.689Z"
   },
   {
    "duration": 0,
    "start_time": "2022-08-09T14:32:07.690Z"
   },
   {
    "duration": 0,
    "start_time": "2022-08-09T14:32:07.690Z"
   },
   {
    "duration": 0,
    "start_time": "2022-08-09T14:32:07.692Z"
   },
   {
    "duration": 0,
    "start_time": "2022-08-09T14:32:07.692Z"
   },
   {
    "duration": 0,
    "start_time": "2022-08-09T14:32:07.693Z"
   },
   {
    "duration": 0,
    "start_time": "2022-08-09T14:32:07.694Z"
   },
   {
    "duration": 0,
    "start_time": "2022-08-09T14:32:07.751Z"
   },
   {
    "duration": 0,
    "start_time": "2022-08-09T14:32:07.753Z"
   },
   {
    "duration": 0,
    "start_time": "2022-08-09T14:32:07.754Z"
   },
   {
    "duration": 0,
    "start_time": "2022-08-09T14:32:07.755Z"
   },
   {
    "duration": 0,
    "start_time": "2022-08-09T14:32:07.757Z"
   },
   {
    "duration": 0,
    "start_time": "2022-08-09T14:32:07.759Z"
   },
   {
    "duration": 0,
    "start_time": "2022-08-09T14:32:07.760Z"
   },
   {
    "duration": 0,
    "start_time": "2022-08-09T14:32:07.761Z"
   },
   {
    "duration": 0,
    "start_time": "2022-08-09T14:32:07.761Z"
   },
   {
    "duration": 0,
    "start_time": "2022-08-09T14:32:07.762Z"
   },
   {
    "duration": 0,
    "start_time": "2022-08-09T14:32:07.763Z"
   },
   {
    "duration": 0,
    "start_time": "2022-08-09T14:32:07.764Z"
   },
   {
    "duration": 0,
    "start_time": "2022-08-09T14:32:07.765Z"
   },
   {
    "duration": 0,
    "start_time": "2022-08-09T14:32:07.766Z"
   },
   {
    "duration": 0,
    "start_time": "2022-08-09T14:32:07.767Z"
   },
   {
    "duration": 0,
    "start_time": "2022-08-09T14:32:07.768Z"
   },
   {
    "duration": 0,
    "start_time": "2022-08-09T14:32:07.769Z"
   },
   {
    "duration": 0,
    "start_time": "2022-08-09T14:32:07.770Z"
   },
   {
    "duration": 0,
    "start_time": "2022-08-09T14:32:07.771Z"
   },
   {
    "duration": 0,
    "start_time": "2022-08-09T14:32:07.772Z"
   },
   {
    "duration": 0,
    "start_time": "2022-08-09T14:32:07.773Z"
   },
   {
    "duration": 0,
    "start_time": "2022-08-09T14:32:07.774Z"
   },
   {
    "duration": 0,
    "start_time": "2022-08-09T14:32:07.775Z"
   },
   {
    "duration": 0,
    "start_time": "2022-08-09T14:32:07.776Z"
   },
   {
    "duration": 0,
    "start_time": "2022-08-09T14:32:07.777Z"
   },
   {
    "duration": 0,
    "start_time": "2022-08-09T14:32:07.778Z"
   },
   {
    "duration": 56,
    "start_time": "2022-08-09T14:34:20.576Z"
   },
   {
    "duration": 15,
    "start_time": "2022-08-09T14:34:32.469Z"
   },
   {
    "duration": 4,
    "start_time": "2022-08-09T14:34:35.801Z"
   },
   {
    "duration": 5,
    "start_time": "2022-08-09T14:34:37.288Z"
   },
   {
    "duration": 7,
    "start_time": "2022-08-09T14:35:43.650Z"
   },
   {
    "duration": 7,
    "start_time": "2022-08-09T14:35:57.635Z"
   },
   {
    "duration": 5,
    "start_time": "2022-08-09T14:35:58.253Z"
   },
   {
    "duration": 5,
    "start_time": "2022-08-09T14:35:58.466Z"
   },
   {
    "duration": 9,
    "start_time": "2022-08-09T14:35:59.041Z"
   },
   {
    "duration": 8,
    "start_time": "2022-08-09T14:35:59.289Z"
   },
   {
    "duration": 12,
    "start_time": "2022-08-09T14:35:59.633Z"
   },
   {
    "duration": 14,
    "start_time": "2022-08-09T14:36:00.354Z"
   },
   {
    "duration": 4,
    "start_time": "2022-08-09T14:36:01.722Z"
   },
   {
    "duration": 662,
    "start_time": "2022-08-09T14:36:02.288Z"
   },
   {
    "duration": 19,
    "start_time": "2022-08-09T14:36:03.072Z"
   },
   {
    "duration": 22,
    "start_time": "2022-08-09T14:36:05.009Z"
   },
   {
    "duration": 7,
    "start_time": "2022-08-09T14:36:05.731Z"
   },
   {
    "duration": 14,
    "start_time": "2022-08-09T14:36:21.561Z"
   },
   {
    "duration": 58,
    "start_time": "2022-08-09T14:36:36.858Z"
   },
   {
    "duration": 5,
    "start_time": "2022-08-09T14:36:37.349Z"
   },
   {
    "duration": 14,
    "start_time": "2022-08-09T14:36:37.596Z"
   },
   {
    "duration": 15,
    "start_time": "2022-08-09T14:36:38.450Z"
   },
   {
    "duration": 10,
    "start_time": "2022-08-09T14:36:39.377Z"
   },
   {
    "duration": 10,
    "start_time": "2022-08-09T14:36:40.504Z"
   },
   {
    "duration": 11,
    "start_time": "2022-08-09T14:36:40.809Z"
   },
   {
    "duration": 19,
    "start_time": "2022-08-09T14:36:41.046Z"
   },
   {
    "duration": 18,
    "start_time": "2022-08-09T14:36:41.537Z"
   },
   {
    "duration": 10,
    "start_time": "2022-08-09T14:36:42.352Z"
   },
   {
    "duration": 12,
    "start_time": "2022-08-09T14:36:42.793Z"
   },
   {
    "duration": 15,
    "start_time": "2022-08-09T14:36:43.852Z"
   },
   {
    "duration": 7,
    "start_time": "2022-08-09T14:37:16.722Z"
   },
   {
    "duration": 7,
    "start_time": "2022-08-09T14:37:16.956Z"
   },
   {
    "duration": 29,
    "start_time": "2022-08-09T14:37:17.235Z"
   },
   {
    "duration": 23,
    "start_time": "2022-08-09T14:37:18.254Z"
   },
   {
    "duration": 27,
    "start_time": "2022-08-09T14:37:19.417Z"
   },
   {
    "duration": 7,
    "start_time": "2022-08-09T14:37:20.553Z"
   },
   {
    "duration": 9,
    "start_time": "2022-08-09T14:37:21.690Z"
   },
   {
    "duration": 10,
    "start_time": "2022-08-09T14:37:22.752Z"
   },
   {
    "duration": 4,
    "start_time": "2022-08-09T14:37:25.793Z"
   },
   {
    "duration": 8,
    "start_time": "2022-08-09T14:37:27.454Z"
   },
   {
    "duration": 32,
    "start_time": "2022-08-09T14:37:28.515Z"
   },
   {
    "duration": 5,
    "start_time": "2022-08-09T14:37:29.402Z"
   },
   {
    "duration": 5,
    "start_time": "2022-08-09T14:37:31.561Z"
   },
   {
    "duration": 4,
    "start_time": "2022-08-09T14:37:33.010Z"
   },
   {
    "duration": 10,
    "start_time": "2022-08-09T14:37:35.305Z"
   },
   {
    "duration": 11,
    "start_time": "2022-08-09T14:37:49.253Z"
   },
   {
    "duration": 2,
    "start_time": "2022-08-09T14:37:49.522Z"
   },
   {
    "duration": 45,
    "start_time": "2022-08-09T14:37:52.887Z"
   },
   {
    "duration": 3,
    "start_time": "2022-08-09T14:38:07.768Z"
   },
   {
    "duration": 9,
    "start_time": "2022-08-09T14:38:08.550Z"
   },
   {
    "duration": 5,
    "start_time": "2022-08-09T14:38:08.770Z"
   },
   {
    "duration": 7,
    "start_time": "2022-08-09T14:38:09.201Z"
   },
   {
    "duration": 6,
    "start_time": "2022-08-09T14:38:09.514Z"
   },
   {
    "duration": 4,
    "start_time": "2022-08-09T14:38:10.173Z"
   },
   {
    "duration": 5,
    "start_time": "2022-08-09T14:38:10.410Z"
   },
   {
    "duration": 7,
    "start_time": "2022-08-09T14:38:10.881Z"
   },
   {
    "duration": 3,
    "start_time": "2022-08-09T14:38:11.676Z"
   },
   {
    "duration": 6,
    "start_time": "2022-08-09T14:38:12.163Z"
   },
   {
    "duration": 8,
    "start_time": "2022-08-09T14:38:12.889Z"
   },
   {
    "duration": 7,
    "start_time": "2022-08-09T14:38:13.563Z"
   },
   {
    "duration": 2040,
    "start_time": "2022-08-09T14:38:14.787Z"
   },
   {
    "duration": 49,
    "start_time": "2022-08-09T14:38:16.829Z"
   },
   {
    "duration": 8,
    "start_time": "2022-08-09T14:38:16.891Z"
   },
   {
    "duration": 37,
    "start_time": "2022-08-09T14:38:18.076Z"
   },
   {
    "duration": 6,
    "start_time": "2022-08-09T14:38:19.514Z"
   },
   {
    "duration": 6,
    "start_time": "2022-08-09T14:38:20.866Z"
   },
   {
    "duration": 4,
    "start_time": "2022-08-09T14:38:21.307Z"
   },
   {
    "duration": 10,
    "start_time": "2022-08-09T14:38:21.937Z"
   },
   {
    "duration": 6,
    "start_time": "2022-08-09T14:38:23.171Z"
   },
   {
    "duration": 12,
    "start_time": "2022-08-09T14:38:24.138Z"
   },
   {
    "duration": 6,
    "start_time": "2022-08-09T14:38:24.380Z"
   },
   {
    "duration": 24,
    "start_time": "2022-08-09T14:38:28.402Z"
   },
   {
    "duration": 85,
    "start_time": "2022-08-09T14:38:29.474Z"
   },
   {
    "duration": 19,
    "start_time": "2022-08-09T14:38:53.410Z"
   },
   {
    "duration": 21,
    "start_time": "2022-08-09T14:38:53.700Z"
   },
   {
    "duration": 13,
    "start_time": "2022-08-09T14:38:54.483Z"
   },
   {
    "duration": 42,
    "start_time": "2022-08-09T14:38:56.068Z"
   },
   {
    "duration": 15,
    "start_time": "2022-08-09T14:39:10.394Z"
   },
   {
    "duration": 10,
    "start_time": "2022-08-09T14:39:11.387Z"
   },
   {
    "duration": 16,
    "start_time": "2022-08-09T14:39:14.953Z"
   },
   {
    "duration": 3,
    "start_time": "2022-08-09T14:39:17.123Z"
   },
   {
    "duration": 3,
    "start_time": "2022-08-09T14:39:17.853Z"
   },
   {
    "duration": 16,
    "start_time": "2022-08-09T14:39:18.531Z"
   },
   {
    "duration": 9,
    "start_time": "2022-08-09T14:40:18.917Z"
   },
   {
    "duration": 20,
    "start_time": "2022-08-09T14:40:24.753Z"
   },
   {
    "duration": 4,
    "start_time": "2022-08-09T14:40:25.597Z"
   },
   {
    "duration": 7,
    "start_time": "2022-08-09T14:40:32.689Z"
   },
   {
    "duration": 6,
    "start_time": "2022-08-09T14:40:36.397Z"
   },
   {
    "duration": 6,
    "start_time": "2022-08-09T14:41:08.212Z"
   },
   {
    "duration": 6,
    "start_time": "2022-08-09T14:41:08.969Z"
   },
   {
    "duration": 7,
    "start_time": "2022-08-09T14:41:09.753Z"
   },
   {
    "duration": 8,
    "start_time": "2022-08-09T14:41:12.564Z"
   },
   {
    "duration": 10,
    "start_time": "2022-08-09T14:41:13.725Z"
   },
   {
    "duration": 12,
    "start_time": "2022-08-09T14:41:15.878Z"
   },
   {
    "duration": 15,
    "start_time": "2022-08-09T14:41:16.581Z"
   },
   {
    "duration": 5,
    "start_time": "2022-08-09T14:41:19.621Z"
   },
   {
    "duration": 249,
    "start_time": "2022-08-09T14:41:20.599Z"
   },
   {
    "duration": 13,
    "start_time": "2022-08-09T14:41:21.754Z"
   },
   {
    "duration": 10,
    "start_time": "2022-08-09T14:41:40.088Z"
   },
   {
    "duration": 16,
    "start_time": "2022-08-09T14:41:52.433Z"
   },
   {
    "duration": 12,
    "start_time": "2022-08-09T14:42:02.557Z"
   },
   {
    "duration": 12,
    "start_time": "2022-08-09T14:42:30.215Z"
   },
   {
    "duration": 5,
    "start_time": "2022-08-09T14:45:10.909Z"
   },
   {
    "duration": 5,
    "start_time": "2022-08-09T14:46:15.163Z"
   },
   {
    "duration": 9,
    "start_time": "2022-08-09T15:40:07.028Z"
   },
   {
    "duration": 14,
    "start_time": "2022-08-09T15:40:33.665Z"
   },
   {
    "duration": 16,
    "start_time": "2022-08-09T15:41:39.108Z"
   },
   {
    "duration": 13,
    "start_time": "2022-08-09T15:42:03.756Z"
   },
   {
    "duration": 82,
    "start_time": "2022-08-09T15:42:14.432Z"
   },
   {
    "duration": 9,
    "start_time": "2022-08-09T15:42:18.710Z"
   },
   {
    "duration": 6,
    "start_time": "2022-08-09T15:56:13.918Z"
   },
   {
    "duration": 18,
    "start_time": "2022-08-09T15:57:33.663Z"
   },
   {
    "duration": 10,
    "start_time": "2022-08-09T15:57:38.960Z"
   },
   {
    "duration": 10,
    "start_time": "2022-08-09T15:58:02.064Z"
   },
   {
    "duration": 6,
    "start_time": "2022-08-09T15:58:03.019Z"
   },
   {
    "duration": 17,
    "start_time": "2022-08-09T15:58:43.733Z"
   },
   {
    "duration": 6,
    "start_time": "2022-08-09T15:58:50.710Z"
   },
   {
    "duration": 2036,
    "start_time": "2022-08-09T15:59:11.790Z"
   },
   {
    "duration": 10,
    "start_time": "2022-08-09T15:59:42.075Z"
   },
   {
    "duration": 6,
    "start_time": "2022-08-09T15:59:46.515Z"
   },
   {
    "duration": 6,
    "start_time": "2022-08-09T15:59:47.887Z"
   },
   {
    "duration": 1811,
    "start_time": "2022-08-09T16:02:32.360Z"
   },
   {
    "duration": 10,
    "start_time": "2022-08-09T16:02:38.274Z"
   },
   {
    "duration": 9,
    "start_time": "2022-08-09T16:02:39.960Z"
   },
   {
    "duration": 12,
    "start_time": "2022-08-09T16:04:46.994Z"
   },
   {
    "duration": 11,
    "start_time": "2022-08-09T16:06:19.355Z"
   },
   {
    "duration": 10,
    "start_time": "2022-08-09T16:06:42.037Z"
   },
   {
    "duration": 3,
    "start_time": "2022-08-09T16:07:11.016Z"
   },
   {
    "duration": 71,
    "start_time": "2022-08-09T16:19:59.105Z"
   },
   {
    "duration": 105,
    "start_time": "2022-08-09T16:20:12.496Z"
   },
   {
    "duration": 72,
    "start_time": "2022-08-09T16:21:48.815Z"
   },
   {
    "duration": 92,
    "start_time": "2022-08-09T16:22:20.906Z"
   },
   {
    "duration": 106,
    "start_time": "2022-08-09T16:23:25.596Z"
   },
   {
    "duration": 58,
    "start_time": "2022-08-09T16:37:03.806Z"
   },
   {
    "duration": 69,
    "start_time": "2022-08-09T16:37:18.752Z"
   },
   {
    "duration": 46,
    "start_time": "2022-08-09T16:48:50.787Z"
   },
   {
    "duration": 55,
    "start_time": "2022-08-09T16:50:16.076Z"
   },
   {
    "duration": 14,
    "start_time": "2022-08-09T16:54:38.470Z"
   },
   {
    "duration": 9,
    "start_time": "2022-08-09T17:00:40.697Z"
   },
   {
    "duration": 54,
    "start_time": "2022-08-09T17:01:50.320Z"
   },
   {
    "duration": 60,
    "start_time": "2022-08-09T17:02:07.026Z"
   },
   {
    "duration": 74,
    "start_time": "2022-08-09T17:02:14.925Z"
   },
   {
    "duration": 63,
    "start_time": "2022-08-09T17:02:29.651Z"
   },
   {
    "duration": 937,
    "start_time": "2022-08-09T17:02:38.839Z"
   },
   {
    "duration": 18,
    "start_time": "2022-08-09T17:02:40.290Z"
   },
   {
    "duration": 1247,
    "start_time": "2022-08-09T17:03:02.765Z"
   },
   {
    "duration": 27,
    "start_time": "2022-08-09T17:08:38.739Z"
   },
   {
    "duration": 10,
    "start_time": "2022-08-09T17:09:08.356Z"
   },
   {
    "duration": 75,
    "start_time": "2022-08-09T17:09:24.608Z"
   },
   {
    "duration": 10,
    "start_time": "2022-08-09T17:09:36.521Z"
   },
   {
    "duration": 80,
    "start_time": "2022-08-09T17:10:18.503Z"
   },
   {
    "duration": 7,
    "start_time": "2022-08-09T17:10:35.003Z"
   },
   {
    "duration": 17,
    "start_time": "2022-08-09T17:10:49.533Z"
   },
   {
    "duration": 16,
    "start_time": "2022-08-09T17:14:32.563Z"
   },
   {
    "duration": 4,
    "start_time": "2022-08-09T17:15:03.671Z"
   },
   {
    "duration": 20,
    "start_time": "2022-08-09T17:15:19.653Z"
   },
   {
    "duration": 16,
    "start_time": "2022-08-09T17:15:30.374Z"
   },
   {
    "duration": 16,
    "start_time": "2022-08-09T17:15:42.393Z"
   },
   {
    "duration": 50,
    "start_time": "2022-08-09T17:34:30.802Z"
   },
   {
    "duration": 51,
    "start_time": "2022-08-09T17:34:50.514Z"
   },
   {
    "duration": 51,
    "start_time": "2022-08-09T17:35:52.174Z"
   },
   {
    "duration": 80,
    "start_time": "2022-08-09T17:41:42.283Z"
   },
   {
    "duration": 68,
    "start_time": "2022-08-09T17:54:04.206Z"
   },
   {
    "duration": 52,
    "start_time": "2022-08-09T17:54:34.094Z"
   },
   {
    "duration": 17,
    "start_time": "2022-08-09T17:54:42.313Z"
   },
   {
    "duration": 7,
    "start_time": "2022-08-09T17:58:29.601Z"
   },
   {
    "duration": 6,
    "start_time": "2022-08-09T17:59:06.825Z"
   },
   {
    "duration": 8,
    "start_time": "2022-08-09T17:59:42.796Z"
   },
   {
    "duration": 9,
    "start_time": "2022-08-09T18:03:05.025Z"
   },
   {
    "duration": 9,
    "start_time": "2022-08-09T18:03:08.210Z"
   },
   {
    "duration": 17,
    "start_time": "2022-08-09T18:03:15.407Z"
   },
   {
    "duration": 5,
    "start_time": "2022-08-09T18:05:51.895Z"
   },
   {
    "duration": 5,
    "start_time": "2022-08-09T18:06:40.365Z"
   },
   {
    "duration": 17,
    "start_time": "2022-08-09T18:12:11.319Z"
   },
   {
    "duration": 44,
    "start_time": "2022-08-09T18:14:56.526Z"
   },
   {
    "duration": 10,
    "start_time": "2022-08-09T18:15:34.503Z"
   },
   {
    "duration": 9,
    "start_time": "2022-08-09T18:16:15.659Z"
   },
   {
    "duration": 10,
    "start_time": "2022-08-09T18:16:57.637Z"
   },
   {
    "duration": 10,
    "start_time": "2022-08-09T18:17:03.097Z"
   },
   {
    "duration": 10,
    "start_time": "2022-08-09T18:17:18.250Z"
   },
   {
    "duration": 16,
    "start_time": "2022-08-09T18:17:43.226Z"
   },
   {
    "duration": 59,
    "start_time": "2022-08-09T18:18:53.943Z"
   },
   {
    "duration": 7,
    "start_time": "2022-08-09T18:18:59.094Z"
   },
   {
    "duration": 12,
    "start_time": "2022-08-09T18:20:42.480Z"
   },
   {
    "duration": 7,
    "start_time": "2022-08-09T18:43:53.479Z"
   },
   {
    "duration": 4,
    "start_time": "2022-08-09T18:44:39.362Z"
   },
   {
    "duration": 1028,
    "start_time": "2022-08-09T19:17:06.021Z"
   },
   {
    "duration": 8,
    "start_time": "2022-08-09T19:17:21.354Z"
   },
   {
    "duration": 52,
    "start_time": "2022-08-09T19:17:22.981Z"
   },
   {
    "duration": 9,
    "start_time": "2022-08-09T19:22:10.982Z"
   },
   {
    "duration": 12,
    "start_time": "2022-08-09T19:22:21.913Z"
   },
   {
    "duration": 5,
    "start_time": "2022-08-09T19:22:31.790Z"
   },
   {
    "duration": 54,
    "start_time": "2022-08-09T19:29:49.427Z"
   },
   {
    "duration": 4,
    "start_time": "2022-08-09T19:30:03.829Z"
   },
   {
    "duration": 5,
    "start_time": "2022-08-09T19:30:06.451Z"
   },
   {
    "duration": 1678,
    "start_time": "2022-08-09T19:31:43.617Z"
   },
   {
    "duration": 48,
    "start_time": "2022-08-09T19:32:13.268Z"
   },
   {
    "duration": 3,
    "start_time": "2022-08-09T19:32:33.087Z"
   },
   {
    "duration": 5,
    "start_time": "2022-08-09T19:32:35.092Z"
   },
   {
    "duration": 9,
    "start_time": "2022-08-09T19:32:38.321Z"
   },
   {
    "duration": 1694,
    "start_time": "2022-08-09T19:32:45.457Z"
   },
   {
    "duration": 8,
    "start_time": "2022-08-09T19:33:39.449Z"
   },
   {
    "duration": 6,
    "start_time": "2022-08-09T19:44:36.077Z"
   },
   {
    "duration": 3,
    "start_time": "2022-08-09T19:49:09.671Z"
   },
   {
    "duration": 13,
    "start_time": "2022-08-09T19:49:24.638Z"
   },
   {
    "duration": 113,
    "start_time": "2022-08-09T19:55:22.270Z"
   },
   {
    "duration": 7,
    "start_time": "2022-08-09T20:01:59.472Z"
   },
   {
    "duration": 36,
    "start_time": "2022-08-09T20:02:18.203Z"
   },
   {
    "duration": 13,
    "start_time": "2022-08-09T20:10:54.345Z"
   },
   {
    "duration": 60,
    "start_time": "2022-08-09T20:18:03.601Z"
   },
   {
    "duration": 4,
    "start_time": "2022-08-09T20:18:19.921Z"
   },
   {
    "duration": 14,
    "start_time": "2022-08-09T20:21:40.883Z"
   },
   {
    "duration": 16,
    "start_time": "2022-08-09T20:23:50.479Z"
   },
   {
    "duration": 18,
    "start_time": "2022-08-09T20:23:55.238Z"
   },
   {
    "duration": 13,
    "start_time": "2022-08-09T20:24:03.471Z"
   },
   {
    "duration": 24,
    "start_time": "2022-08-09T20:27:18.862Z"
   },
   {
    "duration": 16,
    "start_time": "2022-08-09T20:27:40.315Z"
   },
   {
    "duration": 829,
    "start_time": "2022-08-09T20:27:56.693Z"
   },
   {
    "duration": 27,
    "start_time": "2022-08-09T20:28:28.180Z"
   },
   {
    "duration": 23,
    "start_time": "2022-08-09T20:28:50.338Z"
   },
   {
    "duration": 15,
    "start_time": "2022-08-09T20:28:59.816Z"
   },
   {
    "duration": 10,
    "start_time": "2022-08-09T20:30:36.299Z"
   },
   {
    "duration": 13,
    "start_time": "2022-08-09T20:30:51.680Z"
   },
   {
    "duration": 5,
    "start_time": "2022-08-09T20:31:09.504Z"
   },
   {
    "duration": 13,
    "start_time": "2022-08-09T20:34:32.687Z"
   },
   {
    "duration": 5,
    "start_time": "2022-08-09T20:34:34.959Z"
   },
   {
    "duration": 7,
    "start_time": "2022-08-09T20:36:38.986Z"
   },
   {
    "duration": 62,
    "start_time": "2022-08-09T20:42:38.029Z"
   },
   {
    "duration": 4,
    "start_time": "2022-08-09T20:42:53.378Z"
   },
   {
    "duration": 212,
    "start_time": "2022-08-09T20:43:00.431Z"
   },
   {
    "duration": 246,
    "start_time": "2022-08-09T20:48:23.732Z"
   },
   {
    "duration": 236,
    "start_time": "2022-08-09T20:49:00.525Z"
   },
   {
    "duration": 281,
    "start_time": "2022-08-09T20:49:25.601Z"
   },
   {
    "duration": 4,
    "start_time": "2022-08-09T20:49:54.959Z"
   },
   {
    "duration": 161,
    "start_time": "2022-08-09T20:49:58.574Z"
   },
   {
    "duration": 6,
    "start_time": "2022-08-09T20:50:02.436Z"
   },
   {
    "duration": 4,
    "start_time": "2022-08-09T20:50:25.983Z"
   },
   {
    "duration": 147,
    "start_time": "2022-08-09T20:50:35.250Z"
   },
   {
    "duration": 7,
    "start_time": "2022-08-09T20:50:47.050Z"
   },
   {
    "duration": 3,
    "start_time": "2022-08-09T20:51:37.229Z"
   },
   {
    "duration": 168,
    "start_time": "2022-08-09T20:51:38.297Z"
   },
   {
    "duration": 6,
    "start_time": "2022-08-09T20:51:39.382Z"
   },
   {
    "duration": 4,
    "start_time": "2022-08-09T20:55:06.131Z"
   },
   {
    "duration": 184,
    "start_time": "2022-08-09T20:55:06.634Z"
   },
   {
    "duration": 5,
    "start_time": "2022-08-09T20:55:08.826Z"
   },
   {
    "duration": 3,
    "start_time": "2022-08-09T20:56:59.406Z"
   },
   {
    "duration": 129,
    "start_time": "2022-08-09T20:57:00.120Z"
   },
   {
    "duration": 6,
    "start_time": "2022-08-09T20:57:03.634Z"
   },
   {
    "duration": 535,
    "start_time": "2022-08-10T08:36:15.900Z"
   },
   {
    "duration": 4,
    "start_time": "2022-08-10T08:36:16.437Z"
   },
   {
    "duration": 27,
    "start_time": "2022-08-10T08:36:16.442Z"
   },
   {
    "duration": 16,
    "start_time": "2022-08-10T08:36:16.472Z"
   },
   {
    "duration": 10,
    "start_time": "2022-08-10T08:36:16.490Z"
   },
   {
    "duration": 14,
    "start_time": "2022-08-10T08:36:16.502Z"
   },
   {
    "duration": 40,
    "start_time": "2022-08-10T08:36:16.518Z"
   },
   {
    "duration": 14,
    "start_time": "2022-08-10T08:36:16.559Z"
   },
   {
    "duration": 12,
    "start_time": "2022-08-10T08:36:16.575Z"
   },
   {
    "duration": 10,
    "start_time": "2022-08-10T08:36:16.589Z"
   },
   {
    "duration": 24,
    "start_time": "2022-08-10T08:36:16.601Z"
   },
   {
    "duration": 43,
    "start_time": "2022-08-10T08:36:16.627Z"
   },
   {
    "duration": 7,
    "start_time": "2022-08-10T08:36:16.672Z"
   },
   {
    "duration": 17,
    "start_time": "2022-08-10T08:36:16.680Z"
   },
   {
    "duration": 33,
    "start_time": "2022-08-10T08:36:16.698Z"
   },
   {
    "duration": 51,
    "start_time": "2022-08-10T08:36:16.732Z"
   },
   {
    "duration": 22,
    "start_time": "2022-08-10T08:36:16.785Z"
   },
   {
    "duration": 8,
    "start_time": "2022-08-10T08:36:16.808Z"
   },
   {
    "duration": 51,
    "start_time": "2022-08-10T08:36:16.817Z"
   },
   {
    "duration": 10,
    "start_time": "2022-08-10T08:36:16.869Z"
   },
   {
    "duration": 13,
    "start_time": "2022-08-10T08:36:16.880Z"
   },
   {
    "duration": 14,
    "start_time": "2022-08-10T08:36:16.894Z"
   },
   {
    "duration": 38,
    "start_time": "2022-08-10T08:36:16.909Z"
   },
   {
    "duration": 11,
    "start_time": "2022-08-10T08:36:16.949Z"
   },
   {
    "duration": 12,
    "start_time": "2022-08-10T08:36:16.962Z"
   },
   {
    "duration": 8,
    "start_time": "2022-08-10T08:36:16.976Z"
   },
   {
    "duration": 25,
    "start_time": "2022-08-10T08:36:16.985Z"
   },
   {
    "duration": 14,
    "start_time": "2022-08-10T08:36:17.014Z"
   },
   {
    "duration": 33,
    "start_time": "2022-08-10T08:36:17.029Z"
   },
   {
    "duration": 71,
    "start_time": "2022-08-10T08:36:17.064Z"
   },
   {
    "duration": 4,
    "start_time": "2022-08-10T08:36:17.137Z"
   },
   {
    "duration": 41,
    "start_time": "2022-08-10T08:36:17.142Z"
   },
   {
    "duration": 25,
    "start_time": "2022-08-10T08:36:17.185Z"
   },
   {
    "duration": 16,
    "start_time": "2022-08-10T08:36:17.212Z"
   },
   {
    "duration": 12,
    "start_time": "2022-08-10T08:36:17.230Z"
   },
   {
    "duration": 23,
    "start_time": "2022-08-10T08:36:17.243Z"
   },
   {
    "duration": 19,
    "start_time": "2022-08-10T08:36:17.268Z"
   },
   {
    "duration": 22,
    "start_time": "2022-08-10T08:36:17.288Z"
   },
   {
    "duration": 14,
    "start_time": "2022-08-10T08:36:17.312Z"
   },
   {
    "duration": 17,
    "start_time": "2022-08-10T08:36:17.328Z"
   },
   {
    "duration": 28,
    "start_time": "2022-08-10T08:36:17.346Z"
   },
   {
    "duration": 18,
    "start_time": "2022-08-10T08:36:17.376Z"
   },
   {
    "duration": 2130,
    "start_time": "2022-08-10T08:36:17.396Z"
   },
   {
    "duration": 44,
    "start_time": "2022-08-10T08:36:19.527Z"
   },
   {
    "duration": 4,
    "start_time": "2022-08-10T08:36:19.573Z"
   },
   {
    "duration": 41,
    "start_time": "2022-08-10T08:36:19.579Z"
   },
   {
    "duration": 6,
    "start_time": "2022-08-10T08:36:19.621Z"
   },
   {
    "duration": 9,
    "start_time": "2022-08-10T08:36:19.629Z"
   },
   {
    "duration": 19,
    "start_time": "2022-08-10T08:36:19.640Z"
   },
   {
    "duration": 11,
    "start_time": "2022-08-10T08:36:19.661Z"
   },
   {
    "duration": 8,
    "start_time": "2022-08-10T08:36:19.673Z"
   },
   {
    "duration": 14,
    "start_time": "2022-08-10T08:36:19.683Z"
   },
   {
    "duration": 6,
    "start_time": "2022-08-10T08:36:19.699Z"
   },
   {
    "duration": 38,
    "start_time": "2022-08-10T08:36:19.707Z"
   },
   {
    "duration": 19,
    "start_time": "2022-08-10T08:36:19.757Z"
   },
   {
    "duration": 20,
    "start_time": "2022-08-10T08:36:19.778Z"
   },
   {
    "duration": 14,
    "start_time": "2022-08-10T08:36:19.800Z"
   },
   {
    "duration": 61,
    "start_time": "2022-08-10T08:36:19.815Z"
   },
   {
    "duration": 15,
    "start_time": "2022-08-10T08:36:19.878Z"
   },
   {
    "duration": 11,
    "start_time": "2022-08-10T08:36:19.895Z"
   },
   {
    "duration": 20,
    "start_time": "2022-08-10T08:36:19.907Z"
   },
   {
    "duration": 4,
    "start_time": "2022-08-10T08:36:19.928Z"
   },
   {
    "duration": 40,
    "start_time": "2022-08-10T08:36:19.933Z"
   },
   {
    "duration": 21,
    "start_time": "2022-08-10T08:36:19.975Z"
   },
   {
    "duration": 14,
    "start_time": "2022-08-10T08:36:19.998Z"
   },
   {
    "duration": 110,
    "start_time": "2022-08-10T08:36:20.014Z"
   },
   {
    "duration": 0,
    "start_time": "2022-08-10T08:36:20.127Z"
   },
   {
    "duration": 0,
    "start_time": "2022-08-10T08:36:20.129Z"
   },
   {
    "duration": 0,
    "start_time": "2022-08-10T08:36:20.130Z"
   },
   {
    "duration": 0,
    "start_time": "2022-08-10T08:36:20.131Z"
   },
   {
    "duration": 0,
    "start_time": "2022-08-10T08:36:20.132Z"
   },
   {
    "duration": 0,
    "start_time": "2022-08-10T08:36:20.133Z"
   },
   {
    "duration": 0,
    "start_time": "2022-08-10T08:36:20.134Z"
   },
   {
    "duration": 0,
    "start_time": "2022-08-10T08:36:20.136Z"
   },
   {
    "duration": 0,
    "start_time": "2022-08-10T08:36:20.137Z"
   },
   {
    "duration": 0,
    "start_time": "2022-08-10T08:36:20.138Z"
   },
   {
    "duration": 0,
    "start_time": "2022-08-10T08:36:20.139Z"
   },
   {
    "duration": 0,
    "start_time": "2022-08-10T08:36:20.140Z"
   },
   {
    "duration": 0,
    "start_time": "2022-08-10T08:36:20.141Z"
   },
   {
    "duration": 0,
    "start_time": "2022-08-10T08:36:20.142Z"
   },
   {
    "duration": 0,
    "start_time": "2022-08-10T08:36:20.144Z"
   },
   {
    "duration": 0,
    "start_time": "2022-08-10T08:36:20.145Z"
   },
   {
    "duration": 0,
    "start_time": "2022-08-10T08:36:20.146Z"
   },
   {
    "duration": 0,
    "start_time": "2022-08-10T08:36:20.147Z"
   },
   {
    "duration": 0,
    "start_time": "2022-08-10T08:36:20.148Z"
   },
   {
    "duration": 0,
    "start_time": "2022-08-10T08:36:20.149Z"
   },
   {
    "duration": 0,
    "start_time": "2022-08-10T08:36:20.150Z"
   },
   {
    "duration": 0,
    "start_time": "2022-08-10T08:36:20.151Z"
   },
   {
    "duration": 0,
    "start_time": "2022-08-10T08:36:20.152Z"
   },
   {
    "duration": 0,
    "start_time": "2022-08-10T08:36:20.153Z"
   },
   {
    "duration": 0,
    "start_time": "2022-08-10T08:36:20.154Z"
   },
   {
    "duration": 0,
    "start_time": "2022-08-10T08:36:20.155Z"
   },
   {
    "duration": 0,
    "start_time": "2022-08-10T08:36:20.156Z"
   },
   {
    "duration": 0,
    "start_time": "2022-08-10T08:36:20.157Z"
   },
   {
    "duration": 0,
    "start_time": "2022-08-10T08:36:20.158Z"
   },
   {
    "duration": 0,
    "start_time": "2022-08-10T08:36:20.159Z"
   },
   {
    "duration": 0,
    "start_time": "2022-08-10T08:36:20.161Z"
   },
   {
    "duration": 0,
    "start_time": "2022-08-10T08:36:20.162Z"
   },
   {
    "duration": 0,
    "start_time": "2022-08-10T08:36:20.163Z"
   },
   {
    "duration": 0,
    "start_time": "2022-08-10T08:36:20.164Z"
   },
   {
    "duration": 0,
    "start_time": "2022-08-10T08:36:20.165Z"
   },
   {
    "duration": 0,
    "start_time": "2022-08-10T08:36:20.167Z"
   },
   {
    "duration": 0,
    "start_time": "2022-08-10T08:36:20.168Z"
   },
   {
    "duration": 0,
    "start_time": "2022-08-10T08:36:20.169Z"
   },
   {
    "duration": 0,
    "start_time": "2022-08-10T08:36:20.171Z"
   },
   {
    "duration": 0,
    "start_time": "2022-08-10T08:36:20.172Z"
   },
   {
    "duration": 0,
    "start_time": "2022-08-10T08:36:20.174Z"
   },
   {
    "duration": 0,
    "start_time": "2022-08-10T08:36:20.176Z"
   },
   {
    "duration": 0,
    "start_time": "2022-08-10T08:36:20.177Z"
   },
   {
    "duration": 0,
    "start_time": "2022-08-10T08:36:20.178Z"
   },
   {
    "duration": 0,
    "start_time": "2022-08-10T08:36:20.179Z"
   },
   {
    "duration": 0,
    "start_time": "2022-08-10T08:36:20.181Z"
   },
   {
    "duration": 0,
    "start_time": "2022-08-10T08:36:20.182Z"
   },
   {
    "duration": 0,
    "start_time": "2022-08-10T08:36:20.184Z"
   },
   {
    "duration": 0,
    "start_time": "2022-08-10T08:36:20.185Z"
   },
   {
    "duration": 0,
    "start_time": "2022-08-10T08:36:20.187Z"
   },
   {
    "duration": 0,
    "start_time": "2022-08-10T08:36:20.188Z"
   },
   {
    "duration": 0,
    "start_time": "2022-08-10T08:36:20.190Z"
   },
   {
    "duration": 1,
    "start_time": "2022-08-10T08:36:20.191Z"
   },
   {
    "duration": 0,
    "start_time": "2022-08-10T08:36:20.193Z"
   },
   {
    "duration": 0,
    "start_time": "2022-08-10T08:36:20.194Z"
   },
   {
    "duration": 0,
    "start_time": "2022-08-10T08:36:20.196Z"
   },
   {
    "duration": 0,
    "start_time": "2022-08-10T08:36:20.258Z"
   },
   {
    "duration": 10,
    "start_time": "2022-08-10T08:40:18.659Z"
   },
   {
    "duration": 7,
    "start_time": "2022-08-10T08:40:21.384Z"
   },
   {
    "duration": 11,
    "start_time": "2022-08-10T08:40:44.897Z"
   },
   {
    "duration": 7,
    "start_time": "2022-08-10T08:40:46.191Z"
   },
   {
    "duration": 20,
    "start_time": "2022-08-10T08:41:07.464Z"
   },
   {
    "duration": 5,
    "start_time": "2022-08-10T08:41:08.732Z"
   },
   {
    "duration": 6,
    "start_time": "2022-08-10T08:41:14.023Z"
   },
   {
    "duration": 6,
    "start_time": "2022-08-10T08:41:20.041Z"
   },
   {
    "duration": 5,
    "start_time": "2022-08-10T08:41:29.601Z"
   },
   {
    "duration": 6,
    "start_time": "2022-08-10T08:41:36.209Z"
   },
   {
    "duration": 64,
    "start_time": "2022-08-10T08:44:51.915Z"
   },
   {
    "duration": 19,
    "start_time": "2022-08-10T08:44:59.946Z"
   },
   {
    "duration": 13,
    "start_time": "2022-08-10T08:46:08.402Z"
   },
   {
    "duration": 5,
    "start_time": "2022-08-10T08:47:48.909Z"
   },
   {
    "duration": 7,
    "start_time": "2022-08-10T08:48:58.079Z"
   },
   {
    "duration": 6,
    "start_time": "2022-08-10T08:55:38.076Z"
   },
   {
    "duration": 8,
    "start_time": "2022-08-10T08:55:49.254Z"
   },
   {
    "duration": 5,
    "start_time": "2022-08-10T08:56:54.197Z"
   },
   {
    "duration": 6,
    "start_time": "2022-08-10T08:57:05.981Z"
   },
   {
    "duration": 5,
    "start_time": "2022-08-10T08:57:19.173Z"
   },
   {
    "duration": 6,
    "start_time": "2022-08-10T08:57:29.803Z"
   },
   {
    "duration": 8,
    "start_time": "2022-08-10T08:57:46.570Z"
   },
   {
    "duration": 10,
    "start_time": "2022-08-10T08:57:54.970Z"
   },
   {
    "duration": 13,
    "start_time": "2022-08-10T08:58:00.216Z"
   },
   {
    "duration": 12,
    "start_time": "2022-08-10T08:58:06.769Z"
   },
   {
    "duration": 5,
    "start_time": "2022-08-10T08:58:12.222Z"
   },
   {
    "duration": 9,
    "start_time": "2022-08-10T08:59:10.896Z"
   },
   {
    "duration": 4,
    "start_time": "2022-08-10T08:59:22.033Z"
   },
   {
    "duration": 669,
    "start_time": "2022-08-10T08:59:34.376Z"
   },
   {
    "duration": 13,
    "start_time": "2022-08-10T09:00:04.374Z"
   },
   {
    "duration": 17,
    "start_time": "2022-08-10T09:00:20.840Z"
   },
   {
    "duration": 19,
    "start_time": "2022-08-10T09:00:32.447Z"
   },
   {
    "duration": 18,
    "start_time": "2022-08-10T09:00:37.047Z"
   },
   {
    "duration": 4,
    "start_time": "2022-08-10T09:00:44.871Z"
   },
   {
    "duration": 17,
    "start_time": "2022-08-10T09:00:46.840Z"
   },
   {
    "duration": 30,
    "start_time": "2022-08-10T09:02:05.193Z"
   },
   {
    "duration": 7,
    "start_time": "2022-08-10T09:02:07.265Z"
   },
   {
    "duration": 10,
    "start_time": "2022-08-10T09:02:13.936Z"
   },
   {
    "duration": 23,
    "start_time": "2022-08-10T09:02:20.976Z"
   },
   {
    "duration": 9,
    "start_time": "2022-08-10T09:03:07.586Z"
   },
   {
    "duration": 23,
    "start_time": "2022-08-10T09:04:32.197Z"
   },
   {
    "duration": 9,
    "start_time": "2022-08-10T09:05:10.915Z"
   },
   {
    "duration": 9,
    "start_time": "2022-08-10T09:05:15.459Z"
   },
   {
    "duration": 9,
    "start_time": "2022-08-10T09:05:40.588Z"
   },
   {
    "duration": 8,
    "start_time": "2022-08-10T09:05:43.747Z"
   },
   {
    "duration": 17,
    "start_time": "2022-08-10T09:07:32.139Z"
   },
   {
    "duration": 6,
    "start_time": "2022-08-10T09:07:37.923Z"
   },
   {
    "duration": 15,
    "start_time": "2022-08-10T09:12:38.685Z"
   },
   {
    "duration": 4,
    "start_time": "2022-08-10T09:13:08.682Z"
   },
   {
    "duration": 5,
    "start_time": "2022-08-10T09:13:12.418Z"
   },
   {
    "duration": 1072,
    "start_time": "2022-08-10T09:13:13.249Z"
   },
   {
    "duration": 3,
    "start_time": "2022-08-10T09:13:14.324Z"
   },
   {
    "duration": 5,
    "start_time": "2022-08-10T09:13:17.570Z"
   },
   {
    "duration": 3058,
    "start_time": "2022-08-10T09:13:19.022Z"
   },
   {
    "duration": 7,
    "start_time": "2022-08-10T09:13:22.082Z"
   },
   {
    "duration": 13,
    "start_time": "2022-08-10T09:13:22.091Z"
   },
   {
    "duration": 11,
    "start_time": "2022-08-10T09:13:29.297Z"
   },
   {
    "duration": 3,
    "start_time": "2022-08-10T09:14:35.037Z"
   },
   {
    "duration": 119,
    "start_time": "2022-08-10T09:14:36.754Z"
   },
   {
    "duration": 6,
    "start_time": "2022-08-10T09:14:39.172Z"
   },
   {
    "duration": 11,
    "start_time": "2022-08-10T09:40:40.787Z"
   },
   {
    "duration": 4,
    "start_time": "2022-08-10T09:40:44.393Z"
   },
   {
    "duration": 33,
    "start_time": "2022-08-10T09:40:45.114Z"
   },
   {
    "duration": 115,
    "start_time": "2022-08-10T10:03:21.893Z"
   },
   {
    "duration": 4,
    "start_time": "2022-08-10T10:03:49.272Z"
   },
   {
    "duration": 11,
    "start_time": "2022-08-10T10:03:51.095Z"
   },
   {
    "duration": 9,
    "start_time": "2022-08-10T10:03:56.160Z"
   },
   {
    "duration": 3,
    "start_time": "2022-08-10T10:07:36.869Z"
   },
   {
    "duration": 3,
    "start_time": "2022-08-10T10:08:22.674Z"
   },
   {
    "duration": 4,
    "start_time": "2022-08-10T10:08:47.491Z"
   },
   {
    "duration": 3,
    "start_time": "2022-08-10T10:09:59.108Z"
   },
   {
    "duration": 4,
    "start_time": "2022-08-10T10:10:01.123Z"
   },
   {
    "duration": 11,
    "start_time": "2022-08-10T10:10:04.076Z"
   },
   {
    "duration": 6,
    "start_time": "2022-08-10T10:10:07.218Z"
   },
   {
    "duration": 3,
    "start_time": "2022-08-10T10:10:18.149Z"
   },
   {
    "duration": 4,
    "start_time": "2022-08-10T10:10:21.252Z"
   },
   {
    "duration": 10,
    "start_time": "2022-08-10T10:10:28.476Z"
   },
   {
    "duration": 4,
    "start_time": "2022-08-10T10:11:05.028Z"
   },
   {
    "duration": 4,
    "start_time": "2022-08-10T10:11:06.461Z"
   },
   {
    "duration": 10,
    "start_time": "2022-08-10T10:11:07.539Z"
   },
   {
    "duration": 6,
    "start_time": "2022-08-10T10:11:08.691Z"
   },
   {
    "duration": 61,
    "start_time": "2022-08-10T10:19:23.354Z"
   },
   {
    "duration": 8,
    "start_time": "2022-08-10T10:19:35.202Z"
   },
   {
    "duration": 2,
    "start_time": "2022-08-10T10:19:36.715Z"
   },
   {
    "duration": 2,
    "start_time": "2022-08-10T10:19:37.172Z"
   },
   {
    "duration": 10,
    "start_time": "2022-08-10T10:19:37.926Z"
   },
   {
    "duration": 9,
    "start_time": "2022-08-10T10:21:07.964Z"
   },
   {
    "duration": 10,
    "start_time": "2022-08-10T10:21:27.678Z"
   },
   {
    "duration": 5,
    "start_time": "2022-08-10T10:21:36.358Z"
   },
   {
    "duration": 5,
    "start_time": "2022-08-10T10:21:44.158Z"
   },
   {
    "duration": 29,
    "start_time": "2022-08-10T10:22:07.216Z"
   },
   {
    "duration": 19,
    "start_time": "2022-08-10T10:24:07.168Z"
   },
   {
    "duration": 18,
    "start_time": "2022-08-10T10:24:26.048Z"
   },
   {
    "duration": 502,
    "start_time": "2022-08-10T11:40:51.027Z"
   },
   {
    "duration": 3,
    "start_time": "2022-08-10T11:40:51.531Z"
   },
   {
    "duration": 26,
    "start_time": "2022-08-10T11:40:51.535Z"
   },
   {
    "duration": 14,
    "start_time": "2022-08-10T11:40:51.563Z"
   },
   {
    "duration": 8,
    "start_time": "2022-08-10T11:40:51.578Z"
   },
   {
    "duration": 23,
    "start_time": "2022-08-10T11:40:51.588Z"
   },
   {
    "duration": 11,
    "start_time": "2022-08-10T11:40:51.613Z"
   },
   {
    "duration": 39,
    "start_time": "2022-08-10T11:40:51.626Z"
   },
   {
    "duration": 14,
    "start_time": "2022-08-10T11:40:51.667Z"
   },
   {
    "duration": 10,
    "start_time": "2022-08-10T11:40:51.684Z"
   },
   {
    "duration": 12,
    "start_time": "2022-08-10T11:40:51.696Z"
   },
   {
    "duration": 57,
    "start_time": "2022-08-10T11:40:51.710Z"
   },
   {
    "duration": 8,
    "start_time": "2022-08-10T11:40:51.769Z"
   },
   {
    "duration": 18,
    "start_time": "2022-08-10T11:40:51.780Z"
   },
   {
    "duration": 29,
    "start_time": "2022-08-10T11:40:51.800Z"
   },
   {
    "duration": 31,
    "start_time": "2022-08-10T11:40:51.856Z"
   },
   {
    "duration": 24,
    "start_time": "2022-08-10T11:40:51.888Z"
   },
   {
    "duration": 46,
    "start_time": "2022-08-10T11:40:51.914Z"
   },
   {
    "duration": 12,
    "start_time": "2022-08-10T11:40:51.962Z"
   },
   {
    "duration": 11,
    "start_time": "2022-08-10T11:40:51.976Z"
   },
   {
    "duration": 4,
    "start_time": "2022-08-10T11:40:51.989Z"
   },
   {
    "duration": 10,
    "start_time": "2022-08-10T11:40:51.995Z"
   },
   {
    "duration": 76,
    "start_time": "2022-08-10T11:40:52.006Z"
   },
   {
    "duration": 6,
    "start_time": "2022-08-10T11:40:52.084Z"
   },
   {
    "duration": 9,
    "start_time": "2022-08-10T11:40:52.092Z"
   },
   {
    "duration": 4,
    "start_time": "2022-08-10T11:40:52.102Z"
   },
   {
    "duration": 49,
    "start_time": "2022-08-10T11:40:52.108Z"
   },
   {
    "duration": 11,
    "start_time": "2022-08-10T11:40:52.162Z"
   },
   {
    "duration": 12,
    "start_time": "2022-08-10T11:40:52.174Z"
   },
   {
    "duration": 54,
    "start_time": "2022-08-10T11:40:52.187Z"
   },
   {
    "duration": 14,
    "start_time": "2022-08-10T11:40:52.243Z"
   },
   {
    "duration": 12,
    "start_time": "2022-08-10T11:40:52.259Z"
   },
   {
    "duration": 15,
    "start_time": "2022-08-10T11:40:52.273Z"
   },
   {
    "duration": 11,
    "start_time": "2022-08-10T11:40:52.290Z"
   },
   {
    "duration": 5,
    "start_time": "2022-08-10T11:40:52.303Z"
   },
   {
    "duration": 8,
    "start_time": "2022-08-10T11:40:52.310Z"
   },
   {
    "duration": 39,
    "start_time": "2022-08-10T11:40:52.320Z"
   },
   {
    "duration": 9,
    "start_time": "2022-08-10T11:40:52.361Z"
   },
   {
    "duration": 3,
    "start_time": "2022-08-10T11:40:52.372Z"
   },
   {
    "duration": 9,
    "start_time": "2022-08-10T11:40:52.377Z"
   },
   {
    "duration": 7,
    "start_time": "2022-08-10T11:40:52.388Z"
   },
   {
    "duration": 11,
    "start_time": "2022-08-10T11:40:52.397Z"
   },
   {
    "duration": 2275,
    "start_time": "2022-08-10T11:40:52.410Z"
   },
   {
    "duration": 38,
    "start_time": "2022-08-10T11:40:54.687Z"
   },
   {
    "duration": 29,
    "start_time": "2022-08-10T11:40:54.728Z"
   },
   {
    "duration": 37,
    "start_time": "2022-08-10T11:40:54.759Z"
   },
   {
    "duration": 6,
    "start_time": "2022-08-10T11:40:54.798Z"
   },
   {
    "duration": 24,
    "start_time": "2022-08-10T11:40:54.806Z"
   },
   {
    "duration": 11,
    "start_time": "2022-08-10T11:40:54.832Z"
   },
   {
    "duration": 6,
    "start_time": "2022-08-10T11:40:54.856Z"
   },
   {
    "duration": 8,
    "start_time": "2022-08-10T11:40:54.865Z"
   },
   {
    "duration": 9,
    "start_time": "2022-08-10T11:40:54.876Z"
   },
   {
    "duration": 9,
    "start_time": "2022-08-10T11:40:54.887Z"
   },
   {
    "duration": 60,
    "start_time": "2022-08-10T11:40:54.898Z"
   },
   {
    "duration": 25,
    "start_time": "2022-08-10T11:40:54.960Z"
   },
   {
    "duration": 24,
    "start_time": "2022-08-10T11:40:54.986Z"
   },
   {
    "duration": 45,
    "start_time": "2022-08-10T11:40:55.012Z"
   },
   {
    "duration": 44,
    "start_time": "2022-08-10T11:40:55.060Z"
   },
   {
    "duration": 17,
    "start_time": "2022-08-10T11:40:55.105Z"
   },
   {
    "duration": 37,
    "start_time": "2022-08-10T11:40:55.124Z"
   },
   {
    "duration": 40,
    "start_time": "2022-08-10T11:40:55.163Z"
   },
   {
    "duration": 5,
    "start_time": "2022-08-10T11:40:55.205Z"
   },
   {
    "duration": 19,
    "start_time": "2022-08-10T11:40:55.212Z"
   },
   {
    "duration": 40,
    "start_time": "2022-08-10T11:40:55.234Z"
   },
   {
    "duration": 14,
    "start_time": "2022-08-10T11:40:55.277Z"
   },
   {
    "duration": 33,
    "start_time": "2022-08-10T11:40:55.293Z"
   },
   {
    "duration": 13,
    "start_time": "2022-08-10T11:40:55.328Z"
   },
   {
    "duration": 64,
    "start_time": "2022-08-10T11:40:55.343Z"
   },
   {
    "duration": 12,
    "start_time": "2022-08-10T11:40:55.409Z"
   },
   {
    "duration": 17,
    "start_time": "2022-08-10T11:40:55.424Z"
   },
   {
    "duration": 7,
    "start_time": "2022-08-10T11:40:55.443Z"
   },
   {
    "duration": 12,
    "start_time": "2022-08-10T11:40:55.452Z"
   },
   {
    "duration": 11,
    "start_time": "2022-08-10T11:40:55.467Z"
   },
   {
    "duration": 11,
    "start_time": "2022-08-10T11:40:55.480Z"
   },
   {
    "duration": 21,
    "start_time": "2022-08-10T11:40:55.494Z"
   },
   {
    "duration": 20,
    "start_time": "2022-08-10T11:40:55.517Z"
   },
   {
    "duration": 19,
    "start_time": "2022-08-10T11:40:55.539Z"
   },
   {
    "duration": 13,
    "start_time": "2022-08-10T11:40:55.561Z"
   },
   {
    "duration": 25,
    "start_time": "2022-08-10T11:40:55.576Z"
   },
   {
    "duration": 15,
    "start_time": "2022-08-10T11:40:55.602Z"
   },
   {
    "duration": 5,
    "start_time": "2022-08-10T11:40:55.619Z"
   },
   {
    "duration": 16,
    "start_time": "2022-08-10T11:40:55.662Z"
   },
   {
    "duration": 24,
    "start_time": "2022-08-10T11:40:55.680Z"
   },
   {
    "duration": 25,
    "start_time": "2022-08-10T11:40:55.707Z"
   },
   {
    "duration": 26,
    "start_time": "2022-08-10T11:40:55.735Z"
   },
   {
    "duration": 26,
    "start_time": "2022-08-10T11:40:55.763Z"
   },
   {
    "duration": 20,
    "start_time": "2022-08-10T11:40:55.790Z"
   },
   {
    "duration": 12,
    "start_time": "2022-08-10T11:40:55.811Z"
   },
   {
    "duration": 7,
    "start_time": "2022-08-10T11:40:55.857Z"
   },
   {
    "duration": 14,
    "start_time": "2022-08-10T11:40:55.866Z"
   },
   {
    "duration": 32,
    "start_time": "2022-08-10T11:40:55.882Z"
   },
   {
    "duration": 3,
    "start_time": "2022-08-10T11:40:55.916Z"
   },
   {
    "duration": 39,
    "start_time": "2022-08-10T11:40:55.921Z"
   },
   {
    "duration": 8,
    "start_time": "2022-08-10T11:40:55.962Z"
   },
   {
    "duration": 6,
    "start_time": "2022-08-10T11:40:55.974Z"
   },
   {
    "duration": 8,
    "start_time": "2022-08-10T11:40:55.982Z"
   },
   {
    "duration": 13,
    "start_time": "2022-08-10T11:40:55.992Z"
   },
   {
    "duration": 9,
    "start_time": "2022-08-10T11:40:56.007Z"
   },
   {
    "duration": 56,
    "start_time": "2022-08-10T11:40:56.019Z"
   },
   {
    "duration": 10,
    "start_time": "2022-08-10T11:40:56.077Z"
   },
   {
    "duration": 6,
    "start_time": "2022-08-10T11:40:56.089Z"
   },
   {
    "duration": 11,
    "start_time": "2022-08-10T11:40:56.097Z"
   },
   {
    "duration": 9,
    "start_time": "2022-08-10T11:40:56.110Z"
   },
   {
    "duration": 11,
    "start_time": "2022-08-10T11:40:56.120Z"
   },
   {
    "duration": 34,
    "start_time": "2022-08-10T11:40:56.133Z"
   },
   {
    "duration": 5,
    "start_time": "2022-08-10T11:40:56.169Z"
   },
   {
    "duration": 18,
    "start_time": "2022-08-10T11:40:56.176Z"
   },
   {
    "duration": 939,
    "start_time": "2022-08-10T11:40:56.196Z"
   },
   {
    "duration": 3,
    "start_time": "2022-08-10T11:40:57.137Z"
   },
   {
    "duration": 17,
    "start_time": "2022-08-10T11:40:57.141Z"
   },
   {
    "duration": 2922,
    "start_time": "2022-08-10T11:40:57.159Z"
   },
   {
    "duration": 7,
    "start_time": "2022-08-10T11:41:00.083Z"
   },
   {
    "duration": 16,
    "start_time": "2022-08-10T11:41:00.092Z"
   },
   {
    "duration": 18,
    "start_time": "2022-08-10T11:41:00.110Z"
   },
   {
    "duration": 52,
    "start_time": "2022-08-10T11:41:00.129Z"
   },
   {
    "duration": 4,
    "start_time": "2022-08-10T11:41:00.183Z"
   },
   {
    "duration": 25,
    "start_time": "2022-08-10T11:41:00.189Z"
   },
   {
    "duration": 16,
    "start_time": "2022-08-10T11:41:00.215Z"
   },
   {
    "duration": 8,
    "start_time": "2022-08-10T11:41:00.233Z"
   },
   {
    "duration": 34,
    "start_time": "2022-08-10T11:41:00.243Z"
   },
   {
    "duration": 18,
    "start_time": "2022-08-10T11:41:00.279Z"
   },
   {
    "duration": 35,
    "start_time": "2022-08-10T11:41:00.299Z"
   },
   {
    "duration": 136,
    "start_time": "2022-08-10T11:41:00.336Z"
   },
   {
    "duration": 0,
    "start_time": "2022-08-10T11:41:00.474Z"
   },
   {
    "duration": 0,
    "start_time": "2022-08-10T11:41:00.476Z"
   },
   {
    "duration": 0,
    "start_time": "2022-08-10T11:41:00.477Z"
   },
   {
    "duration": 1007,
    "start_time": "2022-08-10T11:42:15.072Z"
   },
   {
    "duration": 884,
    "start_time": "2022-08-10T11:43:06.857Z"
   },
   {
    "duration": 157,
    "start_time": "2022-08-10T11:45:44.885Z"
   },
   {
    "duration": 17,
    "start_time": "2022-08-10T11:46:03.198Z"
   },
   {
    "duration": 14,
    "start_time": "2022-08-10T11:46:13.760Z"
   },
   {
    "duration": 7,
    "start_time": "2022-08-10T11:47:26.735Z"
   },
   {
    "duration": 91,
    "start_time": "2022-08-10T12:00:29.140Z"
   },
   {
    "duration": 66,
    "start_time": "2022-08-10T12:00:36.177Z"
   },
   {
    "duration": 77,
    "start_time": "2022-08-10T12:01:19.870Z"
   },
   {
    "duration": 8,
    "start_time": "2022-08-10T12:01:42.440Z"
   },
   {
    "duration": 3,
    "start_time": "2022-08-10T12:02:18.409Z"
   },
   {
    "duration": 3,
    "start_time": "2022-08-10T12:03:12.658Z"
   },
   {
    "duration": 4,
    "start_time": "2022-08-10T12:03:33.884Z"
   },
   {
    "duration": 10,
    "start_time": "2022-08-10T12:10:11.754Z"
   },
   {
    "duration": 8,
    "start_time": "2022-08-10T12:10:23.127Z"
   },
   {
    "duration": 8,
    "start_time": "2022-08-10T12:10:34.811Z"
   },
   {
    "duration": 4,
    "start_time": "2022-08-10T12:10:39.825Z"
   },
   {
    "duration": 7,
    "start_time": "2022-08-10T12:13:24.792Z"
   },
   {
    "duration": 3,
    "start_time": "2022-08-10T12:13:28.957Z"
   },
   {
    "duration": 4,
    "start_time": "2022-08-10T12:35:19.719Z"
   },
   {
    "duration": 9,
    "start_time": "2022-08-10T12:35:30.665Z"
   },
   {
    "duration": 4,
    "start_time": "2022-08-10T12:35:50.310Z"
   },
   {
    "duration": 6,
    "start_time": "2022-08-10T12:36:21.275Z"
   },
   {
    "duration": 9,
    "start_time": "2022-08-10T12:36:59.357Z"
   },
   {
    "duration": 30,
    "start_time": "2022-08-10T12:37:07.036Z"
   },
   {
    "duration": 21,
    "start_time": "2022-08-10T13:28:45.740Z"
   },
   {
    "duration": 18,
    "start_time": "2022-08-10T13:28:58.098Z"
   },
   {
    "duration": 11,
    "start_time": "2022-08-10T13:32:26.670Z"
   },
   {
    "duration": 14,
    "start_time": "2022-08-10T13:33:54.967Z"
   },
   {
    "duration": 11,
    "start_time": "2022-08-10T13:34:03.349Z"
   },
   {
    "duration": 14,
    "start_time": "2022-08-10T13:34:45.602Z"
   },
   {
    "duration": 12,
    "start_time": "2022-08-10T13:35:36.136Z"
   },
   {
    "duration": 18,
    "start_time": "2022-08-10T13:40:49.026Z"
   },
   {
    "duration": 15,
    "start_time": "2022-08-10T13:41:38.308Z"
   },
   {
    "duration": 61,
    "start_time": "2022-08-10T13:52:38.158Z"
   },
   {
    "duration": 41,
    "start_time": "2022-08-10T13:53:13.659Z"
   },
   {
    "duration": 38,
    "start_time": "2022-08-10T13:53:25.556Z"
   },
   {
    "duration": 38,
    "start_time": "2022-08-10T13:53:59.462Z"
   },
   {
    "duration": 476,
    "start_time": "2022-08-10T13:54:23.577Z"
   },
   {
    "duration": 4,
    "start_time": "2022-08-10T13:54:24.055Z"
   },
   {
    "duration": 26,
    "start_time": "2022-08-10T13:54:24.060Z"
   },
   {
    "duration": 15,
    "start_time": "2022-08-10T13:54:24.089Z"
   },
   {
    "duration": 9,
    "start_time": "2022-08-10T13:54:24.106Z"
   },
   {
    "duration": 9,
    "start_time": "2022-08-10T13:54:24.117Z"
   },
   {
    "duration": 37,
    "start_time": "2022-08-10T13:54:24.128Z"
   },
   {
    "duration": 12,
    "start_time": "2022-08-10T13:54:24.167Z"
   },
   {
    "duration": 11,
    "start_time": "2022-08-10T13:54:24.181Z"
   },
   {
    "duration": 8,
    "start_time": "2022-08-10T13:54:24.194Z"
   },
   {
    "duration": 12,
    "start_time": "2022-08-10T13:54:24.204Z"
   },
   {
    "duration": 41,
    "start_time": "2022-08-10T13:54:24.218Z"
   },
   {
    "duration": 7,
    "start_time": "2022-08-10T13:54:24.261Z"
   },
   {
    "duration": 7,
    "start_time": "2022-08-10T13:54:24.270Z"
   },
   {
    "duration": 29,
    "start_time": "2022-08-10T13:54:24.279Z"
   },
   {
    "duration": 52,
    "start_time": "2022-08-10T13:54:24.309Z"
   },
   {
    "duration": 21,
    "start_time": "2022-08-10T13:54:24.362Z"
   },
   {
    "duration": 8,
    "start_time": "2022-08-10T13:54:24.384Z"
   },
   {
    "duration": 17,
    "start_time": "2022-08-10T13:54:24.393Z"
   },
   {
    "duration": 10,
    "start_time": "2022-08-10T13:54:24.412Z"
   },
   {
    "duration": 14,
    "start_time": "2022-08-10T13:54:24.424Z"
   },
   {
    "duration": 20,
    "start_time": "2022-08-10T13:54:24.439Z"
   },
   {
    "duration": 34,
    "start_time": "2022-08-10T13:54:24.461Z"
   },
   {
    "duration": 5,
    "start_time": "2022-08-10T13:54:24.496Z"
   },
   {
    "duration": 7,
    "start_time": "2022-08-10T13:54:24.502Z"
   },
   {
    "duration": 7,
    "start_time": "2022-08-10T13:54:24.510Z"
   },
   {
    "duration": 39,
    "start_time": "2022-08-10T13:54:24.519Z"
   },
   {
    "duration": 11,
    "start_time": "2022-08-10T13:54:24.562Z"
   },
   {
    "duration": 8,
    "start_time": "2022-08-10T13:54:24.575Z"
   },
   {
    "duration": 56,
    "start_time": "2022-08-10T13:54:24.585Z"
   },
   {
    "duration": 4,
    "start_time": "2022-08-10T13:54:24.643Z"
   },
   {
    "duration": 8,
    "start_time": "2022-08-10T13:54:24.657Z"
   },
   {
    "duration": 9,
    "start_time": "2022-08-10T13:54:24.666Z"
   },
   {
    "duration": 9,
    "start_time": "2022-08-10T13:54:24.677Z"
   },
   {
    "duration": 8,
    "start_time": "2022-08-10T13:54:24.688Z"
   },
   {
    "duration": 17,
    "start_time": "2022-08-10T13:54:24.697Z"
   },
   {
    "duration": 12,
    "start_time": "2022-08-10T13:54:24.715Z"
   },
   {
    "duration": 11,
    "start_time": "2022-08-10T13:54:24.729Z"
   },
   {
    "duration": 5,
    "start_time": "2022-08-10T13:54:24.742Z"
   },
   {
    "duration": 8,
    "start_time": "2022-08-10T13:54:24.756Z"
   },
   {
    "duration": 10,
    "start_time": "2022-08-10T13:54:24.766Z"
   },
   {
    "duration": 23,
    "start_time": "2022-08-10T13:54:24.777Z"
   },
   {
    "duration": 2136,
    "start_time": "2022-08-10T13:54:24.803Z"
   },
   {
    "duration": 39,
    "start_time": "2022-08-10T13:54:26.941Z"
   },
   {
    "duration": 3,
    "start_time": "2022-08-10T13:54:26.982Z"
   },
   {
    "duration": 53,
    "start_time": "2022-08-10T13:54:26.987Z"
   },
   {
    "duration": 6,
    "start_time": "2022-08-10T13:54:27.041Z"
   },
   {
    "duration": 27,
    "start_time": "2022-08-10T13:54:27.048Z"
   },
   {
    "duration": 17,
    "start_time": "2022-08-10T13:54:27.077Z"
   },
   {
    "duration": 14,
    "start_time": "2022-08-10T13:54:27.096Z"
   },
   {
    "duration": 16,
    "start_time": "2022-08-10T13:54:27.112Z"
   },
   {
    "duration": 14,
    "start_time": "2022-08-10T13:54:27.129Z"
   },
   {
    "duration": 28,
    "start_time": "2022-08-10T13:54:27.145Z"
   },
   {
    "duration": 31,
    "start_time": "2022-08-10T13:54:27.175Z"
   },
   {
    "duration": 19,
    "start_time": "2022-08-10T13:54:27.208Z"
   },
   {
    "duration": 21,
    "start_time": "2022-08-10T13:54:27.228Z"
   },
   {
    "duration": 17,
    "start_time": "2022-08-10T13:54:27.251Z"
   },
   {
    "duration": 46,
    "start_time": "2022-08-10T13:54:27.270Z"
   },
   {
    "duration": 15,
    "start_time": "2022-08-10T13:54:27.318Z"
   },
   {
    "duration": 22,
    "start_time": "2022-08-10T13:54:27.335Z"
   },
   {
    "duration": 32,
    "start_time": "2022-08-10T13:54:27.359Z"
   },
   {
    "duration": 3,
    "start_time": "2022-08-10T13:54:27.393Z"
   },
   {
    "duration": 27,
    "start_time": "2022-08-10T13:54:27.398Z"
   },
   {
    "duration": 38,
    "start_time": "2022-08-10T13:54:27.426Z"
   },
   {
    "duration": 23,
    "start_time": "2022-08-10T13:54:27.465Z"
   },
   {
    "duration": 43,
    "start_time": "2022-08-10T13:54:27.490Z"
   },
   {
    "duration": 23,
    "start_time": "2022-08-10T13:54:27.534Z"
   },
   {
    "duration": 31,
    "start_time": "2022-08-10T13:54:27.558Z"
   },
   {
    "duration": 21,
    "start_time": "2022-08-10T13:54:27.591Z"
   },
   {
    "duration": 27,
    "start_time": "2022-08-10T13:54:27.613Z"
   },
   {
    "duration": 23,
    "start_time": "2022-08-10T13:54:27.641Z"
   },
   {
    "duration": 22,
    "start_time": "2022-08-10T13:54:27.666Z"
   },
   {
    "duration": 15,
    "start_time": "2022-08-10T13:54:27.690Z"
   },
   {
    "duration": 43,
    "start_time": "2022-08-10T13:54:27.706Z"
   },
   {
    "duration": 12,
    "start_time": "2022-08-10T13:54:27.751Z"
   },
   {
    "duration": 13,
    "start_time": "2022-08-10T13:54:27.765Z"
   },
   {
    "duration": 17,
    "start_time": "2022-08-10T13:54:27.780Z"
   },
   {
    "duration": 23,
    "start_time": "2022-08-10T13:54:27.798Z"
   },
   {
    "duration": 24,
    "start_time": "2022-08-10T13:54:27.822Z"
   },
   {
    "duration": 21,
    "start_time": "2022-08-10T13:54:27.848Z"
   },
   {
    "duration": 18,
    "start_time": "2022-08-10T13:54:27.871Z"
   },
   {
    "duration": 20,
    "start_time": "2022-08-10T13:54:27.894Z"
   },
   {
    "duration": 24,
    "start_time": "2022-08-10T13:54:27.916Z"
   },
   {
    "duration": 20,
    "start_time": "2022-08-10T13:54:27.942Z"
   },
   {
    "duration": 6,
    "start_time": "2022-08-10T13:54:27.964Z"
   },
   {
    "duration": 37,
    "start_time": "2022-08-10T13:54:27.971Z"
   },
   {
    "duration": 46,
    "start_time": "2022-08-10T13:54:28.009Z"
   },
   {
    "duration": 27,
    "start_time": "2022-08-10T13:54:28.056Z"
   },
   {
    "duration": 20,
    "start_time": "2022-08-10T13:54:28.084Z"
   },
   {
    "duration": 26,
    "start_time": "2022-08-10T13:54:28.106Z"
   },
   {
    "duration": 49,
    "start_time": "2022-08-10T13:54:28.133Z"
   },
   {
    "duration": 6,
    "start_time": "2022-08-10T13:54:28.183Z"
   },
   {
    "duration": 16,
    "start_time": "2022-08-10T13:54:28.190Z"
   },
   {
    "duration": 32,
    "start_time": "2022-08-10T13:54:28.208Z"
   },
   {
    "duration": 23,
    "start_time": "2022-08-10T13:54:28.242Z"
   },
   {
    "duration": 22,
    "start_time": "2022-08-10T13:54:28.266Z"
   },
   {
    "duration": 22,
    "start_time": "2022-08-10T13:54:28.290Z"
   },
   {
    "duration": 27,
    "start_time": "2022-08-10T13:54:28.314Z"
   },
   {
    "duration": 25,
    "start_time": "2022-08-10T13:54:28.343Z"
   },
   {
    "duration": 20,
    "start_time": "2022-08-10T13:54:28.370Z"
   },
   {
    "duration": 41,
    "start_time": "2022-08-10T13:54:28.391Z"
   },
   {
    "duration": 15,
    "start_time": "2022-08-10T13:54:28.433Z"
   },
   {
    "duration": 26,
    "start_time": "2022-08-10T13:54:28.450Z"
   },
   {
    "duration": 21,
    "start_time": "2022-08-10T13:54:28.477Z"
   },
   {
    "duration": 43,
    "start_time": "2022-08-10T13:54:28.499Z"
   },
   {
    "duration": 6,
    "start_time": "2022-08-10T13:54:28.544Z"
   },
   {
    "duration": 30,
    "start_time": "2022-08-10T13:54:28.551Z"
   },
   {
    "duration": 1044,
    "start_time": "2022-08-10T13:54:28.583Z"
   },
   {
    "duration": 3,
    "start_time": "2022-08-10T13:54:29.628Z"
   },
   {
    "duration": 38,
    "start_time": "2022-08-10T13:54:29.633Z"
   },
   {
    "duration": 3043,
    "start_time": "2022-08-10T13:54:29.673Z"
   },
   {
    "duration": 7,
    "start_time": "2022-08-10T13:54:32.718Z"
   },
   {
    "duration": 28,
    "start_time": "2022-08-10T13:54:32.727Z"
   },
   {
    "duration": 26,
    "start_time": "2022-08-10T13:54:32.757Z"
   },
   {
    "duration": 49,
    "start_time": "2022-08-10T13:54:32.785Z"
   },
   {
    "duration": 3,
    "start_time": "2022-08-10T13:54:32.836Z"
   },
   {
    "duration": 9,
    "start_time": "2022-08-10T13:54:32.841Z"
   },
   {
    "duration": 19,
    "start_time": "2022-08-10T13:54:32.851Z"
   },
   {
    "duration": 5,
    "start_time": "2022-08-10T13:54:32.872Z"
   },
   {
    "duration": 19,
    "start_time": "2022-08-10T13:54:32.879Z"
   },
   {
    "duration": 8,
    "start_time": "2022-08-10T13:54:32.899Z"
   },
   {
    "duration": 37,
    "start_time": "2022-08-10T13:54:32.908Z"
   },
   {
    "duration": 116,
    "start_time": "2022-08-10T13:54:32.979Z"
   },
   {
    "duration": 0,
    "start_time": "2022-08-10T13:54:33.097Z"
   },
   {
    "duration": 0,
    "start_time": "2022-08-10T13:54:33.098Z"
   },
   {
    "duration": 0,
    "start_time": "2022-08-10T13:54:33.099Z"
   },
   {
    "duration": 0,
    "start_time": "2022-08-10T13:54:33.101Z"
   },
   {
    "duration": 16,
    "start_time": "2022-08-10T13:54:38.923Z"
   },
   {
    "duration": 5,
    "start_time": "2022-08-10T13:59:53.763Z"
   },
   {
    "duration": 17,
    "start_time": "2022-08-10T14:00:03.634Z"
   },
   {
    "duration": 4,
    "start_time": "2022-08-10T14:01:56.002Z"
   },
   {
    "duration": 18,
    "start_time": "2022-08-10T14:02:26.807Z"
   },
   {
    "duration": 28,
    "start_time": "2022-08-10T14:03:37.036Z"
   },
   {
    "duration": 81,
    "start_time": "2022-08-10T14:04:01.030Z"
   },
   {
    "duration": 47,
    "start_time": "2022-08-10T14:04:19.682Z"
   },
   {
    "duration": 111,
    "start_time": "2022-08-10T14:04:26.865Z"
   },
   {
    "duration": 58,
    "start_time": "2022-08-10T14:04:41.213Z"
   },
   {
    "duration": 64,
    "start_time": "2022-08-10T14:05:03.468Z"
   },
   {
    "duration": 470,
    "start_time": "2022-08-10T14:05:10.500Z"
   },
   {
    "duration": 3,
    "start_time": "2022-08-10T14:05:10.972Z"
   },
   {
    "duration": 26,
    "start_time": "2022-08-10T14:05:10.976Z"
   },
   {
    "duration": 15,
    "start_time": "2022-08-10T14:05:11.004Z"
   },
   {
    "duration": 14,
    "start_time": "2022-08-10T14:05:11.020Z"
   },
   {
    "duration": 22,
    "start_time": "2022-08-10T14:05:11.036Z"
   },
   {
    "duration": 12,
    "start_time": "2022-08-10T14:05:11.060Z"
   },
   {
    "duration": 14,
    "start_time": "2022-08-10T14:05:11.074Z"
   },
   {
    "duration": 12,
    "start_time": "2022-08-10T14:05:11.089Z"
   },
   {
    "duration": 15,
    "start_time": "2022-08-10T14:05:11.104Z"
   },
   {
    "duration": 39,
    "start_time": "2022-08-10T14:05:11.121Z"
   },
   {
    "duration": 17,
    "start_time": "2022-08-10T14:05:11.162Z"
   },
   {
    "duration": 8,
    "start_time": "2022-08-10T14:05:11.181Z"
   },
   {
    "duration": 23,
    "start_time": "2022-08-10T14:05:11.191Z"
   },
   {
    "duration": 32,
    "start_time": "2022-08-10T14:05:11.216Z"
   },
   {
    "duration": 32,
    "start_time": "2022-08-10T14:05:11.249Z"
   },
   {
    "duration": 22,
    "start_time": "2022-08-10T14:05:11.282Z"
   },
   {
    "duration": 7,
    "start_time": "2022-08-10T14:05:11.306Z"
   },
   {
    "duration": 12,
    "start_time": "2022-08-10T14:05:11.314Z"
   },
   {
    "duration": 18,
    "start_time": "2022-08-10T14:05:11.327Z"
   },
   {
    "duration": 13,
    "start_time": "2022-08-10T14:05:11.347Z"
   },
   {
    "duration": 53,
    "start_time": "2022-08-10T14:05:11.362Z"
   },
   {
    "duration": 32,
    "start_time": "2022-08-10T14:05:11.417Z"
   },
   {
    "duration": 5,
    "start_time": "2022-08-10T14:05:11.450Z"
   },
   {
    "duration": 8,
    "start_time": "2022-08-10T14:05:11.456Z"
   },
   {
    "duration": 7,
    "start_time": "2022-08-10T14:05:11.465Z"
   },
   {
    "duration": 21,
    "start_time": "2022-08-10T14:05:11.474Z"
   },
   {
    "duration": 39,
    "start_time": "2022-08-10T14:05:11.499Z"
   },
   {
    "duration": 6,
    "start_time": "2022-08-10T14:05:11.540Z"
   },
   {
    "duration": 56,
    "start_time": "2022-08-10T14:05:11.547Z"
   },
   {
    "duration": 4,
    "start_time": "2022-08-10T14:05:11.605Z"
   },
   {
    "duration": 28,
    "start_time": "2022-08-10T14:05:11.610Z"
   },
   {
    "duration": 20,
    "start_time": "2022-08-10T14:05:11.640Z"
   },
   {
    "duration": 18,
    "start_time": "2022-08-10T14:05:11.662Z"
   },
   {
    "duration": 16,
    "start_time": "2022-08-10T14:05:11.681Z"
   },
   {
    "duration": 9,
    "start_time": "2022-08-10T14:05:11.699Z"
   },
   {
    "duration": 49,
    "start_time": "2022-08-10T14:05:11.710Z"
   },
   {
    "duration": 9,
    "start_time": "2022-08-10T14:05:11.761Z"
   },
   {
    "duration": 3,
    "start_time": "2022-08-10T14:05:11.772Z"
   },
   {
    "duration": 12,
    "start_time": "2022-08-10T14:05:11.777Z"
   },
   {
    "duration": 12,
    "start_time": "2022-08-10T14:05:11.790Z"
   },
   {
    "duration": 13,
    "start_time": "2022-08-10T14:05:11.803Z"
   },
   {
    "duration": 2321,
    "start_time": "2022-08-10T14:05:11.818Z"
   },
   {
    "duration": 43,
    "start_time": "2022-08-10T14:05:14.141Z"
   },
   {
    "duration": 4,
    "start_time": "2022-08-10T14:05:14.186Z"
   },
   {
    "duration": 40,
    "start_time": "2022-08-10T14:05:14.191Z"
   },
   {
    "duration": 5,
    "start_time": "2022-08-10T14:05:14.233Z"
   },
   {
    "duration": 6,
    "start_time": "2022-08-10T14:05:14.257Z"
   },
   {
    "duration": 8,
    "start_time": "2022-08-10T14:05:14.265Z"
   },
   {
    "duration": 23,
    "start_time": "2022-08-10T14:05:14.274Z"
   },
   {
    "duration": 30,
    "start_time": "2022-08-10T14:05:14.299Z"
   },
   {
    "duration": 53,
    "start_time": "2022-08-10T14:05:14.331Z"
   },
   {
    "duration": 10,
    "start_time": "2022-08-10T14:05:14.386Z"
   },
   {
    "duration": 31,
    "start_time": "2022-08-10T14:05:14.398Z"
   },
   {
    "duration": 20,
    "start_time": "2022-08-10T14:05:14.431Z"
   },
   {
    "duration": 20,
    "start_time": "2022-08-10T14:05:14.453Z"
   },
   {
    "duration": 14,
    "start_time": "2022-08-10T14:05:14.475Z"
   },
   {
    "duration": 36,
    "start_time": "2022-08-10T14:05:14.490Z"
   },
   {
    "duration": 32,
    "start_time": "2022-08-10T14:05:14.527Z"
   },
   {
    "duration": 16,
    "start_time": "2022-08-10T14:05:14.561Z"
   },
   {
    "duration": 19,
    "start_time": "2022-08-10T14:05:14.578Z"
   },
   {
    "duration": 3,
    "start_time": "2022-08-10T14:05:14.599Z"
   },
   {
    "duration": 7,
    "start_time": "2022-08-10T14:05:14.603Z"
   },
   {
    "duration": 24,
    "start_time": "2022-08-10T14:05:14.612Z"
   },
   {
    "duration": 21,
    "start_time": "2022-08-10T14:05:14.637Z"
   },
   {
    "duration": 10,
    "start_time": "2022-08-10T14:05:14.660Z"
   },
   {
    "duration": 8,
    "start_time": "2022-08-10T14:05:14.672Z"
   },
   {
    "duration": 26,
    "start_time": "2022-08-10T14:05:14.681Z"
   },
   {
    "duration": 3,
    "start_time": "2022-08-10T14:05:14.708Z"
   },
   {
    "duration": 11,
    "start_time": "2022-08-10T14:05:14.712Z"
   },
   {
    "duration": 6,
    "start_time": "2022-08-10T14:05:14.725Z"
   },
   {
    "duration": 24,
    "start_time": "2022-08-10T14:05:14.733Z"
   },
   {
    "duration": 2,
    "start_time": "2022-08-10T14:05:14.759Z"
   },
   {
    "duration": 11,
    "start_time": "2022-08-10T14:05:14.763Z"
   },
   {
    "duration": 6,
    "start_time": "2022-08-10T14:05:14.776Z"
   },
   {
    "duration": 6,
    "start_time": "2022-08-10T14:05:14.784Z"
   },
   {
    "duration": 8,
    "start_time": "2022-08-10T14:05:14.792Z"
   },
   {
    "duration": 11,
    "start_time": "2022-08-10T14:05:14.802Z"
   },
   {
    "duration": 57,
    "start_time": "2022-08-10T14:05:14.815Z"
   },
   {
    "duration": 17,
    "start_time": "2022-08-10T14:05:14.874Z"
   },
   {
    "duration": 4,
    "start_time": "2022-08-10T14:05:14.893Z"
   },
   {
    "duration": 13,
    "start_time": "2022-08-10T14:05:14.902Z"
   },
   {
    "duration": 15,
    "start_time": "2022-08-10T14:05:14.916Z"
   },
   {
    "duration": 12,
    "start_time": "2022-08-10T14:05:14.957Z"
   },
   {
    "duration": 4,
    "start_time": "2022-08-10T14:05:14.970Z"
   },
   {
    "duration": 27,
    "start_time": "2022-08-10T14:05:14.976Z"
   },
   {
    "duration": 43,
    "start_time": "2022-08-10T14:05:15.005Z"
   },
   {
    "duration": 12,
    "start_time": "2022-08-10T14:05:15.049Z"
   },
   {
    "duration": 14,
    "start_time": "2022-08-10T14:05:15.062Z"
   },
   {
    "duration": 20,
    "start_time": "2022-08-10T14:05:15.077Z"
   },
   {
    "duration": 30,
    "start_time": "2022-08-10T14:05:15.099Z"
   },
   {
    "duration": 2,
    "start_time": "2022-08-10T14:05:15.131Z"
   },
   {
    "duration": 5,
    "start_time": "2022-08-10T14:05:15.134Z"
   },
   {
    "duration": 4,
    "start_time": "2022-08-10T14:05:15.141Z"
   },
   {
    "duration": 4,
    "start_time": "2022-08-10T14:05:15.147Z"
   },
   {
    "duration": 6,
    "start_time": "2022-08-10T14:05:15.152Z"
   },
   {
    "duration": 11,
    "start_time": "2022-08-10T14:05:15.160Z"
   },
   {
    "duration": 17,
    "start_time": "2022-08-10T14:05:15.172Z"
   },
   {
    "duration": 26,
    "start_time": "2022-08-10T14:05:15.192Z"
   },
   {
    "duration": 16,
    "start_time": "2022-08-10T14:05:15.220Z"
   },
   {
    "duration": 14,
    "start_time": "2022-08-10T14:05:15.238Z"
   },
   {
    "duration": 18,
    "start_time": "2022-08-10T14:05:15.254Z"
   },
   {
    "duration": 17,
    "start_time": "2022-08-10T14:05:15.274Z"
   },
   {
    "duration": 35,
    "start_time": "2022-08-10T14:05:15.294Z"
   },
   {
    "duration": 47,
    "start_time": "2022-08-10T14:05:15.332Z"
   },
   {
    "duration": 4,
    "start_time": "2022-08-10T14:05:15.381Z"
   },
   {
    "duration": 31,
    "start_time": "2022-08-10T14:05:15.387Z"
   },
   {
    "duration": 874,
    "start_time": "2022-08-10T14:05:15.420Z"
   },
   {
    "duration": 3,
    "start_time": "2022-08-10T14:05:16.296Z"
   },
   {
    "duration": 21,
    "start_time": "2022-08-10T14:05:16.300Z"
   },
   {
    "duration": 2833,
    "start_time": "2022-08-10T14:05:16.323Z"
   },
   {
    "duration": 8,
    "start_time": "2022-08-10T14:05:19.157Z"
   },
   {
    "duration": 19,
    "start_time": "2022-08-10T14:05:19.166Z"
   },
   {
    "duration": 13,
    "start_time": "2022-08-10T14:05:19.186Z"
   },
   {
    "duration": 45,
    "start_time": "2022-08-10T14:05:19.200Z"
   },
   {
    "duration": 4,
    "start_time": "2022-08-10T14:05:19.258Z"
   },
   {
    "duration": 7,
    "start_time": "2022-08-10T14:05:19.264Z"
   },
   {
    "duration": 12,
    "start_time": "2022-08-10T14:05:19.273Z"
   },
   {
    "duration": 11,
    "start_time": "2022-08-10T14:05:19.287Z"
   },
   {
    "duration": 7,
    "start_time": "2022-08-10T14:05:19.300Z"
   },
   {
    "duration": 12,
    "start_time": "2022-08-10T14:05:19.309Z"
   },
   {
    "duration": 37,
    "start_time": "2022-08-10T14:05:19.322Z"
   },
   {
    "duration": 13,
    "start_time": "2022-08-10T14:05:19.361Z"
   },
   {
    "duration": 142,
    "start_time": "2022-08-10T14:05:19.376Z"
   },
   {
    "duration": 0,
    "start_time": "2022-08-10T14:05:19.519Z"
   },
   {
    "duration": 0,
    "start_time": "2022-08-10T14:05:19.521Z"
   },
   {
    "duration": 0,
    "start_time": "2022-08-10T14:05:19.522Z"
   },
   {
    "duration": 0,
    "start_time": "2022-08-10T14:05:19.523Z"
   },
   {
    "duration": 4,
    "start_time": "2022-08-10T14:10:03.075Z"
   },
   {
    "duration": 3,
    "start_time": "2022-08-10T14:10:10.593Z"
   },
   {
    "duration": 4,
    "start_time": "2022-08-10T14:10:33.249Z"
   },
   {
    "duration": 5,
    "start_time": "2022-08-10T14:10:41.521Z"
   },
   {
    "duration": 17,
    "start_time": "2022-08-10T14:10:54.447Z"
   },
   {
    "duration": 15,
    "start_time": "2022-08-10T14:11:23.739Z"
   },
   {
    "duration": 6,
    "start_time": "2022-08-10T14:17:59.991Z"
   },
   {
    "duration": 11,
    "start_time": "2022-08-10T14:18:02.501Z"
   },
   {
    "duration": 7,
    "start_time": "2022-08-10T14:18:05.103Z"
   },
   {
    "duration": 7,
    "start_time": "2022-08-10T14:26:35.567Z"
   },
   {
    "duration": 6,
    "start_time": "2022-08-10T14:27:13.881Z"
   },
   {
    "duration": 9,
    "start_time": "2022-08-10T14:28:35.730Z"
   },
   {
    "duration": 13,
    "start_time": "2022-08-10T14:29:14.021Z"
   },
   {
    "duration": 3,
    "start_time": "2022-08-10T14:29:42.881Z"
   },
   {
    "duration": 5,
    "start_time": "2022-08-10T14:31:15.504Z"
   },
   {
    "duration": 6,
    "start_time": "2022-08-10T14:31:43.663Z"
   },
   {
    "duration": 12,
    "start_time": "2022-08-10T14:32:42.907Z"
   },
   {
    "duration": 5,
    "start_time": "2022-08-10T14:32:46.361Z"
   },
   {
    "duration": 9,
    "start_time": "2022-08-10T14:33:57.099Z"
   },
   {
    "duration": 5,
    "start_time": "2022-08-10T14:34:04.697Z"
   },
   {
    "duration": 7,
    "start_time": "2022-08-10T14:34:05.529Z"
   },
   {
    "duration": 7,
    "start_time": "2022-08-10T14:34:24.796Z"
   },
   {
    "duration": 7,
    "start_time": "2022-08-10T14:34:32.900Z"
   },
   {
    "duration": 46,
    "start_time": "2022-08-10T14:34:40.877Z"
   },
   {
    "duration": 534,
    "start_time": "2022-08-10T14:34:49.728Z"
   },
   {
    "duration": 4,
    "start_time": "2022-08-10T14:34:50.264Z"
   },
   {
    "duration": 27,
    "start_time": "2022-08-10T14:34:50.270Z"
   },
   {
    "duration": 17,
    "start_time": "2022-08-10T14:34:50.300Z"
   },
   {
    "duration": 38,
    "start_time": "2022-08-10T14:34:50.319Z"
   },
   {
    "duration": 11,
    "start_time": "2022-08-10T14:34:50.359Z"
   },
   {
    "duration": 12,
    "start_time": "2022-08-10T14:34:50.372Z"
   },
   {
    "duration": 14,
    "start_time": "2022-08-10T14:34:50.386Z"
   },
   {
    "duration": 15,
    "start_time": "2022-08-10T14:34:50.402Z"
   },
   {
    "duration": 38,
    "start_time": "2022-08-10T14:34:50.419Z"
   },
   {
    "duration": 12,
    "start_time": "2022-08-10T14:34:50.459Z"
   },
   {
    "duration": 17,
    "start_time": "2022-08-10T14:34:50.473Z"
   },
   {
    "duration": 8,
    "start_time": "2022-08-10T14:34:50.492Z"
   },
   {
    "duration": 8,
    "start_time": "2022-08-10T14:34:50.502Z"
   },
   {
    "duration": 63,
    "start_time": "2022-08-10T14:34:50.512Z"
   },
   {
    "duration": 27,
    "start_time": "2022-08-10T14:34:50.577Z"
   },
   {
    "duration": 22,
    "start_time": "2022-08-10T14:34:50.606Z"
   },
   {
    "duration": 9,
    "start_time": "2022-08-10T14:34:50.657Z"
   },
   {
    "duration": 12,
    "start_time": "2022-08-10T14:34:50.668Z"
   },
   {
    "duration": 19,
    "start_time": "2022-08-10T14:34:50.682Z"
   },
   {
    "duration": 14,
    "start_time": "2022-08-10T14:34:50.703Z"
   },
   {
    "duration": 14,
    "start_time": "2022-08-10T14:34:50.718Z"
   },
   {
    "duration": 50,
    "start_time": "2022-08-10T14:34:50.735Z"
   },
   {
    "duration": 5,
    "start_time": "2022-08-10T14:34:50.787Z"
   },
   {
    "duration": 31,
    "start_time": "2022-08-10T14:34:50.794Z"
   },
   {
    "duration": 16,
    "start_time": "2022-08-10T14:34:50.827Z"
   },
   {
    "duration": 15,
    "start_time": "2022-08-10T14:34:50.844Z"
   },
   {
    "duration": 12,
    "start_time": "2022-08-10T14:34:50.864Z"
   },
   {
    "duration": 19,
    "start_time": "2022-08-10T14:34:50.878Z"
   },
   {
    "duration": 63,
    "start_time": "2022-08-10T14:34:50.899Z"
   },
   {
    "duration": 3,
    "start_time": "2022-08-10T14:34:50.964Z"
   },
   {
    "duration": 34,
    "start_time": "2022-08-10T14:34:50.970Z"
   },
   {
    "duration": 31,
    "start_time": "2022-08-10T14:34:51.006Z"
   },
   {
    "duration": 21,
    "start_time": "2022-08-10T14:34:51.039Z"
   },
   {
    "duration": 28,
    "start_time": "2022-08-10T14:34:51.062Z"
   },
   {
    "duration": 28,
    "start_time": "2022-08-10T14:34:51.092Z"
   },
   {
    "duration": 25,
    "start_time": "2022-08-10T14:34:51.121Z"
   },
   {
    "duration": 61,
    "start_time": "2022-08-10T14:34:51.148Z"
   },
   {
    "duration": 45,
    "start_time": "2022-08-10T14:34:51.211Z"
   },
   {
    "duration": 40,
    "start_time": "2022-08-10T14:34:51.257Z"
   },
   {
    "duration": 13,
    "start_time": "2022-08-10T14:34:51.298Z"
   },
   {
    "duration": 8,
    "start_time": "2022-08-10T14:34:51.312Z"
   },
   {
    "duration": 2039,
    "start_time": "2022-08-10T14:34:51.321Z"
   },
   {
    "duration": 36,
    "start_time": "2022-08-10T14:34:53.361Z"
   },
   {
    "duration": 6,
    "start_time": "2022-08-10T14:34:53.398Z"
   },
   {
    "duration": 53,
    "start_time": "2022-08-10T14:34:53.405Z"
   },
   {
    "duration": 6,
    "start_time": "2022-08-10T14:34:53.461Z"
   },
   {
    "duration": 33,
    "start_time": "2022-08-10T14:34:53.469Z"
   },
   {
    "duration": 17,
    "start_time": "2022-08-10T14:34:53.504Z"
   },
   {
    "duration": 19,
    "start_time": "2022-08-10T14:34:53.523Z"
   },
   {
    "duration": 20,
    "start_time": "2022-08-10T14:34:53.544Z"
   },
   {
    "duration": 18,
    "start_time": "2022-08-10T14:34:53.566Z"
   },
   {
    "duration": 30,
    "start_time": "2022-08-10T14:34:53.586Z"
   },
   {
    "duration": 43,
    "start_time": "2022-08-10T14:34:53.617Z"
   },
   {
    "duration": 17,
    "start_time": "2022-08-10T14:34:53.662Z"
   },
   {
    "duration": 19,
    "start_time": "2022-08-10T14:34:53.681Z"
   },
   {
    "duration": 17,
    "start_time": "2022-08-10T14:34:53.702Z"
   },
   {
    "duration": 59,
    "start_time": "2022-08-10T14:34:53.720Z"
   },
   {
    "duration": 16,
    "start_time": "2022-08-10T14:34:53.780Z"
   },
   {
    "duration": 20,
    "start_time": "2022-08-10T14:34:53.798Z"
   },
   {
    "duration": 41,
    "start_time": "2022-08-10T14:34:53.820Z"
   },
   {
    "duration": 10,
    "start_time": "2022-08-10T14:34:53.863Z"
   },
   {
    "duration": 19,
    "start_time": "2022-08-10T14:34:53.874Z"
   },
   {
    "duration": 27,
    "start_time": "2022-08-10T14:34:53.894Z"
   },
   {
    "duration": 16,
    "start_time": "2022-08-10T14:34:53.923Z"
   },
   {
    "duration": 32,
    "start_time": "2022-08-10T14:34:53.940Z"
   },
   {
    "duration": 22,
    "start_time": "2022-08-10T14:34:53.974Z"
   },
   {
    "duration": 44,
    "start_time": "2022-08-10T14:34:53.997Z"
   },
   {
    "duration": 30,
    "start_time": "2022-08-10T14:34:54.043Z"
   },
   {
    "duration": 8,
    "start_time": "2022-08-10T14:34:54.075Z"
   },
   {
    "duration": 29,
    "start_time": "2022-08-10T14:34:54.085Z"
   },
   {
    "duration": 26,
    "start_time": "2022-08-10T14:34:54.116Z"
   },
   {
    "duration": 24,
    "start_time": "2022-08-10T14:34:54.144Z"
   },
   {
    "duration": 57,
    "start_time": "2022-08-10T14:34:54.169Z"
   },
   {
    "duration": 15,
    "start_time": "2022-08-10T14:34:54.228Z"
   },
   {
    "duration": 22,
    "start_time": "2022-08-10T14:34:54.246Z"
   },
   {
    "duration": 24,
    "start_time": "2022-08-10T14:34:54.270Z"
   },
   {
    "duration": 27,
    "start_time": "2022-08-10T14:34:54.296Z"
   },
   {
    "duration": 74,
    "start_time": "2022-08-10T14:34:54.325Z"
   },
   {
    "duration": 21,
    "start_time": "2022-08-10T14:34:54.400Z"
   },
   {
    "duration": 7,
    "start_time": "2022-08-10T14:34:54.422Z"
   },
   {
    "duration": 33,
    "start_time": "2022-08-10T14:34:54.435Z"
   },
   {
    "duration": 22,
    "start_time": "2022-08-10T14:34:54.469Z"
   },
   {
    "duration": 21,
    "start_time": "2022-08-10T14:34:54.493Z"
   },
   {
    "duration": 16,
    "start_time": "2022-08-10T14:34:54.515Z"
   },
   {
    "duration": 32,
    "start_time": "2022-08-10T14:34:54.532Z"
   },
   {
    "duration": 39,
    "start_time": "2022-08-10T14:34:54.566Z"
   },
   {
    "duration": 18,
    "start_time": "2022-08-10T14:34:54.607Z"
   },
   {
    "duration": 33,
    "start_time": "2022-08-10T14:34:54.626Z"
   },
   {
    "duration": 26,
    "start_time": "2022-08-10T14:34:54.660Z"
   },
   {
    "duration": 45,
    "start_time": "2022-08-10T14:34:54.688Z"
   },
   {
    "duration": 2,
    "start_time": "2022-08-10T14:34:54.735Z"
   },
   {
    "duration": 29,
    "start_time": "2022-08-10T14:34:54.738Z"
   },
   {
    "duration": 22,
    "start_time": "2022-08-10T14:34:54.768Z"
   },
   {
    "duration": 18,
    "start_time": "2022-08-10T14:34:54.792Z"
   },
   {
    "duration": 17,
    "start_time": "2022-08-10T14:34:54.812Z"
   },
   {
    "duration": 34,
    "start_time": "2022-08-10T14:34:54.831Z"
   },
   {
    "duration": 21,
    "start_time": "2022-08-10T14:34:54.866Z"
   },
   {
    "duration": 31,
    "start_time": "2022-08-10T14:34:54.888Z"
   },
   {
    "duration": 16,
    "start_time": "2022-08-10T14:34:54.920Z"
   },
   {
    "duration": 13,
    "start_time": "2022-08-10T14:34:54.938Z"
   },
   {
    "duration": 15,
    "start_time": "2022-08-10T14:34:54.952Z"
   },
   {
    "duration": 10,
    "start_time": "2022-08-10T14:34:54.969Z"
   },
   {
    "duration": 21,
    "start_time": "2022-08-10T14:34:54.980Z"
   },
   {
    "duration": 25,
    "start_time": "2022-08-10T14:34:55.003Z"
   },
   {
    "duration": 10,
    "start_time": "2022-08-10T14:34:55.029Z"
   },
   {
    "duration": 23,
    "start_time": "2022-08-10T14:34:55.041Z"
   },
   {
    "duration": 838,
    "start_time": "2022-08-10T14:34:55.066Z"
   },
   {
    "duration": 2,
    "start_time": "2022-08-10T14:34:55.906Z"
   },
   {
    "duration": 7,
    "start_time": "2022-08-10T14:34:55.910Z"
   },
   {
    "duration": 2883,
    "start_time": "2022-08-10T14:34:55.918Z"
   },
   {
    "duration": 6,
    "start_time": "2022-08-10T14:34:58.802Z"
   },
   {
    "duration": 7,
    "start_time": "2022-08-10T14:34:58.810Z"
   },
   {
    "duration": 11,
    "start_time": "2022-08-10T14:34:58.819Z"
   },
   {
    "duration": 45,
    "start_time": "2022-08-10T14:34:58.832Z"
   },
   {
    "duration": 3,
    "start_time": "2022-08-10T14:34:58.879Z"
   },
   {
    "duration": 14,
    "start_time": "2022-08-10T14:34:58.884Z"
   },
   {
    "duration": 17,
    "start_time": "2022-08-10T14:34:58.899Z"
   },
   {
    "duration": 6,
    "start_time": "2022-08-10T14:34:58.917Z"
   },
   {
    "duration": 8,
    "start_time": "2022-08-10T14:34:58.924Z"
   },
   {
    "duration": 6,
    "start_time": "2022-08-10T14:34:58.934Z"
   },
   {
    "duration": 37,
    "start_time": "2022-08-10T14:34:58.941Z"
   },
   {
    "duration": 6,
    "start_time": "2022-08-10T14:34:58.980Z"
   },
   {
    "duration": 8,
    "start_time": "2022-08-10T14:34:58.988Z"
   },
   {
    "duration": 0,
    "start_time": "2022-08-10T14:34:58.997Z"
   },
   {
    "duration": 0,
    "start_time": "2022-08-10T14:34:58.998Z"
   },
   {
    "duration": 0,
    "start_time": "2022-08-10T14:34:58.999Z"
   },
   {
    "duration": 0,
    "start_time": "2022-08-10T14:34:59.001Z"
   },
   {
    "duration": 0,
    "start_time": "2022-08-10T14:34:59.002Z"
   },
   {
    "duration": 0,
    "start_time": "2022-08-10T14:34:59.003Z"
   },
   {
    "duration": 0,
    "start_time": "2022-08-10T14:34:59.004Z"
   },
   {
    "duration": 0,
    "start_time": "2022-08-10T14:34:59.005Z"
   },
   {
    "duration": 493,
    "start_time": "2022-08-10T15:22:45.557Z"
   },
   {
    "duration": 3,
    "start_time": "2022-08-10T15:22:46.052Z"
   },
   {
    "duration": 27,
    "start_time": "2022-08-10T15:22:46.057Z"
   },
   {
    "duration": 14,
    "start_time": "2022-08-10T15:22:46.086Z"
   },
   {
    "duration": 9,
    "start_time": "2022-08-10T15:22:46.102Z"
   },
   {
    "duration": 14,
    "start_time": "2022-08-10T15:22:46.113Z"
   },
   {
    "duration": 10,
    "start_time": "2022-08-10T15:22:46.129Z"
   },
   {
    "duration": 28,
    "start_time": "2022-08-10T15:22:46.140Z"
   },
   {
    "duration": 11,
    "start_time": "2022-08-10T15:22:46.170Z"
   },
   {
    "duration": 9,
    "start_time": "2022-08-10T15:22:46.183Z"
   },
   {
    "duration": 20,
    "start_time": "2022-08-10T15:22:46.193Z"
   },
   {
    "duration": 15,
    "start_time": "2022-08-10T15:22:46.215Z"
   },
   {
    "duration": 29,
    "start_time": "2022-08-10T15:22:46.232Z"
   },
   {
    "duration": 6,
    "start_time": "2022-08-10T15:22:46.263Z"
   },
   {
    "duration": 27,
    "start_time": "2022-08-10T15:22:46.271Z"
   },
   {
    "duration": 58,
    "start_time": "2022-08-10T15:22:46.300Z"
   },
   {
    "duration": 22,
    "start_time": "2022-08-10T15:22:46.360Z"
   },
   {
    "duration": 7,
    "start_time": "2022-08-10T15:22:46.384Z"
   },
   {
    "duration": 14,
    "start_time": "2022-08-10T15:22:46.392Z"
   },
   {
    "duration": 11,
    "start_time": "2022-08-10T15:22:46.407Z"
   },
   {
    "duration": 11,
    "start_time": "2022-08-10T15:22:46.420Z"
   },
   {
    "duration": 36,
    "start_time": "2022-08-10T15:22:46.432Z"
   },
   {
    "duration": 31,
    "start_time": "2022-08-10T15:22:46.470Z"
   },
   {
    "duration": 5,
    "start_time": "2022-08-10T15:22:46.502Z"
   },
   {
    "duration": 8,
    "start_time": "2022-08-10T15:22:46.508Z"
   },
   {
    "duration": 7,
    "start_time": "2022-08-10T15:22:46.517Z"
   },
   {
    "duration": 34,
    "start_time": "2022-08-10T15:22:46.526Z"
   },
   {
    "duration": 11,
    "start_time": "2022-08-10T15:22:46.566Z"
   },
   {
    "duration": 6,
    "start_time": "2022-08-10T15:22:46.579Z"
   },
   {
    "duration": 53,
    "start_time": "2022-08-10T15:22:46.587Z"
   },
   {
    "duration": 17,
    "start_time": "2022-08-10T15:22:46.641Z"
   },
   {
    "duration": 8,
    "start_time": "2022-08-10T15:22:46.659Z"
   },
   {
    "duration": 8,
    "start_time": "2022-08-10T15:22:46.669Z"
   },
   {
    "duration": 18,
    "start_time": "2022-08-10T15:22:46.678Z"
   },
   {
    "duration": 16,
    "start_time": "2022-08-10T15:22:46.698Z"
   },
   {
    "duration": 14,
    "start_time": "2022-08-10T15:22:46.716Z"
   },
   {
    "duration": 12,
    "start_time": "2022-08-10T15:22:46.732Z"
   },
   {
    "duration": 16,
    "start_time": "2022-08-10T15:22:46.746Z"
   },
   {
    "duration": 4,
    "start_time": "2022-08-10T15:22:46.763Z"
   },
   {
    "duration": 25,
    "start_time": "2022-08-10T15:22:46.769Z"
   },
   {
    "duration": 15,
    "start_time": "2022-08-10T15:22:46.796Z"
   },
   {
    "duration": 23,
    "start_time": "2022-08-10T15:22:46.813Z"
   },
   {
    "duration": 2001,
    "start_time": "2022-08-10T15:22:46.838Z"
   },
   {
    "duration": 40,
    "start_time": "2022-08-10T15:22:48.841Z"
   },
   {
    "duration": 5,
    "start_time": "2022-08-10T15:22:48.882Z"
   },
   {
    "duration": 41,
    "start_time": "2022-08-10T15:22:48.888Z"
   },
   {
    "duration": 6,
    "start_time": "2022-08-10T15:22:48.930Z"
   },
   {
    "duration": 23,
    "start_time": "2022-08-10T15:22:48.937Z"
   },
   {
    "duration": 10,
    "start_time": "2022-08-10T15:22:48.961Z"
   },
   {
    "duration": 11,
    "start_time": "2022-08-10T15:22:48.972Z"
   },
   {
    "duration": 12,
    "start_time": "2022-08-10T15:22:48.984Z"
   },
   {
    "duration": 13,
    "start_time": "2022-08-10T15:22:48.998Z"
   },
   {
    "duration": 7,
    "start_time": "2022-08-10T15:22:49.012Z"
   },
   {
    "duration": 39,
    "start_time": "2022-08-10T15:22:49.020Z"
   },
   {
    "duration": 20,
    "start_time": "2022-08-10T15:22:49.061Z"
   },
   {
    "duration": 21,
    "start_time": "2022-08-10T15:22:49.083Z"
   },
   {
    "duration": 13,
    "start_time": "2022-08-10T15:22:49.106Z"
   },
   {
    "duration": 61,
    "start_time": "2022-08-10T15:22:49.121Z"
   },
   {
    "duration": 16,
    "start_time": "2022-08-10T15:22:49.184Z"
   },
   {
    "duration": 13,
    "start_time": "2022-08-10T15:22:49.202Z"
   },
   {
    "duration": 19,
    "start_time": "2022-08-10T15:22:49.217Z"
   },
   {
    "duration": 4,
    "start_time": "2022-08-10T15:22:49.258Z"
   },
   {
    "duration": 9,
    "start_time": "2022-08-10T15:22:49.263Z"
   },
   {
    "duration": 12,
    "start_time": "2022-08-10T15:22:49.274Z"
   },
   {
    "duration": 7,
    "start_time": "2022-08-10T15:22:49.288Z"
   },
   {
    "duration": 12,
    "start_time": "2022-08-10T15:22:49.297Z"
   },
   {
    "duration": 9,
    "start_time": "2022-08-10T15:22:49.310Z"
   },
   {
    "duration": 55,
    "start_time": "2022-08-10T15:22:49.321Z"
   },
   {
    "duration": 3,
    "start_time": "2022-08-10T15:22:49.378Z"
   },
   {
    "duration": 6,
    "start_time": "2022-08-10T15:22:49.382Z"
   },
   {
    "duration": 3,
    "start_time": "2022-08-10T15:22:49.390Z"
   },
   {
    "duration": 8,
    "start_time": "2022-08-10T15:22:49.395Z"
   },
   {
    "duration": 2,
    "start_time": "2022-08-10T15:22:49.405Z"
   },
   {
    "duration": 10,
    "start_time": "2022-08-10T15:22:49.408Z"
   },
   {
    "duration": 7,
    "start_time": "2022-08-10T15:22:49.419Z"
   },
   {
    "duration": 6,
    "start_time": "2022-08-10T15:22:49.457Z"
   },
   {
    "duration": 11,
    "start_time": "2022-08-10T15:22:49.465Z"
   },
   {
    "duration": 9,
    "start_time": "2022-08-10T15:22:49.478Z"
   },
   {
    "duration": 12,
    "start_time": "2022-08-10T15:22:49.488Z"
   },
   {
    "duration": 12,
    "start_time": "2022-08-10T15:22:49.501Z"
   },
   {
    "duration": 6,
    "start_time": "2022-08-10T15:22:49.514Z"
   },
   {
    "duration": 13,
    "start_time": "2022-08-10T15:22:49.557Z"
   },
   {
    "duration": 16,
    "start_time": "2022-08-10T15:22:49.572Z"
   },
   {
    "duration": 14,
    "start_time": "2022-08-10T15:22:49.590Z"
   },
   {
    "duration": 5,
    "start_time": "2022-08-10T15:22:49.606Z"
   },
   {
    "duration": 55,
    "start_time": "2022-08-10T15:22:49.613Z"
   },
   {
    "duration": 27,
    "start_time": "2022-08-10T15:22:49.671Z"
   },
   {
    "duration": 9,
    "start_time": "2022-08-10T15:22:49.700Z"
   },
   {
    "duration": 7,
    "start_time": "2022-08-10T15:22:49.711Z"
   },
   {
    "duration": 8,
    "start_time": "2022-08-10T15:22:49.720Z"
   },
   {
    "duration": 62,
    "start_time": "2022-08-10T15:22:49.729Z"
   },
   {
    "duration": 2,
    "start_time": "2022-08-10T15:22:49.793Z"
   },
   {
    "duration": 11,
    "start_time": "2022-08-10T15:22:49.796Z"
   },
   {
    "duration": 5,
    "start_time": "2022-08-10T15:22:49.808Z"
   },
   {
    "duration": 4,
    "start_time": "2022-08-10T15:22:49.815Z"
   },
   {
    "duration": 5,
    "start_time": "2022-08-10T15:22:49.820Z"
   },
   {
    "duration": 10,
    "start_time": "2022-08-10T15:22:49.826Z"
   },
   {
    "duration": 22,
    "start_time": "2022-08-10T15:22:49.838Z"
   },
   {
    "duration": 24,
    "start_time": "2022-08-10T15:22:49.862Z"
   },
   {
    "duration": 14,
    "start_time": "2022-08-10T15:22:49.888Z"
   },
   {
    "duration": 5,
    "start_time": "2022-08-10T15:22:49.903Z"
   },
   {
    "duration": 4,
    "start_time": "2022-08-10T15:22:49.910Z"
   },
   {
    "duration": 5,
    "start_time": "2022-08-10T15:22:49.915Z"
   },
   {
    "duration": 6,
    "start_time": "2022-08-10T15:22:49.921Z"
   },
   {
    "duration": 15,
    "start_time": "2022-08-10T15:22:49.929Z"
   },
   {
    "duration": 7,
    "start_time": "2022-08-10T15:22:49.958Z"
   },
   {
    "duration": 19,
    "start_time": "2022-08-10T15:22:49.967Z"
   },
   {
    "duration": 965,
    "start_time": "2022-08-10T15:22:49.988Z"
   },
   {
    "duration": 3,
    "start_time": "2022-08-10T15:22:50.955Z"
   },
   {
    "duration": 24,
    "start_time": "2022-08-10T15:22:50.960Z"
   },
   {
    "duration": 2948,
    "start_time": "2022-08-10T15:22:50.985Z"
   },
   {
    "duration": 8,
    "start_time": "2022-08-10T15:22:53.934Z"
   },
   {
    "duration": 18,
    "start_time": "2022-08-10T15:22:53.943Z"
   },
   {
    "duration": 10,
    "start_time": "2022-08-10T15:22:53.963Z"
   },
   {
    "duration": 37,
    "start_time": "2022-08-10T15:22:53.975Z"
   },
   {
    "duration": 4,
    "start_time": "2022-08-10T15:22:54.014Z"
   },
   {
    "duration": 7,
    "start_time": "2022-08-10T15:22:54.019Z"
   },
   {
    "duration": 33,
    "start_time": "2022-08-10T15:22:54.028Z"
   },
   {
    "duration": 6,
    "start_time": "2022-08-10T15:22:54.063Z"
   },
   {
    "duration": 9,
    "start_time": "2022-08-10T15:22:54.070Z"
   },
   {
    "duration": 4,
    "start_time": "2022-08-10T15:22:54.081Z"
   },
   {
    "duration": 29,
    "start_time": "2022-08-10T15:22:54.087Z"
   },
   {
    "duration": 7,
    "start_time": "2022-08-10T15:22:54.117Z"
   },
   {
    "duration": 6,
    "start_time": "2022-08-10T15:22:54.126Z"
   },
   {
    "duration": 0,
    "start_time": "2022-08-10T15:22:54.133Z"
   },
   {
    "duration": 0,
    "start_time": "2022-08-10T15:22:54.157Z"
   },
   {
    "duration": 0,
    "start_time": "2022-08-10T15:22:54.158Z"
   },
   {
    "duration": 0,
    "start_time": "2022-08-10T15:22:54.159Z"
   },
   {
    "duration": 0,
    "start_time": "2022-08-10T15:22:54.160Z"
   },
   {
    "duration": 0,
    "start_time": "2022-08-10T15:22:54.161Z"
   },
   {
    "duration": 0,
    "start_time": "2022-08-10T15:22:54.162Z"
   },
   {
    "duration": 0,
    "start_time": "2022-08-10T15:22:54.162Z"
   },
   {
    "duration": 119,
    "start_time": "2022-08-10T15:23:01.150Z"
   },
   {
    "duration": 12,
    "start_time": "2022-08-10T15:23:23.774Z"
   },
   {
    "duration": 17,
    "start_time": "2022-08-10T15:23:32.896Z"
   },
   {
    "duration": 6,
    "start_time": "2022-08-10T15:23:33.262Z"
   },
   {
    "duration": 8,
    "start_time": "2022-08-10T15:23:33.896Z"
   },
   {
    "duration": 7,
    "start_time": "2022-08-10T16:04:20.797Z"
   },
   {
    "duration": 6,
    "start_time": "2022-08-10T16:05:08.540Z"
   },
   {
    "duration": 9,
    "start_time": "2022-08-10T16:06:28.827Z"
   },
   {
    "duration": 6,
    "start_time": "2022-08-10T16:06:34.290Z"
   },
   {
    "duration": 9,
    "start_time": "2022-08-10T16:06:34.978Z"
   },
   {
    "duration": 48,
    "start_time": "2022-08-10T16:06:50.232Z"
   },
   {
    "duration": 7,
    "start_time": "2022-08-10T16:07:36.787Z"
   },
   {
    "duration": 6,
    "start_time": "2022-08-10T16:07:37.546Z"
   },
   {
    "duration": 476,
    "start_time": "2022-08-10T16:07:47.660Z"
   },
   {
    "duration": 3,
    "start_time": "2022-08-10T16:07:48.138Z"
   },
   {
    "duration": 23,
    "start_time": "2022-08-10T16:07:48.143Z"
   },
   {
    "duration": 14,
    "start_time": "2022-08-10T16:07:48.167Z"
   },
   {
    "duration": 9,
    "start_time": "2022-08-10T16:07:48.182Z"
   },
   {
    "duration": 14,
    "start_time": "2022-08-10T16:07:48.192Z"
   },
   {
    "duration": 9,
    "start_time": "2022-08-10T16:07:48.208Z"
   },
   {
    "duration": 12,
    "start_time": "2022-08-10T16:07:48.219Z"
   },
   {
    "duration": 11,
    "start_time": "2022-08-10T16:07:48.257Z"
   },
   {
    "duration": 13,
    "start_time": "2022-08-10T16:07:48.269Z"
   },
   {
    "duration": 17,
    "start_time": "2022-08-10T16:07:48.283Z"
   },
   {
    "duration": 14,
    "start_time": "2022-08-10T16:07:48.301Z"
   },
   {
    "duration": 6,
    "start_time": "2022-08-10T16:07:48.317Z"
   },
   {
    "duration": 33,
    "start_time": "2022-08-10T16:07:48.325Z"
   },
   {
    "duration": 27,
    "start_time": "2022-08-10T16:07:48.359Z"
   },
   {
    "duration": 26,
    "start_time": "2022-08-10T16:07:48.388Z"
   },
   {
    "duration": 53,
    "start_time": "2022-08-10T16:07:48.416Z"
   },
   {
    "duration": 7,
    "start_time": "2022-08-10T16:07:48.471Z"
   },
   {
    "duration": 13,
    "start_time": "2022-08-10T16:07:48.479Z"
   },
   {
    "duration": 11,
    "start_time": "2022-08-10T16:07:48.493Z"
   },
   {
    "duration": 8,
    "start_time": "2022-08-10T16:07:48.506Z"
   },
   {
    "duration": 18,
    "start_time": "2022-08-10T16:07:48.515Z"
   },
   {
    "duration": 45,
    "start_time": "2022-08-10T16:07:48.534Z"
   },
   {
    "duration": 5,
    "start_time": "2022-08-10T16:07:48.581Z"
   },
   {
    "duration": 10,
    "start_time": "2022-08-10T16:07:48.588Z"
   },
   {
    "duration": 14,
    "start_time": "2022-08-10T16:07:48.600Z"
   },
   {
    "duration": 16,
    "start_time": "2022-08-10T16:07:48.616Z"
   },
   {
    "duration": 25,
    "start_time": "2022-08-10T16:07:48.633Z"
   },
   {
    "duration": 7,
    "start_time": "2022-08-10T16:07:48.660Z"
   },
   {
    "duration": 56,
    "start_time": "2022-08-10T16:07:48.668Z"
   },
   {
    "duration": 3,
    "start_time": "2022-08-10T16:07:48.725Z"
   },
   {
    "duration": 23,
    "start_time": "2022-08-10T16:07:48.730Z"
   },
   {
    "duration": 8,
    "start_time": "2022-08-10T16:07:48.754Z"
   },
   {
    "duration": 14,
    "start_time": "2022-08-10T16:07:48.764Z"
   },
   {
    "duration": 5,
    "start_time": "2022-08-10T16:07:48.779Z"
   },
   {
    "duration": 11,
    "start_time": "2022-08-10T16:07:48.786Z"
   },
   {
    "duration": 12,
    "start_time": "2022-08-10T16:07:48.799Z"
   },
   {
    "duration": 29,
    "start_time": "2022-08-10T16:07:48.813Z"
   },
   {
    "duration": 14,
    "start_time": "2022-08-10T16:07:48.844Z"
   },
   {
    "duration": 22,
    "start_time": "2022-08-10T16:07:48.859Z"
   },
   {
    "duration": 8,
    "start_time": "2022-08-10T16:07:48.886Z"
   },
   {
    "duration": 7,
    "start_time": "2022-08-10T16:07:48.896Z"
   },
   {
    "duration": 2100,
    "start_time": "2022-08-10T16:07:48.904Z"
   },
   {
    "duration": 36,
    "start_time": "2022-08-10T16:07:51.005Z"
   },
   {
    "duration": 15,
    "start_time": "2022-08-10T16:07:51.042Z"
   },
   {
    "duration": 48,
    "start_time": "2022-08-10T16:07:51.059Z"
   },
   {
    "duration": 6,
    "start_time": "2022-08-10T16:07:51.109Z"
   },
   {
    "duration": 9,
    "start_time": "2022-08-10T16:07:51.116Z"
   },
   {
    "duration": 7,
    "start_time": "2022-08-10T16:07:51.126Z"
   },
   {
    "duration": 8,
    "start_time": "2022-08-10T16:07:51.134Z"
   },
   {
    "duration": 18,
    "start_time": "2022-08-10T16:07:51.143Z"
   },
   {
    "duration": 9,
    "start_time": "2022-08-10T16:07:51.163Z"
   },
   {
    "duration": 9,
    "start_time": "2022-08-10T16:07:51.173Z"
   },
   {
    "duration": 29,
    "start_time": "2022-08-10T16:07:51.184Z"
   },
   {
    "duration": 21,
    "start_time": "2022-08-10T16:07:51.215Z"
   },
   {
    "duration": 24,
    "start_time": "2022-08-10T16:07:51.257Z"
   },
   {
    "duration": 13,
    "start_time": "2022-08-10T16:07:51.283Z"
   },
   {
    "duration": 39,
    "start_time": "2022-08-10T16:07:51.297Z"
   },
   {
    "duration": 34,
    "start_time": "2022-08-10T16:07:51.338Z"
   },
   {
    "duration": 17,
    "start_time": "2022-08-10T16:07:51.373Z"
   },
   {
    "duration": 26,
    "start_time": "2022-08-10T16:07:51.392Z"
   },
   {
    "duration": 4,
    "start_time": "2022-08-10T16:07:51.420Z"
   },
   {
    "duration": 10,
    "start_time": "2022-08-10T16:07:51.426Z"
   },
   {
    "duration": 20,
    "start_time": "2022-08-10T16:07:51.437Z"
   },
   {
    "duration": 7,
    "start_time": "2022-08-10T16:07:51.459Z"
   },
   {
    "duration": 12,
    "start_time": "2022-08-10T16:07:51.468Z"
   },
   {
    "duration": 13,
    "start_time": "2022-08-10T16:07:51.482Z"
   },
   {
    "duration": 28,
    "start_time": "2022-08-10T16:07:51.497Z"
   },
   {
    "duration": 3,
    "start_time": "2022-08-10T16:07:51.526Z"
   },
   {
    "duration": 11,
    "start_time": "2022-08-10T16:07:51.530Z"
   },
   {
    "duration": 2,
    "start_time": "2022-08-10T16:07:51.558Z"
   },
   {
    "duration": 11,
    "start_time": "2022-08-10T16:07:51.561Z"
   },
   {
    "duration": 8,
    "start_time": "2022-08-10T16:07:51.574Z"
   },
   {
    "duration": 12,
    "start_time": "2022-08-10T16:07:51.584Z"
   },
   {
    "duration": 17,
    "start_time": "2022-08-10T16:07:51.597Z"
   },
   {
    "duration": 14,
    "start_time": "2022-08-10T16:07:51.615Z"
   },
   {
    "duration": 8,
    "start_time": "2022-08-10T16:07:51.631Z"
   },
   {
    "duration": 10,
    "start_time": "2022-08-10T16:07:51.641Z"
   },
   {
    "duration": 12,
    "start_time": "2022-08-10T16:07:51.653Z"
   },
   {
    "duration": 14,
    "start_time": "2022-08-10T16:07:51.666Z"
   },
   {
    "duration": 5,
    "start_time": "2022-08-10T16:07:51.682Z"
   },
   {
    "duration": 14,
    "start_time": "2022-08-10T16:07:51.688Z"
   },
   {
    "duration": 14,
    "start_time": "2022-08-10T16:07:51.704Z"
   },
   {
    "duration": 38,
    "start_time": "2022-08-10T16:07:51.720Z"
   },
   {
    "duration": 4,
    "start_time": "2022-08-10T16:07:51.759Z"
   },
   {
    "duration": 30,
    "start_time": "2022-08-10T16:07:51.764Z"
   },
   {
    "duration": 23,
    "start_time": "2022-08-10T16:07:51.795Z"
   },
   {
    "duration": 17,
    "start_time": "2022-08-10T16:07:51.819Z"
   },
   {
    "duration": 12,
    "start_time": "2022-08-10T16:07:51.838Z"
   },
   {
    "duration": 17,
    "start_time": "2022-08-10T16:07:51.851Z"
   },
   {
    "duration": 29,
    "start_time": "2022-08-10T16:07:51.870Z"
   },
   {
    "duration": 2,
    "start_time": "2022-08-10T16:07:51.901Z"
   },
   {
    "duration": 21,
    "start_time": "2022-08-10T16:07:51.905Z"
   },
   {
    "duration": 9,
    "start_time": "2022-08-10T16:07:51.927Z"
   },
   {
    "duration": 6,
    "start_time": "2022-08-10T16:07:51.938Z"
   },
   {
    "duration": 6,
    "start_time": "2022-08-10T16:07:51.945Z"
   },
   {
    "duration": 12,
    "start_time": "2022-08-10T16:07:51.953Z"
   },
   {
    "duration": 11,
    "start_time": "2022-08-10T16:07:51.966Z"
   },
   {
    "duration": 19,
    "start_time": "2022-08-10T16:07:51.979Z"
   },
   {
    "duration": 12,
    "start_time": "2022-08-10T16:07:51.999Z"
   },
   {
    "duration": 5,
    "start_time": "2022-08-10T16:07:52.013Z"
   },
   {
    "duration": 7,
    "start_time": "2022-08-10T16:07:52.020Z"
   },
   {
    "duration": 10,
    "start_time": "2022-08-10T16:07:52.028Z"
   },
   {
    "duration": 18,
    "start_time": "2022-08-10T16:07:52.040Z"
   },
   {
    "duration": 21,
    "start_time": "2022-08-10T16:07:52.060Z"
   },
   {
    "duration": 5,
    "start_time": "2022-08-10T16:07:52.083Z"
   },
   {
    "duration": 6,
    "start_time": "2022-08-10T16:07:52.090Z"
   },
   {
    "duration": 857,
    "start_time": "2022-08-10T16:07:52.097Z"
   },
   {
    "duration": 2,
    "start_time": "2022-08-10T16:07:52.957Z"
   },
   {
    "duration": 16,
    "start_time": "2022-08-10T16:07:52.960Z"
   },
   {
    "duration": 2864,
    "start_time": "2022-08-10T16:07:52.977Z"
   },
   {
    "duration": 7,
    "start_time": "2022-08-10T16:07:55.842Z"
   },
   {
    "duration": 10,
    "start_time": "2022-08-10T16:07:55.850Z"
   },
   {
    "duration": 9,
    "start_time": "2022-08-10T16:07:55.861Z"
   },
   {
    "duration": 37,
    "start_time": "2022-08-10T16:07:55.871Z"
   },
   {
    "duration": 4,
    "start_time": "2022-08-10T16:07:55.910Z"
   },
   {
    "duration": 6,
    "start_time": "2022-08-10T16:07:55.916Z"
   },
   {
    "duration": 37,
    "start_time": "2022-08-10T16:07:55.924Z"
   },
   {
    "duration": 9,
    "start_time": "2022-08-10T16:07:55.963Z"
   },
   {
    "duration": 10,
    "start_time": "2022-08-10T16:07:55.974Z"
   },
   {
    "duration": 7,
    "start_time": "2022-08-10T16:07:55.985Z"
   },
   {
    "duration": 23,
    "start_time": "2022-08-10T16:07:55.999Z"
   },
   {
    "duration": 7,
    "start_time": "2022-08-10T16:07:56.024Z"
   },
   {
    "duration": 7,
    "start_time": "2022-08-10T16:07:56.033Z"
   },
   {
    "duration": 1,
    "start_time": "2022-08-10T16:07:56.056Z"
   },
   {
    "duration": 0,
    "start_time": "2022-08-10T16:07:56.058Z"
   },
   {
    "duration": 0,
    "start_time": "2022-08-10T16:07:56.061Z"
   },
   {
    "duration": 0,
    "start_time": "2022-08-10T16:07:56.062Z"
   },
   {
    "duration": 0,
    "start_time": "2022-08-10T16:07:56.063Z"
   },
   {
    "duration": 0,
    "start_time": "2022-08-10T16:07:56.065Z"
   },
   {
    "duration": 0,
    "start_time": "2022-08-10T16:07:56.066Z"
   },
   {
    "duration": 1,
    "start_time": "2022-08-10T16:07:56.067Z"
   },
   {
    "duration": 0,
    "start_time": "2022-08-10T16:07:56.069Z"
   },
   {
    "duration": 0,
    "start_time": "2022-08-10T16:07:56.069Z"
   },
   {
    "duration": 0,
    "start_time": "2022-08-10T16:07:56.070Z"
   },
   {
    "duration": 112,
    "start_time": "2022-08-10T16:08:22.169Z"
   },
   {
    "duration": 16,
    "start_time": "2022-08-10T16:08:26.418Z"
   },
   {
    "duration": 9,
    "start_time": "2022-08-10T16:08:29.630Z"
   },
   {
    "duration": 10,
    "start_time": "2022-08-10T16:08:33.177Z"
   },
   {
    "duration": 5,
    "start_time": "2022-08-10T16:08:40.106Z"
   },
   {
    "duration": 12,
    "start_time": "2022-08-10T16:08:46.331Z"
   },
   {
    "duration": 6,
    "start_time": "2022-08-10T16:08:47.243Z"
   },
   {
    "duration": 7,
    "start_time": "2022-08-10T16:08:47.420Z"
   },
   {
    "duration": 8,
    "start_time": "2022-08-10T16:08:49.891Z"
   },
   {
    "duration": 6,
    "start_time": "2022-08-10T16:08:50.551Z"
   },
   {
    "duration": 13,
    "start_time": "2022-08-10T16:08:51.486Z"
   },
   {
    "duration": 7,
    "start_time": "2022-08-10T16:08:52.195Z"
   },
   {
    "duration": 12,
    "start_time": "2022-08-10T16:09:47.537Z"
   },
   {
    "duration": 7,
    "start_time": "2022-08-10T16:09:48.109Z"
   },
   {
    "duration": 4,
    "start_time": "2022-08-10T16:15:17.730Z"
   },
   {
    "duration": 13,
    "start_time": "2022-08-10T16:15:21.248Z"
   },
   {
    "duration": 8,
    "start_time": "2022-08-10T16:15:30.770Z"
   },
   {
    "duration": 6,
    "start_time": "2022-08-10T16:16:38.719Z"
   },
   {
    "duration": 12,
    "start_time": "2022-08-10T16:17:22.392Z"
   },
   {
    "duration": 7,
    "start_time": "2022-08-10T16:18:38.343Z"
   },
   {
    "duration": 7,
    "start_time": "2022-08-10T16:18:53.966Z"
   },
   {
    "duration": 7,
    "start_time": "2022-08-10T16:18:57.935Z"
   },
   {
    "duration": 6,
    "start_time": "2022-08-10T16:19:08.576Z"
   },
   {
    "duration": 7,
    "start_time": "2022-08-10T16:34:17.146Z"
   },
   {
    "duration": 59,
    "start_time": "2022-08-10T16:38:01.309Z"
   },
   {
    "duration": 3,
    "start_time": "2022-08-10T16:38:14.138Z"
   },
   {
    "duration": 15,
    "start_time": "2022-08-10T16:39:01.715Z"
   },
   {
    "duration": 13,
    "start_time": "2022-08-10T16:39:08.469Z"
   },
   {
    "duration": 27,
    "start_time": "2022-08-10T17:01:34.652Z"
   },
   {
    "duration": 26,
    "start_time": "2022-08-10T17:01:37.310Z"
   },
   {
    "duration": 6,
    "start_time": "2022-08-10T17:02:58.535Z"
   },
   {
    "duration": 9,
    "start_time": "2022-08-10T17:03:05.115Z"
   },
   {
    "duration": 13,
    "start_time": "2022-08-10T17:03:05.709Z"
   },
   {
    "duration": 3,
    "start_time": "2022-08-10T17:05:03.889Z"
   },
   {
    "duration": 9,
    "start_time": "2022-08-10T17:05:06.621Z"
   },
   {
    "duration": 32,
    "start_time": "2022-08-10T17:05:08.823Z"
   },
   {
    "duration": 5,
    "start_time": "2022-08-10T17:05:37.172Z"
   },
   {
    "duration": 4,
    "start_time": "2022-08-10T17:05:37.870Z"
   },
   {
    "duration": 4,
    "start_time": "2022-08-10T17:05:38.597Z"
   },
   {
    "duration": 12,
    "start_time": "2022-08-10T17:06:24.481Z"
   },
   {
    "duration": 11,
    "start_time": "2022-08-10T17:06:25.845Z"
   },
   {
    "duration": 5,
    "start_time": "2022-08-10T17:16:16.502Z"
   },
   {
    "duration": 4,
    "start_time": "2022-08-10T17:17:40.773Z"
   },
   {
    "duration": 9,
    "start_time": "2022-08-10T17:17:43.843Z"
   },
   {
    "duration": 6,
    "start_time": "2022-08-10T17:17:47.053Z"
   },
   {
    "duration": 14,
    "start_time": "2022-08-10T17:22:41.121Z"
   },
   {
    "duration": 897,
    "start_time": "2022-08-10T17:22:46.922Z"
   },
   {
    "duration": 58,
    "start_time": "2022-08-10T17:23:06.354Z"
   },
   {
    "duration": 3,
    "start_time": "2022-08-10T17:23:06.759Z"
   },
   {
    "duration": 14,
    "start_time": "2022-08-10T17:23:06.968Z"
   },
   {
    "duration": 21,
    "start_time": "2022-08-10T17:23:07.372Z"
   },
   {
    "duration": 9,
    "start_time": "2022-08-10T17:23:07.757Z"
   },
   {
    "duration": 10,
    "start_time": "2022-08-10T17:23:08.540Z"
   },
   {
    "duration": 9,
    "start_time": "2022-08-10T17:23:08.785Z"
   },
   {
    "duration": 11,
    "start_time": "2022-08-10T17:23:08.971Z"
   },
   {
    "duration": 15,
    "start_time": "2022-08-10T17:23:09.428Z"
   },
   {
    "duration": 11,
    "start_time": "2022-08-10T17:23:11.014Z"
   },
   {
    "duration": 14,
    "start_time": "2022-08-10T17:23:11.378Z"
   },
   {
    "duration": 16,
    "start_time": "2022-08-10T17:23:12.534Z"
   },
   {
    "duration": 7,
    "start_time": "2022-08-10T17:23:14.263Z"
   },
   {
    "duration": 9,
    "start_time": "2022-08-10T17:23:14.614Z"
   },
   {
    "duration": 33,
    "start_time": "2022-08-10T17:23:24.113Z"
   },
   {
    "duration": 33,
    "start_time": "2022-08-10T17:23:25.299Z"
   },
   {
    "duration": 28,
    "start_time": "2022-08-10T17:23:27.482Z"
   },
   {
    "duration": 9,
    "start_time": "2022-08-10T17:23:28.060Z"
   },
   {
    "duration": 9,
    "start_time": "2022-08-10T17:23:28.786Z"
   },
   {
    "duration": 12,
    "start_time": "2022-08-10T17:23:32.533Z"
   },
   {
    "duration": 3,
    "start_time": "2022-08-10T17:23:37.843Z"
   },
   {
    "duration": 10,
    "start_time": "2022-08-10T17:23:42.898Z"
   },
   {
    "duration": 33,
    "start_time": "2022-08-10T17:23:43.103Z"
   },
   {
    "duration": 5,
    "start_time": "2022-08-10T17:23:43.791Z"
   },
   {
    "duration": 4,
    "start_time": "2022-08-10T17:23:44.033Z"
   },
   {
    "duration": 4,
    "start_time": "2022-08-10T17:23:44.258Z"
   },
   {
    "duration": 11,
    "start_time": "2022-08-10T17:23:45.359Z"
   },
   {
    "duration": 11,
    "start_time": "2022-08-10T17:23:45.824Z"
   },
   {
    "duration": 2,
    "start_time": "2022-08-10T17:23:46.025Z"
   },
   {
    "duration": 48,
    "start_time": "2022-08-10T17:23:46.222Z"
   },
   {
    "duration": 4,
    "start_time": "2022-08-10T17:23:47.108Z"
   },
   {
    "duration": 10,
    "start_time": "2022-08-10T17:23:47.791Z"
   },
   {
    "duration": 5,
    "start_time": "2022-08-10T17:23:48.033Z"
   },
   {
    "duration": 8,
    "start_time": "2022-08-10T17:23:48.457Z"
   },
   {
    "duration": 5,
    "start_time": "2022-08-10T17:23:49.638Z"
   },
   {
    "duration": 5,
    "start_time": "2022-08-10T17:23:51.093Z"
   },
   {
    "duration": 6,
    "start_time": "2022-08-10T17:23:51.652Z"
   },
   {
    "duration": 7,
    "start_time": "2022-08-10T17:23:53.495Z"
   },
   {
    "duration": 4,
    "start_time": "2022-08-10T17:23:54.620Z"
   },
   {
    "duration": 6,
    "start_time": "2022-08-10T17:23:54.883Z"
   },
   {
    "duration": 8,
    "start_time": "2022-08-10T17:23:56.208Z"
   },
   {
    "duration": 7,
    "start_time": "2022-08-10T17:23:57.297Z"
   },
   {
    "duration": 2108,
    "start_time": "2022-08-10T17:24:03.560Z"
   },
   {
    "duration": 1945,
    "start_time": "2022-08-10T17:24:18.054Z"
   },
   {
    "duration": 35,
    "start_time": "2022-08-10T17:24:23.919Z"
   },
   {
    "duration": 5,
    "start_time": "2022-08-10T17:26:15.950Z"
   },
   {
    "duration": 34,
    "start_time": "2022-08-10T17:26:17.917Z"
   },
   {
    "duration": 6,
    "start_time": "2022-08-10T17:26:35.849Z"
   },
   {
    "duration": 6,
    "start_time": "2022-08-10T17:27:59.691Z"
   },
   {
    "duration": 4,
    "start_time": "2022-08-10T17:28:10.102Z"
   },
   {
    "duration": 19,
    "start_time": "2022-08-10T17:38:40.359Z"
   },
   {
    "duration": 4,
    "start_time": "2022-08-10T17:46:59.779Z"
   },
   {
    "duration": 4,
    "start_time": "2022-08-10T17:47:00.335Z"
   },
   {
    "duration": 10,
    "start_time": "2022-08-10T17:47:01.528Z"
   },
   {
    "duration": 7,
    "start_time": "2022-08-10T17:47:14.239Z"
   },
   {
    "duration": 11,
    "start_time": "2022-08-10T17:47:17.958Z"
   },
   {
    "duration": 7,
    "start_time": "2022-08-10T17:47:20.545Z"
   },
   {
    "duration": 4,
    "start_time": "2022-08-10T17:49:27.824Z"
   },
   {
    "duration": 4,
    "start_time": "2022-08-10T17:49:29.491Z"
   },
   {
    "duration": 11,
    "start_time": "2022-08-10T17:49:31.190Z"
   },
   {
    "duration": 8,
    "start_time": "2022-08-10T17:49:32.258Z"
   },
   {
    "duration": 6,
    "start_time": "2022-08-10T17:55:12.772Z"
   },
   {
    "duration": 6,
    "start_time": "2022-08-10T17:57:26.150Z"
   },
   {
    "duration": 10,
    "start_time": "2022-08-10T17:59:01.749Z"
   },
   {
    "duration": 24,
    "start_time": "2022-08-10T17:59:01.762Z"
   },
   {
    "duration": 12,
    "start_time": "2022-08-10T17:59:01.996Z"
   },
   {
    "duration": 13,
    "start_time": "2022-08-10T18:02:31.773Z"
   },
   {
    "duration": 14,
    "start_time": "2022-08-10T18:03:23.069Z"
   },
   {
    "duration": 6,
    "start_time": "2022-08-10T18:07:53.042Z"
   },
   {
    "duration": 8,
    "start_time": "2022-08-10T18:07:53.873Z"
   },
   {
    "duration": 30,
    "start_time": "2022-08-10T18:09:16.541Z"
   },
   {
    "duration": 20,
    "start_time": "2022-08-10T18:41:50.373Z"
   },
   {
    "duration": 10,
    "start_time": "2022-08-10T18:51:12.172Z"
   },
   {
    "duration": 16,
    "start_time": "2022-08-10T18:51:12.768Z"
   },
   {
    "duration": 30,
    "start_time": "2022-08-10T18:51:13.352Z"
   },
   {
    "duration": 6,
    "start_time": "2022-08-10T18:51:14.475Z"
   },
   {
    "duration": 16,
    "start_time": "2022-08-10T18:52:51.357Z"
   },
   {
    "duration": 4,
    "start_time": "2022-08-10T18:52:56.842Z"
   },
   {
    "duration": 3,
    "start_time": "2022-08-10T18:53:03.226Z"
   },
   {
    "duration": 7,
    "start_time": "2022-08-10T18:53:03.776Z"
   },
   {
    "duration": 4,
    "start_time": "2022-08-10T18:53:04.175Z"
   },
   {
    "duration": 7,
    "start_time": "2022-08-10T18:53:05.669Z"
   },
   {
    "duration": 1967,
    "start_time": "2022-08-10T18:53:06.130Z"
   },
   {
    "duration": 7,
    "start_time": "2022-08-10T18:53:09.011Z"
   },
   {
    "duration": 6,
    "start_time": "2022-08-10T18:53:25.092Z"
   },
   {
    "duration": 7,
    "start_time": "2022-08-10T18:53:37.134Z"
   },
   {
    "duration": 6,
    "start_time": "2022-08-10T18:56:04.192Z"
   },
   {
    "duration": 3,
    "start_time": "2022-08-10T19:16:20.390Z"
   },
   {
    "duration": 3,
    "start_time": "2022-08-10T19:16:21.330Z"
   },
   {
    "duration": 832,
    "start_time": "2022-08-10T19:17:36.746Z"
   },
   {
    "duration": 10,
    "start_time": "2022-08-10T19:17:48.806Z"
   },
   {
    "duration": 6,
    "start_time": "2022-08-10T19:17:49.826Z"
   },
   {
    "duration": 6,
    "start_time": "2022-08-10T19:17:56.612Z"
   },
   {
    "duration": 5,
    "start_time": "2022-08-10T19:18:15.579Z"
   },
   {
    "duration": 5,
    "start_time": "2022-08-10T19:18:50.708Z"
   },
   {
    "duration": 8,
    "start_time": "2022-08-10T19:18:51.192Z"
   },
   {
    "duration": 14,
    "start_time": "2022-08-10T19:18:52.293Z"
   },
   {
    "duration": 11,
    "start_time": "2022-08-10T19:19:33.649Z"
   },
   {
    "duration": 8,
    "start_time": "2022-08-10T19:19:35.154Z"
   },
   {
    "duration": 9,
    "start_time": "2022-08-10T19:20:41.918Z"
   },
   {
    "duration": 15,
    "start_time": "2022-08-10T19:20:48.243Z"
   },
   {
    "duration": 8,
    "start_time": "2022-08-10T19:23:49.233Z"
   },
   {
    "duration": 11,
    "start_time": "2022-08-10T19:23:49.929Z"
   },
   {
    "duration": 6,
    "start_time": "2022-08-10T19:23:50.728Z"
   },
   {
    "duration": 7,
    "start_time": "2022-08-10T19:23:51.780Z"
   },
   {
    "duration": 8,
    "start_time": "2022-08-10T19:24:20.466Z"
   },
   {
    "duration": 5,
    "start_time": "2022-08-10T19:24:30.029Z"
   },
   {
    "duration": 12,
    "start_time": "2022-08-10T19:24:33.192Z"
   },
   {
    "duration": 6,
    "start_time": "2022-08-10T19:24:36.567Z"
   },
   {
    "duration": 7,
    "start_time": "2022-08-10T19:24:50.643Z"
   },
   {
    "duration": 8,
    "start_time": "2022-08-10T19:24:54.656Z"
   },
   {
    "duration": 5,
    "start_time": "2022-08-10T19:24:55.369Z"
   },
   {
    "duration": 12,
    "start_time": "2022-08-10T19:24:56.058Z"
   },
   {
    "duration": 7,
    "start_time": "2022-08-10T19:24:57.325Z"
   },
   {
    "duration": 6,
    "start_time": "2022-08-10T19:25:53.987Z"
   },
   {
    "duration": 9,
    "start_time": "2022-08-10T19:26:57.263Z"
   },
   {
    "duration": 9,
    "start_time": "2022-08-10T19:27:34.732Z"
   },
   {
    "duration": 440,
    "start_time": "2022-08-10T19:37:38.919Z"
   },
   {
    "duration": 4,
    "start_time": "2022-08-10T19:37:39.360Z"
   },
   {
    "duration": 24,
    "start_time": "2022-08-10T19:37:39.365Z"
   },
   {
    "duration": 15,
    "start_time": "2022-08-10T19:37:39.390Z"
   },
   {
    "duration": 8,
    "start_time": "2022-08-10T19:37:39.406Z"
   },
   {
    "duration": 11,
    "start_time": "2022-08-10T19:37:39.416Z"
   },
   {
    "duration": 10,
    "start_time": "2022-08-10T19:37:39.457Z"
   },
   {
    "duration": 15,
    "start_time": "2022-08-10T19:37:39.468Z"
   },
   {
    "duration": 12,
    "start_time": "2022-08-10T19:37:39.484Z"
   },
   {
    "duration": 8,
    "start_time": "2022-08-10T19:37:39.498Z"
   },
   {
    "duration": 11,
    "start_time": "2022-08-10T19:37:39.508Z"
   },
   {
    "duration": 43,
    "start_time": "2022-08-10T19:37:39.521Z"
   },
   {
    "duration": 6,
    "start_time": "2022-08-10T19:37:39.566Z"
   },
   {
    "duration": 9,
    "start_time": "2022-08-10T19:37:39.574Z"
   },
   {
    "duration": 35,
    "start_time": "2022-08-10T19:37:39.584Z"
   },
   {
    "duration": 53,
    "start_time": "2022-08-10T19:37:39.621Z"
   },
   {
    "duration": 20,
    "start_time": "2022-08-10T19:37:39.676Z"
   },
   {
    "duration": 8,
    "start_time": "2022-08-10T19:37:39.698Z"
   },
   {
    "duration": 15,
    "start_time": "2022-08-10T19:37:39.707Z"
   },
   {
    "duration": 38,
    "start_time": "2022-08-10T19:37:39.724Z"
   },
   {
    "duration": 6,
    "start_time": "2022-08-10T19:37:39.764Z"
   },
   {
    "duration": 10,
    "start_time": "2022-08-10T19:37:39.771Z"
   },
   {
    "duration": 32,
    "start_time": "2022-08-10T19:37:39.783Z"
   },
   {
    "duration": 5,
    "start_time": "2022-08-10T19:37:39.817Z"
   },
   {
    "duration": 7,
    "start_time": "2022-08-10T19:37:39.824Z"
   },
   {
    "duration": 3,
    "start_time": "2022-08-10T19:37:39.857Z"
   },
   {
    "duration": 10,
    "start_time": "2022-08-10T19:37:39.862Z"
   },
   {
    "duration": 10,
    "start_time": "2022-08-10T19:37:39.876Z"
   },
   {
    "duration": 6,
    "start_time": "2022-08-10T19:37:39.887Z"
   },
   {
    "duration": 63,
    "start_time": "2022-08-10T19:37:39.894Z"
   },
   {
    "duration": 4,
    "start_time": "2022-08-10T19:37:39.959Z"
   },
   {
    "duration": 11,
    "start_time": "2022-08-10T19:37:39.964Z"
   },
   {
    "duration": 8,
    "start_time": "2022-08-10T19:37:39.976Z"
   },
   {
    "duration": 8,
    "start_time": "2022-08-10T19:37:39.986Z"
   },
   {
    "duration": 6,
    "start_time": "2022-08-10T19:37:39.996Z"
   },
   {
    "duration": 7,
    "start_time": "2022-08-10T19:37:40.003Z"
   },
   {
    "duration": 16,
    "start_time": "2022-08-10T19:37:40.012Z"
   },
   {
    "duration": 13,
    "start_time": "2022-08-10T19:37:40.029Z"
   },
   {
    "duration": 3,
    "start_time": "2022-08-10T19:37:40.058Z"
   },
   {
    "duration": 14,
    "start_time": "2022-08-10T19:37:40.062Z"
   },
   {
    "duration": 8,
    "start_time": "2022-08-10T19:37:40.077Z"
   },
   {
    "duration": 6,
    "start_time": "2022-08-10T19:37:40.087Z"
   },
   {
    "duration": 1978,
    "start_time": "2022-08-10T19:37:40.095Z"
   },
   {
    "duration": 40,
    "start_time": "2022-08-10T19:37:42.074Z"
   },
   {
    "duration": 4,
    "start_time": "2022-08-10T19:37:42.116Z"
   },
   {
    "duration": 51,
    "start_time": "2022-08-10T19:37:42.121Z"
   },
   {
    "duration": 5,
    "start_time": "2022-08-10T19:37:42.174Z"
   },
   {
    "duration": 6,
    "start_time": "2022-08-10T19:37:42.181Z"
   },
   {
    "duration": 5,
    "start_time": "2022-08-10T19:37:42.189Z"
   },
   {
    "duration": 8,
    "start_time": "2022-08-10T19:37:42.195Z"
   },
   {
    "duration": 7,
    "start_time": "2022-08-10T19:37:42.205Z"
   },
   {
    "duration": 12,
    "start_time": "2022-08-10T19:37:42.213Z"
   },
   {
    "duration": 9,
    "start_time": "2022-08-10T19:37:42.226Z"
   },
   {
    "duration": 26,
    "start_time": "2022-08-10T19:37:42.258Z"
   },
   {
    "duration": 19,
    "start_time": "2022-08-10T19:37:42.285Z"
   },
   {
    "duration": 19,
    "start_time": "2022-08-10T19:37:42.306Z"
   },
   {
    "duration": 38,
    "start_time": "2022-08-10T19:37:42.327Z"
   },
   {
    "duration": 36,
    "start_time": "2022-08-10T19:37:42.367Z"
   },
   {
    "duration": 14,
    "start_time": "2022-08-10T19:37:42.405Z"
   },
   {
    "duration": 13,
    "start_time": "2022-08-10T19:37:42.421Z"
   },
   {
    "duration": 31,
    "start_time": "2022-08-10T19:37:42.436Z"
   },
   {
    "duration": 4,
    "start_time": "2022-08-10T19:37:42.468Z"
   },
   {
    "duration": 9,
    "start_time": "2022-08-10T19:37:42.473Z"
   },
   {
    "duration": 14,
    "start_time": "2022-08-10T19:37:42.483Z"
   },
   {
    "duration": 8,
    "start_time": "2022-08-10T19:37:42.499Z"
   },
   {
    "duration": 11,
    "start_time": "2022-08-10T19:37:42.509Z"
   },
   {
    "duration": 11,
    "start_time": "2022-08-10T19:37:42.522Z"
   },
   {
    "duration": 40,
    "start_time": "2022-08-10T19:37:42.535Z"
   },
   {
    "duration": 2,
    "start_time": "2022-08-10T19:37:42.577Z"
   },
   {
    "duration": 7,
    "start_time": "2022-08-10T19:37:42.581Z"
   },
   {
    "duration": 6,
    "start_time": "2022-08-10T19:37:42.589Z"
   },
   {
    "duration": 8,
    "start_time": "2022-08-10T19:37:42.597Z"
   },
   {
    "duration": 4,
    "start_time": "2022-08-10T19:37:42.607Z"
   },
   {
    "duration": 8,
    "start_time": "2022-08-10T19:37:42.612Z"
   },
   {
    "duration": 6,
    "start_time": "2022-08-10T19:37:42.622Z"
   },
   {
    "duration": 31,
    "start_time": "2022-08-10T19:37:42.630Z"
   },
   {
    "duration": 9,
    "start_time": "2022-08-10T19:37:42.662Z"
   },
   {
    "duration": 10,
    "start_time": "2022-08-10T19:37:42.673Z"
   },
   {
    "duration": 12,
    "start_time": "2022-08-10T19:37:42.685Z"
   },
   {
    "duration": 12,
    "start_time": "2022-08-10T19:37:42.699Z"
   },
   {
    "duration": 5,
    "start_time": "2022-08-10T19:37:42.713Z"
   },
   {
    "duration": 14,
    "start_time": "2022-08-10T19:37:42.762Z"
   },
   {
    "duration": 15,
    "start_time": "2022-08-10T19:37:42.778Z"
   },
   {
    "duration": 7,
    "start_time": "2022-08-10T19:37:42.795Z"
   },
   {
    "duration": 16,
    "start_time": "2022-08-10T19:37:42.804Z"
   },
   {
    "duration": 37,
    "start_time": "2022-08-10T19:37:42.822Z"
   },
   {
    "duration": 9,
    "start_time": "2022-08-10T19:37:42.862Z"
   },
   {
    "duration": 13,
    "start_time": "2022-08-10T19:37:42.873Z"
   },
   {
    "duration": 24,
    "start_time": "2022-08-10T19:37:42.888Z"
   },
   {
    "duration": 7,
    "start_time": "2022-08-10T19:37:42.913Z"
   },
   {
    "duration": 7,
    "start_time": "2022-08-10T19:37:42.922Z"
   },
   {
    "duration": 51,
    "start_time": "2022-08-10T19:37:42.931Z"
   },
   {
    "duration": 11,
    "start_time": "2022-08-10T19:37:42.985Z"
   },
   {
    "duration": 19,
    "start_time": "2022-08-10T19:37:42.997Z"
   },
   {
    "duration": 6,
    "start_time": "2022-08-10T19:37:43.018Z"
   },
   {
    "duration": 6,
    "start_time": "2022-08-10T19:37:43.026Z"
   },
   {
    "duration": 863,
    "start_time": "2022-08-10T19:37:43.057Z"
   },
   {
    "duration": 3,
    "start_time": "2022-08-10T19:37:43.922Z"
   },
   {
    "duration": 9,
    "start_time": "2022-08-10T19:37:43.926Z"
   },
   {
    "duration": 2875,
    "start_time": "2022-08-10T19:37:43.937Z"
   },
   {
    "duration": 6,
    "start_time": "2022-08-10T19:37:46.814Z"
   },
   {
    "duration": 8,
    "start_time": "2022-08-10T19:37:46.822Z"
   },
   {
    "duration": 25,
    "start_time": "2022-08-10T19:37:46.832Z"
   },
   {
    "duration": 8,
    "start_time": "2022-08-10T19:37:46.859Z"
   },
   {
    "duration": 35,
    "start_time": "2022-08-10T19:37:46.869Z"
   },
   {
    "duration": 4,
    "start_time": "2022-08-10T19:37:46.907Z"
   },
   {
    "duration": 7,
    "start_time": "2022-08-10T19:37:46.912Z"
   },
   {
    "duration": 44,
    "start_time": "2022-08-10T19:37:46.920Z"
   },
   {
    "duration": 5,
    "start_time": "2022-08-10T19:37:46.966Z"
   },
   {
    "duration": 10,
    "start_time": "2022-08-10T19:37:46.973Z"
   },
   {
    "duration": 28,
    "start_time": "2022-08-10T19:37:46.984Z"
   },
   {
    "duration": 6,
    "start_time": "2022-08-10T19:37:47.013Z"
   },
   {
    "duration": 9,
    "start_time": "2022-08-10T19:37:47.020Z"
   },
   {
    "duration": 39,
    "start_time": "2022-08-10T19:37:47.031Z"
   },
   {
    "duration": 5,
    "start_time": "2022-08-10T19:37:47.072Z"
   },
   {
    "duration": 9,
    "start_time": "2022-08-10T19:37:47.078Z"
   },
   {
    "duration": 10,
    "start_time": "2022-08-10T19:37:47.089Z"
   },
   {
    "duration": 4,
    "start_time": "2022-08-10T19:37:47.101Z"
   },
   {
    "duration": 9,
    "start_time": "2022-08-10T19:37:47.106Z"
   },
   {
    "duration": 45,
    "start_time": "2022-08-10T19:37:47.116Z"
   },
   {
    "duration": 5,
    "start_time": "2022-08-10T19:37:47.163Z"
   },
   {
    "duration": 15,
    "start_time": "2022-08-10T19:37:47.169Z"
   },
   {
    "duration": 6,
    "start_time": "2022-08-10T19:37:47.185Z"
   },
   {
    "duration": 9,
    "start_time": "2022-08-10T19:37:47.192Z"
   },
   {
    "duration": 6,
    "start_time": "2022-08-10T19:37:47.202Z"
   },
   {
    "duration": 31,
    "start_time": "2022-08-10T19:37:47.209Z"
   },
   {
    "duration": 7,
    "start_time": "2022-08-10T19:37:47.258Z"
   },
   {
    "duration": 12,
    "start_time": "2022-08-10T19:37:47.267Z"
   },
   {
    "duration": 11,
    "start_time": "2022-08-10T19:37:50.231Z"
   },
   {
    "duration": 6,
    "start_time": "2022-08-10T19:37:51.029Z"
   },
   {
    "duration": 8,
    "start_time": "2022-08-10T19:37:51.224Z"
   },
   {
    "duration": 9,
    "start_time": "2022-08-10T19:37:52.120Z"
   },
   {
    "duration": 8,
    "start_time": "2022-08-10T19:37:52.378Z"
   },
   {
    "duration": 11,
    "start_time": "2022-08-10T19:37:52.631Z"
   },
   {
    "duration": 7,
    "start_time": "2022-08-10T19:37:52.883Z"
   },
   {
    "duration": 7,
    "start_time": "2022-08-10T19:37:53.531Z"
   },
   {
    "duration": 7,
    "start_time": "2022-08-10T19:37:54.027Z"
   },
   {
    "duration": 18,
    "start_time": "2022-08-10T19:37:54.243Z"
   },
   {
    "duration": 8,
    "start_time": "2022-08-10T19:37:54.469Z"
   },
   {
    "duration": 9,
    "start_time": "2022-08-10T19:37:55.177Z"
   },
   {
    "duration": 488,
    "start_time": "2022-08-11T11:59:04.124Z"
   },
   {
    "duration": 3,
    "start_time": "2022-08-11T11:59:04.614Z"
   },
   {
    "duration": 25,
    "start_time": "2022-08-11T11:59:04.619Z"
   },
   {
    "duration": 17,
    "start_time": "2022-08-11T11:59:04.646Z"
   },
   {
    "duration": 31,
    "start_time": "2022-08-11T11:59:04.665Z"
   },
   {
    "duration": 12,
    "start_time": "2022-08-11T11:59:04.698Z"
   },
   {
    "duration": 14,
    "start_time": "2022-08-11T11:59:04.711Z"
   },
   {
    "duration": 12,
    "start_time": "2022-08-11T11:59:04.727Z"
   },
   {
    "duration": 14,
    "start_time": "2022-08-11T11:59:04.741Z"
   },
   {
    "duration": 41,
    "start_time": "2022-08-11T11:59:04.758Z"
   },
   {
    "duration": 12,
    "start_time": "2022-08-11T11:59:04.801Z"
   },
   {
    "duration": 17,
    "start_time": "2022-08-11T11:59:04.815Z"
   },
   {
    "duration": 7,
    "start_time": "2022-08-11T11:59:04.834Z"
   },
   {
    "duration": 11,
    "start_time": "2022-08-11T11:59:04.843Z"
   },
   {
    "duration": 61,
    "start_time": "2022-08-11T11:59:04.855Z"
   },
   {
    "duration": 27,
    "start_time": "2022-08-11T11:59:04.918Z"
   },
   {
    "duration": 55,
    "start_time": "2022-08-11T11:59:04.947Z"
   },
   {
    "duration": 7,
    "start_time": "2022-08-11T11:59:05.004Z"
   },
   {
    "duration": 15,
    "start_time": "2022-08-11T11:59:05.013Z"
   },
   {
    "duration": 19,
    "start_time": "2022-08-11T11:59:05.030Z"
   },
   {
    "duration": 7,
    "start_time": "2022-08-11T11:59:05.050Z"
   },
   {
    "duration": 27,
    "start_time": "2022-08-11T11:59:05.059Z"
   },
   {
    "duration": 36,
    "start_time": "2022-08-11T11:59:05.088Z"
   },
   {
    "duration": 5,
    "start_time": "2022-08-11T11:59:05.126Z"
   },
   {
    "duration": 14,
    "start_time": "2022-08-11T11:59:05.133Z"
   },
   {
    "duration": 6,
    "start_time": "2022-08-11T11:59:05.149Z"
   },
   {
    "duration": 36,
    "start_time": "2022-08-11T11:59:05.157Z"
   },
   {
    "duration": 16,
    "start_time": "2022-08-11T11:59:05.198Z"
   },
   {
    "duration": 8,
    "start_time": "2022-08-11T11:59:05.217Z"
   },
   {
    "duration": 68,
    "start_time": "2022-08-11T11:59:05.227Z"
   },
   {
    "duration": 5,
    "start_time": "2022-08-11T11:59:05.298Z"
   },
   {
    "duration": 14,
    "start_time": "2022-08-11T11:59:05.305Z"
   },
   {
    "duration": 25,
    "start_time": "2022-08-11T11:59:05.322Z"
   },
   {
    "duration": 15,
    "start_time": "2022-08-11T11:59:05.349Z"
   },
   {
    "duration": 22,
    "start_time": "2022-08-11T11:59:05.365Z"
   },
   {
    "duration": 22,
    "start_time": "2022-08-11T11:59:05.388Z"
   },
   {
    "duration": 15,
    "start_time": "2022-08-11T11:59:05.411Z"
   },
   {
    "duration": 12,
    "start_time": "2022-08-11T11:59:05.428Z"
   },
   {
    "duration": 4,
    "start_time": "2022-08-11T11:59:05.442Z"
   },
   {
    "duration": 10,
    "start_time": "2022-08-11T11:59:05.448Z"
   },
   {
    "duration": 12,
    "start_time": "2022-08-11T11:59:05.460Z"
   },
   {
    "duration": 14,
    "start_time": "2022-08-11T11:59:05.474Z"
   },
   {
    "duration": 2196,
    "start_time": "2022-08-11T11:59:05.490Z"
   },
   {
    "duration": 39,
    "start_time": "2022-08-11T11:59:07.688Z"
   },
   {
    "duration": 4,
    "start_time": "2022-08-11T11:59:07.728Z"
   },
   {
    "duration": 40,
    "start_time": "2022-08-11T11:59:07.733Z"
   },
   {
    "duration": 6,
    "start_time": "2022-08-11T11:59:07.792Z"
   },
   {
    "duration": 8,
    "start_time": "2022-08-11T11:59:07.800Z"
   },
   {
    "duration": 6,
    "start_time": "2022-08-11T11:59:07.810Z"
   },
   {
    "duration": 7,
    "start_time": "2022-08-11T11:59:07.818Z"
   },
   {
    "duration": 14,
    "start_time": "2022-08-11T11:59:07.827Z"
   },
   {
    "duration": 10,
    "start_time": "2022-08-11T11:59:07.843Z"
   },
   {
    "duration": 6,
    "start_time": "2022-08-11T11:59:07.855Z"
   },
   {
    "duration": 70,
    "start_time": "2022-08-11T11:59:07.863Z"
   },
   {
    "duration": 20,
    "start_time": "2022-08-11T11:59:07.935Z"
   },
   {
    "duration": 41,
    "start_time": "2022-08-11T11:59:07.956Z"
   },
   {
    "duration": 17,
    "start_time": "2022-08-11T11:59:07.999Z"
   },
   {
    "duration": 38,
    "start_time": "2022-08-11T11:59:08.018Z"
   },
   {
    "duration": 40,
    "start_time": "2022-08-11T11:59:08.058Z"
   },
   {
    "duration": 16,
    "start_time": "2022-08-11T11:59:08.100Z"
   },
   {
    "duration": 22,
    "start_time": "2022-08-11T11:59:08.118Z"
   },
   {
    "duration": 4,
    "start_time": "2022-08-11T11:59:08.142Z"
   },
   {
    "duration": 6,
    "start_time": "2022-08-11T11:59:08.147Z"
   },
   {
    "duration": 39,
    "start_time": "2022-08-11T11:59:08.154Z"
   },
   {
    "duration": 11,
    "start_time": "2022-08-11T11:59:08.194Z"
   },
   {
    "duration": 14,
    "start_time": "2022-08-11T11:59:08.207Z"
   },
   {
    "duration": 16,
    "start_time": "2022-08-11T11:59:08.223Z"
   },
   {
    "duration": 27,
    "start_time": "2022-08-11T11:59:08.240Z"
   },
   {
    "duration": 2,
    "start_time": "2022-08-11T11:59:08.269Z"
   },
   {
    "duration": 22,
    "start_time": "2022-08-11T11:59:08.272Z"
   },
   {
    "duration": 9,
    "start_time": "2022-08-11T11:59:08.296Z"
   },
   {
    "duration": 11,
    "start_time": "2022-08-11T11:59:08.306Z"
   },
   {
    "duration": 4,
    "start_time": "2022-08-11T11:59:08.319Z"
   },
   {
    "duration": 14,
    "start_time": "2022-08-11T11:59:08.325Z"
   },
   {
    "duration": 11,
    "start_time": "2022-08-11T11:59:08.341Z"
   },
   {
    "duration": 33,
    "start_time": "2022-08-11T11:59:08.353Z"
   },
   {
    "duration": 19,
    "start_time": "2022-08-11T11:59:08.388Z"
   },
   {
    "duration": 18,
    "start_time": "2022-08-11T11:59:08.408Z"
   },
   {
    "duration": 16,
    "start_time": "2022-08-11T11:59:08.428Z"
   },
   {
    "duration": 13,
    "start_time": "2022-08-11T11:59:08.446Z"
   },
   {
    "duration": 4,
    "start_time": "2022-08-11T11:59:08.461Z"
   },
   {
    "duration": 31,
    "start_time": "2022-08-11T11:59:08.471Z"
   },
   {
    "duration": 14,
    "start_time": "2022-08-11T11:59:08.504Z"
   },
   {
    "duration": 4,
    "start_time": "2022-08-11T11:59:08.519Z"
   },
   {
    "duration": 24,
    "start_time": "2022-08-11T11:59:08.525Z"
   },
   {
    "duration": 17,
    "start_time": "2022-08-11T11:59:08.551Z"
   },
   {
    "duration": 27,
    "start_time": "2022-08-11T11:59:08.571Z"
   },
   {
    "duration": 12,
    "start_time": "2022-08-11T11:59:08.600Z"
   },
   {
    "duration": 36,
    "start_time": "2022-08-11T11:59:08.613Z"
   },
   {
    "duration": 8,
    "start_time": "2022-08-11T11:59:08.651Z"
   },
   {
    "duration": 31,
    "start_time": "2022-08-11T11:59:08.661Z"
   },
   {
    "duration": 28,
    "start_time": "2022-08-11T11:59:08.693Z"
   },
   {
    "duration": 8,
    "start_time": "2022-08-11T11:59:08.722Z"
   },
   {
    "duration": 20,
    "start_time": "2022-08-11T11:59:08.732Z"
   },
   {
    "duration": 4,
    "start_time": "2022-08-11T11:59:08.754Z"
   },
   {
    "duration": 6,
    "start_time": "2022-08-11T11:59:08.760Z"
   },
   {
    "duration": 944,
    "start_time": "2022-08-11T11:59:08.768Z"
   },
   {
    "duration": 4,
    "start_time": "2022-08-11T11:59:09.713Z"
   },
   {
    "duration": 27,
    "start_time": "2022-08-11T11:59:09.718Z"
   },
   {
    "duration": 3218,
    "start_time": "2022-08-11T11:59:09.747Z"
   },
   {
    "duration": 7,
    "start_time": "2022-08-11T11:59:12.967Z"
   },
   {
    "duration": 22,
    "start_time": "2022-08-11T11:59:12.976Z"
   },
   {
    "duration": 7,
    "start_time": "2022-08-11T11:59:13.000Z"
   },
   {
    "duration": 10,
    "start_time": "2022-08-11T11:59:13.009Z"
   },
   {
    "duration": 42,
    "start_time": "2022-08-11T11:59:13.021Z"
   },
   {
    "duration": 4,
    "start_time": "2022-08-11T11:59:13.064Z"
   },
   {
    "duration": 31,
    "start_time": "2022-08-11T11:59:13.070Z"
   },
   {
    "duration": 24,
    "start_time": "2022-08-11T11:59:13.103Z"
   },
   {
    "duration": 33,
    "start_time": "2022-08-11T11:59:13.129Z"
   },
   {
    "duration": 31,
    "start_time": "2022-08-11T11:59:13.164Z"
   },
   {
    "duration": 59,
    "start_time": "2022-08-11T11:59:13.197Z"
   },
   {
    "duration": 15,
    "start_time": "2022-08-11T11:59:13.257Z"
   },
   {
    "duration": 12,
    "start_time": "2022-08-11T11:59:13.274Z"
   },
   {
    "duration": 20,
    "start_time": "2022-08-11T11:59:13.288Z"
   },
   {
    "duration": 13,
    "start_time": "2022-08-11T11:59:13.309Z"
   },
   {
    "duration": 13,
    "start_time": "2022-08-11T11:59:13.323Z"
   },
   {
    "duration": 20,
    "start_time": "2022-08-11T11:59:13.337Z"
   },
   {
    "duration": 6,
    "start_time": "2022-08-11T11:59:13.359Z"
   },
   {
    "duration": 28,
    "start_time": "2022-08-11T11:59:13.367Z"
   },
   {
    "duration": 24,
    "start_time": "2022-08-11T11:59:13.397Z"
   },
   {
    "duration": 17,
    "start_time": "2022-08-11T11:59:13.423Z"
   },
   {
    "duration": 36,
    "start_time": "2022-08-11T11:59:13.442Z"
   },
   {
    "duration": 29,
    "start_time": "2022-08-11T11:59:13.480Z"
   },
   {
    "duration": 24,
    "start_time": "2022-08-11T11:59:13.511Z"
   },
   {
    "duration": 18,
    "start_time": "2022-08-11T11:59:13.536Z"
   },
   {
    "duration": 28,
    "start_time": "2022-08-11T11:59:13.555Z"
   },
   {
    "duration": 9,
    "start_time": "2022-08-11T11:59:13.585Z"
   },
   {
    "duration": 14,
    "start_time": "2022-08-11T11:59:13.596Z"
   },
   {
    "duration": 23,
    "start_time": "2022-08-11T12:03:49.328Z"
   },
   {
    "duration": 11,
    "start_time": "2022-08-11T12:05:33.163Z"
   },
   {
    "duration": 382,
    "start_time": "2022-08-23T21:36:32.235Z"
   },
   {
    "duration": 150,
    "start_time": "2022-08-23T21:36:33.274Z"
   },
   {
    "duration": 61,
    "start_time": "2022-08-23T21:36:41.137Z"
   },
   {
    "duration": 3,
    "start_time": "2022-08-23T21:37:05.971Z"
   },
   {
    "duration": 90,
    "start_time": "2022-08-23T21:37:07.080Z"
   },
   {
    "duration": 3,
    "start_time": "2022-08-23T21:37:08.484Z"
   },
   {
    "duration": 16,
    "start_time": "2022-08-23T21:37:09.799Z"
   },
   {
    "duration": 387,
    "start_time": "2022-08-23T21:37:24.452Z"
   },
   {
    "duration": 305,
    "start_time": "2022-08-23T21:37:24.841Z"
   },
   {
    "duration": 3,
    "start_time": "2022-08-23T21:37:25.148Z"
   },
   {
    "duration": 33,
    "start_time": "2022-08-23T21:37:25.153Z"
   },
   {
    "duration": 12,
    "start_time": "2022-08-23T21:37:25.187Z"
   },
   {
    "duration": 7,
    "start_time": "2022-08-23T21:37:25.202Z"
   },
   {
    "duration": 10,
    "start_time": "2022-08-23T21:37:25.211Z"
   },
   {
    "duration": 5,
    "start_time": "2022-08-23T21:37:25.223Z"
   },
   {
    "duration": 1200,
    "start_time": "2022-08-23T21:37:25.229Z"
   },
   {
    "duration": 0,
    "start_time": "2022-08-23T21:37:26.436Z"
   },
   {
    "duration": 0,
    "start_time": "2022-08-23T21:37:26.437Z"
   },
   {
    "duration": 0,
    "start_time": "2022-08-23T21:37:26.439Z"
   },
   {
    "duration": 0,
    "start_time": "2022-08-23T21:37:26.440Z"
   },
   {
    "duration": 0,
    "start_time": "2022-08-23T21:37:26.442Z"
   },
   {
    "duration": 0,
    "start_time": "2022-08-23T21:37:26.444Z"
   },
   {
    "duration": 0,
    "start_time": "2022-08-23T21:37:26.445Z"
   },
   {
    "duration": 0,
    "start_time": "2022-08-23T21:37:26.446Z"
   },
   {
    "duration": 0,
    "start_time": "2022-08-23T21:37:26.448Z"
   },
   {
    "duration": 0,
    "start_time": "2022-08-23T21:37:26.448Z"
   },
   {
    "duration": 0,
    "start_time": "2022-08-23T21:37:26.450Z"
   },
   {
    "duration": 0,
    "start_time": "2022-08-23T21:37:26.451Z"
   },
   {
    "duration": 0,
    "start_time": "2022-08-23T21:37:26.452Z"
   },
   {
    "duration": 0,
    "start_time": "2022-08-23T21:37:26.454Z"
   },
   {
    "duration": 0,
    "start_time": "2022-08-23T21:37:26.455Z"
   },
   {
    "duration": 0,
    "start_time": "2022-08-23T21:37:26.456Z"
   },
   {
    "duration": 0,
    "start_time": "2022-08-23T21:37:26.458Z"
   },
   {
    "duration": 0,
    "start_time": "2022-08-23T21:37:26.460Z"
   },
   {
    "duration": 0,
    "start_time": "2022-08-23T21:37:26.461Z"
   },
   {
    "duration": 0,
    "start_time": "2022-08-23T21:37:26.462Z"
   },
   {
    "duration": 0,
    "start_time": "2022-08-23T21:37:26.464Z"
   },
   {
    "duration": 0,
    "start_time": "2022-08-23T21:37:26.465Z"
   },
   {
    "duration": 0,
    "start_time": "2022-08-23T21:37:26.467Z"
   },
   {
    "duration": 0,
    "start_time": "2022-08-23T21:37:26.468Z"
   },
   {
    "duration": 0,
    "start_time": "2022-08-23T21:37:26.470Z"
   },
   {
    "duration": 0,
    "start_time": "2022-08-23T21:37:26.471Z"
   },
   {
    "duration": 0,
    "start_time": "2022-08-23T21:37:26.472Z"
   },
   {
    "duration": 0,
    "start_time": "2022-08-23T21:37:26.503Z"
   },
   {
    "duration": 0,
    "start_time": "2022-08-23T21:37:26.504Z"
   },
   {
    "duration": 0,
    "start_time": "2022-08-23T21:37:26.505Z"
   },
   {
    "duration": 0,
    "start_time": "2022-08-23T21:37:26.506Z"
   },
   {
    "duration": 0,
    "start_time": "2022-08-23T21:37:26.507Z"
   },
   {
    "duration": 0,
    "start_time": "2022-08-23T21:37:26.508Z"
   },
   {
    "duration": 0,
    "start_time": "2022-08-23T21:37:26.509Z"
   },
   {
    "duration": 0,
    "start_time": "2022-08-23T21:37:26.509Z"
   },
   {
    "duration": 0,
    "start_time": "2022-08-23T21:37:26.510Z"
   },
   {
    "duration": 0,
    "start_time": "2022-08-23T21:37:26.511Z"
   },
   {
    "duration": 0,
    "start_time": "2022-08-23T21:37:26.512Z"
   },
   {
    "duration": 0,
    "start_time": "2022-08-23T21:37:26.513Z"
   },
   {
    "duration": 0,
    "start_time": "2022-08-23T21:37:26.514Z"
   },
   {
    "duration": 0,
    "start_time": "2022-08-23T21:37:26.516Z"
   },
   {
    "duration": 0,
    "start_time": "2022-08-23T21:37:26.517Z"
   },
   {
    "duration": 0,
    "start_time": "2022-08-23T21:37:26.518Z"
   },
   {
    "duration": 0,
    "start_time": "2022-08-23T21:37:26.519Z"
   },
   {
    "duration": 0,
    "start_time": "2022-08-23T21:37:26.520Z"
   },
   {
    "duration": 0,
    "start_time": "2022-08-23T21:37:26.521Z"
   },
   {
    "duration": 0,
    "start_time": "2022-08-23T21:37:26.522Z"
   },
   {
    "duration": 0,
    "start_time": "2022-08-23T21:37:26.524Z"
   },
   {
    "duration": 0,
    "start_time": "2022-08-23T21:37:26.525Z"
   },
   {
    "duration": 0,
    "start_time": "2022-08-23T21:37:26.526Z"
   },
   {
    "duration": 0,
    "start_time": "2022-08-23T21:37:26.527Z"
   },
   {
    "duration": 0,
    "start_time": "2022-08-23T21:37:26.528Z"
   },
   {
    "duration": 0,
    "start_time": "2022-08-23T21:37:26.529Z"
   },
   {
    "duration": 0,
    "start_time": "2022-08-23T21:37:26.530Z"
   },
   {
    "duration": 0,
    "start_time": "2022-08-23T21:37:26.531Z"
   },
   {
    "duration": 0,
    "start_time": "2022-08-23T21:37:26.532Z"
   },
   {
    "duration": 0,
    "start_time": "2022-08-23T21:37:26.534Z"
   },
   {
    "duration": 0,
    "start_time": "2022-08-23T21:37:26.534Z"
   },
   {
    "duration": 0,
    "start_time": "2022-08-23T21:37:26.536Z"
   },
   {
    "duration": 0,
    "start_time": "2022-08-23T21:37:26.537Z"
   },
   {
    "duration": 0,
    "start_time": "2022-08-23T21:37:26.538Z"
   },
   {
    "duration": 0,
    "start_time": "2022-08-23T21:37:26.539Z"
   },
   {
    "duration": 0,
    "start_time": "2022-08-23T21:37:26.540Z"
   },
   {
    "duration": 0,
    "start_time": "2022-08-23T21:37:26.603Z"
   },
   {
    "duration": 0,
    "start_time": "2022-08-23T21:37:26.604Z"
   },
   {
    "duration": 0,
    "start_time": "2022-08-23T21:37:26.605Z"
   },
   {
    "duration": 0,
    "start_time": "2022-08-23T21:37:26.607Z"
   },
   {
    "duration": 0,
    "start_time": "2022-08-23T21:37:26.608Z"
   },
   {
    "duration": 0,
    "start_time": "2022-08-23T21:37:26.609Z"
   },
   {
    "duration": 0,
    "start_time": "2022-08-23T21:37:26.610Z"
   },
   {
    "duration": 0,
    "start_time": "2022-08-23T21:37:26.611Z"
   },
   {
    "duration": 0,
    "start_time": "2022-08-23T21:37:26.612Z"
   },
   {
    "duration": 0,
    "start_time": "2022-08-23T21:37:26.613Z"
   },
   {
    "duration": 0,
    "start_time": "2022-08-23T21:37:26.614Z"
   },
   {
    "duration": 0,
    "start_time": "2022-08-23T21:37:26.615Z"
   },
   {
    "duration": 0,
    "start_time": "2022-08-23T21:37:26.616Z"
   },
   {
    "duration": 0,
    "start_time": "2022-08-23T21:37:26.617Z"
   },
   {
    "duration": 0,
    "start_time": "2022-08-23T21:37:26.618Z"
   },
   {
    "duration": 0,
    "start_time": "2022-08-23T21:37:26.619Z"
   },
   {
    "duration": 0,
    "start_time": "2022-08-23T21:37:26.620Z"
   },
   {
    "duration": 0,
    "start_time": "2022-08-23T21:37:26.621Z"
   },
   {
    "duration": 0,
    "start_time": "2022-08-23T21:37:26.622Z"
   },
   {
    "duration": 0,
    "start_time": "2022-08-23T21:37:26.624Z"
   },
   {
    "duration": 0,
    "start_time": "2022-08-23T21:37:26.625Z"
   },
   {
    "duration": 0,
    "start_time": "2022-08-23T21:37:26.626Z"
   },
   {
    "duration": 0,
    "start_time": "2022-08-23T21:37:26.627Z"
   },
   {
    "duration": 0,
    "start_time": "2022-08-23T21:37:26.628Z"
   },
   {
    "duration": 0,
    "start_time": "2022-08-23T21:37:26.629Z"
   },
   {
    "duration": 0,
    "start_time": "2022-08-23T21:37:26.630Z"
   },
   {
    "duration": 0,
    "start_time": "2022-08-23T21:37:26.631Z"
   },
   {
    "duration": 0,
    "start_time": "2022-08-23T21:37:26.632Z"
   },
   {
    "duration": 0,
    "start_time": "2022-08-23T21:37:26.633Z"
   },
   {
    "duration": 0,
    "start_time": "2022-08-23T21:37:26.634Z"
   },
   {
    "duration": 0,
    "start_time": "2022-08-23T21:37:26.635Z"
   },
   {
    "duration": 0,
    "start_time": "2022-08-23T21:37:26.636Z"
   },
   {
    "duration": 0,
    "start_time": "2022-08-23T21:37:26.637Z"
   },
   {
    "duration": 0,
    "start_time": "2022-08-23T21:37:26.638Z"
   },
   {
    "duration": 0,
    "start_time": "2022-08-23T21:37:26.639Z"
   },
   {
    "duration": 0,
    "start_time": "2022-08-23T21:37:26.640Z"
   },
   {
    "duration": 0,
    "start_time": "2022-08-23T21:37:26.641Z"
   },
   {
    "duration": 0,
    "start_time": "2022-08-23T21:37:26.703Z"
   },
   {
    "duration": 0,
    "start_time": "2022-08-23T21:37:26.704Z"
   },
   {
    "duration": 0,
    "start_time": "2022-08-23T21:37:26.705Z"
   },
   {
    "duration": 0,
    "start_time": "2022-08-23T21:37:26.706Z"
   },
   {
    "duration": 0,
    "start_time": "2022-08-23T21:37:26.707Z"
   },
   {
    "duration": 0,
    "start_time": "2022-08-23T21:37:26.708Z"
   },
   {
    "duration": 0,
    "start_time": "2022-08-23T21:37:26.709Z"
   },
   {
    "duration": 0,
    "start_time": "2022-08-23T21:37:26.710Z"
   },
   {
    "duration": 0,
    "start_time": "2022-08-23T21:37:26.711Z"
   },
   {
    "duration": 0,
    "start_time": "2022-08-23T21:37:26.712Z"
   },
   {
    "duration": 0,
    "start_time": "2022-08-23T21:37:26.713Z"
   },
   {
    "duration": 0,
    "start_time": "2022-08-23T21:37:26.715Z"
   },
   {
    "duration": 0,
    "start_time": "2022-08-23T21:37:26.716Z"
   },
   {
    "duration": 0,
    "start_time": "2022-08-23T21:37:26.717Z"
   },
   {
    "duration": 0,
    "start_time": "2022-08-23T21:37:26.718Z"
   },
   {
    "duration": 0,
    "start_time": "2022-08-23T21:37:26.719Z"
   },
   {
    "duration": 0,
    "start_time": "2022-08-23T21:37:26.720Z"
   },
   {
    "duration": 0,
    "start_time": "2022-08-23T21:37:26.721Z"
   },
   {
    "duration": 0,
    "start_time": "2022-08-23T21:37:26.722Z"
   },
   {
    "duration": 0,
    "start_time": "2022-08-23T21:37:26.723Z"
   },
   {
    "duration": 0,
    "start_time": "2022-08-23T21:37:26.724Z"
   },
   {
    "duration": 12,
    "start_time": "2022-08-23T21:38:12.993Z"
   },
   {
    "duration": 7,
    "start_time": "2022-08-23T21:38:28.562Z"
   },
   {
    "duration": 447,
    "start_time": "2022-08-23T21:39:25.479Z"
   },
   {
    "duration": 200,
    "start_time": "2022-08-23T21:39:25.928Z"
   },
   {
    "duration": 3,
    "start_time": "2022-08-23T21:39:26.130Z"
   },
   {
    "duration": 25,
    "start_time": "2022-08-23T21:39:26.136Z"
   },
   {
    "duration": 14,
    "start_time": "2022-08-23T21:39:26.163Z"
   },
   {
    "duration": 8,
    "start_time": "2022-08-23T21:39:26.179Z"
   },
   {
    "duration": 21,
    "start_time": "2022-08-23T21:39:26.189Z"
   },
   {
    "duration": 10,
    "start_time": "2022-08-23T21:39:26.211Z"
   },
   {
    "duration": 14,
    "start_time": "2022-08-23T21:39:26.223Z"
   },
   {
    "duration": 14,
    "start_time": "2022-08-23T21:39:26.240Z"
   },
   {
    "duration": 9,
    "start_time": "2022-08-23T21:39:26.255Z"
   },
   {
    "duration": 42,
    "start_time": "2022-08-23T21:39:26.265Z"
   },
   {
    "duration": 17,
    "start_time": "2022-08-23T21:39:26.309Z"
   },
   {
    "duration": 6,
    "start_time": "2022-08-23T21:39:26.328Z"
   },
   {
    "duration": 10,
    "start_time": "2022-08-23T21:39:26.336Z"
   },
   {
    "duration": 57,
    "start_time": "2022-08-23T21:39:26.347Z"
   },
   {
    "duration": 31,
    "start_time": "2022-08-23T21:39:26.405Z"
   },
   {
    "duration": 22,
    "start_time": "2022-08-23T21:39:26.438Z"
   },
   {
    "duration": 8,
    "start_time": "2022-08-23T21:39:26.462Z"
   },
   {
    "duration": 10,
    "start_time": "2022-08-23T21:39:26.503Z"
   },
   {
    "duration": 12,
    "start_time": "2022-08-23T21:39:26.515Z"
   },
   {
    "duration": 5,
    "start_time": "2022-08-23T21:39:26.529Z"
   },
   {
    "duration": 10,
    "start_time": "2022-08-23T21:39:26.535Z"
   },
   {
    "duration": 63,
    "start_time": "2022-08-23T21:39:26.547Z"
   },
   {
    "duration": 5,
    "start_time": "2022-08-23T21:39:26.611Z"
   },
   {
    "duration": 16,
    "start_time": "2022-08-23T21:39:26.617Z"
   },
   {
    "duration": 8,
    "start_time": "2022-08-23T21:39:26.634Z"
   },
   {
    "duration": 17,
    "start_time": "2022-08-23T21:39:26.646Z"
   },
   {
    "duration": 13,
    "start_time": "2022-08-23T21:39:26.665Z"
   },
   {
    "duration": 3,
    "start_time": "2022-08-23T21:39:26.679Z"
   },
   {
    "duration": 68,
    "start_time": "2022-08-23T21:39:26.684Z"
   },
   {
    "duration": 4,
    "start_time": "2022-08-23T21:39:26.754Z"
   },
   {
    "duration": 13,
    "start_time": "2022-08-23T21:39:26.759Z"
   },
   {
    "duration": 6,
    "start_time": "2022-08-23T21:39:26.773Z"
   },
   {
    "duration": 25,
    "start_time": "2022-08-23T21:39:26.781Z"
   },
   {
    "duration": 12,
    "start_time": "2022-08-23T21:39:26.807Z"
   },
   {
    "duration": 6,
    "start_time": "2022-08-23T21:39:26.820Z"
   },
   {
    "duration": 6,
    "start_time": "2022-08-23T21:39:26.828Z"
   },
   {
    "duration": 9,
    "start_time": "2022-08-23T21:39:26.835Z"
   },
   {
    "duration": 2,
    "start_time": "2022-08-23T21:39:26.846Z"
   },
   {
    "duration": 14,
    "start_time": "2022-08-23T21:39:26.850Z"
   },
   {
    "duration": 8,
    "start_time": "2022-08-23T21:39:26.865Z"
   },
   {
    "duration": 34,
    "start_time": "2022-08-23T21:39:26.875Z"
   },
   {
    "duration": 2484,
    "start_time": "2022-08-23T21:39:26.911Z"
   },
   {
    "duration": 35,
    "start_time": "2022-08-23T21:39:29.403Z"
   },
   {
    "duration": 4,
    "start_time": "2022-08-23T21:39:29.440Z"
   },
   {
    "duration": 49,
    "start_time": "2022-08-23T21:39:29.446Z"
   },
   {
    "duration": 8,
    "start_time": "2022-08-23T21:39:29.497Z"
   },
   {
    "duration": 23,
    "start_time": "2022-08-23T21:39:29.506Z"
   },
   {
    "duration": 10,
    "start_time": "2022-08-23T21:39:29.530Z"
   },
   {
    "duration": 34,
    "start_time": "2022-08-23T21:39:29.542Z"
   },
   {
    "duration": 15,
    "start_time": "2022-08-23T21:39:29.578Z"
   },
   {
    "duration": 31,
    "start_time": "2022-08-23T21:39:29.594Z"
   },
   {
    "duration": 14,
    "start_time": "2022-08-23T21:39:29.627Z"
   },
   {
    "duration": 52,
    "start_time": "2022-08-23T21:39:29.643Z"
   },
   {
    "duration": 19,
    "start_time": "2022-08-23T21:39:29.697Z"
   },
   {
    "duration": 20,
    "start_time": "2022-08-23T21:39:29.718Z"
   },
   {
    "duration": 17,
    "start_time": "2022-08-23T21:39:29.740Z"
   },
   {
    "duration": 56,
    "start_time": "2022-08-23T21:39:29.758Z"
   },
   {
    "duration": 16,
    "start_time": "2022-08-23T21:39:29.816Z"
   },
   {
    "duration": 28,
    "start_time": "2022-08-23T21:39:29.834Z"
   },
   {
    "duration": 29,
    "start_time": "2022-08-23T21:39:29.864Z"
   },
   {
    "duration": 4,
    "start_time": "2022-08-23T21:39:29.895Z"
   },
   {
    "duration": 18,
    "start_time": "2022-08-23T21:39:29.901Z"
   },
   {
    "duration": 36,
    "start_time": "2022-08-23T21:39:29.920Z"
   },
   {
    "duration": 32,
    "start_time": "2022-08-23T21:39:29.958Z"
   },
   {
    "duration": 32,
    "start_time": "2022-08-23T21:39:29.992Z"
   },
   {
    "duration": 15,
    "start_time": "2022-08-23T21:39:30.026Z"
   },
   {
    "duration": 33,
    "start_time": "2022-08-23T21:39:30.042Z"
   },
   {
    "duration": 17,
    "start_time": "2022-08-23T21:39:30.076Z"
   },
   {
    "duration": 48,
    "start_time": "2022-08-23T21:39:30.095Z"
   },
   {
    "duration": 25,
    "start_time": "2022-08-23T21:39:30.144Z"
   },
   {
    "duration": 34,
    "start_time": "2022-08-23T21:39:30.171Z"
   },
   {
    "duration": 34,
    "start_time": "2022-08-23T21:39:30.208Z"
   },
   {
    "duration": 38,
    "start_time": "2022-08-23T21:39:30.243Z"
   },
   {
    "duration": 38,
    "start_time": "2022-08-23T21:39:30.283Z"
   },
   {
    "duration": 32,
    "start_time": "2022-08-23T21:39:30.322Z"
   },
   {
    "duration": 22,
    "start_time": "2022-08-23T21:39:30.355Z"
   },
   {
    "duration": 53,
    "start_time": "2022-08-23T21:39:30.379Z"
   },
   {
    "duration": 27,
    "start_time": "2022-08-23T21:39:30.433Z"
   },
   {
    "duration": 35,
    "start_time": "2022-08-23T21:39:30.462Z"
   },
   {
    "duration": 25,
    "start_time": "2022-08-23T21:39:30.504Z"
   },
   {
    "duration": 40,
    "start_time": "2022-08-23T21:39:30.531Z"
   },
   {
    "duration": 34,
    "start_time": "2022-08-23T21:39:30.573Z"
   },
   {
    "duration": 27,
    "start_time": "2022-08-23T21:39:30.608Z"
   },
   {
    "duration": 51,
    "start_time": "2022-08-23T21:39:30.637Z"
   },
   {
    "duration": 65,
    "start_time": "2022-08-23T21:39:30.690Z"
   },
   {
    "duration": 20,
    "start_time": "2022-08-23T21:39:30.756Z"
   },
   {
    "duration": 29,
    "start_time": "2022-08-23T21:39:30.777Z"
   },
   {
    "duration": 43,
    "start_time": "2022-08-23T21:39:30.808Z"
   },
   {
    "duration": 31,
    "start_time": "2022-08-23T21:39:30.853Z"
   },
   {
    "duration": 28,
    "start_time": "2022-08-23T21:39:30.886Z"
   },
   {
    "duration": 47,
    "start_time": "2022-08-23T21:39:30.916Z"
   },
   {
    "duration": 17,
    "start_time": "2022-08-23T21:39:30.965Z"
   },
   {
    "duration": 43,
    "start_time": "2022-08-23T21:39:30.984Z"
   },
   {
    "duration": 12,
    "start_time": "2022-08-23T21:39:31.029Z"
   },
   {
    "duration": 20,
    "start_time": "2022-08-23T21:39:31.042Z"
   },
   {
    "duration": 887,
    "start_time": "2022-08-23T21:39:31.063Z"
   },
   {
    "duration": 2,
    "start_time": "2022-08-23T21:39:31.952Z"
   },
   {
    "duration": 29,
    "start_time": "2022-08-23T21:39:31.956Z"
   },
   {
    "duration": 3045,
    "start_time": "2022-08-23T21:39:31.987Z"
   },
   {
    "duration": 10,
    "start_time": "2022-08-23T21:39:35.034Z"
   },
   {
    "duration": 9,
    "start_time": "2022-08-23T21:39:35.046Z"
   },
   {
    "duration": 9,
    "start_time": "2022-08-23T21:39:35.057Z"
   },
   {
    "duration": 9,
    "start_time": "2022-08-23T21:39:35.068Z"
   },
   {
    "duration": 61,
    "start_time": "2022-08-23T21:39:35.079Z"
   },
   {
    "duration": 4,
    "start_time": "2022-08-23T21:39:35.141Z"
   },
   {
    "duration": 11,
    "start_time": "2022-08-23T21:39:35.146Z"
   },
   {
    "duration": 12,
    "start_time": "2022-08-23T21:39:35.159Z"
   },
   {
    "duration": 5,
    "start_time": "2022-08-23T21:39:35.173Z"
   },
   {
    "duration": 24,
    "start_time": "2022-08-23T21:39:35.180Z"
   },
   {
    "duration": 27,
    "start_time": "2022-08-23T21:39:35.206Z"
   },
   {
    "duration": 12,
    "start_time": "2022-08-23T21:39:35.234Z"
   },
   {
    "duration": 9,
    "start_time": "2022-08-23T21:39:35.247Z"
   },
   {
    "duration": 130,
    "start_time": "2022-08-23T21:39:35.258Z"
   },
   {
    "duration": 0,
    "start_time": "2022-08-23T21:39:35.390Z"
   },
   {
    "duration": 0,
    "start_time": "2022-08-23T21:39:35.391Z"
   },
   {
    "duration": 0,
    "start_time": "2022-08-23T21:39:35.403Z"
   },
   {
    "duration": 0,
    "start_time": "2022-08-23T21:39:35.403Z"
   },
   {
    "duration": 1,
    "start_time": "2022-08-23T21:39:35.404Z"
   },
   {
    "duration": 0,
    "start_time": "2022-08-23T21:39:35.405Z"
   },
   {
    "duration": 0,
    "start_time": "2022-08-23T21:39:35.407Z"
   },
   {
    "duration": 0,
    "start_time": "2022-08-23T21:39:35.408Z"
   },
   {
    "duration": 0,
    "start_time": "2022-08-23T21:39:35.409Z"
   },
   {
    "duration": 0,
    "start_time": "2022-08-23T21:39:35.410Z"
   },
   {
    "duration": 0,
    "start_time": "2022-08-23T21:39:35.411Z"
   },
   {
    "duration": 0,
    "start_time": "2022-08-23T21:39:35.411Z"
   },
   {
    "duration": 0,
    "start_time": "2022-08-23T21:39:35.412Z"
   },
   {
    "duration": 0,
    "start_time": "2022-08-23T21:39:35.413Z"
   },
   {
    "duration": 0,
    "start_time": "2022-08-23T21:39:35.414Z"
   },
   {
    "duration": 11,
    "start_time": "2022-08-23T21:39:35.809Z"
   },
   {
    "duration": 106,
    "start_time": "2022-08-23T21:40:02.798Z"
   },
   {
    "duration": 3,
    "start_time": "2022-08-23T21:40:03.936Z"
   },
   {
    "duration": 15,
    "start_time": "2022-08-23T21:40:05.778Z"
   },
   {
    "duration": 15,
    "start_time": "2022-08-23T21:40:12.379Z"
   },
   {
    "duration": 12,
    "start_time": "2022-08-23T21:40:18.982Z"
   },
   {
    "duration": 10,
    "start_time": "2022-08-23T21:40:22.290Z"
   },
   {
    "duration": 11,
    "start_time": "2022-08-23T21:40:28.647Z"
   },
   {
    "duration": 14,
    "start_time": "2022-08-23T21:40:29.767Z"
   },
   {
    "duration": 13,
    "start_time": "2022-08-23T21:40:30.788Z"
   },
   {
    "duration": 9,
    "start_time": "2022-08-23T21:40:35.011Z"
   },
   {
    "duration": 11,
    "start_time": "2022-08-23T21:40:35.739Z"
   },
   {
    "duration": 16,
    "start_time": "2022-08-23T21:40:36.784Z"
   },
   {
    "duration": 8,
    "start_time": "2022-08-23T21:40:39.066Z"
   },
   {
    "duration": 7,
    "start_time": "2022-08-23T21:40:39.718Z"
   },
   {
    "duration": 33,
    "start_time": "2022-08-23T21:40:40.847Z"
   },
   {
    "duration": 30,
    "start_time": "2022-08-23T21:40:41.565Z"
   },
   {
    "duration": 22,
    "start_time": "2022-08-23T21:40:42.967Z"
   },
   {
    "duration": 9,
    "start_time": "2022-08-23T21:40:43.956Z"
   },
   {
    "duration": 9,
    "start_time": "2022-08-23T21:40:44.562Z"
   },
   {
    "duration": 11,
    "start_time": "2022-08-23T21:40:45.392Z"
   },
   {
    "duration": 4,
    "start_time": "2022-08-23T21:40:46.223Z"
   },
   {
    "duration": 9,
    "start_time": "2022-08-23T21:40:46.774Z"
   },
   {
    "duration": 37,
    "start_time": "2022-08-23T21:40:47.428Z"
   },
   {
    "duration": 5,
    "start_time": "2022-08-23T21:40:48.606Z"
   },
   {
    "duration": 4,
    "start_time": "2022-08-23T21:40:49.249Z"
   },
   {
    "duration": 4,
    "start_time": "2022-08-23T21:40:49.540Z"
   },
   {
    "duration": 12,
    "start_time": "2022-08-23T21:40:50.744Z"
   },
   {
    "duration": 14,
    "start_time": "2022-08-23T21:40:51.302Z"
   },
   {
    "duration": 2,
    "start_time": "2022-08-23T21:40:51.537Z"
   },
   {
    "duration": 51,
    "start_time": "2022-08-23T21:40:51.757Z"
   },
   {
    "duration": 4,
    "start_time": "2022-08-23T21:40:52.881Z"
   },
   {
    "duration": 8,
    "start_time": "2022-08-23T21:40:53.476Z"
   },
   {
    "duration": 5,
    "start_time": "2022-08-23T21:40:55.684Z"
   },
   {
    "duration": 7,
    "start_time": "2022-08-23T21:40:56.342Z"
   },
   {
    "duration": 6,
    "start_time": "2022-08-23T21:40:56.595Z"
   },
   {
    "duration": 5,
    "start_time": "2022-08-23T21:40:57.542Z"
   },
   {
    "duration": 5,
    "start_time": "2022-08-23T21:40:58.290Z"
   },
   {
    "duration": 10,
    "start_time": "2022-08-23T21:40:58.986Z"
   },
   {
    "duration": 4,
    "start_time": "2022-08-23T21:41:02.619Z"
   },
   {
    "duration": 8,
    "start_time": "2022-08-23T21:41:08.533Z"
   },
   {
    "duration": 6,
    "start_time": "2022-08-23T21:42:43.556Z"
   },
   {
    "duration": 6,
    "start_time": "2022-08-23T21:42:45.565Z"
   },
   {
    "duration": 7,
    "start_time": "2022-08-23T21:42:46.392Z"
   },
   {
    "duration": 7,
    "start_time": "2022-08-23T21:43:13.280Z"
   },
   {
    "duration": 24,
    "start_time": "2022-08-23T21:43:14.989Z"
   },
   {
    "duration": 16,
    "start_time": "2022-08-23T21:43:15.828Z"
   },
   {
    "duration": 18,
    "start_time": "2022-08-23T21:43:16.336Z"
   },
   {
    "duration": 15,
    "start_time": "2022-08-23T21:43:17.411Z"
   },
   {
    "duration": 35,
    "start_time": "2022-08-23T21:43:18.507Z"
   },
   {
    "duration": 16,
    "start_time": "2022-08-23T21:43:20.391Z"
   },
   {
    "duration": 10,
    "start_time": "2022-08-23T21:43:20.661Z"
   },
   {
    "duration": 18,
    "start_time": "2022-08-23T21:43:21.376Z"
   },
   {
    "duration": 4,
    "start_time": "2022-08-23T21:43:22.177Z"
   },
   {
    "duration": 4,
    "start_time": "2022-08-23T21:43:23.132Z"
   },
   {
    "duration": 10,
    "start_time": "2022-08-23T21:43:23.431Z"
   },
   {
    "duration": 7,
    "start_time": "2022-08-23T21:43:23.909Z"
   },
   {
    "duration": 11,
    "start_time": "2022-08-23T21:43:24.332Z"
   },
   {
    "duration": 7,
    "start_time": "2022-08-23T21:43:24.608Z"
   },
   {
    "duration": 20,
    "start_time": "2022-08-23T21:43:25.667Z"
   },
   {
    "duration": 3,
    "start_time": "2022-08-23T21:43:26.128Z"
   },
   {
    "duration": 4,
    "start_time": "2022-08-23T21:43:26.674Z"
   },
   {
    "duration": 3,
    "start_time": "2022-08-23T21:43:27.520Z"
   },
   {
    "duration": 11,
    "start_time": "2022-08-23T21:43:27.525Z"
   },
   {
    "duration": 3,
    "start_time": "2022-08-23T21:43:27.559Z"
   },
   {
    "duration": 6,
    "start_time": "2022-08-23T21:43:27.840Z"
   },
   {
    "duration": 6,
    "start_time": "2022-08-23T21:43:29.121Z"
   },
   {
    "duration": 6,
    "start_time": "2022-08-23T21:43:29.431Z"
   },
   {
    "duration": 8,
    "start_time": "2022-08-23T21:43:30.195Z"
   },
   {
    "duration": 10,
    "start_time": "2022-08-23T21:43:30.903Z"
   },
   {
    "duration": 14,
    "start_time": "2022-08-23T21:43:31.192Z"
   },
   {
    "duration": 14,
    "start_time": "2022-08-23T21:43:31.866Z"
   },
   {
    "duration": 4,
    "start_time": "2022-08-23T21:43:32.102Z"
   },
   {
    "duration": 13,
    "start_time": "2022-08-23T21:43:32.441Z"
   },
   {
    "duration": 14,
    "start_time": "2022-08-23T21:44:28.481Z"
   },
   {
    "duration": 5,
    "start_time": "2022-08-23T21:44:29.092Z"
   },
   {
    "duration": 16,
    "start_time": "2022-08-23T21:44:29.537Z"
   },
   {
    "duration": 8,
    "start_time": "2022-08-23T21:44:30.191Z"
   },
   {
    "duration": 6,
    "start_time": "2022-08-23T21:44:31.746Z"
   },
   {
    "duration": 8,
    "start_time": "2022-08-23T21:44:32.472Z"
   },
   {
    "duration": 11,
    "start_time": "2022-08-23T21:45:28.227Z"
   },
   {
    "duration": 19,
    "start_time": "2022-08-23T21:46:26.390Z"
   },
   {
    "duration": 3,
    "start_time": "2022-08-23T21:47:43.946Z"
   },
   {
    "duration": 15,
    "start_time": "2022-08-23T21:47:53.170Z"
   },
   {
    "duration": 24,
    "start_time": "2022-08-23T21:47:54.712Z"
   },
   {
    "duration": 8,
    "start_time": "2022-08-23T21:47:57.429Z"
   },
   {
    "duration": 8,
    "start_time": "2022-08-23T21:47:58.073Z"
   },
   {
    "duration": 17,
    "start_time": "2022-08-23T21:47:58.734Z"
   },
   {
    "duration": 5,
    "start_time": "2022-08-23T21:47:59.915Z"
   },
   {
    "duration": 13,
    "start_time": "2022-08-23T21:49:22.941Z"
   },
   {
    "duration": 4,
    "start_time": "2022-08-23T21:49:24.249Z"
   },
   {
    "duration": 3,
    "start_time": "2022-08-23T21:49:25.906Z"
   },
   {
    "duration": 5,
    "start_time": "2022-08-23T21:49:27.451Z"
   },
   {
    "duration": 10,
    "start_time": "2022-08-23T21:49:27.458Z"
   },
   {
    "duration": 5,
    "start_time": "2022-08-23T21:49:28.212Z"
   },
   {
    "duration": 1888,
    "start_time": "2022-08-23T21:49:28.444Z"
   },
   {
    "duration": 7,
    "start_time": "2022-08-23T21:49:30.334Z"
   },
   {
    "duration": 26,
    "start_time": "2022-08-23T21:49:30.344Z"
   },
   {
    "duration": 6,
    "start_time": "2022-08-23T21:49:31.247Z"
   },
   {
    "duration": 9,
    "start_time": "2022-08-23T21:49:32.450Z"
   },
   {
    "duration": 41,
    "start_time": "2022-08-23T21:49:34.378Z"
   },
   {
    "duration": 4,
    "start_time": "2022-08-23T21:49:35.050Z"
   },
   {
    "duration": 4,
    "start_time": "2022-08-23T21:49:35.831Z"
   },
   {
    "duration": 10,
    "start_time": "2022-08-23T21:49:36.995Z"
   },
   {
    "duration": 7,
    "start_time": "2022-08-23T21:49:37.574Z"
   },
   {
    "duration": 6,
    "start_time": "2022-08-23T21:49:38.589Z"
   },
   {
    "duration": 25,
    "start_time": "2022-08-23T21:49:39.370Z"
   },
   {
    "duration": 4,
    "start_time": "2022-08-23T21:49:42.433Z"
   },
   {
    "duration": 7,
    "start_time": "2022-08-23T21:49:42.774Z"
   },
   {
    "duration": 9,
    "start_time": "2022-08-23T21:49:43.323Z"
   },
   {
    "duration": 15,
    "start_time": "2022-08-23T21:49:44.818Z"
   },
   {
    "duration": 9,
    "start_time": "2022-08-23T21:49:52.794Z"
   },
   {
    "duration": 9,
    "start_time": "2022-08-23T21:49:53.960Z"
   },
   {
    "duration": 15,
    "start_time": "2022-08-23T21:50:34.877Z"
   },
   {
    "duration": 15,
    "start_time": "2022-08-23T21:53:29.022Z"
   },
   {
    "duration": 12,
    "start_time": "2022-08-23T21:54:48.437Z"
   },
   {
    "duration": 446,
    "start_time": "2022-08-24T08:22:37.406Z"
   },
   {
    "duration": 172,
    "start_time": "2022-08-24T08:22:37.854Z"
   },
   {
    "duration": 3,
    "start_time": "2022-08-24T08:22:38.028Z"
   },
   {
    "duration": 33,
    "start_time": "2022-08-24T08:22:38.033Z"
   },
   {
    "duration": 38,
    "start_time": "2022-08-24T08:22:38.068Z"
   },
   {
    "duration": 29,
    "start_time": "2022-08-24T08:22:38.107Z"
   },
   {
    "duration": 26,
    "start_time": "2022-08-24T08:22:38.138Z"
   },
   {
    "duration": 9,
    "start_time": "2022-08-24T08:22:38.166Z"
   },
   {
    "duration": 16,
    "start_time": "2022-08-24T08:22:38.177Z"
   },
   {
    "duration": 13,
    "start_time": "2022-08-24T08:22:38.195Z"
   },
   {
    "duration": 8,
    "start_time": "2022-08-24T08:22:38.210Z"
   },
   {
    "duration": 10,
    "start_time": "2022-08-24T08:22:38.219Z"
   },
   {
    "duration": 15,
    "start_time": "2022-08-24T08:22:38.231Z"
   },
   {
    "duration": 8,
    "start_time": "2022-08-24T08:22:38.247Z"
   },
   {
    "duration": 7,
    "start_time": "2022-08-24T08:22:38.256Z"
   },
   {
    "duration": 64,
    "start_time": "2022-08-24T08:22:38.264Z"
   },
   {
    "duration": 27,
    "start_time": "2022-08-24T08:22:38.329Z"
   },
   {
    "duration": 21,
    "start_time": "2022-08-24T08:22:38.358Z"
   },
   {
    "duration": 36,
    "start_time": "2022-08-24T08:22:38.380Z"
   },
   {
    "duration": 11,
    "start_time": "2022-08-24T08:22:38.417Z"
   },
   {
    "duration": 9,
    "start_time": "2022-08-24T08:22:38.429Z"
   },
   {
    "duration": 8,
    "start_time": "2022-08-24T08:22:38.440Z"
   },
   {
    "duration": 15,
    "start_time": "2022-08-24T08:22:38.450Z"
   },
   {
    "duration": 45,
    "start_time": "2022-08-24T08:22:38.466Z"
   },
   {
    "duration": 4,
    "start_time": "2022-08-24T08:22:38.513Z"
   },
   {
    "duration": 6,
    "start_time": "2022-08-24T08:22:38.518Z"
   },
   {
    "duration": 3,
    "start_time": "2022-08-24T08:22:38.526Z"
   },
   {
    "duration": 11,
    "start_time": "2022-08-24T08:22:38.533Z"
   },
   {
    "duration": 10,
    "start_time": "2022-08-24T08:22:38.546Z"
   },
   {
    "duration": 5,
    "start_time": "2022-08-24T08:22:38.558Z"
   },
   {
    "duration": 90,
    "start_time": "2022-08-24T08:22:38.564Z"
   },
   {
    "duration": 4,
    "start_time": "2022-08-24T08:22:38.656Z"
   },
   {
    "duration": 20,
    "start_time": "2022-08-24T08:22:38.662Z"
   },
   {
    "duration": 12,
    "start_time": "2022-08-24T08:22:38.684Z"
   },
   {
    "duration": 10,
    "start_time": "2022-08-24T08:22:38.698Z"
   },
   {
    "duration": 5,
    "start_time": "2022-08-24T08:22:38.710Z"
   },
   {
    "duration": 8,
    "start_time": "2022-08-24T08:22:38.717Z"
   },
   {
    "duration": 10,
    "start_time": "2022-08-24T08:22:38.727Z"
   },
   {
    "duration": 17,
    "start_time": "2022-08-24T08:22:38.738Z"
   },
   {
    "duration": 6,
    "start_time": "2022-08-24T08:22:38.757Z"
   },
   {
    "duration": 15,
    "start_time": "2022-08-24T08:22:38.764Z"
   },
   {
    "duration": 9,
    "start_time": "2022-08-24T08:22:38.781Z"
   },
   {
    "duration": 19,
    "start_time": "2022-08-24T08:22:38.792Z"
   },
   {
    "duration": 2056,
    "start_time": "2022-08-24T08:22:38.813Z"
   },
   {
    "duration": 32,
    "start_time": "2022-08-24T08:22:40.870Z"
   },
   {
    "duration": 9,
    "start_time": "2022-08-24T08:22:40.903Z"
   },
   {
    "duration": 34,
    "start_time": "2022-08-24T08:22:40.914Z"
   },
   {
    "duration": 5,
    "start_time": "2022-08-24T08:22:40.950Z"
   },
   {
    "duration": 9,
    "start_time": "2022-08-24T08:22:40.957Z"
   },
   {
    "duration": 6,
    "start_time": "2022-08-24T08:22:40.967Z"
   },
   {
    "duration": 8,
    "start_time": "2022-08-24T08:22:40.974Z"
   },
   {
    "duration": 29,
    "start_time": "2022-08-24T08:22:40.983Z"
   },
   {
    "duration": 11,
    "start_time": "2022-08-24T08:22:41.014Z"
   },
   {
    "duration": 30,
    "start_time": "2022-08-24T08:22:41.027Z"
   },
   {
    "duration": 53,
    "start_time": "2022-08-24T08:22:41.058Z"
   },
   {
    "duration": 34,
    "start_time": "2022-08-24T08:22:41.113Z"
   },
   {
    "duration": 31,
    "start_time": "2022-08-24T08:22:41.149Z"
   },
   {
    "duration": 12,
    "start_time": "2022-08-24T08:22:41.181Z"
   },
   {
    "duration": 39,
    "start_time": "2022-08-24T08:22:41.195Z"
   },
   {
    "duration": 14,
    "start_time": "2022-08-24T08:22:41.235Z"
   },
   {
    "duration": 35,
    "start_time": "2022-08-24T08:22:41.250Z"
   },
   {
    "duration": 31,
    "start_time": "2022-08-24T08:22:41.286Z"
   },
   {
    "duration": 5,
    "start_time": "2022-08-24T08:22:41.318Z"
   },
   {
    "duration": 13,
    "start_time": "2022-08-24T08:22:41.324Z"
   },
   {
    "duration": 14,
    "start_time": "2022-08-24T08:22:41.339Z"
   },
   {
    "duration": 26,
    "start_time": "2022-08-24T08:22:41.355Z"
   },
   {
    "duration": 37,
    "start_time": "2022-08-24T08:22:41.383Z"
   },
   {
    "duration": 19,
    "start_time": "2022-08-24T08:22:41.422Z"
   },
   {
    "duration": 41,
    "start_time": "2022-08-24T08:22:41.443Z"
   },
   {
    "duration": 5,
    "start_time": "2022-08-24T08:22:41.485Z"
   },
   {
    "duration": 19,
    "start_time": "2022-08-24T08:22:41.492Z"
   },
   {
    "duration": 14,
    "start_time": "2022-08-24T08:22:41.512Z"
   },
   {
    "duration": 13,
    "start_time": "2022-08-24T08:22:41.528Z"
   },
   {
    "duration": 10,
    "start_time": "2022-08-24T08:22:41.543Z"
   },
   {
    "duration": 16,
    "start_time": "2022-08-24T08:22:41.555Z"
   },
   {
    "duration": 5,
    "start_time": "2022-08-24T08:22:41.573Z"
   },
   {
    "duration": 16,
    "start_time": "2022-08-24T08:22:41.580Z"
   },
   {
    "duration": 15,
    "start_time": "2022-08-24T08:22:41.597Z"
   },
   {
    "duration": 12,
    "start_time": "2022-08-24T08:22:41.613Z"
   },
   {
    "duration": 14,
    "start_time": "2022-08-24T08:22:41.626Z"
   },
   {
    "duration": 36,
    "start_time": "2022-08-24T08:22:41.641Z"
   },
   {
    "duration": 11,
    "start_time": "2022-08-24T08:22:41.684Z"
   },
   {
    "duration": 28,
    "start_time": "2022-08-24T08:22:41.697Z"
   },
   {
    "duration": 25,
    "start_time": "2022-08-24T08:22:41.726Z"
   },
   {
    "duration": 5,
    "start_time": "2022-08-24T08:22:41.753Z"
   },
   {
    "duration": 33,
    "start_time": "2022-08-24T08:22:41.760Z"
   },
   {
    "duration": 20,
    "start_time": "2022-08-24T08:22:41.795Z"
   },
   {
    "duration": 10,
    "start_time": "2022-08-24T08:22:41.817Z"
   },
   {
    "duration": 18,
    "start_time": "2022-08-24T08:22:41.829Z"
   },
   {
    "duration": 30,
    "start_time": "2022-08-24T08:22:41.848Z"
   },
   {
    "duration": 25,
    "start_time": "2022-08-24T08:22:41.880Z"
   },
   {
    "duration": 15,
    "start_time": "2022-08-24T08:22:41.907Z"
   },
   {
    "duration": 15,
    "start_time": "2022-08-24T08:22:41.924Z"
   },
   {
    "duration": 25,
    "start_time": "2022-08-24T08:22:41.941Z"
   },
   {
    "duration": 24,
    "start_time": "2022-08-24T08:22:41.968Z"
   },
   {
    "duration": 28,
    "start_time": "2022-08-24T08:22:41.994Z"
   },
   {
    "duration": 14,
    "start_time": "2022-08-24T08:22:42.023Z"
   },
   {
    "duration": 20,
    "start_time": "2022-08-24T08:22:42.039Z"
   },
   {
    "duration": 1130,
    "start_time": "2022-08-24T08:22:42.060Z"
   },
   {
    "duration": 3,
    "start_time": "2022-08-24T08:22:43.191Z"
   },
   {
    "duration": 17,
    "start_time": "2022-08-24T08:22:43.195Z"
   },
   {
    "duration": 3038,
    "start_time": "2022-08-24T08:22:43.213Z"
   },
   {
    "duration": 6,
    "start_time": "2022-08-24T08:22:46.253Z"
   },
   {
    "duration": 7,
    "start_time": "2022-08-24T08:22:46.261Z"
   },
   {
    "duration": 10,
    "start_time": "2022-08-24T08:22:46.270Z"
   },
   {
    "duration": 10,
    "start_time": "2022-08-24T08:22:46.281Z"
   },
   {
    "duration": 49,
    "start_time": "2022-08-24T08:22:46.293Z"
   },
   {
    "duration": 3,
    "start_time": "2022-08-24T08:22:46.344Z"
   },
   {
    "duration": 8,
    "start_time": "2022-08-24T08:22:46.349Z"
   },
   {
    "duration": 10,
    "start_time": "2022-08-24T08:22:46.359Z"
   },
   {
    "duration": 5,
    "start_time": "2022-08-24T08:22:46.370Z"
   },
   {
    "duration": 19,
    "start_time": "2022-08-24T08:22:46.376Z"
   },
   {
    "duration": 35,
    "start_time": "2022-08-24T08:22:46.396Z"
   },
   {
    "duration": 7,
    "start_time": "2022-08-24T08:22:46.433Z"
   },
   {
    "duration": 9,
    "start_time": "2022-08-24T08:22:46.441Z"
   },
   {
    "duration": 16,
    "start_time": "2022-08-24T08:22:46.452Z"
   },
   {
    "duration": 12,
    "start_time": "2022-08-24T08:22:46.470Z"
   },
   {
    "duration": 10,
    "start_time": "2022-08-24T08:22:46.483Z"
   },
   {
    "duration": 5,
    "start_time": "2022-08-24T08:22:46.511Z"
   },
   {
    "duration": 10,
    "start_time": "2022-08-24T08:22:46.517Z"
   },
   {
    "duration": 10,
    "start_time": "2022-08-24T08:22:46.528Z"
   },
   {
    "duration": 6,
    "start_time": "2022-08-24T08:22:46.540Z"
   },
   {
    "duration": 8,
    "start_time": "2022-08-24T08:22:46.547Z"
   },
   {
    "duration": 9,
    "start_time": "2022-08-24T08:22:46.556Z"
   },
   {
    "duration": 4,
    "start_time": "2022-08-24T08:22:46.567Z"
   },
   {
    "duration": 44,
    "start_time": "2022-08-24T08:22:46.573Z"
   },
   {
    "duration": 5,
    "start_time": "2022-08-24T08:22:46.618Z"
   },
   {
    "duration": 13,
    "start_time": "2022-08-24T08:22:46.624Z"
   },
   {
    "duration": 11,
    "start_time": "2022-08-24T08:22:46.638Z"
   },
   {
    "duration": 12,
    "start_time": "2022-08-24T08:22:46.651Z"
   },
   {
    "duration": 18,
    "start_time": "2022-08-24T08:22:46.665Z"
   },
   {
    "duration": 12,
    "start_time": "2022-08-24T08:22:46.684Z"
   },
   {
    "duration": 3,
    "start_time": "2022-08-24T08:44:36.958Z"
   },
   {
    "duration": 6,
    "start_time": "2022-08-24T08:45:06.733Z"
   },
   {
    "duration": 3,
    "start_time": "2022-08-24T08:45:30.096Z"
   },
   {
    "duration": 78,
    "start_time": "2022-08-24T08:46:44.688Z"
   },
   {
    "duration": 3,
    "start_time": "2022-08-24T08:46:45.518Z"
   },
   {
    "duration": 13,
    "start_time": "2022-08-24T08:46:45.752Z"
   },
   {
    "duration": 13,
    "start_time": "2022-08-24T08:46:46.654Z"
   },
   {
    "duration": 50,
    "start_time": "2022-08-24T08:47:29.024Z"
   },
   {
    "duration": 18,
    "start_time": "2022-08-24T08:48:52.225Z"
   },
   {
    "duration": 5,
    "start_time": "2022-08-24T08:53:37.226Z"
   },
   {
    "duration": 4,
    "start_time": "2022-08-24T08:53:45.158Z"
   },
   {
    "duration": 2,
    "start_time": "2022-08-24T08:54:13.199Z"
   },
   {
    "duration": 7,
    "start_time": "2022-08-24T08:54:18.226Z"
   },
   {
    "duration": 6,
    "start_time": "2022-08-24T08:56:27.554Z"
   },
   {
    "duration": 129,
    "start_time": "2022-08-24T09:00:26.713Z"
   },
   {
    "duration": 17,
    "start_time": "2022-08-24T09:00:58.280Z"
   },
   {
    "duration": 14,
    "start_time": "2022-08-24T09:02:49.177Z"
   },
   {
    "duration": 16,
    "start_time": "2022-08-24T09:03:32.269Z"
   },
   {
    "duration": 14,
    "start_time": "2022-08-24T09:03:40.508Z"
   },
   {
    "duration": 6,
    "start_time": "2022-08-24T09:03:47.481Z"
   },
   {
    "duration": 2,
    "start_time": "2022-08-24T09:03:48.958Z"
   },
   {
    "duration": 14,
    "start_time": "2022-08-24T09:03:51.356Z"
   },
   {
    "duration": 9,
    "start_time": "2022-08-24T09:13:17.691Z"
   },
   {
    "duration": 6,
    "start_time": "2022-08-24T09:13:22.729Z"
   },
   {
    "duration": 7,
    "start_time": "2022-08-24T09:13:58.546Z"
   },
   {
    "duration": 6,
    "start_time": "2022-08-24T09:13:59.260Z"
   },
   {
    "duration": 6,
    "start_time": "2022-08-24T09:14:02.205Z"
   },
   {
    "duration": 7,
    "start_time": "2022-08-24T09:14:02.777Z"
   },
   {
    "duration": 6,
    "start_time": "2022-08-24T09:14:29.196Z"
   },
   {
    "duration": 6,
    "start_time": "2022-08-24T09:14:29.787Z"
   },
   {
    "duration": 383,
    "start_time": "2022-08-24T09:14:43.150Z"
   },
   {
    "duration": 79,
    "start_time": "2022-08-24T09:14:43.535Z"
   },
   {
    "duration": 4,
    "start_time": "2022-08-24T09:14:43.615Z"
   },
   {
    "duration": 27,
    "start_time": "2022-08-24T09:14:43.620Z"
   },
   {
    "duration": 13,
    "start_time": "2022-08-24T09:14:43.649Z"
   },
   {
    "duration": 9,
    "start_time": "2022-08-24T09:14:43.663Z"
   },
   {
    "duration": 11,
    "start_time": "2022-08-24T09:14:43.673Z"
   },
   {
    "duration": 37,
    "start_time": "2022-08-24T09:14:43.686Z"
   },
   {
    "duration": 9,
    "start_time": "2022-08-24T09:14:43.724Z"
   },
   {
    "duration": 10,
    "start_time": "2022-08-24T09:14:43.736Z"
   },
   {
    "duration": 10,
    "start_time": "2022-08-24T09:14:43.747Z"
   },
   {
    "duration": 7,
    "start_time": "2022-08-24T09:14:43.758Z"
   },
   {
    "duration": 12,
    "start_time": "2022-08-24T09:14:43.767Z"
   },
   {
    "duration": 15,
    "start_time": "2022-08-24T09:14:43.811Z"
   },
   {
    "duration": 6,
    "start_time": "2022-08-24T09:14:43.828Z"
   },
   {
    "duration": 9,
    "start_time": "2022-08-24T09:14:43.835Z"
   },
   {
    "duration": 26,
    "start_time": "2022-08-24T09:14:43.845Z"
   },
   {
    "duration": 51,
    "start_time": "2022-08-24T09:14:43.873Z"
   },
   {
    "duration": 21,
    "start_time": "2022-08-24T09:14:43.925Z"
   },
   {
    "duration": 7,
    "start_time": "2022-08-24T09:14:43.947Z"
   },
   {
    "duration": 12,
    "start_time": "2022-08-24T09:14:43.955Z"
   },
   {
    "duration": 10,
    "start_time": "2022-08-24T09:14:43.968Z"
   },
   {
    "duration": 6,
    "start_time": "2022-08-24T09:14:43.979Z"
   },
   {
    "duration": 30,
    "start_time": "2022-08-24T09:14:43.986Z"
   },
   {
    "duration": 29,
    "start_time": "2022-08-24T09:14:44.018Z"
   },
   {
    "duration": 5,
    "start_time": "2022-08-24T09:14:44.048Z"
   },
   {
    "duration": 6,
    "start_time": "2022-08-24T09:14:44.054Z"
   },
   {
    "duration": 3,
    "start_time": "2022-08-24T09:14:44.065Z"
   },
   {
    "duration": 43,
    "start_time": "2022-08-24T09:14:44.070Z"
   },
   {
    "duration": 11,
    "start_time": "2022-08-24T09:14:44.115Z"
   },
   {
    "duration": 8,
    "start_time": "2022-08-24T09:14:44.127Z"
   },
   {
    "duration": 52,
    "start_time": "2022-08-24T09:14:44.136Z"
   },
   {
    "duration": 4,
    "start_time": "2022-08-24T09:14:44.189Z"
   },
   {
    "duration": 24,
    "start_time": "2022-08-24T09:14:44.194Z"
   },
   {
    "duration": 6,
    "start_time": "2022-08-24T09:14:44.219Z"
   },
   {
    "duration": 8,
    "start_time": "2022-08-24T09:14:44.227Z"
   },
   {
    "duration": 5,
    "start_time": "2022-08-24T09:14:44.237Z"
   },
   {
    "duration": 5,
    "start_time": "2022-08-24T09:14:44.243Z"
   },
   {
    "duration": 7,
    "start_time": "2022-08-24T09:14:44.250Z"
   },
   {
    "duration": 16,
    "start_time": "2022-08-24T09:14:44.258Z"
   },
   {
    "duration": 7,
    "start_time": "2022-08-24T09:14:44.275Z"
   },
   {
    "duration": 4,
    "start_time": "2022-08-24T09:14:44.283Z"
   },
   {
    "duration": 23,
    "start_time": "2022-08-24T09:14:44.288Z"
   },
   {
    "duration": 8,
    "start_time": "2022-08-24T09:14:44.312Z"
   },
   {
    "duration": 7,
    "start_time": "2022-08-24T09:14:44.321Z"
   },
   {
    "duration": 1947,
    "start_time": "2022-08-24T09:14:44.329Z"
   },
   {
    "duration": 34,
    "start_time": "2022-08-24T09:14:46.278Z"
   },
   {
    "duration": 3,
    "start_time": "2022-08-24T09:14:46.314Z"
   },
   {
    "duration": 31,
    "start_time": "2022-08-24T09:14:46.318Z"
   },
   {
    "duration": 5,
    "start_time": "2022-08-24T09:14:46.351Z"
   },
   {
    "duration": 7,
    "start_time": "2022-08-24T09:14:46.357Z"
   },
   {
    "duration": 5,
    "start_time": "2022-08-24T09:14:46.366Z"
   },
   {
    "duration": 7,
    "start_time": "2022-08-24T09:14:46.372Z"
   },
   {
    "duration": 35,
    "start_time": "2022-08-24T09:14:46.380Z"
   },
   {
    "duration": 5,
    "start_time": "2022-08-24T09:14:46.417Z"
   },
   {
    "duration": 10,
    "start_time": "2022-08-24T09:14:46.424Z"
   },
   {
    "duration": 26,
    "start_time": "2022-08-24T09:14:46.436Z"
   },
   {
    "duration": 18,
    "start_time": "2022-08-24T09:14:46.463Z"
   },
   {
    "duration": 31,
    "start_time": "2022-08-24T09:14:46.483Z"
   },
   {
    "duration": 13,
    "start_time": "2022-08-24T09:14:46.515Z"
   },
   {
    "duration": 33,
    "start_time": "2022-08-24T09:14:46.529Z"
   },
   {
    "duration": 14,
    "start_time": "2022-08-24T09:14:46.563Z"
   },
   {
    "duration": 38,
    "start_time": "2022-08-24T09:14:46.579Z"
   },
   {
    "duration": 22,
    "start_time": "2022-08-24T09:14:46.619Z"
   },
   {
    "duration": 4,
    "start_time": "2022-08-24T09:14:46.643Z"
   },
   {
    "duration": 7,
    "start_time": "2022-08-24T09:14:46.649Z"
   },
   {
    "duration": 13,
    "start_time": "2022-08-24T09:14:46.657Z"
   },
   {
    "duration": 10,
    "start_time": "2022-08-24T09:14:46.671Z"
   },
   {
    "duration": 31,
    "start_time": "2022-08-24T09:14:46.682Z"
   },
   {
    "duration": 6,
    "start_time": "2022-08-24T09:14:46.714Z"
   },
   {
    "duration": 38,
    "start_time": "2022-08-24T09:14:46.722Z"
   },
   {
    "duration": 2,
    "start_time": "2022-08-24T09:14:46.762Z"
   },
   {
    "duration": 9,
    "start_time": "2022-08-24T09:14:46.766Z"
   },
   {
    "duration": 3,
    "start_time": "2022-08-24T09:14:46.777Z"
   },
   {
    "duration": 11,
    "start_time": "2022-08-24T09:14:46.781Z"
   },
   {
    "duration": 6,
    "start_time": "2022-08-24T09:14:46.794Z"
   },
   {
    "duration": 6,
    "start_time": "2022-08-24T09:14:46.810Z"
   },
   {
    "duration": 4,
    "start_time": "2022-08-24T09:14:46.818Z"
   },
   {
    "duration": 9,
    "start_time": "2022-08-24T09:14:46.823Z"
   },
   {
    "duration": 9,
    "start_time": "2022-08-24T09:14:46.833Z"
   },
   {
    "duration": 10,
    "start_time": "2022-08-24T09:14:46.844Z"
   },
   {
    "duration": 11,
    "start_time": "2022-08-24T09:14:46.860Z"
   },
   {
    "duration": 43,
    "start_time": "2022-08-24T09:14:46.873Z"
   },
   {
    "duration": 4,
    "start_time": "2022-08-24T09:14:46.917Z"
   },
   {
    "duration": 14,
    "start_time": "2022-08-24T09:14:46.922Z"
   },
   {
    "duration": 11,
    "start_time": "2022-08-24T09:14:46.937Z"
   },
   {
    "duration": 3,
    "start_time": "2022-08-24T09:14:46.950Z"
   },
   {
    "duration": 28,
    "start_time": "2022-08-24T09:14:46.954Z"
   },
   {
    "duration": 32,
    "start_time": "2022-08-24T09:14:46.983Z"
   },
   {
    "duration": 6,
    "start_time": "2022-08-24T09:14:47.017Z"
   },
   {
    "duration": 4,
    "start_time": "2022-08-24T09:14:47.025Z"
   },
   {
    "duration": 22,
    "start_time": "2022-08-24T09:14:47.030Z"
   },
   {
    "duration": 21,
    "start_time": "2022-08-24T09:14:47.053Z"
   },
   {
    "duration": 7,
    "start_time": "2022-08-24T09:14:47.076Z"
   },
   {
    "duration": 27,
    "start_time": "2022-08-24T09:14:47.084Z"
   },
   {
    "duration": 15,
    "start_time": "2022-08-24T09:14:47.113Z"
   },
   {
    "duration": 7,
    "start_time": "2022-08-24T09:14:47.129Z"
   },
   {
    "duration": 16,
    "start_time": "2022-08-24T09:14:47.137Z"
   },
   {
    "duration": 3,
    "start_time": "2022-08-24T09:14:47.155Z"
   },
   {
    "duration": 6,
    "start_time": "2022-08-24T09:14:47.159Z"
   },
   {
    "duration": 833,
    "start_time": "2022-08-24T09:14:47.167Z"
   },
   {
    "duration": 3,
    "start_time": "2022-08-24T09:14:48.001Z"
   },
   {
    "duration": 10,
    "start_time": "2022-08-24T09:14:48.005Z"
   },
   {
    "duration": 2936,
    "start_time": "2022-08-24T09:14:48.016Z"
   },
   {
    "duration": 6,
    "start_time": "2022-08-24T09:14:50.954Z"
   },
   {
    "duration": 9,
    "start_time": "2022-08-24T09:14:50.961Z"
   },
   {
    "duration": 13,
    "start_time": "2022-08-24T09:14:50.972Z"
   },
   {
    "duration": 12,
    "start_time": "2022-08-24T09:14:50.987Z"
   },
   {
    "duration": 41,
    "start_time": "2022-08-24T09:14:51.000Z"
   },
   {
    "duration": 3,
    "start_time": "2022-08-24T09:14:51.043Z"
   },
   {
    "duration": 9,
    "start_time": "2022-08-24T09:14:51.047Z"
   },
   {
    "duration": 12,
    "start_time": "2022-08-24T09:14:51.057Z"
   },
   {
    "duration": 5,
    "start_time": "2022-08-24T09:14:51.071Z"
   },
   {
    "duration": 12,
    "start_time": "2022-08-24T09:14:51.077Z"
   },
   {
    "duration": 31,
    "start_time": "2022-08-24T09:14:51.098Z"
   },
   {
    "duration": 6,
    "start_time": "2022-08-24T09:14:51.131Z"
   },
   {
    "duration": 8,
    "start_time": "2022-08-24T09:14:51.138Z"
   },
   {
    "duration": 16,
    "start_time": "2022-08-24T09:14:51.148Z"
   },
   {
    "duration": 11,
    "start_time": "2022-08-24T09:14:51.165Z"
   },
   {
    "duration": 42,
    "start_time": "2022-08-24T09:14:51.177Z"
   },
   {
    "duration": 6,
    "start_time": "2022-08-24T09:14:51.220Z"
   },
   {
    "duration": 9,
    "start_time": "2022-08-24T09:14:51.227Z"
   },
   {
    "duration": 20,
    "start_time": "2022-08-24T09:14:51.237Z"
   },
   {
    "duration": 5,
    "start_time": "2022-08-24T09:14:51.258Z"
   },
   {
    "duration": 12,
    "start_time": "2022-08-24T09:14:51.264Z"
   },
   {
    "duration": 10,
    "start_time": "2022-08-24T09:14:51.277Z"
   },
   {
    "duration": 6,
    "start_time": "2022-08-24T09:14:51.288Z"
   },
   {
    "duration": 21,
    "start_time": "2022-08-24T09:14:51.296Z"
   },
   {
    "duration": 10,
    "start_time": "2022-08-24T09:14:51.318Z"
   },
   {
    "duration": 11,
    "start_time": "2022-08-24T09:14:51.330Z"
   },
   {
    "duration": 6,
    "start_time": "2022-08-24T09:14:51.343Z"
   },
   {
    "duration": 12,
    "start_time": "2022-08-24T09:14:51.351Z"
   },
   {
    "duration": 18,
    "start_time": "2022-08-24T09:14:51.364Z"
   },
   {
    "duration": 8,
    "start_time": "2022-08-24T09:14:51.384Z"
   },
   {
    "duration": 7,
    "start_time": "2022-08-24T09:30:28.787Z"
   },
   {
    "duration": 6,
    "start_time": "2022-08-24T09:30:29.747Z"
   },
   {
    "duration": 7,
    "start_time": "2022-08-24T09:30:54.212Z"
   },
   {
    "duration": 39,
    "start_time": "2022-08-24T09:32:27.837Z"
   },
   {
    "duration": 36,
    "start_time": "2022-08-24T09:32:32.038Z"
   },
   {
    "duration": 417,
    "start_time": "2022-08-24T09:33:11.771Z"
   },
   {
    "duration": 84,
    "start_time": "2022-08-24T09:33:12.190Z"
   },
   {
    "duration": 3,
    "start_time": "2022-08-24T09:33:12.276Z"
   },
   {
    "duration": 22,
    "start_time": "2022-08-24T09:33:12.281Z"
   },
   {
    "duration": 20,
    "start_time": "2022-08-24T09:33:12.305Z"
   },
   {
    "duration": 13,
    "start_time": "2022-08-24T09:33:12.327Z"
   },
   {
    "duration": 11,
    "start_time": "2022-08-24T09:33:12.342Z"
   },
   {
    "duration": 24,
    "start_time": "2022-08-24T09:33:12.354Z"
   },
   {
    "duration": 24,
    "start_time": "2022-08-24T09:33:12.380Z"
   },
   {
    "duration": 21,
    "start_time": "2022-08-24T09:33:12.408Z"
   },
   {
    "duration": 27,
    "start_time": "2022-08-24T09:33:12.431Z"
   },
   {
    "duration": 10,
    "start_time": "2022-08-24T09:33:12.460Z"
   },
   {
    "duration": 16,
    "start_time": "2022-08-24T09:33:12.472Z"
   },
   {
    "duration": 33,
    "start_time": "2022-08-24T09:33:12.490Z"
   },
   {
    "duration": 29,
    "start_time": "2022-08-24T09:33:12.530Z"
   },
   {
    "duration": 12,
    "start_time": "2022-08-24T09:33:12.562Z"
   },
   {
    "duration": 34,
    "start_time": "2022-08-24T09:33:12.576Z"
   },
   {
    "duration": 51,
    "start_time": "2022-08-24T09:33:12.621Z"
   },
   {
    "duration": 34,
    "start_time": "2022-08-24T09:33:12.675Z"
   },
   {
    "duration": 26,
    "start_time": "2022-08-24T09:33:12.711Z"
   },
   {
    "duration": 44,
    "start_time": "2022-08-24T09:33:12.739Z"
   },
   {
    "duration": 15,
    "start_time": "2022-08-24T09:33:12.784Z"
   },
   {
    "duration": 31,
    "start_time": "2022-08-24T09:33:12.802Z"
   },
   {
    "duration": 27,
    "start_time": "2022-08-24T09:33:12.836Z"
   },
   {
    "duration": 34,
    "start_time": "2022-08-24T09:33:12.865Z"
   },
   {
    "duration": 9,
    "start_time": "2022-08-24T09:33:12.901Z"
   },
   {
    "duration": 33,
    "start_time": "2022-08-24T09:33:12.918Z"
   },
   {
    "duration": 23,
    "start_time": "2022-08-24T09:33:12.956Z"
   },
   {
    "duration": 25,
    "start_time": "2022-08-24T09:33:12.981Z"
   },
   {
    "duration": 46,
    "start_time": "2022-08-24T09:33:13.008Z"
   },
   {
    "duration": 6,
    "start_time": "2022-08-24T09:33:13.056Z"
   },
   {
    "duration": 71,
    "start_time": "2022-08-24T09:33:13.064Z"
   },
   {
    "duration": 4,
    "start_time": "2022-08-24T09:33:13.137Z"
   },
   {
    "duration": 11,
    "start_time": "2022-08-24T09:33:13.143Z"
   },
   {
    "duration": 10,
    "start_time": "2022-08-24T09:33:13.155Z"
   },
   {
    "duration": 12,
    "start_time": "2022-08-24T09:33:13.166Z"
   },
   {
    "duration": 6,
    "start_time": "2022-08-24T09:33:13.179Z"
   },
   {
    "duration": 30,
    "start_time": "2022-08-24T09:33:13.187Z"
   },
   {
    "duration": 20,
    "start_time": "2022-08-24T09:33:13.219Z"
   },
   {
    "duration": 8,
    "start_time": "2022-08-24T09:33:13.241Z"
   },
   {
    "duration": 4,
    "start_time": "2022-08-24T09:33:13.251Z"
   },
   {
    "duration": 4,
    "start_time": "2022-08-24T09:33:13.257Z"
   },
   {
    "duration": 13,
    "start_time": "2022-08-24T09:33:13.263Z"
   },
   {
    "duration": 9,
    "start_time": "2022-08-24T09:33:13.278Z"
   },
   {
    "duration": 8,
    "start_time": "2022-08-24T09:33:13.288Z"
   },
   {
    "duration": 2224,
    "start_time": "2022-08-24T09:33:13.312Z"
   },
   {
    "duration": 33,
    "start_time": "2022-08-24T09:33:15.537Z"
   },
   {
    "duration": 4,
    "start_time": "2022-08-24T09:33:15.572Z"
   },
   {
    "duration": 61,
    "start_time": "2022-08-24T09:33:15.577Z"
   },
   {
    "duration": 5,
    "start_time": "2022-08-24T09:33:15.640Z"
   },
   {
    "duration": 8,
    "start_time": "2022-08-24T09:33:15.647Z"
   },
   {
    "duration": 11,
    "start_time": "2022-08-24T09:33:15.657Z"
   },
   {
    "duration": 9,
    "start_time": "2022-08-24T09:33:15.670Z"
   },
   {
    "duration": 8,
    "start_time": "2022-08-24T09:33:15.681Z"
   },
   {
    "duration": 6,
    "start_time": "2022-08-24T09:33:15.691Z"
   },
   {
    "duration": 8,
    "start_time": "2022-08-24T09:33:15.726Z"
   },
   {
    "duration": 12,
    "start_time": "2022-08-24T09:33:15.736Z"
   },
   {
    "duration": 43,
    "start_time": "2022-08-24T09:33:15.750Z"
   },
   {
    "duration": 39,
    "start_time": "2022-08-24T09:33:15.795Z"
   },
   {
    "duration": 29,
    "start_time": "2022-08-24T09:33:15.836Z"
   },
   {
    "duration": 13,
    "start_time": "2022-08-24T09:33:15.866Z"
   },
   {
    "duration": 58,
    "start_time": "2022-08-24T09:33:15.880Z"
   },
   {
    "duration": 15,
    "start_time": "2022-08-24T09:33:15.940Z"
   },
   {
    "duration": 13,
    "start_time": "2022-08-24T09:33:15.956Z"
   },
   {
    "duration": 21,
    "start_time": "2022-08-24T09:33:15.971Z"
   },
   {
    "duration": 21,
    "start_time": "2022-08-24T09:33:15.994Z"
   },
   {
    "duration": 5,
    "start_time": "2022-08-24T09:33:16.016Z"
   },
   {
    "duration": 17,
    "start_time": "2022-08-24T09:33:16.030Z"
   },
   {
    "duration": 9,
    "start_time": "2022-08-24T09:33:16.049Z"
   },
   {
    "duration": 11,
    "start_time": "2022-08-24T09:33:16.059Z"
   },
   {
    "duration": 6,
    "start_time": "2022-08-24T09:33:16.071Z"
   },
   {
    "duration": 47,
    "start_time": "2022-08-24T09:33:16.079Z"
   },
   {
    "duration": 1,
    "start_time": "2022-08-24T09:33:16.128Z"
   },
   {
    "duration": 10,
    "start_time": "2022-08-24T09:33:16.131Z"
   },
   {
    "duration": 8,
    "start_time": "2022-08-24T09:33:16.142Z"
   },
   {
    "duration": 11,
    "start_time": "2022-08-24T09:33:16.152Z"
   },
   {
    "duration": 5,
    "start_time": "2022-08-24T09:33:16.164Z"
   },
   {
    "duration": 13,
    "start_time": "2022-08-24T09:33:16.170Z"
   },
   {
    "duration": 5,
    "start_time": "2022-08-24T09:33:16.185Z"
   },
   {
    "duration": 12,
    "start_time": "2022-08-24T09:33:16.191Z"
   },
   {
    "duration": 15,
    "start_time": "2022-08-24T09:33:16.217Z"
   },
   {
    "duration": 12,
    "start_time": "2022-08-24T09:33:16.238Z"
   },
   {
    "duration": 21,
    "start_time": "2022-08-24T09:33:16.251Z"
   },
   {
    "duration": 16,
    "start_time": "2022-08-24T09:33:16.274Z"
   },
   {
    "duration": 4,
    "start_time": "2022-08-24T09:33:16.292Z"
   },
   {
    "duration": 23,
    "start_time": "2022-08-24T09:33:16.314Z"
   },
   {
    "duration": 18,
    "start_time": "2022-08-24T09:33:16.339Z"
   },
   {
    "duration": 4,
    "start_time": "2022-08-24T09:33:16.358Z"
   },
   {
    "duration": 59,
    "start_time": "2022-08-24T09:33:16.364Z"
   },
   {
    "duration": 10,
    "start_time": "2022-08-24T09:33:16.431Z"
   },
   {
    "duration": 8,
    "start_time": "2022-08-24T09:33:16.443Z"
   },
   {
    "duration": 5,
    "start_time": "2022-08-24T09:33:16.453Z"
   },
   {
    "duration": 16,
    "start_time": "2022-08-24T09:33:16.460Z"
   },
   {
    "duration": 49,
    "start_time": "2022-08-24T09:33:16.478Z"
   },
   {
    "duration": 8,
    "start_time": "2022-08-24T09:33:16.528Z"
   },
   {
    "duration": 7,
    "start_time": "2022-08-24T09:33:16.538Z"
   },
   {
    "duration": 17,
    "start_time": "2022-08-24T09:33:16.547Z"
   },
   {
    "duration": 8,
    "start_time": "2022-08-24T09:33:16.565Z"
   },
   {
    "duration": 18,
    "start_time": "2022-08-24T09:33:16.574Z"
   },
   {
    "duration": 33,
    "start_time": "2022-08-24T09:33:16.593Z"
   },
   {
    "duration": 16,
    "start_time": "2022-08-24T09:33:16.628Z"
   },
   {
    "duration": 817,
    "start_time": "2022-08-24T09:33:16.645Z"
   },
   {
    "duration": 4,
    "start_time": "2022-08-24T09:33:17.464Z"
   },
   {
    "duration": 13,
    "start_time": "2022-08-24T09:33:17.470Z"
   },
   {
    "duration": 3291,
    "start_time": "2022-08-24T09:33:17.485Z"
   },
   {
    "duration": 7,
    "start_time": "2022-08-24T09:33:20.777Z"
   },
   {
    "duration": 12,
    "start_time": "2022-08-24T09:33:20.786Z"
   },
   {
    "duration": 28,
    "start_time": "2022-08-24T09:33:20.800Z"
   },
   {
    "duration": 13,
    "start_time": "2022-08-24T09:33:20.830Z"
   },
   {
    "duration": 35,
    "start_time": "2022-08-24T09:33:20.846Z"
   },
   {
    "duration": 5,
    "start_time": "2022-08-24T09:33:20.883Z"
   },
   {
    "duration": 10,
    "start_time": "2022-08-24T09:33:20.889Z"
   },
   {
    "duration": 28,
    "start_time": "2022-08-24T09:33:20.901Z"
   },
   {
    "duration": 10,
    "start_time": "2022-08-24T09:33:20.930Z"
   },
   {
    "duration": 10,
    "start_time": "2022-08-24T09:33:20.942Z"
   },
   {
    "duration": 38,
    "start_time": "2022-08-24T09:33:20.954Z"
   },
   {
    "duration": 10,
    "start_time": "2022-08-24T09:33:20.993Z"
   },
   {
    "duration": 27,
    "start_time": "2022-08-24T09:33:21.005Z"
   },
   {
    "duration": 18,
    "start_time": "2022-08-24T09:33:21.033Z"
   },
   {
    "duration": 12,
    "start_time": "2022-08-24T09:33:21.053Z"
   },
   {
    "duration": 13,
    "start_time": "2022-08-24T09:33:21.067Z"
   },
   {
    "duration": 6,
    "start_time": "2022-08-24T09:33:21.081Z"
   },
   {
    "duration": 29,
    "start_time": "2022-08-24T09:33:21.088Z"
   },
   {
    "duration": 13,
    "start_time": "2022-08-24T09:33:21.123Z"
   },
   {
    "duration": 6,
    "start_time": "2022-08-24T09:33:21.138Z"
   },
   {
    "duration": 12,
    "start_time": "2022-08-24T09:33:21.146Z"
   },
   {
    "duration": 15,
    "start_time": "2022-08-24T09:33:21.160Z"
   },
   {
    "duration": 7,
    "start_time": "2022-08-24T09:33:21.177Z"
   },
   {
    "duration": 40,
    "start_time": "2022-08-24T09:33:21.186Z"
   },
   {
    "duration": 6,
    "start_time": "2022-08-24T09:33:21.227Z"
   },
   {
    "duration": 9,
    "start_time": "2022-08-24T09:33:21.234Z"
   },
   {
    "duration": 7,
    "start_time": "2022-08-24T09:33:21.244Z"
   },
   {
    "duration": 16,
    "start_time": "2022-08-24T09:33:21.253Z"
   },
   {
    "duration": 6,
    "start_time": "2022-08-24T09:33:21.271Z"
   },
   {
    "duration": 16,
    "start_time": "2022-08-24T09:33:21.279Z"
   },
   {
    "duration": 32,
    "start_time": "2022-08-24T09:33:57.809Z"
   },
   {
    "duration": 24,
    "start_time": "2022-08-24T09:33:58.612Z"
   },
   {
    "duration": 16,
    "start_time": "2022-08-24T09:34:20.842Z"
   },
   {
    "duration": 3,
    "start_time": "2022-08-24T09:35:00.023Z"
   },
   {
    "duration": 81,
    "start_time": "2022-08-24T09:35:00.606Z"
   },
   {
    "duration": 3,
    "start_time": "2022-08-24T09:35:01.051Z"
   },
   {
    "duration": 13,
    "start_time": "2022-08-24T09:35:01.261Z"
   },
   {
    "duration": 13,
    "start_time": "2022-08-24T09:35:01.684Z"
   },
   {
    "duration": 8,
    "start_time": "2022-08-24T09:35:03.637Z"
   },
   {
    "duration": 9,
    "start_time": "2022-08-24T09:35:04.090Z"
   },
   {
    "duration": 18,
    "start_time": "2022-08-24T09:35:06.644Z"
   },
   {
    "duration": 10,
    "start_time": "2022-08-24T09:35:06.969Z"
   },
   {
    "duration": 16,
    "start_time": "2022-08-24T09:35:07.611Z"
   },
   {
    "duration": 11,
    "start_time": "2022-08-24T09:35:09.094Z"
   },
   {
    "duration": 8,
    "start_time": "2022-08-24T09:35:10.289Z"
   },
   {
    "duration": 10,
    "start_time": "2022-08-24T09:35:11.296Z"
   },
   {
    "duration": 13,
    "start_time": "2022-08-24T09:35:12.190Z"
   },
   {
    "duration": 6,
    "start_time": "2022-08-24T09:35:16.293Z"
   },
   {
    "duration": 7,
    "start_time": "2022-08-24T09:35:16.752Z"
   },
   {
    "duration": 26,
    "start_time": "2022-08-24T09:35:17.977Z"
   },
   {
    "duration": 43,
    "start_time": "2022-08-24T09:35:20.005Z"
   },
   {
    "duration": 28,
    "start_time": "2022-08-24T09:35:22.851Z"
   },
   {
    "duration": 12,
    "start_time": "2022-08-24T09:35:25.093Z"
   },
   {
    "duration": 12,
    "start_time": "2022-08-24T09:35:25.646Z"
   },
   {
    "duration": 11,
    "start_time": "2022-08-24T09:35:27.128Z"
   },
   {
    "duration": 4,
    "start_time": "2022-08-24T09:35:28.580Z"
   },
   {
    "duration": 15,
    "start_time": "2022-08-24T09:35:29.435Z"
   },
   {
    "duration": 28,
    "start_time": "2022-08-24T09:35:30.763Z"
   },
   {
    "duration": 8,
    "start_time": "2022-08-24T09:35:32.316Z"
   },
   {
    "duration": 5,
    "start_time": "2022-08-24T09:35:33.054Z"
   },
   {
    "duration": 3,
    "start_time": "2022-08-24T09:35:34.037Z"
   },
   {
    "duration": 10,
    "start_time": "2022-08-24T09:35:36.066Z"
   },
   {
    "duration": 12,
    "start_time": "2022-08-24T09:35:42.335Z"
   },
   {
    "duration": 17,
    "start_time": "2022-08-24T09:35:58.086Z"
   },
   {
    "duration": 2,
    "start_time": "2022-08-24T09:36:15.504Z"
   },
   {
    "duration": 52,
    "start_time": "2022-08-24T09:36:17.501Z"
   },
   {
    "duration": 4,
    "start_time": "2022-08-24T09:36:20.698Z"
   },
   {
    "duration": 7,
    "start_time": "2022-08-24T09:36:22.983Z"
   },
   {
    "duration": 5,
    "start_time": "2022-08-24T09:36:23.553Z"
   },
   {
    "duration": 8,
    "start_time": "2022-08-24T09:36:31.213Z"
   },
   {
    "duration": 5,
    "start_time": "2022-08-24T09:36:32.747Z"
   },
   {
    "duration": 4,
    "start_time": "2022-08-24T09:36:36.872Z"
   },
   {
    "duration": 6,
    "start_time": "2022-08-24T09:37:39.439Z"
   },
   {
    "duration": 6,
    "start_time": "2022-08-24T09:37:48.533Z"
   },
   {
    "duration": 3,
    "start_time": "2022-08-24T09:37:50.275Z"
   },
   {
    "duration": 3,
    "start_time": "2022-08-24T09:37:53.525Z"
   },
   {
    "duration": 7,
    "start_time": "2022-08-24T09:37:54.427Z"
   },
   {
    "duration": 7,
    "start_time": "2022-08-24T09:38:06.729Z"
   },
   {
    "duration": 9,
    "start_time": "2022-08-24T09:38:07.958Z"
   },
   {
    "duration": 2110,
    "start_time": "2022-08-24T09:38:13.182Z"
   },
   {
    "duration": 37,
    "start_time": "2022-08-24T09:38:24.487Z"
   },
   {
    "duration": 4,
    "start_time": "2022-08-24T09:38:27.950Z"
   },
   {
    "duration": 31,
    "start_time": "2022-08-24T09:38:28.344Z"
   },
   {
    "duration": 6,
    "start_time": "2022-08-24T09:38:29.884Z"
   },
   {
    "duration": 5,
    "start_time": "2022-08-24T09:38:37.876Z"
   },
   {
    "duration": 4,
    "start_time": "2022-08-24T09:38:39.955Z"
   },
   {
    "duration": 7,
    "start_time": "2022-08-24T09:38:52.181Z"
   },
   {
    "duration": 6,
    "start_time": "2022-08-24T09:38:59.091Z"
   },
   {
    "duration": 2,
    "start_time": "2022-08-24T09:39:01.739Z"
   },
   {
    "duration": 10,
    "start_time": "2022-08-24T09:39:06.409Z"
   },
   {
    "duration": 6,
    "start_time": "2022-08-24T09:39:10.377Z"
   },
   {
    "duration": 20,
    "start_time": "2022-08-24T09:40:49.428Z"
   },
   {
    "duration": 20,
    "start_time": "2022-08-24T09:40:49.951Z"
   },
   {
    "duration": 14,
    "start_time": "2022-08-24T09:41:08.648Z"
   },
   {
    "duration": 34,
    "start_time": "2022-08-24T09:41:11.724Z"
   },
   {
    "duration": 22,
    "start_time": "2022-08-24T09:41:20.436Z"
   },
   {
    "duration": 16,
    "start_time": "2022-08-24T09:41:21.308Z"
   },
   {
    "duration": 17,
    "start_time": "2022-08-24T09:41:23.324Z"
   },
   {
    "duration": 3,
    "start_time": "2022-08-24T09:41:25.996Z"
   },
   {
    "duration": 2,
    "start_time": "2022-08-24T09:41:28.939Z"
   },
   {
    "duration": 18,
    "start_time": "2022-08-24T09:41:29.836Z"
   },
   {
    "duration": 7,
    "start_time": "2022-08-24T09:41:30.395Z"
   },
   {
    "duration": 17,
    "start_time": "2022-08-24T09:41:30.872Z"
   },
   {
    "duration": 7,
    "start_time": "2022-08-24T09:41:36.879Z"
   },
   {
    "duration": 22,
    "start_time": "2022-08-24T09:41:56.603Z"
   },
   {
    "duration": 5,
    "start_time": "2022-08-24T09:41:57.412Z"
   },
   {
    "duration": 4,
    "start_time": "2022-08-24T09:41:58.847Z"
   },
   {
    "duration": 2,
    "start_time": "2022-08-24T09:41:59.752Z"
   },
   {
    "duration": 8,
    "start_time": "2022-08-24T09:42:00.324Z"
   },
   {
    "duration": 2,
    "start_time": "2022-08-24T09:42:11.791Z"
   },
   {
    "duration": 6,
    "start_time": "2022-08-24T09:42:12.085Z"
   },
   {
    "duration": 6,
    "start_time": "2022-08-24T09:42:14.142Z"
   },
   {
    "duration": 6,
    "start_time": "2022-08-24T09:42:14.799Z"
   },
   {
    "duration": 11,
    "start_time": "2022-08-24T09:42:15.932Z"
   },
   {
    "duration": 9,
    "start_time": "2022-08-24T09:42:18.166Z"
   },
   {
    "duration": 12,
    "start_time": "2022-08-24T09:42:21.543Z"
   },
   {
    "duration": 12,
    "start_time": "2022-08-24T09:42:26.758Z"
   },
   {
    "duration": 5,
    "start_time": "2022-08-24T09:42:29.383Z"
   },
   {
    "duration": 12,
    "start_time": "2022-08-24T09:42:30.082Z"
   },
   {
    "duration": 12,
    "start_time": "2022-08-24T09:42:40.909Z"
   },
   {
    "duration": 4,
    "start_time": "2022-08-24T09:42:41.322Z"
   },
   {
    "duration": 15,
    "start_time": "2022-08-24T09:42:41.547Z"
   },
   {
    "duration": 7,
    "start_time": "2022-08-24T09:42:42.947Z"
   },
   {
    "duration": 6,
    "start_time": "2022-08-24T09:42:45.737Z"
   },
   {
    "duration": 43,
    "start_time": "2022-08-24T09:43:01.717Z"
   },
   {
    "duration": 14,
    "start_time": "2022-08-24T09:46:01.232Z"
   },
   {
    "duration": 31,
    "start_time": "2022-08-24T09:46:24.372Z"
   },
   {
    "duration": 11,
    "start_time": "2022-08-24T09:46:32.664Z"
   },
   {
    "duration": 8,
    "start_time": "2022-08-24T09:46:33.235Z"
   },
   {
    "duration": 16,
    "start_time": "2022-08-24T09:46:34.136Z"
   },
   {
    "duration": 5,
    "start_time": "2022-08-24T09:49:56.570Z"
   },
   {
    "duration": 119,
    "start_time": "2022-08-24T09:49:59.931Z"
   },
   {
    "duration": 214,
    "start_time": "2022-08-24T09:50:06.355Z"
   },
   {
    "duration": 175,
    "start_time": "2022-08-24T09:50:51.361Z"
   },
   {
    "duration": 10,
    "start_time": "2022-08-24T09:56:26.559Z"
   },
   {
    "duration": 9,
    "start_time": "2022-08-24T09:58:03.794Z"
   },
   {
    "duration": 9,
    "start_time": "2022-08-24T09:58:49.698Z"
   },
   {
    "duration": 10,
    "start_time": "2022-08-24T09:58:55.181Z"
   },
   {
    "duration": 16,
    "start_time": "2022-08-24T09:59:44.372Z"
   },
   {
    "duration": 32,
    "start_time": "2022-08-24T10:00:05.710Z"
   },
   {
    "duration": 23,
    "start_time": "2022-08-24T10:01:49.474Z"
   },
   {
    "duration": 15,
    "start_time": "2022-08-24T10:03:19.953Z"
   },
   {
    "duration": 23,
    "start_time": "2022-08-24T10:04:36.215Z"
   },
   {
    "duration": 22,
    "start_time": "2022-08-24T10:04:58.913Z"
   },
   {
    "duration": 22,
    "start_time": "2022-08-24T10:05:08.465Z"
   },
   {
    "duration": 20,
    "start_time": "2022-08-24T10:05:11.736Z"
   },
   {
    "duration": 5,
    "start_time": "2022-08-24T10:05:21.451Z"
   },
   {
    "duration": 36,
    "start_time": "2022-08-24T10:05:22.682Z"
   },
   {
    "duration": 12,
    "start_time": "2022-08-24T10:05:31.395Z"
   },
   {
    "duration": 22,
    "start_time": "2022-08-24T10:05:36.887Z"
   },
   {
    "duration": 12,
    "start_time": "2022-08-24T10:05:37.563Z"
   },
   {
    "duration": 397,
    "start_time": "2022-08-24T10:05:50.555Z"
   },
   {
    "duration": 79,
    "start_time": "2022-08-24T10:05:50.954Z"
   },
   {
    "duration": 3,
    "start_time": "2022-08-24T10:05:51.035Z"
   },
   {
    "duration": 26,
    "start_time": "2022-08-24T10:05:51.041Z"
   },
   {
    "duration": 13,
    "start_time": "2022-08-24T10:05:51.068Z"
   },
   {
    "duration": 8,
    "start_time": "2022-08-24T10:05:51.082Z"
   },
   {
    "duration": 26,
    "start_time": "2022-08-24T10:05:51.092Z"
   },
   {
    "duration": 16,
    "start_time": "2022-08-24T10:05:51.120Z"
   },
   {
    "duration": 8,
    "start_time": "2022-08-24T10:05:51.138Z"
   },
   {
    "duration": 11,
    "start_time": "2022-08-24T10:05:51.149Z"
   },
   {
    "duration": 10,
    "start_time": "2022-08-24T10:05:51.161Z"
   },
   {
    "duration": 8,
    "start_time": "2022-08-24T10:05:51.172Z"
   },
   {
    "duration": 10,
    "start_time": "2022-08-24T10:05:51.210Z"
   },
   {
    "duration": 23,
    "start_time": "2022-08-24T10:05:51.222Z"
   },
   {
    "duration": 6,
    "start_time": "2022-08-24T10:05:51.246Z"
   },
   {
    "duration": 7,
    "start_time": "2022-08-24T10:05:51.253Z"
   },
   {
    "duration": 23,
    "start_time": "2022-08-24T10:05:51.261Z"
   },
   {
    "duration": 45,
    "start_time": "2022-08-24T10:05:51.286Z"
   },
   {
    "duration": 20,
    "start_time": "2022-08-24T10:05:51.332Z"
   },
   {
    "duration": 7,
    "start_time": "2022-08-24T10:05:51.354Z"
   },
   {
    "duration": 9,
    "start_time": "2022-08-24T10:05:51.362Z"
   },
   {
    "duration": 45,
    "start_time": "2022-08-24T10:05:51.373Z"
   },
   {
    "duration": 4,
    "start_time": "2022-08-24T10:05:51.420Z"
   },
   {
    "duration": 10,
    "start_time": "2022-08-24T10:05:51.425Z"
   },
   {
    "duration": 28,
    "start_time": "2022-08-24T10:05:51.436Z"
   },
   {
    "duration": 5,
    "start_time": "2022-08-24T10:05:51.466Z"
   },
   {
    "duration": 5,
    "start_time": "2022-08-24T10:05:51.473Z"
   },
   {
    "duration": 31,
    "start_time": "2022-08-24T10:05:51.481Z"
   },
   {
    "duration": 12,
    "start_time": "2022-08-24T10:05:51.514Z"
   },
   {
    "duration": 10,
    "start_time": "2022-08-24T10:05:51.527Z"
   },
   {
    "duration": 5,
    "start_time": "2022-08-24T10:05:51.538Z"
   },
   {
    "duration": 47,
    "start_time": "2022-08-24T10:05:51.544Z"
   },
   {
    "duration": 19,
    "start_time": "2022-08-24T10:05:51.592Z"
   },
   {
    "duration": 9,
    "start_time": "2022-08-24T10:05:51.612Z"
   },
   {
    "duration": 6,
    "start_time": "2022-08-24T10:05:51.622Z"
   },
   {
    "duration": 8,
    "start_time": "2022-08-24T10:05:51.630Z"
   },
   {
    "duration": 5,
    "start_time": "2022-08-24T10:05:51.639Z"
   },
   {
    "duration": 4,
    "start_time": "2022-08-24T10:05:51.646Z"
   },
   {
    "duration": 5,
    "start_time": "2022-08-24T10:05:51.651Z"
   },
   {
    "duration": 9,
    "start_time": "2022-08-24T10:05:51.657Z"
   },
   {
    "duration": 3,
    "start_time": "2022-08-24T10:05:51.668Z"
   },
   {
    "duration": 39,
    "start_time": "2022-08-24T10:05:51.673Z"
   },
   {
    "duration": 9,
    "start_time": "2022-08-24T10:05:51.713Z"
   },
   {
    "duration": 7,
    "start_time": "2022-08-24T10:05:51.723Z"
   },
   {
    "duration": 7,
    "start_time": "2022-08-24T10:05:51.731Z"
   },
   {
    "duration": 2039,
    "start_time": "2022-08-24T10:05:51.739Z"
   },
   {
    "duration": 34,
    "start_time": "2022-08-24T10:05:53.780Z"
   },
   {
    "duration": 4,
    "start_time": "2022-08-24T10:05:53.815Z"
   },
   {
    "duration": 31,
    "start_time": "2022-08-24T10:05:53.820Z"
   },
   {
    "duration": 4,
    "start_time": "2022-08-24T10:05:53.853Z"
   },
   {
    "duration": 10,
    "start_time": "2022-08-24T10:05:53.858Z"
   },
   {
    "duration": 8,
    "start_time": "2022-08-24T10:05:53.869Z"
   },
   {
    "duration": 7,
    "start_time": "2022-08-24T10:05:53.878Z"
   },
   {
    "duration": 25,
    "start_time": "2022-08-24T10:05:53.886Z"
   },
   {
    "duration": 12,
    "start_time": "2022-08-24T10:05:53.912Z"
   },
   {
    "duration": 14,
    "start_time": "2022-08-24T10:05:53.925Z"
   },
   {
    "duration": 12,
    "start_time": "2022-08-24T10:05:53.940Z"
   },
   {
    "duration": 25,
    "start_time": "2022-08-24T10:05:53.954Z"
   },
   {
    "duration": 17,
    "start_time": "2022-08-24T10:05:53.980Z"
   },
   {
    "duration": 19,
    "start_time": "2022-08-24T10:05:53.998Z"
   },
   {
    "duration": 11,
    "start_time": "2022-08-24T10:05:54.018Z"
   },
   {
    "duration": 29,
    "start_time": "2022-08-24T10:05:54.031Z"
   },
   {
    "duration": 14,
    "start_time": "2022-08-24T10:05:54.061Z"
   },
   {
    "duration": 14,
    "start_time": "2022-08-24T10:05:54.076Z"
   },
   {
    "duration": 18,
    "start_time": "2022-08-24T10:05:54.112Z"
   },
   {
    "duration": 3,
    "start_time": "2022-08-24T10:05:54.132Z"
   },
   {
    "duration": 6,
    "start_time": "2022-08-24T10:05:54.137Z"
   },
   {
    "duration": 13,
    "start_time": "2022-08-24T10:05:54.144Z"
   },
   {
    "duration": 11,
    "start_time": "2022-08-24T10:05:54.158Z"
   },
   {
    "duration": 17,
    "start_time": "2022-08-24T10:05:54.171Z"
   },
   {
    "duration": 6,
    "start_time": "2022-08-24T10:05:54.189Z"
   },
   {
    "duration": 31,
    "start_time": "2022-08-24T10:05:54.196Z"
   },
   {
    "duration": 2,
    "start_time": "2022-08-24T10:05:54.228Z"
   },
   {
    "duration": 10,
    "start_time": "2022-08-24T10:05:54.231Z"
   },
   {
    "duration": 4,
    "start_time": "2022-08-24T10:05:54.242Z"
   },
   {
    "duration": 12,
    "start_time": "2022-08-24T10:05:54.247Z"
   },
   {
    "duration": 7,
    "start_time": "2022-08-24T10:05:54.260Z"
   },
   {
    "duration": 8,
    "start_time": "2022-08-24T10:05:54.268Z"
   },
   {
    "duration": 5,
    "start_time": "2022-08-24T10:05:54.277Z"
   },
   {
    "duration": 8,
    "start_time": "2022-08-24T10:05:54.283Z"
   },
   {
    "duration": 6,
    "start_time": "2022-08-24T10:05:54.311Z"
   },
   {
    "duration": 9,
    "start_time": "2022-08-24T10:05:54.323Z"
   },
   {
    "duration": 12,
    "start_time": "2022-08-24T10:05:54.334Z"
   },
   {
    "duration": 11,
    "start_time": "2022-08-24T10:05:54.348Z"
   },
   {
    "duration": 4,
    "start_time": "2022-08-24T10:05:54.360Z"
   },
   {
    "duration": 12,
    "start_time": "2022-08-24T10:05:54.366Z"
   },
   {
    "duration": 12,
    "start_time": "2022-08-24T10:05:54.411Z"
   },
   {
    "duration": 4,
    "start_time": "2022-08-24T10:05:54.424Z"
   },
   {
    "duration": 16,
    "start_time": "2022-08-24T10:05:54.429Z"
   },
   {
    "duration": 7,
    "start_time": "2022-08-24T10:05:54.446Z"
   },
   {
    "duration": 8,
    "start_time": "2022-08-24T10:05:54.455Z"
   },
   {
    "duration": 5,
    "start_time": "2022-08-24T10:05:54.464Z"
   },
   {
    "duration": 42,
    "start_time": "2022-08-24T10:05:54.471Z"
   },
   {
    "duration": 21,
    "start_time": "2022-08-24T10:05:54.515Z"
   },
   {
    "duration": 6,
    "start_time": "2022-08-24T10:05:54.538Z"
   },
   {
    "duration": 6,
    "start_time": "2022-08-24T10:05:54.546Z"
   },
   {
    "duration": 18,
    "start_time": "2022-08-24T10:05:54.553Z"
   },
   {
    "duration": 7,
    "start_time": "2022-08-24T10:05:54.573Z"
   },
   {
    "duration": 36,
    "start_time": "2022-08-24T10:05:54.581Z"
   },
   {
    "duration": 20,
    "start_time": "2022-08-24T10:05:54.619Z"
   },
   {
    "duration": 4,
    "start_time": "2022-08-24T10:05:54.641Z"
   },
   {
    "duration": 24,
    "start_time": "2022-08-24T10:05:54.646Z"
   },
   {
    "duration": 10,
    "start_time": "2022-08-24T10:05:54.671Z"
   },
   {
    "duration": 30,
    "start_time": "2022-08-24T10:05:54.682Z"
   },
   {
    "duration": 6,
    "start_time": "2022-08-24T10:05:54.713Z"
   },
   {
    "duration": 762,
    "start_time": "2022-08-24T10:05:54.721Z"
   },
   {
    "duration": 4,
    "start_time": "2022-08-24T10:05:55.485Z"
   },
   {
    "duration": 27,
    "start_time": "2022-08-24T10:05:55.492Z"
   },
   {
    "duration": 2968,
    "start_time": "2022-08-24T10:05:55.520Z"
   },
   {
    "duration": 7,
    "start_time": "2022-08-24T10:05:58.489Z"
   },
   {
    "duration": 13,
    "start_time": "2022-08-24T10:05:58.498Z"
   },
   {
    "duration": 4,
    "start_time": "2022-08-24T10:05:58.513Z"
   },
   {
    "duration": 13,
    "start_time": "2022-08-24T10:05:58.518Z"
   },
   {
    "duration": 30,
    "start_time": "2022-08-24T10:05:58.532Z"
   },
   {
    "duration": 3,
    "start_time": "2022-08-24T10:05:58.563Z"
   },
   {
    "duration": 9,
    "start_time": "2022-08-24T10:05:58.568Z"
   },
   {
    "duration": 14,
    "start_time": "2022-08-24T10:05:58.579Z"
   },
   {
    "duration": 19,
    "start_time": "2022-08-24T10:05:58.594Z"
   },
   {
    "duration": 7,
    "start_time": "2022-08-24T10:05:58.615Z"
   },
   {
    "duration": 23,
    "start_time": "2022-08-24T10:05:58.624Z"
   },
   {
    "duration": 6,
    "start_time": "2022-08-24T10:05:58.648Z"
   },
   {
    "duration": 12,
    "start_time": "2022-08-24T10:05:58.655Z"
   },
   {
    "duration": 18,
    "start_time": "2022-08-24T10:05:58.668Z"
   },
   {
    "duration": 26,
    "start_time": "2022-08-24T10:05:58.688Z"
   },
   {
    "duration": 10,
    "start_time": "2022-08-24T10:05:58.716Z"
   },
   {
    "duration": 6,
    "start_time": "2022-08-24T10:05:58.727Z"
   },
   {
    "duration": 17,
    "start_time": "2022-08-24T10:05:58.734Z"
   },
   {
    "duration": 15,
    "start_time": "2022-08-24T10:05:58.753Z"
   },
   {
    "duration": 5,
    "start_time": "2022-08-24T10:05:58.769Z"
   },
   {
    "duration": 8,
    "start_time": "2022-08-24T10:05:58.776Z"
   },
   {
    "duration": 29,
    "start_time": "2022-08-24T10:05:58.785Z"
   },
   {
    "duration": 5,
    "start_time": "2022-08-24T10:05:58.816Z"
   },
   {
    "duration": 18,
    "start_time": "2022-08-24T10:05:58.822Z"
   },
   {
    "duration": 5,
    "start_time": "2022-08-24T10:05:58.841Z"
   },
   {
    "duration": 8,
    "start_time": "2022-08-24T10:05:58.848Z"
   },
   {
    "duration": 4,
    "start_time": "2022-08-24T10:05:58.858Z"
   },
   {
    "duration": 12,
    "start_time": "2022-08-24T10:05:58.864Z"
   },
   {
    "duration": 6,
    "start_time": "2022-08-24T10:05:58.877Z"
   },
   {
    "duration": 34,
    "start_time": "2022-08-24T10:05:58.885Z"
   },
   {
    "duration": 124,
    "start_time": "2022-08-24T10:09:56.430Z"
   },
   {
    "duration": 16,
    "start_time": "2022-08-24T10:10:00.823Z"
   },
   {
    "duration": 3,
    "start_time": "2022-08-24T10:10:18.782Z"
   },
   {
    "duration": 83,
    "start_time": "2022-08-24T10:10:19.408Z"
   },
   {
    "duration": 3,
    "start_time": "2022-08-24T10:10:19.848Z"
   },
   {
    "duration": 14,
    "start_time": "2022-08-24T10:10:20.103Z"
   },
   {
    "duration": 13,
    "start_time": "2022-08-24T10:10:20.555Z"
   },
   {
    "duration": 9,
    "start_time": "2022-08-24T10:10:21.520Z"
   },
   {
    "duration": 10,
    "start_time": "2022-08-24T10:10:22.284Z"
   },
   {
    "duration": 17,
    "start_time": "2022-08-24T10:10:23.660Z"
   },
   {
    "duration": 9,
    "start_time": "2022-08-24T10:10:24.033Z"
   },
   {
    "duration": 17,
    "start_time": "2022-08-24T10:10:24.249Z"
   },
   {
    "duration": 17,
    "start_time": "2022-08-24T10:10:24.437Z"
   },
   {
    "duration": 9,
    "start_time": "2022-08-24T10:10:25.015Z"
   },
   {
    "duration": 11,
    "start_time": "2022-08-24T10:10:25.424Z"
   },
   {
    "duration": 13,
    "start_time": "2022-08-24T10:10:25.863Z"
   },
   {
    "duration": 8,
    "start_time": "2022-08-24T10:10:27.164Z"
   },
   {
    "duration": 8,
    "start_time": "2022-08-24T10:10:27.418Z"
   },
   {
    "duration": 34,
    "start_time": "2022-08-24T10:10:27.967Z"
   },
   {
    "duration": 34,
    "start_time": "2022-08-24T10:10:28.429Z"
   },
   {
    "duration": 31,
    "start_time": "2022-08-24T10:10:29.268Z"
   },
   {
    "duration": 12,
    "start_time": "2022-08-24T10:10:29.828Z"
   },
   {
    "duration": 10,
    "start_time": "2022-08-24T10:10:30.363Z"
   },
   {
    "duration": 11,
    "start_time": "2022-08-24T10:10:30.847Z"
   },
   {
    "duration": 4,
    "start_time": "2022-08-24T10:10:31.458Z"
   },
   {
    "duration": 9,
    "start_time": "2022-08-24T10:10:31.766Z"
   },
   {
    "duration": 29,
    "start_time": "2022-08-24T10:10:32.327Z"
   },
   {
    "duration": 5,
    "start_time": "2022-08-24T10:10:33.389Z"
   },
   {
    "duration": 5,
    "start_time": "2022-08-24T10:10:34.173Z"
   },
   {
    "duration": 4,
    "start_time": "2022-08-24T10:10:34.441Z"
   },
   {
    "duration": 11,
    "start_time": "2022-08-24T10:10:35.199Z"
   },
   {
    "duration": 10,
    "start_time": "2022-08-24T10:10:35.655Z"
   },
   {
    "duration": 2,
    "start_time": "2022-08-24T10:10:35.873Z"
   },
   {
    "duration": 47,
    "start_time": "2022-08-24T10:10:36.156Z"
   },
   {
    "duration": 4,
    "start_time": "2022-08-24T10:10:37.454Z"
   },
   {
    "duration": 12,
    "start_time": "2022-08-24T10:10:38.101Z"
   },
   {
    "duration": 5,
    "start_time": "2022-08-24T10:10:38.602Z"
   },
   {
    "duration": 7,
    "start_time": "2022-08-24T10:10:39.001Z"
   },
   {
    "duration": 6,
    "start_time": "2022-08-24T10:10:39.203Z"
   },
   {
    "duration": 5,
    "start_time": "2022-08-24T10:10:39.842Z"
   },
   {
    "duration": 6,
    "start_time": "2022-08-24T10:10:40.521Z"
   },
   {
    "duration": 6,
    "start_time": "2022-08-24T10:10:41.014Z"
   },
   {
    "duration": 3,
    "start_time": "2022-08-24T10:10:41.501Z"
   },
   {
    "duration": 3,
    "start_time": "2022-08-24T10:10:42.691Z"
   },
   {
    "duration": 7,
    "start_time": "2022-08-24T10:10:42.939Z"
   },
   {
    "duration": 8,
    "start_time": "2022-08-24T10:10:43.497Z"
   },
   {
    "duration": 8,
    "start_time": "2022-08-24T10:10:43.781Z"
   },
   {
    "duration": 2050,
    "start_time": "2022-08-24T10:10:44.311Z"
   },
   {
    "duration": 30,
    "start_time": "2022-08-24T10:10:46.362Z"
   },
   {
    "duration": 19,
    "start_time": "2022-08-24T10:10:46.393Z"
   },
   {
    "duration": 40,
    "start_time": "2022-08-24T10:10:46.414Z"
   },
   {
    "duration": 5,
    "start_time": "2022-08-24T10:10:46.468Z"
   },
   {
    "duration": 5,
    "start_time": "2022-08-24T10:10:47.159Z"
   },
   {
    "duration": 4,
    "start_time": "2022-08-24T10:10:47.381Z"
   },
   {
    "duration": 6,
    "start_time": "2022-08-24T10:10:47.774Z"
   },
   {
    "duration": 6,
    "start_time": "2022-08-24T10:10:48.563Z"
   },
   {
    "duration": 3,
    "start_time": "2022-08-24T10:10:48.823Z"
   },
   {
    "duration": 7,
    "start_time": "2022-08-24T10:10:51.189Z"
   },
   {
    "duration": 6,
    "start_time": "2022-08-24T10:10:51.473Z"
   },
   {
    "duration": 27,
    "start_time": "2022-08-24T10:10:52.301Z"
   },
   {
    "duration": 22,
    "start_time": "2022-08-24T10:10:52.804Z"
   },
   {
    "duration": 20,
    "start_time": "2022-08-24T10:10:53.107Z"
   },
   {
    "duration": 15,
    "start_time": "2022-08-24T10:10:53.649Z"
   },
   {
    "duration": 32,
    "start_time": "2022-08-24T10:10:55.082Z"
   },
   {
    "duration": 15,
    "start_time": "2022-08-24T10:10:56.466Z"
   },
   {
    "duration": 9,
    "start_time": "2022-08-24T10:10:56.754Z"
   },
   {
    "duration": 16,
    "start_time": "2022-08-24T10:10:57.610Z"
   },
   {
    "duration": 3,
    "start_time": "2022-08-24T10:10:58.609Z"
   },
   {
    "duration": 4,
    "start_time": "2022-08-24T10:10:59.867Z"
   },
   {
    "duration": 18,
    "start_time": "2022-08-24T10:11:00.496Z"
   },
   {
    "duration": 8,
    "start_time": "2022-08-24T10:11:01.067Z"
   },
   {
    "duration": 17,
    "start_time": "2022-08-24T10:11:01.331Z"
   },
   {
    "duration": 10,
    "start_time": "2022-08-24T10:11:01.553Z"
   },
   {
    "duration": 20,
    "start_time": "2022-08-24T10:11:02.387Z"
   },
   {
    "duration": 2,
    "start_time": "2022-08-24T10:11:02.604Z"
   },
   {
    "duration": 5,
    "start_time": "2022-08-24T10:11:02.810Z"
   },
   {
    "duration": 2,
    "start_time": "2022-08-24T10:11:03.023Z"
   },
   {
    "duration": 9,
    "start_time": "2022-08-24T10:11:03.234Z"
   },
   {
    "duration": 2,
    "start_time": "2022-08-24T10:11:03.467Z"
   },
   {
    "duration": 9,
    "start_time": "2022-08-24T10:11:03.707Z"
   },
   {
    "duration": 7,
    "start_time": "2022-08-24T10:11:04.444Z"
   },
   {
    "duration": 8,
    "start_time": "2022-08-24T10:11:04.676Z"
   },
   {
    "duration": 10,
    "start_time": "2022-08-24T10:11:05.169Z"
   },
   {
    "duration": 9,
    "start_time": "2022-08-24T10:11:05.392Z"
   },
   {
    "duration": 13,
    "start_time": "2022-08-24T10:11:05.634Z"
   },
   {
    "duration": 12,
    "start_time": "2022-08-24T10:11:06.105Z"
   },
   {
    "duration": 5,
    "start_time": "2022-08-24T10:11:06.353Z"
   },
   {
    "duration": 17,
    "start_time": "2022-08-24T10:11:06.621Z"
   },
   {
    "duration": 19,
    "start_time": "2022-08-24T10:11:07.646Z"
   },
   {
    "duration": 4,
    "start_time": "2022-08-24T10:11:07.921Z"
   },
   {
    "duration": 20,
    "start_time": "2022-08-24T10:11:08.200Z"
   },
   {
    "duration": 8,
    "start_time": "2022-08-24T10:11:08.823Z"
   },
   {
    "duration": 6,
    "start_time": "2022-08-24T10:11:09.350Z"
   },
   {
    "duration": 3,
    "start_time": "2022-08-24T10:11:10.646Z"
   },
   {
    "duration": 15,
    "start_time": "2022-08-24T10:11:11.398Z"
   },
   {
    "duration": 27,
    "start_time": "2022-08-24T10:11:12.461Z"
   },
   {
    "duration": 8,
    "start_time": "2022-08-24T10:11:14.020Z"
   },
   {
    "duration": 8,
    "start_time": "2022-08-24T10:11:14.505Z"
   },
   {
    "duration": 16,
    "start_time": "2022-08-24T10:11:15.043Z"
   },
   {
    "duration": 6,
    "start_time": "2022-08-24T10:11:17.946Z"
   },
   {
    "duration": 12,
    "start_time": "2022-08-24T10:11:22.615Z"
   },
   {
    "duration": 23,
    "start_time": "2022-08-24T10:11:23.419Z"
   },
   {
    "duration": 5,
    "start_time": "2022-08-24T10:11:26.705Z"
   },
   {
    "duration": 22,
    "start_time": "2022-08-24T10:11:40.949Z"
   },
   {
    "duration": 18,
    "start_time": "2022-08-24T10:14:28.852Z"
   },
   {
    "duration": 6,
    "start_time": "2022-08-24T10:14:31.243Z"
   },
   {
    "duration": 4,
    "start_time": "2022-08-24T10:14:33.235Z"
   },
   {
    "duration": 6,
    "start_time": "2022-08-24T10:14:33.723Z"
   },
   {
    "duration": 3,
    "start_time": "2022-08-24T10:14:33.979Z"
   },
   {
    "duration": 9,
    "start_time": "2022-08-24T10:14:34.208Z"
   },
   {
    "duration": 1971,
    "start_time": "2022-08-24T10:14:34.426Z"
   },
   {
    "duration": 6,
    "start_time": "2022-08-24T10:14:36.400Z"
   },
   {
    "duration": 17,
    "start_time": "2022-08-24T10:14:36.410Z"
   },
   {
    "duration": 5,
    "start_time": "2022-08-24T10:14:38.185Z"
   },
   {
    "duration": 11,
    "start_time": "2022-08-24T10:14:39.442Z"
   },
   {
    "duration": 42,
    "start_time": "2022-08-24T10:14:43.289Z"
   },
   {
    "duration": 3,
    "start_time": "2022-08-24T10:14:44.500Z"
   },
   {
    "duration": 4,
    "start_time": "2022-08-24T10:14:45.464Z"
   },
   {
    "duration": 8,
    "start_time": "2022-08-24T10:14:46.188Z"
   },
   {
    "duration": 5,
    "start_time": "2022-08-24T10:14:46.975Z"
   },
   {
    "duration": 8,
    "start_time": "2022-08-24T10:14:47.727Z"
   },
   {
    "duration": 21,
    "start_time": "2022-08-24T10:14:48.428Z"
   },
   {
    "duration": 7,
    "start_time": "2022-08-24T10:14:52.553Z"
   },
   {
    "duration": 6,
    "start_time": "2022-08-24T10:14:54.163Z"
   },
   {
    "duration": 28,
    "start_time": "2022-08-24T10:14:54.500Z"
   },
   {
    "duration": 12,
    "start_time": "2022-08-24T10:15:03.671Z"
   },
   {
    "duration": 11,
    "start_time": "2022-08-24T10:15:06.054Z"
   },
   {
    "duration": 17,
    "start_time": "2022-08-24T10:20:56.108Z"
   },
   {
    "duration": 9,
    "start_time": "2022-08-24T10:21:02.507Z"
   },
   {
    "duration": 6,
    "start_time": "2022-08-24T10:21:05.566Z"
   },
   {
    "duration": 7,
    "start_time": "2022-08-24T10:21:45.170Z"
   },
   {
    "duration": 8,
    "start_time": "2022-08-24T10:21:57.075Z"
   },
   {
    "duration": 920,
    "start_time": "2022-08-24T10:23:14.197Z"
   },
   {
    "duration": 7,
    "start_time": "2022-08-24T10:23:38.629Z"
   },
   {
    "duration": 12,
    "start_time": "2022-08-24T10:23:44.490Z"
   },
   {
    "duration": 55,
    "start_time": "2022-08-24T10:24:56.402Z"
   },
   {
    "duration": 1844,
    "start_time": "2022-08-24T10:25:02.394Z"
   },
   {
    "duration": 11,
    "start_time": "2022-08-24T10:25:38.700Z"
   },
   {
    "duration": 10,
    "start_time": "2022-08-24T10:26:38.034Z"
   },
   {
    "duration": 5,
    "start_time": "2022-08-24T10:26:50.599Z"
   },
   {
    "duration": 6,
    "start_time": "2022-08-24T10:27:07.671Z"
   },
   {
    "duration": 45,
    "start_time": "2022-08-24T10:27:57.580Z"
   },
   {
    "duration": 7,
    "start_time": "2022-08-24T10:28:14.662Z"
   },
   {
    "duration": 14,
    "start_time": "2022-08-24T10:28:17.017Z"
   },
   {
    "duration": 6,
    "start_time": "2022-08-24T10:28:48.982Z"
   },
   {
    "duration": 6,
    "start_time": "2022-08-24T10:29:48.982Z"
   },
   {
    "duration": 11,
    "start_time": "2022-08-24T10:30:00.580Z"
   },
   {
    "duration": 7,
    "start_time": "2022-08-24T10:31:29.783Z"
   },
   {
    "duration": 9,
    "start_time": "2022-08-24T10:31:33.339Z"
   },
   {
    "duration": 11,
    "start_time": "2022-08-24T10:31:46.013Z"
   },
   {
    "duration": 9,
    "start_time": "2022-08-24T10:35:43.642Z"
   },
   {
    "duration": 6,
    "start_time": "2022-08-24T10:35:44.334Z"
   },
   {
    "duration": 10,
    "start_time": "2022-08-24T10:35:59.326Z"
   },
   {
    "duration": 5,
    "start_time": "2022-08-24T10:36:01.357Z"
   },
   {
    "duration": 6,
    "start_time": "2022-08-24T10:36:03.909Z"
   },
   {
    "duration": 14,
    "start_time": "2022-08-24T10:36:26.602Z"
   },
   {
    "duration": 8,
    "start_time": "2022-08-24T10:37:24.442Z"
   },
   {
    "duration": 13,
    "start_time": "2022-08-24T10:37:29.065Z"
   },
   {
    "duration": 7,
    "start_time": "2022-08-24T10:37:33.448Z"
   },
   {
    "duration": 8,
    "start_time": "2022-08-24T10:37:34.087Z"
   },
   {
    "duration": 12,
    "start_time": "2022-08-24T10:37:42.617Z"
   },
   {
    "duration": 18,
    "start_time": "2022-08-24T10:40:42.100Z"
   },
   {
    "duration": 15,
    "start_time": "2022-08-24T10:41:12.622Z"
   },
   {
    "duration": 11,
    "start_time": "2022-08-24T10:47:09.810Z"
   },
   {
    "duration": 6,
    "start_time": "2022-08-24T10:48:41.223Z"
   },
   {
    "duration": 6,
    "start_time": "2022-08-24T10:48:41.906Z"
   },
   {
    "duration": 12,
    "start_time": "2022-08-24T10:48:48.621Z"
   },
   {
    "duration": 6,
    "start_time": "2022-08-24T10:48:48.890Z"
   },
   {
    "duration": 22,
    "start_time": "2022-08-24T10:49:50.901Z"
   },
   {
    "duration": 19,
    "start_time": "2022-08-24T10:50:36.069Z"
   },
   {
    "duration": 405,
    "start_time": "2022-08-24T10:51:09.870Z"
   },
   {
    "duration": 245,
    "start_time": "2022-08-24T10:51:10.277Z"
   },
   {
    "duration": 4,
    "start_time": "2022-08-24T10:51:10.523Z"
   },
   {
    "duration": 22,
    "start_time": "2022-08-24T10:51:10.529Z"
   },
   {
    "duration": 15,
    "start_time": "2022-08-24T10:51:10.552Z"
   },
   {
    "duration": 20,
    "start_time": "2022-08-24T10:51:10.569Z"
   },
   {
    "duration": 31,
    "start_time": "2022-08-24T10:51:10.591Z"
   },
   {
    "duration": 18,
    "start_time": "2022-08-24T10:51:10.625Z"
   },
   {
    "duration": 8,
    "start_time": "2022-08-24T10:51:10.645Z"
   },
   {
    "duration": 10,
    "start_time": "2022-08-24T10:51:10.657Z"
   },
   {
    "duration": 10,
    "start_time": "2022-08-24T10:51:10.669Z"
   },
   {
    "duration": 37,
    "start_time": "2022-08-24T10:51:10.680Z"
   },
   {
    "duration": 11,
    "start_time": "2022-08-24T10:51:10.719Z"
   },
   {
    "duration": 17,
    "start_time": "2022-08-24T10:51:10.732Z"
   },
   {
    "duration": 6,
    "start_time": "2022-08-24T10:51:10.750Z"
   },
   {
    "duration": 6,
    "start_time": "2022-08-24T10:51:10.758Z"
   },
   {
    "duration": 56,
    "start_time": "2022-08-24T10:51:10.765Z"
   },
   {
    "duration": 24,
    "start_time": "2022-08-24T10:51:10.823Z"
   },
   {
    "duration": 22,
    "start_time": "2022-08-24T10:51:10.848Z"
   },
   {
    "duration": 7,
    "start_time": "2022-08-24T10:51:10.872Z"
   },
   {
    "duration": 41,
    "start_time": "2022-08-24T10:51:10.880Z"
   },
   {
    "duration": 13,
    "start_time": "2022-08-24T10:51:10.923Z"
   },
   {
    "duration": 3,
    "start_time": "2022-08-24T10:51:10.938Z"
   },
   {
    "duration": 12,
    "start_time": "2022-08-24T10:51:10.942Z"
   },
   {
    "duration": 30,
    "start_time": "2022-08-24T10:51:10.956Z"
   },
   {
    "duration": 5,
    "start_time": "2022-08-24T10:51:10.988Z"
   },
   {
    "duration": 6,
    "start_time": "2022-08-24T10:51:11.018Z"
   },
   {
    "duration": 4,
    "start_time": "2022-08-24T10:51:11.029Z"
   },
   {
    "duration": 14,
    "start_time": "2022-08-24T10:51:11.035Z"
   },
   {
    "duration": 13,
    "start_time": "2022-08-24T10:51:11.051Z"
   },
   {
    "duration": 2,
    "start_time": "2022-08-24T10:51:11.066Z"
   },
   {
    "duration": 69,
    "start_time": "2022-08-24T10:51:11.070Z"
   },
   {
    "duration": 3,
    "start_time": "2022-08-24T10:51:11.141Z"
   },
   {
    "duration": 18,
    "start_time": "2022-08-24T10:51:11.146Z"
   },
   {
    "duration": 13,
    "start_time": "2022-08-24T10:51:11.165Z"
   },
   {
    "duration": 8,
    "start_time": "2022-08-24T10:51:11.180Z"
   },
   {
    "duration": 11,
    "start_time": "2022-08-24T10:51:11.190Z"
   },
   {
    "duration": 15,
    "start_time": "2022-08-24T10:51:11.202Z"
   },
   {
    "duration": 13,
    "start_time": "2022-08-24T10:51:11.218Z"
   },
   {
    "duration": 8,
    "start_time": "2022-08-24T10:51:11.232Z"
   },
   {
    "duration": 3,
    "start_time": "2022-08-24T10:51:11.242Z"
   },
   {
    "duration": 4,
    "start_time": "2022-08-24T10:51:11.246Z"
   },
   {
    "duration": 10,
    "start_time": "2022-08-24T10:51:11.251Z"
   },
   {
    "duration": 7,
    "start_time": "2022-08-24T10:51:11.262Z"
   },
   {
    "duration": 7,
    "start_time": "2022-08-24T10:51:11.271Z"
   },
   {
    "duration": 2249,
    "start_time": "2022-08-24T10:51:11.280Z"
   },
   {
    "duration": 31,
    "start_time": "2022-08-24T10:51:13.531Z"
   },
   {
    "duration": 4,
    "start_time": "2022-08-24T10:51:13.563Z"
   },
   {
    "duration": 53,
    "start_time": "2022-08-24T10:51:13.568Z"
   },
   {
    "duration": 9,
    "start_time": "2022-08-24T10:51:13.623Z"
   },
   {
    "duration": 22,
    "start_time": "2022-08-24T10:51:13.633Z"
   },
   {
    "duration": 25,
    "start_time": "2022-08-24T10:51:13.657Z"
   },
   {
    "duration": 12,
    "start_time": "2022-08-24T10:51:13.684Z"
   },
   {
    "duration": 24,
    "start_time": "2022-08-24T10:51:13.698Z"
   },
   {
    "duration": 8,
    "start_time": "2022-08-24T10:51:13.724Z"
   },
   {
    "duration": 18,
    "start_time": "2022-08-24T10:51:13.733Z"
   },
   {
    "duration": 25,
    "start_time": "2022-08-24T10:51:13.752Z"
   },
   {
    "duration": 37,
    "start_time": "2022-08-24T10:51:13.778Z"
   },
   {
    "duration": 27,
    "start_time": "2022-08-24T10:51:13.816Z"
   },
   {
    "duration": 18,
    "start_time": "2022-08-24T10:51:13.844Z"
   },
   {
    "duration": 11,
    "start_time": "2022-08-24T10:51:13.863Z"
   },
   {
    "duration": 46,
    "start_time": "2022-08-24T10:51:13.876Z"
   },
   {
    "duration": 15,
    "start_time": "2022-08-24T10:51:13.924Z"
   },
   {
    "duration": 18,
    "start_time": "2022-08-24T10:51:13.940Z"
   },
   {
    "duration": 27,
    "start_time": "2022-08-24T10:51:13.959Z"
   },
   {
    "duration": 3,
    "start_time": "2022-08-24T10:51:13.988Z"
   },
   {
    "duration": 8,
    "start_time": "2022-08-24T10:51:13.993Z"
   },
   {
    "duration": 20,
    "start_time": "2022-08-24T10:51:14.003Z"
   },
   {
    "duration": 15,
    "start_time": "2022-08-24T10:51:14.024Z"
   },
   {
    "duration": 30,
    "start_time": "2022-08-24T10:51:14.040Z"
   },
   {
    "duration": 6,
    "start_time": "2022-08-24T10:51:14.071Z"
   },
   {
    "duration": 20,
    "start_time": "2022-08-24T10:51:14.079Z"
   },
   {
    "duration": 6,
    "start_time": "2022-08-24T10:51:14.100Z"
   },
   {
    "duration": 30,
    "start_time": "2022-08-24T10:51:14.107Z"
   },
   {
    "duration": 22,
    "start_time": "2022-08-24T10:51:14.138Z"
   },
   {
    "duration": 30,
    "start_time": "2022-08-24T10:51:14.162Z"
   },
   {
    "duration": 17,
    "start_time": "2022-08-24T10:51:14.194Z"
   },
   {
    "duration": 21,
    "start_time": "2022-08-24T10:51:14.213Z"
   },
   {
    "duration": 26,
    "start_time": "2022-08-24T10:51:14.235Z"
   },
   {
    "duration": 20,
    "start_time": "2022-08-24T10:51:14.263Z"
   },
   {
    "duration": 12,
    "start_time": "2022-08-24T10:51:14.285Z"
   },
   {
    "duration": 27,
    "start_time": "2022-08-24T10:51:14.304Z"
   },
   {
    "duration": 17,
    "start_time": "2022-08-24T10:51:14.333Z"
   },
   {
    "duration": 12,
    "start_time": "2022-08-24T10:51:14.352Z"
   },
   {
    "duration": 5,
    "start_time": "2022-08-24T10:51:14.365Z"
   },
   {
    "duration": 18,
    "start_time": "2022-08-24T10:51:14.371Z"
   },
   {
    "duration": 14,
    "start_time": "2022-08-24T10:51:14.390Z"
   },
   {
    "duration": 19,
    "start_time": "2022-08-24T10:51:14.406Z"
   },
   {
    "duration": 28,
    "start_time": "2022-08-24T10:51:14.426Z"
   },
   {
    "duration": 10,
    "start_time": "2022-08-24T10:51:14.455Z"
   },
   {
    "duration": 14,
    "start_time": "2022-08-24T10:51:14.467Z"
   },
   {
    "duration": 20,
    "start_time": "2022-08-24T10:51:14.483Z"
   },
   {
    "duration": 38,
    "start_time": "2022-08-24T10:51:14.504Z"
   },
   {
    "duration": 22,
    "start_time": "2022-08-24T10:51:14.543Z"
   },
   {
    "duration": 9,
    "start_time": "2022-08-24T10:51:14.567Z"
   },
   {
    "duration": 15,
    "start_time": "2022-08-24T10:51:14.578Z"
   },
   {
    "duration": 29,
    "start_time": "2022-08-24T10:51:14.595Z"
   },
   {
    "duration": 31,
    "start_time": "2022-08-24T10:51:14.626Z"
   },
   {
    "duration": 17,
    "start_time": "2022-08-24T10:51:14.659Z"
   },
   {
    "duration": 47,
    "start_time": "2022-08-24T10:51:14.677Z"
   },
   {
    "duration": 5,
    "start_time": "2022-08-24T10:51:14.725Z"
   },
   {
    "duration": 36,
    "start_time": "2022-08-24T10:51:14.732Z"
   },
   {
    "duration": 15,
    "start_time": "2022-08-24T10:51:14.770Z"
   },
   {
    "duration": 6,
    "start_time": "2022-08-24T10:51:14.787Z"
   },
   {
    "duration": 31,
    "start_time": "2022-08-24T10:51:14.795Z"
   },
   {
    "duration": 937,
    "start_time": "2022-08-24T10:51:14.827Z"
   },
   {
    "duration": 3,
    "start_time": "2022-08-24T10:51:15.766Z"
   },
   {
    "duration": 16,
    "start_time": "2022-08-24T10:51:15.771Z"
   },
   {
    "duration": 3104,
    "start_time": "2022-08-24T10:51:15.788Z"
   },
   {
    "duration": 6,
    "start_time": "2022-08-24T10:51:18.894Z"
   },
   {
    "duration": 40,
    "start_time": "2022-08-24T10:51:18.902Z"
   },
   {
    "duration": 20,
    "start_time": "2022-08-24T10:51:18.944Z"
   },
   {
    "duration": 14,
    "start_time": "2022-08-24T10:51:18.965Z"
   },
   {
    "duration": 43,
    "start_time": "2022-08-24T10:51:18.980Z"
   },
   {
    "duration": 3,
    "start_time": "2022-08-24T10:51:19.025Z"
   },
   {
    "duration": 35,
    "start_time": "2022-08-24T10:51:19.030Z"
   },
   {
    "duration": 28,
    "start_time": "2022-08-24T10:51:19.066Z"
   },
   {
    "duration": 30,
    "start_time": "2022-08-24T10:51:19.096Z"
   },
   {
    "duration": 15,
    "start_time": "2022-08-24T10:51:19.128Z"
   },
   {
    "duration": 45,
    "start_time": "2022-08-24T10:51:19.145Z"
   },
   {
    "duration": 33,
    "start_time": "2022-08-24T10:51:19.191Z"
   },
   {
    "duration": 37,
    "start_time": "2022-08-24T10:51:19.226Z"
   },
   {
    "duration": 18,
    "start_time": "2022-08-24T10:51:19.265Z"
   },
   {
    "duration": 10,
    "start_time": "2022-08-24T10:51:19.285Z"
   },
   {
    "duration": 30,
    "start_time": "2022-08-24T10:51:19.297Z"
   },
   {
    "duration": 11,
    "start_time": "2022-08-24T10:51:19.329Z"
   },
   {
    "duration": 12,
    "start_time": "2022-08-24T10:51:19.342Z"
   },
   {
    "duration": 5,
    "start_time": "2022-08-24T10:51:19.356Z"
   },
   {
    "duration": 11,
    "start_time": "2022-08-24T10:51:19.362Z"
   },
   {
    "duration": 18,
    "start_time": "2022-08-24T10:51:19.375Z"
   },
   {
    "duration": 6,
    "start_time": "2022-08-24T10:51:19.394Z"
   },
   {
    "duration": 20,
    "start_time": "2022-08-24T10:51:19.402Z"
   },
   {
    "duration": 17,
    "start_time": "2022-08-24T10:51:19.424Z"
   },
   {
    "duration": 10,
    "start_time": "2022-08-24T10:51:19.443Z"
   },
   {
    "duration": 17,
    "start_time": "2022-08-24T10:51:19.455Z"
   },
   {
    "duration": 8,
    "start_time": "2022-08-24T10:51:19.473Z"
   },
   {
    "duration": 6,
    "start_time": "2022-08-24T10:51:19.483Z"
   },
   {
    "duration": 26,
    "start_time": "2022-08-24T10:51:19.491Z"
   },
   {
    "duration": 7,
    "start_time": "2022-08-24T10:51:19.518Z"
   },
   {
    "duration": 14,
    "start_time": "2022-08-24T10:51:19.526Z"
   },
   {
    "duration": 137,
    "start_time": "2022-08-24T10:51:19.541Z"
   },
   {
    "duration": 6,
    "start_time": "2022-08-24T10:51:34.275Z"
   },
   {
    "duration": 11,
    "start_time": "2022-08-24T10:51:34.481Z"
   },
   {
    "duration": 18,
    "start_time": "2022-08-24T10:51:48.373Z"
   }
  ],
  "kernelspec": {
   "display_name": "Python 3 (ipykernel)",
   "language": "python",
   "name": "python3"
  },
  "language_info": {
   "codemirror_mode": {
    "name": "ipython",
    "version": 3
   },
   "file_extension": ".py",
   "mimetype": "text/x-python",
   "name": "python",
   "nbconvert_exporter": "python",
   "pygments_lexer": "ipython3",
   "version": "3.9.12"
  },
  "toc": {
   "base_numbering": 1,
   "nav_menu": {},
   "number_sections": true,
   "sideBar": true,
   "skip_h1_title": true,
   "title_cell": "Table of Contents",
   "title_sidebar": "Contents",
   "toc_cell": false,
   "toc_position": {},
   "toc_section_display": true,
   "toc_window_display": false
  }
 },
 "nbformat": 4,
 "nbformat_minor": 2
}

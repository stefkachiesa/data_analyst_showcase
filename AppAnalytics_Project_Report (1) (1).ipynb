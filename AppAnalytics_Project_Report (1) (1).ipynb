{
 "cells": [
  {
   "cell_type": "markdown",
   "id": "4b3e0ee7",
   "metadata": {},
   "source": [
    "# \"Data-driven Optimization of User Experience: An In-depth Analysis of App Engagement and Visualization\""
   ]
  },
  {
   "cell_type": "markdown",
   "id": "2293d4f4",
   "metadata": {},
   "source": [
    "### Data-driven Optimization of User Experience\r\n",
    "\r\n",
    "#### Sales Funnel Analysis\r\n",
    "The objective is to meticulously examine the sales funnel to ascertain how users progress toward the purchase phase. This analysis will involve:\r\n",
    "- **Determining the number of users who successfully reach the purchase stage.**\r\n",
    "- **Identifying and quantifying any drop-off points within the funnel,** noting which specific stages exhibit the highest user attrition.\r\n",
    "- **Pinpointing stages that may require optimization** to enhance user progression and conversion rates.\r\n",
    "\r\n",
    "#### A/A/B Testing Analysis\r\n",
    "In response to a proposed update involving a font change across the app, a strategic decision will be based on the outcomes of an A/A/B test. This test is structured as follows:\r\n",
    "- Users are divided into three groups: two control groups that will continue to view the existing fonts (**A groups**) and one test group that will experience the new fonts (**B group**).\r\n",
    "- The primary aim is to **evaluate the impact of the new fonts on user behavior and app performance** by comparing the test group against the control groups.\r\n",
    "\r\n",
    "#### Advantages of Dual Control Groups\r\n",
    "The implementation of two control groups offers substantial benefits:\r\n",
    "- **It establishes a robust baseline for the test,** enhancing the confidence in the findings by ensuring that both control groups exhibit similar behaviors.\r\n",
    "- **Discrepancies between the control groups could reveal external variables** potentially influencing the results, thereby aiding in the refinement of our testing methodology.\r\n",
    "- This comparative analysis also assists in determining the requisite scope and scale for subsequent tests, **guiding resource allocation and timeline estimations.**\r\n",
    "\r\n",
    "This structured approach will not only validate the proposed font change but also contribute to a deeper understanding of user behavior, which is critical for driving data-driven enhancements to the app’s user interface.\r\n",
    "\n",
    "\n"
   ]
  },
  {
   "cell_type": "markdown",
   "id": "acafcde6-72f0-4725-a11e-219f2cb5397c",
   "metadata": {},
   "source": [
    "## Data Cleaning and Analysis\r\n",
    "\r\n",
    "After loading the dataframe, we'll dedicate time to refining it to ensure it's prepared for analysis. This data cleaning process involves rectifying or eliminating incorrect or redundant data, as well as addressing incompleteness or inconsistencies.\r\n",
    "\r\n",
    "Following the data cleaning phase, we will proceed to slice the data to extract valuable insights. Leveraging various techniques and analytical methods, we will uncover hidden patterns and relationships, ultimately deriving insights and making predictions.\r\n",
    "\r\n",
    "Once the results have been interpreted and meaningful insights drawn, our next step is to create visualizations. This involves selecting the most suitable charts and graphs to effectively communicate the findings.\r\n",
    "\r\n",
    "This comprehensive approach to data cleaning, analysis, and visualization will facilitate a deeper understanding of the dataset and enable informed decision-making.\r\n"
   ]
  },
  {
   "cell_type": "markdown",
   "id": "d18b6974",
   "metadata": {},
   "source": [
    "# Step 1. Load the librariaries, open the data file and read the general information"
   ]
  },
  {
   "cell_type": "code",
   "execution_count": 1,
   "id": "245220f0",
   "metadata": {},
   "outputs": [],
   "source": [
    "from scipy import stats\n",
    "import seaborn as sns\n",
    "import matplotlib.pyplot as plt\n",
    "import pandas as pd\n",
    "import datetime\n",
    "import numpy as np\n",
    "from datetime import datetime\n",
    "from statsmodels.stats.proportion import proportions_ztest\n",
    "from scipy import stats as st\n",
    "import numpy as np\n",
    "import math as mth\n",
    "import plotly.express as px"
   ]
  },
  {
   "cell_type": "code",
   "execution_count": 2,
   "id": "6496516c-1bd2-4081-a492-64167aec5cb9",
   "metadata": {},
   "outputs": [
    {
     "name": "stdout",
     "output_type": "stream",
     "text": [
      "Requirement already satisfied: kaleido in c:\\users\\user\\anaconda3\\lib\\site-packages (0.2.1)Note: you may need to restart the kernel to use updated packages.\n",
      "\n"
     ]
    }
   ],
   "source": [
    "pip install -U kaleido\n"
   ]
  },
  {
   "cell_type": "code",
   "execution_count": 3,
   "id": "fe6f07cf",
   "metadata": {},
   "outputs": [],
   "source": [
    "try:\n",
    "    df=pd.read_csv('/datasets/logs_exp_us.csv',sep='\\t')\n",
    "    \n",
    "except:\n",
    "    df = pd.read_csv('https://code.s3.yandex.net/datasets//logs_exp_us.csv',sep='\\t')\n",
    "\n"
   ]
  },
  {
   "cell_type": "code",
   "execution_count": 4,
   "id": "24060f7b",
   "metadata": {},
   "outputs": [
    {
     "data": {
      "text/html": [
       "<div>\n",
       "<style scoped>\n",
       "    .dataframe tbody tr th:only-of-type {\n",
       "        vertical-align: middle;\n",
       "    }\n",
       "\n",
       "    .dataframe tbody tr th {\n",
       "        vertical-align: top;\n",
       "    }\n",
       "\n",
       "    .dataframe thead th {\n",
       "        text-align: right;\n",
       "    }\n",
       "</style>\n",
       "<table border=\"1\" class=\"dataframe\">\n",
       "  <thead>\n",
       "    <tr style=\"text-align: right;\">\n",
       "      <th></th>\n",
       "      <th>EventName</th>\n",
       "      <th>DeviceIDHash</th>\n",
       "      <th>EventTimestamp</th>\n",
       "      <th>ExpId</th>\n",
       "    </tr>\n",
       "  </thead>\n",
       "  <tbody>\n",
       "    <tr>\n",
       "      <th>0</th>\n",
       "      <td>MainScreenAppear</td>\n",
       "      <td>4575588528974610257</td>\n",
       "      <td>1564029816</td>\n",
       "      <td>246</td>\n",
       "    </tr>\n",
       "    <tr>\n",
       "      <th>1</th>\n",
       "      <td>MainScreenAppear</td>\n",
       "      <td>7416695313311560658</td>\n",
       "      <td>1564053102</td>\n",
       "      <td>246</td>\n",
       "    </tr>\n",
       "    <tr>\n",
       "      <th>2</th>\n",
       "      <td>PaymentScreenSuccessful</td>\n",
       "      <td>3518123091307005509</td>\n",
       "      <td>1564054127</td>\n",
       "      <td>248</td>\n",
       "    </tr>\n",
       "    <tr>\n",
       "      <th>3</th>\n",
       "      <td>CartScreenAppear</td>\n",
       "      <td>3518123091307005509</td>\n",
       "      <td>1564054127</td>\n",
       "      <td>248</td>\n",
       "    </tr>\n",
       "    <tr>\n",
       "      <th>4</th>\n",
       "      <td>PaymentScreenSuccessful</td>\n",
       "      <td>6217807653094995999</td>\n",
       "      <td>1564055322</td>\n",
       "      <td>248</td>\n",
       "    </tr>\n",
       "  </tbody>\n",
       "</table>\n",
       "</div>"
      ],
      "text/plain": [
       "                 EventName         DeviceIDHash  EventTimestamp  ExpId\n",
       "0         MainScreenAppear  4575588528974610257      1564029816    246\n",
       "1         MainScreenAppear  7416695313311560658      1564053102    246\n",
       "2  PaymentScreenSuccessful  3518123091307005509      1564054127    248\n",
       "3         CartScreenAppear  3518123091307005509      1564054127    248\n",
       "4  PaymentScreenSuccessful  6217807653094995999      1564055322    248"
      ]
     },
     "execution_count": 4,
     "metadata": {},
     "output_type": "execute_result"
    }
   ],
   "source": [
    "df.head()"
   ]
  },
  {
   "cell_type": "markdown",
   "id": "02993613",
   "metadata": {},
   "source": [
    "Description of the data: Each log entry is a user action or an event.\n",
    "* EventName — event name \n",
    "* DeviceIDHash — unique user identifier \n",
    "* EventTimestamp — event time \n",
    "* ExpId — experiment number: 246 and 247 are the control groups, 248 is the test group"
   ]
  },
  {
   "cell_type": "markdown",
   "id": "a5e40b70",
   "metadata": {},
   "source": [
    "# Step 2. Prepare the data for analysis"
   ]
  },
  {
   "cell_type": "markdown",
   "id": "d218f749",
   "metadata": {},
   "source": [
    "##### Rename the columns in a way that’s convenient for further coding"
   ]
  },
  {
   "cell_type": "code",
   "execution_count": 5,
   "id": "e3ef720c",
   "metadata": {},
   "outputs": [],
   "source": [
    "df.columns =['event_name','user_id','timestamp','experiment_id']"
   ]
  },
  {
   "cell_type": "markdown",
   "id": "2a9ad76c",
   "metadata": {},
   "source": [
    "##### check for missing values and change datatype to speed up the process and save memory."
   ]
  },
  {
   "cell_type": "code",
   "execution_count": 6,
   "id": "050210af",
   "metadata": {},
   "outputs": [
    {
     "data": {
      "text/html": [
       "<div>\n",
       "<style scoped>\n",
       "    .dataframe tbody tr th:only-of-type {\n",
       "        vertical-align: middle;\n",
       "    }\n",
       "\n",
       "    .dataframe tbody tr th {\n",
       "        vertical-align: top;\n",
       "    }\n",
       "\n",
       "    .dataframe thead th {\n",
       "        text-align: right;\n",
       "    }\n",
       "</style>\n",
       "<table border=\"1\" class=\"dataframe\">\n",
       "  <thead>\n",
       "    <tr style=\"text-align: right;\">\n",
       "      <th></th>\n",
       "      <th>event_name</th>\n",
       "      <th>user_id</th>\n",
       "      <th>timestamp</th>\n",
       "      <th>experiment_id</th>\n",
       "    </tr>\n",
       "  </thead>\n",
       "  <tbody>\n",
       "    <tr>\n",
       "      <th>133997</th>\n",
       "      <td>OffersScreenAppear</td>\n",
       "      <td>5051786623126900570</td>\n",
       "      <td>1564938476</td>\n",
       "      <td>247</td>\n",
       "    </tr>\n",
       "    <tr>\n",
       "      <th>82189</th>\n",
       "      <td>MainScreenAppear</td>\n",
       "      <td>8428513121714221084</td>\n",
       "      <td>1564822384</td>\n",
       "      <td>246</td>\n",
       "    </tr>\n",
       "    <tr>\n",
       "      <th>9436</th>\n",
       "      <td>CartScreenAppear</td>\n",
       "      <td>20795828045873027</td>\n",
       "      <td>1564646515</td>\n",
       "      <td>246</td>\n",
       "    </tr>\n",
       "    <tr>\n",
       "      <th>34563</th>\n",
       "      <td>MainScreenAppear</td>\n",
       "      <td>388887996611251404</td>\n",
       "      <td>1564685273</td>\n",
       "      <td>246</td>\n",
       "    </tr>\n",
       "    <tr>\n",
       "      <th>167810</th>\n",
       "      <td>OffersScreenAppear</td>\n",
       "      <td>3154316348373047511</td>\n",
       "      <td>1565022535</td>\n",
       "      <td>248</td>\n",
       "    </tr>\n",
       "    <tr>\n",
       "      <th>230801</th>\n",
       "      <td>CartScreenAppear</td>\n",
       "      <td>3573586078352175315</td>\n",
       "      <td>1565187154</td>\n",
       "      <td>248</td>\n",
       "    </tr>\n",
       "    <tr>\n",
       "      <th>864</th>\n",
       "      <td>MainScreenAppear</td>\n",
       "      <td>6227297080395755491</td>\n",
       "      <td>1564552936</td>\n",
       "      <td>246</td>\n",
       "    </tr>\n",
       "    <tr>\n",
       "      <th>209588</th>\n",
       "      <td>MainScreenAppear</td>\n",
       "      <td>6224642068766507557</td>\n",
       "      <td>1565118266</td>\n",
       "      <td>248</td>\n",
       "    </tr>\n",
       "    <tr>\n",
       "      <th>60099</th>\n",
       "      <td>MainScreenAppear</td>\n",
       "      <td>499118262689586521</td>\n",
       "      <td>1564755130</td>\n",
       "      <td>247</td>\n",
       "    </tr>\n",
       "    <tr>\n",
       "      <th>123454</th>\n",
       "      <td>MainScreenAppear</td>\n",
       "      <td>3012866736489345415</td>\n",
       "      <td>1564921616</td>\n",
       "      <td>246</td>\n",
       "    </tr>\n",
       "  </tbody>\n",
       "</table>\n",
       "</div>"
      ],
      "text/plain": [
       "                event_name              user_id   timestamp  experiment_id\n",
       "133997  OffersScreenAppear  5051786623126900570  1564938476            247\n",
       "82189     MainScreenAppear  8428513121714221084  1564822384            246\n",
       "9436      CartScreenAppear    20795828045873027  1564646515            246\n",
       "34563     MainScreenAppear   388887996611251404  1564685273            246\n",
       "167810  OffersScreenAppear  3154316348373047511  1565022535            248\n",
       "230801    CartScreenAppear  3573586078352175315  1565187154            248\n",
       "864       MainScreenAppear  6227297080395755491  1564552936            246\n",
       "209588    MainScreenAppear  6224642068766507557  1565118266            248\n",
       "60099     MainScreenAppear   499118262689586521  1564755130            247\n",
       "123454    MainScreenAppear  3012866736489345415  1564921616            246"
      ]
     },
     "execution_count": 6,
     "metadata": {},
     "output_type": "execute_result"
    }
   ],
   "source": [
    "df.sample(10)"
   ]
  },
  {
   "cell_type": "code",
   "execution_count": 7,
   "id": "887c2613",
   "metadata": {},
   "outputs": [
    {
     "name": "stdout",
     "output_type": "stream",
     "text": [
      "<class 'pandas.core.frame.DataFrame'>\n",
      "RangeIndex: 244126 entries, 0 to 244125\n",
      "Data columns (total 4 columns):\n",
      " #   Column         Non-Null Count   Dtype \n",
      "---  ------         --------------   ----- \n",
      " 0   event_name     244126 non-null  object\n",
      " 1   user_id        244126 non-null  int64 \n",
      " 2   timestamp      244126 non-null  int64 \n",
      " 3   experiment_id  244126 non-null  int64 \n",
      "dtypes: int64(3), object(1)\n",
      "memory usage: 7.5+ MB\n"
     ]
    }
   ],
   "source": [
    "df.info()"
   ]
  },
  {
   "cell_type": "markdown",
   "id": "deaee2a0",
   "metadata": {},
   "source": [
    "There aren't missing values. \n",
    "\n",
    "We need to change the type of the column timestamp from integer to datetime to see what is the actual date:"
   ]
  },
  {
   "cell_type": "code",
   "execution_count": 8,
   "id": "5847941a",
   "metadata": {},
   "outputs": [
    {
     "name": "stdout",
     "output_type": "stream",
     "text": [
      "<class 'pandas.core.frame.DataFrame'>\n",
      "RangeIndex: 244126 entries, 0 to 244125\n",
      "Data columns (total 4 columns):\n",
      " #   Column         Non-Null Count   Dtype         \n",
      "---  ------         --------------   -----         \n",
      " 0   event_name     244126 non-null  object        \n",
      " 1   user_id        244126 non-null  int64         \n",
      " 2   timestamp      244126 non-null  datetime64[ns]\n",
      " 3   experiment_id  244126 non-null  int64         \n",
      "dtypes: datetime64[ns](1), int64(2), object(1)\n",
      "memory usage: 7.5+ MB\n"
     ]
    }
   ],
   "source": [
    "df['timestamp']=df['timestamp'].apply(lambda x:datetime.fromtimestamp(x))\n",
    "df.info()"
   ]
  },
  {
   "cell_type": "code",
   "execution_count": 9,
   "id": "4127d1d9",
   "metadata": {},
   "outputs": [
    {
     "data": {
      "text/html": [
       "<div>\n",
       "<style scoped>\n",
       "    .dataframe tbody tr th:only-of-type {\n",
       "        vertical-align: middle;\n",
       "    }\n",
       "\n",
       "    .dataframe tbody tr th {\n",
       "        vertical-align: top;\n",
       "    }\n",
       "\n",
       "    .dataframe thead th {\n",
       "        text-align: right;\n",
       "    }\n",
       "</style>\n",
       "<table border=\"1\" class=\"dataframe\">\n",
       "  <thead>\n",
       "    <tr style=\"text-align: right;\">\n",
       "      <th></th>\n",
       "      <th>event_name</th>\n",
       "      <th>user_id</th>\n",
       "      <th>timestamp</th>\n",
       "      <th>experiment_id</th>\n",
       "    </tr>\n",
       "  </thead>\n",
       "  <tbody>\n",
       "    <tr>\n",
       "      <th>0</th>\n",
       "      <td>MainScreenAppear</td>\n",
       "      <td>4575588528974610257</td>\n",
       "      <td>2019-07-25 07:43:36</td>\n",
       "      <td>246</td>\n",
       "    </tr>\n",
       "    <tr>\n",
       "      <th>1</th>\n",
       "      <td>MainScreenAppear</td>\n",
       "      <td>7416695313311560658</td>\n",
       "      <td>2019-07-25 14:11:42</td>\n",
       "      <td>246</td>\n",
       "    </tr>\n",
       "    <tr>\n",
       "      <th>2</th>\n",
       "      <td>PaymentScreenSuccessful</td>\n",
       "      <td>3518123091307005509</td>\n",
       "      <td>2019-07-25 14:28:47</td>\n",
       "      <td>248</td>\n",
       "    </tr>\n",
       "    <tr>\n",
       "      <th>3</th>\n",
       "      <td>CartScreenAppear</td>\n",
       "      <td>3518123091307005509</td>\n",
       "      <td>2019-07-25 14:28:47</td>\n",
       "      <td>248</td>\n",
       "    </tr>\n",
       "    <tr>\n",
       "      <th>4</th>\n",
       "      <td>PaymentScreenSuccessful</td>\n",
       "      <td>6217807653094995999</td>\n",
       "      <td>2019-07-25 14:48:42</td>\n",
       "      <td>248</td>\n",
       "    </tr>\n",
       "  </tbody>\n",
       "</table>\n",
       "</div>"
      ],
      "text/plain": [
       "                event_name              user_id           timestamp  \\\n",
       "0         MainScreenAppear  4575588528974610257 2019-07-25 07:43:36   \n",
       "1         MainScreenAppear  7416695313311560658 2019-07-25 14:11:42   \n",
       "2  PaymentScreenSuccessful  3518123091307005509 2019-07-25 14:28:47   \n",
       "3         CartScreenAppear  3518123091307005509 2019-07-25 14:28:47   \n",
       "4  PaymentScreenSuccessful  6217807653094995999 2019-07-25 14:48:42   \n",
       "\n",
       "   experiment_id  \n",
       "0            246  \n",
       "1            246  \n",
       "2            248  \n",
       "3            248  \n",
       "4            248  "
      ]
     },
     "execution_count": 9,
     "metadata": {},
     "output_type": "execute_result"
    }
   ],
   "source": [
    "df.head()"
   ]
  },
  {
   "cell_type": "markdown",
   "id": "3ab4b308",
   "metadata": {},
   "source": [
    "Add a separate column for dates"
   ]
  },
  {
   "cell_type": "code",
   "execution_count": 10,
   "id": "0154a746",
   "metadata": {},
   "outputs": [],
   "source": [
    "df['date'] = df['timestamp'].dt.date"
   ]
  },
  {
   "cell_type": "code",
   "execution_count": 11,
   "id": "372db155",
   "metadata": {},
   "outputs": [
    {
     "data": {
      "text/html": [
       "<div>\n",
       "<style scoped>\n",
       "    .dataframe tbody tr th:only-of-type {\n",
       "        vertical-align: middle;\n",
       "    }\n",
       "\n",
       "    .dataframe tbody tr th {\n",
       "        vertical-align: top;\n",
       "    }\n",
       "\n",
       "    .dataframe thead th {\n",
       "        text-align: right;\n",
       "    }\n",
       "</style>\n",
       "<table border=\"1\" class=\"dataframe\">\n",
       "  <thead>\n",
       "    <tr style=\"text-align: right;\">\n",
       "      <th></th>\n",
       "      <th>event_name</th>\n",
       "      <th>user_id</th>\n",
       "      <th>timestamp</th>\n",
       "      <th>experiment_id</th>\n",
       "      <th>date</th>\n",
       "    </tr>\n",
       "  </thead>\n",
       "  <tbody>\n",
       "    <tr>\n",
       "      <th>0</th>\n",
       "      <td>MainScreenAppear</td>\n",
       "      <td>4575588528974610257</td>\n",
       "      <td>2019-07-25 07:43:36</td>\n",
       "      <td>246</td>\n",
       "      <td>2019-07-25</td>\n",
       "    </tr>\n",
       "    <tr>\n",
       "      <th>1</th>\n",
       "      <td>MainScreenAppear</td>\n",
       "      <td>7416695313311560658</td>\n",
       "      <td>2019-07-25 14:11:42</td>\n",
       "      <td>246</td>\n",
       "      <td>2019-07-25</td>\n",
       "    </tr>\n",
       "    <tr>\n",
       "      <th>2</th>\n",
       "      <td>PaymentScreenSuccessful</td>\n",
       "      <td>3518123091307005509</td>\n",
       "      <td>2019-07-25 14:28:47</td>\n",
       "      <td>248</td>\n",
       "      <td>2019-07-25</td>\n",
       "    </tr>\n",
       "    <tr>\n",
       "      <th>3</th>\n",
       "      <td>CartScreenAppear</td>\n",
       "      <td>3518123091307005509</td>\n",
       "      <td>2019-07-25 14:28:47</td>\n",
       "      <td>248</td>\n",
       "      <td>2019-07-25</td>\n",
       "    </tr>\n",
       "    <tr>\n",
       "      <th>4</th>\n",
       "      <td>PaymentScreenSuccessful</td>\n",
       "      <td>6217807653094995999</td>\n",
       "      <td>2019-07-25 14:48:42</td>\n",
       "      <td>248</td>\n",
       "      <td>2019-07-25</td>\n",
       "    </tr>\n",
       "  </tbody>\n",
       "</table>\n",
       "</div>"
      ],
      "text/plain": [
       "                event_name              user_id           timestamp  \\\n",
       "0         MainScreenAppear  4575588528974610257 2019-07-25 07:43:36   \n",
       "1         MainScreenAppear  7416695313311560658 2019-07-25 14:11:42   \n",
       "2  PaymentScreenSuccessful  3518123091307005509 2019-07-25 14:28:47   \n",
       "3         CartScreenAppear  3518123091307005509 2019-07-25 14:28:47   \n",
       "4  PaymentScreenSuccessful  6217807653094995999 2019-07-25 14:48:42   \n",
       "\n",
       "   experiment_id        date  \n",
       "0            246  2019-07-25  \n",
       "1            246  2019-07-25  \n",
       "2            248  2019-07-25  \n",
       "3            248  2019-07-25  \n",
       "4            248  2019-07-25  "
      ]
     },
     "execution_count": 11,
     "metadata": {},
     "output_type": "execute_result"
    }
   ],
   "source": [
    "df.head()"
   ]
  },
  {
   "cell_type": "markdown",
   "id": "edd6dabb",
   "metadata": {},
   "source": [
    "##### Let's check for duplicated rows:"
   ]
  },
  {
   "cell_type": "code",
   "execution_count": 12,
   "id": "4d2471da",
   "metadata": {},
   "outputs": [
    {
     "data": {
      "text/plain": [
       "413"
      ]
     },
     "execution_count": 12,
     "metadata": {},
     "output_type": "execute_result"
    }
   ],
   "source": [
    "df.duplicated().sum()"
   ]
  },
  {
   "cell_type": "code",
   "execution_count": 13,
   "id": "435fd9ae",
   "metadata": {},
   "outputs": [
    {
     "data": {
      "text/html": [
       "<div>\n",
       "<style scoped>\n",
       "    .dataframe tbody tr th:only-of-type {\n",
       "        vertical-align: middle;\n",
       "    }\n",
       "\n",
       "    .dataframe tbody tr th {\n",
       "        vertical-align: top;\n",
       "    }\n",
       "\n",
       "    .dataframe thead th {\n",
       "        text-align: right;\n",
       "    }\n",
       "</style>\n",
       "<table border=\"1\" class=\"dataframe\">\n",
       "  <thead>\n",
       "    <tr style=\"text-align: right;\">\n",
       "      <th></th>\n",
       "      <th>event_name</th>\n",
       "      <th>user_id</th>\n",
       "      <th>timestamp</th>\n",
       "      <th>experiment_id</th>\n",
       "      <th>date</th>\n",
       "    </tr>\n",
       "  </thead>\n",
       "  <tbody>\n",
       "    <tr>\n",
       "      <th>453</th>\n",
       "      <td>MainScreenAppear</td>\n",
       "      <td>5613408041324010552</td>\n",
       "      <td>2019-07-30 11:19:44</td>\n",
       "      <td>248</td>\n",
       "      <td>2019-07-30</td>\n",
       "    </tr>\n",
       "    <tr>\n",
       "      <th>2350</th>\n",
       "      <td>CartScreenAppear</td>\n",
       "      <td>1694940645335807244</td>\n",
       "      <td>2019-08-01 00:51:39</td>\n",
       "      <td>248</td>\n",
       "      <td>2019-08-01</td>\n",
       "    </tr>\n",
       "    <tr>\n",
       "      <th>3573</th>\n",
       "      <td>MainScreenAppear</td>\n",
       "      <td>434103746454591587</td>\n",
       "      <td>2019-08-01 05:59:37</td>\n",
       "      <td>248</td>\n",
       "      <td>2019-08-01</td>\n",
       "    </tr>\n",
       "    <tr>\n",
       "      <th>4076</th>\n",
       "      <td>MainScreenAppear</td>\n",
       "      <td>3761373764179762633</td>\n",
       "      <td>2019-08-01 06:47:46</td>\n",
       "      <td>247</td>\n",
       "      <td>2019-08-01</td>\n",
       "    </tr>\n",
       "    <tr>\n",
       "      <th>4803</th>\n",
       "      <td>MainScreenAppear</td>\n",
       "      <td>2835328739789306622</td>\n",
       "      <td>2019-08-01 07:44:01</td>\n",
       "      <td>248</td>\n",
       "      <td>2019-08-01</td>\n",
       "    </tr>\n",
       "  </tbody>\n",
       "</table>\n",
       "</div>"
      ],
      "text/plain": [
       "            event_name              user_id           timestamp  \\\n",
       "453   MainScreenAppear  5613408041324010552 2019-07-30 11:19:44   \n",
       "2350  CartScreenAppear  1694940645335807244 2019-08-01 00:51:39   \n",
       "3573  MainScreenAppear   434103746454591587 2019-08-01 05:59:37   \n",
       "4076  MainScreenAppear  3761373764179762633 2019-08-01 06:47:46   \n",
       "4803  MainScreenAppear  2835328739789306622 2019-08-01 07:44:01   \n",
       "\n",
       "      experiment_id        date  \n",
       "453             248  2019-07-30  \n",
       "2350            248  2019-08-01  \n",
       "3573            248  2019-08-01  \n",
       "4076            247  2019-08-01  \n",
       "4803            248  2019-08-01  "
      ]
     },
     "execution_count": 13,
     "metadata": {},
     "output_type": "execute_result"
    }
   ],
   "source": [
    "df[df.duplicated()].head()"
   ]
  },
  {
   "cell_type": "code",
   "execution_count": 14,
   "id": "797c9487",
   "metadata": {},
   "outputs": [
    {
     "name": "stdout",
     "output_type": "stream",
     "text": [
      "event_name : 5\n",
      "user_id : 237\n",
      "timestamp : 352\n",
      "experiment_id : 3\n",
      "date : 8\n"
     ]
    }
   ],
   "source": [
    "for i in df[df.duplicated()].columns:\n",
    "    print(i,':', df[df.duplicated()][i].nunique())"
   ]
  },
  {
   "cell_type": "code",
   "execution_count": 15,
   "id": "4a181b58",
   "metadata": {},
   "outputs": [
    {
     "data": {
      "text/plain": [
       "array([datetime.date(2019, 7, 30), datetime.date(2019, 8, 1),\n",
       "       datetime.date(2019, 8, 2), datetime.date(2019, 8, 3),\n",
       "       datetime.date(2019, 8, 4), datetime.date(2019, 8, 5),\n",
       "       datetime.date(2019, 8, 6), datetime.date(2019, 8, 7)], dtype=object)"
      ]
     },
     "execution_count": 15,
     "metadata": {},
     "output_type": "execute_result"
    }
   ],
   "source": [
    "df[df.duplicated()]['timestamp'].dt.date.unique()"
   ]
  },
  {
   "cell_type": "code",
   "execution_count": 16,
   "id": "c44d9ddc",
   "metadata": {},
   "outputs": [
    {
     "data": {
      "text/plain": [
       "8"
      ]
     },
     "execution_count": 16,
     "metadata": {},
     "output_type": "execute_result"
    }
   ],
   "source": [
    "df[df.duplicated()]['timestamp'].dt.date.nunique()"
   ]
  },
  {
   "cell_type": "markdown",
   "id": "774c9a6d",
   "metadata": {},
   "source": [
    "# Addressing Technical Issues in A/B Testing\r\n",
    "\r\n",
    "It's crucial to acknowledge that technical issues, such as those encountered in A/B testing, can potentially disrupt product functionality and data integrity. Therefore, it's imperative to thoroughly investigate and identify areas where problems may arise.\r\n",
    "\r\n",
    "The occurrence of duplicate entries seems to be sporadic, appearing across various dates, groups, and users. This randomness suggests that the technical glitches responsible for these duplicates manifested unpredictably, making it challenging to pinpoint their root cause. Consequently, this prevalence of random duplicates raises concerns about the reliability of the entire testing process. Can we confidently trust all the server information?\r\n",
    "\r\n",
    "In this project, despite the widespread presence of duplicates across multiple columns, I've made the decision to proceed with the analysis without removing them. Removing duplicates could inadvertently skew the dataset and potentially compromise the integrity of our findings. Therefore, my approach is to carefully navigate through the data while considering the implications of these duplicates on our analyses.\r\n"
   ]
  },
  {
   "cell_type": "markdown",
   "id": "4364591a",
   "metadata": {},
   "source": [
    "We need to verify if there are users who got simultaneously in two groups or in two tests:"
   ]
  },
  {
   "cell_type": "code",
   "execution_count": 17,
   "id": "8d0dfa73",
   "metadata": {},
   "outputs": [
    {
     "data": {
      "text/html": [
       "<div>\n",
       "<style scoped>\n",
       "    .dataframe tbody tr th:only-of-type {\n",
       "        vertical-align: middle;\n",
       "    }\n",
       "\n",
       "    .dataframe tbody tr th {\n",
       "        vertical-align: top;\n",
       "    }\n",
       "\n",
       "    .dataframe thead th {\n",
       "        text-align: right;\n",
       "    }\n",
       "</style>\n",
       "<table border=\"1\" class=\"dataframe\">\n",
       "  <thead>\n",
       "    <tr style=\"text-align: right;\">\n",
       "      <th></th>\n",
       "      <th>user_id</th>\n",
       "      <th>experiment_id</th>\n",
       "    </tr>\n",
       "  </thead>\n",
       "  <tbody>\n",
       "    <tr>\n",
       "      <th>0</th>\n",
       "      <td>6888746892508752</td>\n",
       "      <td>1</td>\n",
       "    </tr>\n",
       "    <tr>\n",
       "      <th>1</th>\n",
       "      <td>6909561520679493</td>\n",
       "      <td>1</td>\n",
       "    </tr>\n",
       "    <tr>\n",
       "      <th>2</th>\n",
       "      <td>6922444491712477</td>\n",
       "      <td>1</td>\n",
       "    </tr>\n",
       "    <tr>\n",
       "      <th>3</th>\n",
       "      <td>7435777799948366</td>\n",
       "      <td>1</td>\n",
       "    </tr>\n",
       "    <tr>\n",
       "      <th>4</th>\n",
       "      <td>7702139951469979</td>\n",
       "      <td>1</td>\n",
       "    </tr>\n",
       "  </tbody>\n",
       "</table>\n",
       "</div>"
      ],
      "text/plain": [
       "            user_id  experiment_id\n",
       "0  6888746892508752              1\n",
       "1  6909561520679493              1\n",
       "2  6922444491712477              1\n",
       "3  7435777799948366              1\n",
       "4  7702139951469979              1"
      ]
     },
     "execution_count": 17,
     "metadata": {},
     "output_type": "execute_result"
    }
   ],
   "source": [
    "a=df.groupby(['user_id'])['experiment_id'].nunique().reset_index()\n",
    "a.head()"
   ]
  },
  {
   "cell_type": "code",
   "execution_count": 18,
   "id": "be7c76bb",
   "metadata": {},
   "outputs": [],
   "source": [
    "a=a.query('experiment_id>1')"
   ]
  },
  {
   "cell_type": "code",
   "execution_count": 19,
   "id": "2b974df0",
   "metadata": {},
   "outputs": [
    {
     "data": {
      "text/html": [
       "<div>\n",
       "<style scoped>\n",
       "    .dataframe tbody tr th:only-of-type {\n",
       "        vertical-align: middle;\n",
       "    }\n",
       "\n",
       "    .dataframe tbody tr th {\n",
       "        vertical-align: top;\n",
       "    }\n",
       "\n",
       "    .dataframe thead th {\n",
       "        text-align: right;\n",
       "    }\n",
       "</style>\n",
       "<table border=\"1\" class=\"dataframe\">\n",
       "  <thead>\n",
       "    <tr style=\"text-align: right;\">\n",
       "      <th></th>\n",
       "      <th>user_id</th>\n",
       "      <th>experiment_id</th>\n",
       "    </tr>\n",
       "  </thead>\n",
       "  <tbody>\n",
       "  </tbody>\n",
       "</table>\n",
       "</div>"
      ],
      "text/plain": [
       "Empty DataFrame\n",
       "Columns: [user_id, experiment_id]\n",
       "Index: []"
      ]
     },
     "execution_count": 19,
     "metadata": {},
     "output_type": "execute_result"
    }
   ],
   "source": [
    "a.head()"
   ]
  },
  {
   "cell_type": "markdown",
   "id": "61c2cacf",
   "metadata": {},
   "source": [
    "we don't have users simultaneously in two groups."
   ]
  },
  {
   "cell_type": "markdown",
   "id": "a1bc15c3",
   "metadata": {},
   "source": [
    "# Step 3. Study and check the data"
   ]
  },
  {
   "cell_type": "markdown",
   "id": "ec71d2ea",
   "metadata": {},
   "source": [
    "##### How many events are in the logs?"
   ]
  },
  {
   "cell_type": "code",
   "execution_count": 20,
   "id": "955489d0",
   "metadata": {},
   "outputs": [
    {
     "data": {
      "text/plain": [
       "array(['MainScreenAppear', 'PaymentScreenSuccessful', 'CartScreenAppear',\n",
       "       'OffersScreenAppear', 'Tutorial'], dtype=object)"
      ]
     },
     "execution_count": 20,
     "metadata": {},
     "output_type": "execute_result"
    }
   ],
   "source": [
    "df.event_name.unique()\n"
   ]
  },
  {
   "cell_type": "code",
   "execution_count": 21,
   "id": "1a5cfee2",
   "metadata": {},
   "outputs": [
    {
     "name": "stdout",
     "output_type": "stream",
     "text": [
      "5\n"
     ]
    }
   ],
   "source": [
    "n_events=df.event_name.nunique()\n",
    "print(n_events)"
   ]
  },
  {
   "cell_type": "markdown",
   "id": "96f95090",
   "metadata": {},
   "source": [
    "5 events in the log"
   ]
  },
  {
   "cell_type": "markdown",
   "id": "ecc0c0c5",
   "metadata": {},
   "source": [
    "##### How many users are in the logs?"
   ]
  },
  {
   "cell_type": "code",
   "execution_count": 22,
   "id": "541836a6",
   "metadata": {},
   "outputs": [
    {
     "name": "stdout",
     "output_type": "stream",
     "text": [
      "In the logs there are 7551 users\n"
     ]
    }
   ],
   "source": [
    "n_users=df['user_id'].nunique()\n",
    "print (\"In the logs there are\", n_users ,\"users\")"
   ]
  },
  {
   "cell_type": "markdown",
   "id": "26e497ce",
   "metadata": {},
   "source": [
    "##### What's the average number of events per user?"
   ]
  },
  {
   "cell_type": "code",
   "execution_count": 23,
   "id": "d77520f8",
   "metadata": {},
   "outputs": [],
   "source": [
    "event_per_user=df.groupby(['user_id'])['event_name'].count().reset_index()"
   ]
  },
  {
   "cell_type": "code",
   "execution_count": 24,
   "id": "a53bf509",
   "metadata": {},
   "outputs": [],
   "source": [
    "event_per_user.columns=['user_id', 'number_events']"
   ]
  },
  {
   "cell_type": "code",
   "execution_count": 25,
   "id": "37658b57",
   "metadata": {},
   "outputs": [
    {
     "data": {
      "text/html": [
       "<div>\n",
       "<style scoped>\n",
       "    .dataframe tbody tr th:only-of-type {\n",
       "        vertical-align: middle;\n",
       "    }\n",
       "\n",
       "    .dataframe tbody tr th {\n",
       "        vertical-align: top;\n",
       "    }\n",
       "\n",
       "    .dataframe thead th {\n",
       "        text-align: right;\n",
       "    }\n",
       "</style>\n",
       "<table border=\"1\" class=\"dataframe\">\n",
       "  <thead>\n",
       "    <tr style=\"text-align: right;\">\n",
       "      <th></th>\n",
       "      <th>user_id</th>\n",
       "      <th>number_events</th>\n",
       "    </tr>\n",
       "  </thead>\n",
       "  <tbody>\n",
       "    <tr>\n",
       "      <th>count</th>\n",
       "      <td>7.551000e+03</td>\n",
       "      <td>7551.000000</td>\n",
       "    </tr>\n",
       "    <tr>\n",
       "      <th>mean</th>\n",
       "      <td>4.677319e+18</td>\n",
       "      <td>32.330287</td>\n",
       "    </tr>\n",
       "    <tr>\n",
       "      <th>std</th>\n",
       "      <td>2.655343e+18</td>\n",
       "      <td>65.312344</td>\n",
       "    </tr>\n",
       "    <tr>\n",
       "      <th>min</th>\n",
       "      <td>6.888747e+15</td>\n",
       "      <td>1.000000</td>\n",
       "    </tr>\n",
       "    <tr>\n",
       "      <th>25%</th>\n",
       "      <td>2.397700e+18</td>\n",
       "      <td>9.000000</td>\n",
       "    </tr>\n",
       "    <tr>\n",
       "      <th>50%</th>\n",
       "      <td>4.688022e+18</td>\n",
       "      <td>20.000000</td>\n",
       "    </tr>\n",
       "    <tr>\n",
       "      <th>75%</th>\n",
       "      <td>7.007353e+18</td>\n",
       "      <td>37.500000</td>\n",
       "    </tr>\n",
       "    <tr>\n",
       "      <th>max</th>\n",
       "      <td>9.222603e+18</td>\n",
       "      <td>2308.000000</td>\n",
       "    </tr>\n",
       "  </tbody>\n",
       "</table>\n",
       "</div>"
      ],
      "text/plain": [
       "            user_id  number_events\n",
       "count  7.551000e+03    7551.000000\n",
       "mean   4.677319e+18      32.330287\n",
       "std    2.655343e+18      65.312344\n",
       "min    6.888747e+15       1.000000\n",
       "25%    2.397700e+18       9.000000\n",
       "50%    4.688022e+18      20.000000\n",
       "75%    7.007353e+18      37.500000\n",
       "max    9.222603e+18    2308.000000"
      ]
     },
     "execution_count": 25,
     "metadata": {},
     "output_type": "execute_result"
    }
   ],
   "source": [
    "event_per_user.describe()"
   ]
  },
  {
   "cell_type": "code",
   "execution_count": 26,
   "id": "544e6ecd",
   "metadata": {},
   "outputs": [
    {
     "data": {
      "text/plain": [
       "32.33028737915508"
      ]
     },
     "execution_count": 26,
     "metadata": {},
     "output_type": "execute_result"
    }
   ],
   "source": [
    "df.groupby(['user_id'])['event_name'].count().mean()"
   ]
  },
  {
   "cell_type": "code",
   "execution_count": 27,
   "id": "7e23171d",
   "metadata": {},
   "outputs": [
    {
     "name": "stdout",
     "output_type": "stream",
     "text": [
      "32.33028737915508\n"
     ]
    }
   ],
   "source": [
    "avg_event=(event_per_user.number_events.sum())/n_users\n",
    "print(avg_event)"
   ]
  },
  {
   "cell_type": "code",
   "execution_count": 28,
   "id": "802c6cd7",
   "metadata": {},
   "outputs": [
    {
     "name": "stderr",
     "output_type": "stream",
     "text": [
      "C:\\Users\\User\\anaconda3\\Lib\\site-packages\\seaborn\\_oldcore.py:1119: FutureWarning: use_inf_as_na option is deprecated and will be removed in a future version. Convert inf values to NaN before operating instead.\n",
      "  with pd.option_context('mode.use_inf_as_na', True):\n"
     ]
    },
    {
     "data": {
      "image/png": "[encoded data removed]",
      "text/plain": [
       "<Figure size 1500x600 with 1 Axes>"
      ]
     },
     "metadata": {},
     "output_type": "display_data"
    }
   ],
   "source": [
    "plt.rcParams[\"figure.figsize\"] = (15,6)\n",
    "sns.histplot(event_per_user['number_events'])\n",
    "plt.title('ditribution of the number of actions per user')\n",
    "plt.show()"
   ]
  },
  {
   "cell_type": "markdown",
   "id": "d31b9c8f",
   "metadata": {},
   "source": [
    "From the description and the distplot, we can see that the number of events per user, follows a skewed distribution. it will be more correct to calculate median instead of mean"
   ]
  },
  {
   "cell_type": "code",
   "execution_count": 29,
   "id": "81844481",
   "metadata": {},
   "outputs": [
    {
     "data": {
      "text/plain": [
       "20.0"
      ]
     },
     "execution_count": 29,
     "metadata": {},
     "output_type": "execute_result"
    }
   ],
   "source": [
    "df.groupby(['user_id'])['event_name'].count().median()"
   ]
  },
  {
   "cell_type": "markdown",
   "id": "b6e79b75",
   "metadata": {},
   "source": [
    "So, in average, each user does 32 action, or have a median of 20 total actions. But, how many users go through the whole funnel? How many users complete all the events? Number of unique events and number of actions are different parameters, let's see how many users complete all the 5 actions:"
   ]
  },
  {
   "cell_type": "code",
   "execution_count": 30,
   "id": "03511e8a",
   "metadata": {},
   "outputs": [
    {
     "data": {
      "text/html": [
       "<div>\n",
       "<style scoped>\n",
       "    .dataframe tbody tr th:only-of-type {\n",
       "        vertical-align: middle;\n",
       "    }\n",
       "\n",
       "    .dataframe tbody tr th {\n",
       "        vertical-align: top;\n",
       "    }\n",
       "\n",
       "    .dataframe thead th {\n",
       "        text-align: right;\n",
       "    }\n",
       "</style>\n",
       "<table border=\"1\" class=\"dataframe\">\n",
       "  <thead>\n",
       "    <tr style=\"text-align: right;\">\n",
       "      <th></th>\n",
       "      <th>user_id</th>\n",
       "      <th>event_name</th>\n",
       "    </tr>\n",
       "  </thead>\n",
       "  <tbody>\n",
       "    <tr>\n",
       "      <th>0</th>\n",
       "      <td>6888746892508752</td>\n",
       "      <td>1</td>\n",
       "    </tr>\n",
       "    <tr>\n",
       "      <th>1</th>\n",
       "      <td>6909561520679493</td>\n",
       "      <td>4</td>\n",
       "    </tr>\n",
       "    <tr>\n",
       "      <th>2</th>\n",
       "      <td>6922444491712477</td>\n",
       "      <td>4</td>\n",
       "    </tr>\n",
       "    <tr>\n",
       "      <th>3</th>\n",
       "      <td>7435777799948366</td>\n",
       "      <td>1</td>\n",
       "    </tr>\n",
       "    <tr>\n",
       "      <th>4</th>\n",
       "      <td>7702139951469979</td>\n",
       "      <td>4</td>\n",
       "    </tr>\n",
       "    <tr>\n",
       "      <th>...</th>\n",
       "      <td>...</td>\n",
       "      <td>...</td>\n",
       "    </tr>\n",
       "    <tr>\n",
       "      <th>7546</th>\n",
       "      <td>9217594193087726423</td>\n",
       "      <td>3</td>\n",
       "    </tr>\n",
       "    <tr>\n",
       "      <th>7547</th>\n",
       "      <td>9219463515465815368</td>\n",
       "      <td>4</td>\n",
       "    </tr>\n",
       "    <tr>\n",
       "      <th>7548</th>\n",
       "      <td>9220879493065341500</td>\n",
       "      <td>3</td>\n",
       "    </tr>\n",
       "    <tr>\n",
       "      <th>7549</th>\n",
       "      <td>9221926045299980007</td>\n",
       "      <td>1</td>\n",
       "    </tr>\n",
       "    <tr>\n",
       "      <th>7550</th>\n",
       "      <td>9222603179720523844</td>\n",
       "      <td>1</td>\n",
       "    </tr>\n",
       "  </tbody>\n",
       "</table>\n",
       "<p>7551 rows × 2 columns</p>\n",
       "</div>"
      ],
      "text/plain": [
       "                  user_id  event_name\n",
       "0        6888746892508752           1\n",
       "1        6909561520679493           4\n",
       "2        6922444491712477           4\n",
       "3        7435777799948366           1\n",
       "4        7702139951469979           4\n",
       "...                   ...         ...\n",
       "7546  9217594193087726423           3\n",
       "7547  9219463515465815368           4\n",
       "7548  9220879493065341500           3\n",
       "7549  9221926045299980007           1\n",
       "7550  9222603179720523844           1\n",
       "\n",
       "[7551 rows x 2 columns]"
      ]
     },
     "execution_count": 30,
     "metadata": {},
     "output_type": "execute_result"
    }
   ],
   "source": [
    "df.groupby(['user_id'])['event_name'].nunique().reset_index()"
   ]
  },
  {
   "cell_type": "code",
   "execution_count": 31,
   "id": "7872c4b5",
   "metadata": {},
   "outputs": [
    {
     "name": "stdout",
     "output_type": "stream",
     "text": [
      "event_name\n",
      "4    3035\n",
      "1    2707\n",
      "2    1021\n",
      "5     471\n",
      "3     317\n",
      "Name: count, dtype: int64\n"
     ]
    }
   ],
   "source": [
    "total_un_events=df.groupby(['user_id'])['event_name'].nunique().reset_index()['event_name'].value_counts()\n",
    "print(total_un_events)"
   ]
  },
  {
   "cell_type": "markdown",
   "id": "39a79d2e",
   "metadata": {},
   "source": [
    "LESS THAN HALF OF USERS COMPLETED 4 ACTIONS. It means that the users experience is not very effective."
   ]
  },
  {
   "cell_type": "markdown",
   "id": "53f716fe",
   "metadata": {},
   "source": [
    "* What period of time does the data cover? \n",
    "\n"
   ]
  },
  {
   "cell_type": "code",
   "execution_count": 32,
   "id": "daecb446",
   "metadata": {},
   "outputs": [
    {
     "name": "stderr",
     "output_type": "stream",
     "text": [
      "C:\\Users\\User\\anaconda3\\Lib\\site-packages\\_plotly_utils\\basevalidators.py:106: FutureWarning: The behavior of DatetimeProperties.to_pydatetime is deprecated, in a future version this will return a Series containing python datetime objects instead of an ndarray. To retain the old behavior, call `np.array` on the result\n",
      "  v = v.dt.to_pydatetime()\n"
     ]
    },
    {
     "data": {
      "image/svg+xml": [
       "<svg class=\"main-svg\" xmlns=\"http://www.w3.org/2000/svg\" xmlns:xlink=\"http://www.w3.org/1999/xlink\" width=\"700\" height=\"500\" style=\"\" viewBox=\"0 0 700 500\"><rect x=\"0\" y=\"0\" width=\"700\" height=\"500\" style=\"fill: rgb(255, 255, 255); fill-opacity: 1;\"/><defs id=\"defs-830bd2\"><g class=\"clips\"><clipPath id=\"clip830bd2xyplot\" class=\"plotclip\"><rect width=\"540\" height=\"320\"/></clipPath><clipPath class=\"axesclip\" id=\"clip830bd2x\"><rect x=\"80\" y=\"0\" width=\"540\" height=\"500\"/></clipPath><clipPath class=\"axesclip\" id=\"clip830bd2y\"><rect x=\"0\" y=\"100\" width=\"700\" height=\"320\"/></clipPath><clipPath class=\"axesclip\" id=\"clip830bd2xy\"><rect x=\"80\" y=\"100\" width=\"540\" height=\"320\"/></clipPath></g><g class=\"gradients\"/><g class=\"patterns\"/></defs><g class=\"bglayer\"><rect class=\"bg\" x=\"80\" y=\"100\" width=\"540\" height=\"320\" style=\"fill: rgb(229, 236, 246); fill-opacity: 1; stroke-width: 0;\"/></g><g class=\"layer-below\"><g class=\"imagelayer\"/><g class=\"shapelayer\"/></g><g class=\"cartesianlayer\"><g class=\"subplot xy\"><g class=\"layer-subplot\"><g class=\"shapelayer\"/><g class=\"imagelayer\"/></g><g class=\"minor-gridlayer\"><g class=\"x\"/><g class=\"y\"/></g><g class=\"gridlayer\"><g class=\"x\"/><g class=\"y\"><path class=\"ygrid crisp\" transform=\"translate(0,368.4)\" d=\"M80,0h540\" style=\"stroke: rgb(255, 255, 255); stroke-opacity: 1; stroke-width: 1px;\"/><path class=\"ygrid crisp\" transform=\"translate(0,316.81)\" d=\"M80,0h540\" style=\"stroke: rgb(255, 255, 255); stroke-opacity: 1; stroke-width: 1px;\"/><path class=\"ygrid crisp\" transform=\"translate(0,265.21000000000004)\" d=\"M80,0h540\" style=\"stroke: rgb(255, 255, 255); stroke-opacity: 1; stroke-width: 1px;\"/><path class=\"ygrid crisp\" transform=\"translate(0,213.62)\" d=\"M80,0h540\" style=\"stroke: rgb(255, 255, 255); stroke-opacity: 1; stroke-width: 1px;\"/><path class=\"ygrid crisp\" transform=\"translate(0,162.02)\" d=\"M80,0h540\" style=\"stroke: rgb(255, 255, 255); stroke-opacity: 1; stroke-width: 1px;\"/><path class=\"ygrid crisp\" transform=\"translate(0,110.43)\" d=\"M80,0h540\" style=\"stroke: rgb(255, 255, 255); stroke-opacity: 1; stroke-width: 1px;\"/></g></g><g class=\"zerolinelayer\"><path class=\"yzl zl crisp\" transform=\"translate(0,420)\" d=\"M80,0h540\" style=\"stroke: rgb(255, 255, 255); stroke-opacity: 1; stroke-width: 2px;\"/></g><path class=\"xlines-below\"/><path class=\"ylines-below\"/><g class=\"overlines-below\"/><g class=\"xaxislayer-below\"/><g class=\"yaxislayer-below\"/><g class=\"overaxes-below\"/><g class=\"plot\" transform=\"translate(80,100)\" clip-path=\"url(#clip830bd2xyplot)\"><g class=\"barlayer mlayer\"><g class=\"trace bars\" shape-rendering=\"crispEdges\" style=\"opacity: 1;\"><g class=\"points\"><g class=\"point\"><path d=\"M0,320V319.9H1.64V320Z\" style=\"vector-effect: non-scaling-stroke; opacity: 1; stroke-width: 0px; fill: rgb(139, 0, 0); fill-opacity: 1;\"/></g><g class=\"point\"><path d=\"M0,0Z\" style=\"vector-effect: non-scaling-stroke; opacity: 1; stroke-width: 0px; fill: rgb(139, 0, 0); fill-opacity: 1;\"/></g><g class=\"point\"><path d=\"M0,0Z\" style=\"vector-effect: non-scaling-stroke; opacity: 1; stroke-width: 0px; fill: rgb(139, 0, 0); fill-opacity: 1;\"/></g><g class=\"point\"><path d=\"M0,0Z\" style=\"vector-effect: non-scaling-stroke; opacity: 1; stroke-width: 0px; fill: rgb(139, 0, 0); fill-opacity: 1;\"/></g><g class=\"point\"><path d=\"M0,0Z\" style=\"vector-effect: non-scaling-stroke; opacity: 1; stroke-width: 0px; fill: rgb(139, 0, 0); fill-opacity: 1;\"/></g><g class=\"point\"><path d=\"M0,0Z\" style=\"vector-effect: non-scaling-stroke; opacity: 1; stroke-width: 0px; fill: rgb(139, 0, 0); fill-opacity: 1;\"/></g><g class=\"point\"><path d=\"M0,0Z\" style=\"vector-effect: non-scaling-stroke; opacity: 1; stroke-width: 0px; fill: rgb(139, 0, 0); fill-opacity: 1;\"/></g><g class=\"point\"><path d=\"M11.45,320V319.48H13.09V320Z\" style=\"vector-effect: non-scaling-stroke; opacity: 1; stroke-width: 0px; fill: rgb(139, 0, 0); fill-opacity: 1;\"/></g><g class=\"point\"><path d=\"M0,0Z\" style=\"vector-effect: non-scaling-stroke; opacity: 1; stroke-width: 0px; fill: rgb(139, 0, 0); fill-opacity: 1;\"/></g><g class=\"point\"><path d=\"M0,0Z\" style=\"vector-effect: non-scaling-stroke; opacity: 1; stroke-width: 0px; fill: rgb(139, 0, 0); fill-opacity: 1;\"/></g><g class=\"point\"><path d=\"M16.36,320V319.9H18V320Z\" style=\"vector-effect: non-scaling-stroke; opacity: 1; stroke-width: 0px; fill: rgb(139, 0, 0); fill-opacity: 1;\"/></g><g class=\"point\"><path d=\"M0,0Z\" style=\"vector-effect: non-scaling-stroke; opacity: 1; stroke-width: 0px; fill: rgb(139, 0, 0); fill-opacity: 1;\"/></g><g class=\"point\"><path d=\"M0,0Z\" style=\"vector-effect: non-scaling-stroke; opacity: 1; stroke-width: 0px; fill: rgb(139, 0, 0); fill-opacity: 1;\"/></g><g class=\"point\"><path d=\"M0,0Z\" style=\"vector-effect: non-scaling-stroke; opacity: 1; stroke-width: 0px; fill: rgb(139, 0, 0); fill-opacity: 1;\"/></g><g class=\"point\"><path d=\"M0,0Z\" style=\"vector-effect: non-scaling-stroke; opacity: 1; stroke-width: 0px; fill: rgb(139, 0, 0); fill-opacity: 1;\"/></g><g class=\"point\"><path d=\"M0,0Z\" style=\"vector-effect: non-scaling-stroke; opacity: 1; stroke-width: 0px; fill: rgb(139, 0, 0); fill-opacity: 1;\"/></g><g class=\"point\"><path d=\"M26.18,320V319.79H27.82V320Z\" style=\"vector-effect: non-scaling-stroke; opacity: 1; stroke-width: 0px; fill: rgb(139, 0, 0); fill-opacity: 1;\"/></g><g class=\"point\"><path d=\"M0,0Z\" style=\"vector-effect: non-scaling-stroke; opacity: 1; stroke-width: 0px; fill: rgb(139, 0, 0); fill-opacity: 1;\"/></g><g class=\"point\"><path d=\"M0,0Z\" style=\"vector-effect: non-scaling-stroke; opacity: 1; stroke-width: 0px; fill: rgb(139, 0, 0); fill-opacity: 1;\"/></g><g class=\"point\"><path d=\"M0,0Z\" style=\"vector-effect: non-scaling-stroke; opacity: 1; stroke-width: 0px; fill: rgb(139, 0, 0); fill-opacity: 1;\"/></g><g class=\"point\"><path d=\"M0,0Z\" style=\"vector-effect: non-scaling-stroke; opacity: 1; stroke-width: 0px; fill: rgb(139, 0, 0); fill-opacity: 1;\"/></g><g class=\"point\"><path d=\"M0,0Z\" style=\"vector-effect: non-scaling-stroke; opacity: 1; stroke-width: 0px; fill: rgb(139, 0, 0); fill-opacity: 1;\"/></g><g class=\"point\"><path d=\"M0,0Z\" style=\"vector-effect: non-scaling-stroke; opacity: 1; stroke-width: 0px; fill: rgb(139, 0, 0); fill-opacity: 1;\"/></g><g class=\"point\"><path d=\"M37.64,320V319.9H39.27V320Z\" style=\"vector-effect: non-scaling-stroke; opacity: 1; stroke-width: 0px; fill: rgb(139, 0, 0); fill-opacity: 1;\"/></g><g class=\"point\"><path d=\"M0,0Z\" style=\"vector-effect: non-scaling-stroke; opacity: 1; stroke-width: 0px; fill: rgb(139, 0, 0); fill-opacity: 1;\"/></g><g class=\"point\"><path d=\"M40.91,320V319.9H42.55V320Z\" style=\"vector-effect: non-scaling-stroke; opacity: 1; stroke-width: 0px; fill: rgb(139, 0, 0); fill-opacity: 1;\"/></g><g class=\"point\"><path d=\"M42.55,320V319.79H44.18V320Z\" style=\"vector-effect: non-scaling-stroke; opacity: 1; stroke-width: 0px; fill: rgb(139, 0, 0); fill-opacity: 1;\"/></g><g class=\"point\"><path d=\"M44.18,320V319.9H45.82V320Z\" style=\"vector-effect: non-scaling-stroke; opacity: 1; stroke-width: 0px; fill: rgb(139, 0, 0); fill-opacity: 1;\"/></g><g class=\"point\"><path d=\"M0,0Z\" style=\"vector-effect: non-scaling-stroke; opacity: 1; stroke-width: 0px; fill: rgb(139, 0, 0); fill-opacity: 1;\"/></g><g class=\"point\"><path d=\"M0,0Z\" style=\"vector-effect: non-scaling-stroke; opacity: 1; stroke-width: 0px; fill: rgb(139, 0, 0); fill-opacity: 1;\"/></g><g class=\"point\"><path d=\"M49.09,320V319.9H50.73V320Z\" style=\"vector-effect: non-scaling-stroke; opacity: 1; stroke-width: 0px; fill: rgb(139, 0, 0); fill-opacity: 1;\"/></g><g class=\"point\"><path d=\"M50.73,320V319.79H52.36V320Z\" style=\"vector-effect: non-scaling-stroke; opacity: 1; stroke-width: 0px; fill: rgb(139, 0, 0); fill-opacity: 1;\"/></g><g class=\"point\"><path d=\"M52.36,320V319.9H54V320Z\" style=\"vector-effect: non-scaling-stroke; opacity: 1; stroke-width: 0px; fill: rgb(139, 0, 0); fill-opacity: 1;\"/></g><g class=\"point\"><path d=\"M54,320V319.9H55.64V320Z\" style=\"vector-effect: non-scaling-stroke; opacity: 1; stroke-width: 0px; fill: rgb(139, 0, 0); fill-opacity: 1;\"/></g><g class=\"point\"><path d=\"M55.64,320V319.48H57.27V320Z\" style=\"vector-effect: non-scaling-stroke; opacity: 1; stroke-width: 0px; fill: rgb(139, 0, 0); fill-opacity: 1;\"/></g><g class=\"point\"><path d=\"M57.27,320V319.9H58.91V320Z\" style=\"vector-effect: non-scaling-stroke; opacity: 1; stroke-width: 0px; fill: rgb(139, 0, 0); fill-opacity: 1;\"/></g><g class=\"point\"><path d=\"M58.91,320V319.9H60.55V320Z\" style=\"vector-effect: non-scaling-stroke; opacity: 1; stroke-width: 0px; fill: rgb(139, 0, 0); fill-opacity: 1;\"/></g><g class=\"point\"><path d=\"M60.55,320V319.69H62.18V320Z\" style=\"vector-effect: non-scaling-stroke; opacity: 1; stroke-width: 0px; fill: rgb(139, 0, 0); fill-opacity: 1;\"/></g><g class=\"point\"><path d=\"M62.18,320V319.38H63.82V320Z\" style=\"vector-effect: non-scaling-stroke; opacity: 1; stroke-width: 0px; fill: rgb(139, 0, 0); fill-opacity: 1;\"/></g><g class=\"point\"><path d=\"M63.82,320V319.59H65.45V320Z\" style=\"vector-effect: non-scaling-stroke; opacity: 1; stroke-width: 0px; fill: rgb(139, 0, 0); fill-opacity: 1;\"/></g><g class=\"point\"><path d=\"M0,0Z\" style=\"vector-effect: non-scaling-stroke; opacity: 1; stroke-width: 0px; fill: rgb(139, 0, 0); fill-opacity: 1;\"/></g><g class=\"point\"><path d=\"M0,0Z\" style=\"vector-effect: non-scaling-stroke; opacity: 1; stroke-width: 0px; fill: rgb(139, 0, 0); fill-opacity: 1;\"/></g><g class=\"point\"><path d=\"M0,0Z\" style=\"vector-effect: non-scaling-stroke; opacity: 1; stroke-width: 0px; fill: rgb(139, 0, 0); fill-opacity: 1;\"/></g><g class=\"point\"><path d=\"M70.36,320V319.9H72V320Z\" style=\"vector-effect: non-scaling-stroke; opacity: 1; stroke-width: 0px; fill: rgb(139, 0, 0); fill-opacity: 1;\"/></g><g class=\"point\"><path d=\"M0,0Z\" style=\"vector-effect: non-scaling-stroke; opacity: 1; stroke-width: 0px; fill: rgb(139, 0, 0); fill-opacity: 1;\"/></g><g class=\"point\"><path d=\"M0,0Z\" style=\"vector-effect: non-scaling-stroke; opacity: 1; stroke-width: 0px; fill: rgb(139, 0, 0); fill-opacity: 1;\"/></g><g class=\"point\"><path d=\"M0,0Z\" style=\"vector-effect: non-scaling-stroke; opacity: 1; stroke-width: 0px; fill: rgb(139, 0, 0); fill-opacity: 1;\"/></g><g class=\"point\"><path d=\"M0,0Z\" style=\"vector-effect: non-scaling-stroke; opacity: 1; stroke-width: 0px; fill: rgb(139, 0, 0); fill-opacity: 1;\"/></g><g class=\"point\"><path d=\"M78.55,320V319.9H80.18V320Z\" style=\"vector-effect: non-scaling-stroke; opacity: 1; stroke-width: 0px; fill: rgb(139, 0, 0); fill-opacity: 1;\"/></g><g class=\"point\"><path d=\"M0,0Z\" style=\"vector-effect: non-scaling-stroke; opacity: 1; stroke-width: 0px; fill: rgb(139, 0, 0); fill-opacity: 1;\"/></g><g class=\"point\"><path d=\"M81.82,320V319.59H83.45V320Z\" style=\"vector-effect: non-scaling-stroke; opacity: 1; stroke-width: 0px; fill: rgb(139, 0, 0); fill-opacity: 1;\"/></g><g class=\"point\"><path d=\"M0,0Z\" style=\"vector-effect: non-scaling-stroke; opacity: 1; stroke-width: 0px; fill: rgb(139, 0, 0); fill-opacity: 1;\"/></g><g class=\"point\"><path d=\"M85.09,320V319.07H86.73V320Z\" style=\"vector-effect: non-scaling-stroke; opacity: 1; stroke-width: 0px; fill: rgb(139, 0, 0); fill-opacity: 1;\"/></g><g class=\"point\"><path d=\"M0,0Z\" style=\"vector-effect: non-scaling-stroke; opacity: 1; stroke-width: 0px; fill: rgb(139, 0, 0); fill-opacity: 1;\"/></g><g class=\"point\"><path d=\"M88.36,320V318.66H90V320Z\" style=\"vector-effect: non-scaling-stroke; opacity: 1; stroke-width: 0px; fill: rgb(139, 0, 0); fill-opacity: 1;\"/></g><g class=\"point\"><path d=\"M90,320V319.9H91.64V320Z\" style=\"vector-effect: non-scaling-stroke; opacity: 1; stroke-width: 0px; fill: rgb(139, 0, 0); fill-opacity: 1;\"/></g><g class=\"point\"><path d=\"M91.64,320V319.79H93.27V320Z\" style=\"vector-effect: non-scaling-stroke; opacity: 1; stroke-width: 0px; fill: rgb(139, 0, 0); fill-opacity: 1;\"/></g><g class=\"point\"><path d=\"M93.27,320V319.9H94.91V320Z\" style=\"vector-effect: non-scaling-stroke; opacity: 1; stroke-width: 0px; fill: rgb(139, 0, 0); fill-opacity: 1;\"/></g><g class=\"point\"><path d=\"M94.91,320V319.59H96.55V320Z\" style=\"vector-effect: non-scaling-stroke; opacity: 1; stroke-width: 0px; fill: rgb(139, 0, 0); fill-opacity: 1;\"/></g><g class=\"point\"><path d=\"M96.55,320V319.79H98.18V320Z\" style=\"vector-effect: non-scaling-stroke; opacity: 1; stroke-width: 0px; fill: rgb(139, 0, 0); fill-opacity: 1;\"/></g><g class=\"point\"><path d=\"M98.18,320V319.48H99.82V320Z\" style=\"vector-effect: non-scaling-stroke; opacity: 1; stroke-width: 0px; fill: rgb(139, 0, 0); fill-opacity: 1;\"/></g><g class=\"point\"><path d=\"M99.82,320V319.38H101.45V320Z\" style=\"vector-effect: non-scaling-stroke; opacity: 1; stroke-width: 0px; fill: rgb(139, 0, 0); fill-opacity: 1;\"/></g><g class=\"point\"><path d=\"M101.45,320V319.59H103.09V320Z\" style=\"vector-effect: non-scaling-stroke; opacity: 1; stroke-width: 0px; fill: rgb(139, 0, 0); fill-opacity: 1;\"/></g><g class=\"point\"><path d=\"M103.09,320V319.79H104.73V320Z\" style=\"vector-effect: non-scaling-stroke; opacity: 1; stroke-width: 0px; fill: rgb(139, 0, 0); fill-opacity: 1;\"/></g><g class=\"point\"><path d=\"M0,0Z\" style=\"vector-effect: non-scaling-stroke; opacity: 1; stroke-width: 0px; fill: rgb(139, 0, 0); fill-opacity: 1;\"/></g><g class=\"point\"><path d=\"M0,0Z\" style=\"vector-effect: non-scaling-stroke; opacity: 1; stroke-width: 0px; fill: rgb(139, 0, 0); fill-opacity: 1;\"/></g><g class=\"point\"><path d=\"M0,0Z\" style=\"vector-effect: non-scaling-stroke; opacity: 1; stroke-width: 0px; fill: rgb(139, 0, 0); fill-opacity: 1;\"/></g><g class=\"point\"><path d=\"M109.64,320V319.9H111.27V320Z\" style=\"vector-effect: non-scaling-stroke; opacity: 1; stroke-width: 0px; fill: rgb(139, 0, 0); fill-opacity: 1;\"/></g><g class=\"point\"><path d=\"M0,0Z\" style=\"vector-effect: non-scaling-stroke; opacity: 1; stroke-width: 0px; fill: rgb(139, 0, 0); fill-opacity: 1;\"/></g><g class=\"point\"><path d=\"M0,0Z\" style=\"vector-effect: non-scaling-stroke; opacity: 1; stroke-width: 0px; fill: rgb(139, 0, 0); fill-opacity: 1;\"/></g><g class=\"point\"><path d=\"M114.55,320V319.9H116.18V320Z\" style=\"vector-effect: non-scaling-stroke; opacity: 1; stroke-width: 0px; fill: rgb(139, 0, 0); fill-opacity: 1;\"/></g><g class=\"point\"><path d=\"M0,0Z\" style=\"vector-effect: non-scaling-stroke; opacity: 1; stroke-width: 0px; fill: rgb(139, 0, 0); fill-opacity: 1;\"/></g><g class=\"point\"><path d=\"M117.82,320V319.07H119.45V320Z\" style=\"vector-effect: non-scaling-stroke; opacity: 1; stroke-width: 0px; fill: rgb(139, 0, 0); fill-opacity: 1;\"/></g><g class=\"point\"><path d=\"M119.45,320V319.79H121.09V320Z\" style=\"vector-effect: non-scaling-stroke; opacity: 1; stroke-width: 0px; fill: rgb(139, 0, 0); fill-opacity: 1;\"/></g><g class=\"point\"><path d=\"M121.09,320V319.69H122.73V320Z\" style=\"vector-effect: non-scaling-stroke; opacity: 1; stroke-width: 0px; fill: rgb(139, 0, 0); fill-opacity: 1;\"/></g><g class=\"point\"><path d=\"M122.73,320V319.28H124.36V320Z\" style=\"vector-effect: non-scaling-stroke; opacity: 1; stroke-width: 0px; fill: rgb(139, 0, 0); fill-opacity: 1;\"/></g><g class=\"point\"><path d=\"M124.36,320V319.48H126V320Z\" style=\"vector-effect: non-scaling-stroke; opacity: 1; stroke-width: 0px; fill: rgb(139, 0, 0); fill-opacity: 1;\"/></g><g class=\"point\"><path d=\"M126,320V319.79H127.64V320Z\" style=\"vector-effect: non-scaling-stroke; opacity: 1; stroke-width: 0px; fill: rgb(139, 0, 0); fill-opacity: 1;\"/></g><g class=\"point\"><path d=\"M127.64,320V319.69H129.27V320Z\" style=\"vector-effect: non-scaling-stroke; opacity: 1; stroke-width: 0px; fill: rgb(139, 0, 0); fill-opacity: 1;\"/></g><g class=\"point\"><path d=\"M129.27,320V319.9H130.91V320Z\" style=\"vector-effect: non-scaling-stroke; opacity: 1; stroke-width: 0px; fill: rgb(139, 0, 0); fill-opacity: 1;\"/></g><g class=\"point\"><path d=\"M130.91,320V318.97H132.55V320Z\" style=\"vector-effect: non-scaling-stroke; opacity: 1; stroke-width: 0px; fill: rgb(139, 0, 0); fill-opacity: 1;\"/></g><g class=\"point\"><path d=\"M132.55,320V318.56H134.18V320Z\" style=\"vector-effect: non-scaling-stroke; opacity: 1; stroke-width: 0px; fill: rgb(139, 0, 0); fill-opacity: 1;\"/></g><g class=\"point\"><path d=\"M134.18,320V319.28H135.82V320Z\" style=\"vector-effect: non-scaling-stroke; opacity: 1; stroke-width: 0px; fill: rgb(139, 0, 0); fill-opacity: 1;\"/></g><g class=\"point\"><path d=\"M135.82,320V319.28H137.45V320Z\" style=\"vector-effect: non-scaling-stroke; opacity: 1; stroke-width: 0px; fill: rgb(139, 0, 0); fill-opacity: 1;\"/></g><g class=\"point\"><path d=\"M137.45,320V318.86H139.09V320Z\" style=\"vector-effect: non-scaling-stroke; opacity: 1; stroke-width: 0px; fill: rgb(139, 0, 0); fill-opacity: 1;\"/></g><g class=\"point\"><path d=\"M139.09,320V319.38H140.73V320Z\" style=\"vector-effect: non-scaling-stroke; opacity: 1; stroke-width: 0px; fill: rgb(139, 0, 0); fill-opacity: 1;\"/></g><g class=\"point\"><path d=\"M140.73,320V319.17H142.36V320Z\" style=\"vector-effect: non-scaling-stroke; opacity: 1; stroke-width: 0px; fill: rgb(139, 0, 0); fill-opacity: 1;\"/></g><g class=\"point\"><path d=\"M142.36,320V319.38H144V320Z\" style=\"vector-effect: non-scaling-stroke; opacity: 1; stroke-width: 0px; fill: rgb(139, 0, 0); fill-opacity: 1;\"/></g><g class=\"point\"><path d=\"M144,320V319.9H145.64V320Z\" style=\"vector-effect: non-scaling-stroke; opacity: 1; stroke-width: 0px; fill: rgb(139, 0, 0); fill-opacity: 1;\"/></g><g class=\"point\"><path d=\"M145.64,320V319.79H147.27V320Z\" style=\"vector-effect: non-scaling-stroke; opacity: 1; stroke-width: 0px; fill: rgb(139, 0, 0); fill-opacity: 1;\"/></g><g class=\"point\"><path d=\"M0,0Z\" style=\"vector-effect: non-scaling-stroke; opacity: 1; stroke-width: 0px; fill: rgb(139, 0, 0); fill-opacity: 1;\"/></g><g class=\"point\"><path d=\"M0,0Z\" style=\"vector-effect: non-scaling-stroke; opacity: 1; stroke-width: 0px; fill: rgb(139, 0, 0); fill-opacity: 1;\"/></g><g class=\"point\"><path d=\"M0,0Z\" style=\"vector-effect: non-scaling-stroke; opacity: 1; stroke-width: 0px; fill: rgb(139, 0, 0); fill-opacity: 1;\"/></g><g class=\"point\"><path d=\"M0,0Z\" style=\"vector-effect: non-scaling-stroke; opacity: 1; stroke-width: 0px; fill: rgb(139, 0, 0); fill-opacity: 1;\"/></g><g class=\"point\"><path d=\"M153.82,320V319.79H155.45V320Z\" style=\"vector-effect: non-scaling-stroke; opacity: 1; stroke-width: 0px; fill: rgb(139, 0, 0); fill-opacity: 1;\"/></g><g class=\"point\"><path d=\"M0,0Z\" style=\"vector-effect: non-scaling-stroke; opacity: 1; stroke-width: 0px; fill: rgb(139, 0, 0); fill-opacity: 1;\"/></g><g class=\"point\"><path d=\"M157.09,320V319.9H158.73V320Z\" style=\"vector-effect: non-scaling-stroke; opacity: 1; stroke-width: 0px; fill: rgb(139, 0, 0); fill-opacity: 1;\"/></g><g class=\"point\"><path d=\"M158.73,320V319.48H160.36V320Z\" style=\"vector-effect: non-scaling-stroke; opacity: 1; stroke-width: 0px; fill: rgb(139, 0, 0); fill-opacity: 1;\"/></g><g class=\"point\"><path d=\"M160.36,320V319.79H162V320Z\" style=\"vector-effect: non-scaling-stroke; opacity: 1; stroke-width: 0px; fill: rgb(139, 0, 0); fill-opacity: 1;\"/></g><g class=\"point\"><path d=\"M162,320V319.69H163.64V320Z\" style=\"vector-effect: non-scaling-stroke; opacity: 1; stroke-width: 0px; fill: rgb(139, 0, 0); fill-opacity: 1;\"/></g><g class=\"point\"><path d=\"M163.64,320V319.48H165.27V320Z\" style=\"vector-effect: non-scaling-stroke; opacity: 1; stroke-width: 0px; fill: rgb(139, 0, 0); fill-opacity: 1;\"/></g><g class=\"point\"><path d=\"M165.27,320V319.17H166.91V320Z\" style=\"vector-effect: non-scaling-stroke; opacity: 1; stroke-width: 0px; fill: rgb(139, 0, 0); fill-opacity: 1;\"/></g><g class=\"point\"><path d=\"M166.91,320V318.86H168.55V320Z\" style=\"vector-effect: non-scaling-stroke; opacity: 1; stroke-width: 0px; fill: rgb(139, 0, 0); fill-opacity: 1;\"/></g><g class=\"point\"><path d=\"M168.55,320V319.28H170.18V320Z\" style=\"vector-effect: non-scaling-stroke; opacity: 1; stroke-width: 0px; fill: rgb(139, 0, 0); fill-opacity: 1;\"/></g><g class=\"point\"><path d=\"M170.18,320V319.07H171.82V320Z\" style=\"vector-effect: non-scaling-stroke; opacity: 1; stroke-width: 0px; fill: rgb(139, 0, 0); fill-opacity: 1;\"/></g><g class=\"point\"><path d=\"M171.82,320V318.86H173.45V320Z\" style=\"vector-effect: non-scaling-stroke; opacity: 1; stroke-width: 0px; fill: rgb(139, 0, 0); fill-opacity: 1;\"/></g><g class=\"point\"><path d=\"M173.45,320V317.21H175.09V320Z\" style=\"vector-effect: non-scaling-stroke; opacity: 1; stroke-width: 0px; fill: rgb(139, 0, 0); fill-opacity: 1;\"/></g><g class=\"point\"><path d=\"M175.09,320V318.97H176.73V320Z\" style=\"vector-effect: non-scaling-stroke; opacity: 1; stroke-width: 0px; fill: rgb(139, 0, 0); fill-opacity: 1;\"/></g><g class=\"point\"><path d=\"M176.73,320V318.04H178.36V320Z\" style=\"vector-effect: non-scaling-stroke; opacity: 1; stroke-width: 0px; fill: rgb(139, 0, 0); fill-opacity: 1;\"/></g><g class=\"point\"><path d=\"M178.36,320V317.21H180V320Z\" style=\"vector-effect: non-scaling-stroke; opacity: 1; stroke-width: 0px; fill: rgb(139, 0, 0); fill-opacity: 1;\"/></g><g class=\"point\"><path d=\"M180,320V318.66H181.64V320Z\" style=\"vector-effect: non-scaling-stroke; opacity: 1; stroke-width: 0px; fill: rgb(139, 0, 0); fill-opacity: 1;\"/></g><g class=\"point\"><path d=\"M181.64,320V318.35H183.27V320Z\" style=\"vector-effect: non-scaling-stroke; opacity: 1; stroke-width: 0px; fill: rgb(139, 0, 0); fill-opacity: 1;\"/></g><g class=\"point\"><path d=\"M183.27,320V319.69H184.91V320Z\" style=\"vector-effect: non-scaling-stroke; opacity: 1; stroke-width: 0px; fill: rgb(139, 0, 0); fill-opacity: 1;\"/></g><g class=\"point\"><path d=\"M184.91,320V319.59H186.55V320Z\" style=\"vector-effect: non-scaling-stroke; opacity: 1; stroke-width: 0px; fill: rgb(139, 0, 0); fill-opacity: 1;\"/></g><g class=\"point\"><path d=\"M186.55,320V319.9H188.18V320Z\" style=\"vector-effect: non-scaling-stroke; opacity: 1; stroke-width: 0px; fill: rgb(139, 0, 0); fill-opacity: 1;\"/></g><g class=\"point\"><path d=\"M0,0Z\" style=\"vector-effect: non-scaling-stroke; opacity: 1; stroke-width: 0px; fill: rgb(139, 0, 0); fill-opacity: 1;\"/></g><g class=\"point\"><path d=\"M0,0Z\" style=\"vector-effect: non-scaling-stroke; opacity: 1; stroke-width: 0px; fill: rgb(139, 0, 0); fill-opacity: 1;\"/></g><g class=\"point\"><path d=\"M191.45,320V319.79H193.09V320Z\" style=\"vector-effect: non-scaling-stroke; opacity: 1; stroke-width: 0px; fill: rgb(139, 0, 0); fill-opacity: 1;\"/></g><g class=\"point\"><path d=\"M193.09,320V319.79H194.73V320Z\" style=\"vector-effect: non-scaling-stroke; opacity: 1; stroke-width: 0px; fill: rgb(139, 0, 0); fill-opacity: 1;\"/></g><g class=\"point\"><path d=\"M194.73,320V319.79H196.36V320Z\" style=\"vector-effect: non-scaling-stroke; opacity: 1; stroke-width: 0px; fill: rgb(139, 0, 0); fill-opacity: 1;\"/></g><g class=\"point\"><path d=\"M196.36,320V318.76H198V320Z\" style=\"vector-effect: non-scaling-stroke; opacity: 1; stroke-width: 0px; fill: rgb(139, 0, 0); fill-opacity: 1;\"/></g><g class=\"point\"><path d=\"M198,320V318.45H199.64V320Z\" style=\"vector-effect: non-scaling-stroke; opacity: 1; stroke-width: 0px; fill: rgb(139, 0, 0); fill-opacity: 1;\"/></g><g class=\"point\"><path d=\"M199.64,320V318.56H201.27V320Z\" style=\"vector-effect: non-scaling-stroke; opacity: 1; stroke-width: 0px; fill: rgb(139, 0, 0); fill-opacity: 1;\"/></g><g class=\"point\"><path d=\"M201.27,320V319.07H202.91V320Z\" style=\"vector-effect: non-scaling-stroke; opacity: 1; stroke-width: 0px; fill: rgb(139, 0, 0); fill-opacity: 1;\"/></g><g class=\"point\"><path d=\"M202.91,320V317.32H204.55V320Z\" style=\"vector-effect: non-scaling-stroke; opacity: 1; stroke-width: 0px; fill: rgb(139, 0, 0); fill-opacity: 1;\"/></g><g class=\"point\"><path d=\"M204.55,320V318.04H206.18V320Z\" style=\"vector-effect: non-scaling-stroke; opacity: 1; stroke-width: 0px; fill: rgb(139, 0, 0); fill-opacity: 1;\"/></g><g class=\"point\"><path d=\"M206.18,320V316.8H207.82V320Z\" style=\"vector-effect: non-scaling-stroke; opacity: 1; stroke-width: 0px; fill: rgb(139, 0, 0); fill-opacity: 1;\"/></g><g class=\"point\"><path d=\"M207.82,320V316.7H209.45V320Z\" style=\"vector-effect: non-scaling-stroke; opacity: 1; stroke-width: 0px; fill: rgb(139, 0, 0); fill-opacity: 1;\"/></g><g class=\"point\"><path d=\"M209.45,320V317.73H211.09V320Z\" style=\"vector-effect: non-scaling-stroke; opacity: 1; stroke-width: 0px; fill: rgb(139, 0, 0); fill-opacity: 1;\"/></g><g class=\"point\"><path d=\"M211.09,320V317.32H212.73V320Z\" style=\"vector-effect: non-scaling-stroke; opacity: 1; stroke-width: 0px; fill: rgb(139, 0, 0); fill-opacity: 1;\"/></g><g class=\"point\"><path d=\"M212.73,320V317.52H214.36V320Z\" style=\"vector-effect: non-scaling-stroke; opacity: 1; stroke-width: 0px; fill: rgb(139, 0, 0); fill-opacity: 1;\"/></g><g class=\"point\"><path d=\"M214.36,320V317.11H216V320Z\" style=\"vector-effect: non-scaling-stroke; opacity: 1; stroke-width: 0px; fill: rgb(139, 0, 0); fill-opacity: 1;\"/></g><g class=\"point\"><path d=\"M216,320V315.77H217.64V320Z\" style=\"vector-effect: non-scaling-stroke; opacity: 1; stroke-width: 0px; fill: rgb(139, 0, 0); fill-opacity: 1;\"/></g><g class=\"point\"><path d=\"M217.64,320V316.9H219.27V320Z\" style=\"vector-effect: non-scaling-stroke; opacity: 1; stroke-width: 0px; fill: rgb(139, 0, 0); fill-opacity: 1;\"/></g><g class=\"point\"><path d=\"M219.27,320V317.63H220.91V320Z\" style=\"vector-effect: non-scaling-stroke; opacity: 1; stroke-width: 0px; fill: rgb(139, 0, 0); fill-opacity: 1;\"/></g><g class=\"point\"><path d=\"M220.91,320V317.83H222.55V320Z\" style=\"vector-effect: non-scaling-stroke; opacity: 1; stroke-width: 0px; fill: rgb(139, 0, 0); fill-opacity: 1;\"/></g><g class=\"point\"><path d=\"M222.55,320V318.56H224.18V320Z\" style=\"vector-effect: non-scaling-stroke; opacity: 1; stroke-width: 0px; fill: rgb(139, 0, 0); fill-opacity: 1;\"/></g><g class=\"point\"><path d=\"M224.18,320V318.97H225.82V320Z\" style=\"vector-effect: non-scaling-stroke; opacity: 1; stroke-width: 0px; fill: rgb(139, 0, 0); fill-opacity: 1;\"/></g><g class=\"point\"><path d=\"M225.82,320V319.59H227.45V320Z\" style=\"vector-effect: non-scaling-stroke; opacity: 1; stroke-width: 0px; fill: rgb(139, 0, 0); fill-opacity: 1;\"/></g><g class=\"point\"><path d=\"M227.45,320V319.38H229.09V320Z\" style=\"vector-effect: non-scaling-stroke; opacity: 1; stroke-width: 0px; fill: rgb(139, 0, 0); fill-opacity: 1;\"/></g><g class=\"point\"><path d=\"M0,0Z\" style=\"vector-effect: non-scaling-stroke; opacity: 1; stroke-width: 0px; fill: rgb(139, 0, 0); fill-opacity: 1;\"/></g><g class=\"point\"><path d=\"M230.73,320V319.69H232.36V320Z\" style=\"vector-effect: non-scaling-stroke; opacity: 1; stroke-width: 0px; fill: rgb(139, 0, 0); fill-opacity: 1;\"/></g><g class=\"point\"><path d=\"M232.36,320V319.79H234V320Z\" style=\"vector-effect: non-scaling-stroke; opacity: 1; stroke-width: 0px; fill: rgb(139, 0, 0); fill-opacity: 1;\"/></g><g class=\"point\"><path d=\"M234,320V318.76H235.64V320Z\" style=\"vector-effect: non-scaling-stroke; opacity: 1; stroke-width: 0px; fill: rgb(139, 0, 0); fill-opacity: 1;\"/></g><g class=\"point\"><path d=\"M235.64,320V317.73H237.27V320Z\" style=\"vector-effect: non-scaling-stroke; opacity: 1; stroke-width: 0px; fill: rgb(139, 0, 0); fill-opacity: 1;\"/></g><g class=\"point\"><path d=\"M237.27,320V317.21H238.91V320Z\" style=\"vector-effect: non-scaling-stroke; opacity: 1; stroke-width: 0px; fill: rgb(139, 0, 0); fill-opacity: 1;\"/></g><g class=\"point\"><path d=\"M238.91,320V316.8H240.55V320Z\" style=\"vector-effect: non-scaling-stroke; opacity: 1; stroke-width: 0px; fill: rgb(139, 0, 0); fill-opacity: 1;\"/></g><g class=\"point\"><path d=\"M240.55,320V315.36H242.18V320Z\" style=\"vector-effect: non-scaling-stroke; opacity: 1; stroke-width: 0px; fill: rgb(139, 0, 0); fill-opacity: 1;\"/></g><g class=\"point\"><path d=\"M242.18,320V316.8H243.82V320Z\" style=\"vector-effect: non-scaling-stroke; opacity: 1; stroke-width: 0px; fill: rgb(139, 0, 0); fill-opacity: 1;\"/></g><g class=\"point\"><path d=\"M243.82,320V314.94H245.45V320Z\" style=\"vector-effect: non-scaling-stroke; opacity: 1; stroke-width: 0px; fill: rgb(139, 0, 0); fill-opacity: 1;\"/></g><g class=\"point\"><path d=\"M245.45,320V310.92H247.09V320Z\" style=\"vector-effect: non-scaling-stroke; opacity: 1; stroke-width: 0px; fill: rgb(139, 0, 0); fill-opacity: 1;\"/></g><g class=\"point\"><path d=\"M247.09,320V314.53H248.73V320Z\" style=\"vector-effect: non-scaling-stroke; opacity: 1; stroke-width: 0px; fill: rgb(139, 0, 0); fill-opacity: 1;\"/></g><g class=\"point\"><path d=\"M248.73,320V311.54H250.36V320Z\" style=\"vector-effect: non-scaling-stroke; opacity: 1; stroke-width: 0px; fill: rgb(139, 0, 0); fill-opacity: 1;\"/></g><g class=\"point\"><path d=\"M250.36,320V310.51H252V320Z\" style=\"vector-effect: non-scaling-stroke; opacity: 1; stroke-width: 0px; fill: rgb(139, 0, 0); fill-opacity: 1;\"/></g><g class=\"point\"><path d=\"M252,320V309.99H253.64V320Z\" style=\"vector-effect: non-scaling-stroke; opacity: 1; stroke-width: 0px; fill: rgb(139, 0, 0); fill-opacity: 1;\"/></g><g class=\"point\"><path d=\"M253.64,320V308.55H255.27V320Z\" style=\"vector-effect: non-scaling-stroke; opacity: 1; stroke-width: 0px; fill: rgb(139, 0, 0); fill-opacity: 1;\"/></g><g class=\"point\"><path d=\"M255.27,320V308.86H256.91V320Z\" style=\"vector-effect: non-scaling-stroke; opacity: 1; stroke-width: 0px; fill: rgb(139, 0, 0); fill-opacity: 1;\"/></g><g class=\"point\"><path d=\"M256.91,320V308.34H258.55V320Z\" style=\"vector-effect: non-scaling-stroke; opacity: 1; stroke-width: 0px; fill: rgb(139, 0, 0); fill-opacity: 1;\"/></g><g class=\"point\"><path d=\"M258.55,320V309.06H260.18V320Z\" style=\"vector-effect: non-scaling-stroke; opacity: 1; stroke-width: 0px; fill: rgb(139, 0, 0); fill-opacity: 1;\"/></g><g class=\"point\"><path d=\"M260.18,320V313.29H261.82V320Z\" style=\"vector-effect: non-scaling-stroke; opacity: 1; stroke-width: 0px; fill: rgb(139, 0, 0); fill-opacity: 1;\"/></g><g class=\"point\"><path d=\"M261.82,320V314.22H263.45V320Z\" style=\"vector-effect: non-scaling-stroke; opacity: 1; stroke-width: 0px; fill: rgb(139, 0, 0); fill-opacity: 1;\"/></g><g class=\"point\"><path d=\"M263.45,320V276.14H265.09V320Z\" style=\"vector-effect: non-scaling-stroke; opacity: 1; stroke-width: 0px; fill: rgb(139, 0, 0); fill-opacity: 1;\"/></g><g class=\"point\"><path d=\"M265.09,320V288.11H266.73V320Z\" style=\"vector-effect: non-scaling-stroke; opacity: 1; stroke-width: 0px; fill: rgb(139, 0, 0); fill-opacity: 1;\"/></g><g class=\"point\"><path d=\"M266.73,320V309.27H268.36V320Z\" style=\"vector-effect: non-scaling-stroke; opacity: 1; stroke-width: 0px; fill: rgb(139, 0, 0); fill-opacity: 1;\"/></g><g class=\"point\"><path d=\"M268.36,320V300.19H270V320Z\" style=\"vector-effect: non-scaling-stroke; opacity: 1; stroke-width: 0px; fill: rgb(139, 0, 0); fill-opacity: 1;\"/></g><g class=\"point\"><path d=\"M270,320V296.47H271.64V320Z\" style=\"vector-effect: non-scaling-stroke; opacity: 1; stroke-width: 0px; fill: rgb(139, 0, 0); fill-opacity: 1;\"/></g><g class=\"point\"><path d=\"M271.64,320V286.05H273.27V320Z\" style=\"vector-effect: non-scaling-stroke; opacity: 1; stroke-width: 0px; fill: rgb(139, 0, 0); fill-opacity: 1;\"/></g><g class=\"point\"><path d=\"M273.27,320V252.1H274.91V320Z\" style=\"vector-effect: non-scaling-stroke; opacity: 1; stroke-width: 0px; fill: rgb(139, 0, 0); fill-opacity: 1;\"/></g><g class=\"point\"><path d=\"M274.91,320V233.53H276.55V320Z\" style=\"vector-effect: non-scaling-stroke; opacity: 1; stroke-width: 0px; fill: rgb(139, 0, 0); fill-opacity: 1;\"/></g><g class=\"point\"><path d=\"M276.55,320V204.84H278.18V320Z\" style=\"vector-effect: non-scaling-stroke; opacity: 1; stroke-width: 0px; fill: rgb(139, 0, 0); fill-opacity: 1;\"/></g><g class=\"point\"><path d=\"M278.18,320V172.13H279.82V320Z\" style=\"vector-effect: non-scaling-stroke; opacity: 1; stroke-width: 0px; fill: rgb(139, 0, 0); fill-opacity: 1;\"/></g><g class=\"point\"><path d=\"M279.82,320V138.49H281.45V320Z\" style=\"vector-effect: non-scaling-stroke; opacity: 1; stroke-width: 0px; fill: rgb(139, 0, 0); fill-opacity: 1;\"/></g><g class=\"point\"><path d=\"M281.45,320V123.73H283.09V320Z\" style=\"vector-effect: non-scaling-stroke; opacity: 1; stroke-width: 0px; fill: rgb(139, 0, 0); fill-opacity: 1;\"/></g><g class=\"point\"><path d=\"M283.09,320V113H284.73V320Z\" style=\"vector-effect: non-scaling-stroke; opacity: 1; stroke-width: 0px; fill: rgb(139, 0, 0); fill-opacity: 1;\"/></g><g class=\"point\"><path d=\"M284.73,320V117.44H286.36V320Z\" style=\"vector-effect: non-scaling-stroke; opacity: 1; stroke-width: 0px; fill: rgb(139, 0, 0); fill-opacity: 1;\"/></g><g class=\"point\"><path d=\"M286.36,320V57.28H288V320Z\" style=\"vector-effect: non-scaling-stroke; opacity: 1; stroke-width: 0px; fill: rgb(139, 0, 0); fill-opacity: 1;\"/></g><g class=\"point\"><path d=\"M288,320V55.93H289.64V320Z\" style=\"vector-effect: non-scaling-stroke; opacity: 1; stroke-width: 0px; fill: rgb(139, 0, 0); fill-opacity: 1;\"/></g><g class=\"point\"><path d=\"M289.64,320V82.45H291.27V320Z\" style=\"vector-effect: non-scaling-stroke; opacity: 1; stroke-width: 0px; fill: rgb(139, 0, 0); fill-opacity: 1;\"/></g><g class=\"point\"><path d=\"M291.27,320V30.03H292.91V320Z\" style=\"vector-effect: non-scaling-stroke; opacity: 1; stroke-width: 0px; fill: rgb(139, 0, 0); fill-opacity: 1;\"/></g><g class=\"point\"><path d=\"M292.91,320V77.3H294.55V320Z\" style=\"vector-effect: non-scaling-stroke; opacity: 1; stroke-width: 0px; fill: rgb(139, 0, 0); fill-opacity: 1;\"/></g><g class=\"point\"><path d=\"M294.55,320V48.4H296.18V320Z\" style=\"vector-effect: non-scaling-stroke; opacity: 1; stroke-width: 0px; fill: rgb(139, 0, 0); fill-opacity: 1;\"/></g><g class=\"point\"><path d=\"M296.18,320V68.73H297.82V320Z\" style=\"vector-effect: non-scaling-stroke; opacity: 1; stroke-width: 0px; fill: rgb(139, 0, 0); fill-opacity: 1;\"/></g><g class=\"point\"><path d=\"M297.82,320V102.58H299.45V320Z\" style=\"vector-effect: non-scaling-stroke; opacity: 1; stroke-width: 0px; fill: rgb(139, 0, 0); fill-opacity: 1;\"/></g><g class=\"point\"><path d=\"M299.45,320V132.81H301.09V320Z\" style=\"vector-effect: non-scaling-stroke; opacity: 1; stroke-width: 0px; fill: rgb(139, 0, 0); fill-opacity: 1;\"/></g><g class=\"point\"><path d=\"M301.09,320V215.78H302.73V320Z\" style=\"vector-effect: non-scaling-stroke; opacity: 1; stroke-width: 0px; fill: rgb(139, 0, 0); fill-opacity: 1;\"/></g><g class=\"point\"><path d=\"M302.73,320V250.24H304.36V320Z\" style=\"vector-effect: non-scaling-stroke; opacity: 1; stroke-width: 0px; fill: rgb(139, 0, 0); fill-opacity: 1;\"/></g><g class=\"point\"><path d=\"M304.36,320V287.39H306V320Z\" style=\"vector-effect: non-scaling-stroke; opacity: 1; stroke-width: 0px; fill: rgb(139, 0, 0); fill-opacity: 1;\"/></g><g class=\"point\"><path d=\"M306,320V294.62H307.64V320Z\" style=\"vector-effect: non-scaling-stroke; opacity: 1; stroke-width: 0px; fill: rgb(139, 0, 0); fill-opacity: 1;\"/></g><g class=\"point\"><path d=\"M307.64,320V253.24H309.27V320Z\" style=\"vector-effect: non-scaling-stroke; opacity: 1; stroke-width: 0px; fill: rgb(139, 0, 0); fill-opacity: 1;\"/></g><g class=\"point\"><path d=\"M309.27,320V237.14H310.91V320Z\" style=\"vector-effect: non-scaling-stroke; opacity: 1; stroke-width: 0px; fill: rgb(139, 0, 0); fill-opacity: 1;\"/></g><g class=\"point\"><path d=\"M310.91,320V247.04H312.55V320Z\" style=\"vector-effect: non-scaling-stroke; opacity: 1; stroke-width: 0px; fill: rgb(139, 0, 0); fill-opacity: 1;\"/></g><g class=\"point\"><path d=\"M312.55,320V232.29H314.18V320Z\" style=\"vector-effect: non-scaling-stroke; opacity: 1; stroke-width: 0px; fill: rgb(139, 0, 0); fill-opacity: 1;\"/></g><g class=\"point\"><path d=\"M314.18,320V239.72H315.82V320Z\" style=\"vector-effect: non-scaling-stroke; opacity: 1; stroke-width: 0px; fill: rgb(139, 0, 0); fill-opacity: 1;\"/></g><g class=\"point\"><path d=\"M315.82,320V213.4H317.45V320Z\" style=\"vector-effect: non-scaling-stroke; opacity: 1; stroke-width: 0px; fill: rgb(139, 0, 0); fill-opacity: 1;\"/></g><g class=\"point\"><path d=\"M317.45,320V181.62H319.09V320Z\" style=\"vector-effect: non-scaling-stroke; opacity: 1; stroke-width: 0px; fill: rgb(139, 0, 0); fill-opacity: 1;\"/></g><g class=\"point\"><path d=\"M319.09,320V145.19H320.73V320Z\" style=\"vector-effect: non-scaling-stroke; opacity: 1; stroke-width: 0px; fill: rgb(139, 0, 0); fill-opacity: 1;\"/></g><g class=\"point\"><path d=\"M320.73,320V117.02H322.36V320Z\" style=\"vector-effect: non-scaling-stroke; opacity: 1; stroke-width: 0px; fill: rgb(139, 0, 0); fill-opacity: 1;\"/></g><g class=\"point\"><path d=\"M322.36,320V93.81H324V320Z\" style=\"vector-effect: non-scaling-stroke; opacity: 1; stroke-width: 0px; fill: rgb(139, 0, 0); fill-opacity: 1;\"/></g><g class=\"point\"><path d=\"M324,320V108.56H325.64V320Z\" style=\"vector-effect: non-scaling-stroke; opacity: 1; stroke-width: 0px; fill: rgb(139, 0, 0); fill-opacity: 1;\"/></g><g class=\"point\"><path d=\"M325.64,320V82.97H327.27V320Z\" style=\"vector-effect: non-scaling-stroke; opacity: 1; stroke-width: 0px; fill: rgb(139, 0, 0); fill-opacity: 1;\"/></g><g class=\"point\"><path d=\"M327.27,320V126.31H328.91V320Z\" style=\"vector-effect: non-scaling-stroke; opacity: 1; stroke-width: 0px; fill: rgb(139, 0, 0); fill-opacity: 1;\"/></g><g class=\"point\"><path d=\"M328.91,320V76.78H330.55V320Z\" style=\"vector-effect: non-scaling-stroke; opacity: 1; stroke-width: 0px; fill: rgb(139, 0, 0); fill-opacity: 1;\"/></g><g class=\"point\"><path d=\"M330.55,320V74.72H332.18V320Z\" style=\"vector-effect: non-scaling-stroke; opacity: 1; stroke-width: 0px; fill: rgb(139, 0, 0); fill-opacity: 1;\"/></g><g class=\"point\"><path d=\"M332.18,320V58.51H333.82V320Z\" style=\"vector-effect: non-scaling-stroke; opacity: 1; stroke-width: 0px; fill: rgb(139, 0, 0); fill-opacity: 1;\"/></g><g class=\"point\"><path d=\"M333.82,320V84.21H335.45V320Z\" style=\"vector-effect: non-scaling-stroke; opacity: 1; stroke-width: 0px; fill: rgb(139, 0, 0); fill-opacity: 1;\"/></g><g class=\"point\"><path d=\"M335.45,320V126.62H337.09V320Z\" style=\"vector-effect: non-scaling-stroke; opacity: 1; stroke-width: 0px; fill: rgb(139, 0, 0); fill-opacity: 1;\"/></g><g class=\"point\"><path d=\"M337.09,320V143.13H338.73V320Z\" style=\"vector-effect: non-scaling-stroke; opacity: 1; stroke-width: 0px; fill: rgb(139, 0, 0); fill-opacity: 1;\"/></g><g class=\"point\"><path d=\"M338.73,320V140.76H340.36V320Z\" style=\"vector-effect: non-scaling-stroke; opacity: 1; stroke-width: 0px; fill: rgb(139, 0, 0); fill-opacity: 1;\"/></g><g class=\"point\"><path d=\"M340.36,320V186.16H342V320Z\" style=\"vector-effect: non-scaling-stroke; opacity: 1; stroke-width: 0px; fill: rgb(139, 0, 0); fill-opacity: 1;\"/></g><g class=\"point\"><path d=\"M342,320V244.88H343.64V320Z\" style=\"vector-effect: non-scaling-stroke; opacity: 1; stroke-width: 0px; fill: rgb(139, 0, 0); fill-opacity: 1;\"/></g><g class=\"point\"><path d=\"M343.64,320V291.73H345.27V320Z\" style=\"vector-effect: non-scaling-stroke; opacity: 1; stroke-width: 0px; fill: rgb(139, 0, 0); fill-opacity: 1;\"/></g><g class=\"point\"><path d=\"M345.27,320V299.98H346.91V320Z\" style=\"vector-effect: non-scaling-stroke; opacity: 1; stroke-width: 0px; fill: rgb(139, 0, 0); fill-opacity: 1;\"/></g><g class=\"point\"><path d=\"M346.91,320V311.64H348.55V320Z\" style=\"vector-effect: non-scaling-stroke; opacity: 1; stroke-width: 0px; fill: rgb(139, 0, 0); fill-opacity: 1;\"/></g><g class=\"point\"><path d=\"M348.55,320V302.25H350.18V320Z\" style=\"vector-effect: non-scaling-stroke; opacity: 1; stroke-width: 0px; fill: rgb(139, 0, 0); fill-opacity: 1;\"/></g><g class=\"point\"><path d=\"M350.18,320V272.22H351.82V320Z\" style=\"vector-effect: non-scaling-stroke; opacity: 1; stroke-width: 0px; fill: rgb(139, 0, 0); fill-opacity: 1;\"/></g><g class=\"point\"><path d=\"M351.82,320V276.45H353.45V320Z\" style=\"vector-effect: non-scaling-stroke; opacity: 1; stroke-width: 0px; fill: rgb(139, 0, 0); fill-opacity: 1;\"/></g><g class=\"point\"><path d=\"M353.45,320V254.99H355.09V320Z\" style=\"vector-effect: non-scaling-stroke; opacity: 1; stroke-width: 0px; fill: rgb(139, 0, 0); fill-opacity: 1;\"/></g><g class=\"point\"><path d=\"M355.09,320V213.61H356.73V320Z\" style=\"vector-effect: non-scaling-stroke; opacity: 1; stroke-width: 0px; fill: rgb(139, 0, 0); fill-opacity: 1;\"/></g><g class=\"point\"><path d=\"M356.73,320V179.25H358.36V320Z\" style=\"vector-effect: non-scaling-stroke; opacity: 1; stroke-width: 0px; fill: rgb(139, 0, 0); fill-opacity: 1;\"/></g><g class=\"point\"><path d=\"M358.36,320V149.74H360V320Z\" style=\"vector-effect: non-scaling-stroke; opacity: 1; stroke-width: 0px; fill: rgb(139, 0, 0); fill-opacity: 1;\"/></g><g class=\"point\"><path d=\"M360,320V114.24H361.64V320Z\" style=\"vector-effect: non-scaling-stroke; opacity: 1; stroke-width: 0px; fill: rgb(139, 0, 0); fill-opacity: 1;\"/></g><g class=\"point\"><path d=\"M361.64,320V68.63H363.27V320Z\" style=\"vector-effect: non-scaling-stroke; opacity: 1; stroke-width: 0px; fill: rgb(139, 0, 0); fill-opacity: 1;\"/></g><g class=\"point\"><path d=\"M363.27,320V113H364.91V320Z\" style=\"vector-effect: non-scaling-stroke; opacity: 1; stroke-width: 0px; fill: rgb(139, 0, 0); fill-opacity: 1;\"/></g><g class=\"point\"><path d=\"M364.91,320V19.92H366.55V320Z\" style=\"vector-effect: non-scaling-stroke; opacity: 1; stroke-width: 0px; fill: rgb(139, 0, 0); fill-opacity: 1;\"/></g><g class=\"point\"><path d=\"M366.55,320V89.68H368.18V320Z\" style=\"vector-effect: non-scaling-stroke; opacity: 1; stroke-width: 0px; fill: rgb(139, 0, 0); fill-opacity: 1;\"/></g><g class=\"point\"><path d=\"M368.18,320V109.59H369.82V320Z\" style=\"vector-effect: non-scaling-stroke; opacity: 1; stroke-width: 0px; fill: rgb(139, 0, 0); fill-opacity: 1;\"/></g><g class=\"point\"><path d=\"M369.82,320V44.07H371.45V320Z\" style=\"vector-effect: non-scaling-stroke; opacity: 1; stroke-width: 0px; fill: rgb(139, 0, 0); fill-opacity: 1;\"/></g><g class=\"point\"><path d=\"M371.45,320V89.99H373.09V320Z\" style=\"vector-effect: non-scaling-stroke; opacity: 1; stroke-width: 0px; fill: rgb(139, 0, 0); fill-opacity: 1;\"/></g><g class=\"point\"><path d=\"M373.09,320V92.98H374.73V320Z\" style=\"vector-effect: non-scaling-stroke; opacity: 1; stroke-width: 0px; fill: rgb(139, 0, 0); fill-opacity: 1;\"/></g><g class=\"point\"><path d=\"M374.73,320V112.48H376.36V320Z\" style=\"vector-effect: non-scaling-stroke; opacity: 1; stroke-width: 0px; fill: rgb(139, 0, 0); fill-opacity: 1;\"/></g><g class=\"point\"><path d=\"M376.36,320V146.95H378V320Z\" style=\"vector-effect: non-scaling-stroke; opacity: 1; stroke-width: 0px; fill: rgb(139, 0, 0); fill-opacity: 1;\"/></g><g class=\"point\"><path d=\"M378,320V166.25H379.64V320Z\" style=\"vector-effect: non-scaling-stroke; opacity: 1; stroke-width: 0px; fill: rgb(139, 0, 0); fill-opacity: 1;\"/></g><g class=\"point\"><path d=\"M379.64,320V241.06H381.27V320Z\" style=\"vector-effect: non-scaling-stroke; opacity: 1; stroke-width: 0px; fill: rgb(139, 0, 0); fill-opacity: 1;\"/></g><g class=\"point\"><path d=\"M381.27,320V267.27H382.91V320Z\" style=\"vector-effect: non-scaling-stroke; opacity: 1; stroke-width: 0px; fill: rgb(139, 0, 0); fill-opacity: 1;\"/></g><g class=\"point\"><path d=\"M382.91,320V293.27H384.55V320Z\" style=\"vector-effect: non-scaling-stroke; opacity: 1; stroke-width: 0px; fill: rgb(139, 0, 0); fill-opacity: 1;\"/></g><g class=\"point\"><path d=\"M384.55,320V308.96H386.18V320Z\" style=\"vector-effect: non-scaling-stroke; opacity: 1; stroke-width: 0px; fill: rgb(139, 0, 0); fill-opacity: 1;\"/></g><g class=\"point\"><path d=\"M386.18,320V307.72H387.82V320Z\" style=\"vector-effect: non-scaling-stroke; opacity: 1; stroke-width: 0px; fill: rgb(139, 0, 0); fill-opacity: 1;\"/></g><g class=\"point\"><path d=\"M387.82,320V298.64H389.45V320Z\" style=\"vector-effect: non-scaling-stroke; opacity: 1; stroke-width: 0px; fill: rgb(139, 0, 0); fill-opacity: 1;\"/></g><g class=\"point\"><path d=\"M389.45,320V295.75H391.09V320Z\" style=\"vector-effect: non-scaling-stroke; opacity: 1; stroke-width: 0px; fill: rgb(139, 0, 0); fill-opacity: 1;\"/></g><g class=\"point\"><path d=\"M391.09,320V271.09H392.73V320Z\" style=\"vector-effect: non-scaling-stroke; opacity: 1; stroke-width: 0px; fill: rgb(139, 0, 0); fill-opacity: 1;\"/></g><g class=\"point\"><path d=\"M392.73,320V249.42H394.36V320Z\" style=\"vector-effect: non-scaling-stroke; opacity: 1; stroke-width: 0px; fill: rgb(139, 0, 0); fill-opacity: 1;\"/></g><g class=\"point\"><path d=\"M394.36,320V211.24H396V320Z\" style=\"vector-effect: non-scaling-stroke; opacity: 1; stroke-width: 0px; fill: rgb(139, 0, 0); fill-opacity: 1;\"/></g><g class=\"point\"><path d=\"M396,320V179.97H397.64V320Z\" style=\"vector-effect: non-scaling-stroke; opacity: 1; stroke-width: 0px; fill: rgb(139, 0, 0); fill-opacity: 1;\"/></g><g class=\"point\"><path d=\"M397.64,320V157.89H399.27V320Z\" style=\"vector-effect: non-scaling-stroke; opacity: 1; stroke-width: 0px; fill: rgb(139, 0, 0); fill-opacity: 1;\"/></g><g class=\"point\"><path d=\"M399.27,320V130.03H400.91V320Z\" style=\"vector-effect: non-scaling-stroke; opacity: 1; stroke-width: 0px; fill: rgb(139, 0, 0); fill-opacity: 1;\"/></g><g class=\"point\"><path d=\"M400.91,320V114.24H402.55V320Z\" style=\"vector-effect: non-scaling-stroke; opacity: 1; stroke-width: 0px; fill: rgb(139, 0, 0); fill-opacity: 1;\"/></g><g class=\"point\"><path d=\"M402.55,320V62.64H404.18V320Z\" style=\"vector-effect: non-scaling-stroke; opacity: 1; stroke-width: 0px; fill: rgb(139, 0, 0); fill-opacity: 1;\"/></g><g class=\"point\"><path d=\"M404.18,320V63.05H405.82V320Z\" style=\"vector-effect: non-scaling-stroke; opacity: 1; stroke-width: 0px; fill: rgb(139, 0, 0); fill-opacity: 1;\"/></g><g class=\"point\"><path d=\"M405.82,320V75.64H407.45V320Z\" style=\"vector-effect: non-scaling-stroke; opacity: 1; stroke-width: 0px; fill: rgb(139, 0, 0); fill-opacity: 1;\"/></g><g class=\"point\"><path d=\"M407.45,320V100.62H409.09V320Z\" style=\"vector-effect: non-scaling-stroke; opacity: 1; stroke-width: 0px; fill: rgb(139, 0, 0); fill-opacity: 1;\"/></g><g class=\"point\"><path d=\"M409.09,320V112.9H410.73V320Z\" style=\"vector-effect: non-scaling-stroke; opacity: 1; stroke-width: 0px; fill: rgb(139, 0, 0); fill-opacity: 1;\"/></g><g class=\"point\"><path d=\"M410.73,320V65.22H412.36V320Z\" style=\"vector-effect: non-scaling-stroke; opacity: 1; stroke-width: 0px; fill: rgb(139, 0, 0); fill-opacity: 1;\"/></g><g class=\"point\"><path d=\"M412.36,320V95.77H414V320Z\" style=\"vector-effect: non-scaling-stroke; opacity: 1; stroke-width: 0px; fill: rgb(139, 0, 0); fill-opacity: 1;\"/></g><g class=\"point\"><path d=\"M414,320V96.9H415.64V320Z\" style=\"vector-effect: non-scaling-stroke; opacity: 1; stroke-width: 0px; fill: rgb(139, 0, 0); fill-opacity: 1;\"/></g><g class=\"point\"><path d=\"M415.64,320V143.03H417.27V320Z\" style=\"vector-effect: non-scaling-stroke; opacity: 1; stroke-width: 0px; fill: rgb(139, 0, 0); fill-opacity: 1;\"/></g><g class=\"point\"><path d=\"M417.27,320V183.38H418.91V320Z\" style=\"vector-effect: non-scaling-stroke; opacity: 1; stroke-width: 0px; fill: rgb(139, 0, 0); fill-opacity: 1;\"/></g><g class=\"point\"><path d=\"M418.91,320V226.3H420.55V320Z\" style=\"vector-effect: non-scaling-stroke; opacity: 1; stroke-width: 0px; fill: rgb(139, 0, 0); fill-opacity: 1;\"/></g><g class=\"point\"><path d=\"M420.55,320V253.44H422.18V320Z\" style=\"vector-effect: non-scaling-stroke; opacity: 1; stroke-width: 0px; fill: rgb(139, 0, 0); fill-opacity: 1;\"/></g><g class=\"point\"><path d=\"M422.18,320V274.8H423.82V320Z\" style=\"vector-effect: non-scaling-stroke; opacity: 1; stroke-width: 0px; fill: rgb(139, 0, 0); fill-opacity: 1;\"/></g><g class=\"point\"><path d=\"M423.82,320V301.63H425.45V320Z\" style=\"vector-effect: non-scaling-stroke; opacity: 1; stroke-width: 0px; fill: rgb(139, 0, 0); fill-opacity: 1;\"/></g><g class=\"point\"><path d=\"M425.45,320V302.04H427.09V320Z\" style=\"vector-effect: non-scaling-stroke; opacity: 1; stroke-width: 0px; fill: rgb(139, 0, 0); fill-opacity: 1;\"/></g><g class=\"point\"><path d=\"M427.09,320V303.59H428.73V320Z\" style=\"vector-effect: non-scaling-stroke; opacity: 1; stroke-width: 0px; fill: rgb(139, 0, 0); fill-opacity: 1;\"/></g><g class=\"point\"><path d=\"M428.73,320V286.05H430.36V320Z\" style=\"vector-effect: non-scaling-stroke; opacity: 1; stroke-width: 0px; fill: rgb(139, 0, 0); fill-opacity: 1;\"/></g><g class=\"point\"><path d=\"M430.36,320V264.59H432V320Z\" style=\"vector-effect: non-scaling-stroke; opacity: 1; stroke-width: 0px; fill: rgb(139, 0, 0); fill-opacity: 1;\"/></g><g class=\"point\"><path d=\"M432,320V229.09H433.64V320Z\" style=\"vector-effect: non-scaling-stroke; opacity: 1; stroke-width: 0px; fill: rgb(139, 0, 0); fill-opacity: 1;\"/></g><g class=\"point\"><path d=\"M433.64,320V183.17H435.27V320Z\" style=\"vector-effect: non-scaling-stroke; opacity: 1; stroke-width: 0px; fill: rgb(139, 0, 0); fill-opacity: 1;\"/></g><g class=\"point\"><path d=\"M435.27,320V164.49H436.91V320Z\" style=\"vector-effect: non-scaling-stroke; opacity: 1; stroke-width: 0px; fill: rgb(139, 0, 0); fill-opacity: 1;\"/></g><g class=\"point\"><path d=\"M436.91,320V167.07H438.55V320Z\" style=\"vector-effect: non-scaling-stroke; opacity: 1; stroke-width: 0px; fill: rgb(139, 0, 0); fill-opacity: 1;\"/></g><g class=\"point\"><path d=\"M438.55,320V119.4H440.18V320Z\" style=\"vector-effect: non-scaling-stroke; opacity: 1; stroke-width: 0px; fill: rgb(139, 0, 0); fill-opacity: 1;\"/></g><g class=\"point\"><path d=\"M440.18,320V114.34H441.82V320Z\" style=\"vector-effect: non-scaling-stroke; opacity: 1; stroke-width: 0px; fill: rgb(139, 0, 0); fill-opacity: 1;\"/></g><g class=\"point\"><path d=\"M441.82,320V73.48H443.45V320Z\" style=\"vector-effect: non-scaling-stroke; opacity: 1; stroke-width: 0px; fill: rgb(139, 0, 0); fill-opacity: 1;\"/></g><g class=\"point\"><path d=\"M443.45,320V100.62H445.09V320Z\" style=\"vector-effect: non-scaling-stroke; opacity: 1; stroke-width: 0px; fill: rgb(139, 0, 0); fill-opacity: 1;\"/></g><g class=\"point\"><path d=\"M445.09,320V99.38H446.73V320Z\" style=\"vector-effect: non-scaling-stroke; opacity: 1; stroke-width: 0px; fill: rgb(139, 0, 0); fill-opacity: 1;\"/></g><g class=\"point\"><path d=\"M446.73,320V60.37H448.36V320Z\" style=\"vector-effect: non-scaling-stroke; opacity: 1; stroke-width: 0px; fill: rgb(139, 0, 0); fill-opacity: 1;\"/></g><g class=\"point\"><path d=\"M448.36,320V16H450V320Z\" style=\"vector-effect: non-scaling-stroke; opacity: 1; stroke-width: 0px; fill: rgb(139, 0, 0); fill-opacity: 1;\"/></g><g class=\"point\"><path d=\"M450,320V29.41H451.64V320Z\" style=\"vector-effect: non-scaling-stroke; opacity: 1; stroke-width: 0px; fill: rgb(139, 0, 0); fill-opacity: 1;\"/></g><g class=\"point\"><path d=\"M451.64,320V44.27H453.27V320Z\" style=\"vector-effect: non-scaling-stroke; opacity: 1; stroke-width: 0px; fill: rgb(139, 0, 0); fill-opacity: 1;\"/></g><g class=\"point\"><path d=\"M453.27,320V50.98H454.91V320Z\" style=\"vector-effect: non-scaling-stroke; opacity: 1; stroke-width: 0px; fill: rgb(139, 0, 0); fill-opacity: 1;\"/></g><g class=\"point\"><path d=\"M454.91,320V143.65H456.55V320Z\" style=\"vector-effect: non-scaling-stroke; opacity: 1; stroke-width: 0px; fill: rgb(139, 0, 0); fill-opacity: 1;\"/></g><g class=\"point\"><path d=\"M456.55,320V153.14H458.18V320Z\" style=\"vector-effect: non-scaling-stroke; opacity: 1; stroke-width: 0px; fill: rgb(139, 0, 0); fill-opacity: 1;\"/></g><g class=\"point\"><path d=\"M458.18,320V217.12H459.82V320Z\" style=\"vector-effect: non-scaling-stroke; opacity: 1; stroke-width: 0px; fill: rgb(139, 0, 0); fill-opacity: 1;\"/></g><g class=\"point\"><path d=\"M459.82,320V242.4H461.45V320Z\" style=\"vector-effect: non-scaling-stroke; opacity: 1; stroke-width: 0px; fill: rgb(139, 0, 0); fill-opacity: 1;\"/></g><g class=\"point\"><path d=\"M461.45,320V293.27H463.09V320Z\" style=\"vector-effect: non-scaling-stroke; opacity: 1; stroke-width: 0px; fill: rgb(139, 0, 0); fill-opacity: 1;\"/></g><g class=\"point\"><path d=\"M463.09,320V295.54H464.73V320Z\" style=\"vector-effect: non-scaling-stroke; opacity: 1; stroke-width: 0px; fill: rgb(139, 0, 0); fill-opacity: 1;\"/></g><g class=\"point\"><path d=\"M464.73,320V303.59H466.36V320Z\" style=\"vector-effect: non-scaling-stroke; opacity: 1; stroke-width: 0px; fill: rgb(139, 0, 0); fill-opacity: 1;\"/></g><g class=\"point\"><path d=\"M466.36,320V301.53H468V320Z\" style=\"vector-effect: non-scaling-stroke; opacity: 1; stroke-width: 0px; fill: rgb(139, 0, 0); fill-opacity: 1;\"/></g><g class=\"point\"><path d=\"M468,320V277.38H469.64V320Z\" style=\"vector-effect: non-scaling-stroke; opacity: 1; stroke-width: 0px; fill: rgb(139, 0, 0); fill-opacity: 1;\"/></g><g class=\"point\"><path d=\"M469.64,320V248.28H471.27V320Z\" style=\"vector-effect: non-scaling-stroke; opacity: 1; stroke-width: 0px; fill: rgb(139, 0, 0); fill-opacity: 1;\"/></g><g class=\"point\"><path d=\"M471.27,320V201.85H472.91V320Z\" style=\"vector-effect: non-scaling-stroke; opacity: 1; stroke-width: 0px; fill: rgb(139, 0, 0); fill-opacity: 1;\"/></g><g class=\"point\"><path d=\"M472.91,320V129.82H474.55V320Z\" style=\"vector-effect: non-scaling-stroke; opacity: 1; stroke-width: 0px; fill: rgb(139, 0, 0); fill-opacity: 1;\"/></g><g class=\"point\"><path d=\"M474.55,320V150.35H476.18V320Z\" style=\"vector-effect: non-scaling-stroke; opacity: 1; stroke-width: 0px; fill: rgb(139, 0, 0); fill-opacity: 1;\"/></g><g class=\"point\"><path d=\"M476.18,320V146.74H477.82V320Z\" style=\"vector-effect: non-scaling-stroke; opacity: 1; stroke-width: 0px; fill: rgb(139, 0, 0); fill-opacity: 1;\"/></g><g class=\"point\"><path d=\"M477.82,320V128.58H479.45V320Z\" style=\"vector-effect: non-scaling-stroke; opacity: 1; stroke-width: 0px; fill: rgb(139, 0, 0); fill-opacity: 1;\"/></g><g class=\"point\"><path d=\"M479.45,320V109.18H481.09V320Z\" style=\"vector-effect: non-scaling-stroke; opacity: 1; stroke-width: 0px; fill: rgb(139, 0, 0); fill-opacity: 1;\"/></g><g class=\"point\"><path d=\"M481.09,320V131.47H482.73V320Z\" style=\"vector-effect: non-scaling-stroke; opacity: 1; stroke-width: 0px; fill: rgb(139, 0, 0); fill-opacity: 1;\"/></g><g class=\"point\"><path d=\"M482.73,320V105.67H484.36V320Z\" style=\"vector-effect: non-scaling-stroke; opacity: 1; stroke-width: 0px; fill: rgb(139, 0, 0); fill-opacity: 1;\"/></g><g class=\"point\"><path d=\"M484.36,320V131.78H486V320Z\" style=\"vector-effect: non-scaling-stroke; opacity: 1; stroke-width: 0px; fill: rgb(139, 0, 0); fill-opacity: 1;\"/></g><g class=\"point\"><path d=\"M486,320V84.52H487.64V320Z\" style=\"vector-effect: non-scaling-stroke; opacity: 1; stroke-width: 0px; fill: rgb(139, 0, 0); fill-opacity: 1;\"/></g><g class=\"point\"><path d=\"M487.64,320V37.67H489.27V320Z\" style=\"vector-effect: non-scaling-stroke; opacity: 1; stroke-width: 0px; fill: rgb(139, 0, 0); fill-opacity: 1;\"/></g><g class=\"point\"><path d=\"M489.27,320V37.05H490.91V320Z\" style=\"vector-effect: non-scaling-stroke; opacity: 1; stroke-width: 0px; fill: rgb(139, 0, 0); fill-opacity: 1;\"/></g><g class=\"point\"><path d=\"M490.91,320V65.63H492.55V320Z\" style=\"vector-effect: non-scaling-stroke; opacity: 1; stroke-width: 0px; fill: rgb(139, 0, 0); fill-opacity: 1;\"/></g><g class=\"point\"><path d=\"M492.55,320V69.97H494.18V320Z\" style=\"vector-effect: non-scaling-stroke; opacity: 1; stroke-width: 0px; fill: rgb(139, 0, 0); fill-opacity: 1;\"/></g><g class=\"point\"><path d=\"M494.18,320V86.58H495.82V320Z\" style=\"vector-effect: non-scaling-stroke; opacity: 1; stroke-width: 0px; fill: rgb(139, 0, 0); fill-opacity: 1;\"/></g><g class=\"point\"><path d=\"M495.82,320V147.26H497.45V320Z\" style=\"vector-effect: non-scaling-stroke; opacity: 1; stroke-width: 0px; fill: rgb(139, 0, 0); fill-opacity: 1;\"/></g><g class=\"point\"><path d=\"M497.45,320V207.01H499.09V320Z\" style=\"vector-effect: non-scaling-stroke; opacity: 1; stroke-width: 0px; fill: rgb(139, 0, 0); fill-opacity: 1;\"/></g><g class=\"point\"><path d=\"M499.09,320V275.73H500.73V320Z\" style=\"vector-effect: non-scaling-stroke; opacity: 1; stroke-width: 0px; fill: rgb(139, 0, 0); fill-opacity: 1;\"/></g><g class=\"point\"><path d=\"M500.73,320V298.95H502.36V320Z\" style=\"vector-effect: non-scaling-stroke; opacity: 1; stroke-width: 0px; fill: rgb(139, 0, 0); fill-opacity: 1;\"/></g><g class=\"point\"><path d=\"M502.36,320V306.89H504V320Z\" style=\"vector-effect: non-scaling-stroke; opacity: 1; stroke-width: 0px; fill: rgb(139, 0, 0); fill-opacity: 1;\"/></g><g class=\"point\"><path d=\"M504,320V308.13H505.64V320Z\" style=\"vector-effect: non-scaling-stroke; opacity: 1; stroke-width: 0px; fill: rgb(139, 0, 0); fill-opacity: 1;\"/></g><g class=\"point\"><path d=\"M505.64,320V295.65H507.27V320Z\" style=\"vector-effect: non-scaling-stroke; opacity: 1; stroke-width: 0px; fill: rgb(139, 0, 0); fill-opacity: 1;\"/></g><g class=\"point\"><path d=\"M507.27,320V288.42H508.91V320Z\" style=\"vector-effect: non-scaling-stroke; opacity: 1; stroke-width: 0px; fill: rgb(139, 0, 0); fill-opacity: 1;\"/></g><g class=\"point\"><path d=\"M508.91,320V248.08H510.55V320Z\" style=\"vector-effect: non-scaling-stroke; opacity: 1; stroke-width: 0px; fill: rgb(139, 0, 0); fill-opacity: 1;\"/></g><g class=\"point\"><path d=\"M510.55,320V199.06H512.18V320Z\" style=\"vector-effect: non-scaling-stroke; opacity: 1; stroke-width: 0px; fill: rgb(139, 0, 0); fill-opacity: 1;\"/></g><g class=\"point\"><path d=\"M512.18,320V206.49H513.82V320Z\" style=\"vector-effect: non-scaling-stroke; opacity: 1; stroke-width: 0px; fill: rgb(139, 0, 0); fill-opacity: 1;\"/></g><g class=\"point\"><path d=\"M513.82,320V175.02H515.45V320Z\" style=\"vector-effect: non-scaling-stroke; opacity: 1; stroke-width: 0px; fill: rgb(139, 0, 0); fill-opacity: 1;\"/></g><g class=\"point\"><path d=\"M515.45,320V173.99H517.09V320Z\" style=\"vector-effect: non-scaling-stroke; opacity: 1; stroke-width: 0px; fill: rgb(139, 0, 0); fill-opacity: 1;\"/></g><g class=\"point\"><path d=\"M517.09,320V157.58H518.73V320Z\" style=\"vector-effect: non-scaling-stroke; opacity: 1; stroke-width: 0px; fill: rgb(139, 0, 0); fill-opacity: 1;\"/></g><g class=\"point\"><path d=\"M518.73,320V112.07H520.36V320Z\" style=\"vector-effect: non-scaling-stroke; opacity: 1; stroke-width: 0px; fill: rgb(139, 0, 0); fill-opacity: 1;\"/></g><g class=\"point\"><path d=\"M520.36,320V148.6H522V320Z\" style=\"vector-effect: non-scaling-stroke; opacity: 1; stroke-width: 0px; fill: rgb(139, 0, 0); fill-opacity: 1;\"/></g><g class=\"point\"><path d=\"M522,320V128.79H523.64V320Z\" style=\"vector-effect: non-scaling-stroke; opacity: 1; stroke-width: 0px; fill: rgb(139, 0, 0); fill-opacity: 1;\"/></g><g class=\"point\"><path d=\"M523.64,320V123.83H525.27V320Z\" style=\"vector-effect: non-scaling-stroke; opacity: 1; stroke-width: 0px; fill: rgb(139, 0, 0); fill-opacity: 1;\"/></g><g class=\"point\"><path d=\"M525.27,320V116.2H526.91V320Z\" style=\"vector-effect: non-scaling-stroke; opacity: 1; stroke-width: 0px; fill: rgb(139, 0, 0); fill-opacity: 1;\"/></g><g class=\"point\"><path d=\"M526.91,320V70.69H528.55V320Z\" style=\"vector-effect: non-scaling-stroke; opacity: 1; stroke-width: 0px; fill: rgb(139, 0, 0); fill-opacity: 1;\"/></g><g class=\"point\"><path d=\"M528.55,320V33.13H530.18V320Z\" style=\"vector-effect: non-scaling-stroke; opacity: 1; stroke-width: 0px; fill: rgb(139, 0, 0); fill-opacity: 1;\"/></g><g class=\"point\"><path d=\"M530.18,320V71.93H531.82V320Z\" style=\"vector-effect: non-scaling-stroke; opacity: 1; stroke-width: 0px; fill: rgb(139, 0, 0); fill-opacity: 1;\"/></g><g class=\"point\"><path d=\"M531.82,320V123.11H533.45V320Z\" style=\"vector-effect: non-scaling-stroke; opacity: 1; stroke-width: 0px; fill: rgb(139, 0, 0); fill-opacity: 1;\"/></g><g class=\"point\"><path d=\"M533.45,320V146.64H535.09V320Z\" style=\"vector-effect: non-scaling-stroke; opacity: 1; stroke-width: 0px; fill: rgb(139, 0, 0); fill-opacity: 1;\"/></g><g class=\"point\"><path d=\"M535.09,320V163.77H536.73V320Z\" style=\"vector-effect: non-scaling-stroke; opacity: 1; stroke-width: 0px; fill: rgb(139, 0, 0); fill-opacity: 1;\"/></g><g class=\"point\"><path d=\"M536.73,320V222.07H538.36V320Z\" style=\"vector-effect: non-scaling-stroke; opacity: 1; stroke-width: 0px; fill: rgb(139, 0, 0); fill-opacity: 1;\"/></g><g class=\"point\"><path d=\"M538.36,320V312.98H540V320Z\" style=\"vector-effect: non-scaling-stroke; opacity: 1; stroke-width: 0px; fill: rgb(139, 0, 0); fill-opacity: 1;\"/></g></g></g></g></g><g class=\"overplot\"/><path class=\"xlines-above crisp\" d=\"M0,0\" style=\"fill: none;\"/><path class=\"ylines-above crisp\" d=\"M0,0\" style=\"fill: none;\"/><g class=\"overlines-above\"/><g class=\"xaxislayer-above\"><g class=\"xtick\"><text text-anchor=\"middle\" x=\"0\" y=\"433\" transform=\"translate(147.09,0)\" style=\"font-family: 'Open Sans', verdana, arial, sans-serif; font-size: 12px; fill: rgb(42, 63, 95); fill-opacity: 1; white-space: pre; opacity: 1;\"><tspan class=\"line\" dy=\"0em\" x=\"0\" y=\"433\">Jul 27</tspan><tspan class=\"line\" dy=\"1.3em\" x=\"0\" y=\"433\">2019</tspan></text></g><g class=\"xtick\"><text text-anchor=\"middle\" x=\"0\" y=\"433\" style=\"font-family: 'Open Sans', verdana, arial, sans-serif; font-size: 12px; fill: rgb(42, 63, 95); fill-opacity: 1; white-space: pre; opacity: 1;\" transform=\"translate(225.64,0)\">Jul 29</text></g><g class=\"xtick\"><text text-anchor=\"middle\" x=\"0\" y=\"433\" style=\"font-family: 'Open Sans', verdana, arial, sans-serif; font-size: 12px; fill: rgb(42, 63, 95); fill-opacity: 1; white-space: pre; opacity: 1;\" transform=\"translate(304.18,0)\">Jul 31</text></g><g class=\"xtick\"><text text-anchor=\"middle\" x=\"0\" y=\"433\" style=\"font-family: 'Open Sans', verdana, arial, sans-serif; font-size: 12px; fill: rgb(42, 63, 95); fill-opacity: 1; white-space: pre; opacity: 1;\" transform=\"translate(382.73,0)\">Aug 2</text></g><g class=\"xtick\"><text text-anchor=\"middle\" x=\"0\" y=\"433\" style=\"font-family: 'Open Sans', verdana, arial, sans-serif; font-size: 12px; fill: rgb(42, 63, 95); fill-opacity: 1; white-space: pre; opacity: 1;\" transform=\"translate(461.27,0)\">Aug 4</text></g><g class=\"xtick\"><text text-anchor=\"middle\" x=\"0\" y=\"433\" style=\"font-family: 'Open Sans', verdana, arial, sans-serif; font-size: 12px; fill: rgb(42, 63, 95); fill-opacity: 1; white-space: pre; opacity: 1;\" transform=\"translate(539.8199999999999,0)\">Aug 6</text></g><g class=\"xtick\"><text text-anchor=\"middle\" x=\"0\" y=\"433\" style=\"font-family: 'Open Sans', verdana, arial, sans-serif; font-size: 12px; fill: rgb(42, 63, 95); fill-opacity: 1; white-space: pre; opacity: 1;\" transform=\"translate(618.36,0)\">Aug 8</text></g></g><g class=\"yaxislayer-above\"><g class=\"ytick\"><text text-anchor=\"end\" x=\"79\" y=\"4.199999999999999\" transform=\"translate(0,420)\" style=\"font-family: 'Open Sans', verdana, arial, sans-serif; font-size: 12px; fill: rgb(42, 63, 95); fill-opacity: 1; white-space: pre; opacity: 1;\">0</text></g><g class=\"ytick\"><text text-anchor=\"end\" x=\"79\" y=\"4.199999999999999\" style=\"font-family: 'Open Sans', verdana, arial, sans-serif; font-size: 12px; fill: rgb(42, 63, 95); fill-opacity: 1; white-space: pre; opacity: 1;\" transform=\"translate(0,368.4)\">500</text></g><g class=\"ytick\"><text text-anchor=\"end\" x=\"79\" y=\"4.199999999999999\" style=\"font-family: 'Open Sans', verdana, arial, sans-serif; font-size: 12px; fill: rgb(42, 63, 95); fill-opacity: 1; white-space: pre; opacity: 1;\" transform=\"translate(0,316.81)\">1000</text></g><g class=\"ytick\"><text text-anchor=\"end\" x=\"79\" y=\"4.199999999999999\" style=\"font-family: 'Open Sans', verdana, arial, sans-serif; font-size: 12px; fill: rgb(42, 63, 95); fill-opacity: 1; white-space: pre; opacity: 1;\" transform=\"translate(0,265.21000000000004)\">1500</text></g><g class=\"ytick\"><text text-anchor=\"end\" x=\"79\" y=\"4.199999999999999\" style=\"font-family: 'Open Sans', verdana, arial, sans-serif; font-size: 12px; fill: rgb(42, 63, 95); fill-opacity: 1; white-space: pre; opacity: 1;\" transform=\"translate(0,213.62)\">2000</text></g><g class=\"ytick\"><text text-anchor=\"end\" x=\"79\" y=\"4.199999999999999\" style=\"font-family: 'Open Sans', verdana, arial, sans-serif; font-size: 12px; fill: rgb(42, 63, 95); fill-opacity: 1; white-space: pre; opacity: 1;\" transform=\"translate(0,162.02)\">2500</text></g><g class=\"ytick\"><text text-anchor=\"end\" x=\"79\" y=\"4.199999999999999\" style=\"font-family: 'Open Sans', verdana, arial, sans-serif; font-size: 12px; fill: rgb(42, 63, 95); fill-opacity: 1; white-space: pre; opacity: 1;\" transform=\"translate(0,110.43)\">3000</text></g></g><g class=\"overaxes-above\"/></g></g><g class=\"polarlayer\"/><g class=\"smithlayer\"/><g class=\"ternarylayer\"/><g class=\"geolayer\"/><g class=\"funnelarealayer\"/><g class=\"pielayer\"/><g class=\"iciclelayer\"/><g class=\"treemaplayer\"/><g class=\"sunburstlayer\"/><g class=\"glimages\"/><defs id=\"topdefs-830bd2\"><g class=\"clips\"/></defs><g class=\"layer-above\"><g class=\"imagelayer\"/><g class=\"shapelayer\"/></g><g class=\"infolayer\"><g class=\"g-gtitle\"><text class=\"gtitle\" x=\"35\" y=\"50\" text-anchor=\"start\" dy=\"0em\" style=\"font-family: 'Open Sans', verdana, arial, sans-serif; font-size: 17px; fill: rgb(42, 63, 95); opacity: 1; font-weight: normal; white-space: pre;\">duration of the observed data</text></g><g class=\"g-xtitle\"><text class=\"xtitle\" x=\"350\" y=\"476.409375\" text-anchor=\"middle\" style=\"font-family: 'Open Sans', verdana, arial, sans-serif; font-size: 14px; fill: rgb(42, 63, 95); opacity: 1; font-weight: normal; white-space: pre;\">timestamp</text></g><g class=\"g-ytitle\"><text class=\"ytitle\" transform=\"rotate(-90,23.684375000000003,260)\" x=\"23.684375000000003\" y=\"260\" text-anchor=\"middle\" style=\"font-family: 'Open Sans', verdana, arial, sans-serif; font-size: 14px; fill: rgb(42, 63, 95); opacity: 1; font-weight: normal; white-space: pre;\">count</text></g></g></svg>"
      ]
     },
     "metadata": {},
     "output_type": "display_data"
    }
   ],
   "source": [
    "\n",
    "fig = px.histogram(df, x=\"timestamp\", color_discrete_sequence = ['darkred'], title='duration of the observed data')\n",
    "fig.show(renderer=\"svg\")"
   ]
  },
  {
   "cell_type": "code",
   "execution_count": 33,
   "id": "c1e82083",
   "metadata": {},
   "outputs": [
    {
     "name": "stderr",
     "output_type": "stream",
     "text": [
      "C:\\Users\\User\\anaconda3\\Lib\\site-packages\\_plotly_utils\\basevalidators.py:106: FutureWarning:\n",
      "\n",
      "The behavior of DatetimeProperties.to_pydatetime is deprecated, in a future version this will return a Series containing python datetime objects instead of an ndarray. To retain the old behavior, call `np.array` on the result\n",
      "\n"
     ]
    },
    {
     "data": {
      "image/svg+xml": [
       "<svg class=\"main-svg\" xmlns=\"http://www.w3.org/2000/svg\" xmlns:xlink=\"http://www.w3.org/1999/xlink\" width=\"700\" height=\"500\" style=\"\" viewBox=\"0 0 700 500\"><rect x=\"0\" y=\"0\" width=\"700\" height=\"500\" style=\"fill: rgb(255, 255, 255); fill-opacity: 1;\"/><defs id=\"defs-50221b\"><g class=\"clips\"><clipPath id=\"clip50221bxyplot\" class=\"plotclip\"><rect width=\"492\" height=\"320\"/></clipPath><clipPath class=\"axesclip\" id=\"clip50221bx\"><rect x=\"80\" y=\"0\" width=\"492\" height=\"500\"/></clipPath><clipPath class=\"axesclip\" id=\"clip50221by\"><rect x=\"0\" y=\"100\" width=\"700\" height=\"320\"/></clipPath><clipPath class=\"axesclip\" id=\"clip50221bxy\"><rect x=\"80\" y=\"100\" width=\"492\" height=\"320\"/></clipPath></g><g class=\"gradients\"/><g class=\"patterns\"/></defs><g class=\"bglayer\"><rect class=\"bg\" x=\"80\" y=\"100\" width=\"492\" height=\"320\" style=\"fill: rgb(229, 236, 246); fill-opacity: 1; stroke-width: 0;\"/></g><g class=\"layer-below\"><g class=\"imagelayer\"/><g class=\"shapelayer\"/></g><g class=\"cartesianlayer\"><g class=\"subplot xy\"><g class=\"layer-subplot\"><g class=\"shapelayer\"/><g class=\"imagelayer\"/></g><g class=\"minor-gridlayer\"><g class=\"x\"/><g class=\"y\"/></g><g class=\"gridlayer\"><g class=\"x\"><path class=\"xgrid crisp\" transform=\"translate(140.31,0)\" d=\"M0,100v320\" style=\"stroke: rgb(255, 255, 255); stroke-opacity: 1; stroke-width: 1px;\"/><path class=\"xgrid crisp\" transform=\"translate(212.2,0)\" d=\"M0,100v320\" style=\"stroke: rgb(255, 255, 255); stroke-opacity: 1; stroke-width: 1px;\"/><path class=\"xgrid crisp\" transform=\"translate(284.08000000000004,0)\" d=\"M0,100v320\" style=\"stroke: rgb(255, 255, 255); stroke-opacity: 1; stroke-width: 1px;\"/><path class=\"xgrid crisp\" transform=\"translate(355.97,0)\" d=\"M0,100v320\" style=\"stroke: rgb(255, 255, 255); stroke-opacity: 1; stroke-width: 1px;\"/><path class=\"xgrid crisp\" transform=\"translate(427.85,0)\" d=\"M0,100v320\" style=\"stroke: rgb(255, 255, 255); stroke-opacity: 1; stroke-width: 1px;\"/><path class=\"xgrid crisp\" transform=\"translate(499.73,0)\" d=\"M0,100v320\" style=\"stroke: rgb(255, 255, 255); stroke-opacity: 1; stroke-width: 1px;\"/></g><g class=\"y\"><path class=\"ygrid crisp\" transform=\"translate(0,345.01)\" d=\"M80,0h492\" style=\"stroke: rgb(255, 255, 255); stroke-opacity: 1; stroke-width: 1px;\"/><path class=\"ygrid crisp\" transform=\"translate(0,286.03)\" d=\"M80,0h492\" style=\"stroke: rgb(255, 255, 255); stroke-opacity: 1; stroke-width: 1px;\"/><path class=\"ygrid crisp\" transform=\"translate(0,227.04000000000002)\" d=\"M80,0h492\" style=\"stroke: rgb(255, 255, 255); stroke-opacity: 1; stroke-width: 1px;\"/><path class=\"ygrid crisp\" transform=\"translate(0,168.06)\" d=\"M80,0h492\" style=\"stroke: rgb(255, 255, 255); stroke-opacity: 1; stroke-width: 1px;\"/><path class=\"ygrid crisp\" transform=\"translate(0,109.07)\" d=\"M80,0h492\" style=\"stroke: rgb(255, 255, 255); stroke-opacity: 1; stroke-width: 1px;\"/></g></g><g class=\"zerolinelayer\"><path class=\"yzl zl crisp\" transform=\"translate(0,404)\" d=\"M80,0h492\" style=\"stroke: rgb(255, 255, 255); stroke-opacity: 1; stroke-width: 2px;\"/></g><path class=\"xlines-below\"/><path class=\"ylines-below\"/><g class=\"overlines-below\"/><g class=\"xaxislayer-below\"/><g class=\"yaxislayer-below\"/><g class=\"overaxes-below\"/><g class=\"plot\" transform=\"translate(80,100)\" clip-path=\"url(#clip50221bxyplot)\"/><g class=\"overplot\"/><path class=\"xlines-above crisp\" d=\"M0,0\" style=\"fill: none;\"/><path class=\"ylines-above crisp\" d=\"M0,0\" style=\"fill: none;\"/><g class=\"overlines-above\"/><g class=\"xaxislayer-above\"><g class=\"xtick\"><text text-anchor=\"middle\" x=\"0\" y=\"433\" transform=\"translate(140.31,0)\" style=\"font-family: 'Open Sans', verdana, arial, sans-serif; font-size: 12px; fill: rgb(42, 63, 95); fill-opacity: 1; white-space: pre; opacity: 1;\"><tspan class=\"line\" dy=\"0em\" x=\"0\" y=\"433\">Jul 27</tspan><tspan class=\"line\" dy=\"1.3em\" x=\"0\" y=\"433\">2019</tspan></text></g><g class=\"xtick\"><text text-anchor=\"middle\" x=\"0\" y=\"433\" style=\"font-family: 'Open Sans', verdana, arial, sans-serif; font-size: 12px; fill: rgb(42, 63, 95); fill-opacity: 1; white-space: pre; opacity: 1;\" transform=\"translate(212.2,0)\">Jul 29</text></g><g class=\"xtick\"><text text-anchor=\"middle\" x=\"0\" y=\"433\" style=\"font-family: 'Open Sans', verdana, arial, sans-serif; font-size: 12px; fill: rgb(42, 63, 95); fill-opacity: 1; white-space: pre; opacity: 1;\" transform=\"translate(284.08000000000004,0)\">Jul 31</text></g><g class=\"xtick\"><text text-anchor=\"middle\" x=\"0\" y=\"433\" style=\"font-family: 'Open Sans', verdana, arial, sans-serif; font-size: 12px; fill: rgb(42, 63, 95); fill-opacity: 1; white-space: pre; opacity: 1;\" transform=\"translate(355.97,0)\">Aug 2</text></g><g class=\"xtick\"><text text-anchor=\"middle\" x=\"0\" y=\"433\" style=\"font-family: 'Open Sans', verdana, arial, sans-serif; font-size: 12px; fill: rgb(42, 63, 95); fill-opacity: 1; white-space: pre; opacity: 1;\" transform=\"translate(427.85,0)\">Aug 4</text></g><g class=\"xtick\"><text text-anchor=\"middle\" x=\"0\" y=\"433\" style=\"font-family: 'Open Sans', verdana, arial, sans-serif; font-size: 12px; fill: rgb(42, 63, 95); fill-opacity: 1; white-space: pre; opacity: 1;\" transform=\"translate(499.73,0)\">Aug 6</text></g><g class=\"xtick\"><text text-anchor=\"middle\" x=\"0\" y=\"433\" style=\"font-family: 'Open Sans', verdana, arial, sans-serif; font-size: 12px; fill: rgb(42, 63, 95); fill-opacity: 1; white-space: pre; opacity: 1;\" transform=\"translate(571.62,0)\">Aug 8</text></g></g><g class=\"yaxislayer-above\"><g class=\"ytick\"><text text-anchor=\"end\" x=\"79\" y=\"4.199999999999999\" transform=\"translate(0,404)\" style=\"font-family: 'Open Sans', verdana, arial, sans-serif; font-size: 12px; fill: rgb(42, 63, 95); fill-opacity: 1; white-space: pre; opacity: 1;\">0</text></g><g class=\"ytick\"><text text-anchor=\"end\" x=\"79\" y=\"4.199999999999999\" style=\"font-family: 'Open Sans', verdana, arial, sans-serif; font-size: 12px; fill: rgb(42, 63, 95); fill-opacity: 1; white-space: pre; opacity: 1;\" transform=\"translate(0,345.01)\">50k</text></g><g class=\"ytick\"><text text-anchor=\"end\" x=\"79\" y=\"4.199999999999999\" style=\"font-family: 'Open Sans', verdana, arial, sans-serif; font-size: 12px; fill: rgb(42, 63, 95); fill-opacity: 1; white-space: pre; opacity: 1;\" transform=\"translate(0,286.03)\">100k</text></g><g class=\"ytick\"><text text-anchor=\"end\" x=\"79\" y=\"4.199999999999999\" style=\"font-family: 'Open Sans', verdana, arial, sans-serif; font-size: 12px; fill: rgb(42, 63, 95); fill-opacity: 1; white-space: pre; opacity: 1;\" transform=\"translate(0,227.04000000000002)\">150k</text></g><g class=\"ytick\"><text text-anchor=\"end\" x=\"79\" y=\"4.199999999999999\" style=\"font-family: 'Open Sans', verdana, arial, sans-serif; font-size: 12px; fill: rgb(42, 63, 95); fill-opacity: 1; white-space: pre; opacity: 1;\" transform=\"translate(0,168.06)\">200k</text></g><g class=\"ytick\"><text text-anchor=\"end\" x=\"79\" y=\"4.199999999999999\" style=\"font-family: 'Open Sans', verdana, arial, sans-serif; font-size: 12px; fill: rgb(42, 63, 95); fill-opacity: 1; white-space: pre; opacity: 1;\" transform=\"translate(0,109.07)\">250k</text></g></g><g class=\"overaxes-above\"/></g></g><g class=\"polarlayer\"/><g class=\"smithlayer\"/><g class=\"ternarylayer\"/><g class=\"geolayer\"/><g class=\"funnelarealayer\"/><g class=\"pielayer\"/><g class=\"iciclelayer\"/><g class=\"treemaplayer\"/><g class=\"sunburstlayer\"/><g class=\"glimages\"><image xmlns=\"http://www.w3.org/2000/svg\" xlink:href=\"data:image/png;base64,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\" preserveAspectRatio=\"none\" x=\"0\" y=\"0\" width=\"700px\" height=\"500px\"/><image xmlns=\"http://www.w3.org/2000/svg\" xlink:href=\"data:image/png;base64,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\" preserveAspectRatio=\"none\" x=\"0\" y=\"0\" width=\"700px\" height=\"500px\"/></g><defs id=\"topdefs-50221b\"><g class=\"clips\"/><clipPath id=\"legend50221b\"><rect width=\"106\" height=\"86\" x=\"0\" y=\"0\"/></clipPath></defs><g class=\"layer-above\"><g class=\"imagelayer\"/><g class=\"shapelayer\"/></g><g class=\"infolayer\"><g class=\"legend\" pointer-events=\"all\" transform=\"translate(581.84,100)\"><rect class=\"bg\" shape-rendering=\"crispEdges\" style=\"stroke: rgb(68, 68, 68); stroke-opacity: 1; fill: rgb(255, 255, 255); fill-opacity: 1; stroke-width: 0px;\" width=\"106\" height=\"86\" x=\"0\" y=\"0\"/><g class=\"scrollbox\" transform=\"\" clip-path=\"url(#legend50221b)\"><text class=\"legendtitletext\" text-anchor=\"start\" x=\"2\" y=\"18.2\" style=\"font-family: 'Open Sans', verdana, arial, sans-serif; font-size: 14px; fill: rgb(42, 63, 95); fill-opacity: 1; white-space: pre;\">experiment_id</text><g class=\"groups\" transform=\"\"><g class=\"traces\" transform=\"translate(0,32.7)\" style=\"opacity: 1;\"><text class=\"legendtext\" text-anchor=\"start\" x=\"40\" y=\"4.680000000000001\" style=\"font-family: 'Open Sans', verdana, arial, sans-serif; font-size: 12px; fill: rgb(42, 63, 95); fill-opacity: 1; white-space: pre;\">246</text><g class=\"layers\" style=\"opacity: 1;\"><g class=\"legendfill\"/><g class=\"legendlines\"><path class=\"js-line\" d=\"M5,0h30\" style=\"fill: none; stroke: rgb(99, 110, 250); stroke-opacity: 1; stroke-width: 2px;\"/></g><g class=\"legendsymbols\"><g class=\"legendpoints\"/></g></g><rect class=\"legendtoggle\" x=\"0\" y=\"-9.5\" width=\"63.265625\" height=\"19\" style=\"fill: rgb(0, 0, 0); fill-opacity: 0;\"/></g></g><g class=\"groups\" transform=\"\"><g class=\"traces\" transform=\"translate(0,51.7)\" style=\"opacity: 1;\"><text class=\"legendtext\" text-anchor=\"start\" x=\"40\" y=\"4.680000000000001\" style=\"font-family: 'Open Sans', verdana, arial, sans-serif; font-size: 12px; fill: rgb(42, 63, 95); fill-opacity: 1; white-space: pre;\">248</text><g class=\"layers\" style=\"opacity: 1;\"><g class=\"legendfill\"/><g class=\"legendlines\"><path class=\"js-line\" d=\"M5,0h30\" style=\"fill: none; stroke: rgb(239, 85, 59); stroke-opacity: 1; stroke-width: 2px;\"/></g><g class=\"legendsymbols\"><g class=\"legendpoints\"/></g></g><rect class=\"legendtoggle\" x=\"0\" y=\"-9.5\" width=\"63.265625\" height=\"19\" style=\"fill: rgb(0, 0, 0); fill-opacity: 0;\"/></g></g><g class=\"groups\" transform=\"\"><g class=\"traces\" transform=\"translate(0,70.7)\" style=\"opacity: 1;\"><text class=\"legendtext\" text-anchor=\"start\" x=\"40\" y=\"4.680000000000001\" style=\"font-family: 'Open Sans', verdana, arial, sans-serif; font-size: 12px; fill: rgb(42, 63, 95); fill-opacity: 1; white-space: pre;\">247</text><g class=\"layers\" style=\"opacity: 1;\"><g class=\"legendfill\"/><g class=\"legendlines\"><path class=\"js-line\" d=\"M5,0h30\" style=\"fill: none; stroke: rgb(0, 204, 150); stroke-opacity: 1; stroke-width: 2px;\"/></g><g class=\"legendsymbols\"><g class=\"legendpoints\"/></g></g><rect class=\"legendtoggle\" x=\"0\" y=\"-9.5\" width=\"63.265625\" height=\"19\" style=\"fill: rgb(0, 0, 0); fill-opacity: 0;\"/></g></g></g><rect class=\"scrollbar\" rx=\"20\" ry=\"3\" width=\"0\" height=\"0\" style=\"fill: rgb(128, 139, 164); fill-opacity: 1;\" x=\"0\" y=\"0\"/></g><g class=\"g-gtitle\"><text class=\"gtitle\" x=\"35\" y=\"50\" text-anchor=\"start\" dy=\"0em\" style=\"font-family: 'Open Sans', verdana, arial, sans-serif; font-size: 17px; fill: rgb(42, 63, 95); opacity: 1; font-weight: normal; white-space: pre;\">duration of the observed data</text></g><g class=\"g-xtitle\"><text class=\"xtitle\" x=\"326\" y=\"476.409375\" text-anchor=\"middle\" style=\"font-family: 'Open Sans', verdana, arial, sans-serif; font-size: 14px; fill: rgb(42, 63, 95); opacity: 1; font-weight: normal; white-space: pre;\">timestamp</text></g><g class=\"g-ytitle\"><text class=\"ytitle\" transform=\"rotate(-90,24.200000000000003,260)\" x=\"24.200000000000003\" y=\"260\" text-anchor=\"middle\" style=\"font-family: 'Open Sans', verdana, arial, sans-serif; font-size: 14px; fill: rgb(42, 63, 95); opacity: 1; font-weight: normal; white-space: pre;\">index</text></g></g></svg>"
      ]
     },
     "metadata": {},
     "output_type": "display_data"
    }
   ],
   "source": [
    "fig = px.line(df, x=\"timestamp\",  color='experiment_id', title='duration of the observed data')\n",
    "fig.show(renderer=\"svg\")"
   ]
  },
  {
   "cell_type": "markdown",
   "id": "e8e76432",
   "metadata": {},
   "source": [
    "let's find min and max date of the tests with the code:"
   ]
  },
  {
   "cell_type": "code",
   "execution_count": 34,
   "id": "02ee014f",
   "metadata": {},
   "outputs": [
    {
     "name": "stderr",
     "output_type": "stream",
     "text": [
      "C:\\Users\\User\\AppData\\Local\\Temp\\ipykernel_7460\\1490447720.py:1: FutureWarning:\n",
      "\n",
      "The provided callable <function min at 0x00000252FF97FBA0> is currently using SeriesGroupBy.min. In a future version of pandas, the provided callable will be used directly. To keep current behavior pass the string \"min\" instead.\n",
      "\n",
      "C:\\Users\\User\\AppData\\Local\\Temp\\ipykernel_7460\\1490447720.py:1: FutureWarning:\n",
      "\n",
      "The provided callable <function max at 0x00000252FF97FA60> is currently using SeriesGroupBy.max. In a future version of pandas, the provided callable will be used directly. To keep current behavior pass the string \"max\" instead.\n",
      "\n"
     ]
    },
    {
     "data": {
      "text/html": [
       "<div>\n",
       "<style scoped>\n",
       "    .dataframe tbody tr th:only-of-type {\n",
       "        vertical-align: middle;\n",
       "    }\n",
       "\n",
       "    .dataframe tbody tr th {\n",
       "        vertical-align: top;\n",
       "    }\n",
       "\n",
       "    .dataframe thead tr th {\n",
       "        text-align: left;\n",
       "    }\n",
       "\n",
       "    .dataframe thead tr:last-of-type th {\n",
       "        text-align: right;\n",
       "    }\n",
       "</style>\n",
       "<table border=\"1\" class=\"dataframe\">\n",
       "  <thead>\n",
       "    <tr>\n",
       "      <th></th>\n",
       "      <th colspan=\"2\" halign=\"left\">timestamp</th>\n",
       "    </tr>\n",
       "    <tr>\n",
       "      <th></th>\n",
       "      <th>min</th>\n",
       "      <th>max</th>\n",
       "    </tr>\n",
       "    <tr>\n",
       "      <th>event_name</th>\n",
       "      <th></th>\n",
       "      <th></th>\n",
       "    </tr>\n",
       "  </thead>\n",
       "  <tbody>\n",
       "    <tr>\n",
       "      <th>CartScreenAppear</th>\n",
       "      <td>2019-07-25 14:28:47</td>\n",
       "      <td>2019-08-08 00:07:08</td>\n",
       "    </tr>\n",
       "    <tr>\n",
       "      <th>MainScreenAppear</th>\n",
       "      <td>2019-07-25 07:43:36</td>\n",
       "      <td>2019-08-08 00:14:58</td>\n",
       "    </tr>\n",
       "    <tr>\n",
       "      <th>OffersScreenAppear</th>\n",
       "      <td>2019-07-25 17:50:42</td>\n",
       "      <td>2019-08-08 00:15:17</td>\n",
       "    </tr>\n",
       "    <tr>\n",
       "      <th>PaymentScreenSuccessful</th>\n",
       "      <td>2019-07-25 14:28:47</td>\n",
       "      <td>2019-08-08 00:07:08</td>\n",
       "    </tr>\n",
       "    <tr>\n",
       "      <th>Tutorial</th>\n",
       "      <td>2019-07-26 21:03:59</td>\n",
       "      <td>2019-08-07 23:23:52</td>\n",
       "    </tr>\n",
       "  </tbody>\n",
       "</table>\n",
       "</div>"
      ],
      "text/plain": [
       "                                  timestamp                    \n",
       "                                        min                 max\n",
       "event_name                                                     \n",
       "CartScreenAppear        2019-07-25 14:28:47 2019-08-08 00:07:08\n",
       "MainScreenAppear        2019-07-25 07:43:36 2019-08-08 00:14:58\n",
       "OffersScreenAppear      2019-07-25 17:50:42 2019-08-08 00:15:17\n",
       "PaymentScreenSuccessful 2019-07-25 14:28:47 2019-08-08 00:07:08\n",
       "Tutorial                2019-07-26 21:03:59 2019-08-07 23:23:52"
      ]
     },
     "execution_count": 34,
     "metadata": {},
     "output_type": "execute_result"
    }
   ],
   "source": [
    "df.groupby(['event_name']).agg({'timestamp': [np.min,np.max]})"
   ]
  },
  {
   "cell_type": "code",
   "execution_count": 35,
   "id": "1252b080",
   "metadata": {},
   "outputs": [
    {
     "name": "stderr",
     "output_type": "stream",
     "text": [
      "C:\\Users\\User\\AppData\\Local\\Temp\\ipykernel_7460\\3547393814.py:1: FutureWarning:\n",
      "\n",
      "The provided callable <function min at 0x00000252FF97FBA0> is currently using SeriesGroupBy.min. In a future version of pandas, the provided callable will be used directly. To keep current behavior pass the string \"min\" instead.\n",
      "\n",
      "C:\\Users\\User\\AppData\\Local\\Temp\\ipykernel_7460\\3547393814.py:1: FutureWarning:\n",
      "\n",
      "The provided callable <function max at 0x00000252FF97FA60> is currently using SeriesGroupBy.max. In a future version of pandas, the provided callable will be used directly. To keep current behavior pass the string \"max\" instead.\n",
      "\n"
     ]
    },
    {
     "data": {
      "text/html": [
       "<div>\n",
       "<style scoped>\n",
       "    .dataframe tbody tr th:only-of-type {\n",
       "        vertical-align: middle;\n",
       "    }\n",
       "\n",
       "    .dataframe tbody tr th {\n",
       "        vertical-align: top;\n",
       "    }\n",
       "\n",
       "    .dataframe thead tr th {\n",
       "        text-align: left;\n",
       "    }\n",
       "\n",
       "    .dataframe thead tr:last-of-type th {\n",
       "        text-align: right;\n",
       "    }\n",
       "</style>\n",
       "<table border=\"1\" class=\"dataframe\">\n",
       "  <thead>\n",
       "    <tr>\n",
       "      <th></th>\n",
       "      <th colspan=\"2\" halign=\"left\">timestamp</th>\n",
       "    </tr>\n",
       "    <tr>\n",
       "      <th></th>\n",
       "      <th>min</th>\n",
       "      <th>max</th>\n",
       "    </tr>\n",
       "    <tr>\n",
       "      <th>user_id</th>\n",
       "      <th></th>\n",
       "      <th></th>\n",
       "    </tr>\n",
       "  </thead>\n",
       "  <tbody>\n",
       "    <tr>\n",
       "      <th>6888746892508752</th>\n",
       "      <td>2019-08-06 17:06:34</td>\n",
       "      <td>2019-08-06 17:06:34</td>\n",
       "    </tr>\n",
       "    <tr>\n",
       "      <th>6909561520679493</th>\n",
       "      <td>2019-08-06 21:52:54</td>\n",
       "      <td>2019-08-06 21:53:04</td>\n",
       "    </tr>\n",
       "    <tr>\n",
       "      <th>6922444491712477</th>\n",
       "      <td>2019-08-04 17:19:33</td>\n",
       "      <td>2019-08-06 18:54:47</td>\n",
       "    </tr>\n",
       "    <tr>\n",
       "      <th>7435777799948366</th>\n",
       "      <td>2019-08-05 11:06:34</td>\n",
       "      <td>2019-08-07 10:55:12</td>\n",
       "    </tr>\n",
       "    <tr>\n",
       "      <th>7702139951469979</th>\n",
       "      <td>2019-08-01 07:29:54</td>\n",
       "      <td>2019-08-07 19:05:44</td>\n",
       "    </tr>\n",
       "    <tr>\n",
       "      <th>...</th>\n",
       "      <td>...</td>\n",
       "      <td>...</td>\n",
       "    </tr>\n",
       "    <tr>\n",
       "      <th>9217594193087726423</th>\n",
       "      <td>2019-08-02 12:00:57</td>\n",
       "      <td>2019-08-03 11:09:25</td>\n",
       "    </tr>\n",
       "    <tr>\n",
       "      <th>9219463515465815368</th>\n",
       "      <td>2019-08-05 08:26:26</td>\n",
       "      <td>2019-08-07 17:25:00</td>\n",
       "    </tr>\n",
       "    <tr>\n",
       "      <th>9220879493065341500</th>\n",
       "      <td>2019-07-29 17:29:58</td>\n",
       "      <td>2019-08-03 17:17:53</td>\n",
       "    </tr>\n",
       "    <tr>\n",
       "      <th>9221926045299980007</th>\n",
       "      <td>2019-08-01 20:30:27</td>\n",
       "      <td>2019-08-05 19:45:59</td>\n",
       "    </tr>\n",
       "    <tr>\n",
       "      <th>9222603179720523844</th>\n",
       "      <td>2019-08-01 09:52:13</td>\n",
       "      <td>2019-08-07 12:16:20</td>\n",
       "    </tr>\n",
       "  </tbody>\n",
       "</table>\n",
       "<p>7551 rows × 2 columns</p>\n",
       "</div>"
      ],
      "text/plain": [
       "                              timestamp                    \n",
       "                                    min                 max\n",
       "user_id                                                    \n",
       "6888746892508752    2019-08-06 17:06:34 2019-08-06 17:06:34\n",
       "6909561520679493    2019-08-06 21:52:54 2019-08-06 21:53:04\n",
       "6922444491712477    2019-08-04 17:19:33 2019-08-06 18:54:47\n",
       "7435777799948366    2019-08-05 11:06:34 2019-08-07 10:55:12\n",
       "7702139951469979    2019-08-01 07:29:54 2019-08-07 19:05:44\n",
       "...                                 ...                 ...\n",
       "9217594193087726423 2019-08-02 12:00:57 2019-08-03 11:09:25\n",
       "9219463515465815368 2019-08-05 08:26:26 2019-08-07 17:25:00\n",
       "9220879493065341500 2019-07-29 17:29:58 2019-08-03 17:17:53\n",
       "9221926045299980007 2019-08-01 20:30:27 2019-08-05 19:45:59\n",
       "9222603179720523844 2019-08-01 09:52:13 2019-08-07 12:16:20\n",
       "\n",
       "[7551 rows x 2 columns]"
      ]
     },
     "execution_count": 35,
     "metadata": {},
     "output_type": "execute_result"
    }
   ],
   "source": [
    "df.groupby(['user_id']).agg({'timestamp': [np.min,np.max]})"
   ]
  },
  {
   "cell_type": "code",
   "execution_count": 36,
   "id": "f14c3fbc",
   "metadata": {},
   "outputs": [
    {
     "data": {
      "text/plain": [
       "Timestamp('2019-07-25 07:43:36')"
      ]
     },
     "execution_count": 36,
     "metadata": {},
     "output_type": "execute_result"
    }
   ],
   "source": [
    "df[\"timestamp\"]. min() "
   ]
  },
  {
   "cell_type": "code",
   "execution_count": 37,
   "id": "c919c82c",
   "metadata": {},
   "outputs": [
    {
     "data": {
      "text/plain": [
       "Timestamp('2019-08-08 00:15:17')"
      ]
     },
     "execution_count": 37,
     "metadata": {},
     "output_type": "execute_result"
    }
   ],
   "source": [
    "df[\"timestamp\"]. max() \n"
   ]
  },
  {
   "cell_type": "markdown",
   "id": "27de05c3",
   "metadata": {},
   "source": [
    "So the first date of the test is the 25 july and the last date is the 8th of August. All the different events records start and finish in the same dates. Different Users instead, begin with the fist action in different times"
   ]
  },
  {
   "cell_type": "markdown",
   "id": "61435ebc",
   "metadata": {},
   "source": [
    "Can we be sure that you have equally complete data for the entire period?"
   ]
  },
  {
   "cell_type": "markdown",
   "id": "70b91b8b",
   "metadata": {},
   "source": [
    "We have data starting from 25 of july, but the actual events start from 1st of august. by the observation of the histogram, appeard that from th 25 of july to the first of august the data are not equal, nor complete, with th comparison of the second part of the plot( from 1st of august).*** Since we don't know how users were assigned to the tests, I would remove all the USERS assigned before the 1st of august.***\n",
    "\n",
    "That's because older events could end up in some users' logs for technical reasons, and this could skew the overall picture. The 1st of august is moment at which the data starts to be complete, so I will ignore the earlier section."
   ]
  },
  {
   "cell_type": "code",
   "execution_count": 38,
   "id": "a595a80d",
   "metadata": {},
   "outputs": [
    {
     "data": {
      "text/html": [
       "<div>\n",
       "<style scoped>\n",
       "    .dataframe tbody tr th:only-of-type {\n",
       "        vertical-align: middle;\n",
       "    }\n",
       "\n",
       "    .dataframe tbody tr th {\n",
       "        vertical-align: top;\n",
       "    }\n",
       "\n",
       "    .dataframe thead th {\n",
       "        text-align: right;\n",
       "    }\n",
       "</style>\n",
       "<table border=\"1\" class=\"dataframe\">\n",
       "  <thead>\n",
       "    <tr style=\"text-align: right;\">\n",
       "      <th></th>\n",
       "      <th>event_name</th>\n",
       "      <th>user_id</th>\n",
       "      <th>timestamp</th>\n",
       "      <th>experiment_id</th>\n",
       "      <th>date</th>\n",
       "    </tr>\n",
       "  </thead>\n",
       "  <tbody>\n",
       "    <tr>\n",
       "      <th>181539</th>\n",
       "      <td>PaymentScreenSuccessful</td>\n",
       "      <td>1754140665440434215</td>\n",
       "      <td>2019-08-06 08:58:18</td>\n",
       "      <td>247</td>\n",
       "      <td>2019-08-06</td>\n",
       "    </tr>\n",
       "    <tr>\n",
       "      <th>172320</th>\n",
       "      <td>CartScreenAppear</td>\n",
       "      <td>1480693827871957415</td>\n",
       "      <td>2019-08-05 21:22:17</td>\n",
       "      <td>248</td>\n",
       "      <td>2019-08-05</td>\n",
       "    </tr>\n",
       "    <tr>\n",
       "      <th>163120</th>\n",
       "      <td>CartScreenAppear</td>\n",
       "      <td>3317930009587396663</td>\n",
       "      <td>2019-08-05 17:51:44</td>\n",
       "      <td>246</td>\n",
       "      <td>2019-08-05</td>\n",
       "    </tr>\n",
       "    <tr>\n",
       "      <th>38981</th>\n",
       "      <td>OffersScreenAppear</td>\n",
       "      <td>2711431397924822327</td>\n",
       "      <td>2019-08-02 02:37:11</td>\n",
       "      <td>248</td>\n",
       "      <td>2019-08-02</td>\n",
       "    </tr>\n",
       "    <tr>\n",
       "      <th>127207</th>\n",
       "      <td>CartScreenAppear</td>\n",
       "      <td>2571057252346605950</td>\n",
       "      <td>2019-08-04 17:07:00</td>\n",
       "      <td>247</td>\n",
       "      <td>2019-08-04</td>\n",
       "    </tr>\n",
       "    <tr>\n",
       "      <th>186811</th>\n",
       "      <td>MainScreenAppear</td>\n",
       "      <td>6098687849099133899</td>\n",
       "      <td>2019-08-06 12:01:06</td>\n",
       "      <td>247</td>\n",
       "      <td>2019-08-06</td>\n",
       "    </tr>\n",
       "    <tr>\n",
       "      <th>102556</th>\n",
       "      <td>PaymentScreenSuccessful</td>\n",
       "      <td>3890037538788212642</td>\n",
       "      <td>2019-08-03 20:39:09</td>\n",
       "      <td>246</td>\n",
       "      <td>2019-08-03</td>\n",
       "    </tr>\n",
       "    <tr>\n",
       "      <th>51731</th>\n",
       "      <td>MainScreenAppear</td>\n",
       "      <td>3933415997375240038</td>\n",
       "      <td>2019-08-02 13:16:24</td>\n",
       "      <td>246</td>\n",
       "      <td>2019-08-02</td>\n",
       "    </tr>\n",
       "    <tr>\n",
       "      <th>209277</th>\n",
       "      <td>PaymentScreenSuccessful</td>\n",
       "      <td>2754977819347976900</td>\n",
       "      <td>2019-08-06 21:54:40</td>\n",
       "      <td>247</td>\n",
       "      <td>2019-08-06</td>\n",
       "    </tr>\n",
       "    <tr>\n",
       "      <th>224838</th>\n",
       "      <td>MainScreenAppear</td>\n",
       "      <td>611626688613840894</td>\n",
       "      <td>2019-08-07 14:04:46</td>\n",
       "      <td>247</td>\n",
       "      <td>2019-08-07</td>\n",
       "    </tr>\n",
       "  </tbody>\n",
       "</table>\n",
       "</div>"
      ],
      "text/plain": [
       "                     event_name              user_id           timestamp  \\\n",
       "181539  PaymentScreenSuccessful  1754140665440434215 2019-08-06 08:58:18   \n",
       "172320         CartScreenAppear  1480693827871957415 2019-08-05 21:22:17   \n",
       "163120         CartScreenAppear  3317930009587396663 2019-08-05 17:51:44   \n",
       "38981        OffersScreenAppear  2711431397924822327 2019-08-02 02:37:11   \n",
       "127207         CartScreenAppear  2571057252346605950 2019-08-04 17:07:00   \n",
       "186811         MainScreenAppear  6098687849099133899 2019-08-06 12:01:06   \n",
       "102556  PaymentScreenSuccessful  3890037538788212642 2019-08-03 20:39:09   \n",
       "51731          MainScreenAppear  3933415997375240038 2019-08-02 13:16:24   \n",
       "209277  PaymentScreenSuccessful  2754977819347976900 2019-08-06 21:54:40   \n",
       "224838         MainScreenAppear   611626688613840894 2019-08-07 14:04:46   \n",
       "\n",
       "        experiment_id        date  \n",
       "181539            247  2019-08-06  \n",
       "172320            248  2019-08-05  \n",
       "163120            246  2019-08-05  \n",
       "38981             248  2019-08-02  \n",
       "127207            247  2019-08-04  \n",
       "186811            247  2019-08-06  \n",
       "102556            246  2019-08-03  \n",
       "51731             246  2019-08-02  \n",
       "209277            247  2019-08-06  \n",
       "224838            247  2019-08-07  "
      ]
     },
     "execution_count": 38,
     "metadata": {},
     "output_type": "execute_result"
    }
   ],
   "source": [
    "df.sample(10)\n"
   ]
  },
  {
   "cell_type": "code",
   "execution_count": 39,
   "id": "b5017779",
   "metadata": {},
   "outputs": [
    {
     "name": "stdout",
     "output_type": "stream",
     "text": [
      "<class 'pandas.core.frame.DataFrame'>\n",
      "RangeIndex: 244126 entries, 0 to 244125\n",
      "Data columns (total 5 columns):\n",
      " #   Column         Non-Null Count   Dtype         \n",
      "---  ------         --------------   -----         \n",
      " 0   event_name     244126 non-null  object        \n",
      " 1   user_id        244126 non-null  int64         \n",
      " 2   timestamp      244126 non-null  datetime64[ns]\n",
      " 3   experiment_id  244126 non-null  int64         \n",
      " 4   date           244126 non-null  object        \n",
      "dtypes: datetime64[ns](1), int64(2), object(2)\n",
      "memory usage: 9.3+ MB\n"
     ]
    }
   ],
   "source": [
    "df.info()"
   ]
  },
  {
   "cell_type": "code",
   "execution_count": 40,
   "id": "a21401c7",
   "metadata": {},
   "outputs": [
    {
     "data": {
      "text/plain": [
       "1319"
      ]
     },
     "execution_count": 40,
     "metadata": {},
     "output_type": "execute_result"
    }
   ],
   "source": [
    "s=df.loc[df['timestamp'].dt.month < 8]\n",
    "u=s.user_id.unique()\n",
    "s.user_id.nunique()\n"
   ]
  },
  {
   "cell_type": "code",
   "execution_count": 41,
   "id": "79bb354e",
   "metadata": {},
   "outputs": [],
   "source": [
    "df.drop(df[(df['user_id'].isin(u))].index, inplace=True)"
   ]
  },
  {
   "cell_type": "code",
   "execution_count": 42,
   "id": "dad1c5a2",
   "metadata": {},
   "outputs": [
    {
     "data": {
      "text/html": [
       "<div>\n",
       "<style scoped>\n",
       "    .dataframe tbody tr th:only-of-type {\n",
       "        vertical-align: middle;\n",
       "    }\n",
       "\n",
       "    .dataframe tbody tr th {\n",
       "        vertical-align: top;\n",
       "    }\n",
       "\n",
       "    .dataframe thead th {\n",
       "        text-align: right;\n",
       "    }\n",
       "</style>\n",
       "<table border=\"1\" class=\"dataframe\">\n",
       "  <thead>\n",
       "    <tr style=\"text-align: right;\">\n",
       "      <th></th>\n",
       "      <th>event_name</th>\n",
       "      <th>user_id</th>\n",
       "      <th>timestamp</th>\n",
       "      <th>experiment_id</th>\n",
       "      <th>date</th>\n",
       "    </tr>\n",
       "  </thead>\n",
       "  <tbody>\n",
       "    <tr>\n",
       "      <th>180390</th>\n",
       "      <td>OffersScreenAppear</td>\n",
       "      <td>6262841230086289949</td>\n",
       "      <td>2019-08-06 08:26:31</td>\n",
       "      <td>248</td>\n",
       "      <td>2019-08-06</td>\n",
       "    </tr>\n",
       "    <tr>\n",
       "      <th>58061</th>\n",
       "      <td>MainScreenAppear</td>\n",
       "      <td>3509209438477725785</td>\n",
       "      <td>2019-08-02 16:21:52</td>\n",
       "      <td>248</td>\n",
       "      <td>2019-08-02</td>\n",
       "    </tr>\n",
       "    <tr>\n",
       "      <th>119888</th>\n",
       "      <td>OffersScreenAppear</td>\n",
       "      <td>3976695185007308383</td>\n",
       "      <td>2019-08-04 13:56:27</td>\n",
       "      <td>248</td>\n",
       "      <td>2019-08-04</td>\n",
       "    </tr>\n",
       "    <tr>\n",
       "      <th>82106</th>\n",
       "      <td>MainScreenAppear</td>\n",
       "      <td>787019918811618763</td>\n",
       "      <td>2019-08-03 11:49:35</td>\n",
       "      <td>247</td>\n",
       "      <td>2019-08-03</td>\n",
       "    </tr>\n",
       "    <tr>\n",
       "      <th>50422</th>\n",
       "      <td>MainScreenAppear</td>\n",
       "      <td>4523373475875031235</td>\n",
       "      <td>2019-08-02 12:42:27</td>\n",
       "      <td>246</td>\n",
       "      <td>2019-08-02</td>\n",
       "    </tr>\n",
       "    <tr>\n",
       "      <th>165518</th>\n",
       "      <td>CartScreenAppear</td>\n",
       "      <td>6532653549075824834</td>\n",
       "      <td>2019-08-05 18:41:43</td>\n",
       "      <td>247</td>\n",
       "      <td>2019-08-05</td>\n",
       "    </tr>\n",
       "    <tr>\n",
       "      <th>199486</th>\n",
       "      <td>OffersScreenAppear</td>\n",
       "      <td>7716966784740554487</td>\n",
       "      <td>2019-08-06 17:58:25</td>\n",
       "      <td>247</td>\n",
       "      <td>2019-08-06</td>\n",
       "    </tr>\n",
       "    <tr>\n",
       "      <th>210024</th>\n",
       "      <td>MainScreenAppear</td>\n",
       "      <td>646027458777469832</td>\n",
       "      <td>2019-08-06 22:21:05</td>\n",
       "      <td>248</td>\n",
       "      <td>2019-08-06</td>\n",
       "    </tr>\n",
       "    <tr>\n",
       "      <th>29936</th>\n",
       "      <td>MainScreenAppear</td>\n",
       "      <td>1866081895270239546</td>\n",
       "      <td>2019-08-01 19:46:25</td>\n",
       "      <td>247</td>\n",
       "      <td>2019-08-01</td>\n",
       "    </tr>\n",
       "    <tr>\n",
       "      <th>211646</th>\n",
       "      <td>PaymentScreenSuccessful</td>\n",
       "      <td>8309980273750324949</td>\n",
       "      <td>2019-08-06 23:28:55</td>\n",
       "      <td>246</td>\n",
       "      <td>2019-08-06</td>\n",
       "    </tr>\n",
       "  </tbody>\n",
       "</table>\n",
       "</div>"
      ],
      "text/plain": [
       "                     event_name              user_id           timestamp  \\\n",
       "180390       OffersScreenAppear  6262841230086289949 2019-08-06 08:26:31   \n",
       "58061          MainScreenAppear  3509209438477725785 2019-08-02 16:21:52   \n",
       "119888       OffersScreenAppear  3976695185007308383 2019-08-04 13:56:27   \n",
       "82106          MainScreenAppear   787019918811618763 2019-08-03 11:49:35   \n",
       "50422          MainScreenAppear  4523373475875031235 2019-08-02 12:42:27   \n",
       "165518         CartScreenAppear  6532653549075824834 2019-08-05 18:41:43   \n",
       "199486       OffersScreenAppear  7716966784740554487 2019-08-06 17:58:25   \n",
       "210024         MainScreenAppear   646027458777469832 2019-08-06 22:21:05   \n",
       "29936          MainScreenAppear  1866081895270239546 2019-08-01 19:46:25   \n",
       "211646  PaymentScreenSuccessful  8309980273750324949 2019-08-06 23:28:55   \n",
       "\n",
       "        experiment_id        date  \n",
       "180390            248  2019-08-06  \n",
       "58061             248  2019-08-02  \n",
       "119888            248  2019-08-04  \n",
       "82106             247  2019-08-03  \n",
       "50422             246  2019-08-02  \n",
       "165518            247  2019-08-05  \n",
       "199486            247  2019-08-06  \n",
       "210024            248  2019-08-06  \n",
       "29936             247  2019-08-01  \n",
       "211646            246  2019-08-06  "
      ]
     },
     "execution_count": 42,
     "metadata": {},
     "output_type": "execute_result"
    }
   ],
   "source": [
    "df.sample(10)\n"
   ]
  },
  {
   "cell_type": "code",
   "execution_count": 43,
   "id": "fbb33a3d",
   "metadata": {},
   "outputs": [
    {
     "name": "stderr",
     "output_type": "stream",
     "text": [
      "C:\\Users\\User\\anaconda3\\Lib\\site-packages\\_plotly_utils\\basevalidators.py:106: FutureWarning:\n",
      "\n",
      "The behavior of DatetimeProperties.to_pydatetime is deprecated, in a future version this will return a Series containing python datetime objects instead of an ndarray. To retain the old behavior, call `np.array` on the result\n",
      "\n"
     ]
    },
    {
     "data": {
      "image/svg+xml": [
       "<svg class=\"main-svg\" xmlns=\"http://www.w3.org/2000/svg\" xmlns:xlink=\"http://www.w3.org/1999/xlink\" width=\"700\" height=\"500\" style=\"\" viewBox=\"0 0 700 500\"><rect x=\"0\" y=\"0\" width=\"700\" height=\"500\" style=\"fill: rgb(255, 255, 255); fill-opacity: 1;\"/><defs id=\"defs-90eed5\"><g class=\"clips\"><clipPath id=\"clip90eed5xyplot\" class=\"plotclip\"><rect width=\"540\" height=\"320\"/></clipPath><clipPath class=\"axesclip\" id=\"clip90eed5x\"><rect x=\"80\" y=\"0\" width=\"540\" height=\"500\"/></clipPath><clipPath class=\"axesclip\" id=\"clip90eed5y\"><rect x=\"0\" y=\"100\" width=\"700\" height=\"320\"/></clipPath><clipPath class=\"axesclip\" id=\"clip90eed5xy\"><rect x=\"80\" y=\"100\" width=\"540\" height=\"320\"/></clipPath></g><g class=\"gradients\"/><g class=\"patterns\"/></defs><g class=\"bglayer\"><rect class=\"bg\" x=\"80\" y=\"100\" width=\"540\" height=\"320\" style=\"fill: rgb(229, 236, 246); fill-opacity: 1; stroke-width: 0;\"/></g><g class=\"layer-below\"><g class=\"imagelayer\"/><g class=\"shapelayer\"/></g><g class=\"cartesianlayer\"><g class=\"subplot xy\"><g class=\"layer-subplot\"><g class=\"shapelayer\"/><g class=\"imagelayer\"/></g><g class=\"minor-gridlayer\"><g class=\"x\"/><g class=\"y\"/></g><g class=\"gridlayer\"><g class=\"x\"/><g class=\"y\"><path class=\"ygrid crisp\" transform=\"translate(0,357.24)\" d=\"M80,0h540\" style=\"stroke: rgb(255, 255, 255); stroke-opacity: 1; stroke-width: 1px;\"/><path class=\"ygrid crisp\" transform=\"translate(0,294.48)\" d=\"M80,0h540\" style=\"stroke: rgb(255, 255, 255); stroke-opacity: 1; stroke-width: 1px;\"/><path class=\"ygrid crisp\" transform=\"translate(0,231.73)\" d=\"M80,0h540\" style=\"stroke: rgb(255, 255, 255); stroke-opacity: 1; stroke-width: 1px;\"/><path class=\"ygrid crisp\" transform=\"translate(0,168.97)\" d=\"M80,0h540\" style=\"stroke: rgb(255, 255, 255); stroke-opacity: 1; stroke-width: 1px;\"/><path class=\"ygrid crisp\" transform=\"translate(0,106.21)\" d=\"M80,0h540\" style=\"stroke: rgb(255, 255, 255); stroke-opacity: 1; stroke-width: 1px;\"/></g></g><g class=\"zerolinelayer\"><path class=\"yzl zl crisp\" transform=\"translate(0,420)\" d=\"M80,0h540\" style=\"stroke: rgb(255, 255, 255); stroke-opacity: 1; stroke-width: 2px;\"/></g><path class=\"xlines-below\"/><path class=\"ylines-below\"/><g class=\"overlines-below\"/><g class=\"xaxislayer-below\"/><g class=\"yaxislayer-below\"/><g class=\"overaxes-below\"/><g class=\"plot\" transform=\"translate(80,100)\" clip-path=\"url(#clip90eed5xyplot)\"><g class=\"barlayer mlayer\"><g class=\"trace bars\" shape-rendering=\"crispEdges\" style=\"opacity: 1;\"><g class=\"points\"><g class=\"point\"><path d=\"M0,320V282.6H3.2V320Z\" style=\"vector-effect: non-scaling-stroke; opacity: 1; stroke-width: 0px; fill: rgb(0, 128, 0); fill-opacity: 1;\"/></g><g class=\"point\"><path d=\"M3.2,320V289.75H6.39V320Z\" style=\"vector-effect: non-scaling-stroke; opacity: 1; stroke-width: 0px; fill: rgb(0, 128, 0); fill-opacity: 1;\"/></g><g class=\"point\"><path d=\"M6.39,320V309.71H9.59V320Z\" style=\"vector-effect: non-scaling-stroke; opacity: 1; stroke-width: 0px; fill: rgb(0, 128, 0); fill-opacity: 1;\"/></g><g class=\"point\"><path d=\"M9.59,320V298.29H12.78V320Z\" style=\"vector-effect: non-scaling-stroke; opacity: 1; stroke-width: 0px; fill: rgb(0, 128, 0); fill-opacity: 1;\"/></g><g class=\"point\"><path d=\"M12.78,320V297.78H15.98V320Z\" style=\"vector-effect: non-scaling-stroke; opacity: 1; stroke-width: 0px; fill: rgb(0, 128, 0); fill-opacity: 1;\"/></g><g class=\"point\"><path d=\"M15.98,320V287.99H19.17V320Z\" style=\"vector-effect: non-scaling-stroke; opacity: 1; stroke-width: 0px; fill: rgb(0, 128, 0); fill-opacity: 1;\"/></g><g class=\"point\"><path d=\"M19.17,320V256.99H22.37V320Z\" style=\"vector-effect: non-scaling-stroke; opacity: 1; stroke-width: 0px; fill: rgb(0, 128, 0); fill-opacity: 1;\"/></g><g class=\"point\"><path d=\"M22.37,320V238.79H25.56V320Z\" style=\"vector-effect: non-scaling-stroke; opacity: 1; stroke-width: 0px; fill: rgb(0, 128, 0); fill-opacity: 1;\"/></g><g class=\"point\"><path d=\"M25.56,320V212.68H28.76V320Z\" style=\"vector-effect: non-scaling-stroke; opacity: 1; stroke-width: 0px; fill: rgb(0, 128, 0); fill-opacity: 1;\"/></g><g class=\"point\"><path d=\"M28.76,320V196.87H31.95V320Z\" style=\"vector-effect: non-scaling-stroke; opacity: 1; stroke-width: 0px; fill: rgb(0, 128, 0); fill-opacity: 1;\"/></g><g class=\"point\"><path d=\"M31.95,320V144.91H35.15V320Z\" style=\"vector-effect: non-scaling-stroke; opacity: 1; stroke-width: 0px; fill: rgb(0, 128, 0); fill-opacity: 1;\"/></g><g class=\"point\"><path d=\"M35.15,320V140.01H38.34V320Z\" style=\"vector-effect: non-scaling-stroke; opacity: 1; stroke-width: 0px; fill: rgb(0, 128, 0); fill-opacity: 1;\"/></g><g class=\"point\"><path d=\"M38.34,320V119.43H41.54V320Z\" style=\"vector-effect: non-scaling-stroke; opacity: 1; stroke-width: 0px; fill: rgb(0, 128, 0); fill-opacity: 1;\"/></g><g class=\"point\"><path d=\"M41.54,320V122.94H44.73V320Z\" style=\"vector-effect: non-scaling-stroke; opacity: 1; stroke-width: 0px; fill: rgb(0, 128, 0); fill-opacity: 1;\"/></g><g class=\"point\"><path d=\"M44.73,320V100.22H47.93V320Z\" style=\"vector-effect: non-scaling-stroke; opacity: 1; stroke-width: 0px; fill: rgb(0, 128, 0); fill-opacity: 1;\"/></g><g class=\"point\"><path d=\"M47.93,320V91.44H51.12V320Z\" style=\"vector-effect: non-scaling-stroke; opacity: 1; stroke-width: 0px; fill: rgb(0, 128, 0); fill-opacity: 1;\"/></g><g class=\"point\"><path d=\"M51.12,320V85.16H54.32V320Z\" style=\"vector-effect: non-scaling-stroke; opacity: 1; stroke-width: 0px; fill: rgb(0, 128, 0); fill-opacity: 1;\"/></g><g class=\"point\"><path d=\"M54.32,320V51.27H57.51V320Z\" style=\"vector-effect: non-scaling-stroke; opacity: 1; stroke-width: 0px; fill: rgb(0, 128, 0); fill-opacity: 1;\"/></g><g class=\"point\"><path d=\"M57.51,320V95.83H60.71V320Z\" style=\"vector-effect: non-scaling-stroke; opacity: 1; stroke-width: 0px; fill: rgb(0, 128, 0); fill-opacity: 1;\"/></g><g class=\"point\"><path d=\"M60.71,320V51.65H63.91V320Z\" style=\"vector-effect: non-scaling-stroke; opacity: 1; stroke-width: 0px; fill: rgb(0, 128, 0); fill-opacity: 1;\"/></g><g class=\"point\"><path d=\"M63.91,320V72.61H67.1V320Z\" style=\"vector-effect: non-scaling-stroke; opacity: 1; stroke-width: 0px; fill: rgb(0, 128, 0); fill-opacity: 1;\"/></g><g class=\"point\"><path d=\"M67.1,320V123.82H70.3V320Z\" style=\"vector-effect: non-scaling-stroke; opacity: 1; stroke-width: 0px; fill: rgb(0, 128, 0); fill-opacity: 1;\"/></g><g class=\"point\"><path d=\"M70.3,320V134.36H73.49V320Z\" style=\"vector-effect: non-scaling-stroke; opacity: 1; stroke-width: 0px; fill: rgb(0, 128, 0); fill-opacity: 1;\"/></g><g class=\"point\"><path d=\"M73.49,320V212.56H76.69V320Z\" style=\"vector-effect: non-scaling-stroke; opacity: 1; stroke-width: 0px; fill: rgb(0, 128, 0); fill-opacity: 1;\"/></g><g class=\"point\"><path d=\"M76.69,320V252.35H79.88V320Z\" style=\"vector-effect: non-scaling-stroke; opacity: 1; stroke-width: 0px; fill: rgb(0, 128, 0); fill-opacity: 1;\"/></g><g class=\"point\"><path d=\"M79.88,320V295.65H83.08V320Z\" style=\"vector-effect: non-scaling-stroke; opacity: 1; stroke-width: 0px; fill: rgb(0, 128, 0); fill-opacity: 1;\"/></g><g class=\"point\"><path d=\"M83.08,320V299.54H86.27V320Z\" style=\"vector-effect: non-scaling-stroke; opacity: 1; stroke-width: 0px; fill: rgb(0, 128, 0); fill-opacity: 1;\"/></g><g class=\"point\"><path d=\"M86.27,320V246.2H89.47V320Z\" style=\"vector-effect: non-scaling-stroke; opacity: 1; stroke-width: 0px; fill: rgb(0, 128, 0); fill-opacity: 1;\"/></g><g class=\"point\"><path d=\"M89.47,320V226.62H92.66V320Z\" style=\"vector-effect: non-scaling-stroke; opacity: 1; stroke-width: 0px; fill: rgb(0, 128, 0); fill-opacity: 1;\"/></g><g class=\"point\"><path d=\"M92.66,320V237.03H95.86V320Z\" style=\"vector-effect: non-scaling-stroke; opacity: 1; stroke-width: 0px; fill: rgb(0, 128, 0); fill-opacity: 1;\"/></g><g class=\"point\"><path d=\"M95.86,320V223.85H99.05V320Z\" style=\"vector-effect: non-scaling-stroke; opacity: 1; stroke-width: 0px; fill: rgb(0, 128, 0); fill-opacity: 1;\"/></g><g class=\"point\"><path d=\"M99.05,320V243.81H102.25V320Z\" style=\"vector-effect: non-scaling-stroke; opacity: 1; stroke-width: 0px; fill: rgb(0, 128, 0); fill-opacity: 1;\"/></g><g class=\"point\"><path d=\"M102.25,320V215.07H105.44V320Z\" style=\"vector-effect: non-scaling-stroke; opacity: 1; stroke-width: 0px; fill: rgb(0, 128, 0); fill-opacity: 1;\"/></g><g class=\"point\"><path d=\"M105.44,320V190.34H108.64V320Z\" style=\"vector-effect: non-scaling-stroke; opacity: 1; stroke-width: 0px; fill: rgb(0, 128, 0); fill-opacity: 1;\"/></g><g class=\"point\"><path d=\"M108.64,320V157.83H111.83V320Z\" style=\"vector-effect: non-scaling-stroke; opacity: 1; stroke-width: 0px; fill: rgb(0, 128, 0); fill-opacity: 1;\"/></g><g class=\"point\"><path d=\"M111.83,320V123.82H115.03V320Z\" style=\"vector-effect: non-scaling-stroke; opacity: 1; stroke-width: 0px; fill: rgb(0, 128, 0); fill-opacity: 1;\"/></g><g class=\"point\"><path d=\"M115.03,320V100.1H118.22V320Z\" style=\"vector-effect: non-scaling-stroke; opacity: 1; stroke-width: 0px; fill: rgb(0, 128, 0); fill-opacity: 1;\"/></g><g class=\"point\"><path d=\"M118.22,320V121.81H121.42V320Z\" style=\"vector-effect: non-scaling-stroke; opacity: 1; stroke-width: 0px; fill: rgb(0, 128, 0); fill-opacity: 1;\"/></g><g class=\"point\"><path d=\"M121.42,320V82.9H124.62V320Z\" style=\"vector-effect: non-scaling-stroke; opacity: 1; stroke-width: 0px; fill: rgb(0, 128, 0); fill-opacity: 1;\"/></g><g class=\"point\"><path d=\"M124.62,320V142.9H127.81V320Z\" style=\"vector-effect: non-scaling-stroke; opacity: 1; stroke-width: 0px; fill: rgb(0, 128, 0); fill-opacity: 1;\"/></g><g class=\"point\"><path d=\"M127.81,320V86.29H131.01V320Z\" style=\"vector-effect: non-scaling-stroke; opacity: 1; stroke-width: 0px; fill: rgb(0, 128, 0); fill-opacity: 1;\"/></g><g class=\"point\"><path d=\"M131.01,320V94.32H134.2V320Z\" style=\"vector-effect: non-scaling-stroke; opacity: 1; stroke-width: 0px; fill: rgb(0, 128, 0); fill-opacity: 1;\"/></g><g class=\"point\"><path d=\"M134.2,320V57.67H137.4V320Z\" style=\"vector-effect: non-scaling-stroke; opacity: 1; stroke-width: 0px; fill: rgb(0, 128, 0); fill-opacity: 1;\"/></g><g class=\"point\"><path d=\"M137.4,320V88.17H140.59V320Z\" style=\"vector-effect: non-scaling-stroke; opacity: 1; stroke-width: 0px; fill: rgb(0, 128, 0); fill-opacity: 1;\"/></g><g class=\"point\"><path d=\"M140.59,320V136.87H143.79V320Z\" style=\"vector-effect: non-scaling-stroke; opacity: 1; stroke-width: 0px; fill: rgb(0, 128, 0); fill-opacity: 1;\"/></g><g class=\"point\"><path d=\"M143.79,320V143.02H146.98V320Z\" style=\"vector-effect: non-scaling-stroke; opacity: 1; stroke-width: 0px; fill: rgb(0, 128, 0); fill-opacity: 1;\"/></g><g class=\"point\"><path d=\"M146.98,320V149.3H150.18V320Z\" style=\"vector-effect: non-scaling-stroke; opacity: 1; stroke-width: 0px; fill: rgb(0, 128, 0); fill-opacity: 1;\"/></g><g class=\"point\"><path d=\"M150.18,320V180.55H153.37V320Z\" style=\"vector-effect: non-scaling-stroke; opacity: 1; stroke-width: 0px; fill: rgb(0, 128, 0); fill-opacity: 1;\"/></g><g class=\"point\"><path d=\"M153.37,320V246.95H156.57V320Z\" style=\"vector-effect: non-scaling-stroke; opacity: 1; stroke-width: 0px; fill: rgb(0, 128, 0); fill-opacity: 1;\"/></g><g class=\"point\"><path d=\"M156.57,320V291.88H159.76V320Z\" style=\"vector-effect: non-scaling-stroke; opacity: 1; stroke-width: 0px; fill: rgb(0, 128, 0); fill-opacity: 1;\"/></g><g class=\"point\"><path d=\"M159.76,320V297.41H162.96V320Z\" style=\"vector-effect: non-scaling-stroke; opacity: 1; stroke-width: 0px; fill: rgb(0, 128, 0); fill-opacity: 1;\"/></g><g class=\"point\"><path d=\"M162.96,320V310.96H166.15V320Z\" style=\"vector-effect: non-scaling-stroke; opacity: 1; stroke-width: 0px; fill: rgb(0, 128, 0); fill-opacity: 1;\"/></g><g class=\"point\"><path d=\"M166.15,320V301.55H169.35V320Z\" style=\"vector-effect: non-scaling-stroke; opacity: 1; stroke-width: 0px; fill: rgb(0, 128, 0); fill-opacity: 1;\"/></g><g class=\"point\"><path d=\"M169.35,320V271.05H172.54V320Z\" style=\"vector-effect: non-scaling-stroke; opacity: 1; stroke-width: 0px; fill: rgb(0, 128, 0); fill-opacity: 1;\"/></g><g class=\"point\"><path d=\"M172.54,320V282.97H175.74V320Z\" style=\"vector-effect: non-scaling-stroke; opacity: 1; stroke-width: 0px; fill: rgb(0, 128, 0); fill-opacity: 1;\"/></g><g class=\"point\"><path d=\"M175.74,320V256.11H178.93V320Z\" style=\"vector-effect: non-scaling-stroke; opacity: 1; stroke-width: 0px; fill: rgb(0, 128, 0); fill-opacity: 1;\"/></g><g class=\"point\"><path d=\"M178.93,320V214.32H182.13V320Z\" style=\"vector-effect: non-scaling-stroke; opacity: 1; stroke-width: 0px; fill: rgb(0, 128, 0); fill-opacity: 1;\"/></g><g class=\"point\"><path d=\"M182.13,320V178.54H185.33V320Z\" style=\"vector-effect: non-scaling-stroke; opacity: 1; stroke-width: 0px; fill: rgb(0, 128, 0); fill-opacity: 1;\"/></g><g class=\"point\"><path d=\"M185.33,320V148.42H188.52V320Z\" style=\"vector-effect: non-scaling-stroke; opacity: 1; stroke-width: 0px; fill: rgb(0, 128, 0); fill-opacity: 1;\"/></g><g class=\"point\"><path d=\"M188.52,320V107.75H191.72V320Z\" style=\"vector-effect: non-scaling-stroke; opacity: 1; stroke-width: 0px; fill: rgb(0, 128, 0); fill-opacity: 1;\"/></g><g class=\"point\"><path d=\"M191.72,320V69.22H194.91V320Z\" style=\"vector-effect: non-scaling-stroke; opacity: 1; stroke-width: 0px; fill: rgb(0, 128, 0); fill-opacity: 1;\"/></g><g class=\"point\"><path d=\"M194.91,320V116.04H198.11V320Z\" style=\"vector-effect: non-scaling-stroke; opacity: 1; stroke-width: 0px; fill: rgb(0, 128, 0); fill-opacity: 1;\"/></g><g class=\"point\"><path d=\"M198.11,320V73.61H201.3V320Z\" style=\"vector-effect: non-scaling-stroke; opacity: 1; stroke-width: 0px; fill: rgb(0, 128, 0); fill-opacity: 1;\"/></g><g class=\"point\"><path d=\"M201.3,320V99.84H204.5V320Z\" style=\"vector-effect: non-scaling-stroke; opacity: 1; stroke-width: 0px; fill: rgb(0, 128, 0); fill-opacity: 1;\"/></g><g class=\"point\"><path d=\"M204.5,320V110.01H207.69V320Z\" style=\"vector-effect: non-scaling-stroke; opacity: 1; stroke-width: 0px; fill: rgb(0, 128, 0); fill-opacity: 1;\"/></g><g class=\"point\"><path d=\"M207.69,320V54.28H210.89V320Z\" style=\"vector-effect: non-scaling-stroke; opacity: 1; stroke-width: 0px; fill: rgb(0, 128, 0); fill-opacity: 1;\"/></g><g class=\"point\"><path d=\"M210.89,320V101.98H214.08V320Z\" style=\"vector-effect: non-scaling-stroke; opacity: 1; stroke-width: 0px; fill: rgb(0, 128, 0); fill-opacity: 1;\"/></g><g class=\"point\"><path d=\"M214.08,320V102.61H217.28V320Z\" style=\"vector-effect: non-scaling-stroke; opacity: 1; stroke-width: 0px; fill: rgb(0, 128, 0); fill-opacity: 1;\"/></g><g class=\"point\"><path d=\"M217.28,320V111.89H220.47V320Z\" style=\"vector-effect: non-scaling-stroke; opacity: 1; stroke-width: 0px; fill: rgb(0, 128, 0); fill-opacity: 1;\"/></g><g class=\"point\"><path d=\"M220.47,320V162.85H223.67V320Z\" style=\"vector-effect: non-scaling-stroke; opacity: 1; stroke-width: 0px; fill: rgb(0, 128, 0); fill-opacity: 1;\"/></g><g class=\"point\"><path d=\"M223.67,320V176.66H226.86V320Z\" style=\"vector-effect: non-scaling-stroke; opacity: 1; stroke-width: 0px; fill: rgb(0, 128, 0); fill-opacity: 1;\"/></g><g class=\"point\"><path d=\"M226.86,320V244.19H230.06V320Z\" style=\"vector-effect: non-scaling-stroke; opacity: 1; stroke-width: 0px; fill: rgb(0, 128, 0); fill-opacity: 1;\"/></g><g class=\"point\"><path d=\"M230.06,320V265.78H233.25V320Z\" style=\"vector-effect: non-scaling-stroke; opacity: 1; stroke-width: 0px; fill: rgb(0, 128, 0); fill-opacity: 1;\"/></g><g class=\"point\"><path d=\"M233.25,320V293.39H236.45V320Z\" style=\"vector-effect: non-scaling-stroke; opacity: 1; stroke-width: 0px; fill: rgb(0, 128, 0); fill-opacity: 1;\"/></g><g class=\"point\"><path d=\"M236.45,320V308.83H239.64V320Z\" style=\"vector-effect: non-scaling-stroke; opacity: 1; stroke-width: 0px; fill: rgb(0, 128, 0); fill-opacity: 1;\"/></g><g class=\"point\"><path d=\"M239.64,320V306.57H242.84V320Z\" style=\"vector-effect: non-scaling-stroke; opacity: 1; stroke-width: 0px; fill: rgb(0, 128, 0); fill-opacity: 1;\"/></g><g class=\"point\"><path d=\"M242.84,320V297.78H246.04V320Z\" style=\"vector-effect: non-scaling-stroke; opacity: 1; stroke-width: 0px; fill: rgb(0, 128, 0); fill-opacity: 1;\"/></g><g class=\"point\"><path d=\"M246.04,320V294.14H249.23V320Z\" style=\"vector-effect: non-scaling-stroke; opacity: 1; stroke-width: 0px; fill: rgb(0, 128, 0); fill-opacity: 1;\"/></g><g class=\"point\"><path d=\"M249.23,320V272.05H252.43V320Z\" style=\"vector-effect: non-scaling-stroke; opacity: 1; stroke-width: 0px; fill: rgb(0, 128, 0); fill-opacity: 1;\"/></g><g class=\"point\"><path d=\"M252.43,320V250.72H255.62V320Z\" style=\"vector-effect: non-scaling-stroke; opacity: 1; stroke-width: 0px; fill: rgb(0, 128, 0); fill-opacity: 1;\"/></g><g class=\"point\"><path d=\"M255.62,320V223.85H258.82V320Z\" style=\"vector-effect: non-scaling-stroke; opacity: 1; stroke-width: 0px; fill: rgb(0, 128, 0); fill-opacity: 1;\"/></g><g class=\"point\"><path d=\"M258.82,320V207.16H262.01V320Z\" style=\"vector-effect: non-scaling-stroke; opacity: 1; stroke-width: 0px; fill: rgb(0, 128, 0); fill-opacity: 1;\"/></g><g class=\"point\"><path d=\"M262.01,320V168.5H265.21V320Z\" style=\"vector-effect: non-scaling-stroke; opacity: 1; stroke-width: 0px; fill: rgb(0, 128, 0); fill-opacity: 1;\"/></g><g class=\"point\"><path d=\"M265.21,320V134.11H268.4V320Z\" style=\"vector-effect: non-scaling-stroke; opacity: 1; stroke-width: 0px; fill: rgb(0, 128, 0); fill-opacity: 1;\"/></g><g class=\"point\"><path d=\"M268.4,320V108.38H271.6V320Z\" style=\"vector-effect: non-scaling-stroke; opacity: 1; stroke-width: 0px; fill: rgb(0, 128, 0); fill-opacity: 1;\"/></g><g class=\"point\"><path d=\"M271.6,320V60.93H274.79V320Z\" style=\"vector-effect: non-scaling-stroke; opacity: 1; stroke-width: 0px; fill: rgb(0, 128, 0); fill-opacity: 1;\"/></g><g class=\"point\"><path d=\"M274.79,320V64.57H277.99V320Z\" style=\"vector-effect: non-scaling-stroke; opacity: 1; stroke-width: 0px; fill: rgb(0, 128, 0); fill-opacity: 1;\"/></g><g class=\"point\"><path d=\"M277.99,320V76.5H281.18V320Z\" style=\"vector-effect: non-scaling-stroke; opacity: 1; stroke-width: 0px; fill: rgb(0, 128, 0); fill-opacity: 1;\"/></g><g class=\"point\"><path d=\"M281.18,320V96.83H284.38V320Z\" style=\"vector-effect: non-scaling-stroke; opacity: 1; stroke-width: 0px; fill: rgb(0, 128, 0); fill-opacity: 1;\"/></g><g class=\"point\"><path d=\"M284.38,320V117.92H287.57V320Z\" style=\"vector-effect: non-scaling-stroke; opacity: 1; stroke-width: 0px; fill: rgb(0, 128, 0); fill-opacity: 1;\"/></g><g class=\"point\"><path d=\"M287.57,320V64.83H290.77V320Z\" style=\"vector-effect: non-scaling-stroke; opacity: 1; stroke-width: 0px; fill: rgb(0, 128, 0); fill-opacity: 1;\"/></g><g class=\"point\"><path d=\"M290.77,320V94.57H293.96V320Z\" style=\"vector-effect: non-scaling-stroke; opacity: 1; stroke-width: 0px; fill: rgb(0, 128, 0); fill-opacity: 1;\"/></g><g class=\"point\"><path d=\"M293.96,320V87.54H297.16V320Z\" style=\"vector-effect: non-scaling-stroke; opacity: 1; stroke-width: 0px; fill: rgb(0, 128, 0); fill-opacity: 1;\"/></g><g class=\"point\"><path d=\"M297.16,320V140.64H300.36V320Z\" style=\"vector-effect: non-scaling-stroke; opacity: 1; stroke-width: 0px; fill: rgb(0, 128, 0); fill-opacity: 1;\"/></g><g class=\"point\"><path d=\"M300.36,320V183.31H303.55V320Z\" style=\"vector-effect: non-scaling-stroke; opacity: 1; stroke-width: 0px; fill: rgb(0, 128, 0); fill-opacity: 1;\"/></g><g class=\"point\"><path d=\"M303.55,320V226.49H306.75V320Z\" style=\"vector-effect: non-scaling-stroke; opacity: 1; stroke-width: 0px; fill: rgb(0, 128, 0); fill-opacity: 1;\"/></g><g class=\"point\"><path d=\"M306.75,320V258.12H309.94V320Z\" style=\"vector-effect: non-scaling-stroke; opacity: 1; stroke-width: 0px; fill: rgb(0, 128, 0); fill-opacity: 1;\"/></g><g class=\"point\"><path d=\"M309.94,320V281.22H313.14V320Z\" style=\"vector-effect: non-scaling-stroke; opacity: 1; stroke-width: 0px; fill: rgb(0, 128, 0); fill-opacity: 1;\"/></g><g class=\"point\"><path d=\"M313.14,320V303.06H316.33V320Z\" style=\"vector-effect: non-scaling-stroke; opacity: 1; stroke-width: 0px; fill: rgb(0, 128, 0); fill-opacity: 1;\"/></g><g class=\"point\"><path d=\"M316.33,320V302.93H319.53V320Z\" style=\"vector-effect: non-scaling-stroke; opacity: 1; stroke-width: 0px; fill: rgb(0, 128, 0); fill-opacity: 1;\"/></g><g class=\"point\"><path d=\"M319.53,320V302.05H322.72V320Z\" style=\"vector-effect: non-scaling-stroke; opacity: 1; stroke-width: 0px; fill: rgb(0, 128, 0); fill-opacity: 1;\"/></g><g class=\"point\"><path d=\"M322.72,320V284.48H325.92V320Z\" style=\"vector-effect: non-scaling-stroke; opacity: 1; stroke-width: 0px; fill: rgb(0, 128, 0); fill-opacity: 1;\"/></g><g class=\"point\"><path d=\"M325.92,320V267.03H329.11V320Z\" style=\"vector-effect: non-scaling-stroke; opacity: 1; stroke-width: 0px; fill: rgb(0, 128, 0); fill-opacity: 1;\"/></g><g class=\"point\"><path d=\"M329.11,320V234.65H332.31V320Z\" style=\"vector-effect: non-scaling-stroke; opacity: 1; stroke-width: 0px; fill: rgb(0, 128, 0); fill-opacity: 1;\"/></g><g class=\"point\"><path d=\"M332.31,320V191.72H335.5V320Z\" style=\"vector-effect: non-scaling-stroke; opacity: 1; stroke-width: 0px; fill: rgb(0, 128, 0); fill-opacity: 1;\"/></g><g class=\"point\"><path d=\"M335.5,320V186.07H338.7V320Z\" style=\"vector-effect: non-scaling-stroke; opacity: 1; stroke-width: 0px; fill: rgb(0, 128, 0); fill-opacity: 1;\"/></g><g class=\"point\"><path d=\"M338.7,320V169.38H341.89V320Z\" style=\"vector-effect: non-scaling-stroke; opacity: 1; stroke-width: 0px; fill: rgb(0, 128, 0); fill-opacity: 1;\"/></g><g class=\"point\"><path d=\"M341.89,320V121.43H345.09V320Z\" style=\"vector-effect: non-scaling-stroke; opacity: 1; stroke-width: 0px; fill: rgb(0, 128, 0); fill-opacity: 1;\"/></g><g class=\"point\"><path d=\"M345.09,320V117.04H348.28V320Z\" style=\"vector-effect: non-scaling-stroke; opacity: 1; stroke-width: 0px; fill: rgb(0, 128, 0); fill-opacity: 1;\"/></g><g class=\"point\"><path d=\"M348.28,320V130.09H351.48V320Z\" style=\"vector-effect: non-scaling-stroke; opacity: 1; stroke-width: 0px; fill: rgb(0, 128, 0); fill-opacity: 1;\"/></g><g class=\"point\"><path d=\"M351.48,320V108.13H354.67V320Z\" style=\"vector-effect: non-scaling-stroke; opacity: 1; stroke-width: 0px; fill: rgb(0, 128, 0); fill-opacity: 1;\"/></g><g class=\"point\"><path d=\"M354.67,320V112.52H357.87V320Z\" style=\"vector-effect: non-scaling-stroke; opacity: 1; stroke-width: 0px; fill: rgb(0, 128, 0); fill-opacity: 1;\"/></g><g class=\"point\"><path d=\"M357.87,320V64.32H361.07V320Z\" style=\"vector-effect: non-scaling-stroke; opacity: 1; stroke-width: 0px; fill: rgb(0, 128, 0); fill-opacity: 1;\"/></g><g class=\"point\"><path d=\"M361.07,320V34.07H364.26V320Z\" style=\"vector-effect: non-scaling-stroke; opacity: 1; stroke-width: 0px; fill: rgb(0, 128, 0); fill-opacity: 1;\"/></g><g class=\"point\"><path d=\"M364.26,320V16H367.46V320Z\" style=\"vector-effect: non-scaling-stroke; opacity: 1; stroke-width: 0px; fill: rgb(0, 128, 0); fill-opacity: 1;\"/></g><g class=\"point\"><path d=\"M367.46,320V54.91H370.65V320Z\" style=\"vector-effect: non-scaling-stroke; opacity: 1; stroke-width: 0px; fill: rgb(0, 128, 0); fill-opacity: 1;\"/></g><g class=\"point\"><path d=\"M370.65,320V80.89H373.85V320Z\" style=\"vector-effect: non-scaling-stroke; opacity: 1; stroke-width: 0px; fill: rgb(0, 128, 0); fill-opacity: 1;\"/></g><g class=\"point\"><path d=\"M373.85,320V140.14H377.04V320Z\" style=\"vector-effect: non-scaling-stroke; opacity: 1; stroke-width: 0px; fill: rgb(0, 128, 0); fill-opacity: 1;\"/></g><g class=\"point\"><path d=\"M377.04,320V152.94H380.24V320Z\" style=\"vector-effect: non-scaling-stroke; opacity: 1; stroke-width: 0px; fill: rgb(0, 128, 0); fill-opacity: 1;\"/></g><g class=\"point\"><path d=\"M380.24,320V213.56H383.43V320Z\" style=\"vector-effect: non-scaling-stroke; opacity: 1; stroke-width: 0px; fill: rgb(0, 128, 0); fill-opacity: 1;\"/></g><g class=\"point\"><path d=\"M383.43,320V251.72H386.63V320Z\" style=\"vector-effect: non-scaling-stroke; opacity: 1; stroke-width: 0px; fill: rgb(0, 128, 0); fill-opacity: 1;\"/></g><g class=\"point\"><path d=\"M386.63,320V292.14H389.82V320Z\" style=\"vector-effect: non-scaling-stroke; opacity: 1; stroke-width: 0px; fill: rgb(0, 128, 0); fill-opacity: 1;\"/></g><g class=\"point\"><path d=\"M389.82,320V303.06H393.02V320Z\" style=\"vector-effect: non-scaling-stroke; opacity: 1; stroke-width: 0px; fill: rgb(0, 128, 0); fill-opacity: 1;\"/></g><g class=\"point\"><path d=\"M393.02,320V304.44H396.21V320Z\" style=\"vector-effect: non-scaling-stroke; opacity: 1; stroke-width: 0px; fill: rgb(0, 128, 0); fill-opacity: 1;\"/></g><g class=\"point\"><path d=\"M396.21,320V304.44H399.41V320Z\" style=\"vector-effect: non-scaling-stroke; opacity: 1; stroke-width: 0px; fill: rgb(0, 128, 0); fill-opacity: 1;\"/></g><g class=\"point\"><path d=\"M399.41,320V277.58H402.6V320Z\" style=\"vector-effect: non-scaling-stroke; opacity: 1; stroke-width: 0px; fill: rgb(0, 128, 0); fill-opacity: 1;\"/></g><g class=\"point\"><path d=\"M402.6,320V250.59H405.8V320Z\" style=\"vector-effect: non-scaling-stroke; opacity: 1; stroke-width: 0px; fill: rgb(0, 128, 0); fill-opacity: 1;\"/></g><g class=\"point\"><path d=\"M405.8,320V204.02H408.99V320Z\" style=\"vector-effect: non-scaling-stroke; opacity: 1; stroke-width: 0px; fill: rgb(0, 128, 0); fill-opacity: 1;\"/></g><g class=\"point\"><path d=\"M408.99,320V129.59H412.19V320Z\" style=\"vector-effect: non-scaling-stroke; opacity: 1; stroke-width: 0px; fill: rgb(0, 128, 0); fill-opacity: 1;\"/></g><g class=\"point\"><path d=\"M412.19,320V153.69H415.38V320Z\" style=\"vector-effect: non-scaling-stroke; opacity: 1; stroke-width: 0px; fill: rgb(0, 128, 0); fill-opacity: 1;\"/></g><g class=\"point\"><path d=\"M415.38,320V151.43H418.58V320Z\" style=\"vector-effect: non-scaling-stroke; opacity: 1; stroke-width: 0px; fill: rgb(0, 128, 0); fill-opacity: 1;\"/></g><g class=\"point\"><path d=\"M418.58,320V125.58H421.78V320Z\" style=\"vector-effect: non-scaling-stroke; opacity: 1; stroke-width: 0px; fill: rgb(0, 128, 0); fill-opacity: 1;\"/></g><g class=\"point\"><path d=\"M421.78,320V124.32H424.97V320Z\" style=\"vector-effect: non-scaling-stroke; opacity: 1; stroke-width: 0px; fill: rgb(0, 128, 0); fill-opacity: 1;\"/></g><g class=\"point\"><path d=\"M424.97,320V136.62H428.17V320Z\" style=\"vector-effect: non-scaling-stroke; opacity: 1; stroke-width: 0px; fill: rgb(0, 128, 0); fill-opacity: 1;\"/></g><g class=\"point\"><path d=\"M428.17,320V110.89H431.36V320Z\" style=\"vector-effect: non-scaling-stroke; opacity: 1; stroke-width: 0px; fill: rgb(0, 128, 0); fill-opacity: 1;\"/></g><g class=\"point\"><path d=\"M431.36,320V141.39H434.56V320Z\" style=\"vector-effect: non-scaling-stroke; opacity: 1; stroke-width: 0px; fill: rgb(0, 128, 0); fill-opacity: 1;\"/></g><g class=\"point\"><path d=\"M434.56,320V77.88H437.75V320Z\" style=\"vector-effect: non-scaling-stroke; opacity: 1; stroke-width: 0px; fill: rgb(0, 128, 0); fill-opacity: 1;\"/></g><g class=\"point\"><path d=\"M437.75,320V36.71H440.95V320Z\" style=\"vector-effect: non-scaling-stroke; opacity: 1; stroke-width: 0px; fill: rgb(0, 128, 0); fill-opacity: 1;\"/></g><g class=\"point\"><path d=\"M440.95,320V32.57H444.14V320Z\" style=\"vector-effect: non-scaling-stroke; opacity: 1; stroke-width: 0px; fill: rgb(0, 128, 0); fill-opacity: 1;\"/></g><g class=\"point\"><path d=\"M444.14,320V65.96H447.34V320Z\" style=\"vector-effect: non-scaling-stroke; opacity: 1; stroke-width: 0px; fill: rgb(0, 128, 0); fill-opacity: 1;\"/></g><g class=\"point\"><path d=\"M447.34,320V115.03H450.53V320Z\" style=\"vector-effect: non-scaling-stroke; opacity: 1; stroke-width: 0px; fill: rgb(0, 128, 0); fill-opacity: 1;\"/></g><g class=\"point\"><path d=\"M450.53,320V84.41H453.73V320Z\" style=\"vector-effect: non-scaling-stroke; opacity: 1; stroke-width: 0px; fill: rgb(0, 128, 0); fill-opacity: 1;\"/></g><g class=\"point\"><path d=\"M453.73,320V151.18H456.92V320Z\" style=\"vector-effect: non-scaling-stroke; opacity: 1; stroke-width: 0px; fill: rgb(0, 128, 0); fill-opacity: 1;\"/></g><g class=\"point\"><path d=\"M456.92,320V202.64H460.12V320Z\" style=\"vector-effect: non-scaling-stroke; opacity: 1; stroke-width: 0px; fill: rgb(0, 128, 0); fill-opacity: 1;\"/></g><g class=\"point\"><path d=\"M460.12,320V274.44H463.31V320Z\" style=\"vector-effect: non-scaling-stroke; opacity: 1; stroke-width: 0px; fill: rgb(0, 128, 0); fill-opacity: 1;\"/></g><g class=\"point\"><path d=\"M463.31,320V301.67H466.51V320Z\" style=\"vector-effect: non-scaling-stroke; opacity: 1; stroke-width: 0px; fill: rgb(0, 128, 0); fill-opacity: 1;\"/></g><g class=\"point\"><path d=\"M466.51,320V305.19H469.7V320Z\" style=\"vector-effect: non-scaling-stroke; opacity: 1; stroke-width: 0px; fill: rgb(0, 128, 0); fill-opacity: 1;\"/></g><g class=\"point\"><path d=\"M469.7,320V307.45H472.9V320Z\" style=\"vector-effect: non-scaling-stroke; opacity: 1; stroke-width: 0px; fill: rgb(0, 128, 0); fill-opacity: 1;\"/></g><g class=\"point\"><path d=\"M472.9,320V292.39H476.09V320Z\" style=\"vector-effect: non-scaling-stroke; opacity: 1; stroke-width: 0px; fill: rgb(0, 128, 0); fill-opacity: 1;\"/></g><g class=\"point\"><path d=\"M476.09,320V290.63H479.29V320Z\" style=\"vector-effect: non-scaling-stroke; opacity: 1; stroke-width: 0px; fill: rgb(0, 128, 0); fill-opacity: 1;\"/></g><g class=\"point\"><path d=\"M479.29,320V244.19H482.49V320Z\" style=\"vector-effect: non-scaling-stroke; opacity: 1; stroke-width: 0px; fill: rgb(0, 128, 0); fill-opacity: 1;\"/></g><g class=\"point\"><path d=\"M482.49,320V196.24H485.68V320Z\" style=\"vector-effect: non-scaling-stroke; opacity: 1; stroke-width: 0px; fill: rgb(0, 128, 0); fill-opacity: 1;\"/></g><g class=\"point\"><path d=\"M485.68,320V208.29H488.88V320Z\" style=\"vector-effect: non-scaling-stroke; opacity: 1; stroke-width: 0px; fill: rgb(0, 128, 0); fill-opacity: 1;\"/></g><g class=\"point\"><path d=\"M488.88,320V177.29H492.07V320Z\" style=\"vector-effect: non-scaling-stroke; opacity: 1; stroke-width: 0px; fill: rgb(0, 128, 0); fill-opacity: 1;\"/></g><g class=\"point\"><path d=\"M492.07,320V181.93H495.27V320Z\" style=\"vector-effect: non-scaling-stroke; opacity: 1; stroke-width: 0px; fill: rgb(0, 128, 0); fill-opacity: 1;\"/></g><g class=\"point\"><path d=\"M495.27,320V168.75H498.46V320Z\" style=\"vector-effect: non-scaling-stroke; opacity: 1; stroke-width: 0px; fill: rgb(0, 128, 0); fill-opacity: 1;\"/></g><g class=\"point\"><path d=\"M498.46,320V113.53H501.66V320Z\" style=\"vector-effect: non-scaling-stroke; opacity: 1; stroke-width: 0px; fill: rgb(0, 128, 0); fill-opacity: 1;\"/></g><g class=\"point\"><path d=\"M501.66,320V149.93H504.85V320Z\" style=\"vector-effect: non-scaling-stroke; opacity: 1; stroke-width: 0px; fill: rgb(0, 128, 0); fill-opacity: 1;\"/></g><g class=\"point\"><path d=\"M504.85,320V124.19H508.05V320Z\" style=\"vector-effect: non-scaling-stroke; opacity: 1; stroke-width: 0px; fill: rgb(0, 128, 0); fill-opacity: 1;\"/></g><g class=\"point\"><path d=\"M508.05,320V122.06H511.24V320Z\" style=\"vector-effect: non-scaling-stroke; opacity: 1; stroke-width: 0px; fill: rgb(0, 128, 0); fill-opacity: 1;\"/></g><g class=\"point\"><path d=\"M511.24,320V127.21H514.44V320Z\" style=\"vector-effect: non-scaling-stroke; opacity: 1; stroke-width: 0px; fill: rgb(0, 128, 0); fill-opacity: 1;\"/></g><g class=\"point\"><path d=\"M514.44,320V59.81H517.63V320Z\" style=\"vector-effect: non-scaling-stroke; opacity: 1; stroke-width: 0px; fill: rgb(0, 128, 0); fill-opacity: 1;\"/></g><g class=\"point\"><path d=\"M517.63,320V39.47H520.83V320Z\" style=\"vector-effect: non-scaling-stroke; opacity: 1; stroke-width: 0px; fill: rgb(0, 128, 0); fill-opacity: 1;\"/></g><g class=\"point\"><path d=\"M520.83,320V88.05H524.02V320Z\" style=\"vector-effect: non-scaling-stroke; opacity: 1; stroke-width: 0px; fill: rgb(0, 128, 0); fill-opacity: 1;\"/></g><g class=\"point\"><path d=\"M524.02,320V117.29H527.22V320Z\" style=\"vector-effect: non-scaling-stroke; opacity: 1; stroke-width: 0px; fill: rgb(0, 128, 0); fill-opacity: 1;\"/></g><g class=\"point\"><path d=\"M527.22,320V152.94H530.41V320Z\" style=\"vector-effect: non-scaling-stroke; opacity: 1; stroke-width: 0px; fill: rgb(0, 128, 0); fill-opacity: 1;\"/></g><g class=\"point\"><path d=\"M530.41,320V163.23H533.61V320Z\" style=\"vector-effect: non-scaling-stroke; opacity: 1; stroke-width: 0px; fill: rgb(0, 128, 0); fill-opacity: 1;\"/></g><g class=\"point\"><path d=\"M533.61,320V235.65H536.8V320Z\" style=\"vector-effect: non-scaling-stroke; opacity: 1; stroke-width: 0px; fill: rgb(0, 128, 0); fill-opacity: 1;\"/></g><g class=\"point\"><path d=\"M536.8,320V313.35H540V320Z\" style=\"vector-effect: non-scaling-stroke; opacity: 1; stroke-width: 0px; fill: rgb(0, 128, 0); fill-opacity: 1;\"/></g></g></g></g></g><g class=\"overplot\"/><path class=\"xlines-above crisp\" d=\"M0,0\" style=\"fill: none;\"/><path class=\"ylines-above crisp\" d=\"M0,0\" style=\"fill: none;\"/><g class=\"overlines-above\"/><g class=\"xaxislayer-above\"><g class=\"xtick\"><text text-anchor=\"middle\" x=\"0\" y=\"433\" transform=\"translate(80,0)\" style=\"font-family: 'Open Sans', verdana, arial, sans-serif; font-size: 12px; fill: rgb(42, 63, 95); fill-opacity: 1; white-space: pre; opacity: 1;\"><tspan class=\"line\" dy=\"0em\" x=\"0\" y=\"433\">Aug 1</tspan><tspan class=\"line\" dy=\"1.3em\" x=\"0\" y=\"433\">2019</tspan></text></g><g class=\"xtick\"><text text-anchor=\"middle\" x=\"0\" y=\"433\" style=\"font-family: 'Open Sans', verdana, arial, sans-serif; font-size: 12px; fill: rgb(42, 63, 95); fill-opacity: 1; white-space: pre; opacity: 1;\" transform=\"translate(156.69,0)\">Aug 2</text></g><g class=\"xtick\"><text text-anchor=\"middle\" x=\"0\" y=\"433\" style=\"font-family: 'Open Sans', verdana, arial, sans-serif; font-size: 12px; fill: rgb(42, 63, 95); fill-opacity: 1; white-space: pre; opacity: 1;\" transform=\"translate(233.37,0)\">Aug 3</text></g><g class=\"xtick\"><text text-anchor=\"middle\" x=\"0\" y=\"433\" style=\"font-family: 'Open Sans', verdana, arial, sans-serif; font-size: 12px; fill: rgb(42, 63, 95); fill-opacity: 1; white-space: pre; opacity: 1;\" transform=\"translate(310.06,0)\">Aug 4</text></g><g class=\"xtick\"><text text-anchor=\"middle\" x=\"0\" y=\"433\" style=\"font-family: 'Open Sans', verdana, arial, sans-serif; font-size: 12px; fill: rgb(42, 63, 95); fill-opacity: 1; white-space: pre; opacity: 1;\" transform=\"translate(386.75,0)\">Aug 5</text></g><g class=\"xtick\"><text text-anchor=\"middle\" x=\"0\" y=\"433\" style=\"font-family: 'Open Sans', verdana, arial, sans-serif; font-size: 12px; fill: rgb(42, 63, 95); fill-opacity: 1; white-space: pre; opacity: 1;\" transform=\"translate(463.43,0)\">Aug 6</text></g><g class=\"xtick\"><text text-anchor=\"middle\" x=\"0\" y=\"433\" style=\"font-family: 'Open Sans', verdana, arial, sans-serif; font-size: 12px; fill: rgb(42, 63, 95); fill-opacity: 1; white-space: pre; opacity: 1;\" transform=\"translate(540.12,0)\">Aug 7</text></g><g class=\"xtick\"><text text-anchor=\"middle\" x=\"0\" y=\"433\" style=\"font-family: 'Open Sans', verdana, arial, sans-serif; font-size: 12px; fill: rgb(42, 63, 95); fill-opacity: 1; white-space: pre; opacity: 1;\" transform=\"translate(616.8,0)\">Aug 8</text></g></g><g class=\"yaxislayer-above\"><g class=\"ytick\"><text text-anchor=\"end\" x=\"79\" y=\"4.199999999999999\" transform=\"translate(0,420)\" style=\"font-family: 'Open Sans', verdana, arial, sans-serif; font-size: 12px; fill: rgb(42, 63, 95); fill-opacity: 1; white-space: pre; opacity: 1;\">0</text></g><g class=\"ytick\"><text text-anchor=\"end\" x=\"79\" y=\"4.199999999999999\" style=\"font-family: 'Open Sans', verdana, arial, sans-serif; font-size: 12px; fill: rgb(42, 63, 95); fill-opacity: 1; white-space: pre; opacity: 1;\" transform=\"translate(0,357.24)\">500</text></g><g class=\"ytick\"><text text-anchor=\"end\" x=\"79\" y=\"4.199999999999999\" style=\"font-family: 'Open Sans', verdana, arial, sans-serif; font-size: 12px; fill: rgb(42, 63, 95); fill-opacity: 1; white-space: pre; opacity: 1;\" transform=\"translate(0,294.48)\">1000</text></g><g class=\"ytick\"><text text-anchor=\"end\" x=\"79\" y=\"4.199999999999999\" style=\"font-family: 'Open Sans', verdana, arial, sans-serif; font-size: 12px; fill: rgb(42, 63, 95); fill-opacity: 1; white-space: pre; opacity: 1;\" transform=\"translate(0,231.73)\">1500</text></g><g class=\"ytick\"><text text-anchor=\"end\" x=\"79\" y=\"4.199999999999999\" style=\"font-family: 'Open Sans', verdana, arial, sans-serif; font-size: 12px; fill: rgb(42, 63, 95); fill-opacity: 1; white-space: pre; opacity: 1;\" transform=\"translate(0,168.97)\">2000</text></g><g class=\"ytick\"><text text-anchor=\"end\" x=\"79\" y=\"4.199999999999999\" style=\"font-family: 'Open Sans', verdana, arial, sans-serif; font-size: 12px; fill: rgb(42, 63, 95); fill-opacity: 1; white-space: pre; opacity: 1;\" transform=\"translate(0,106.21)\">2500</text></g></g><g class=\"overaxes-above\"/></g></g><g class=\"polarlayer\"/><g class=\"smithlayer\"/><g class=\"ternarylayer\"/><g class=\"geolayer\"/><g class=\"funnelarealayer\"/><g class=\"pielayer\"/><g class=\"iciclelayer\"/><g class=\"treemaplayer\"/><g class=\"sunburstlayer\"/><g class=\"glimages\"/><defs id=\"topdefs-90eed5\"><g class=\"clips\"/></defs><g class=\"layer-above\"><g class=\"imagelayer\"/><g class=\"shapelayer\"/></g><g class=\"infolayer\"><g class=\"g-gtitle\"><text class=\"gtitle\" x=\"35\" y=\"50\" text-anchor=\"start\" dy=\"0em\" style=\"font-family: 'Open Sans', verdana, arial, sans-serif; font-size: 17px; fill: rgb(42, 63, 95); opacity: 1; font-weight: normal; white-space: pre;\">duration of the test</text></g><g class=\"g-xtitle\"><text class=\"xtitle\" x=\"350\" y=\"476.409375\" text-anchor=\"middle\" style=\"font-family: 'Open Sans', verdana, arial, sans-serif; font-size: 14px; fill: rgb(42, 63, 95); opacity: 1; font-weight: normal; white-space: pre;\">timestamp</text></g><g class=\"g-ytitle\"><text class=\"ytitle\" transform=\"rotate(-90,23.684375000000003,260)\" x=\"23.684375000000003\" y=\"260\" text-anchor=\"middle\" style=\"font-family: 'Open Sans', verdana, arial, sans-serif; font-size: 14px; fill: rgb(42, 63, 95); opacity: 1; font-weight: normal; white-space: pre;\">count</text></g></g></svg>"
      ]
     },
     "metadata": {},
     "output_type": "display_data"
    }
   ],
   "source": [
    "fig = px.histogram(df, x=\"timestamp\", color_discrete_sequence = ['green'], title='duration of the test')\n",
    "fig.show(renderer=\"svg\")"
   ]
  },
  {
   "cell_type": "code",
   "execution_count": 44,
   "id": "d36ca5aa",
   "metadata": {},
   "outputs": [
    {
     "name": "stderr",
     "output_type": "stream",
     "text": [
      "C:\\Users\\User\\anaconda3\\Lib\\site-packages\\_plotly_utils\\basevalidators.py:106: FutureWarning:\n",
      "\n",
      "The behavior of DatetimeProperties.to_pydatetime is deprecated, in a future version this will return a Series containing python datetime objects instead of an ndarray. To retain the old behavior, call `np.array` on the result\n",
      "\n"
     ]
    },
    {
     "data": {
      "image/svg+xml": [
       "<svg class=\"main-svg\" xmlns=\"http://www.w3.org/2000/svg\" xmlns:xlink=\"http://www.w3.org/1999/xlink\" width=\"700\" height=\"500\" style=\"\" viewBox=\"0 0 700 500\"><rect x=\"0\" y=\"0\" width=\"700\" height=\"500\" style=\"fill: rgb(255, 255, 255); fill-opacity: 1;\"/><defs id=\"defs-350f63\"><g class=\"clips\"><clipPath id=\"clip350f63xyplot\" class=\"plotclip\"><rect width=\"492\" height=\"320\"/></clipPath><clipPath class=\"axesclip\" id=\"clip350f63x\"><rect x=\"80\" y=\"0\" width=\"492\" height=\"500\"/></clipPath><clipPath class=\"axesclip\" id=\"clip350f63y\"><rect x=\"0\" y=\"100\" width=\"700\" height=\"320\"/></clipPath><clipPath class=\"axesclip\" id=\"clip350f63xy\"><rect x=\"80\" y=\"100\" width=\"492\" height=\"320\"/></clipPath></g><g class=\"gradients\"/><g class=\"patterns\"/></defs><g class=\"bglayer\"><rect class=\"bg\" x=\"80\" y=\"100\" width=\"492\" height=\"320\" style=\"fill: rgb(229, 236, 246); fill-opacity: 1; stroke-width: 0;\"/></g><g class=\"layer-below\"><g class=\"imagelayer\"/><g class=\"shapelayer\"/></g><g class=\"cartesianlayer\"><g class=\"subplot xy\"><g class=\"layer-subplot\"><g class=\"shapelayer\"/><g class=\"imagelayer\"/></g><g class=\"minor-gridlayer\"><g class=\"x\"/><g class=\"y\"/></g><g class=\"gridlayer\"><g class=\"x\"><path class=\"xgrid crisp\" transform=\"translate(150.14,0)\" d=\"M0,100v320\" style=\"stroke: rgb(255, 255, 255); stroke-opacity: 1; stroke-width: 1px;\"/><path class=\"xgrid crisp\" transform=\"translate(220.33,0)\" d=\"M0,100v320\" style=\"stroke: rgb(255, 255, 255); stroke-opacity: 1; stroke-width: 1px;\"/><path class=\"xgrid crisp\" transform=\"translate(290.51,0)\" d=\"M0,100v320\" style=\"stroke: rgb(255, 255, 255); stroke-opacity: 1; stroke-width: 1px;\"/><path class=\"xgrid crisp\" transform=\"translate(360.7,0)\" d=\"M0,100v320\" style=\"stroke: rgb(255, 255, 255); stroke-opacity: 1; stroke-width: 1px;\"/><path class=\"xgrid crisp\" transform=\"translate(430.88,0)\" d=\"M0,100v320\" style=\"stroke: rgb(255, 255, 255); stroke-opacity: 1; stroke-width: 1px;\"/><path class=\"xgrid crisp\" transform=\"translate(501.07,0)\" d=\"M0,100v320\" style=\"stroke: rgb(255, 255, 255); stroke-opacity: 1; stroke-width: 1px;\"/></g><g class=\"y\"><path class=\"ygrid crisp\" transform=\"translate(0,346.9)\" d=\"M80,0h492\" style=\"stroke: rgb(255, 255, 255); stroke-opacity: 1; stroke-width: 1px;\"/><path class=\"ygrid crisp\" transform=\"translate(0,287.43)\" d=\"M80,0h492\" style=\"stroke: rgb(255, 255, 255); stroke-opacity: 1; stroke-width: 1px;\"/><path class=\"ygrid crisp\" transform=\"translate(0,227.95)\" d=\"M80,0h492\" style=\"stroke: rgb(255, 255, 255); stroke-opacity: 1; stroke-width: 1px;\"/><path class=\"ygrid crisp\" transform=\"translate(0,168.48000000000002)\" d=\"M80,0h492\" style=\"stroke: rgb(255, 255, 255); stroke-opacity: 1; stroke-width: 1px;\"/><path class=\"ygrid crisp\" transform=\"translate(0,109.01)\" d=\"M80,0h492\" style=\"stroke: rgb(255, 255, 255); stroke-opacity: 1; stroke-width: 1px;\"/></g></g><g class=\"zerolinelayer\"><path class=\"yzl zl crisp\" transform=\"translate(0,406.37)\" d=\"M80,0h492\" style=\"stroke: rgb(255, 255, 255); stroke-opacity: 1; stroke-width: 2px;\"/></g><path class=\"xlines-below\"/><path class=\"ylines-below\"/><g class=\"overlines-below\"/><g class=\"xaxislayer-below\"/><g class=\"yaxislayer-below\"/><g class=\"overaxes-below\"/><g class=\"plot\" transform=\"translate(80,100)\" clip-path=\"url(#clip350f63xyplot)\"/><g class=\"overplot\"/><path class=\"xlines-above crisp\" d=\"M0,0\" style=\"fill: none;\"/><path class=\"ylines-above crisp\" d=\"M0,0\" style=\"fill: none;\"/><g class=\"overlines-above\"/><g class=\"xaxislayer-above\"><g class=\"xtick\"><text text-anchor=\"middle\" x=\"0\" y=\"433\" transform=\"translate(79.95,0)\" style=\"font-family: 'Open Sans', verdana, arial, sans-serif; font-size: 12px; fill: rgb(42, 63, 95); fill-opacity: 1; white-space: pre; opacity: 1;\"><tspan class=\"line\" dy=\"0em\" x=\"0\" y=\"433\">Aug 1</tspan><tspan class=\"line\" dy=\"1.3em\" x=\"0\" y=\"433\">2019</tspan></text></g><g class=\"xtick\"><text text-anchor=\"middle\" x=\"0\" y=\"433\" style=\"font-family: 'Open Sans', verdana, arial, sans-serif; font-size: 12px; fill: rgb(42, 63, 95); fill-opacity: 1; white-space: pre; opacity: 1;\" transform=\"translate(150.14,0)\">Aug 2</text></g><g class=\"xtick\"><text text-anchor=\"middle\" x=\"0\" y=\"433\" style=\"font-family: 'Open Sans', verdana, arial, sans-serif; font-size: 12px; fill: rgb(42, 63, 95); fill-opacity: 1; white-space: pre; opacity: 1;\" transform=\"translate(220.33,0)\">Aug 3</text></g><g class=\"xtick\"><text text-anchor=\"middle\" x=\"0\" y=\"433\" style=\"font-family: 'Open Sans', verdana, arial, sans-serif; font-size: 12px; fill: rgb(42, 63, 95); fill-opacity: 1; white-space: pre; opacity: 1;\" transform=\"translate(290.51,0)\">Aug 4</text></g><g class=\"xtick\"><text text-anchor=\"middle\" x=\"0\" y=\"433\" style=\"font-family: 'Open Sans', verdana, arial, sans-serif; font-size: 12px; fill: rgb(42, 63, 95); fill-opacity: 1; white-space: pre; opacity: 1;\" transform=\"translate(360.7,0)\">Aug 5</text></g><g class=\"xtick\"><text text-anchor=\"middle\" x=\"0\" y=\"433\" style=\"font-family: 'Open Sans', verdana, arial, sans-serif; font-size: 12px; fill: rgb(42, 63, 95); fill-opacity: 1; white-space: pre; opacity: 1;\" transform=\"translate(430.88,0)\">Aug 6</text></g><g class=\"xtick\"><text text-anchor=\"middle\" x=\"0\" y=\"433\" style=\"font-family: 'Open Sans', verdana, arial, sans-serif; font-size: 12px; fill: rgb(42, 63, 95); fill-opacity: 1; white-space: pre; opacity: 1;\" transform=\"translate(501.07,0)\">Aug 7</text></g><g class=\"xtick\"><text text-anchor=\"middle\" x=\"0\" y=\"433\" style=\"font-family: 'Open Sans', verdana, arial, sans-serif; font-size: 12px; fill: rgb(42, 63, 95); fill-opacity: 1; white-space: pre; opacity: 1;\" transform=\"translate(571.26,0)\">Aug 8</text></g></g><g class=\"yaxislayer-above\"><g class=\"ytick\"><text text-anchor=\"end\" x=\"79\" y=\"4.199999999999999\" transform=\"translate(0,406.37)\" style=\"font-family: 'Open Sans', verdana, arial, sans-serif; font-size: 12px; fill: rgb(42, 63, 95); fill-opacity: 1; white-space: pre; opacity: 1;\">0</text></g><g class=\"ytick\"><text text-anchor=\"end\" x=\"79\" y=\"4.199999999999999\" style=\"font-family: 'Open Sans', verdana, arial, sans-serif; font-size: 12px; fill: rgb(42, 63, 95); fill-opacity: 1; white-space: pre; opacity: 1;\" transform=\"translate(0,346.9)\">50k</text></g><g class=\"ytick\"><text text-anchor=\"end\" x=\"79\" y=\"4.199999999999999\" style=\"font-family: 'Open Sans', verdana, arial, sans-serif; font-size: 12px; fill: rgb(42, 63, 95); fill-opacity: 1; white-space: pre; opacity: 1;\" transform=\"translate(0,287.43)\">100k</text></g><g class=\"ytick\"><text text-anchor=\"end\" x=\"79\" y=\"4.199999999999999\" style=\"font-family: 'Open Sans', verdana, arial, sans-serif; font-size: 12px; fill: rgb(42, 63, 95); fill-opacity: 1; white-space: pre; opacity: 1;\" transform=\"translate(0,227.95)\">150k</text></g><g class=\"ytick\"><text text-anchor=\"end\" x=\"79\" y=\"4.199999999999999\" style=\"font-family: 'Open Sans', verdana, arial, sans-serif; font-size: 12px; fill: rgb(42, 63, 95); fill-opacity: 1; white-space: pre; opacity: 1;\" transform=\"translate(0,168.48000000000002)\">200k</text></g><g class=\"ytick\"><text text-anchor=\"end\" x=\"79\" y=\"4.199999999999999\" style=\"font-family: 'Open Sans', verdana, arial, sans-serif; font-size: 12px; fill: rgb(42, 63, 95); fill-opacity: 1; white-space: pre; opacity: 1;\" transform=\"translate(0,109.01)\">250k</text></g></g><g class=\"overaxes-above\"/></g></g><g class=\"polarlayer\"/><g class=\"smithlayer\"/><g class=\"ternarylayer\"/><g class=\"geolayer\"/><g class=\"funnelarealayer\"/><g class=\"pielayer\"/><g class=\"iciclelayer\"/><g class=\"treemaplayer\"/><g class=\"sunburstlayer\"/><g class=\"glimages\"><image xmlns=\"http://www.w3.org/2000/svg\" xlink:href=\"data:image/png;base64,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\" preserveAspectRatio=\"none\" x=\"0\" y=\"0\" width=\"700px\" height=\"500px\"/><image xmlns=\"http://www.w3.org/2000/svg\" xlink:href=\"data:image/png;base64,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\" preserveAspectRatio=\"none\" x=\"0\" y=\"0\" width=\"700px\" height=\"500px\"/></g><defs id=\"topdefs-350f63\"><g class=\"clips\"/><clipPath id=\"legend350f63\"><rect width=\"106\" height=\"86\" x=\"0\" y=\"0\"/></clipPath></defs><g class=\"layer-above\"><g class=\"imagelayer\"/><g class=\"shapelayer\"/></g><g class=\"infolayer\"><g class=\"legend\" pointer-events=\"all\" transform=\"translate(581.84,100)\"><rect class=\"bg\" shape-rendering=\"crispEdges\" width=\"106\" height=\"86\" x=\"0\" y=\"0\" style=\"stroke: rgb(68, 68, 68); stroke-opacity: 1; fill: rgb(255, 255, 255); fill-opacity: 1; stroke-width: 0px;\"/><g class=\"scrollbox\" transform=\"\" clip-path=\"url(#legend350f63)\"><text class=\"legendtitletext\" text-anchor=\"start\" x=\"2\" y=\"18.2\" style=\"font-family: 'Open Sans', verdana, arial, sans-serif; font-size: 14px; fill: rgb(42, 63, 95); fill-opacity: 1; white-space: pre;\">experiment_id</text><g class=\"groups\" transform=\"\"><g class=\"traces\" transform=\"translate(0,32.7)\" style=\"opacity: 1;\"><text class=\"legendtext\" text-anchor=\"start\" x=\"40\" y=\"4.680000000000001\" style=\"font-family: 'Open Sans', verdana, arial, sans-serif; font-size: 12px; fill: rgb(42, 63, 95); fill-opacity: 1; white-space: pre;\">247</text><g class=\"layers\" style=\"opacity: 1;\"><g class=\"legendfill\"/><g class=\"legendlines\"><path class=\"js-line\" d=\"M5,0h30\" style=\"fill: none; stroke: rgb(99, 110, 250); stroke-opacity: 1; stroke-width: 2px;\"/></g><g class=\"legendsymbols\"><g class=\"legendpoints\"/></g></g><rect class=\"legendtoggle\" x=\"0\" y=\"-9.5\" width=\"63.265625\" height=\"19\" style=\"fill: rgb(0, 0, 0); fill-opacity: 0;\"/></g></g><g class=\"groups\" transform=\"\"><g class=\"traces\" transform=\"translate(0,51.7)\" style=\"opacity: 1;\"><text class=\"legendtext\" text-anchor=\"start\" x=\"40\" y=\"4.680000000000001\" style=\"font-family: 'Open Sans', verdana, arial, sans-serif; font-size: 12px; fill: rgb(42, 63, 95); fill-opacity: 1; white-space: pre;\">248</text><g class=\"layers\" style=\"opacity: 1;\"><g class=\"legendfill\"/><g class=\"legendlines\"><path class=\"js-line\" d=\"M5,0h30\" style=\"fill: none; stroke: rgb(239, 85, 59); stroke-opacity: 1; stroke-width: 2px;\"/></g><g class=\"legendsymbols\"><g class=\"legendpoints\"/></g></g><rect class=\"legendtoggle\" x=\"0\" y=\"-9.5\" width=\"63.265625\" height=\"19\" style=\"fill: rgb(0, 0, 0); fill-opacity: 0;\"/></g></g><g class=\"groups\" transform=\"\"><g class=\"traces\" transform=\"translate(0,70.7)\" style=\"opacity: 1;\"><text class=\"legendtext\" text-anchor=\"start\" x=\"40\" y=\"4.680000000000001\" style=\"font-family: 'Open Sans', verdana, arial, sans-serif; font-size: 12px; fill: rgb(42, 63, 95); fill-opacity: 1; white-space: pre;\">246</text><g class=\"layers\" style=\"opacity: 1;\"><g class=\"legendfill\"/><g class=\"legendlines\"><path class=\"js-line\" d=\"M5,0h30\" style=\"fill: none; stroke: rgb(0, 204, 150); stroke-opacity: 1; stroke-width: 2px;\"/></g><g class=\"legendsymbols\"><g class=\"legendpoints\"/></g></g><rect class=\"legendtoggle\" x=\"0\" y=\"-9.5\" width=\"63.265625\" height=\"19\" style=\"fill: rgb(0, 0, 0); fill-opacity: 0;\"/></g></g></g><rect class=\"scrollbar\" rx=\"20\" ry=\"3\" width=\"0\" height=\"0\" x=\"0\" y=\"0\" style=\"fill: rgb(128, 139, 164); fill-opacity: 1;\"/></g><g class=\"g-gtitle\"><text class=\"gtitle\" x=\"35\" y=\"50\" text-anchor=\"start\" dy=\"0em\" style=\"font-family: 'Open Sans', verdana, arial, sans-serif; font-size: 17px; fill: rgb(42, 63, 95); opacity: 1; font-weight: normal; white-space: pre;\">duration of the test</text></g><g class=\"g-xtitle\"><text class=\"xtitle\" x=\"326\" y=\"476.409375\" text-anchor=\"middle\" style=\"font-family: 'Open Sans', verdana, arial, sans-serif; font-size: 14px; fill: rgb(42, 63, 95); opacity: 1; font-weight: normal; white-space: pre;\">timestamp</text></g><g class=\"g-ytitle\"><text class=\"ytitle\" transform=\"rotate(-90,24.200000000000003,260)\" x=\"24.200000000000003\" y=\"260\" text-anchor=\"middle\" style=\"font-family: 'Open Sans', verdana, arial, sans-serif; font-size: 14px; fill: rgb(42, 63, 95); opacity: 1; font-weight: normal; white-space: pre;\">index</text></g></g></svg>"
      ]
     },
     "metadata": {},
     "output_type": "display_data"
    }
   ],
   "source": [
    "fig = px.line(df, x=\"timestamp\",  color='experiment_id', title='duration of the test')\n",
    "fig.show(renderer=\"svg\")"
   ]
  },
  {
   "cell_type": "code",
   "execution_count": 45,
   "id": "11ff98cc",
   "metadata": {},
   "outputs": [
    {
     "data": {
      "text/plain": [
       "6232"
      ]
     },
     "execution_count": 45,
     "metadata": {},
     "output_type": "execute_result"
    }
   ],
   "source": [
    "df.user_id.nunique()"
   ]
  },
  {
   "cell_type": "code",
   "execution_count": 46,
   "id": "f9ffe318",
   "metadata": {},
   "outputs": [
    {
     "data": {
      "text/plain": [
       "5"
      ]
     },
     "execution_count": 46,
     "metadata": {},
     "output_type": "execute_result"
    }
   ],
   "source": [
    "df.event_name.nunique()"
   ]
  },
  {
   "cell_type": "code",
   "execution_count": 47,
   "id": "81d32747",
   "metadata": {},
   "outputs": [
    {
     "data": {
      "text/plain": [
       "3"
      ]
     },
     "execution_count": 47,
     "metadata": {},
     "output_type": "execute_result"
    }
   ],
   "source": [
    "df.experiment_id.nunique()\n"
   ]
  },
  {
   "cell_type": "code",
   "execution_count": 48,
   "id": "b41481c1",
   "metadata": {},
   "outputs": [
    {
     "data": {
      "text/plain": [
       "event_name\n",
       "4    2448\n",
       "1    2186\n",
       "2     861\n",
       "5     467\n",
       "3     270\n",
       "Name: count, dtype: int64"
      ]
     },
     "execution_count": 48,
     "metadata": {},
     "output_type": "execute_result"
    }
   ],
   "source": [
    "total_un_events_2=df.groupby(['user_id'])['event_name'].nunique().reset_index()['event_name'].value_counts()\n",
    "total_un_events_2"
   ]
  },
  {
   "cell_type": "code",
   "execution_count": 49,
   "id": "f19a5470",
   "metadata": {},
   "outputs": [],
   "source": [
    "data = pd.DataFrame(columns = ['unique_events_1', 'unique_events_2'])"
   ]
  },
  {
   "cell_type": "code",
   "execution_count": 50,
   "id": "dcbb6ba7",
   "metadata": {},
   "outputs": [],
   "source": [
    "data['unique_events_1'] = total_un_events\n",
    "\n",
    "data['unique_events_2'] = total_un_events_2"
   ]
  },
  {
   "cell_type": "code",
   "execution_count": 51,
   "id": "f54a7e34",
   "metadata": {},
   "outputs": [
    {
     "data": {
      "text/html": [
       "<div>\n",
       "<style scoped>\n",
       "    .dataframe tbody tr th:only-of-type {\n",
       "        vertical-align: middle;\n",
       "    }\n",
       "\n",
       "    .dataframe tbody tr th {\n",
       "        vertical-align: top;\n",
       "    }\n",
       "\n",
       "    .dataframe thead th {\n",
       "        text-align: right;\n",
       "    }\n",
       "</style>\n",
       "<table border=\"1\" class=\"dataframe\">\n",
       "  <thead>\n",
       "    <tr style=\"text-align: right;\">\n",
       "      <th></th>\n",
       "      <th>unique_events_1</th>\n",
       "      <th>unique_events_2</th>\n",
       "      <th>unique_events_loss</th>\n",
       "    </tr>\n",
       "    <tr>\n",
       "      <th>event_name</th>\n",
       "      <th></th>\n",
       "      <th></th>\n",
       "      <th></th>\n",
       "    </tr>\n",
       "  </thead>\n",
       "  <tbody>\n",
       "    <tr>\n",
       "      <th>4</th>\n",
       "      <td>3035</td>\n",
       "      <td>2448</td>\n",
       "      <td>587</td>\n",
       "    </tr>\n",
       "    <tr>\n",
       "      <th>1</th>\n",
       "      <td>2707</td>\n",
       "      <td>2186</td>\n",
       "      <td>521</td>\n",
       "    </tr>\n",
       "    <tr>\n",
       "      <th>2</th>\n",
       "      <td>1021</td>\n",
       "      <td>861</td>\n",
       "      <td>160</td>\n",
       "    </tr>\n",
       "    <tr>\n",
       "      <th>5</th>\n",
       "      <td>471</td>\n",
       "      <td>467</td>\n",
       "      <td>4</td>\n",
       "    </tr>\n",
       "    <tr>\n",
       "      <th>3</th>\n",
       "      <td>317</td>\n",
       "      <td>270</td>\n",
       "      <td>47</td>\n",
       "    </tr>\n",
       "  </tbody>\n",
       "</table>\n",
       "</div>"
      ],
      "text/plain": [
       "            unique_events_1  unique_events_2  unique_events_loss\n",
       "event_name                                                      \n",
       "4                      3035             2448                 587\n",
       "1                      2707             2186                 521\n",
       "2                      1021              861                 160\n",
       "5                       471              467                   4\n",
       "3                       317              270                  47"
      ]
     },
     "execution_count": 51,
     "metadata": {},
     "output_type": "execute_result"
    }
   ],
   "source": [
    "data['unique_events_loss']=data['unique_events_1']-data['unique_events_2'] \n",
    "data"
   ]
  },
  {
   "cell_type": "code",
   "execution_count": 52,
   "id": "ade09aab",
   "metadata": {},
   "outputs": [
    {
     "data": {
      "text/plain": [
       "1319"
      ]
     },
     "execution_count": 52,
     "metadata": {},
     "output_type": "execute_result"
    }
   ],
   "source": [
    "data['unique_events_loss'].sum()"
   ]
  },
  {
   "cell_type": "code",
   "execution_count": 53,
   "id": "a17501df",
   "metadata": {},
   "outputs": [
    {
     "data": {
      "text/plain": [
       "7551"
      ]
     },
     "execution_count": 53,
     "metadata": {},
     "output_type": "execute_result"
    }
   ],
   "source": [
    "data['unique_events_1'].sum()"
   ]
  },
  {
   "cell_type": "code",
   "execution_count": 54,
   "id": "dced5f56",
   "metadata": {},
   "outputs": [
    {
     "data": {
      "text/plain": [
       "6232"
      ]
     },
     "execution_count": 54,
     "metadata": {},
     "output_type": "execute_result"
    }
   ],
   "source": [
    "data['unique_events_2'].sum()"
   ]
  },
  {
   "cell_type": "code",
   "execution_count": 55,
   "id": "a299e431",
   "metadata": {},
   "outputs": [
    {
     "data": {
      "text/plain": [
       "17.46788504833797"
      ]
     },
     "execution_count": 55,
     "metadata": {},
     "output_type": "execute_result"
    }
   ],
   "source": [
    "(data['unique_events_loss'].sum()/data['unique_events_1'].sum()) *100"
   ]
  },
  {
   "cell_type": "markdown",
   "id": "3a949a09",
   "metadata": {},
   "source": [
    "We lost 1319 events, with a percentage of 17.5."
   ]
  },
  {
   "cell_type": "markdown",
   "id": "592ad116",
   "metadata": {},
   "source": [
    "It's s a considerable amount, however, we cannot account for this data, we can't rely on them and they're not consistent with the rest of the test, so i's a better option to remove them."
   ]
  },
  {
   "cell_type": "markdown",
   "id": "8a7bb444",
   "metadata": {},
   "source": [
    "# Step 4. Study the event funnel\n",
    "\n",
    "* See what events are in the logs and their frequency of occurrence. Sort them by frequency.\n",
    "* Find the number of users who performed each of these actions. Sort the events by the number of users. Calculate the proportion of users who performed the action at least once.\n",
    "* In what order do you think the actions took place. Are all of them part of a single sequence? You don't need to take them into account when calculating the funnel.\n",
    "* Use the event funnel to find the share of users that proceed from each stage to the next. (For instance, for the sequence of events A → B → C, calculate the ratio of users at stage B to the number of users at stage A and the ratio of users at stage C to the number at stage B.)\n",
    "* At what stage do you lose the most users?\n",
    "What share of users make the entire journey from their first event to payment?"
   ]
  },
  {
   "cell_type": "markdown",
   "id": "92788038",
   "metadata": {},
   "source": [
    "##### See what events are in the logs and their frequency of occurrence. Sort them by frequency."
   ]
  },
  {
   "cell_type": "code",
   "execution_count": 56,
   "id": "afa056f2",
   "metadata": {},
   "outputs": [
    {
     "data": {
      "text/plain": [
       "event_name\n",
       "MainScreenAppear           92879\n",
       "OffersScreenAppear         38693\n",
       "CartScreenAppear           33383\n",
       "PaymentScreenSuccessful    26656\n",
       "Tutorial                    1034\n",
       "Name: user_id, dtype: int64"
      ]
     },
     "execution_count": 56,
     "metadata": {},
     "output_type": "execute_result"
    }
   ],
   "source": [
    "df.groupby(['event_name'])['user_id'].count().sort_values(ascending=False)"
   ]
  },
  {
   "cell_type": "markdown",
   "id": "6298de45",
   "metadata": {},
   "source": [
    "##### Find the number of users who performed each of these actions. Sort the events by the number of users. Calculate the proportion of users who performed the action at least once."
   ]
  },
  {
   "cell_type": "code",
   "execution_count": 57,
   "id": "facaba07",
   "metadata": {},
   "outputs": [
    {
     "data": {
      "text/plain": [
       "event_name\n",
       "MainScreenAppear           6147\n",
       "OffersScreenAppear         3836\n",
       "CartScreenAppear           3095\n",
       "PaymentScreenSuccessful    2931\n",
       "Tutorial                    836\n",
       "Name: user_id, dtype: int64"
      ]
     },
     "execution_count": 57,
     "metadata": {},
     "output_type": "execute_result"
    }
   ],
   "source": [
    "df.groupby(['event_name'])['user_id'].nunique().sort_values(ascending=False)"
   ]
  },
  {
   "cell_type": "code",
   "execution_count": 58,
   "id": "4e81f70a",
   "metadata": {},
   "outputs": [
    {
     "data": {
      "text/plain": [
       "event_name\n",
       "MainScreenAppear           0.986361\n",
       "OffersScreenAppear         0.615533\n",
       "CartScreenAppear           0.496630\n",
       "PaymentScreenSuccessful    0.470315\n",
       "Tutorial                   0.134146\n",
       "Name: user_id, dtype: float64"
      ]
     },
     "execution_count": 58,
     "metadata": {},
     "output_type": "execute_result"
    }
   ],
   "source": [
    "df.groupby(['event_name'])['user_id'].nunique().sort_values(ascending=False)/df.user_id.nunique()"
   ]
  },
  {
   "cell_type": "markdown",
   "id": "d0a534ef",
   "metadata": {},
   "source": [
    "From the total Users, 47% completed a purchase successfully and we can see that we don't lose many users in the funnel from the cart screen to the payment screen"
   ]
  },
  {
   "cell_type": "markdown",
   "id": "ac2198e1",
   "metadata": {},
   "source": [
    "##### In what order do you think the actions took place: "
   ]
  },
  {
   "cell_type": "markdown",
   "id": "d9028729",
   "metadata": {},
   "source": [
    "The typical order is Main screen, Offers, Cart, Payment, probably with a skippable Tutorial.\n",
    "Actually, some userd cold just have skip ofeers, for example and go directly to payment."
   ]
  },
  {
   "cell_type": "markdown",
   "id": "c40a42fe",
   "metadata": {},
   "source": [
    "it's interesting to study in what order the actions of users took place:"
   ]
  },
  {
   "cell_type": "markdown",
   "id": "68a21bb7",
   "metadata": {},
   "source": [
    "##### Sequence of events"
   ]
  },
  {
   "cell_type": "markdown",
   "id": "cf4bafbb",
   "metadata": {},
   "source": [
    "sort the events(excluding the tutorial) by users and timestamps:"
   ]
  },
  {
   "cell_type": "code",
   "execution_count": 59,
   "id": "c9225cf1",
   "metadata": {},
   "outputs": [],
   "source": [
    "sorted_data=df[df['event_name']!='Tutorial'].sort_values(by=['user_id','timestamp'])"
   ]
  },
  {
   "cell_type": "code",
   "execution_count": 60,
   "id": "12e724c3",
   "metadata": {},
   "outputs": [
    {
     "data": {
      "text/html": [
       "<div>\n",
       "<style scoped>\n",
       "    .dataframe tbody tr th:only-of-type {\n",
       "        vertical-align: middle;\n",
       "    }\n",
       "\n",
       "    .dataframe tbody tr th {\n",
       "        vertical-align: top;\n",
       "    }\n",
       "\n",
       "    .dataframe thead th {\n",
       "        text-align: right;\n",
       "    }\n",
       "</style>\n",
       "<table border=\"1\" class=\"dataframe\">\n",
       "  <thead>\n",
       "    <tr style=\"text-align: right;\">\n",
       "      <th></th>\n",
       "      <th>event_name</th>\n",
       "      <th>user_id</th>\n",
       "      <th>timestamp</th>\n",
       "      <th>experiment_id</th>\n",
       "      <th>date</th>\n",
       "    </tr>\n",
       "  </thead>\n",
       "  <tbody>\n",
       "    <tr>\n",
       "      <th>98791</th>\n",
       "      <td>MainScreenAppear</td>\n",
       "      <td>2274620093933048966</td>\n",
       "      <td>2019-08-03 18:55:03</td>\n",
       "      <td>248</td>\n",
       "      <td>2019-08-03</td>\n",
       "    </tr>\n",
       "    <tr>\n",
       "      <th>132194</th>\n",
       "      <td>MainScreenAppear</td>\n",
       "      <td>3041995274047263770</td>\n",
       "      <td>2019-08-04 19:20:15</td>\n",
       "      <td>247</td>\n",
       "      <td>2019-08-04</td>\n",
       "    </tr>\n",
       "    <tr>\n",
       "      <th>26815</th>\n",
       "      <td>MainScreenAppear</td>\n",
       "      <td>6839613413760488514</td>\n",
       "      <td>2019-08-01 18:38:27</td>\n",
       "      <td>246</td>\n",
       "      <td>2019-08-01</td>\n",
       "    </tr>\n",
       "    <tr>\n",
       "      <th>136030</th>\n",
       "      <td>MainScreenAppear</td>\n",
       "      <td>1565685220683527046</td>\n",
       "      <td>2019-08-04 21:06:56</td>\n",
       "      <td>247</td>\n",
       "      <td>2019-08-04</td>\n",
       "    </tr>\n",
       "    <tr>\n",
       "      <th>223477</th>\n",
       "      <td>PaymentScreenSuccessful</td>\n",
       "      <td>4388856809028994842</td>\n",
       "      <td>2019-08-07 13:17:51</td>\n",
       "      <td>246</td>\n",
       "      <td>2019-08-07</td>\n",
       "    </tr>\n",
       "  </tbody>\n",
       "</table>\n",
       "</div>"
      ],
      "text/plain": [
       "                     event_name              user_id           timestamp  \\\n",
       "98791          MainScreenAppear  2274620093933048966 2019-08-03 18:55:03   \n",
       "132194         MainScreenAppear  3041995274047263770 2019-08-04 19:20:15   \n",
       "26815          MainScreenAppear  6839613413760488514 2019-08-01 18:38:27   \n",
       "136030         MainScreenAppear  1565685220683527046 2019-08-04 21:06:56   \n",
       "223477  PaymentScreenSuccessful  4388856809028994842 2019-08-07 13:17:51   \n",
       "\n",
       "        experiment_id        date  \n",
       "98791             248  2019-08-03  \n",
       "132194            247  2019-08-04  \n",
       "26815             246  2019-08-01  \n",
       "136030            247  2019-08-04  \n",
       "223477            246  2019-08-07  "
      ]
     },
     "execution_count": 60,
     "metadata": {},
     "output_type": "execute_result"
    }
   ],
   "source": [
    "sorted_data.sample(5)"
   ]
  },
  {
   "cell_type": "markdown",
   "id": "7e2dc5e2",
   "metadata": {},
   "source": [
    "let's run a random user:"
   ]
  },
  {
   "cell_type": "code",
   "execution_count": 61,
   "id": "6da954e7",
   "metadata": {},
   "outputs": [
    {
     "data": {
      "text/html": [
       "<div>\n",
       "<style scoped>\n",
       "    .dataframe tbody tr th:only-of-type {\n",
       "        vertical-align: middle;\n",
       "    }\n",
       "\n",
       "    .dataframe tbody tr th {\n",
       "        vertical-align: top;\n",
       "    }\n",
       "\n",
       "    .dataframe thead th {\n",
       "        text-align: right;\n",
       "    }\n",
       "</style>\n",
       "<table border=\"1\" class=\"dataframe\">\n",
       "  <thead>\n",
       "    <tr style=\"text-align: right;\">\n",
       "      <th></th>\n",
       "      <th>event_name</th>\n",
       "      <th>user_id</th>\n",
       "      <th>timestamp</th>\n",
       "      <th>experiment_id</th>\n",
       "      <th>date</th>\n",
       "    </tr>\n",
       "  </thead>\n",
       "  <tbody>\n",
       "    <tr>\n",
       "      <th>4502</th>\n",
       "      <td>OffersScreenAppear</td>\n",
       "      <td>6932517045703054087</td>\n",
       "      <td>2019-08-01 07:25:03</td>\n",
       "      <td>248</td>\n",
       "      <td>2019-08-01</td>\n",
       "    </tr>\n",
       "    <tr>\n",
       "      <th>4511</th>\n",
       "      <td>OffersScreenAppear</td>\n",
       "      <td>6932517045703054087</td>\n",
       "      <td>2019-08-01 07:25:51</td>\n",
       "      <td>248</td>\n",
       "      <td>2019-08-01</td>\n",
       "    </tr>\n",
       "    <tr>\n",
       "      <th>4524</th>\n",
       "      <td>OffersScreenAppear</td>\n",
       "      <td>6932517045703054087</td>\n",
       "      <td>2019-08-01 07:26:33</td>\n",
       "      <td>248</td>\n",
       "      <td>2019-08-01</td>\n",
       "    </tr>\n",
       "    <tr>\n",
       "      <th>8365</th>\n",
       "      <td>OffersScreenAppear</td>\n",
       "      <td>6932517045703054087</td>\n",
       "      <td>2019-08-01 10:29:25</td>\n",
       "      <td>248</td>\n",
       "      <td>2019-08-01</td>\n",
       "    </tr>\n",
       "    <tr>\n",
       "      <th>8607</th>\n",
       "      <td>OffersScreenAppear</td>\n",
       "      <td>6932517045703054087</td>\n",
       "      <td>2019-08-01 10:38:00</td>\n",
       "      <td>248</td>\n",
       "      <td>2019-08-01</td>\n",
       "    </tr>\n",
       "    <tr>\n",
       "      <th>...</th>\n",
       "      <td>...</td>\n",
       "      <td>...</td>\n",
       "      <td>...</td>\n",
       "      <td>...</td>\n",
       "      <td>...</td>\n",
       "    </tr>\n",
       "    <tr>\n",
       "      <th>241014</th>\n",
       "      <td>CartScreenAppear</td>\n",
       "      <td>6932517045703054087</td>\n",
       "      <td>2019-08-07 21:45:34</td>\n",
       "      <td>248</td>\n",
       "      <td>2019-08-07</td>\n",
       "    </tr>\n",
       "    <tr>\n",
       "      <th>241044</th>\n",
       "      <td>OffersScreenAppear</td>\n",
       "      <td>6932517045703054087</td>\n",
       "      <td>2019-08-07 21:46:24</td>\n",
       "      <td>248</td>\n",
       "      <td>2019-08-07</td>\n",
       "    </tr>\n",
       "    <tr>\n",
       "      <th>241047</th>\n",
       "      <td>OffersScreenAppear</td>\n",
       "      <td>6932517045703054087</td>\n",
       "      <td>2019-08-07 21:46:26</td>\n",
       "      <td>248</td>\n",
       "      <td>2019-08-07</td>\n",
       "    </tr>\n",
       "    <tr>\n",
       "      <th>241213</th>\n",
       "      <td>OffersScreenAppear</td>\n",
       "      <td>6932517045703054087</td>\n",
       "      <td>2019-08-07 21:49:22</td>\n",
       "      <td>248</td>\n",
       "      <td>2019-08-07</td>\n",
       "    </tr>\n",
       "    <tr>\n",
       "      <th>243084</th>\n",
       "      <td>OffersScreenAppear</td>\n",
       "      <td>6932517045703054087</td>\n",
       "      <td>2019-08-07 22:58:43</td>\n",
       "      <td>248</td>\n",
       "      <td>2019-08-07</td>\n",
       "    </tr>\n",
       "  </tbody>\n",
       "</table>\n",
       "<p>1448 rows × 5 columns</p>\n",
       "</div>"
      ],
      "text/plain": [
       "                event_name              user_id           timestamp  \\\n",
       "4502    OffersScreenAppear  6932517045703054087 2019-08-01 07:25:03   \n",
       "4511    OffersScreenAppear  6932517045703054087 2019-08-01 07:25:51   \n",
       "4524    OffersScreenAppear  6932517045703054087 2019-08-01 07:26:33   \n",
       "8365    OffersScreenAppear  6932517045703054087 2019-08-01 10:29:25   \n",
       "8607    OffersScreenAppear  6932517045703054087 2019-08-01 10:38:00   \n",
       "...                    ...                  ...                 ...   \n",
       "241014    CartScreenAppear  6932517045703054087 2019-08-07 21:45:34   \n",
       "241044  OffersScreenAppear  6932517045703054087 2019-08-07 21:46:24   \n",
       "241047  OffersScreenAppear  6932517045703054087 2019-08-07 21:46:26   \n",
       "241213  OffersScreenAppear  6932517045703054087 2019-08-07 21:49:22   \n",
       "243084  OffersScreenAppear  6932517045703054087 2019-08-07 22:58:43   \n",
       "\n",
       "        experiment_id        date  \n",
       "4502              248  2019-08-01  \n",
       "4511              248  2019-08-01  \n",
       "4524              248  2019-08-01  \n",
       "8365              248  2019-08-01  \n",
       "8607              248  2019-08-01  \n",
       "...               ...         ...  \n",
       "241014            248  2019-08-07  \n",
       "241044            248  2019-08-07  \n",
       "241047            248  2019-08-07  \n",
       "241213            248  2019-08-07  \n",
       "243084            248  2019-08-07  \n",
       "\n",
       "[1448 rows x 5 columns]"
      ]
     },
     "execution_count": 61,
     "metadata": {},
     "output_type": "execute_result"
    }
   ],
   "source": [
    "sorted_data[sorted_data.user_id==6932517045703054087]"
   ]
  },
  {
   "cell_type": "markdown",
   "id": "9daef472",
   "metadata": {},
   "source": [
    "let's create a sequence of user actions:"
   ]
  },
  {
   "cell_type": "code",
   "execution_count": 62,
   "id": "926fdb37",
   "metadata": {},
   "outputs": [],
   "source": [
    "def sequence(user):\n",
    "    sorted_user=sorted_data[sorted_data['user_id']==user].sort_values(by=['user_id','timestamp'])\n",
    "    return sorted_user['event_name'].drop_duplicates().to_list()"
   ]
  },
  {
   "cell_type": "code",
   "execution_count": 63,
   "id": "d913e693",
   "metadata": {},
   "outputs": [
    {
     "data": {
      "text/plain": [
       "['OffersScreenAppear',\n",
       " 'PaymentScreenSuccessful',\n",
       " 'CartScreenAppear',\n",
       " 'MainScreenAppear']"
      ]
     },
     "execution_count": 63,
     "metadata": {},
     "output_type": "execute_result"
    }
   ],
   "source": [
    "sequence(6932517045703054087)"
   ]
  },
  {
   "cell_type": "markdown",
   "id": "b9b2178d",
   "metadata": {},
   "source": [
    "not the typical path, maybe they clicked on some links"
   ]
  },
  {
   "cell_type": "markdown",
   "id": "8ae236c5",
   "metadata": {},
   "source": [
    "I will create a df with the unique path for each user: create an empty df( sequence empty), then, for every user in sorted_data, I apply the used id and it's path to sequence_empty:"
   ]
  },
  {
   "cell_type": "code",
   "execution_count": 64,
   "id": "aeb16e1d",
   "metadata": {},
   "outputs": [],
   "source": [
    "sequence_empty=[]\n",
    "for i in sorted_data.user_id.unique():\n",
    "    sequence_empty.append([i,sequence(i)])"
   ]
  },
  {
   "cell_type": "code",
   "execution_count": 65,
   "id": "b160b735",
   "metadata": {},
   "outputs": [
    {
     "data": {
      "text/html": [
       "<div>\n",
       "<style scoped>\n",
       "    .dataframe tbody tr th:only-of-type {\n",
       "        vertical-align: middle;\n",
       "    }\n",
       "\n",
       "    .dataframe tbody tr th {\n",
       "        vertical-align: top;\n",
       "    }\n",
       "\n",
       "    .dataframe thead th {\n",
       "        text-align: right;\n",
       "    }\n",
       "</style>\n",
       "<table border=\"1\" class=\"dataframe\">\n",
       "  <thead>\n",
       "    <tr style=\"text-align: right;\">\n",
       "      <th></th>\n",
       "      <th>user</th>\n",
       "      <th>path</th>\n",
       "    </tr>\n",
       "  </thead>\n",
       "  <tbody>\n",
       "    <tr>\n",
       "      <th>0</th>\n",
       "      <td>6888746892508752</td>\n",
       "      <td>[MainScreenAppear]</td>\n",
       "    </tr>\n",
       "    <tr>\n",
       "      <th>1</th>\n",
       "      <td>6909561520679493</td>\n",
       "      <td>[MainScreenAppear, PaymentScreenSuccessful, Ca...</td>\n",
       "    </tr>\n",
       "    <tr>\n",
       "      <th>2</th>\n",
       "      <td>6922444491712477</td>\n",
       "      <td>[MainScreenAppear, PaymentScreenSuccessful, Ca...</td>\n",
       "    </tr>\n",
       "    <tr>\n",
       "      <th>3</th>\n",
       "      <td>7435777799948366</td>\n",
       "      <td>[MainScreenAppear]</td>\n",
       "    </tr>\n",
       "    <tr>\n",
       "      <th>4</th>\n",
       "      <td>7702139951469979</td>\n",
       "      <td>[MainScreenAppear, OffersScreenAppear, CartScr...</td>\n",
       "    </tr>\n",
       "    <tr>\n",
       "      <th>...</th>\n",
       "      <td>...</td>\n",
       "      <td>...</td>\n",
       "    </tr>\n",
       "    <tr>\n",
       "      <th>6223</th>\n",
       "      <td>9216094175241772920</td>\n",
       "      <td>[MainScreenAppear]</td>\n",
       "    </tr>\n",
       "    <tr>\n",
       "      <th>6224</th>\n",
       "      <td>9217594193087726423</td>\n",
       "      <td>[PaymentScreenSuccessful, CartScreenAppear, Of...</td>\n",
       "    </tr>\n",
       "    <tr>\n",
       "      <th>6225</th>\n",
       "      <td>9219463515465815368</td>\n",
       "      <td>[MainScreenAppear, OffersScreenAppear, CartScr...</td>\n",
       "    </tr>\n",
       "    <tr>\n",
       "      <th>6226</th>\n",
       "      <td>9221926045299980007</td>\n",
       "      <td>[MainScreenAppear]</td>\n",
       "    </tr>\n",
       "    <tr>\n",
       "      <th>6227</th>\n",
       "      <td>9222603179720523844</td>\n",
       "      <td>[MainScreenAppear]</td>\n",
       "    </tr>\n",
       "  </tbody>\n",
       "</table>\n",
       "<p>6228 rows × 2 columns</p>\n",
       "</div>"
      ],
      "text/plain": [
       "                     user                                               path\n",
       "0        6888746892508752                                 [MainScreenAppear]\n",
       "1        6909561520679493  [MainScreenAppear, PaymentScreenSuccessful, Ca...\n",
       "2        6922444491712477  [MainScreenAppear, PaymentScreenSuccessful, Ca...\n",
       "3        7435777799948366                                 [MainScreenAppear]\n",
       "4        7702139951469979  [MainScreenAppear, OffersScreenAppear, CartScr...\n",
       "...                   ...                                                ...\n",
       "6223  9216094175241772920                                 [MainScreenAppear]\n",
       "6224  9217594193087726423  [PaymentScreenSuccessful, CartScreenAppear, Of...\n",
       "6225  9219463515465815368  [MainScreenAppear, OffersScreenAppear, CartScr...\n",
       "6226  9221926045299980007                                 [MainScreenAppear]\n",
       "6227  9222603179720523844                                 [MainScreenAppear]\n",
       "\n",
       "[6228 rows x 2 columns]"
      ]
     },
     "execution_count": 65,
     "metadata": {},
     "output_type": "execute_result"
    }
   ],
   "source": [
    "path_data=pd.DataFrame(sequence_empty,columns=['user','path'])\n",
    "path_data"
   ]
  },
  {
   "cell_type": "markdown",
   "id": "3b4e4adf",
   "metadata": {},
   "source": [
    "I created a dataframe with the unique path that each user experienced on the website"
   ]
  },
  {
   "cell_type": "code",
   "execution_count": 66,
   "id": "fd787dcc",
   "metadata": {},
   "outputs": [
    {
     "data": {
      "text/plain": [
       "path\n",
       "[MainScreenAppear]                                                                   2350\n",
       "[MainScreenAppear, OffersScreenAppear, CartScreenAppear, PaymentScreenSuccessful]     771\n",
       "[MainScreenAppear, OffersScreenAppear]                                                748\n",
       "[MainScreenAppear, OffersScreenAppear, PaymentScreenSuccessful, CartScreenAppear]     631\n",
       "[MainScreenAppear, PaymentScreenSuccessful, CartScreenAppear, OffersScreenAppear]     552\n",
       "[MainScreenAppear, CartScreenAppear, PaymentScreenSuccessful, OffersScreenAppear]     426\n",
       "[MainScreenAppear, CartScreenAppear, OffersScreenAppear, PaymentScreenSuccessful]     218\n",
       "[MainScreenAppear, OffersScreenAppear, CartScreenAppear]                               78\n",
       "[OffersScreenAppear, MainScreenAppear, PaymentScreenSuccessful, CartScreenAppear]      59\n",
       "[OffersScreenAppear, PaymentScreenSuccessful, CartScreenAppear, MainScreenAppear]      51\n",
       "[MainScreenAppear, CartScreenAppear, OffersScreenAppear]                               45\n",
       "[MainScreenAppear, CartScreenAppear]                                                   36\n",
       "[PaymentScreenSuccessful, CartScreenAppear, OffersScreenAppear, MainScreenAppear]      34\n",
       "[OffersScreenAppear, PaymentScreenSuccessful, CartScreenAppear]                        26\n",
       "[PaymentScreenSuccessful, CartScreenAppear, OffersScreenAppear]                        25\n",
       "[OffersScreenAppear, MainScreenAppear]                                                 25\n",
       "[OffersScreenAppear, MainScreenAppear, CartScreenAppear, PaymentScreenSuccessful]      22\n",
       "[OffersScreenAppear, CartScreenAppear, PaymentScreenSuccessful, MainScreenAppear]      20\n",
       "[PaymentScreenSuccessful, CartScreenAppear, MainScreenAppear, OffersScreenAppear]      13\n",
       "[CartScreenAppear, PaymentScreenSuccessful, MainScreenAppear, OffersScreenAppear]       9\n",
       "[CartScreenAppear, MainScreenAppear, PaymentScreenSuccessful, OffersScreenAppear]       9\n",
       "[OffersScreenAppear, CartScreenAppear, PaymentScreenSuccessful]                         8\n",
       "[CartScreenAppear, PaymentScreenSuccessful, OffersScreenAppear]                         8\n",
       "[OffersScreenAppear, CartScreenAppear, MainScreenAppear, PaymentScreenSuccessful]       8\n",
       "[OffersScreenAppear]                                                                    7\n",
       "[CartScreenAppear, PaymentScreenSuccessful, OffersScreenAppear, MainScreenAppear]       7\n",
       "[CartScreenAppear, MainScreenAppear, OffersScreenAppear, PaymentScreenSuccessful]       6\n",
       "[MainScreenAppear, PaymentScreenSuccessful, OffersScreenAppear, CartScreenAppear]       6\n",
       "[MainScreenAppear, CartScreenAppear, PaymentScreenSuccessful]                           4\n",
       "[OffersScreenAppear, MainScreenAppear, CartScreenAppear]                                3\n",
       "[PaymentScreenSuccessful, OffersScreenAppear, CartScreenAppear]                         3\n",
       "[CartScreenAppear, OffersScreenAppear, PaymentScreenSuccessful]                         3\n",
       "[OffersScreenAppear, CartScreenAppear, MainScreenAppear]                                2\n",
       "[MainScreenAppear, PaymentScreenSuccessful, OffersScreenAppear]                         2\n",
       "[CartScreenAppear, OffersScreenAppear, MainScreenAppear, PaymentScreenSuccessful]       2\n",
       "[MainScreenAppear, PaymentScreenSuccessful, CartScreenAppear]                           2\n",
       "[CartScreenAppear, OffersScreenAppear, PaymentScreenSuccessful, MainScreenAppear]       2\n",
       "[CartScreenAppear, OffersScreenAppear, MainScreenAppear]                                1\n",
       "[CartScreenAppear, MainScreenAppear, OffersScreenAppear]                                1\n",
       "[OffersScreenAppear, CartScreenAppear]                                                  1\n",
       "[PaymentScreenSuccessful, MainScreenAppear, OffersScreenAppear]                         1\n",
       "[PaymentScreenSuccessful, OffersScreenAppear, CartScreenAppear, MainScreenAppear]       1\n",
       "[PaymentScreenSuccessful, MainScreenAppear, CartScreenAppear, OffersScreenAppear]       1\n",
       "[PaymentScreenSuccessful, MainScreenAppear, OffersScreenAppear, CartScreenAppear]       1\n",
       "Name: count, dtype: int64"
      ]
     },
     "execution_count": 66,
     "metadata": {},
     "output_type": "execute_result"
    }
   ],
   "source": [
    "path_data['path'].value_counts()"
   ]
  },
  {
   "cell_type": "markdown",
   "id": "ccec271a",
   "metadata": {},
   "source": [
    "the most common path was simply 'MainScreenAppear', followed by the typical path 'MainScreenAppear, OffersScreenAppear, CartScreenAppear, PaymentScreenSuccessful'. there are many path, that suggest that we have some partial informations about some users( example: firt action Payment, it's wierd). "
   ]
  },
  {
   "cell_type": "markdown",
   "id": "303caf83",
   "metadata": {},
   "source": [
    "# Conversion to seen-Conversion to Purchase"
   ]
  },
  {
   "cell_type": "markdown",
   "id": "b68a08a9",
   "metadata": {},
   "source": [
    "<li>Use the event funnel to find the share of users that proceed from each stage to the next. (For instance, for the sequence of events A → B → C, calculate the ratio of users at stage B to the number of users at stage A and the ratio of users at stage C to the number at stage B.)"
   ]
  },
  {
   "cell_type": "markdown",
   "id": "ef41e101",
   "metadata": {},
   "source": [
    "Tutorial is not a required step, it'an an additional, skippable step that the user decide wheter or not to go through after the purchase. for this reason, I am going to exclude it from further calculations."
   ]
  },
  {
   "cell_type": "code",
   "execution_count": 67,
   "id": "c2c5721b",
   "metadata": {},
   "outputs": [
    {
     "data": {
      "text/plain": [
       "array(['MainScreenAppear', 'OffersScreenAppear',\n",
       "       'PaymentScreenSuccessful', 'CartScreenAppear'], dtype=object)"
      ]
     },
     "execution_count": 67,
     "metadata": {},
     "output_type": "execute_result"
    }
   ],
   "source": [
    "df=(df[df['event_name']!='Tutorial'])\n",
    "df.event_name.unique()"
   ]
  },
  {
   "cell_type": "code",
   "execution_count": 68,
   "id": "af8e7ab0",
   "metadata": {},
   "outputs": [
    {
     "data": {
      "text/plain": [
       "4"
      ]
     },
     "execution_count": 68,
     "metadata": {},
     "output_type": "execute_result"
    }
   ],
   "source": [
    "df.event_name.nunique()"
   ]
  },
  {
   "cell_type": "code",
   "execution_count": 69,
   "id": "eee29f89",
   "metadata": {},
   "outputs": [
    {
     "data": {
      "text/html": [
       "<div>\n",
       "<style scoped>\n",
       "    .dataframe tbody tr th:only-of-type {\n",
       "        vertical-align: middle;\n",
       "    }\n",
       "\n",
       "    .dataframe tbody tr th {\n",
       "        vertical-align: top;\n",
       "    }\n",
       "\n",
       "    .dataframe thead th {\n",
       "        text-align: right;\n",
       "    }\n",
       "</style>\n",
       "<table border=\"1\" class=\"dataframe\">\n",
       "  <thead>\n",
       "    <tr style=\"text-align: right;\">\n",
       "      <th></th>\n",
       "      <th>event_name</th>\n",
       "      <th>user_id</th>\n",
       "    </tr>\n",
       "  </thead>\n",
       "  <tbody>\n",
       "    <tr>\n",
       "      <th>0</th>\n",
       "      <td>MainScreenAppear</td>\n",
       "      <td>6147</td>\n",
       "    </tr>\n",
       "    <tr>\n",
       "      <th>1</th>\n",
       "      <td>OffersScreenAppear</td>\n",
       "      <td>3836</td>\n",
       "    </tr>\n",
       "    <tr>\n",
       "      <th>2</th>\n",
       "      <td>CartScreenAppear</td>\n",
       "      <td>3095</td>\n",
       "    </tr>\n",
       "    <tr>\n",
       "      <th>3</th>\n",
       "      <td>PaymentScreenSuccessful</td>\n",
       "      <td>2931</td>\n",
       "    </tr>\n",
       "  </tbody>\n",
       "</table>\n",
       "</div>"
      ],
      "text/plain": [
       "                event_name  user_id\n",
       "0         MainScreenAppear     6147\n",
       "1       OffersScreenAppear     3836\n",
       "2         CartScreenAppear     3095\n",
       "3  PaymentScreenSuccessful     2931"
      ]
     },
     "execution_count": 69,
     "metadata": {},
     "output_type": "execute_result"
    }
   ],
   "source": [
    "funnel_shift=df.groupby(['event_name'])['user_id'].nunique().sort_values(ascending=False).reset_index()\n",
    "funnel_shift"
   ]
  },
  {
   "cell_type": "markdown",
   "id": "0db99760",
   "metadata": {},
   "source": [
    "let's calculate the percentage change (drop in users) from one action to the next one:"
   ]
  },
  {
   "cell_type": "code",
   "execution_count": 70,
   "id": "68fd72b4",
   "metadata": {},
   "outputs": [
    {
     "data": {
      "text/html": [
       "<div>\n",
       "<style scoped>\n",
       "    .dataframe tbody tr th:only-of-type {\n",
       "        vertical-align: middle;\n",
       "    }\n",
       "\n",
       "    .dataframe tbody tr th {\n",
       "        vertical-align: top;\n",
       "    }\n",
       "\n",
       "    .dataframe thead th {\n",
       "        text-align: right;\n",
       "    }\n",
       "</style>\n",
       "<table border=\"1\" class=\"dataframe\">\n",
       "  <thead>\n",
       "    <tr style=\"text-align: right;\">\n",
       "      <th></th>\n",
       "      <th>event_name</th>\n",
       "      <th>user_id</th>\n",
       "      <th>perc_ch</th>\n",
       "    </tr>\n",
       "  </thead>\n",
       "  <tbody>\n",
       "    <tr>\n",
       "      <th>0</th>\n",
       "      <td>MainScreenAppear</td>\n",
       "      <td>6147</td>\n",
       "      <td>NaN</td>\n",
       "    </tr>\n",
       "    <tr>\n",
       "      <th>1</th>\n",
       "      <td>OffersScreenAppear</td>\n",
       "      <td>3836</td>\n",
       "      <td>-0.375956</td>\n",
       "    </tr>\n",
       "    <tr>\n",
       "      <th>2</th>\n",
       "      <td>CartScreenAppear</td>\n",
       "      <td>3095</td>\n",
       "      <td>-0.193170</td>\n",
       "    </tr>\n",
       "    <tr>\n",
       "      <th>3</th>\n",
       "      <td>PaymentScreenSuccessful</td>\n",
       "      <td>2931</td>\n",
       "      <td>-0.052989</td>\n",
       "    </tr>\n",
       "  </tbody>\n",
       "</table>\n",
       "</div>"
      ],
      "text/plain": [
       "                event_name  user_id   perc_ch\n",
       "0         MainScreenAppear     6147       NaN\n",
       "1       OffersScreenAppear     3836 -0.375956\n",
       "2         CartScreenAppear     3095 -0.193170\n",
       "3  PaymentScreenSuccessful     2931 -0.052989"
      ]
     },
     "execution_count": 70,
     "metadata": {},
     "output_type": "execute_result"
    }
   ],
   "source": [
    "funnel_shift['perc_ch']=funnel_shift['user_id'].pct_change()\n",
    "funnel_shift"
   ]
  },
  {
   "cell_type": "markdown",
   "id": "4914bcc7",
   "metadata": {},
   "source": [
    "let's calculate the drop in number of users in the funnel, by groups of experiment:"
   ]
  },
  {
   "cell_type": "code",
   "execution_count": 71,
   "id": "49c2e23a",
   "metadata": {},
   "outputs": [
    {
     "data": {
      "text/html": [
       "<div>\n",
       "<style scoped>\n",
       "    .dataframe tbody tr th:only-of-type {\n",
       "        vertical-align: middle;\n",
       "    }\n",
       "\n",
       "    .dataframe tbody tr th {\n",
       "        vertical-align: top;\n",
       "    }\n",
       "\n",
       "    .dataframe thead th {\n",
       "        text-align: right;\n",
       "    }\n",
       "</style>\n",
       "<table border=\"1\" class=\"dataframe\">\n",
       "  <thead>\n",
       "    <tr style=\"text-align: right;\">\n",
       "      <th></th>\n",
       "      <th>event_name</th>\n",
       "      <th>experiment_id</th>\n",
       "      <th>user_id</th>\n",
       "    </tr>\n",
       "  </thead>\n",
       "  <tbody>\n",
       "    <tr>\n",
       "      <th>1</th>\n",
       "      <td>MainScreenAppear</td>\n",
       "      <td>247</td>\n",
       "      <td>2050</td>\n",
       "    </tr>\n",
       "    <tr>\n",
       "      <th>2</th>\n",
       "      <td>OffersScreenAppear</td>\n",
       "      <td>247</td>\n",
       "      <td>1265</td>\n",
       "    </tr>\n",
       "    <tr>\n",
       "      <th>0</th>\n",
       "      <td>CartScreenAppear</td>\n",
       "      <td>247</td>\n",
       "      <td>1023</td>\n",
       "    </tr>\n",
       "    <tr>\n",
       "      <th>3</th>\n",
       "      <td>PaymentScreenSuccessful</td>\n",
       "      <td>247</td>\n",
       "      <td>955</td>\n",
       "    </tr>\n",
       "  </tbody>\n",
       "</table>\n",
       "</div>"
      ],
      "text/plain": [
       "                event_name  experiment_id  user_id\n",
       "1         MainScreenAppear            247     2050\n",
       "2       OffersScreenAppear            247     1265\n",
       "0         CartScreenAppear            247     1023\n",
       "3  PaymentScreenSuccessful            247      955"
      ]
     },
     "metadata": {},
     "output_type": "display_data"
    },
    {
     "data": {
      "text/html": [
       "<div>\n",
       "<style scoped>\n",
       "    .dataframe tbody tr th:only-of-type {\n",
       "        vertical-align: middle;\n",
       "    }\n",
       "\n",
       "    .dataframe tbody tr th {\n",
       "        vertical-align: top;\n",
       "    }\n",
       "\n",
       "    .dataframe thead th {\n",
       "        text-align: right;\n",
       "    }\n",
       "</style>\n",
       "<table border=\"1\" class=\"dataframe\">\n",
       "  <thead>\n",
       "    <tr style=\"text-align: right;\">\n",
       "      <th></th>\n",
       "      <th>event_name</th>\n",
       "      <th>experiment_id</th>\n",
       "      <th>user_id</th>\n",
       "    </tr>\n",
       "  </thead>\n",
       "  <tbody>\n",
       "    <tr>\n",
       "      <th>1</th>\n",
       "      <td>MainScreenAppear</td>\n",
       "      <td>248</td>\n",
       "      <td>2055</td>\n",
       "    </tr>\n",
       "    <tr>\n",
       "      <th>2</th>\n",
       "      <td>OffersScreenAppear</td>\n",
       "      <td>248</td>\n",
       "      <td>1268</td>\n",
       "    </tr>\n",
       "    <tr>\n",
       "      <th>0</th>\n",
       "      <td>CartScreenAppear</td>\n",
       "      <td>248</td>\n",
       "      <td>1013</td>\n",
       "    </tr>\n",
       "    <tr>\n",
       "      <th>3</th>\n",
       "      <td>PaymentScreenSuccessful</td>\n",
       "      <td>248</td>\n",
       "      <td>972</td>\n",
       "    </tr>\n",
       "  </tbody>\n",
       "</table>\n",
       "</div>"
      ],
      "text/plain": [
       "                event_name  experiment_id  user_id\n",
       "1         MainScreenAppear            248     2055\n",
       "2       OffersScreenAppear            248     1268\n",
       "0         CartScreenAppear            248     1013\n",
       "3  PaymentScreenSuccessful            248      972"
      ]
     },
     "metadata": {},
     "output_type": "display_data"
    },
    {
     "data": {
      "text/html": [
       "<div>\n",
       "<style scoped>\n",
       "    .dataframe tbody tr th:only-of-type {\n",
       "        vertical-align: middle;\n",
       "    }\n",
       "\n",
       "    .dataframe tbody tr th {\n",
       "        vertical-align: top;\n",
       "    }\n",
       "\n",
       "    .dataframe thead th {\n",
       "        text-align: right;\n",
       "    }\n",
       "</style>\n",
       "<table border=\"1\" class=\"dataframe\">\n",
       "  <thead>\n",
       "    <tr style=\"text-align: right;\">\n",
       "      <th></th>\n",
       "      <th>event_name</th>\n",
       "      <th>experiment_id</th>\n",
       "      <th>user_id</th>\n",
       "    </tr>\n",
       "  </thead>\n",
       "  <tbody>\n",
       "    <tr>\n",
       "      <th>1</th>\n",
       "      <td>MainScreenAppear</td>\n",
       "      <td>246</td>\n",
       "      <td>2042</td>\n",
       "    </tr>\n",
       "    <tr>\n",
       "      <th>2</th>\n",
       "      <td>OffersScreenAppear</td>\n",
       "      <td>246</td>\n",
       "      <td>1303</td>\n",
       "    </tr>\n",
       "    <tr>\n",
       "      <th>0</th>\n",
       "      <td>CartScreenAppear</td>\n",
       "      <td>246</td>\n",
       "      <td>1059</td>\n",
       "    </tr>\n",
       "    <tr>\n",
       "      <th>3</th>\n",
       "      <td>PaymentScreenSuccessful</td>\n",
       "      <td>246</td>\n",
       "      <td>1004</td>\n",
       "    </tr>\n",
       "  </tbody>\n",
       "</table>\n",
       "</div>"
      ],
      "text/plain": [
       "                event_name  experiment_id  user_id\n",
       "1         MainScreenAppear            246     2042\n",
       "2       OffersScreenAppear            246     1303\n",
       "0         CartScreenAppear            246     1059\n",
       "3  PaymentScreenSuccessful            246     1004"
      ]
     },
     "metadata": {},
     "output_type": "display_data"
    }
   ],
   "source": [
    "funnel_by_groups=[]\n",
    "for i in df.experiment_id.unique():\n",
    "    group=df[df.experiment_id==i].groupby(['event_name','experiment_id'])['user_id'].nunique().reset_index().sort_values(by='user_id',ascending=False)\n",
    "    display(group)\n",
    "    funnel_by_groups.append(group)"
   ]
  },
  {
   "cell_type": "code",
   "execution_count": 72,
   "id": "a223b567",
   "metadata": {},
   "outputs": [
    {
     "data": {
      "text/html": [
       "<div>\n",
       "<style scoped>\n",
       "    .dataframe tbody tr th:only-of-type {\n",
       "        vertical-align: middle;\n",
       "    }\n",
       "\n",
       "    .dataframe tbody tr th {\n",
       "        vertical-align: top;\n",
       "    }\n",
       "\n",
       "    .dataframe thead th {\n",
       "        text-align: right;\n",
       "    }\n",
       "</style>\n",
       "<table border=\"1\" class=\"dataframe\">\n",
       "  <thead>\n",
       "    <tr style=\"text-align: right;\">\n",
       "      <th></th>\n",
       "      <th>event_name</th>\n",
       "      <th>experiment_id</th>\n",
       "      <th>user_id</th>\n",
       "    </tr>\n",
       "  </thead>\n",
       "  <tbody>\n",
       "    <tr>\n",
       "      <th>1</th>\n",
       "      <td>MainScreenAppear</td>\n",
       "      <td>247</td>\n",
       "      <td>2050</td>\n",
       "    </tr>\n",
       "    <tr>\n",
       "      <th>2</th>\n",
       "      <td>OffersScreenAppear</td>\n",
       "      <td>247</td>\n",
       "      <td>1265</td>\n",
       "    </tr>\n",
       "    <tr>\n",
       "      <th>0</th>\n",
       "      <td>CartScreenAppear</td>\n",
       "      <td>247</td>\n",
       "      <td>1023</td>\n",
       "    </tr>\n",
       "    <tr>\n",
       "      <th>3</th>\n",
       "      <td>PaymentScreenSuccessful</td>\n",
       "      <td>247</td>\n",
       "      <td>955</td>\n",
       "    </tr>\n",
       "    <tr>\n",
       "      <th>1</th>\n",
       "      <td>MainScreenAppear</td>\n",
       "      <td>248</td>\n",
       "      <td>2055</td>\n",
       "    </tr>\n",
       "    <tr>\n",
       "      <th>2</th>\n",
       "      <td>OffersScreenAppear</td>\n",
       "      <td>248</td>\n",
       "      <td>1268</td>\n",
       "    </tr>\n",
       "    <tr>\n",
       "      <th>0</th>\n",
       "      <td>CartScreenAppear</td>\n",
       "      <td>248</td>\n",
       "      <td>1013</td>\n",
       "    </tr>\n",
       "    <tr>\n",
       "      <th>3</th>\n",
       "      <td>PaymentScreenSuccessful</td>\n",
       "      <td>248</td>\n",
       "      <td>972</td>\n",
       "    </tr>\n",
       "    <tr>\n",
       "      <th>1</th>\n",
       "      <td>MainScreenAppear</td>\n",
       "      <td>246</td>\n",
       "      <td>2042</td>\n",
       "    </tr>\n",
       "    <tr>\n",
       "      <th>2</th>\n",
       "      <td>OffersScreenAppear</td>\n",
       "      <td>246</td>\n",
       "      <td>1303</td>\n",
       "    </tr>\n",
       "    <tr>\n",
       "      <th>0</th>\n",
       "      <td>CartScreenAppear</td>\n",
       "      <td>246</td>\n",
       "      <td>1059</td>\n",
       "    </tr>\n",
       "    <tr>\n",
       "      <th>3</th>\n",
       "      <td>PaymentScreenSuccessful</td>\n",
       "      <td>246</td>\n",
       "      <td>1004</td>\n",
       "    </tr>\n",
       "  </tbody>\n",
       "</table>\n",
       "</div>"
      ],
      "text/plain": [
       "                event_name  experiment_id  user_id\n",
       "1         MainScreenAppear            247     2050\n",
       "2       OffersScreenAppear            247     1265\n",
       "0         CartScreenAppear            247     1023\n",
       "3  PaymentScreenSuccessful            247      955\n",
       "1         MainScreenAppear            248     2055\n",
       "2       OffersScreenAppear            248     1268\n",
       "0         CartScreenAppear            248     1013\n",
       "3  PaymentScreenSuccessful            248      972\n",
       "1         MainScreenAppear            246     2042\n",
       "2       OffersScreenAppear            246     1303\n",
       "0         CartScreenAppear            246     1059\n",
       "3  PaymentScreenSuccessful            246     1004"
      ]
     },
     "execution_count": 72,
     "metadata": {},
     "output_type": "execute_result"
    }
   ],
   "source": [
    "funnel_by_groups=pd.concat(funnel_by_groups)\n",
    "funnel_by_groups"
   ]
  },
  {
   "cell_type": "code",
   "execution_count": 73,
   "id": "ba6b5b4b",
   "metadata": {},
   "outputs": [
    {
     "data": {
      "image/svg+xml": [
       "<svg class=\"main-svg\" xmlns=\"http://www.w3.org/2000/svg\" xmlns:xlink=\"http://www.w3.org/1999/xlink\" width=\"700\" height=\"500\" style=\"\" viewBox=\"0 0 700 500\"><rect x=\"0\" y=\"0\" width=\"700\" height=\"500\" style=\"fill: rgb(255, 255, 255); fill-opacity: 1;\"/><defs id=\"defs-ed798c\"><g class=\"clips\"><clipPath id=\"cliped798cxyplot\" class=\"plotclip\"><rect width=\"379\" height=\"360\"/></clipPath><clipPath class=\"axesclip\" id=\"cliped798cx\"><rect x=\"195\" y=\"0\" width=\"379\" height=\"500\"/></clipPath><clipPath class=\"axesclip\" id=\"cliped798cy\"><rect x=\"0\" y=\"60\" width=\"700\" height=\"360\"/></clipPath><clipPath class=\"axesclip\" id=\"cliped798cxy\"><rect x=\"195\" y=\"60\" width=\"379\" height=\"360\"/></clipPath></g><g class=\"gradients\"/><g class=\"patterns\"/></defs><g class=\"bglayer\"><rect class=\"bg\" x=\"195\" y=\"60\" width=\"379\" height=\"360\" style=\"fill: rgb(229, 236, 246); fill-opacity: 1; stroke-width: 0;\"/></g><g class=\"layer-below\"><g class=\"imagelayer\"/><g class=\"shapelayer\"/></g><g class=\"cartesianlayer\"><g class=\"subplot xy\"><g class=\"layer-subplot\"><g class=\"shapelayer\"/><g class=\"imagelayer\"/></g><g class=\"minor-gridlayer\"><g class=\"x\"/><g class=\"y\"/></g><g class=\"gridlayer\"><g class=\"x\"/><g class=\"y\"/></g><g class=\"zerolinelayer\"/><path class=\"xlines-below\"/><path class=\"ylines-below\"/><g class=\"overlines-below\"/><g class=\"xaxislayer-below\"/><g class=\"yaxislayer-below\"/><g class=\"overaxes-below\"/><g class=\"plot\" transform=\"translate(195,60)\" clip-path=\"url(#cliped798cxyplot)\"><g class=\"funnellayer mlayer\"><g class=\"trace bars\" style=\"opacity: 1;\"><g class=\"regions\"><g class=\"region\"><path d=\"M18.95,81L83.07,99H153.26L132.71,81Z\" style=\"stroke-width: 0; fill: rgb(99, 110, 250); fill-opacity: 0.5;\"/></g><g class=\"region\"><path d=\"M83.07,171L103.63,189H160.4L153.26,171Z\" style=\"stroke-width: 0; fill: rgb(99, 110, 250); fill-opacity: 0.5;\"/></g><g class=\"region\"><path d=\"M103.63,261L108.18,279H161.17L160.4,261Z\" style=\"stroke-width: 0; fill: rgb(99, 110, 250); fill-opacity: 0.5;\"/></g><g class=\"region\"><path d=\"M0,0Z\" style=\"stroke-width: 0; fill: rgb(99, 110, 250); fill-opacity: 0.5;\"/></g></g><g class=\"points\"><g class=\"point\"><path d=\"M18.95,9V81H132.71V9Z\" style=\"vector-effect: non-scaling-stroke; fill: rgb(99, 110, 250); fill-opacity: 1; stroke: rgb(68, 68, 68); stroke-opacity: 1; stroke-width: 0px; opacity: 1;\"/><text class=\"bartext bartext-inside\" text-anchor=\"middle\" data-notex=\"1\" x=\"0\" y=\"0\" style=\"font-family: 'Open Sans', verdana, arial, sans-serif; font-size: 12px; fill: rgb(255, 255, 255); fill-opacity: 1; white-space: pre;\" transform=\"translate(75.6425,49.5)\">2050</text></g><g class=\"point\"><path d=\"M83.07,99V171H153.26V99Z\" style=\"vector-effect: non-scaling-stroke; fill: rgb(99, 110, 250); fill-opacity: 1; stroke: rgb(68, 68, 68); stroke-opacity: 1; stroke-width: 0px; opacity: 1;\"/><text class=\"bartext bartext-inside\" text-anchor=\"middle\" data-notex=\"1\" x=\"0\" y=\"0\" style=\"font-family: 'Open Sans', verdana, arial, sans-serif; font-size: 12px; fill: rgb(255, 255, 255); fill-opacity: 1; white-space: pre;\" transform=\"translate(117.97749999999999,139.5)\">1265</text></g><g class=\"point\"><path d=\"M103.63,189V261H160.4V189Z\" style=\"vector-effect: non-scaling-stroke; fill: rgb(99, 110, 250); fill-opacity: 1; stroke: rgb(68, 68, 68); stroke-opacity: 1; stroke-width: 0px; opacity: 1;\"/><text class=\"bartext bartext-inside\" text-anchor=\"middle\" data-notex=\"1\" x=\"0\" y=\"0\" style=\"font-family: 'Open Sans', verdana, arial, sans-serif; font-size: 12px; fill: rgb(255, 255, 255); fill-opacity: 1; white-space: pre;\" transform=\"translate(132.015,229.5)\">1023</text></g><g class=\"point\"><path d=\"M108.18,279V351H161.17V279Z\" style=\"vector-effect: non-scaling-stroke; fill: rgb(99, 110, 250); fill-opacity: 1; stroke: rgb(68, 68, 68); stroke-opacity: 1; stroke-width: 0px; opacity: 1;\"/><text class=\"bartext bartext-inside\" text-anchor=\"middle\" data-notex=\"1\" x=\"0\" y=\"0\" style=\"font-family: 'Open Sans', verdana, arial, sans-serif; font-size: 12px; fill: rgb(255, 255, 255); fill-opacity: 1; white-space: pre;\" transform=\"translate(134.4875,319.5)\">955</text></g></g></g><g class=\"trace bars\" style=\"opacity: 1;\"><g class=\"regions\"><g class=\"region\"><path d=\"M132.71,81L153.26,99H223.63L246.74,81Z\" style=\"stroke-width: 0; fill: rgb(239, 85, 59); fill-opacity: 0.5;\"/></g><g class=\"region\"><path d=\"M153.26,171L160.4,189H216.61L223.63,171Z\" style=\"stroke-width: 0; fill: rgb(239, 85, 59); fill-opacity: 0.5;\"/></g><g class=\"region\"><path d=\"M160.4,261L161.17,279H215.11L216.61,261Z\" style=\"stroke-width: 0; fill: rgb(239, 85, 59); fill-opacity: 0.5;\"/></g><g class=\"region\"><path d=\"M0,0Z\" style=\"stroke-width: 0; fill: rgb(239, 85, 59); fill-opacity: 0.5;\"/></g></g><g class=\"points\"><g class=\"point\"><path d=\"M132.71,9V81H246.74V9Z\" style=\"vector-effect: non-scaling-stroke; fill: rgb(239, 85, 59); fill-opacity: 1; stroke: rgb(68, 68, 68); stroke-opacity: 1; stroke-width: 0px; opacity: 1;\"/><text class=\"bartext bartext-inside\" text-anchor=\"middle\" data-notex=\"1\" x=\"0\" y=\"0\" style=\"font-family: 'Open Sans', verdana, arial, sans-serif; font-size: 12px; fill: rgb(68, 68, 68); fill-opacity: 1; white-space: pre;\" transform=\"translate(189.53750000000002,49.5)\">2055</text></g><g class=\"point\"><path d=\"M153.26,99V171H223.63V99Z\" style=\"vector-effect: non-scaling-stroke; fill: rgb(239, 85, 59); fill-opacity: 1; stroke: rgb(68, 68, 68); stroke-opacity: 1; stroke-width: 0px; opacity: 1;\"/><text class=\"bartext bartext-inside\" text-anchor=\"middle\" data-notex=\"1\" x=\"0\" y=\"0\" style=\"font-family: 'Open Sans', verdana, arial, sans-serif; font-size: 12px; fill: rgb(68, 68, 68); fill-opacity: 1; white-space: pre;\" transform=\"translate(188.2575,139.5)\">1268</text></g><g class=\"point\"><path d=\"M160.4,189V261H216.61V189Z\" style=\"vector-effect: non-scaling-stroke; fill: rgb(239, 85, 59); fill-opacity: 1; stroke: rgb(68, 68, 68); stroke-opacity: 1; stroke-width: 0px; opacity: 1;\"/><text class=\"bartext bartext-inside\" text-anchor=\"middle\" data-notex=\"1\" x=\"0\" y=\"0\" style=\"font-family: 'Open Sans', verdana, arial, sans-serif; font-size: 12px; fill: rgb(68, 68, 68); fill-opacity: 1; white-space: pre;\" transform=\"translate(188.505,229.5)\">1013</text></g><g class=\"point\"><path d=\"M161.17,279V351H215.11V279Z\" style=\"vector-effect: non-scaling-stroke; fill: rgb(239, 85, 59); fill-opacity: 1; stroke: rgb(68, 68, 68); stroke-opacity: 1; stroke-width: 0px; opacity: 1;\"/><text class=\"bartext bartext-inside\" text-anchor=\"middle\" data-notex=\"1\" x=\"0\" y=\"0\" style=\"font-family: 'Open Sans', verdana, arial, sans-serif; font-size: 12px; fill: rgb(68, 68, 68); fill-opacity: 1; white-space: pre;\" transform=\"translate(187.9525,319.5)\">972</text></g></g></g><g class=\"trace bars\" style=\"opacity: 1;\"><g class=\"regions\"><g class=\"region\"><path d=\"M246.74,81L223.63,99H295.93L360.05,81Z\" style=\"stroke-width: 0; fill: rgb(0, 204, 150); fill-opacity: 0.5;\"/></g><g class=\"region\"><path d=\"M223.63,171L216.61,189H275.37L295.93,171Z\" style=\"stroke-width: 0; fill: rgb(0, 204, 150); fill-opacity: 0.5;\"/></g><g class=\"region\"><path d=\"M216.61,261L215.11,279H270.82L275.37,261Z\" style=\"stroke-width: 0; fill: rgb(0, 204, 150); fill-opacity: 0.5;\"/></g><g class=\"region\"><path d=\"M0,0Z\" style=\"stroke-width: 0; fill: rgb(0, 204, 150); fill-opacity: 0.5;\"/></g></g><g class=\"points\"><g class=\"point\"><path d=\"M246.74,9V81H360.05V9Z\" style=\"vector-effect: non-scaling-stroke; fill: rgb(0, 204, 150); fill-opacity: 1; stroke: rgb(68, 68, 68); stroke-opacity: 1; stroke-width: 0px; opacity: 1;\"/><text class=\"bartext bartext-inside\" text-anchor=\"middle\" data-notex=\"1\" x=\"0\" y=\"0\" style=\"font-family: 'Open Sans', verdana, arial, sans-serif; font-size: 12px; fill: rgb(68, 68, 68); fill-opacity: 1; white-space: pre;\" transform=\"translate(303.2075,49.5)\">2042</text></g><g class=\"point\"><path d=\"M223.63,99V171H295.93V99Z\" style=\"vector-effect: non-scaling-stroke; fill: rgb(0, 204, 150); fill-opacity: 1; stroke: rgb(68, 68, 68); stroke-opacity: 1; stroke-width: 0px; opacity: 1;\"/><text class=\"bartext bartext-inside\" text-anchor=\"middle\" data-notex=\"1\" x=\"0\" y=\"0\" style=\"font-family: 'Open Sans', verdana, arial, sans-serif; font-size: 12px; fill: rgb(68, 68, 68); fill-opacity: 1; white-space: pre;\" transform=\"translate(259.78,139.5)\">1303</text></g><g class=\"point\"><path d=\"M216.61,189V261H275.37V189Z\" style=\"vector-effect: non-scaling-stroke; fill: rgb(0, 204, 150); fill-opacity: 1; stroke: rgb(68, 68, 68); stroke-opacity: 1; stroke-width: 0px; opacity: 1;\"/><text class=\"bartext bartext-inside\" text-anchor=\"middle\" data-notex=\"1\" x=\"0\" y=\"0\" style=\"font-family: 'Open Sans', verdana, arial, sans-serif; font-size: 12px; fill: rgb(68, 68, 68); fill-opacity: 1; white-space: pre;\" transform=\"translate(245.8025,229.5)\">1059</text></g><g class=\"point\"><path d=\"M215.11,279V351H270.82V279Z\" style=\"vector-effect: non-scaling-stroke; fill: rgb(0, 204, 150); fill-opacity: 1; stroke: rgb(68, 68, 68); stroke-opacity: 1; stroke-width: 0px; opacity: 1;\"/><text class=\"bartext bartext-inside\" text-anchor=\"middle\" data-notex=\"1\" x=\"0\" y=\"0\" style=\"font-family: 'Open Sans', verdana, arial, sans-serif; font-size: 12px; fill: rgb(68, 68, 68); fill-opacity: 1; white-space: pre;\" transform=\"translate(242.7775,319.5)\">1004</text></g></g></g></g></g><g class=\"overplot\"/><path class=\"xlines-above crisp\" d=\"M0,0\" style=\"fill: none;\"/><path class=\"ylines-above crisp\" d=\"M0,0\" style=\"fill: none;\"/><g class=\"overlines-above\"/><g class=\"xaxislayer-above\"/><g class=\"yaxislayer-above\"><g class=\"ytick\"><text text-anchor=\"end\" x=\"194\" y=\"4.199999999999999\" transform=\"translate(0,375)\" style=\"font-family: 'Open Sans', verdana, arial, sans-serif; font-size: 12px; fill: rgb(42, 63, 95); fill-opacity: 1; white-space: pre; opacity: 1;\">PaymentScreenSuccessful</text></g><g class=\"ytick\"><text text-anchor=\"end\" x=\"194\" y=\"4.199999999999999\" transform=\"translate(0,285)\" style=\"font-family: 'Open Sans', verdana, arial, sans-serif; font-size: 12px; fill: rgb(42, 63, 95); fill-opacity: 1; white-space: pre; opacity: 1;\">CartScreenAppear</text></g><g class=\"ytick\"><text text-anchor=\"end\" x=\"194\" y=\"4.199999999999999\" transform=\"translate(0,195)\" style=\"font-family: 'Open Sans', verdana, arial, sans-serif; font-size: 12px; fill: rgb(42, 63, 95); fill-opacity: 1; white-space: pre; opacity: 1;\">OffersScreenAppear</text></g><g class=\"ytick\"><text text-anchor=\"end\" x=\"194\" y=\"4.199999999999999\" transform=\"translate(0,105)\" style=\"font-family: 'Open Sans', verdana, arial, sans-serif; font-size: 12px; fill: rgb(42, 63, 95); fill-opacity: 1; white-space: pre; opacity: 1;\">MainScreenAppear</text></g></g><g class=\"overaxes-above\"/></g></g><g class=\"polarlayer\"/><g class=\"smithlayer\"/><g class=\"ternarylayer\"/><g class=\"geolayer\"/><g class=\"funnelarealayer\"/><g class=\"pielayer\"/><g class=\"iciclelayer\"/><g class=\"treemaplayer\"/><g class=\"sunburstlayer\"/><g class=\"glimages\"/><defs id=\"topdefs-ed798c\"><g class=\"clips\"/><clipPath id=\"legended798c\"><rect width=\"106\" height=\"86\" x=\"0\" y=\"0\"/></clipPath></defs><g class=\"layer-above\"><g class=\"imagelayer\"/><g class=\"shapelayer\"/></g><g class=\"infolayer\"><g class=\"legend\" pointer-events=\"all\" transform=\"translate(581.5799999999999,60)\"><rect class=\"bg\" shape-rendering=\"crispEdges\" width=\"106\" height=\"86\" x=\"0\" y=\"0\" style=\"stroke: rgb(68, 68, 68); stroke-opacity: 1; fill: rgb(255, 255, 255); fill-opacity: 1; stroke-width: 0px;\"/><g class=\"scrollbox\" transform=\"\" clip-path=\"url(#legended798c)\"><text class=\"legendtitletext\" text-anchor=\"start\" x=\"2\" y=\"18.2\" style=\"font-family: 'Open Sans', verdana, arial, sans-serif; font-size: 14px; fill: rgb(42, 63, 95); fill-opacity: 1; white-space: pre;\">experiment_id</text><g class=\"groups\" transform=\"\"><g class=\"traces\" transform=\"translate(0,32.7)\" style=\"opacity: 1;\"><text class=\"legendtext\" text-anchor=\"start\" x=\"40\" y=\"4.680000000000001\" style=\"font-family: 'Open Sans', verdana, arial, sans-serif; font-size: 12px; fill: rgb(42, 63, 95); fill-opacity: 1; white-space: pre;\">247</text><g class=\"layers\" style=\"opacity: 1;\"><g class=\"legendfill\"/><g class=\"legendlines\"/><g class=\"legendsymbols\"><g class=\"legendpoints\"><path class=\"legendfunnel\" d=\"M6,6H-6V-6H6Z\" transform=\"translate(20,0)\" style=\"stroke-width: 0px; fill: rgb(99, 110, 250); fill-opacity: 1;\"/></g></g></g><rect class=\"legendtoggle\" x=\"0\" y=\"-9.5\" width=\"63.265625\" height=\"19\" style=\"fill: rgb(0, 0, 0); fill-opacity: 0;\"/></g></g><g class=\"groups\" transform=\"\"><g class=\"traces\" transform=\"translate(0,51.7)\" style=\"opacity: 1;\"><text class=\"legendtext\" text-anchor=\"start\" x=\"40\" y=\"4.680000000000001\" style=\"font-family: 'Open Sans', verdana, arial, sans-serif; font-size: 12px; fill: rgb(42, 63, 95); fill-opacity: 1; white-space: pre;\">248</text><g class=\"layers\" style=\"opacity: 1;\"><g class=\"legendfill\"/><g class=\"legendlines\"/><g class=\"legendsymbols\"><g class=\"legendpoints\"><path class=\"legendfunnel\" d=\"M6,6H-6V-6H6Z\" transform=\"translate(20,0)\" style=\"stroke-width: 0px; fill: rgb(239, 85, 59); fill-opacity: 1;\"/></g></g></g><rect class=\"legendtoggle\" x=\"0\" y=\"-9.5\" width=\"63.265625\" height=\"19\" style=\"fill: rgb(0, 0, 0); fill-opacity: 0;\"/></g></g><g class=\"groups\" transform=\"\"><g class=\"traces\" transform=\"translate(0,70.7)\" style=\"opacity: 1;\"><text class=\"legendtext\" text-anchor=\"start\" x=\"40\" y=\"4.680000000000001\" style=\"font-family: 'Open Sans', verdana, arial, sans-serif; font-size: 12px; fill: rgb(42, 63, 95); fill-opacity: 1; white-space: pre;\">246</text><g class=\"layers\" style=\"opacity: 1;\"><g class=\"legendfill\"/><g class=\"legendlines\"/><g class=\"legendsymbols\"><g class=\"legendpoints\"><path class=\"legendfunnel\" d=\"M6,6H-6V-6H6Z\" transform=\"translate(20,0)\" style=\"stroke-width: 0px; fill: rgb(0, 204, 150); fill-opacity: 1;\"/></g></g></g><rect class=\"legendtoggle\" x=\"0\" y=\"-9.5\" width=\"63.265625\" height=\"19\" style=\"fill: rgb(0, 0, 0); fill-opacity: 0;\"/></g></g></g><rect class=\"scrollbar\" rx=\"20\" ry=\"3\" width=\"0\" height=\"0\" x=\"0\" y=\"0\" style=\"fill: rgb(128, 139, 164); fill-opacity: 1;\"/></g><g class=\"g-gtitle\"/><g class=\"g-ytitle\" transform=\"translate(1.6279296875,0)\"><text class=\"ytitle\" transform=\"rotate(-90,12.371874999999989,240)\" x=\"12.371874999999989\" y=\"240\" text-anchor=\"middle\" style=\"font-family: 'Open Sans', verdana, arial, sans-serif; font-size: 14px; fill: rgb(42, 63, 95); opacity: 1; font-weight: normal; white-space: pre;\">event_name</text></g></g></svg>"
      ]
     },
     "metadata": {},
     "output_type": "display_data"
    }
   ],
   "source": [
    "fig=px.funnel(funnel_by_groups,x='user_id',y='event_name',color='experiment_id')\n",
    "fig.show(renderer=\"svg\")"
   ]
  },
  {
   "cell_type": "markdown",
   "id": "83bcffa3",
   "metadata": {},
   "source": [
    "The plot suggests that there is a minimal difference between the three groups. We'll have to use statistical analysis to determine that."
   ]
  },
  {
   "cell_type": "markdown",
   "id": "038af0f6",
   "metadata": {},
   "source": [
    "##### How long did it take from mainScreen to purchase?"
   ]
  },
  {
   "cell_type": "code",
   "execution_count": 74,
   "id": "48849f1f",
   "metadata": {},
   "outputs": [
    {
     "name": "stderr",
     "output_type": "stream",
     "text": [
      "C:\\Users\\User\\AppData\\Local\\Temp\\ipykernel_7460\\2646542090.py:1: FutureWarning:\n",
      "\n",
      "The provided callable <built-in function min> is currently using DataFrameGroupBy.min. In a future version of pandas, the provided callable will be used directly. To keep current behavior pass the string \"min\" instead.\n",
      "\n"
     ]
    }
   ],
   "source": [
    "min_time=pd.pivot_table(df,index=['user_id'],columns=['event_name'],values=['timestamp'],aggfunc=min)['timestamp']"
   ]
  },
  {
   "cell_type": "code",
   "execution_count": 75,
   "id": "8ce299b6",
   "metadata": {},
   "outputs": [
    {
     "data": {
      "text/html": [
       "<div>\n",
       "<style scoped>\n",
       "    .dataframe tbody tr th:only-of-type {\n",
       "        vertical-align: middle;\n",
       "    }\n",
       "\n",
       "    .dataframe tbody tr th {\n",
       "        vertical-align: top;\n",
       "    }\n",
       "\n",
       "    .dataframe thead th {\n",
       "        text-align: right;\n",
       "    }\n",
       "</style>\n",
       "<table border=\"1\" class=\"dataframe\">\n",
       "  <thead>\n",
       "    <tr style=\"text-align: right;\">\n",
       "      <th>event_name</th>\n",
       "      <th>CartScreenAppear</th>\n",
       "      <th>MainScreenAppear</th>\n",
       "      <th>OffersScreenAppear</th>\n",
       "      <th>PaymentScreenSuccessful</th>\n",
       "    </tr>\n",
       "    <tr>\n",
       "      <th>user_id</th>\n",
       "      <th></th>\n",
       "      <th></th>\n",
       "      <th></th>\n",
       "      <th></th>\n",
       "    </tr>\n",
       "  </thead>\n",
       "  <tbody>\n",
       "    <tr>\n",
       "      <th>6888746892508752</th>\n",
       "      <td>NaT</td>\n",
       "      <td>2019-08-06 17:06:34</td>\n",
       "      <td>NaT</td>\n",
       "      <td>NaT</td>\n",
       "    </tr>\n",
       "    <tr>\n",
       "      <th>6909561520679493</th>\n",
       "      <td>2019-08-06 21:52:58</td>\n",
       "      <td>2019-08-06 21:52:54</td>\n",
       "      <td>2019-08-06 21:53:04</td>\n",
       "      <td>2019-08-06 21:52:58</td>\n",
       "    </tr>\n",
       "    <tr>\n",
       "      <th>6922444491712477</th>\n",
       "      <td>2019-08-04 17:19:40</td>\n",
       "      <td>2019-08-04 17:19:33</td>\n",
       "      <td>2019-08-04 17:19:46</td>\n",
       "      <td>2019-08-04 17:19:40</td>\n",
       "    </tr>\n",
       "    <tr>\n",
       "      <th>7435777799948366</th>\n",
       "      <td>NaT</td>\n",
       "      <td>2019-08-05 11:06:34</td>\n",
       "      <td>NaT</td>\n",
       "      <td>NaT</td>\n",
       "    </tr>\n",
       "    <tr>\n",
       "      <th>7702139951469979</th>\n",
       "      <td>2019-08-02 17:28:45</td>\n",
       "      <td>2019-08-01 07:29:54</td>\n",
       "      <td>2019-08-01 07:29:56</td>\n",
       "      <td>2019-08-02 17:28:45</td>\n",
       "    </tr>\n",
       "    <tr>\n",
       "      <th>...</th>\n",
       "      <td>...</td>\n",
       "      <td>...</td>\n",
       "      <td>...</td>\n",
       "      <td>...</td>\n",
       "    </tr>\n",
       "    <tr>\n",
       "      <th>9216094175241772920</th>\n",
       "      <td>NaT</td>\n",
       "      <td>2019-08-02 18:23:52</td>\n",
       "      <td>NaT</td>\n",
       "      <td>NaT</td>\n",
       "    </tr>\n",
       "    <tr>\n",
       "      <th>9217594193087726423</th>\n",
       "      <td>2019-08-02 12:00:58</td>\n",
       "      <td>NaT</td>\n",
       "      <td>2019-08-02 12:01:08</td>\n",
       "      <td>2019-08-02 12:00:57</td>\n",
       "    </tr>\n",
       "    <tr>\n",
       "      <th>9219463515465815368</th>\n",
       "      <td>2019-08-06 19:49:40</td>\n",
       "      <td>2019-08-05 08:26:26</td>\n",
       "      <td>2019-08-06 19:48:57</td>\n",
       "      <td>2019-08-06 19:52:16</td>\n",
       "    </tr>\n",
       "    <tr>\n",
       "      <th>9221926045299980007</th>\n",
       "      <td>NaT</td>\n",
       "      <td>2019-08-01 20:30:27</td>\n",
       "      <td>NaT</td>\n",
       "      <td>NaT</td>\n",
       "    </tr>\n",
       "    <tr>\n",
       "      <th>9222603179720523844</th>\n",
       "      <td>NaT</td>\n",
       "      <td>2019-08-01 09:52:13</td>\n",
       "      <td>NaT</td>\n",
       "      <td>NaT</td>\n",
       "    </tr>\n",
       "  </tbody>\n",
       "</table>\n",
       "<p>6228 rows × 4 columns</p>\n",
       "</div>"
      ],
      "text/plain": [
       "event_name             CartScreenAppear    MainScreenAppear  \\\n",
       "user_id                                                       \n",
       "6888746892508752                    NaT 2019-08-06 17:06:34   \n",
       "6909561520679493    2019-08-06 21:52:58 2019-08-06 21:52:54   \n",
       "6922444491712477    2019-08-04 17:19:40 2019-08-04 17:19:33   \n",
       "7435777799948366                    NaT 2019-08-05 11:06:34   \n",
       "7702139951469979    2019-08-02 17:28:45 2019-08-01 07:29:54   \n",
       "...                                 ...                 ...   \n",
       "9216094175241772920                 NaT 2019-08-02 18:23:52   \n",
       "9217594193087726423 2019-08-02 12:00:58                 NaT   \n",
       "9219463515465815368 2019-08-06 19:49:40 2019-08-05 08:26:26   \n",
       "9221926045299980007                 NaT 2019-08-01 20:30:27   \n",
       "9222603179720523844                 NaT 2019-08-01 09:52:13   \n",
       "\n",
       "event_name           OffersScreenAppear PaymentScreenSuccessful  \n",
       "user_id                                                          \n",
       "6888746892508752                    NaT                     NaT  \n",
       "6909561520679493    2019-08-06 21:53:04     2019-08-06 21:52:58  \n",
       "6922444491712477    2019-08-04 17:19:46     2019-08-04 17:19:40  \n",
       "7435777799948366                    NaT                     NaT  \n",
       "7702139951469979    2019-08-01 07:29:56     2019-08-02 17:28:45  \n",
       "...                                 ...                     ...  \n",
       "9216094175241772920                 NaT                     NaT  \n",
       "9217594193087726423 2019-08-02 12:01:08     2019-08-02 12:00:57  \n",
       "9219463515465815368 2019-08-06 19:48:57     2019-08-06 19:52:16  \n",
       "9221926045299980007                 NaT                     NaT  \n",
       "9222603179720523844                 NaT                     NaT  \n",
       "\n",
       "[6228 rows x 4 columns]"
      ]
     },
     "execution_count": 75,
     "metadata": {},
     "output_type": "execute_result"
    }
   ],
   "source": [
    "min_time"
   ]
  },
  {
   "cell_type": "code",
   "execution_count": 76,
   "id": "e3cc5a14",
   "metadata": {},
   "outputs": [],
   "source": [
    "new=min_time.reset_index()"
   ]
  },
  {
   "cell_type": "code",
   "execution_count": 77,
   "id": "8a4c020c",
   "metadata": {},
   "outputs": [
    {
     "data": {
      "text/html": [
       "<div>\n",
       "<style scoped>\n",
       "    .dataframe tbody tr th:only-of-type {\n",
       "        vertical-align: middle;\n",
       "    }\n",
       "\n",
       "    .dataframe tbody tr th {\n",
       "        vertical-align: top;\n",
       "    }\n",
       "\n",
       "    .dataframe thead th {\n",
       "        text-align: right;\n",
       "    }\n",
       "</style>\n",
       "<table border=\"1\" class=\"dataframe\">\n",
       "  <thead>\n",
       "    <tr style=\"text-align: right;\">\n",
       "      <th>event_name</th>\n",
       "      <th>user_id</th>\n",
       "      <th>CartScreenAppear</th>\n",
       "      <th>MainScreenAppear</th>\n",
       "      <th>OffersScreenAppear</th>\n",
       "      <th>PaymentScreenSuccessful</th>\n",
       "    </tr>\n",
       "  </thead>\n",
       "  <tbody>\n",
       "    <tr>\n",
       "      <th>0</th>\n",
       "      <td>6888746892508752</td>\n",
       "      <td>NaT</td>\n",
       "      <td>2019-08-06 17:06:34</td>\n",
       "      <td>NaT</td>\n",
       "      <td>NaT</td>\n",
       "    </tr>\n",
       "    <tr>\n",
       "      <th>1</th>\n",
       "      <td>6909561520679493</td>\n",
       "      <td>2019-08-06 21:52:58</td>\n",
       "      <td>2019-08-06 21:52:54</td>\n",
       "      <td>2019-08-06 21:53:04</td>\n",
       "      <td>2019-08-06 21:52:58</td>\n",
       "    </tr>\n",
       "    <tr>\n",
       "      <th>2</th>\n",
       "      <td>6922444491712477</td>\n",
       "      <td>2019-08-04 17:19:40</td>\n",
       "      <td>2019-08-04 17:19:33</td>\n",
       "      <td>2019-08-04 17:19:46</td>\n",
       "      <td>2019-08-04 17:19:40</td>\n",
       "    </tr>\n",
       "    <tr>\n",
       "      <th>3</th>\n",
       "      <td>7435777799948366</td>\n",
       "      <td>NaT</td>\n",
       "      <td>2019-08-05 11:06:34</td>\n",
       "      <td>NaT</td>\n",
       "      <td>NaT</td>\n",
       "    </tr>\n",
       "    <tr>\n",
       "      <th>4</th>\n",
       "      <td>7702139951469979</td>\n",
       "      <td>2019-08-02 17:28:45</td>\n",
       "      <td>2019-08-01 07:29:54</td>\n",
       "      <td>2019-08-01 07:29:56</td>\n",
       "      <td>2019-08-02 17:28:45</td>\n",
       "    </tr>\n",
       "  </tbody>\n",
       "</table>\n",
       "</div>"
      ],
      "text/plain": [
       "event_name           user_id    CartScreenAppear    MainScreenAppear  \\\n",
       "0           6888746892508752                 NaT 2019-08-06 17:06:34   \n",
       "1           6909561520679493 2019-08-06 21:52:58 2019-08-06 21:52:54   \n",
       "2           6922444491712477 2019-08-04 17:19:40 2019-08-04 17:19:33   \n",
       "3           7435777799948366                 NaT 2019-08-05 11:06:34   \n",
       "4           7702139951469979 2019-08-02 17:28:45 2019-08-01 07:29:54   \n",
       "\n",
       "event_name  OffersScreenAppear PaymentScreenSuccessful  \n",
       "0                          NaT                     NaT  \n",
       "1          2019-08-06 21:53:04     2019-08-06 21:52:58  \n",
       "2          2019-08-04 17:19:46     2019-08-04 17:19:40  \n",
       "3                          NaT                     NaT  \n",
       "4          2019-08-01 07:29:56     2019-08-02 17:28:45  "
      ]
     },
     "execution_count": 77,
     "metadata": {},
     "output_type": "execute_result"
    }
   ],
   "source": [
    "new.head()"
   ]
  },
  {
   "cell_type": "code",
   "execution_count": 78,
   "id": "91629e65",
   "metadata": {},
   "outputs": [
    {
     "data": {
      "text/html": [
       "<div>\n",
       "<style scoped>\n",
       "    .dataframe tbody tr th:only-of-type {\n",
       "        vertical-align: middle;\n",
       "    }\n",
       "\n",
       "    .dataframe tbody tr th {\n",
       "        vertical-align: top;\n",
       "    }\n",
       "\n",
       "    .dataframe thead th {\n",
       "        text-align: right;\n",
       "    }\n",
       "</style>\n",
       "<table border=\"1\" class=\"dataframe\">\n",
       "  <thead>\n",
       "    <tr style=\"text-align: right;\">\n",
       "      <th>event_name</th>\n",
       "      <th>user_id</th>\n",
       "      <th>CartScreenAppear</th>\n",
       "      <th>MainScreenAppear</th>\n",
       "      <th>OffersScreenAppear</th>\n",
       "      <th>PaymentScreenSuccessful</th>\n",
       "      <th>time_diff</th>\n",
       "    </tr>\n",
       "  </thead>\n",
       "  <tbody>\n",
       "    <tr>\n",
       "      <th>0</th>\n",
       "      <td>6888746892508752</td>\n",
       "      <td>NaT</td>\n",
       "      <td>2019-08-06 17:06:34</td>\n",
       "      <td>NaT</td>\n",
       "      <td>NaT</td>\n",
       "      <td>NaT</td>\n",
       "    </tr>\n",
       "    <tr>\n",
       "      <th>1</th>\n",
       "      <td>6909561520679493</td>\n",
       "      <td>2019-08-06 21:52:58</td>\n",
       "      <td>2019-08-06 21:52:54</td>\n",
       "      <td>2019-08-06 21:53:04</td>\n",
       "      <td>2019-08-06 21:52:58</td>\n",
       "      <td>0 days 00:00:04</td>\n",
       "    </tr>\n",
       "    <tr>\n",
       "      <th>2</th>\n",
       "      <td>6922444491712477</td>\n",
       "      <td>2019-08-04 17:19:40</td>\n",
       "      <td>2019-08-04 17:19:33</td>\n",
       "      <td>2019-08-04 17:19:46</td>\n",
       "      <td>2019-08-04 17:19:40</td>\n",
       "      <td>0 days 00:00:07</td>\n",
       "    </tr>\n",
       "    <tr>\n",
       "      <th>3</th>\n",
       "      <td>7435777799948366</td>\n",
       "      <td>NaT</td>\n",
       "      <td>2019-08-05 11:06:34</td>\n",
       "      <td>NaT</td>\n",
       "      <td>NaT</td>\n",
       "      <td>NaT</td>\n",
       "    </tr>\n",
       "    <tr>\n",
       "      <th>4</th>\n",
       "      <td>7702139951469979</td>\n",
       "      <td>2019-08-02 17:28:45</td>\n",
       "      <td>2019-08-01 07:29:54</td>\n",
       "      <td>2019-08-01 07:29:56</td>\n",
       "      <td>2019-08-02 17:28:45</td>\n",
       "      <td>1 days 09:58:51</td>\n",
       "    </tr>\n",
       "  </tbody>\n",
       "</table>\n",
       "</div>"
      ],
      "text/plain": [
       "event_name           user_id    CartScreenAppear    MainScreenAppear  \\\n",
       "0           6888746892508752                 NaT 2019-08-06 17:06:34   \n",
       "1           6909561520679493 2019-08-06 21:52:58 2019-08-06 21:52:54   \n",
       "2           6922444491712477 2019-08-04 17:19:40 2019-08-04 17:19:33   \n",
       "3           7435777799948366                 NaT 2019-08-05 11:06:34   \n",
       "4           7702139951469979 2019-08-02 17:28:45 2019-08-01 07:29:54   \n",
       "\n",
       "event_name  OffersScreenAppear PaymentScreenSuccessful       time_diff  \n",
       "0                          NaT                     NaT             NaT  \n",
       "1          2019-08-06 21:53:04     2019-08-06 21:52:58 0 days 00:00:04  \n",
       "2          2019-08-04 17:19:46     2019-08-04 17:19:40 0 days 00:00:07  \n",
       "3                          NaT                     NaT             NaT  \n",
       "4          2019-08-01 07:29:56     2019-08-02 17:28:45 1 days 09:58:51  "
      ]
     },
     "execution_count": 78,
     "metadata": {},
     "output_type": "execute_result"
    }
   ],
   "source": [
    "new['time_diff']=new['PaymentScreenSuccessful']-new['MainScreenAppear']\n",
    "new.head()"
   ]
  },
  {
   "cell_type": "code",
   "execution_count": 79,
   "id": "763d5903",
   "metadata": {},
   "outputs": [
    {
     "data": {
      "text/plain": [
       "time_diff\n",
       "0 days 00:00:03    122\n",
       "0 days 00:00:02    120\n",
       "0 days 00:00:04    112\n",
       "0 days 00:00:05     79\n",
       "0 days 00:00:06     65\n",
       "0 days 00:00:01     54\n",
       "0 days 00:00:07     53\n",
       "0 days 00:00:08     40\n",
       "0 days 00:00:10     35\n",
       "0 days 00:00:11     29\n",
       "Name: count, dtype: int64"
      ]
     },
     "execution_count": 79,
     "metadata": {},
     "output_type": "execute_result"
    }
   ],
   "source": [
    "new['time_diff'].value_counts().head(10)"
   ]
  },
  {
   "cell_type": "code",
   "execution_count": 80,
   "id": "fc592229",
   "metadata": {},
   "outputs": [
    {
     "data": {
      "text/plain": [
       "time_diff\n",
       " 0.0    2112\n",
       " 1.0     274\n",
       " 2.0     160\n",
       "-1.0      87\n",
       " 3.0      82\n",
       " 4.0      50\n",
       " 5.0      28\n",
       " 6.0      13\n",
       "-3.0      13\n",
       "-5.0      11\n",
       "-2.0      11\n",
       "-4.0       8\n",
       "-6.0       7\n",
       "-7.0       2\n",
       "Name: count, dtype: int64"
      ]
     },
     "execution_count": 80,
     "metadata": {},
     "output_type": "execute_result"
    }
   ],
   "source": [
    "new['time_diff'].dt.days.value_counts()"
   ]
  },
  {
   "cell_type": "code",
   "execution_count": 81,
   "id": "3a63765d",
   "metadata": {},
   "outputs": [
    {
     "data": {
      "text/html": [
       "<div>\n",
       "<style scoped>\n",
       "    .dataframe tbody tr th:only-of-type {\n",
       "        vertical-align: middle;\n",
       "    }\n",
       "\n",
       "    .dataframe tbody tr th {\n",
       "        vertical-align: top;\n",
       "    }\n",
       "\n",
       "    .dataframe thead th {\n",
       "        text-align: right;\n",
       "    }\n",
       "</style>\n",
       "<table border=\"1\" class=\"dataframe\">\n",
       "  <thead>\n",
       "    <tr style=\"text-align: right;\">\n",
       "      <th>event_name</th>\n",
       "      <th>user_id</th>\n",
       "      <th>CartScreenAppear</th>\n",
       "      <th>MainScreenAppear</th>\n",
       "      <th>OffersScreenAppear</th>\n",
       "      <th>PaymentScreenSuccessful</th>\n",
       "      <th>time_diff</th>\n",
       "    </tr>\n",
       "  </thead>\n",
       "  <tbody>\n",
       "    <tr>\n",
       "      <th>9</th>\n",
       "      <td>15708180189885246</td>\n",
       "      <td>2019-08-01 14:06:19</td>\n",
       "      <td>2019-08-01 19:08:23</td>\n",
       "      <td>2019-08-01 08:38:55</td>\n",
       "      <td>2019-08-01 14:06:19</td>\n",
       "      <td>-1 days +18:57:56</td>\n",
       "    </tr>\n",
       "    <tr>\n",
       "      <th>28</th>\n",
       "      <td>40352430792344971</td>\n",
       "      <td>2019-08-03 12:55:20</td>\n",
       "      <td>2019-08-06 21:26:06</td>\n",
       "      <td>2019-08-01 22:51:45</td>\n",
       "      <td>2019-08-03 12:55:19</td>\n",
       "      <td>-4 days +15:29:13</td>\n",
       "    </tr>\n",
       "    <tr>\n",
       "      <th>31</th>\n",
       "      <td>46236857309457992</td>\n",
       "      <td>2019-08-02 17:40:45</td>\n",
       "      <td>2019-08-06 19:38:19</td>\n",
       "      <td>2019-08-02 17:40:18</td>\n",
       "      <td>2019-08-02 17:40:44</td>\n",
       "      <td>-5 days +22:02:25</td>\n",
       "    </tr>\n",
       "    <tr>\n",
       "      <th>67</th>\n",
       "      <td>105264533697038706</td>\n",
       "      <td>2019-08-01 10:19:14</td>\n",
       "      <td>2019-08-01 10:19:35</td>\n",
       "      <td>2019-08-01 10:18:44</td>\n",
       "      <td>2019-08-01 10:19:14</td>\n",
       "      <td>-1 days +23:59:39</td>\n",
       "    </tr>\n",
       "    <tr>\n",
       "      <th>151</th>\n",
       "      <td>240611722706801399</td>\n",
       "      <td>2019-08-01 14:23:14</td>\n",
       "      <td>2019-08-05 17:30:08</td>\n",
       "      <td>2019-08-01 14:23:08</td>\n",
       "      <td>2019-08-01 14:23:13</td>\n",
       "      <td>-5 days +20:53:05</td>\n",
       "    </tr>\n",
       "    <tr>\n",
       "      <th>...</th>\n",
       "      <td>...</td>\n",
       "      <td>...</td>\n",
       "      <td>...</td>\n",
       "      <td>...</td>\n",
       "      <td>...</td>\n",
       "      <td>...</td>\n",
       "    </tr>\n",
       "    <tr>\n",
       "      <th>5961</th>\n",
       "      <td>8820960297491579742</td>\n",
       "      <td>2019-08-01 17:37:47</td>\n",
       "      <td>2019-08-02 16:48:31</td>\n",
       "      <td>2019-08-01 17:37:46</td>\n",
       "      <td>2019-08-01 17:37:46</td>\n",
       "      <td>-1 days +00:49:15</td>\n",
       "    </tr>\n",
       "    <tr>\n",
       "      <th>6066</th>\n",
       "      <td>8982013177812162195</td>\n",
       "      <td>2019-08-05 00:09:57</td>\n",
       "      <td>2019-08-05 00:14:47</td>\n",
       "      <td>2019-08-05 00:10:04</td>\n",
       "      <td>2019-08-05 00:09:56</td>\n",
       "      <td>-1 days +23:55:09</td>\n",
       "    </tr>\n",
       "    <tr>\n",
       "      <th>6095</th>\n",
       "      <td>9043126402669164803</td>\n",
       "      <td>2019-08-03 15:07:17</td>\n",
       "      <td>2019-08-05 20:11:30</td>\n",
       "      <td>2019-08-03 15:05:56</td>\n",
       "      <td>2019-08-03 15:09:20</td>\n",
       "      <td>-3 days +18:57:50</td>\n",
       "    </tr>\n",
       "    <tr>\n",
       "      <th>6129</th>\n",
       "      <td>9097760240767809307</td>\n",
       "      <td>2019-08-01 12:10:18</td>\n",
       "      <td>2019-08-02 16:34:04</td>\n",
       "      <td>2019-08-01 00:08:20</td>\n",
       "      <td>2019-08-01 12:10:17</td>\n",
       "      <td>-2 days +19:36:13</td>\n",
       "    </tr>\n",
       "    <tr>\n",
       "      <th>6200</th>\n",
       "      <td>9187094690649224379</td>\n",
       "      <td>2019-08-03 21:34:50</td>\n",
       "      <td>2019-08-03 21:35:43</td>\n",
       "      <td>2019-08-02 06:48:42</td>\n",
       "      <td>2019-08-03 21:34:49</td>\n",
       "      <td>-1 days +23:59:06</td>\n",
       "    </tr>\n",
       "  </tbody>\n",
       "</table>\n",
       "<p>139 rows × 6 columns</p>\n",
       "</div>"
      ],
      "text/plain": [
       "event_name              user_id    CartScreenAppear    MainScreenAppear  \\\n",
       "9             15708180189885246 2019-08-01 14:06:19 2019-08-01 19:08:23   \n",
       "28            40352430792344971 2019-08-03 12:55:20 2019-08-06 21:26:06   \n",
       "31            46236857309457992 2019-08-02 17:40:45 2019-08-06 19:38:19   \n",
       "67           105264533697038706 2019-08-01 10:19:14 2019-08-01 10:19:35   \n",
       "151          240611722706801399 2019-08-01 14:23:14 2019-08-05 17:30:08   \n",
       "...                         ...                 ...                 ...   \n",
       "5961        8820960297491579742 2019-08-01 17:37:47 2019-08-02 16:48:31   \n",
       "6066        8982013177812162195 2019-08-05 00:09:57 2019-08-05 00:14:47   \n",
       "6095        9043126402669164803 2019-08-03 15:07:17 2019-08-05 20:11:30   \n",
       "6129        9097760240767809307 2019-08-01 12:10:18 2019-08-02 16:34:04   \n",
       "6200        9187094690649224379 2019-08-03 21:34:50 2019-08-03 21:35:43   \n",
       "\n",
       "event_name  OffersScreenAppear PaymentScreenSuccessful         time_diff  \n",
       "9          2019-08-01 08:38:55     2019-08-01 14:06:19 -1 days +18:57:56  \n",
       "28         2019-08-01 22:51:45     2019-08-03 12:55:19 -4 days +15:29:13  \n",
       "31         2019-08-02 17:40:18     2019-08-02 17:40:44 -5 days +22:02:25  \n",
       "67         2019-08-01 10:18:44     2019-08-01 10:19:14 -1 days +23:59:39  \n",
       "151        2019-08-01 14:23:08     2019-08-01 14:23:13 -5 days +20:53:05  \n",
       "...                        ...                     ...               ...  \n",
       "5961       2019-08-01 17:37:46     2019-08-01 17:37:46 -1 days +00:49:15  \n",
       "6066       2019-08-05 00:10:04     2019-08-05 00:09:56 -1 days +23:55:09  \n",
       "6095       2019-08-03 15:05:56     2019-08-03 15:09:20 -3 days +18:57:50  \n",
       "6129       2019-08-01 00:08:20     2019-08-01 12:10:17 -2 days +19:36:13  \n",
       "6200       2019-08-02 06:48:42     2019-08-03 21:34:49 -1 days +23:59:06  \n",
       "\n",
       "[139 rows x 6 columns]"
      ]
     },
     "execution_count": 81,
     "metadata": {},
     "output_type": "execute_result"
    }
   ],
   "source": [
    "new[new.time_diff.dt.days<0]"
   ]
  },
  {
   "cell_type": "markdown",
   "id": "ece69fd5",
   "metadata": {},
   "source": [
    "##### In most cases, the purchase happen the same day of the first action on the website. Most of the time, it happens within few seconds  and up to a minute. we also get wierd results ( ex -1 day), which actually reflect what we found out previously: analyzing the typical path of a user experience we noticed that we might have some data that are cut or partial, so we  get Payment as first action, then we get  main screen appear. This should let us think about the reliabnbility of the dataset and the whole experiment..."
   ]
  },
  {
   "cell_type": "markdown",
   "id": "f09da1b6",
   "metadata": {},
   "source": [
    "# Step 5. Study the results of the experiment\n",
    "\n"
   ]
  },
  {
   "cell_type": "markdown",
   "id": "279c004a",
   "metadata": {},
   "source": [
    "##### How many users are there in each group?"
   ]
  },
  {
   "cell_type": "code",
   "execution_count": 82,
   "id": "13c27199",
   "metadata": {},
   "outputs": [
    {
     "data": {
      "text/plain": [
       "experiment_id\n",
       "246    2069\n",
       "247    2077\n",
       "248    2082\n",
       "Name: user_id, dtype: int64"
      ]
     },
     "execution_count": 82,
     "metadata": {},
     "output_type": "execute_result"
    }
   ],
   "source": [
    "df.groupby(['experiment_id'])['user_id'].nunique()"
   ]
  },
  {
   "cell_type": "code",
   "execution_count": 83,
   "id": "3530d275",
   "metadata": {},
   "outputs": [],
   "source": [
    "#df.groupby(['user_id'])['experiment_id'].nunique().reset_index().query('experiment_id>1')"
   ]
  },
  {
   "cell_type": "code",
   "execution_count": 84,
   "id": "743d97e7",
   "metadata": {},
   "outputs": [],
   "source": [
    "#There isn't intersection of users within the groups"
   ]
  },
  {
   "cell_type": "markdown",
   "id": "6e85dfa4-243b-43c6-ac9a-3b4e1039b0a4",
   "metadata": {},
   "source": [
    "### Test description"
   ]
  },
  {
   "cell_type": "markdown",
   "id": "d10d58d9",
   "metadata": {},
   "source": [
    "<li>We have two control groups in the A/A test, where we check our mechanisms and calculations. \n",
    "See if there is a statistically significant difference between samples 246 and 247: \n",
    "   <li> Select the most popular event. In each of the control groups, find the number of users who performed this action. \n",
    "Find their share. Check whether the difference between the groups is statistically significant. Repeat the procedure for all other events. Can you confirm that the groups were split properly? (A/A) 246 vs 247\n",
    "<li>Do the same thing for the group with altered fonts. (A/B)"
   ]
  },
  {
   "cell_type": "markdown",
   "id": "02780d52",
   "metadata": {},
   "source": [
    "we are going to use the z test of proportions:A two-proportion Z-test is a statistical hypothesis test used to determine whether two proportions are different from each other. While performing the test, Z-statistics is computed from two independent samples and the null hypothesis is that the two proportions are equal."
   ]
  },
  {
   "cell_type": "markdown",
   "id": "c3949f71",
   "metadata": {},
   "source": [
    "requirements for proportion test:\n",
    "   <li> The sampling method is simple random sampling.\n",
    "  <li> Each sample point can result in just two possible outcomes. We call one of these outcomes a success and the other, a failure.\n",
    "  <li> The sample includes at least 10 successes and 10 failures.\n",
    "  <li> The population size is at least 20 times as big as the sample size."
   ]
  },
  {
   "cell_type": "markdown",
   "id": "81a22164",
   "metadata": {},
   "source": [
    "H0: There is not a statistically significant difference in conversion rates for the tested group and for the control group.         Both Group A and group B conversion rates are equal\n",
    "\n",
    "H1: There is a statistically significant differencein conversion rates for the tested group and for the control group.             Group A and group B conversion rates differs."
   ]
  },
  {
   "cell_type": "markdown",
   "id": "d6c76544",
   "metadata": {},
   "source": [
    "well'use significance level of 0.05:\n",
    "\n",
    "The significance level, also known as alpha or α, is a measure of the strength of the evidence that must be present in your sample before you will reject the null hypothesis and conclude that the effect is statistically significant. The researcher determines the significance level before conducting the experiment.\n",
    "\n",
    "The significance level is the probability of rejecting the null hypothesis when it is true. A significance level of 0.05 indicates a 5% risk of concluding that a difference exists when there is no actual difference. Lower significance levels indicate that you require stronger evidence before you will reject the null hypothesis."
   ]
  },
  {
   "cell_type": "markdown",
   "id": "d678240a",
   "metadata": {},
   "source": [
    "Since we need to perform several tests simultaneusly, we'll apply the Bonferroni correction: The Bonferroni correction is a multiple-comparison correction used when several dependent or independent statistical tests are being performed simultaneously (since while a given alpha value alpha may be appropriate for each individual comparison, it is not for the set of all comparisons). In order to avoid a lot of spurious positives, the alpha value needs to be lowered to account for the number of comparisons being performed.\n",
    "\n",
    "The simplest and most conservative approach is the Bonferroni correction, which sets the alpha value for the entire set of n comparisons equal to alpha by taking the alpha value for each comparison equal to alpha/n\n",
    "\n",
    "* n=12\n",
    "* alpha/n =0.0041666666666667"
   ]
  },
  {
   "cell_type": "code",
   "execution_count": 85,
   "id": "880e7473",
   "metadata": {},
   "outputs": [],
   "source": [
    "test_1=df[df.experiment_id==246]['user_id'].nunique()\n",
    "test_2=df[df.experiment_id==247]['user_id'].nunique()\n",
    "control=df[df.experiment_id==248]['user_id'].nunique()"
   ]
  },
  {
   "cell_type": "markdown",
   "id": "ee990607",
   "metadata": {},
   "source": [
    " We you need to check whether two test groups are significantly different in each event."
   ]
  },
  {
   "cell_type": "code",
   "execution_count": 86,
   "id": "4049ad2b",
   "metadata": {},
   "outputs": [],
   "source": [
    "pivot=df.pivot_table(index='event_name', columns='experiment_id',values='user_id',aggfunc='nunique').reset_index()"
   ]
  },
  {
   "cell_type": "code",
   "execution_count": 87,
   "id": "5ab38ccf",
   "metadata": {},
   "outputs": [
    {
     "name": "stdout",
     "output_type": "stream",
     "text": [
      "experiment_id               event_name   246   247   248\n",
      "0                     CartScreenAppear  1059  1023  1013\n",
      "1                     MainScreenAppear  2042  2050  2055\n",
      "2                   OffersScreenAppear  1303  1265  1268\n",
      "3              PaymentScreenSuccessful  1004   955   972\n"
     ]
    }
   ],
   "source": [
    "print(pivot)"
   ]
  },
  {
   "cell_type": "code",
   "execution_count": 88,
   "id": "5178a232",
   "metadata": {},
   "outputs": [
    {
     "data": {
      "text/plain": [
       "0    1059\n",
       "Name: 246, dtype: int64"
      ]
     },
     "execution_count": 88,
     "metadata": {},
     "output_type": "execute_result"
    }
   ],
   "source": [
    "pivot[pivot.event_name=='CartScreenAppear'][246]"
   ]
  },
  {
   "cell_type": "code",
   "execution_count": 89,
   "id": "366b4cd3",
   "metadata": {},
   "outputs": [
    {
     "data": {
      "text/plain": [
       "1059"
      ]
     },
     "execution_count": 89,
     "metadata": {},
     "output_type": "execute_result"
    }
   ],
   "source": [
    "pivot[pivot.event_name=='CartScreenAppear'][246].iloc[0]"
   ]
  },
  {
   "cell_type": "code",
   "execution_count": 90,
   "id": "5e0c9d42",
   "metadata": {},
   "outputs": [
    {
     "name": "stdout",
     "output_type": "stream",
     "text": [
      "<class 'pandas.core.frame.DataFrame'>\n",
      "RangeIndex: 4 entries, 0 to 3\n",
      "Data columns (total 4 columns):\n",
      " #   Column      Non-Null Count  Dtype \n",
      "---  ------      --------------  ----- \n",
      " 0   event_name  4 non-null      object\n",
      " 1   246         4 non-null      int64 \n",
      " 2   247         4 non-null      int64 \n",
      " 3   248         4 non-null      int64 \n",
      "dtypes: int64(3), object(1)\n",
      "memory usage: 260.0+ bytes\n"
     ]
    }
   ],
   "source": [
    "pivot.info()"
   ]
  },
  {
   "cell_type": "markdown",
   "id": "63bb9a5e",
   "metadata": {},
   "source": [
    "Now we have lists with our users from each group and we can use it in calculation of our proportions) "
   ]
  },
  {
   "cell_type": "markdown",
   "id": "fe9e3f2d",
   "metadata": {},
   "source": [
    "We can access this value of success directly from our pivot table)"
   ]
  },
  {
   "cell_type": "code",
   "execution_count": 91,
   "id": "9663e2d8",
   "metadata": {},
   "outputs": [],
   "source": [
    "from scipy import stats as st\n",
    "import numpy as np\n",
    "import math as mth\n",
    "\n",
    "def check_hypothesis(group1,group2,event,alpha=0.0041666666666667):\n",
    "    success1=pivot[pivot.event_name==event][group1].iloc[0]\n",
    "    success2=pivot[pivot.event_name==event][group2].iloc[0]\n",
    "    \n",
    "    trials1=df[df.experiment_id==group1]['user_id'].nunique()\n",
    "    trials2=df[df.experiment_id==group2]['user_id'].nunique()\n",
    "    \n",
    "    \n",
    "    # success proportion in the first group:\n",
    "    p1 = success1/trials1\n",
    "\n",
    "    # success proportion in the second group:\n",
    "    p2 = success2/trials2\n",
    "\n",
    "    # success proportion in the combined dataset:\n",
    "    p_combined = (success1 + success2) / (trials1 + trials2)\n",
    "\n",
    "    # the difference between the datasets' proportions\n",
    "    difference = p1 - p2\n",
    "    # calculating the statistic in standard deviations of the standard normal distribution\n",
    "    z_value = difference / mth.sqrt(p_combined * (1 - p_combined) * (1/trials1 + 1/trials2))\n",
    "\n",
    "    # setting up the standard normal distribution (mean 0, standard deviation 1)\n",
    "    distr = st.norm(0, 1)\n",
    "    # calculating the statistic in standard deviations of the standard normal distribution\n",
    "\n",
    "\n",
    "    p_value = (1 - distr.cdf(abs(z_value))) * 2\n",
    "\n",
    "    print('p-value: ', p_value)\n",
    "\n",
    "    if (p_value < alpha):\n",
    "        print(\"Rejecting the null hypothesis for\", event,\"and groups\", group1,group2)\n",
    "    else:\n",
    "        print(\"Failed to reject the null hypothesis for\",event,\"and groups\", group1,group2 )"
   ]
  },
  {
   "cell_type": "code",
   "execution_count": 92,
   "id": "3457709c",
   "metadata": {},
   "outputs": [
    {
     "name": "stdout",
     "output_type": "stream",
     "text": [
      "p-value:  0.21387034309658048\n",
      "Failed to reject the null hypothesis for CartScreenAppear and groups 246 247\n"
     ]
    }
   ],
   "source": [
    "check_hypothesis(246,247,'CartScreenAppear',alpha=0.0041666666666667)"
   ]
  },
  {
   "cell_type": "markdown",
   "id": "d3c8217e",
   "metadata": {},
   "source": [
    "What are we actually checking? Whether there is a statistical difference in conversion aka proportion - \"Is the share of users (from all users in the test) that had \"CartScreenAppear of one test group is statistically different from another?\""
   ]
  },
  {
   "cell_type": "markdown",
   "id": "9c396cc1",
   "metadata": {},
   "source": [
    "I can Iterate the test for all the events in the dataset:"
   ]
  },
  {
   "cell_type": "code",
   "execution_count": 93,
   "id": "e8e66269",
   "metadata": {},
   "outputs": [
    {
     "name": "stdout",
     "output_type": "stream",
     "text": [
      "p-value:  0.21387034309658048\n",
      "Failed to reject the null hypothesis for CartScreenAppear and groups 246 247\n",
      "p-value:  0.9886124438680264\n",
      "Failed to reject the null hypothesis for MainScreenAppear and groups 246 247\n",
      "p-value:  0.1694487258667574\n",
      "Failed to reject the null hypothesis for OffersScreenAppear and groups 246 247\n",
      "p-value:  0.10061326176027219\n",
      "Failed to reject the null hypothesis for PaymentScreenSuccessful and groups 246 247\n"
     ]
    }
   ],
   "source": [
    "for i in pivot.event_name.unique():\n",
    "    check_hypothesis(246,247,i,alpha=0.0041666666666667)"
   ]
  },
  {
   "cell_type": "code",
   "execution_count": 94,
   "id": "573b87a0",
   "metadata": {},
   "outputs": [
    {
     "name": "stdout",
     "output_type": "stream",
     "text": [
      "p-value:  0.6994092224188435\n",
      "Failed to reject the null hypothesis for CartScreenAppear and groups 247 248\n",
      "p-value:  0.9929050311157919\n",
      "Failed to reject the null hypothesis for MainScreenAppear and groups 247 248\n",
      "p-value:  0.9988538914575216\n",
      "Failed to reject the null hypothesis for OffersScreenAppear and groups 247 248\n",
      "p-value:  0.647961836053315\n",
      "Failed to reject the null hypothesis for PaymentScreenSuccessful and groups 247 248\n"
     ]
    }
   ],
   "source": [
    "for i in pivot.event_name.unique():\n",
    "    check_hypothesis(247,248,i,alpha=0.0041666666666667)"
   ]
  },
  {
   "cell_type": "code",
   "execution_count": 95,
   "id": "fb6d62e6",
   "metadata": {},
   "outputs": [
    {
     "name": "stdout",
     "output_type": "stream",
     "text": [
      "p-value:  0.10323052451945691\n",
      "Failed to reject the null hypothesis for CartScreenAppear and groups 246 248\n",
      "p-value:  0.9815186269070868\n",
      "Failed to reject the null hypothesis for MainScreenAppear and groups 246 248\n",
      "p-value:  0.1687512655508323\n",
      "Failed to reject the null hypothesis for OffersScreenAppear and groups 246 248\n",
      "p-value:  0.23529661239185828\n",
      "Failed to reject the null hypothesis for PaymentScreenSuccessful and groups 246 248\n"
     ]
    }
   ],
   "source": [
    "for i in pivot.event_name.unique():\n",
    "    check_hypothesis(246,248,i,alpha=0.0041666666666667)"
   ]
  },
  {
   "cell_type": "markdown",
   "id": "b3f11f93-51cf-4220-bdc7-1181f6b6baff",
   "metadata": {},
   "source": [
    "# Overall Conclusions"
   ]
  },
  {
   "cell_type": "markdown",
   "id": "e39435c3",
   "metadata": {},
   "source": [
    "We didn't find statistical difference among the three groups, in conversion and in the share of users that goes through the funnel. This result confirm the suggestion we had by reading the visual plot of the sale's funnel."
   ]
  },
  {
   "cell_type": "markdown",
   "id": "c38f7eaa",
   "metadata": {},
   "source": [
    "The goal of this analysis was to  determine how many users actually make it to the stage of purchase, how many get stuck at previous stages and which stages in particular. Also, analyze the of an A/A/B test. The designers would like to change the fonts for the entire app, but the managers are afraid the users might find the new design intimidating. They decide to make a decision based on the results of an A/A/B test. . To do so, I completed an analysis which consisted in the following steps:\n",
    " \n",
    "* Data cleaning, consists of amending or removing incorrect or superfluous data, as well as checking for incompleteness or inconsistencies.\n",
    "* Study of the dataframe\n",
    "* Determined the timeline of the test\n",
    "* Study of the purchase funnel\n",
    "* Statistical analysis of the A/A/B test\n",
    "\n",
    "\n",
    "I found out that :\n",
    "\n",
    "* 47% of users complete the purchase \n",
    "* 49% of users don't pass the cart screen \n",
    "* There isn't statistical difference among the three groups, in conversion and in the share of users that goes through the funnel.\n",
    "\n",
    "Therefore, it is possible to change the fonts in the entire app without seeing a substantial change in the conversion rate."
   ]
  }
 ],
 "metadata": {
  "kernelspec": {
   "display_name": "Python 3 (ipykernel)",
   "language": "python",
   "name": "python3"
  },
  "language_info": {
   "codemirror_mode": {
    "name": "ipython",
    "version": 3
   },
   "file_extension": ".py",
   "mimetype": "text/x-python",
   "name": "python",
   "nbconvert_exporter": "python",
   "pygments_lexer": "ipython3",
   "version": "3.11.7"
  },
  "toc": {
   "base_numbering": 1,
   "nav_menu": {},
   "number_sections": true,
   "sideBar": true,
   "skip_h1_title": true,
   "title_cell": "Table of Contents",
   "title_sidebar": "Contents",
   "toc_cell": false,
   "toc_position": {},
   "toc_section_display": true,
   "toc_window_display": false
  }
 },
 "nbformat": 4,
 "nbformat_minor": 5
}

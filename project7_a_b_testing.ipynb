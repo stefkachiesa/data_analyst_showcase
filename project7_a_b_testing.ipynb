{
 "cells": [
  {
   "cell_type": "markdown",
   "id": "798ababa",
   "metadata": {},
   "source": [
    "# PROJECT DESCRIPTION\n",
    "\n",
    "You are an analyst at a big online store. Together with the marketing department, you've compiled a list of hypotheses that may help boost revenue.\n",
    "You need to prioritize these hypotheses, launch an A/B test, and analyze the results"
   ]
  },
  {
   "cell_type": "markdown",
   "id": "50207394",
   "metadata": {},
   "source": [
    "After loading the dataframe, we'll spend some time polishing it to ensure it’s ready to use. This data cleaning, consists of amending or removing incorrect or superfluous data, as well as checking for incompleteness or inconsistencies.\n",
    "\n",
    "Then, I’ll begin to slice the data to extract meaningful insights from it. Using the techniques and methods of data analysis, I’ll look for hidden patterns and relationships, and find insights and predictions. After I’ve interpreted the results and drawn meaningful insights from them, the next step is to create visualizations by selecting the most appropriate charts and graphs."
   ]
  },
  {
   "cell_type": "markdown",
   "id": "e71cfba8",
   "metadata": {},
   "source": [
    "### Initialization"
   ]
  },
  {
   "cell_type": "markdown",
   "id": "8b1ee481",
   "metadata": {},
   "source": [
    "Load libraries that are required for the project."
   ]
  },
  {
   "cell_type": "code",
   "execution_count": 1,
   "id": "aa79008e",
   "metadata": {},
   "outputs": [],
   "source": [
    "import pandas as pd\n",
    "import scipy.stats as st\n",
    "import datetime as dt\n",
    "import numpy as np\n",
    "import matplotlib.pyplot as plt\n",
    "import seaborn as sns\n",
    "import matplotlib as mpl\n",
    "\n"
   ]
  },
  {
   "cell_type": "markdown",
   "id": "0f2bfc9a",
   "metadata": {},
   "source": [
    "### Load Data"
   ]
  },
  {
   "cell_type": "markdown",
   "id": "09e39bc8",
   "metadata": {},
   "source": [
    "Load the project data and have a look at the general information"
   ]
  },
  {
   "cell_type": "code",
   "execution_count": 2,
   "id": "733017ea",
   "metadata": {},
   "outputs": [],
   "source": [
    "try:\n",
    "    data_hypotheses = pd.read_csv('/datasets/hypotheses_us.csv', sep = ';')\n",
    "    orders = pd.read_csv('/datasets/orders_us.csv', sep = ',')\n",
    "    visits = pd.read_csv('/datasets/visits_us.csv', sep = ',')\n",
    "    \n",
    "except:\n",
    "    data_hypotheses = pd.read_csv('https://code.s3.yandex.net/datasets/hypotheses_us.csv', sep = ';')\n",
    "    orders = pd.read_csv('https://code.s3.yandex.net/datasets/orders_us.csv', sep = ',')\n",
    "    visits = pd.read_csv('https://code.s3.yandex.net/datasets/visits_us.csv', sep = ',')"
   ]
  },
  {
   "cell_type": "code",
   "execution_count": 3,
   "id": "f8f9c2de",
   "metadata": {},
   "outputs": [
    {
     "name": "stdout",
     "output_type": "stream",
     "text": [
      "<class 'pandas.core.frame.DataFrame'>\n",
      "RangeIndex: 9 entries, 0 to 8\n",
      "Data columns (total 5 columns):\n",
      " #   Column      Non-Null Count  Dtype \n",
      "---  ------      --------------  ----- \n",
      " 0   Hypothesis  9 non-null      object\n",
      " 1   Reach       9 non-null      int64 \n",
      " 2   Impact      9 non-null      int64 \n",
      " 3   Confidence  9 non-null      int64 \n",
      " 4   Effort      9 non-null      int64 \n",
      "dtypes: int64(4), object(1)\n",
      "memory usage: 488.0+ bytes\n"
     ]
    }
   ],
   "source": [
    "data_hypotheses.info()"
   ]
  },
  {
   "cell_type": "markdown",
   "id": "391eadd4",
   "metadata": {},
   "source": [
    "Description of the data\n",
    "\n",
    "* Hypotheses — brief descriptions of the hypotheses\n",
    "* Reach — user reach, on a scale of one to ten\n",
    "* Impact — impact on users, on a scale of one to ten\n",
    "* Confidence — confidence in the hypothesis, on a scale of one to ten\n",
    "* Effort — the resources required to test a hypothesis, on a scale of one to ten. The higher the Effort value, the more resource-intensive the test."
   ]
  },
  {
   "cell_type": "code",
   "execution_count": 4,
   "id": "96964366",
   "metadata": {},
   "outputs": [
    {
     "name": "stdout",
     "output_type": "stream",
     "text": [
      "<class 'pandas.core.frame.DataFrame'>\n",
      "RangeIndex: 1197 entries, 0 to 1196\n",
      "Data columns (total 5 columns):\n",
      " #   Column         Non-Null Count  Dtype  \n",
      "---  ------         --------------  -----  \n",
      " 0   transactionId  1197 non-null   int64  \n",
      " 1   visitorId      1197 non-null   int64  \n",
      " 2   date           1197 non-null   object \n",
      " 3   revenue        1197 non-null   float64\n",
      " 4   group          1197 non-null   object \n",
      "dtypes: float64(1), int64(2), object(2)\n",
      "memory usage: 46.9+ KB\n"
     ]
    }
   ],
   "source": [
    "orders.info()"
   ]
  },
  {
   "cell_type": "markdown",
   "id": "f6e8d4af",
   "metadata": {},
   "source": [
    "Description of the data:\n",
    "\n",
    "* transactionId — order identifier\n",
    "* visitorId — identifier of the user who placed the order\n",
    "* date — of the order\n",
    "* revenue — from the order\n",
    "* group — the A/B test group that the user belongs to "
   ]
  },
  {
   "cell_type": "code",
   "execution_count": 5,
   "id": "c26dcc85",
   "metadata": {},
   "outputs": [
    {
     "name": "stdout",
     "output_type": "stream",
     "text": [
      "<class 'pandas.core.frame.DataFrame'>\n",
      "RangeIndex: 62 entries, 0 to 61\n",
      "Data columns (total 3 columns):\n",
      " #   Column  Non-Null Count  Dtype \n",
      "---  ------  --------------  ----- \n",
      " 0   date    62 non-null     object\n",
      " 1   group   62 non-null     object\n",
      " 2   visits  62 non-null     int64 \n",
      "dtypes: int64(1), object(2)\n",
      "memory usage: 1.6+ KB\n"
     ]
    }
   ],
   "source": [
    "visits.info()"
   ]
  },
  {
   "cell_type": "markdown",
   "id": "fb7040cc",
   "metadata": {},
   "source": [
    "Description of the data:\n",
    "\n",
    "* date — date\n",
    "* group — A/B test group\n",
    "* visits — the number of visits on the date specified in the A/B test group specified"
   ]
  },
  {
   "cell_type": "markdown",
   "id": "a3d22031",
   "metadata": {},
   "source": [
    "It seems that there aren't missing values.\n",
    "As part of data preprocessing, I want to rename some columns with a more correct format and especially using only lowercases: this will simplify and speed up my code."
   ]
  },
  {
   "cell_type": "code",
   "execution_count": 6,
   "id": "f1b7b30c",
   "metadata": {},
   "outputs": [],
   "source": [
    "data_hypotheses.columns= data_hypotheses.columns.str.lower()"
   ]
  },
  {
   "cell_type": "code",
   "execution_count": 7,
   "id": "26b45a42",
   "metadata": {},
   "outputs": [],
   "source": [
    "orders.columns=['transaction_id', 'visitor_id', 'date', 'revenue', 'group']"
   ]
  },
  {
   "cell_type": "code",
   "execution_count": 8,
   "id": "faeec478",
   "metadata": {},
   "outputs": [
    {
     "data": {
      "text/html": [
       "<div>\n",
       "<style scoped>\n",
       "    .dataframe tbody tr th:only-of-type {\n",
       "        vertical-align: middle;\n",
       "    }\n",
       "\n",
       "    .dataframe tbody tr th {\n",
       "        vertical-align: top;\n",
       "    }\n",
       "\n",
       "    .dataframe thead th {\n",
       "        text-align: right;\n",
       "    }\n",
       "</style>\n",
       "<table border=\"1\" class=\"dataframe\">\n",
       "  <thead>\n",
       "    <tr style=\"text-align: right;\">\n",
       "      <th></th>\n",
       "      <th>hypothesis</th>\n",
       "      <th>reach</th>\n",
       "      <th>impact</th>\n",
       "      <th>confidence</th>\n",
       "      <th>effort</th>\n",
       "    </tr>\n",
       "  </thead>\n",
       "  <tbody>\n",
       "    <tr>\n",
       "      <th>0</th>\n",
       "      <td>Add two new channels for attracting traffic. T...</td>\n",
       "      <td>3</td>\n",
       "      <td>10</td>\n",
       "      <td>8</td>\n",
       "      <td>6</td>\n",
       "    </tr>\n",
       "    <tr>\n",
       "      <th>1</th>\n",
       "      <td>Launch your own delivery service. This will sh...</td>\n",
       "      <td>2</td>\n",
       "      <td>5</td>\n",
       "      <td>4</td>\n",
       "      <td>10</td>\n",
       "    </tr>\n",
       "    <tr>\n",
       "      <th>2</th>\n",
       "      <td>Add product recommendation blocks to the store...</td>\n",
       "      <td>8</td>\n",
       "      <td>3</td>\n",
       "      <td>7</td>\n",
       "      <td>3</td>\n",
       "    </tr>\n",
       "    <tr>\n",
       "      <th>3</th>\n",
       "      <td>Change the category structure. This will incre...</td>\n",
       "      <td>8</td>\n",
       "      <td>3</td>\n",
       "      <td>3</td>\n",
       "      <td>8</td>\n",
       "    </tr>\n",
       "    <tr>\n",
       "      <th>4</th>\n",
       "      <td>Change the background color on the main page. ...</td>\n",
       "      <td>3</td>\n",
       "      <td>1</td>\n",
       "      <td>1</td>\n",
       "      <td>1</td>\n",
       "    </tr>\n",
       "    <tr>\n",
       "      <th>5</th>\n",
       "      <td>Add a customer review page. This will increase...</td>\n",
       "      <td>3</td>\n",
       "      <td>2</td>\n",
       "      <td>2</td>\n",
       "      <td>3</td>\n",
       "    </tr>\n",
       "    <tr>\n",
       "      <th>6</th>\n",
       "      <td>Show banners with current offers and sales on ...</td>\n",
       "      <td>5</td>\n",
       "      <td>3</td>\n",
       "      <td>8</td>\n",
       "      <td>3</td>\n",
       "    </tr>\n",
       "    <tr>\n",
       "      <th>7</th>\n",
       "      <td>Add a subscription form to all the main pages....</td>\n",
       "      <td>10</td>\n",
       "      <td>7</td>\n",
       "      <td>8</td>\n",
       "      <td>5</td>\n",
       "    </tr>\n",
       "    <tr>\n",
       "      <th>8</th>\n",
       "      <td>Launch a promotion that gives users discounts ...</td>\n",
       "      <td>1</td>\n",
       "      <td>9</td>\n",
       "      <td>9</td>\n",
       "      <td>5</td>\n",
       "    </tr>\n",
       "  </tbody>\n",
       "</table>\n",
       "</div>"
      ],
      "text/plain": [
       "                                          hypothesis  reach  impact  \\\n",
       "0  Add two new channels for attracting traffic. T...      3      10   \n",
       "1  Launch your own delivery service. This will sh...      2       5   \n",
       "2  Add product recommendation blocks to the store...      8       3   \n",
       "3  Change the category structure. This will incre...      8       3   \n",
       "4  Change the background color on the main page. ...      3       1   \n",
       "5  Add a customer review page. This will increase...      3       2   \n",
       "6  Show banners with current offers and sales on ...      5       3   \n",
       "7  Add a subscription form to all the main pages....     10       7   \n",
       "8  Launch a promotion that gives users discounts ...      1       9   \n",
       "\n",
       "   confidence  effort  \n",
       "0           8       6  \n",
       "1           4      10  \n",
       "2           7       3  \n",
       "3           3       8  \n",
       "4           1       1  \n",
       "5           2       3  \n",
       "6           8       3  \n",
       "7           8       5  \n",
       "8           9       5  "
      ]
     },
     "execution_count": 8,
     "metadata": {},
     "output_type": "execute_result"
    }
   ],
   "source": [
    "data_hypotheses.head(10)"
   ]
  },
  {
   "cell_type": "code",
   "execution_count": 9,
   "id": "c13f662d",
   "metadata": {},
   "outputs": [
    {
     "data": {
      "text/html": [
       "<div>\n",
       "<style scoped>\n",
       "    .dataframe tbody tr th:only-of-type {\n",
       "        vertical-align: middle;\n",
       "    }\n",
       "\n",
       "    .dataframe tbody tr th {\n",
       "        vertical-align: top;\n",
       "    }\n",
       "\n",
       "    .dataframe thead th {\n",
       "        text-align: right;\n",
       "    }\n",
       "</style>\n",
       "<table border=\"1\" class=\"dataframe\">\n",
       "  <thead>\n",
       "    <tr style=\"text-align: right;\">\n",
       "      <th></th>\n",
       "      <th>transaction_id</th>\n",
       "      <th>visitor_id</th>\n",
       "      <th>date</th>\n",
       "      <th>revenue</th>\n",
       "      <th>group</th>\n",
       "    </tr>\n",
       "  </thead>\n",
       "  <tbody>\n",
       "    <tr>\n",
       "      <th>0</th>\n",
       "      <td>3667963787</td>\n",
       "      <td>3312258926</td>\n",
       "      <td>2019-08-15</td>\n",
       "      <td>30.4</td>\n",
       "      <td>B</td>\n",
       "    </tr>\n",
       "    <tr>\n",
       "      <th>1</th>\n",
       "      <td>2804400009</td>\n",
       "      <td>3642806036</td>\n",
       "      <td>2019-08-15</td>\n",
       "      <td>15.2</td>\n",
       "      <td>B</td>\n",
       "    </tr>\n",
       "    <tr>\n",
       "      <th>2</th>\n",
       "      <td>2961555356</td>\n",
       "      <td>4069496402</td>\n",
       "      <td>2019-08-15</td>\n",
       "      <td>10.2</td>\n",
       "      <td>A</td>\n",
       "    </tr>\n",
       "    <tr>\n",
       "      <th>3</th>\n",
       "      <td>3797467345</td>\n",
       "      <td>1196621759</td>\n",
       "      <td>2019-08-15</td>\n",
       "      <td>155.1</td>\n",
       "      <td>B</td>\n",
       "    </tr>\n",
       "    <tr>\n",
       "      <th>4</th>\n",
       "      <td>2282983706</td>\n",
       "      <td>2322279887</td>\n",
       "      <td>2019-08-15</td>\n",
       "      <td>40.5</td>\n",
       "      <td>B</td>\n",
       "    </tr>\n",
       "    <tr>\n",
       "      <th>5</th>\n",
       "      <td>182168103</td>\n",
       "      <td>935554773</td>\n",
       "      <td>2019-08-15</td>\n",
       "      <td>35.0</td>\n",
       "      <td>B</td>\n",
       "    </tr>\n",
       "    <tr>\n",
       "      <th>6</th>\n",
       "      <td>398296753</td>\n",
       "      <td>2900797465</td>\n",
       "      <td>2019-08-15</td>\n",
       "      <td>30.6</td>\n",
       "      <td>B</td>\n",
       "    </tr>\n",
       "    <tr>\n",
       "      <th>7</th>\n",
       "      <td>2626614568</td>\n",
       "      <td>78758296</td>\n",
       "      <td>2019-08-15</td>\n",
       "      <td>20.1</td>\n",
       "      <td>A</td>\n",
       "    </tr>\n",
       "    <tr>\n",
       "      <th>8</th>\n",
       "      <td>1576988021</td>\n",
       "      <td>295230930</td>\n",
       "      <td>2019-08-15</td>\n",
       "      <td>215.9</td>\n",
       "      <td>A</td>\n",
       "    </tr>\n",
       "    <tr>\n",
       "      <th>9</th>\n",
       "      <td>1506739906</td>\n",
       "      <td>1882260405</td>\n",
       "      <td>2019-08-15</td>\n",
       "      <td>30.5</td>\n",
       "      <td>B</td>\n",
       "    </tr>\n",
       "  </tbody>\n",
       "</table>\n",
       "</div>"
      ],
      "text/plain": [
       "   transaction_id  visitor_id        date  revenue group\n",
       "0      3667963787  3312258926  2019-08-15     30.4     B\n",
       "1      2804400009  3642806036  2019-08-15     15.2     B\n",
       "2      2961555356  4069496402  2019-08-15     10.2     A\n",
       "3      3797467345  1196621759  2019-08-15    155.1     B\n",
       "4      2282983706  2322279887  2019-08-15     40.5     B\n",
       "5       182168103   935554773  2019-08-15     35.0     B\n",
       "6       398296753  2900797465  2019-08-15     30.6     B\n",
       "7      2626614568    78758296  2019-08-15     20.1     A\n",
       "8      1576988021   295230930  2019-08-15    215.9     A\n",
       "9      1506739906  1882260405  2019-08-15     30.5     B"
      ]
     },
     "execution_count": 9,
     "metadata": {},
     "output_type": "execute_result"
    }
   ],
   "source": [
    "orders.head(10)"
   ]
  },
  {
   "cell_type": "code",
   "execution_count": 10,
   "id": "b27a3ea7",
   "metadata": {},
   "outputs": [
    {
     "data": {
      "text/html": [
       "<div>\n",
       "<style scoped>\n",
       "    .dataframe tbody tr th:only-of-type {\n",
       "        vertical-align: middle;\n",
       "    }\n",
       "\n",
       "    .dataframe tbody tr th {\n",
       "        vertical-align: top;\n",
       "    }\n",
       "\n",
       "    .dataframe thead th {\n",
       "        text-align: right;\n",
       "    }\n",
       "</style>\n",
       "<table border=\"1\" class=\"dataframe\">\n",
       "  <thead>\n",
       "    <tr style=\"text-align: right;\">\n",
       "      <th></th>\n",
       "      <th>date</th>\n",
       "      <th>group</th>\n",
       "      <th>visits</th>\n",
       "    </tr>\n",
       "  </thead>\n",
       "  <tbody>\n",
       "    <tr>\n",
       "      <th>48</th>\n",
       "      <td>2019-08-18</td>\n",
       "      <td>B</td>\n",
       "      <td>737</td>\n",
       "    </tr>\n",
       "    <tr>\n",
       "      <th>36</th>\n",
       "      <td>2019-08-06</td>\n",
       "      <td>B</td>\n",
       "      <td>655</td>\n",
       "    </tr>\n",
       "    <tr>\n",
       "      <th>44</th>\n",
       "      <td>2019-08-14</td>\n",
       "      <td>B</td>\n",
       "      <td>746</td>\n",
       "    </tr>\n",
       "    <tr>\n",
       "      <th>16</th>\n",
       "      <td>2019-08-17</td>\n",
       "      <td>A</td>\n",
       "      <td>412</td>\n",
       "    </tr>\n",
       "    <tr>\n",
       "      <th>43</th>\n",
       "      <td>2019-08-13</td>\n",
       "      <td>B</td>\n",
       "      <td>769</td>\n",
       "    </tr>\n",
       "    <tr>\n",
       "      <th>8</th>\n",
       "      <td>2019-08-09</td>\n",
       "      <td>A</td>\n",
       "      <td>617</td>\n",
       "    </tr>\n",
       "    <tr>\n",
       "      <th>60</th>\n",
       "      <td>2019-08-30</td>\n",
       "      <td>B</td>\n",
       "      <td>490</td>\n",
       "    </tr>\n",
       "    <tr>\n",
       "      <th>23</th>\n",
       "      <td>2019-08-24</td>\n",
       "      <td>A</td>\n",
       "      <td>395</td>\n",
       "    </tr>\n",
       "    <tr>\n",
       "      <th>59</th>\n",
       "      <td>2019-08-29</td>\n",
       "      <td>B</td>\n",
       "      <td>531</td>\n",
       "    </tr>\n",
       "    <tr>\n",
       "      <th>0</th>\n",
       "      <td>2019-08-01</td>\n",
       "      <td>A</td>\n",
       "      <td>719</td>\n",
       "    </tr>\n",
       "  </tbody>\n",
       "</table>\n",
       "</div>"
      ],
      "text/plain": [
       "          date group  visits\n",
       "48  2019-08-18     B     737\n",
       "36  2019-08-06     B     655\n",
       "44  2019-08-14     B     746\n",
       "16  2019-08-17     A     412\n",
       "43  2019-08-13     B     769\n",
       "8   2019-08-09     A     617\n",
       "60  2019-08-30     B     490\n",
       "23  2019-08-24     A     395\n",
       "59  2019-08-29     B     531\n",
       "0   2019-08-01     A     719"
      ]
     },
     "execution_count": 10,
     "metadata": {},
     "output_type": "execute_result"
    }
   ],
   "source": [
    "visits.sample(10)"
   ]
  },
  {
   "cell_type": "markdown",
   "id": "0ab83411",
   "metadata": {},
   "source": [
    "Another step that needs to be done, is to convert the datatype of the dates contained in the dataframes,from 'object' to the type 'datetime'. This step will save memory, will speed up the calculation and graph plots and will allow further analysis."
   ]
  },
  {
   "cell_type": "code",
   "execution_count": 11,
   "id": "116f0131",
   "metadata": {},
   "outputs": [],
   "source": [
    "orders['date'] = orders['date'].map(\n",
    "    lambda x: dt.datetime.strptime(x, '%Y-%m-%d')\n",
    ")"
   ]
  },
  {
   "cell_type": "code",
   "execution_count": 12,
   "id": "e0f5bf8f",
   "metadata": {},
   "outputs": [],
   "source": [
    "visits['date'] = visits['date'].map(\n",
    "    lambda x: dt.datetime.strptime(x, '%Y-%m-%d')\n",
    ")"
   ]
  },
  {
   "cell_type": "markdown",
   "id": "c2a1bcb7",
   "metadata": {},
   "source": [
    "I want to check if there are visitors who took part in the test in both groups A and B:"
   ]
  },
  {
   "cell_type": "code",
   "execution_count": 13,
   "id": "e35fe913",
   "metadata": {},
   "outputs": [],
   "source": [
    "orders_b=orders.query('group ==\"B\"')"
   ]
  },
  {
   "cell_type": "code",
   "execution_count": 14,
   "id": "113c0c77",
   "metadata": {},
   "outputs": [],
   "source": [
    "orders_a=orders.query('group ==\"A\"')"
   ]
  },
  {
   "cell_type": "code",
   "execution_count": 15,
   "id": "e11d8fb3",
   "metadata": {},
   "outputs": [],
   "source": [
    "f=orders_b.merge(orders_a, on='visitor_id')"
   ]
  },
  {
   "cell_type": "code",
   "execution_count": 16,
   "id": "c46b0fa8",
   "metadata": {},
   "outputs": [
    {
     "name": "stdout",
     "output_type": "stream",
     "text": [
      "<class 'pandas.core.frame.DataFrame'>\n",
      "Int64Index: 183 entries, 0 to 182\n",
      "Data columns (total 9 columns):\n",
      " #   Column            Non-Null Count  Dtype         \n",
      "---  ------            --------------  -----         \n",
      " 0   transaction_id_x  183 non-null    int64         \n",
      " 1   visitor_id        183 non-null    int64         \n",
      " 2   date_x            183 non-null    datetime64[ns]\n",
      " 3   revenue_x         183 non-null    float64       \n",
      " 4   group_x           183 non-null    object        \n",
      " 5   transaction_id_y  183 non-null    int64         \n",
      " 6   date_y            183 non-null    datetime64[ns]\n",
      " 7   revenue_y         183 non-null    float64       \n",
      " 8   group_y           183 non-null    object        \n",
      "dtypes: datetime64[ns](2), float64(2), int64(3), object(2)\n",
      "memory usage: 14.3+ KB\n"
     ]
    }
   ],
   "source": [
    "f.info()"
   ]
  },
  {
   "cell_type": "code",
   "execution_count": 17,
   "id": "98c7bd41",
   "metadata": {},
   "outputs": [
    {
     "name": "stdout",
     "output_type": "stream",
     "text": [
      "<class 'pandas.core.frame.DataFrame'>\n",
      "RangeIndex: 1197 entries, 0 to 1196\n",
      "Data columns (total 5 columns):\n",
      " #   Column          Non-Null Count  Dtype         \n",
      "---  ------          --------------  -----         \n",
      " 0   transaction_id  1197 non-null   int64         \n",
      " 1   visitor_id      1197 non-null   int64         \n",
      " 2   date            1197 non-null   datetime64[ns]\n",
      " 3   revenue         1197 non-null   float64       \n",
      " 4   group           1197 non-null   object        \n",
      "dtypes: datetime64[ns](1), float64(1), int64(2), object(1)\n",
      "memory usage: 46.9+ KB\n"
     ]
    }
   ],
   "source": [
    "orders.info()"
   ]
  },
  {
   "cell_type": "code",
   "execution_count": 18,
   "id": "294455a8",
   "metadata": {},
   "outputs": [
    {
     "name": "stdout",
     "output_type": "stream",
     "text": [
      "<class 'pandas.core.frame.DataFrame'>\n",
      "RangeIndex: 62 entries, 0 to 61\n",
      "Data columns (total 3 columns):\n",
      " #   Column  Non-Null Count  Dtype         \n",
      "---  ------  --------------  -----         \n",
      " 0   date    62 non-null     datetime64[ns]\n",
      " 1   group   62 non-null     object        \n",
      " 2   visits  62 non-null     int64         \n",
      "dtypes: datetime64[ns](1), int64(1), object(1)\n",
      "memory usage: 1.6+ KB\n"
     ]
    }
   ],
   "source": [
    "visits.info()"
   ]
  },
  {
   "cell_type": "markdown",
   "id": "04553cea",
   "metadata": {},
   "source": [
    "So, we have visitors who belongs to both group a and b. The best course of action would be to eliminate these visitors from the analysis. The main problem is that the dataframe \"visits\" contains data which is already aggregated, so it would be impossible for me to remove these customers from Visits.\n",
    "If we leave the customers that got into 2 tests, we get results that are not very reliable.\n",
    "If we only remove them from one part of analysis and leave in another one - again we get bad the results.\n",
    "So either way results can't be trusted, since I am working with pre-aggregated data.\n",
    "I will just use the data as it is."
   ]
  },
  {
   "cell_type": "markdown",
   "id": "f732555a",
   "metadata": {},
   "source": [
    "## Prioritizing Hypotheses\n",
    "\n",
    "The file hypotheses_us.csv contains nine hypotheses on boosting an online store's revenue with Reach, Impact, Confidence, and Effort specified for each.\n",
    "\n",
    "The task is to:\n",
    "\n",
    "* **Apply the ICE framework to prioritize hypotheses. Sort them in descending order of priority.**\n",
    "* **Apply the RICE framework to prioritize hypotheses. Sort them in descending order of priority.**\n",
    "* **Show how the prioritization of hypotheses changes when you use RICE instead of ICE. Provide an explanation for the changes.**"
   ]
  },
  {
   "cell_type": "markdown",
   "id": "58a63742",
   "metadata": {},
   "source": [
    "We prioritize hypotheses in order to cut expenses on experimentation and test only the most promising ideas.\n",
    "\n",
    "In this project we will look at two simple, but very useful techniques - RICE Scoring and the method of determining ICE priorities .\n",
    "\n",
    "RICE Score Method\n",
    "\n",
    "If you have several important and urgent features in the plan for implementation, how to understand which one to start first?\n",
    "\n",
    "This important prioritization issue is at the core of all product management. The fee for choosing the wrong option may be too high.\n",
    "\n",
    "It's a common situation: testing a hypothesis will cost a lot of money, but resources are limited. So I need to choose what to test and what to let go of. To try to ensure maximum growth of key business metrics, the hypotheses formulated have to be prioritized.\n",
    "\n",
    "**ICE and RICE**\n",
    "\n",
    "Impact, confidence, effort/ease (ICE) is one of the most popular ways of prioritizing problems"
   ]
  },
  {
   "cell_type": "markdown",
   "id": "2c50968b",
   "metadata": {},
   "source": [
    "***RICE*** is a method for prioritizing product ideas and features. The abbreviation includes 4 factors that the product manager can safely use to evaluate and prioritize product features:\n",
    "\n",
    "* Reach is how many users will be affected by the update you want to introduce\n",
    "* Impact - how strongly this update will affect the users, their experience, and their satisfaction with the product\n",
    "* Confidence - confidence in your assessment of coverage, impact and labor.\n",
    "* Effort - labor costs\n",
    "\n",
    "To get a score on RICE, you need to combine these factors.\n",
    "\n"
   ]
  },
  {
   "cell_type": "markdown",
   "id": "977e38df",
   "metadata": {},
   "source": [
    "RICE and ICE allow to define the most valuable tasks by calculating the score with the formulas. The higher the score the more profitable task for you. there's no need need to compare any criterion,just to choose the tasks with the highest score and work on it. That’s the easiest way to get things done. "
   ]
  },
  {
   "cell_type": "code",
   "execution_count": 19,
   "id": "85936ea1",
   "metadata": {},
   "outputs": [
    {
     "data": {
      "text/html": [
       "<div>\n",
       "<style scoped>\n",
       "    .dataframe tbody tr th:only-of-type {\n",
       "        vertical-align: middle;\n",
       "    }\n",
       "\n",
       "    .dataframe tbody tr th {\n",
       "        vertical-align: top;\n",
       "    }\n",
       "\n",
       "    .dataframe thead th {\n",
       "        text-align: right;\n",
       "    }\n",
       "</style>\n",
       "<table border=\"1\" class=\"dataframe\">\n",
       "  <thead>\n",
       "    <tr style=\"text-align: right;\">\n",
       "      <th></th>\n",
       "      <th>hypothesis</th>\n",
       "      <th>reach</th>\n",
       "      <th>impact</th>\n",
       "      <th>confidence</th>\n",
       "      <th>effort</th>\n",
       "    </tr>\n",
       "  </thead>\n",
       "  <tbody>\n",
       "    <tr>\n",
       "      <th>0</th>\n",
       "      <td>Add two new channels for attracting traffic. T...</td>\n",
       "      <td>3</td>\n",
       "      <td>10</td>\n",
       "      <td>8</td>\n",
       "      <td>6</td>\n",
       "    </tr>\n",
       "    <tr>\n",
       "      <th>1</th>\n",
       "      <td>Launch your own delivery service. This will sh...</td>\n",
       "      <td>2</td>\n",
       "      <td>5</td>\n",
       "      <td>4</td>\n",
       "      <td>10</td>\n",
       "    </tr>\n",
       "    <tr>\n",
       "      <th>2</th>\n",
       "      <td>Add product recommendation blocks to the store...</td>\n",
       "      <td>8</td>\n",
       "      <td>3</td>\n",
       "      <td>7</td>\n",
       "      <td>3</td>\n",
       "    </tr>\n",
       "    <tr>\n",
       "      <th>3</th>\n",
       "      <td>Change the category structure. This will incre...</td>\n",
       "      <td>8</td>\n",
       "      <td>3</td>\n",
       "      <td>3</td>\n",
       "      <td>8</td>\n",
       "    </tr>\n",
       "    <tr>\n",
       "      <th>4</th>\n",
       "      <td>Change the background color on the main page. ...</td>\n",
       "      <td>3</td>\n",
       "      <td>1</td>\n",
       "      <td>1</td>\n",
       "      <td>1</td>\n",
       "    </tr>\n",
       "    <tr>\n",
       "      <th>5</th>\n",
       "      <td>Add a customer review page. This will increase...</td>\n",
       "      <td>3</td>\n",
       "      <td>2</td>\n",
       "      <td>2</td>\n",
       "      <td>3</td>\n",
       "    </tr>\n",
       "    <tr>\n",
       "      <th>6</th>\n",
       "      <td>Show banners with current offers and sales on ...</td>\n",
       "      <td>5</td>\n",
       "      <td>3</td>\n",
       "      <td>8</td>\n",
       "      <td>3</td>\n",
       "    </tr>\n",
       "    <tr>\n",
       "      <th>7</th>\n",
       "      <td>Add a subscription form to all the main pages....</td>\n",
       "      <td>10</td>\n",
       "      <td>7</td>\n",
       "      <td>8</td>\n",
       "      <td>5</td>\n",
       "    </tr>\n",
       "    <tr>\n",
       "      <th>8</th>\n",
       "      <td>Launch a promotion that gives users discounts ...</td>\n",
       "      <td>1</td>\n",
       "      <td>9</td>\n",
       "      <td>9</td>\n",
       "      <td>5</td>\n",
       "    </tr>\n",
       "  </tbody>\n",
       "</table>\n",
       "</div>"
      ],
      "text/plain": [
       "                                          hypothesis  reach  impact  \\\n",
       "0  Add two new channels for attracting traffic. T...      3      10   \n",
       "1  Launch your own delivery service. This will sh...      2       5   \n",
       "2  Add product recommendation blocks to the store...      8       3   \n",
       "3  Change the category structure. This will incre...      8       3   \n",
       "4  Change the background color on the main page. ...      3       1   \n",
       "5  Add a customer review page. This will increase...      3       2   \n",
       "6  Show banners with current offers and sales on ...      5       3   \n",
       "7  Add a subscription form to all the main pages....     10       7   \n",
       "8  Launch a promotion that gives users discounts ...      1       9   \n",
       "\n",
       "   confidence  effort  \n",
       "0           8       6  \n",
       "1           4      10  \n",
       "2           7       3  \n",
       "3           3       8  \n",
       "4           1       1  \n",
       "5           2       3  \n",
       "6           8       3  \n",
       "7           8       5  \n",
       "8           9       5  "
      ]
     },
     "metadata": {},
     "output_type": "display_data"
    }
   ],
   "source": [
    "display(data_hypotheses)"
   ]
  },
  {
   "cell_type": "code",
   "execution_count": 20,
   "id": "a6386412",
   "metadata": {},
   "outputs": [
    {
     "name": "stdout",
     "output_type": "stream",
     "text": [
      "                                          hypothesis  reach  impact  \\\n",
      "0  Add two new channels for attracting traffic. T...      3      10   \n",
      "1  Launch your own delivery service. This will sh...      2       5   \n",
      "2  Add product recommendation blocks to the store...      8       3   \n",
      "3  Change the category structure. This will incre...      8       3   \n",
      "4  Change the background color on the main page. ...      3       1   \n",
      "5  Add a customer review page. This will increase...      3       2   \n",
      "6  Show banners with current offers and sales on ...      5       3   \n",
      "7  Add a subscription form to all the main pages....     10       7   \n",
      "8  Launch a promotion that gives users discounts ...      1       9   \n",
      "\n",
      "   confidence  effort  \n",
      "0           8       6  \n",
      "1           4      10  \n",
      "2           7       3  \n",
      "3           3       8  \n",
      "4           1       1  \n",
      "5           2       3  \n",
      "6           8       3  \n",
      "7           8       5  \n",
      "8           9       5  \n"
     ]
    }
   ],
   "source": [
    "print(data_hypotheses)"
   ]
  },
  {
   "cell_type": "code",
   "execution_count": 21,
   "id": "57328b5d",
   "metadata": {},
   "outputs": [],
   "source": [
    "data_dict = data_hypotheses.hypothesis.to_dict()"
   ]
  },
  {
   "cell_type": "code",
   "execution_count": 22,
   "id": "b7db739d",
   "metadata": {},
   "outputs": [
    {
     "data": {
      "text/plain": [
       "{0: 'Add two new channels for attracting traffic. This will bring 30% more users',\n",
       " 1: 'Launch your own delivery service. This will shorten delivery time',\n",
       " 2: \"Add product recommendation blocks to the store's site. This will increase conversion and average purchase size\",\n",
       " 3: 'Change the category structure. This will increase conversion since users will find the products they want more quickly',\n",
       " 4: 'Change the background color on the main page. This will increase user engagement',\n",
       " 5: 'Add a customer review page. This will increase the number of orders',\n",
       " 6: 'Show banners with current offers and sales on the main page. This will boost conversion',\n",
       " 7: 'Add a subscription form to all the main pages. This will help you compile a mailing list',\n",
       " 8: 'Launch a promotion that gives users discounts on their birthdays'}"
      ]
     },
     "metadata": {},
     "output_type": "display_data"
    }
   ],
   "source": [
    "display(data_dict)"
   ]
  },
  {
   "cell_type": "markdown",
   "id": "a4554a4e",
   "metadata": {},
   "source": [
    "ICE stands for Impact, Confidence, and Effort. With this method, you rate each idea on a numeric scale, usually 1-10, and then calculate a score for all ideas using the following equation:\n",
    "\n",
    "ICE score = Impact x Effort x Confidence.\n",
    "\n"
   ]
  },
  {
   "cell_type": "code",
   "execution_count": 23,
   "id": "5e73fee7",
   "metadata": {},
   "outputs": [
    {
     "data": {
      "text/html": [
       "<div>\n",
       "<style scoped>\n",
       "    .dataframe tbody tr th:only-of-type {\n",
       "        vertical-align: middle;\n",
       "    }\n",
       "\n",
       "    .dataframe tbody tr th {\n",
       "        vertical-align: top;\n",
       "    }\n",
       "\n",
       "    .dataframe thead th {\n",
       "        text-align: right;\n",
       "    }\n",
       "</style>\n",
       "<table border=\"1\" class=\"dataframe\">\n",
       "  <thead>\n",
       "    <tr style=\"text-align: right;\">\n",
       "      <th></th>\n",
       "      <th>hypothesis</th>\n",
       "      <th>reach</th>\n",
       "      <th>impact</th>\n",
       "      <th>confidence</th>\n",
       "      <th>effort</th>\n",
       "      <th>ICE</th>\n",
       "    </tr>\n",
       "  </thead>\n",
       "  <tbody>\n",
       "    <tr>\n",
       "      <th>0</th>\n",
       "      <td>Add two new channels for attracting traffic. T...</td>\n",
       "      <td>3</td>\n",
       "      <td>10</td>\n",
       "      <td>8</td>\n",
       "      <td>6</td>\n",
       "      <td>13.0</td>\n",
       "    </tr>\n",
       "    <tr>\n",
       "      <th>1</th>\n",
       "      <td>Launch your own delivery service. This will sh...</td>\n",
       "      <td>2</td>\n",
       "      <td>5</td>\n",
       "      <td>4</td>\n",
       "      <td>10</td>\n",
       "      <td>2.0</td>\n",
       "    </tr>\n",
       "    <tr>\n",
       "      <th>2</th>\n",
       "      <td>Add product recommendation blocks to the store...</td>\n",
       "      <td>8</td>\n",
       "      <td>3</td>\n",
       "      <td>7</td>\n",
       "      <td>3</td>\n",
       "      <td>7.0</td>\n",
       "    </tr>\n",
       "    <tr>\n",
       "      <th>3</th>\n",
       "      <td>Change the category structure. This will incre...</td>\n",
       "      <td>8</td>\n",
       "      <td>3</td>\n",
       "      <td>3</td>\n",
       "      <td>8</td>\n",
       "      <td>1.0</td>\n",
       "    </tr>\n",
       "    <tr>\n",
       "      <th>4</th>\n",
       "      <td>Change the background color on the main page. ...</td>\n",
       "      <td>3</td>\n",
       "      <td>1</td>\n",
       "      <td>1</td>\n",
       "      <td>1</td>\n",
       "      <td>1.0</td>\n",
       "    </tr>\n",
       "    <tr>\n",
       "      <th>5</th>\n",
       "      <td>Add a customer review page. This will increase...</td>\n",
       "      <td>3</td>\n",
       "      <td>2</td>\n",
       "      <td>2</td>\n",
       "      <td>3</td>\n",
       "      <td>1.0</td>\n",
       "    </tr>\n",
       "    <tr>\n",
       "      <th>6</th>\n",
       "      <td>Show banners with current offers and sales on ...</td>\n",
       "      <td>5</td>\n",
       "      <td>3</td>\n",
       "      <td>8</td>\n",
       "      <td>3</td>\n",
       "      <td>8.0</td>\n",
       "    </tr>\n",
       "    <tr>\n",
       "      <th>7</th>\n",
       "      <td>Add a subscription form to all the main pages....</td>\n",
       "      <td>10</td>\n",
       "      <td>7</td>\n",
       "      <td>8</td>\n",
       "      <td>5</td>\n",
       "      <td>11.0</td>\n",
       "    </tr>\n",
       "    <tr>\n",
       "      <th>8</th>\n",
       "      <td>Launch a promotion that gives users discounts ...</td>\n",
       "      <td>1</td>\n",
       "      <td>9</td>\n",
       "      <td>9</td>\n",
       "      <td>5</td>\n",
       "      <td>16.0</td>\n",
       "    </tr>\n",
       "  </tbody>\n",
       "</table>\n",
       "</div>"
      ],
      "text/plain": [
       "                                          hypothesis  reach  impact  \\\n",
       "0  Add two new channels for attracting traffic. T...      3      10   \n",
       "1  Launch your own delivery service. This will sh...      2       5   \n",
       "2  Add product recommendation blocks to the store...      8       3   \n",
       "3  Change the category structure. This will incre...      8       3   \n",
       "4  Change the background color on the main page. ...      3       1   \n",
       "5  Add a customer review page. This will increase...      3       2   \n",
       "6  Show banners with current offers and sales on ...      5       3   \n",
       "7  Add a subscription form to all the main pages....     10       7   \n",
       "8  Launch a promotion that gives users discounts ...      1       9   \n",
       "\n",
       "   confidence  effort   ICE  \n",
       "0           8       6  13.0  \n",
       "1           4      10   2.0  \n",
       "2           7       3   7.0  \n",
       "3           3       8   1.0  \n",
       "4           1       1   1.0  \n",
       "5           2       3   1.0  \n",
       "6           8       3   8.0  \n",
       "7           8       5  11.0  \n",
       "8           9       5  16.0  "
      ]
     },
     "metadata": {},
     "output_type": "display_data"
    }
   ],
   "source": [
    "data_hypotheses['ICE']=((data_hypotheses['confidence']*data_hypotheses['impact'])/data_hypotheses['effort']).round()\n",
    "display(data_hypotheses)\n",
    "data__hypotheses_new=data_hypotheses[['hypothesis','ICE']].sort_values(by='ICE', ascending=False)\n",
    "pd.options.display.max_colwidth = 210\n"
   ]
  },
  {
   "cell_type": "markdown",
   "id": "3cbdde95",
   "metadata": {},
   "source": [
    "Here we see that hypotheses 8 is the clear winner, and should be prioritised. "
   ]
  },
  {
   "cell_type": "markdown",
   "id": "15736ff0",
   "metadata": {},
   "source": [
    "While ICE is definitely a cool tool to use, we need a more substantial method for prioritisation. This is where RICE can help."
   ]
  },
  {
   "cell_type": "code",
   "execution_count": 24,
   "id": "16ace138",
   "metadata": {},
   "outputs": [
    {
     "data": {
      "text/html": [
       "<div>\n",
       "<style scoped>\n",
       "    .dataframe tbody tr th:only-of-type {\n",
       "        vertical-align: middle;\n",
       "    }\n",
       "\n",
       "    .dataframe tbody tr th {\n",
       "        vertical-align: top;\n",
       "    }\n",
       "\n",
       "    .dataframe thead th {\n",
       "        text-align: right;\n",
       "    }\n",
       "</style>\n",
       "<table border=\"1\" class=\"dataframe\">\n",
       "  <thead>\n",
       "    <tr style=\"text-align: right;\">\n",
       "      <th></th>\n",
       "      <th>hypothesis</th>\n",
       "      <th>reach</th>\n",
       "      <th>impact</th>\n",
       "      <th>confidence</th>\n",
       "      <th>effort</th>\n",
       "      <th>ICE</th>\n",
       "      <th>RICE</th>\n",
       "    </tr>\n",
       "  </thead>\n",
       "  <tbody>\n",
       "    <tr>\n",
       "      <th>0</th>\n",
       "      <td>Add two new channels for attracting traffic. This will bring 30% more users</td>\n",
       "      <td>3</td>\n",
       "      <td>10</td>\n",
       "      <td>8</td>\n",
       "      <td>6</td>\n",
       "      <td>13.0</td>\n",
       "      <td>40.0</td>\n",
       "    </tr>\n",
       "    <tr>\n",
       "      <th>1</th>\n",
       "      <td>Launch your own delivery service. This will shorten delivery time</td>\n",
       "      <td>2</td>\n",
       "      <td>5</td>\n",
       "      <td>4</td>\n",
       "      <td>10</td>\n",
       "      <td>2.0</td>\n",
       "      <td>4.0</td>\n",
       "    </tr>\n",
       "    <tr>\n",
       "      <th>2</th>\n",
       "      <td>Add product recommendation blocks to the store's site. This will increase conversion and average purchase size</td>\n",
       "      <td>8</td>\n",
       "      <td>3</td>\n",
       "      <td>7</td>\n",
       "      <td>3</td>\n",
       "      <td>7.0</td>\n",
       "      <td>56.0</td>\n",
       "    </tr>\n",
       "    <tr>\n",
       "      <th>3</th>\n",
       "      <td>Change the category structure. This will increase conversion since users will find the products they want more quickly</td>\n",
       "      <td>8</td>\n",
       "      <td>3</td>\n",
       "      <td>3</td>\n",
       "      <td>8</td>\n",
       "      <td>1.0</td>\n",
       "      <td>9.0</td>\n",
       "    </tr>\n",
       "    <tr>\n",
       "      <th>4</th>\n",
       "      <td>Change the background color on the main page. This will increase user engagement</td>\n",
       "      <td>3</td>\n",
       "      <td>1</td>\n",
       "      <td>1</td>\n",
       "      <td>1</td>\n",
       "      <td>1.0</td>\n",
       "      <td>3.0</td>\n",
       "    </tr>\n",
       "    <tr>\n",
       "      <th>5</th>\n",
       "      <td>Add a customer review page. This will increase the number of orders</td>\n",
       "      <td>3</td>\n",
       "      <td>2</td>\n",
       "      <td>2</td>\n",
       "      <td>3</td>\n",
       "      <td>1.0</td>\n",
       "      <td>4.0</td>\n",
       "    </tr>\n",
       "    <tr>\n",
       "      <th>6</th>\n",
       "      <td>Show banners with current offers and sales on the main page. This will boost conversion</td>\n",
       "      <td>5</td>\n",
       "      <td>3</td>\n",
       "      <td>8</td>\n",
       "      <td>3</td>\n",
       "      <td>8.0</td>\n",
       "      <td>40.0</td>\n",
       "    </tr>\n",
       "    <tr>\n",
       "      <th>7</th>\n",
       "      <td>Add a subscription form to all the main pages. This will help you compile a mailing list</td>\n",
       "      <td>10</td>\n",
       "      <td>7</td>\n",
       "      <td>8</td>\n",
       "      <td>5</td>\n",
       "      <td>11.0</td>\n",
       "      <td>112.0</td>\n",
       "    </tr>\n",
       "    <tr>\n",
       "      <th>8</th>\n",
       "      <td>Launch a promotion that gives users discounts on their birthdays</td>\n",
       "      <td>1</td>\n",
       "      <td>9</td>\n",
       "      <td>9</td>\n",
       "      <td>5</td>\n",
       "      <td>16.0</td>\n",
       "      <td>16.2</td>\n",
       "    </tr>\n",
       "  </tbody>\n",
       "</table>\n",
       "</div>"
      ],
      "text/plain": [
       "                                                                                                               hypothesis  \\\n",
       "0                                             Add two new channels for attracting traffic. This will bring 30% more users   \n",
       "1                                                       Launch your own delivery service. This will shorten delivery time   \n",
       "2          Add product recommendation blocks to the store's site. This will increase conversion and average purchase size   \n",
       "3  Change the category structure. This will increase conversion since users will find the products they want more quickly   \n",
       "4                                        Change the background color on the main page. This will increase user engagement   \n",
       "5                                                     Add a customer review page. This will increase the number of orders   \n",
       "6                                 Show banners with current offers and sales on the main page. This will boost conversion   \n",
       "7                                Add a subscription form to all the main pages. This will help you compile a mailing list   \n",
       "8                                                        Launch a promotion that gives users discounts on their birthdays   \n",
       "\n",
       "   reach  impact  confidence  effort   ICE   RICE  \n",
       "0      3      10           8       6  13.0   40.0  \n",
       "1      2       5           4      10   2.0    4.0  \n",
       "2      8       3           7       3   7.0   56.0  \n",
       "3      8       3           3       8   1.0    9.0  \n",
       "4      3       1           1       1   1.0    3.0  \n",
       "5      3       2           2       3   1.0    4.0  \n",
       "6      5       3           8       3   8.0   40.0  \n",
       "7     10       7           8       5  11.0  112.0  \n",
       "8      1       9           9       5  16.0   16.2  "
      ]
     },
     "metadata": {},
     "output_type": "display_data"
    },
    {
     "name": "stdout",
     "output_type": "stream",
     "text": [
      "                                                                                                               hypothesis  \\\n",
      "7                                Add a subscription form to all the main pages. This will help you compile a mailing list   \n",
      "2          Add product recommendation blocks to the store's site. This will increase conversion and average purchase size   \n",
      "0                                             Add two new channels for attracting traffic. This will bring 30% more users   \n",
      "6                                 Show banners with current offers and sales on the main page. This will boost conversion   \n",
      "8                                                        Launch a promotion that gives users discounts on their birthdays   \n",
      "3  Change the category structure. This will increase conversion since users will find the products they want more quickly   \n",
      "1                                                       Launch your own delivery service. This will shorten delivery time   \n",
      "5                                                     Add a customer review page. This will increase the number of orders   \n",
      "4                                        Change the background color on the main page. This will increase user engagement   \n",
      "\n",
      "    RICE  \n",
      "7  112.0  \n",
      "2   56.0  \n",
      "0   40.0  \n",
      "6   40.0  \n",
      "8   16.2  \n",
      "3    9.0  \n",
      "1    4.0  \n",
      "5    4.0  \n",
      "4    3.0  \n"
     ]
    }
   ],
   "source": [
    "data_hypotheses['RICE']=(data_hypotheses['reach']*data_hypotheses['confidence']*data_hypotheses['impact'])/data_hypotheses['effort']\n",
    "display(data_hypotheses)\n",
    "data_new=data_hypotheses[['hypothesis','RICE']].sort_values(by='RICE', ascending=False)\n",
    "print(data_new)"
   ]
  },
  {
   "cell_type": "markdown",
   "id": "cf828875",
   "metadata": {},
   "source": [
    "***By adding th reach parameter, we have a different vision of our hypotheses: the number 7 now looks like the one to prioritise since it will have a much higher reach, which means much more users will be affected by the change: on a scale from 1 to 10, the totality of the users will be  reached, giving a us a greater opportunity to boost revenue.***"
   ]
  },
  {
   "cell_type": "markdown",
   "id": "51541fdd",
   "metadata": {},
   "source": [
    "## A/B Test Analysis\n",
    "I carried out an A/B test and got the results described in the files orders_us.csv and visits_us.csv.\n",
    "Tasks that I will carry out in order to\n",
    "Analyze the A/B test:\n",
    "* Graph cumulative revenue by group. \n",
    "* Graph cumulative average order size by group. \n",
    "* Graph the relative difference in cumulative average order size for group B compared with group A.\n",
    "* Calculate each group's conversion rate as the ratio of orders to the number of visits for each day. Plot the daily conversion rates of the two groups and describe the difference. \n",
    "* Plot a scatter chart of the number of orders per user.\n",
    "* Calculate the 95th and 99th percentiles for the number of orders per user. Define the point at which a data point becomes an anomaly.\n",
    "* Plot a scatter chart of order prices. \n",
    "* Calculate the 95th and 99th percentiles of order prices. Define the point at which a data point becomes an anomaly.\n",
    "* Find the statistical significance of the difference in conversion between the groups using the raw data. \n",
    "* Find the statistical significance of the difference in average order size between the groups using the raw data. \n",
    "* Find the statistical significance of the difference in conversion between the groups using the filtered data.\n",
    "* Find the statistical significance of the difference in average order size between the groups using the filtered data.\n",
    "\n",
    "\n",
    "* Make a decision based on the test results. The possible decisions are: \n",
    "*   * 1. Stop the test, consider one of the groups the leader. \n",
    "    * 2. Stop the test, conclude that there is no difference between the groups. \n",
    "    * 3. Continue the test."
   ]
  },
  {
   "cell_type": "markdown",
   "id": "9bb8aa6e",
   "metadata": {},
   "source": [
    "### Graph cumulative revenue by group."
   ]
  },
  {
   "cell_type": "code",
   "execution_count": 25,
   "id": "a68d4fd5",
   "metadata": {},
   "outputs": [
    {
     "data": {
      "text/html": [
       "<div>\n",
       "<style scoped>\n",
       "    .dataframe tbody tr th:only-of-type {\n",
       "        vertical-align: middle;\n",
       "    }\n",
       "\n",
       "    .dataframe tbody tr th {\n",
       "        vertical-align: top;\n",
       "    }\n",
       "\n",
       "    .dataframe thead th {\n",
       "        text-align: right;\n",
       "    }\n",
       "</style>\n",
       "<table border=\"1\" class=\"dataframe\">\n",
       "  <thead>\n",
       "    <tr style=\"text-align: right;\">\n",
       "      <th></th>\n",
       "      <th>transaction_id</th>\n",
       "      <th>visitor_id</th>\n",
       "      <th>date</th>\n",
       "      <th>revenue</th>\n",
       "      <th>group</th>\n",
       "    </tr>\n",
       "  </thead>\n",
       "  <tbody>\n",
       "    <tr>\n",
       "      <th>0</th>\n",
       "      <td>3667963787</td>\n",
       "      <td>3312258926</td>\n",
       "      <td>2019-08-15</td>\n",
       "      <td>30.4</td>\n",
       "      <td>B</td>\n",
       "    </tr>\n",
       "    <tr>\n",
       "      <th>1</th>\n",
       "      <td>2804400009</td>\n",
       "      <td>3642806036</td>\n",
       "      <td>2019-08-15</td>\n",
       "      <td>15.2</td>\n",
       "      <td>B</td>\n",
       "    </tr>\n",
       "    <tr>\n",
       "      <th>2</th>\n",
       "      <td>2961555356</td>\n",
       "      <td>4069496402</td>\n",
       "      <td>2019-08-15</td>\n",
       "      <td>10.2</td>\n",
       "      <td>A</td>\n",
       "    </tr>\n",
       "    <tr>\n",
       "      <th>3</th>\n",
       "      <td>3797467345</td>\n",
       "      <td>1196621759</td>\n",
       "      <td>2019-08-15</td>\n",
       "      <td>155.1</td>\n",
       "      <td>B</td>\n",
       "    </tr>\n",
       "    <tr>\n",
       "      <th>4</th>\n",
       "      <td>2282983706</td>\n",
       "      <td>2322279887</td>\n",
       "      <td>2019-08-15</td>\n",
       "      <td>40.5</td>\n",
       "      <td>B</td>\n",
       "    </tr>\n",
       "  </tbody>\n",
       "</table>\n",
       "</div>"
      ],
      "text/plain": [
       "   transaction_id  visitor_id       date  revenue group\n",
       "0      3667963787  3312258926 2019-08-15     30.4     B\n",
       "1      2804400009  3642806036 2019-08-15     15.2     B\n",
       "2      2961555356  4069496402 2019-08-15     10.2     A\n",
       "3      3797467345  1196621759 2019-08-15    155.1     B\n",
       "4      2282983706  2322279887 2019-08-15     40.5     B"
      ]
     },
     "execution_count": 25,
     "metadata": {},
     "output_type": "execute_result"
    }
   ],
   "source": [
    "orders.head()"
   ]
  },
  {
   "cell_type": "code",
   "execution_count": 26,
   "id": "dbed54b4",
   "metadata": {},
   "outputs": [
    {
     "data": {
      "text/html": [
       "<div>\n",
       "<style scoped>\n",
       "    .dataframe tbody tr th:only-of-type {\n",
       "        vertical-align: middle;\n",
       "    }\n",
       "\n",
       "    .dataframe tbody tr th {\n",
       "        vertical-align: top;\n",
       "    }\n",
       "\n",
       "    .dataframe thead th {\n",
       "        text-align: right;\n",
       "    }\n",
       "</style>\n",
       "<table border=\"1\" class=\"dataframe\">\n",
       "  <thead>\n",
       "    <tr style=\"text-align: right;\">\n",
       "      <th></th>\n",
       "      <th>date</th>\n",
       "      <th>group</th>\n",
       "      <th>visits</th>\n",
       "    </tr>\n",
       "  </thead>\n",
       "  <tbody>\n",
       "    <tr>\n",
       "      <th>0</th>\n",
       "      <td>2019-08-01</td>\n",
       "      <td>A</td>\n",
       "      <td>719</td>\n",
       "    </tr>\n",
       "    <tr>\n",
       "      <th>1</th>\n",
       "      <td>2019-08-02</td>\n",
       "      <td>A</td>\n",
       "      <td>619</td>\n",
       "    </tr>\n",
       "    <tr>\n",
       "      <th>2</th>\n",
       "      <td>2019-08-03</td>\n",
       "      <td>A</td>\n",
       "      <td>507</td>\n",
       "    </tr>\n",
       "    <tr>\n",
       "      <th>3</th>\n",
       "      <td>2019-08-04</td>\n",
       "      <td>A</td>\n",
       "      <td>717</td>\n",
       "    </tr>\n",
       "    <tr>\n",
       "      <th>4</th>\n",
       "      <td>2019-08-05</td>\n",
       "      <td>A</td>\n",
       "      <td>756</td>\n",
       "    </tr>\n",
       "  </tbody>\n",
       "</table>\n",
       "</div>"
      ],
      "text/plain": [
       "        date group  visits\n",
       "0 2019-08-01     A     719\n",
       "1 2019-08-02     A     619\n",
       "2 2019-08-03     A     507\n",
       "3 2019-08-04     A     717\n",
       "4 2019-08-05     A     756"
      ]
     },
     "execution_count": 26,
     "metadata": {},
     "output_type": "execute_result"
    }
   ],
   "source": [
    "visits.head()"
   ]
  },
  {
   "cell_type": "markdown",
   "id": "d48a781c",
   "metadata": {},
   "source": [
    "To plot the graphs, we have to collect cumulative data. Let's declare a DataFrame called cumulative_data with the following columns:\n",
    "* date\n",
    "* group\n",
    "* orders — the number of orders on the date specified for the group specified\n",
    "* buyers — the number of users who make at least one order on the date specified for the group specified\n",
    "* revenue — the revenue on the date specified for the group specified (average purchase size)\n",
    "* visitors — the number of visitors to the online store on the date specified for the group specified\n",
    "We'll build an array with unique paired date-group values using the drop_duplicates() method:\n"
   ]
  },
  {
   "cell_type": "markdown",
   "id": "1a16c8dc",
   "metadata": {},
   "source": [
    "##### building an array with unique paired date-group values"
   ]
  },
  {
   "cell_type": "code",
   "execution_count": 27,
   "id": "5f199068",
   "metadata": {},
   "outputs": [],
   "source": [
    "dates_groups = orders[['date','group']].drop_duplicates()"
   ]
  },
  {
   "cell_type": "markdown",
   "id": "f1ca1c04",
   "metadata": {},
   "source": [
    "Let's collect the aggregated cumulative daily data on orders in several steps.\n",
    "In the first part of the code, we get the rows of the orders table where the date is less than or equal to the date of the datesGroups element and the test group is the same as in datesGroups:\n",
    "orders[np.logical_and(orders['date'] <= x['date'], orders['group'] == x['group'])].\n",
    "In the second part, we aggregate the values. We find the maximum date. We'll find the maximum value for the group, too, so that we have the 'group' column in our final output. We find the number of unique order and user IDs and calculate the sum of average purchase sizes: .agg({'date' : 'max', 'group' : 'max', 'orderId' : pd.Series.nunique, 'userId' : pd.Series.nunique, 'revenue' : 'sum'})\n",
    "We'll apply the methods to each row of the DataFrame (apply(axix=1)) and sort the results by the columns 'date' and 'group'. Putting this all together, we get:"
   ]
  },
  {
   "cell_type": "code",
   "execution_count": 28,
   "id": "bce12367",
   "metadata": {},
   "outputs": [
    {
     "name": "stdout",
     "output_type": "stream",
     "text": [
      "          date group  transaction_id  visitor_id  revenue\n",
      "55  2019-08-01     A              24          20   2356.8\n",
      "66  2019-08-01     B              21          20   1620.0\n",
      "175 2019-08-02     A              44          38   3860.3\n",
      "173 2019-08-02     B              45          43   4243.8\n",
      "291 2019-08-03     A              68          62   5675.5\n"
     ]
    }
   ],
   "source": [
    "dates_groups = orders[['date', 'group']].drop_duplicates()\n",
    "\n",
    "orders_aggregated = dates_groups.apply(\n",
    "    lambda x: orders[\n",
    "        np.logical_and(\n",
    "            orders['date'] <= x['date'], orders['group'] == x['group']\n",
    "        )\n",
    "    ].agg(\n",
    "        {\n",
    "            'date': 'max',\n",
    "            'group': 'max',\n",
    "            'transaction_id': pd.Series.nunique,\n",
    "            'visitor_id': pd.Series.nunique,\n",
    "            'revenue': 'sum',\n",
    "        }\n",
    "    ),\n",
    "    axis=1,\n",
    ").sort_values(by=['date', 'group'])\n",
    "\n",
    "print(orders_aggregated.head())\n"
   ]
  },
  {
   "cell_type": "code",
   "execution_count": 29,
   "id": "06b9c10d",
   "metadata": {},
   "outputs": [
    {
     "name": "stdout",
     "output_type": "stream",
     "text": [
      "          date group  visits\n",
      "55  2019-08-01     A     719\n",
      "66  2019-08-01     B     713\n",
      "175 2019-08-02     A    1338\n",
      "173 2019-08-02     B    1294\n",
      "291 2019-08-03     A    1845\n"
     ]
    }
   ],
   "source": [
    "visits_aggregated = dates_groups.apply(\n",
    "    lambda x: visits[\n",
    "        np.logical_and(\n",
    "            visits['date'] <= x['date'], visits['group'] == x['group']\n",
    "        )\n",
    "    ].agg({'date': 'max', 'group': 'max', 'visits': 'sum'}),\n",
    "    axis=1,\n",
    ").sort_values(by=['date', 'group'])\n",
    "\n",
    "print(visits_aggregated.head())"
   ]
  },
  {
   "cell_type": "code",
   "execution_count": 30,
   "id": "cae42067",
   "metadata": {},
   "outputs": [],
   "source": [
    "cumulative_data = orders_aggregated.merge(\n",
    "    visits_aggregated, left_on=['date', 'group'], right_on=['date', 'group']\n",
    ")"
   ]
  },
  {
   "cell_type": "code",
   "execution_count": 31,
   "id": "df29a770",
   "metadata": {},
   "outputs": [],
   "source": [
    "cumulative_data.columns = [\n",
    "    'date',\n",
    "    'group',\n",
    "    'orders',\n",
    "    'buyers',\n",
    "    'revenue',\n",
    "    'visitors',\n",
    "]\n"
   ]
  },
  {
   "cell_type": "code",
   "execution_count": 32,
   "id": "8f22df4c",
   "metadata": {},
   "outputs": [
    {
     "data": {
      "text/html": [
       "<div>\n",
       "<style scoped>\n",
       "    .dataframe tbody tr th:only-of-type {\n",
       "        vertical-align: middle;\n",
       "    }\n",
       "\n",
       "    .dataframe tbody tr th {\n",
       "        vertical-align: top;\n",
       "    }\n",
       "\n",
       "    .dataframe thead th {\n",
       "        text-align: right;\n",
       "    }\n",
       "</style>\n",
       "<table border=\"1\" class=\"dataframe\">\n",
       "  <thead>\n",
       "    <tr style=\"text-align: right;\">\n",
       "      <th></th>\n",
       "      <th>date</th>\n",
       "      <th>group</th>\n",
       "      <th>orders</th>\n",
       "      <th>buyers</th>\n",
       "      <th>revenue</th>\n",
       "      <th>visitors</th>\n",
       "    </tr>\n",
       "  </thead>\n",
       "  <tbody>\n",
       "    <tr>\n",
       "      <th>0</th>\n",
       "      <td>2019-08-01</td>\n",
       "      <td>A</td>\n",
       "      <td>24</td>\n",
       "      <td>20</td>\n",
       "      <td>2356.8</td>\n",
       "      <td>719</td>\n",
       "    </tr>\n",
       "    <tr>\n",
       "      <th>1</th>\n",
       "      <td>2019-08-01</td>\n",
       "      <td>B</td>\n",
       "      <td>21</td>\n",
       "      <td>20</td>\n",
       "      <td>1620.0</td>\n",
       "      <td>713</td>\n",
       "    </tr>\n",
       "    <tr>\n",
       "      <th>2</th>\n",
       "      <td>2019-08-02</td>\n",
       "      <td>A</td>\n",
       "      <td>44</td>\n",
       "      <td>38</td>\n",
       "      <td>3860.3</td>\n",
       "      <td>1338</td>\n",
       "    </tr>\n",
       "    <tr>\n",
       "      <th>3</th>\n",
       "      <td>2019-08-02</td>\n",
       "      <td>B</td>\n",
       "      <td>45</td>\n",
       "      <td>43</td>\n",
       "      <td>4243.8</td>\n",
       "      <td>1294</td>\n",
       "    </tr>\n",
       "    <tr>\n",
       "      <th>4</th>\n",
       "      <td>2019-08-03</td>\n",
       "      <td>A</td>\n",
       "      <td>68</td>\n",
       "      <td>62</td>\n",
       "      <td>5675.5</td>\n",
       "      <td>1845</td>\n",
       "    </tr>\n",
       "    <tr>\n",
       "      <th>...</th>\n",
       "      <td>...</td>\n",
       "      <td>...</td>\n",
       "      <td>...</td>\n",
       "      <td>...</td>\n",
       "      <td>...</td>\n",
       "      <td>...</td>\n",
       "    </tr>\n",
       "    <tr>\n",
       "      <th>57</th>\n",
       "      <td>2019-08-29</td>\n",
       "      <td>B</td>\n",
       "      <td>596</td>\n",
       "      <td>544</td>\n",
       "      <td>87343.0</td>\n",
       "      <td>17708</td>\n",
       "    </tr>\n",
       "    <tr>\n",
       "      <th>58</th>\n",
       "      <td>2019-08-30</td>\n",
       "      <td>A</td>\n",
       "      <td>545</td>\n",
       "      <td>493</td>\n",
       "      <td>63563.5</td>\n",
       "      <td>18037</td>\n",
       "    </tr>\n",
       "    <tr>\n",
       "      <th>59</th>\n",
       "      <td>2019-08-30</td>\n",
       "      <td>B</td>\n",
       "      <td>620</td>\n",
       "      <td>567</td>\n",
       "      <td>90736.3</td>\n",
       "      <td>18198</td>\n",
       "    </tr>\n",
       "    <tr>\n",
       "      <th>60</th>\n",
       "      <td>2019-08-31</td>\n",
       "      <td>A</td>\n",
       "      <td>557</td>\n",
       "      <td>503</td>\n",
       "      <td>64554.9</td>\n",
       "      <td>18736</td>\n",
       "    </tr>\n",
       "    <tr>\n",
       "      <th>61</th>\n",
       "      <td>2019-08-31</td>\n",
       "      <td>B</td>\n",
       "      <td>640</td>\n",
       "      <td>586</td>\n",
       "      <td>92840.6</td>\n",
       "      <td>18916</td>\n",
       "    </tr>\n",
       "  </tbody>\n",
       "</table>\n",
       "<p>62 rows × 6 columns</p>\n",
       "</div>"
      ],
      "text/plain": [
       "         date group  orders  buyers  revenue  visitors\n",
       "0  2019-08-01     A      24      20   2356.8       719\n",
       "1  2019-08-01     B      21      20   1620.0       713\n",
       "2  2019-08-02     A      44      38   3860.3      1338\n",
       "3  2019-08-02     B      45      43   4243.8      1294\n",
       "4  2019-08-03     A      68      62   5675.5      1845\n",
       "..        ...   ...     ...     ...      ...       ...\n",
       "57 2019-08-29     B     596     544  87343.0     17708\n",
       "58 2019-08-30     A     545     493  63563.5     18037\n",
       "59 2019-08-30     B     620     567  90736.3     18198\n",
       "60 2019-08-31     A     557     503  64554.9     18736\n",
       "61 2019-08-31     B     640     586  92840.6     18916\n",
       "\n",
       "[62 rows x 6 columns]"
      ]
     },
     "execution_count": 32,
     "metadata": {},
     "output_type": "execute_result"
    }
   ],
   "source": [
    "cumulative_data"
   ]
  },
  {
   "cell_type": "code",
   "execution_count": 33,
   "id": "157bf978",
   "metadata": {},
   "outputs": [],
   "source": [
    "cumulative_data_a = cumulative_data[cumulative_data['group'] == 'A']\n",
    "cumulative_data_b = cumulative_data[cumulative_data['group'] == 'B']"
   ]
  },
  {
   "cell_type": "code",
   "execution_count": 34,
   "id": "2e0f3c36",
   "metadata": {},
   "outputs": [
    {
     "name": "stderr",
     "output_type": "stream",
     "text": [
      "C:\\Users\\User\\AppData\\Local\\Temp\\ipykernel_20576\\3148436970.py:1: SettingWithCopyWarning: \n",
      "A value is trying to be set on a copy of a slice from a DataFrame.\n",
      "Try using .loc[row_indexer,col_indexer] = value instead\n",
      "\n",
      "See the caveats in the documentation: https://pandas.pydata.org/pandas-docs/stable/user_guide/indexing.html#returning-a-view-versus-a-copy\n",
      "  cumulative_data_a['cumul_rev']=cumulative_data_a['revenue'].cumsum()\n"
     ]
    },
    {
     "data": {
      "text/html": [
       "<div>\n",
       "<style scoped>\n",
       "    .dataframe tbody tr th:only-of-type {\n",
       "        vertical-align: middle;\n",
       "    }\n",
       "\n",
       "    .dataframe tbody tr th {\n",
       "        vertical-align: top;\n",
       "    }\n",
       "\n",
       "    .dataframe thead th {\n",
       "        text-align: right;\n",
       "    }\n",
       "</style>\n",
       "<table border=\"1\" class=\"dataframe\">\n",
       "  <thead>\n",
       "    <tr style=\"text-align: right;\">\n",
       "      <th></th>\n",
       "      <th>date</th>\n",
       "      <th>group</th>\n",
       "      <th>orders</th>\n",
       "      <th>buyers</th>\n",
       "      <th>revenue</th>\n",
       "      <th>visitors</th>\n",
       "      <th>cumul_rev</th>\n",
       "    </tr>\n",
       "  </thead>\n",
       "  <tbody>\n",
       "    <tr>\n",
       "      <th>0</th>\n",
       "      <td>2019-08-01</td>\n",
       "      <td>A</td>\n",
       "      <td>24</td>\n",
       "      <td>20</td>\n",
       "      <td>2356.8</td>\n",
       "      <td>719</td>\n",
       "      <td>2356.8</td>\n",
       "    </tr>\n",
       "    <tr>\n",
       "      <th>2</th>\n",
       "      <td>2019-08-02</td>\n",
       "      <td>A</td>\n",
       "      <td>44</td>\n",
       "      <td>38</td>\n",
       "      <td>3860.3</td>\n",
       "      <td>1338</td>\n",
       "      <td>6217.1</td>\n",
       "    </tr>\n",
       "    <tr>\n",
       "      <th>4</th>\n",
       "      <td>2019-08-03</td>\n",
       "      <td>A</td>\n",
       "      <td>68</td>\n",
       "      <td>62</td>\n",
       "      <td>5675.5</td>\n",
       "      <td>1845</td>\n",
       "      <td>11892.6</td>\n",
       "    </tr>\n",
       "    <tr>\n",
       "      <th>6</th>\n",
       "      <td>2019-08-04</td>\n",
       "      <td>A</td>\n",
       "      <td>84</td>\n",
       "      <td>77</td>\n",
       "      <td>6822.1</td>\n",
       "      <td>2562</td>\n",
       "      <td>18714.7</td>\n",
       "    </tr>\n",
       "    <tr>\n",
       "      <th>8</th>\n",
       "      <td>2019-08-05</td>\n",
       "      <td>A</td>\n",
       "      <td>109</td>\n",
       "      <td>100</td>\n",
       "      <td>8810.2</td>\n",
       "      <td>3318</td>\n",
       "      <td>27524.9</td>\n",
       "    </tr>\n",
       "  </tbody>\n",
       "</table>\n",
       "</div>"
      ],
      "text/plain": [
       "        date group  orders  buyers  revenue  visitors  cumul_rev\n",
       "0 2019-08-01     A      24      20   2356.8       719     2356.8\n",
       "2 2019-08-02     A      44      38   3860.3      1338     6217.1\n",
       "4 2019-08-03     A      68      62   5675.5      1845    11892.6\n",
       "6 2019-08-04     A      84      77   6822.1      2562    18714.7\n",
       "8 2019-08-05     A     109     100   8810.2      3318    27524.9"
      ]
     },
     "execution_count": 34,
     "metadata": {},
     "output_type": "execute_result"
    }
   ],
   "source": [
    "cumulative_data_a['cumul_rev']=cumulative_data_a['revenue'].cumsum()\n",
    "cumulative_data_a.head()"
   ]
  },
  {
   "cell_type": "code",
   "execution_count": 35,
   "id": "f13097de",
   "metadata": {},
   "outputs": [
    {
     "name": "stderr",
     "output_type": "stream",
     "text": [
      "C:\\Users\\User\\AppData\\Local\\Temp\\ipykernel_20576\\35565988.py:1: SettingWithCopyWarning: \n",
      "A value is trying to be set on a copy of a slice from a DataFrame.\n",
      "Try using .loc[row_indexer,col_indexer] = value instead\n",
      "\n",
      "See the caveats in the documentation: https://pandas.pydata.org/pandas-docs/stable/user_guide/indexing.html#returning-a-view-versus-a-copy\n",
      "  cumulative_data_b['cumul_rev']=cumulative_data_b['revenue'].cumsum()\n"
     ]
    },
    {
     "data": {
      "text/html": [
       "<div>\n",
       "<style scoped>\n",
       "    .dataframe tbody tr th:only-of-type {\n",
       "        vertical-align: middle;\n",
       "    }\n",
       "\n",
       "    .dataframe tbody tr th {\n",
       "        vertical-align: top;\n",
       "    }\n",
       "\n",
       "    .dataframe thead th {\n",
       "        text-align: right;\n",
       "    }\n",
       "</style>\n",
       "<table border=\"1\" class=\"dataframe\">\n",
       "  <thead>\n",
       "    <tr style=\"text-align: right;\">\n",
       "      <th></th>\n",
       "      <th>date</th>\n",
       "      <th>group</th>\n",
       "      <th>orders</th>\n",
       "      <th>buyers</th>\n",
       "      <th>revenue</th>\n",
       "      <th>visitors</th>\n",
       "      <th>cumul_rev</th>\n",
       "    </tr>\n",
       "  </thead>\n",
       "  <tbody>\n",
       "    <tr>\n",
       "      <th>1</th>\n",
       "      <td>2019-08-01</td>\n",
       "      <td>B</td>\n",
       "      <td>21</td>\n",
       "      <td>20</td>\n",
       "      <td>1620.0</td>\n",
       "      <td>713</td>\n",
       "      <td>1620.0</td>\n",
       "    </tr>\n",
       "    <tr>\n",
       "      <th>3</th>\n",
       "      <td>2019-08-02</td>\n",
       "      <td>B</td>\n",
       "      <td>45</td>\n",
       "      <td>43</td>\n",
       "      <td>4243.8</td>\n",
       "      <td>1294</td>\n",
       "      <td>5863.8</td>\n",
       "    </tr>\n",
       "    <tr>\n",
       "      <th>5</th>\n",
       "      <td>2019-08-03</td>\n",
       "      <td>B</td>\n",
       "      <td>61</td>\n",
       "      <td>59</td>\n",
       "      <td>6050.6</td>\n",
       "      <td>1803</td>\n",
       "      <td>11914.4</td>\n",
       "    </tr>\n",
       "    <tr>\n",
       "      <th>7</th>\n",
       "      <td>2019-08-04</td>\n",
       "      <td>B</td>\n",
       "      <td>78</td>\n",
       "      <td>75</td>\n",
       "      <td>7767.9</td>\n",
       "      <td>2573</td>\n",
       "      <td>19682.3</td>\n",
       "    </tr>\n",
       "    <tr>\n",
       "      <th>9</th>\n",
       "      <td>2019-08-05</td>\n",
       "      <td>B</td>\n",
       "      <td>101</td>\n",
       "      <td>98</td>\n",
       "      <td>9262.9</td>\n",
       "      <td>3280</td>\n",
       "      <td>28945.2</td>\n",
       "    </tr>\n",
       "  </tbody>\n",
       "</table>\n",
       "</div>"
      ],
      "text/plain": [
       "        date group  orders  buyers  revenue  visitors  cumul_rev\n",
       "1 2019-08-01     B      21      20   1620.0       713     1620.0\n",
       "3 2019-08-02     B      45      43   4243.8      1294     5863.8\n",
       "5 2019-08-03     B      61      59   6050.6      1803    11914.4\n",
       "7 2019-08-04     B      78      75   7767.9      2573    19682.3\n",
       "9 2019-08-05     B     101      98   9262.9      3280    28945.2"
      ]
     },
     "execution_count": 35,
     "metadata": {},
     "output_type": "execute_result"
    }
   ],
   "source": [
    "cumulative_data_b['cumul_rev']=cumulative_data_b['revenue'].cumsum()\n",
    "cumulative_data_b.head()"
   ]
  },
  {
   "cell_type": "code",
   "execution_count": 36,
   "id": "59582edb",
   "metadata": {},
   "outputs": [
    {
     "data": {
      "image/png": "[encoded data removed]",
      "text/plain": [
       "<Figure size 1080x432 with 1 Axes>"
      ]
     },
     "metadata": {
      "needs_background": "light"
     },
     "output_type": "display_data"
    }
   ],
   "source": [
    "plt.rcParams[\"figure.figsize\"] = (15,6)\n",
    "plt.plot(cumulative_data_a['date'], cumulative_data_a['cumul_rev'], label='cumulative revenue group A')\n",
    "plt.plot(cumulative_data_b['date'], cumulative_data_b['cumul_rev'], label='cumulative revenue group B')\n",
    "plt.title(\" cumulative revenue\")\n",
    "plt.legend()\n",
    "plt.show()"
   ]
  },
  {
   "cell_type": "code",
   "execution_count": 37,
   "id": "e1d13249",
   "metadata": {},
   "outputs": [
    {
     "data": {
      "image/png": "[encoded data removed]",
      "text/plain": [
       "<Figure size 1080x432 with 1 Axes>"
      ]
     },
     "metadata": {
      "needs_background": "light"
     },
     "output_type": "display_data"
    }
   ],
   "source": [
    "#general revenue per day \n",
    "plt.rcParams[\"figure.figsize\"] = (15,6)\n",
    "plt.plot(cumulative_data_a['date'], cumulative_data_a['revenue'], label='daily revenue group A')\n",
    "plt.plot(cumulative_data_b['date'], cumulative_data_b['revenue'], label='daily revenue group B')\n",
    "plt.title(\"daily revenue\")\n",
    "plt.legend()\n",
    "plt.show()"
   ]
  },
  {
   "cell_type": "markdown",
   "id": "c650dd8b",
   "metadata": {},
   "source": [
    "Revenue is rising steadily throughout the whole test. That's a good sign.\n",
    "However, we can see that group B sees a spike in revenue at certain points. This may imply either a surge in the number of orders or the presence of very expensive orders in the sample."
   ]
  },
  {
   "cell_type": "markdown",
   "id": "1a496be8",
   "metadata": {},
   "source": [
    "### Graph cumulative average order size by group.\n",
    "### Graph the relative difference in cumulative average order size for group B compared with group A."
   ]
  },
  {
   "cell_type": "code",
   "execution_count": 38,
   "id": "8c00c7fa",
   "metadata": {},
   "outputs": [
    {
     "data": {
      "text/html": [
       "<div>\n",
       "<style scoped>\n",
       "    .dataframe tbody tr th:only-of-type {\n",
       "        vertical-align: middle;\n",
       "    }\n",
       "\n",
       "    .dataframe tbody tr th {\n",
       "        vertical-align: top;\n",
       "    }\n",
       "\n",
       "    .dataframe thead th {\n",
       "        text-align: right;\n",
       "    }\n",
       "</style>\n",
       "<table border=\"1\" class=\"dataframe\">\n",
       "  <thead>\n",
       "    <tr style=\"text-align: right;\">\n",
       "      <th></th>\n",
       "      <th>date</th>\n",
       "      <th>group</th>\n",
       "      <th>orders</th>\n",
       "      <th>buyers</th>\n",
       "      <th>revenue</th>\n",
       "      <th>visitors</th>\n",
       "      <th>cumul_rev</th>\n",
       "    </tr>\n",
       "  </thead>\n",
       "  <tbody>\n",
       "    <tr>\n",
       "      <th>0</th>\n",
       "      <td>2019-08-01</td>\n",
       "      <td>A</td>\n",
       "      <td>24</td>\n",
       "      <td>20</td>\n",
       "      <td>2356.8</td>\n",
       "      <td>719</td>\n",
       "      <td>2356.8</td>\n",
       "    </tr>\n",
       "    <tr>\n",
       "      <th>2</th>\n",
       "      <td>2019-08-02</td>\n",
       "      <td>A</td>\n",
       "      <td>44</td>\n",
       "      <td>38</td>\n",
       "      <td>3860.3</td>\n",
       "      <td>1338</td>\n",
       "      <td>6217.1</td>\n",
       "    </tr>\n",
       "    <tr>\n",
       "      <th>4</th>\n",
       "      <td>2019-08-03</td>\n",
       "      <td>A</td>\n",
       "      <td>68</td>\n",
       "      <td>62</td>\n",
       "      <td>5675.5</td>\n",
       "      <td>1845</td>\n",
       "      <td>11892.6</td>\n",
       "    </tr>\n",
       "    <tr>\n",
       "      <th>6</th>\n",
       "      <td>2019-08-04</td>\n",
       "      <td>A</td>\n",
       "      <td>84</td>\n",
       "      <td>77</td>\n",
       "      <td>6822.1</td>\n",
       "      <td>2562</td>\n",
       "      <td>18714.7</td>\n",
       "    </tr>\n",
       "    <tr>\n",
       "      <th>8</th>\n",
       "      <td>2019-08-05</td>\n",
       "      <td>A</td>\n",
       "      <td>109</td>\n",
       "      <td>100</td>\n",
       "      <td>8810.2</td>\n",
       "      <td>3318</td>\n",
       "      <td>27524.9</td>\n",
       "    </tr>\n",
       "  </tbody>\n",
       "</table>\n",
       "</div>"
      ],
      "text/plain": [
       "        date group  orders  buyers  revenue  visitors  cumul_rev\n",
       "0 2019-08-01     A      24      20   2356.8       719     2356.8\n",
       "2 2019-08-02     A      44      38   3860.3      1338     6217.1\n",
       "4 2019-08-03     A      68      62   5675.5      1845    11892.6\n",
       "6 2019-08-04     A      84      77   6822.1      2562    18714.7\n",
       "8 2019-08-05     A     109     100   8810.2      3318    27524.9"
      ]
     },
     "execution_count": 38,
     "metadata": {},
     "output_type": "execute_result"
    }
   ],
   "source": [
    "cumulative_data_a.head()"
   ]
  },
  {
   "cell_type": "code",
   "execution_count": 39,
   "id": "7cff3d62",
   "metadata": {},
   "outputs": [
    {
     "name": "stderr",
     "output_type": "stream",
     "text": [
      "C:\\Users\\User\\AppData\\Local\\Temp\\ipykernel_20576\\1559907445.py:1: SettingWithCopyWarning: \n",
      "A value is trying to be set on a copy of a slice from a DataFrame.\n",
      "Try using .loc[row_indexer,col_indexer] = value instead\n",
      "\n",
      "See the caveats in the documentation: https://pandas.pydata.org/pandas-docs/stable/user_guide/indexing.html#returning-a-view-versus-a-copy\n",
      "  cumulative_data_a['cumul_orders']=cumulative_data_a['orders'].cumsum()\n",
      "C:\\Users\\User\\AppData\\Local\\Temp\\ipykernel_20576\\1559907445.py:2: SettingWithCopyWarning: \n",
      "A value is trying to be set on a copy of a slice from a DataFrame.\n",
      "Try using .loc[row_indexer,col_indexer] = value instead\n",
      "\n",
      "See the caveats in the documentation: https://pandas.pydata.org/pandas-docs/stable/user_guide/indexing.html#returning-a-view-versus-a-copy\n",
      "  cumulative_data_a['cumul_avg_orders_size']=cumulative_data_a['cumul_rev']/cumulative_data_a['cumul_orders']\n"
     ]
    },
    {
     "data": {
      "text/html": [
       "<div>\n",
       "<style scoped>\n",
       "    .dataframe tbody tr th:only-of-type {\n",
       "        vertical-align: middle;\n",
       "    }\n",
       "\n",
       "    .dataframe tbody tr th {\n",
       "        vertical-align: top;\n",
       "    }\n",
       "\n",
       "    .dataframe thead th {\n",
       "        text-align: right;\n",
       "    }\n",
       "</style>\n",
       "<table border=\"1\" class=\"dataframe\">\n",
       "  <thead>\n",
       "    <tr style=\"text-align: right;\">\n",
       "      <th></th>\n",
       "      <th>date</th>\n",
       "      <th>group</th>\n",
       "      <th>orders</th>\n",
       "      <th>buyers</th>\n",
       "      <th>revenue</th>\n",
       "      <th>visitors</th>\n",
       "      <th>cumul_rev</th>\n",
       "      <th>cumul_orders</th>\n",
       "      <th>cumul_avg_orders_size</th>\n",
       "    </tr>\n",
       "  </thead>\n",
       "  <tbody>\n",
       "    <tr>\n",
       "      <th>0</th>\n",
       "      <td>2019-08-01</td>\n",
       "      <td>A</td>\n",
       "      <td>24</td>\n",
       "      <td>20</td>\n",
       "      <td>2356.8</td>\n",
       "      <td>719</td>\n",
       "      <td>2356.8</td>\n",
       "      <td>24</td>\n",
       "      <td>98.200000</td>\n",
       "    </tr>\n",
       "    <tr>\n",
       "      <th>2</th>\n",
       "      <td>2019-08-02</td>\n",
       "      <td>A</td>\n",
       "      <td>44</td>\n",
       "      <td>38</td>\n",
       "      <td>3860.3</td>\n",
       "      <td>1338</td>\n",
       "      <td>6217.1</td>\n",
       "      <td>68</td>\n",
       "      <td>91.427941</td>\n",
       "    </tr>\n",
       "    <tr>\n",
       "      <th>4</th>\n",
       "      <td>2019-08-03</td>\n",
       "      <td>A</td>\n",
       "      <td>68</td>\n",
       "      <td>62</td>\n",
       "      <td>5675.5</td>\n",
       "      <td>1845</td>\n",
       "      <td>11892.6</td>\n",
       "      <td>136</td>\n",
       "      <td>87.445588</td>\n",
       "    </tr>\n",
       "    <tr>\n",
       "      <th>6</th>\n",
       "      <td>2019-08-04</td>\n",
       "      <td>A</td>\n",
       "      <td>84</td>\n",
       "      <td>77</td>\n",
       "      <td>6822.1</td>\n",
       "      <td>2562</td>\n",
       "      <td>18714.7</td>\n",
       "      <td>220</td>\n",
       "      <td>85.066818</td>\n",
       "    </tr>\n",
       "    <tr>\n",
       "      <th>8</th>\n",
       "      <td>2019-08-05</td>\n",
       "      <td>A</td>\n",
       "      <td>109</td>\n",
       "      <td>100</td>\n",
       "      <td>8810.2</td>\n",
       "      <td>3318</td>\n",
       "      <td>27524.9</td>\n",
       "      <td>329</td>\n",
       "      <td>83.662310</td>\n",
       "    </tr>\n",
       "  </tbody>\n",
       "</table>\n",
       "</div>"
      ],
      "text/plain": [
       "        date group  orders  buyers  revenue  visitors  cumul_rev  \\\n",
       "0 2019-08-01     A      24      20   2356.8       719     2356.8   \n",
       "2 2019-08-02     A      44      38   3860.3      1338     6217.1   \n",
       "4 2019-08-03     A      68      62   5675.5      1845    11892.6   \n",
       "6 2019-08-04     A      84      77   6822.1      2562    18714.7   \n",
       "8 2019-08-05     A     109     100   8810.2      3318    27524.9   \n",
       "\n",
       "   cumul_orders  cumul_avg_orders_size  \n",
       "0            24              98.200000  \n",
       "2            68              91.427941  \n",
       "4           136              87.445588  \n",
       "6           220              85.066818  \n",
       "8           329              83.662310  "
      ]
     },
     "execution_count": 39,
     "metadata": {},
     "output_type": "execute_result"
    }
   ],
   "source": [
    "cumulative_data_a['cumul_orders']=cumulative_data_a['orders'].cumsum()\n",
    "cumulative_data_a['cumul_avg_orders_size']=cumulative_data_a['cumul_rev']/cumulative_data_a['cumul_orders']\n",
    "cumulative_data_a.head()"
   ]
  },
  {
   "cell_type": "code",
   "execution_count": 40,
   "id": "31906ec3",
   "metadata": {},
   "outputs": [
    {
     "name": "stderr",
     "output_type": "stream",
     "text": [
      "C:\\Users\\User\\AppData\\Local\\Temp\\ipykernel_20576\\2252992407.py:1: SettingWithCopyWarning: \n",
      "A value is trying to be set on a copy of a slice from a DataFrame.\n",
      "Try using .loc[row_indexer,col_indexer] = value instead\n",
      "\n",
      "See the caveats in the documentation: https://pandas.pydata.org/pandas-docs/stable/user_guide/indexing.html#returning-a-view-versus-a-copy\n",
      "  cumulative_data_b['cumul_orders']=cumulative_data_b['orders'].cumsum()\n",
      "C:\\Users\\User\\AppData\\Local\\Temp\\ipykernel_20576\\2252992407.py:2: SettingWithCopyWarning: \n",
      "A value is trying to be set on a copy of a slice from a DataFrame.\n",
      "Try using .loc[row_indexer,col_indexer] = value instead\n",
      "\n",
      "See the caveats in the documentation: https://pandas.pydata.org/pandas-docs/stable/user_guide/indexing.html#returning-a-view-versus-a-copy\n",
      "  cumulative_data_b['cumul_avg_orders_size']=cumulative_data_b['cumul_rev']/cumulative_data_b['cumul_orders']\n"
     ]
    },
    {
     "data": {
      "text/html": [
       "<div>\n",
       "<style scoped>\n",
       "    .dataframe tbody tr th:only-of-type {\n",
       "        vertical-align: middle;\n",
       "    }\n",
       "\n",
       "    .dataframe tbody tr th {\n",
       "        vertical-align: top;\n",
       "    }\n",
       "\n",
       "    .dataframe thead th {\n",
       "        text-align: right;\n",
       "    }\n",
       "</style>\n",
       "<table border=\"1\" class=\"dataframe\">\n",
       "  <thead>\n",
       "    <tr style=\"text-align: right;\">\n",
       "      <th></th>\n",
       "      <th>date</th>\n",
       "      <th>group</th>\n",
       "      <th>orders</th>\n",
       "      <th>buyers</th>\n",
       "      <th>revenue</th>\n",
       "      <th>visitors</th>\n",
       "      <th>cumul_rev</th>\n",
       "      <th>cumul_orders</th>\n",
       "      <th>cumul_avg_orders_size</th>\n",
       "    </tr>\n",
       "  </thead>\n",
       "  <tbody>\n",
       "    <tr>\n",
       "      <th>1</th>\n",
       "      <td>2019-08-01</td>\n",
       "      <td>B</td>\n",
       "      <td>21</td>\n",
       "      <td>20</td>\n",
       "      <td>1620.0</td>\n",
       "      <td>713</td>\n",
       "      <td>1620.0</td>\n",
       "      <td>21</td>\n",
       "      <td>77.142857</td>\n",
       "    </tr>\n",
       "    <tr>\n",
       "      <th>3</th>\n",
       "      <td>2019-08-02</td>\n",
       "      <td>B</td>\n",
       "      <td>45</td>\n",
       "      <td>43</td>\n",
       "      <td>4243.8</td>\n",
       "      <td>1294</td>\n",
       "      <td>5863.8</td>\n",
       "      <td>66</td>\n",
       "      <td>88.845455</td>\n",
       "    </tr>\n",
       "    <tr>\n",
       "      <th>5</th>\n",
       "      <td>2019-08-03</td>\n",
       "      <td>B</td>\n",
       "      <td>61</td>\n",
       "      <td>59</td>\n",
       "      <td>6050.6</td>\n",
       "      <td>1803</td>\n",
       "      <td>11914.4</td>\n",
       "      <td>127</td>\n",
       "      <td>93.814173</td>\n",
       "    </tr>\n",
       "    <tr>\n",
       "      <th>7</th>\n",
       "      <td>2019-08-04</td>\n",
       "      <td>B</td>\n",
       "      <td>78</td>\n",
       "      <td>75</td>\n",
       "      <td>7767.9</td>\n",
       "      <td>2573</td>\n",
       "      <td>19682.3</td>\n",
       "      <td>205</td>\n",
       "      <td>96.011220</td>\n",
       "    </tr>\n",
       "    <tr>\n",
       "      <th>9</th>\n",
       "      <td>2019-08-05</td>\n",
       "      <td>B</td>\n",
       "      <td>101</td>\n",
       "      <td>98</td>\n",
       "      <td>9262.9</td>\n",
       "      <td>3280</td>\n",
       "      <td>28945.2</td>\n",
       "      <td>306</td>\n",
       "      <td>94.592157</td>\n",
       "    </tr>\n",
       "  </tbody>\n",
       "</table>\n",
       "</div>"
      ],
      "text/plain": [
       "        date group  orders  buyers  revenue  visitors  cumul_rev  \\\n",
       "1 2019-08-01     B      21      20   1620.0       713     1620.0   \n",
       "3 2019-08-02     B      45      43   4243.8      1294     5863.8   \n",
       "5 2019-08-03     B      61      59   6050.6      1803    11914.4   \n",
       "7 2019-08-04     B      78      75   7767.9      2573    19682.3   \n",
       "9 2019-08-05     B     101      98   9262.9      3280    28945.2   \n",
       "\n",
       "   cumul_orders  cumul_avg_orders_size  \n",
       "1            21              77.142857  \n",
       "3            66              88.845455  \n",
       "5           127              93.814173  \n",
       "7           205              96.011220  \n",
       "9           306              94.592157  "
      ]
     },
     "execution_count": 40,
     "metadata": {},
     "output_type": "execute_result"
    }
   ],
   "source": [
    "cumulative_data_b['cumul_orders']=cumulative_data_b['orders'].cumsum()\n",
    "cumulative_data_b['cumul_avg_orders_size']=cumulative_data_b['cumul_rev']/cumulative_data_b['cumul_orders']\n",
    "cumulative_data_b.head()"
   ]
  },
  {
   "cell_type": "code",
   "execution_count": 41,
   "id": "435a5261",
   "metadata": {},
   "outputs": [
    {
     "name": "stderr",
     "output_type": "stream",
     "text": [
      "C:\\Users\\User\\AppData\\Local\\Temp\\ipykernel_20576\\2646670988.py:1: SettingWithCopyWarning: \n",
      "A value is trying to be set on a copy of a slice from a DataFrame.\n",
      "Try using .loc[row_indexer,col_indexer] = value instead\n",
      "\n",
      "See the caveats in the documentation: https://pandas.pydata.org/pandas-docs/stable/user_guide/indexing.html#returning-a-view-versus-a-copy\n",
      "  cumulative_data_a['avg_orders_size']=cumulative_data_a['revenue']/cumulative_data_a['orders']\n",
      "C:\\Users\\User\\AppData\\Local\\Temp\\ipykernel_20576\\2646670988.py:2: SettingWithCopyWarning: \n",
      "A value is trying to be set on a copy of a slice from a DataFrame.\n",
      "Try using .loc[row_indexer,col_indexer] = value instead\n",
      "\n",
      "See the caveats in the documentation: https://pandas.pydata.org/pandas-docs/stable/user_guide/indexing.html#returning-a-view-versus-a-copy\n",
      "  cumulative_data_b['avg_orders_size']=cumulative_data_b['revenue']/cumulative_data_b['orders']\n"
     ]
    },
    {
     "data": {
      "image/png": "[encoded data removed]",
      "text/plain": [
       "<Figure size 1080x432 with 1 Axes>"
      ]
     },
     "metadata": {
      "needs_background": "light"
     },
     "output_type": "display_data"
    }
   ],
   "source": [
    "cumulative_data_a['avg_orders_size']=cumulative_data_a['revenue']/cumulative_data_a['orders']\n",
    "cumulative_data_b['avg_orders_size']=cumulative_data_b['revenue']/cumulative_data_b['orders']\n",
    "plt.plot(cumulative_data_a['date'], cumulative_data_a['avg_orders_size'], label='Average order size group a')\n",
    "plt.plot(cumulative_data_b['date'], cumulative_data_b['avg_orders_size'], label='Average order size group b')\n",
    "plt.title(\"average order size\")\n",
    "plt.legend()\n",
    "plt.show()"
   ]
  },
  {
   "cell_type": "markdown",
   "id": "a47bee76",
   "metadata": {},
   "source": [
    "It looks like the spike in the revenue for the group B is due to the presence of expensive orders around the date of 17-08-2019. after a couple of days we can notice that the there is still a big gap between the daily average order size for group B and group A, but the daily average order size for group B is slowly decreasing while for group A is slowly increasing.\n",
    "\n"
   ]
  },
  {
   "cell_type": "markdown",
   "id": "bde5151c",
   "metadata": {},
   "source": [
    "let's examine the plot of cumulative average order size, to have a clearer view on the test:\n",
    "\n",
    "If you plot a graph with cumulative data, at the first-day point you'll have metric values for that day, at the second-day point you'll have the sum of metrics for the first two days, and so on. That way you can track changes in the experimental results at each day of the test.\n",
    "According to the central limit theorem, the values of cumulative metrics often converge and settle around a particular mean. Then a cumulative metric graph can help you decide whether to continue the test."
   ]
  },
  {
   "cell_type": "code",
   "execution_count": 42,
   "id": "3253413c",
   "metadata": {},
   "outputs": [
    {
     "data": {
      "image/png": "[encoded data removed]",
      "text/plain": [
       "<Figure size 1080x432 with 1 Axes>"
      ]
     },
     "metadata": {
      "needs_background": "light"
     },
     "output_type": "display_data"
    }
   ],
   "source": [
    "plt.plot(cumulative_data_a['date'], cumulative_data_a['cumul_avg_orders_size'], label='cumulative Average order size group a')\n",
    "plt.plot(cumulative_data_b['date'], cumulative_data_b['cumul_avg_orders_size'], label='cumulative Average order size group b')\n",
    "plt.title(\"cumulative average order size\")\n",
    "plt.legend()\n",
    "plt.show()"
   ]
  },
  {
   "cell_type": "markdown",
   "id": "bfdb3a2f",
   "metadata": {},
   "source": [
    "On the date 17-08-2019 probably there was the introduction os some change that caused a surge in group B in terms of revenue and specifically in order size. the change that was implemented on group B caused the buyers of group B to place more expensive orders. after that date we see an increase in cumulative revenue for bor both groups, but on group B, that looks like a much more important growth.  "
   ]
  },
  {
   "cell_type": "code",
   "execution_count": null,
   "id": "2226b7ad",
   "metadata": {},
   "outputs": [],
   "source": []
  },
  {
   "cell_type": "markdown",
   "id": "52cf8dd2",
   "metadata": {},
   "source": [
    "## Calculate each group's conversion rate as the ratio of buyers to the number of clicks for each day. Plot the daily conversion rates of the two groups and describe the difference."
   ]
  },
  {
   "cell_type": "code",
   "execution_count": 43,
   "id": "07a234d7",
   "metadata": {},
   "outputs": [
    {
     "name": "stderr",
     "output_type": "stream",
     "text": [
      "C:\\Users\\User\\AppData\\Local\\Temp\\ipykernel_20576\\1563432539.py:1: SettingWithCopyWarning: \n",
      "A value is trying to be set on a copy of a slice from a DataFrame.\n",
      "Try using .loc[row_indexer,col_indexer] = value instead\n",
      "\n",
      "See the caveats in the documentation: https://pandas.pydata.org/pandas-docs/stable/user_guide/indexing.html#returning-a-view-versus-a-copy\n",
      "  cumulative_data_a['conversion']=cumulative_data_a['buyers']/cumulative_data_a['visitors']\n",
      "C:\\Users\\User\\AppData\\Local\\Temp\\ipykernel_20576\\1563432539.py:2: SettingWithCopyWarning: \n",
      "A value is trying to be set on a copy of a slice from a DataFrame.\n",
      "Try using .loc[row_indexer,col_indexer] = value instead\n",
      "\n",
      "See the caveats in the documentation: https://pandas.pydata.org/pandas-docs/stable/user_guide/indexing.html#returning-a-view-versus-a-copy\n",
      "  cumulative_data_b['conversion']=cumulative_data_b['buyers']/cumulative_data_b['visitors']\n"
     ]
    }
   ],
   "source": [
    "cumulative_data_a['conversion']=cumulative_data_a['buyers']/cumulative_data_a['visitors']\n",
    "cumulative_data_b['conversion']=cumulative_data_b['buyers']/cumulative_data_b['visitors']"
   ]
  },
  {
   "cell_type": "code",
   "execution_count": 44,
   "id": "ef8ad6b5",
   "metadata": {},
   "outputs": [
    {
     "data": {
      "text/html": [
       "<div>\n",
       "<style scoped>\n",
       "    .dataframe tbody tr th:only-of-type {\n",
       "        vertical-align: middle;\n",
       "    }\n",
       "\n",
       "    .dataframe tbody tr th {\n",
       "        vertical-align: top;\n",
       "    }\n",
       "\n",
       "    .dataframe thead th {\n",
       "        text-align: right;\n",
       "    }\n",
       "</style>\n",
       "<table border=\"1\" class=\"dataframe\">\n",
       "  <thead>\n",
       "    <tr style=\"text-align: right;\">\n",
       "      <th></th>\n",
       "      <th>date</th>\n",
       "      <th>group</th>\n",
       "      <th>orders</th>\n",
       "      <th>buyers</th>\n",
       "      <th>revenue</th>\n",
       "      <th>visitors</th>\n",
       "      <th>cumul_rev</th>\n",
       "      <th>cumul_orders</th>\n",
       "      <th>cumul_avg_orders_size</th>\n",
       "      <th>avg_orders_size</th>\n",
       "      <th>conversion</th>\n",
       "    </tr>\n",
       "  </thead>\n",
       "  <tbody>\n",
       "    <tr>\n",
       "      <th>0</th>\n",
       "      <td>2019-08-01</td>\n",
       "      <td>A</td>\n",
       "      <td>24</td>\n",
       "      <td>20</td>\n",
       "      <td>2356.8</td>\n",
       "      <td>719</td>\n",
       "      <td>2356.8</td>\n",
       "      <td>24</td>\n",
       "      <td>98.200000</td>\n",
       "      <td>98.200000</td>\n",
       "      <td>0.027816</td>\n",
       "    </tr>\n",
       "    <tr>\n",
       "      <th>2</th>\n",
       "      <td>2019-08-02</td>\n",
       "      <td>A</td>\n",
       "      <td>44</td>\n",
       "      <td>38</td>\n",
       "      <td>3860.3</td>\n",
       "      <td>1338</td>\n",
       "      <td>6217.1</td>\n",
       "      <td>68</td>\n",
       "      <td>91.427941</td>\n",
       "      <td>87.734091</td>\n",
       "      <td>0.028401</td>\n",
       "    </tr>\n",
       "    <tr>\n",
       "      <th>4</th>\n",
       "      <td>2019-08-03</td>\n",
       "      <td>A</td>\n",
       "      <td>68</td>\n",
       "      <td>62</td>\n",
       "      <td>5675.5</td>\n",
       "      <td>1845</td>\n",
       "      <td>11892.6</td>\n",
       "      <td>136</td>\n",
       "      <td>87.445588</td>\n",
       "      <td>83.463235</td>\n",
       "      <td>0.033604</td>\n",
       "    </tr>\n",
       "    <tr>\n",
       "      <th>6</th>\n",
       "      <td>2019-08-04</td>\n",
       "      <td>A</td>\n",
       "      <td>84</td>\n",
       "      <td>77</td>\n",
       "      <td>6822.1</td>\n",
       "      <td>2562</td>\n",
       "      <td>18714.7</td>\n",
       "      <td>220</td>\n",
       "      <td>85.066818</td>\n",
       "      <td>81.215476</td>\n",
       "      <td>0.030055</td>\n",
       "    </tr>\n",
       "    <tr>\n",
       "      <th>8</th>\n",
       "      <td>2019-08-05</td>\n",
       "      <td>A</td>\n",
       "      <td>109</td>\n",
       "      <td>100</td>\n",
       "      <td>8810.2</td>\n",
       "      <td>3318</td>\n",
       "      <td>27524.9</td>\n",
       "      <td>329</td>\n",
       "      <td>83.662310</td>\n",
       "      <td>80.827523</td>\n",
       "      <td>0.030139</td>\n",
       "    </tr>\n",
       "  </tbody>\n",
       "</table>\n",
       "</div>"
      ],
      "text/plain": [
       "        date group  orders  buyers  revenue  visitors  cumul_rev  \\\n",
       "0 2019-08-01     A      24      20   2356.8       719     2356.8   \n",
       "2 2019-08-02     A      44      38   3860.3      1338     6217.1   \n",
       "4 2019-08-03     A      68      62   5675.5      1845    11892.6   \n",
       "6 2019-08-04     A      84      77   6822.1      2562    18714.7   \n",
       "8 2019-08-05     A     109     100   8810.2      3318    27524.9   \n",
       "\n",
       "   cumul_orders  cumul_avg_orders_size  avg_orders_size  conversion  \n",
       "0            24              98.200000        98.200000    0.027816  \n",
       "2            68              91.427941        87.734091    0.028401  \n",
       "4           136              87.445588        83.463235    0.033604  \n",
       "6           220              85.066818        81.215476    0.030055  \n",
       "8           329              83.662310        80.827523    0.030139  "
      ]
     },
     "execution_count": 44,
     "metadata": {},
     "output_type": "execute_result"
    }
   ],
   "source": [
    "cumulative_data_a.head()"
   ]
  },
  {
   "cell_type": "code",
   "execution_count": 45,
   "id": "968c60f8",
   "metadata": {},
   "outputs": [
    {
     "data": {
      "text/html": [
       "<div>\n",
       "<style scoped>\n",
       "    .dataframe tbody tr th:only-of-type {\n",
       "        vertical-align: middle;\n",
       "    }\n",
       "\n",
       "    .dataframe tbody tr th {\n",
       "        vertical-align: top;\n",
       "    }\n",
       "\n",
       "    .dataframe thead th {\n",
       "        text-align: right;\n",
       "    }\n",
       "</style>\n",
       "<table border=\"1\" class=\"dataframe\">\n",
       "  <thead>\n",
       "    <tr style=\"text-align: right;\">\n",
       "      <th></th>\n",
       "      <th>date</th>\n",
       "      <th>group</th>\n",
       "      <th>orders</th>\n",
       "      <th>buyers</th>\n",
       "      <th>revenue</th>\n",
       "      <th>visitors</th>\n",
       "      <th>cumul_rev</th>\n",
       "      <th>cumul_orders</th>\n",
       "      <th>cumul_avg_orders_size</th>\n",
       "      <th>avg_orders_size</th>\n",
       "      <th>conversion</th>\n",
       "    </tr>\n",
       "  </thead>\n",
       "  <tbody>\n",
       "    <tr>\n",
       "      <th>1</th>\n",
       "      <td>2019-08-01</td>\n",
       "      <td>B</td>\n",
       "      <td>21</td>\n",
       "      <td>20</td>\n",
       "      <td>1620.0</td>\n",
       "      <td>713</td>\n",
       "      <td>1620.0</td>\n",
       "      <td>21</td>\n",
       "      <td>77.142857</td>\n",
       "      <td>77.142857</td>\n",
       "      <td>0.028050</td>\n",
       "    </tr>\n",
       "    <tr>\n",
       "      <th>3</th>\n",
       "      <td>2019-08-02</td>\n",
       "      <td>B</td>\n",
       "      <td>45</td>\n",
       "      <td>43</td>\n",
       "      <td>4243.8</td>\n",
       "      <td>1294</td>\n",
       "      <td>5863.8</td>\n",
       "      <td>66</td>\n",
       "      <td>88.845455</td>\n",
       "      <td>94.306667</td>\n",
       "      <td>0.033230</td>\n",
       "    </tr>\n",
       "    <tr>\n",
       "      <th>5</th>\n",
       "      <td>2019-08-03</td>\n",
       "      <td>B</td>\n",
       "      <td>61</td>\n",
       "      <td>59</td>\n",
       "      <td>6050.6</td>\n",
       "      <td>1803</td>\n",
       "      <td>11914.4</td>\n",
       "      <td>127</td>\n",
       "      <td>93.814173</td>\n",
       "      <td>99.190164</td>\n",
       "      <td>0.032723</td>\n",
       "    </tr>\n",
       "    <tr>\n",
       "      <th>7</th>\n",
       "      <td>2019-08-04</td>\n",
       "      <td>B</td>\n",
       "      <td>78</td>\n",
       "      <td>75</td>\n",
       "      <td>7767.9</td>\n",
       "      <td>2573</td>\n",
       "      <td>19682.3</td>\n",
       "      <td>205</td>\n",
       "      <td>96.011220</td>\n",
       "      <td>99.588462</td>\n",
       "      <td>0.029149</td>\n",
       "    </tr>\n",
       "    <tr>\n",
       "      <th>9</th>\n",
       "      <td>2019-08-05</td>\n",
       "      <td>B</td>\n",
       "      <td>101</td>\n",
       "      <td>98</td>\n",
       "      <td>9262.9</td>\n",
       "      <td>3280</td>\n",
       "      <td>28945.2</td>\n",
       "      <td>306</td>\n",
       "      <td>94.592157</td>\n",
       "      <td>91.711881</td>\n",
       "      <td>0.029878</td>\n",
       "    </tr>\n",
       "  </tbody>\n",
       "</table>\n",
       "</div>"
      ],
      "text/plain": [
       "        date group  orders  buyers  revenue  visitors  cumul_rev  \\\n",
       "1 2019-08-01     B      21      20   1620.0       713     1620.0   \n",
       "3 2019-08-02     B      45      43   4243.8      1294     5863.8   \n",
       "5 2019-08-03     B      61      59   6050.6      1803    11914.4   \n",
       "7 2019-08-04     B      78      75   7767.9      2573    19682.3   \n",
       "9 2019-08-05     B     101      98   9262.9      3280    28945.2   \n",
       "\n",
       "   cumul_orders  cumul_avg_orders_size  avg_orders_size  conversion  \n",
       "1            21              77.142857        77.142857    0.028050  \n",
       "3            66              88.845455        94.306667    0.033230  \n",
       "5           127              93.814173        99.190164    0.032723  \n",
       "7           205              96.011220        99.588462    0.029149  \n",
       "9           306              94.592157        91.711881    0.029878  "
      ]
     },
     "execution_count": 45,
     "metadata": {},
     "output_type": "execute_result"
    }
   ],
   "source": [
    "cumulative_data_b.head()"
   ]
  },
  {
   "cell_type": "markdown",
   "id": "01ad2fd4",
   "metadata": {},
   "source": [
    "<div class=\"alert alert-block alert-danger\">\n",
    "<b>Reviewer's comment v1:</b>\n",
    "    \n",
    "Can you please additionally plot a relative difference graph for the cumulative conversion rates and order size, as based on the graph above it is difficult to say smth about data stability and which group has higher conversion rate."
   ]
  },
  {
   "cell_type": "markdown",
   "id": "6b77149a",
   "metadata": {},
   "source": [
    "<div class=\"alert alert-info\"> <b>Student comments:</b> Thank you for the feedback. Following: </div>    "
   ]
  },
  {
   "cell_type": "code",
   "execution_count": 46,
   "id": "c618d103",
   "metadata": {},
   "outputs": [
    {
     "data": {
      "image/png": "[encoded data removed]",
      "text/plain": [
       "<Figure size 1080x432 with 1 Axes>"
      ]
     },
     "metadata": {
      "needs_background": "light"
     },
     "output_type": "display_data"
    }
   ],
   "source": [
    "# gathering the data into one DataFrame\n",
    "mergedCumulative = cumulative_data_a.merge(cumulative_data_b, on='date', how='left', suffixes=['A', 'B'])\n",
    "\n",
    "# plotting a relative difference graph for the conversion\n",
    "plt.plot(mergedCumulative['date'], ((mergedCumulative['conversionB']/(mergedCumulative['conversionA'])-1)))\n",
    "\n",
    "# adding the X axis\n",
    "plt.axhline(y=0, color='black', linestyle='--')\n",
    "plt.show()"
   ]
  },
  {
   "cell_type": "markdown",
   "id": "e9559184",
   "metadata": {},
   "source": [
    "The B group consistently demonstrates better conversion rates than the A group, and the difference is stabilizing with time. If there's enough data to reach the significance level, we may as well stop the test, since the B group is definitely better than A."
   ]
  },
  {
   "cell_type": "code",
   "execution_count": 47,
   "id": "73c909ee",
   "metadata": {},
   "outputs": [
    {
     "data": {
      "image/png": "[encoded data removed]",
      "text/plain": [
       "<Figure size 1080x432 with 1 Axes>"
      ]
     },
     "metadata": {
      "needs_background": "light"
     },
     "output_type": "display_data"
    }
   ],
   "source": [
    "# plotting a relative difference graph for the average cumulative  order size\n",
    "plt.plot(mergedCumulative['date'], ((mergedCumulative['cumul_avg_orders_sizeB']/(mergedCumulative['cumul_avg_orders_sizeA'])-1)))\n",
    "\n",
    "# adding the X axis\n",
    "plt.axhline(y=0, color='black', linestyle='--')\n",
    "plt.show()"
   ]
  },
  {
   "cell_type": "markdown",
   "id": "2763512a",
   "metadata": {},
   "source": [
    "group b has bigger order size."
   ]
  },
  {
   "cell_type": "markdown",
   "id": "da4c2ca1",
   "metadata": {},
   "source": [
    "Both metrics are stabilizing. We could stop the test."
   ]
  },
  {
   "cell_type": "code",
   "execution_count": 48,
   "id": "3fc28909",
   "metadata": {},
   "outputs": [
    {
     "data": {
      "image/png": "[encoded data removed]",
      "text/plain": [
       "<Figure size 1080x432 with 1 Axes>"
      ]
     },
     "metadata": {
      "needs_background": "light"
     },
     "output_type": "display_data"
    }
   ],
   "source": [
    "plt.plot(cumulative_data_a['date'], cumulative_data_a['conversion'], label='conversion group a')\n",
    "plt.plot(cumulative_data_b['date'], cumulative_data_b['conversion'], label='conversion group b')\n",
    "plt.title(\"conversion rate\")\n",
    "plt.legend()\n",
    "plt.show()"
   ]
  },
  {
   "cell_type": "markdown",
   "id": "85737272",
   "metadata": {},
   "source": [
    "*** overall conversion GROUP A:***"
   ]
  },
  {
   "cell_type": "code",
   "execution_count": 49,
   "id": "f853f3c6",
   "metadata": {},
   "outputs": [
    {
     "data": {
      "text/plain": [
       "0.027418188718009114"
      ]
     },
     "execution_count": 49,
     "metadata": {},
     "output_type": "execute_result"
    }
   ],
   "source": [
    "cumulative_data_a['buyers'].sum()/cumulative_data_a['visitors'].sum()"
   ]
  },
  {
   "cell_type": "markdown",
   "id": "7121fb8d",
   "metadata": {},
   "source": [
    "*** overall conversion GROUP B: ***"
   ]
  },
  {
   "cell_type": "code",
   "execution_count": 50,
   "id": "b902dc8d",
   "metadata": {},
   "outputs": [
    {
     "data": {
      "text/plain": [
       "0.03164198350982767"
      ]
     },
     "execution_count": 50,
     "metadata": {},
     "output_type": "execute_result"
    }
   ],
   "source": [
    "cumulative_data_b['buyers'].sum()/cumulative_data_b['visitors'].sum()"
   ]
  },
  {
   "cell_type": "markdown",
   "id": "596a5df7",
   "metadata": {},
   "source": [
    "The daily results fluctuate strongly, but it's possible to tell that after 05-08-2019 the daily conversion of group B shows an iimportant peak upward and then is generally much higher that conversion of group A. After taht date, on the contrary, daily conversion of Group A sees a  drop and stays low. \n",
    "\n",
    "I am not sure though, since I am not fully aware of the industry we are talking about, if the difference between 2.7 percent and 3.5 percent in conversion rate, is actually a very significant change or it just a better conversion( which never hurts!)"
   ]
  },
  {
   "cell_type": "markdown",
   "id": "2e37ec63",
   "metadata": {},
   "source": [
    "## Plot a scatter chart of the number of orders per user. "
   ]
  },
  {
   "cell_type": "code",
   "execution_count": 51,
   "id": "7a05a256",
   "metadata": {},
   "outputs": [
    {
     "data": {
      "text/html": [
       "<div>\n",
       "<style scoped>\n",
       "    .dataframe tbody tr th:only-of-type {\n",
       "        vertical-align: middle;\n",
       "    }\n",
       "\n",
       "    .dataframe tbody tr th {\n",
       "        vertical-align: top;\n",
       "    }\n",
       "\n",
       "    .dataframe thead th {\n",
       "        text-align: right;\n",
       "    }\n",
       "</style>\n",
       "<table border=\"1\" class=\"dataframe\">\n",
       "  <thead>\n",
       "    <tr style=\"text-align: right;\">\n",
       "      <th></th>\n",
       "      <th>transaction_id</th>\n",
       "      <th>visitor_id</th>\n",
       "      <th>date</th>\n",
       "      <th>revenue</th>\n",
       "      <th>group</th>\n",
       "    </tr>\n",
       "  </thead>\n",
       "  <tbody>\n",
       "    <tr>\n",
       "      <th>0</th>\n",
       "      <td>3667963787</td>\n",
       "      <td>3312258926</td>\n",
       "      <td>2019-08-15</td>\n",
       "      <td>30.4</td>\n",
       "      <td>B</td>\n",
       "    </tr>\n",
       "    <tr>\n",
       "      <th>1</th>\n",
       "      <td>2804400009</td>\n",
       "      <td>3642806036</td>\n",
       "      <td>2019-08-15</td>\n",
       "      <td>15.2</td>\n",
       "      <td>B</td>\n",
       "    </tr>\n",
       "    <tr>\n",
       "      <th>2</th>\n",
       "      <td>2961555356</td>\n",
       "      <td>4069496402</td>\n",
       "      <td>2019-08-15</td>\n",
       "      <td>10.2</td>\n",
       "      <td>A</td>\n",
       "    </tr>\n",
       "    <tr>\n",
       "      <th>3</th>\n",
       "      <td>3797467345</td>\n",
       "      <td>1196621759</td>\n",
       "      <td>2019-08-15</td>\n",
       "      <td>155.1</td>\n",
       "      <td>B</td>\n",
       "    </tr>\n",
       "    <tr>\n",
       "      <th>4</th>\n",
       "      <td>2282983706</td>\n",
       "      <td>2322279887</td>\n",
       "      <td>2019-08-15</td>\n",
       "      <td>40.5</td>\n",
       "      <td>B</td>\n",
       "    </tr>\n",
       "  </tbody>\n",
       "</table>\n",
       "</div>"
      ],
      "text/plain": [
       "   transaction_id  visitor_id       date  revenue group\n",
       "0      3667963787  3312258926 2019-08-15     30.4     B\n",
       "1      2804400009  3642806036 2019-08-15     15.2     B\n",
       "2      2961555356  4069496402 2019-08-15     10.2     A\n",
       "3      3797467345  1196621759 2019-08-15    155.1     B\n",
       "4      2282983706  2322279887 2019-08-15     40.5     B"
      ]
     },
     "execution_count": 51,
     "metadata": {},
     "output_type": "execute_result"
    }
   ],
   "source": [
    "orders.head()"
   ]
  },
  {
   "cell_type": "code",
   "execution_count": 52,
   "id": "f66f3bc8",
   "metadata": {},
   "outputs": [
    {
     "name": "stdout",
     "output_type": "stream",
     "text": [
      "      visitor_id  orders\n",
      "1023  4256040402      11\n",
      "591   2458001652      11\n",
      "569   2378935119       9\n",
      "487   2038680547       8\n",
      "44     199603092       5\n",
      "744   3062433592       5\n",
      "55     237748145       5\n",
      "917   3803269165       5\n",
      "299   1230306981       5\n",
      "897   3717692402       5\n"
     ]
    }
   ],
   "source": [
    "orders_by_users = (\n",
    "    orders.drop(['group', 'revenue', 'date'], axis=1)\n",
    "    .groupby('visitor_id', as_index=False)\n",
    "    .agg({'transaction_id': pd.Series.nunique})\n",
    ")\n",
    "\n",
    "orders_by_users.columns = ['visitor_id', 'orders']\n",
    "\n",
    "print(orders_by_users.sort_values(by='orders', ascending=False).head(10))"
   ]
  },
  {
   "cell_type": "code",
   "execution_count": 53,
   "id": "1c514af3",
   "metadata": {},
   "outputs": [
    {
     "data": {
      "image/png": "[encoded data removed]",
      "text/plain": [
       "<Figure size 1080x432 with 1 Axes>"
      ]
     },
     "metadata": {
      "needs_background": "light"
     },
     "output_type": "display_data"
    }
   ],
   "source": [
    "plt.hist(orders_by_users['orders'])\n",
    "plt.title(\"orders by users\")\n",
    "plt.show()"
   ]
  },
  {
   "cell_type": "markdown",
   "id": "61c84fc7",
   "metadata": {},
   "source": [
    "The majority of users made one order. however it's not clear how many users made two, three or more."
   ]
  },
  {
   "cell_type": "code",
   "execution_count": 54,
   "id": "c6b5c24b",
   "metadata": {},
   "outputs": [
    {
     "data": {
      "image/png": "[encoded data removed]",
      "text/plain": [
       "<Figure size 1080x432 with 1 Axes>"
      ]
     },
     "metadata": {
      "needs_background": "light"
     },
     "output_type": "display_data"
    }
   ],
   "source": [
    "x_values = pd.Series(range(0,len(orders_by_users)))\n",
    "\n",
    "plt.scatter(x_values,orders_by_users['orders'])\n",
    "plt.title(\"orders by users\")\n",
    "plt.show()"
   ]
  },
  {
   "cell_type": "markdown",
   "id": "58bd427f",
   "metadata": {},
   "source": [
    "There are very few users with more than two orders. These cases may be anomalies. To find out if two orders are a typical number or an anomaly, I will calculate percentiles."
   ]
  },
  {
   "cell_type": "markdown",
   "id": "d9b6e2c7",
   "metadata": {},
   "source": [
    "## Calculate the 95th and 99th percentiles for the number of orders per user. Define the point at which a data point becomes an anomaly."
   ]
  },
  {
   "cell_type": "code",
   "execution_count": 55,
   "id": "6a9bb242",
   "metadata": {},
   "outputs": [
    {
     "name": "stdout",
     "output_type": "stream",
     "text": [
      "[2. 4.]\n"
     ]
    }
   ],
   "source": [
    "print(np.percentile(orders_by_users['orders'], [ 95, 99 ])) "
   ]
  },
  {
   "cell_type": "markdown",
   "id": "af76a136",
   "metadata": {},
   "source": [
    "not more than 5% of users placed more than two orders and not more than 1% placed more than four."
   ]
  },
  {
   "cell_type": "markdown",
   "id": "3e01ecf3",
   "metadata": {},
   "source": [
    "## Plot a scatter chart of order prices. Make conclusions and conjectures."
   ]
  },
  {
   "cell_type": "code",
   "execution_count": 56,
   "id": "16fdfd80",
   "metadata": {},
   "outputs": [
    {
     "data": {
      "image/png": "[encoded data removed]",
      "text/plain": [
       "<Figure size 1080x432 with 1 Axes>"
      ]
     },
     "metadata": {
      "needs_background": "light"
     },
     "output_type": "display_data"
    }
   ],
   "source": [
    "x_values = pd.Series(range(0,len(orders['revenue'])))\n",
    "plt.scatter(x_values, orders['revenue']) \n",
    "plt.title(\"order prices\")\n",
    "plt.show()"
   ]
  },
  {
   "cell_type": "markdown",
   "id": "959dee5c",
   "metadata": {},
   "source": [
    "## Calculate the 95th and 99th percentiles of order prices. Define the point at which a data point becomes an anomaly."
   ]
  },
  {
   "cell_type": "code",
   "execution_count": 57,
   "id": "5807df67",
   "metadata": {},
   "outputs": [
    {
     "name": "stdout",
     "output_type": "stream",
     "text": [
      "[435.54  900.904]\n"
     ]
    }
   ],
   "source": [
    "print(np.percentile(orders['revenue'], [95, 99])) "
   ]
  },
  {
   "cell_type": "markdown",
   "id": "f2051cdc",
   "metadata": {},
   "source": [
    "not more than 5% of users placed orders form more than 435.54 $ and not more than 1% of buyers spent more than 900.904 on a single order"
   ]
  },
  {
   "cell_type": "markdown",
   "id": "c339f5d2",
   "metadata": {},
   "source": [
    "\n",
    "## Find the statistical significance of the difference in conversion between the groups using the raw data."
   ]
  },
  {
   "cell_type": "markdown",
   "id": "80103043",
   "metadata": {},
   "source": [
    "Let's calculate the statistical significance of the difference in conversion between the groups.\n",
    "We'll create the variables orders_by_usersA and orders_by_usersB to store the columns ['user_id', 'orders']. For users with at least one order, we'll indicate the number of orders made."
   ]
  },
  {
   "cell_type": "markdown",
   "id": "78e251c1",
   "metadata": {},
   "source": [
    "H0: There is not a statistically significant difference in conversion rates for the tested group and for the control group.         Both Group A and group B conversion rates are equal\n",
    "\n",
    "H1: There is a statistically significant differencein conversion rates for the tested group and for the control group.             Group A and group B conversion rates differs."
   ]
  },
  {
   "cell_type": "code",
   "execution_count": 58,
   "id": "053de2fe",
   "metadata": {},
   "outputs": [
    {
     "data": {
      "text/html": [
       "<div>\n",
       "<style scoped>\n",
       "    .dataframe tbody tr th:only-of-type {\n",
       "        vertical-align: middle;\n",
       "    }\n",
       "\n",
       "    .dataframe tbody tr th {\n",
       "        vertical-align: top;\n",
       "    }\n",
       "\n",
       "    .dataframe thead th {\n",
       "        text-align: right;\n",
       "    }\n",
       "</style>\n",
       "<table border=\"1\" class=\"dataframe\">\n",
       "  <thead>\n",
       "    <tr style=\"text-align: right;\">\n",
       "      <th></th>\n",
       "      <th>transaction_id</th>\n",
       "      <th>visitor_id</th>\n",
       "      <th>date</th>\n",
       "      <th>revenue</th>\n",
       "      <th>group</th>\n",
       "    </tr>\n",
       "  </thead>\n",
       "  <tbody>\n",
       "    <tr>\n",
       "      <th>0</th>\n",
       "      <td>3667963787</td>\n",
       "      <td>3312258926</td>\n",
       "      <td>2019-08-15</td>\n",
       "      <td>30.4</td>\n",
       "      <td>B</td>\n",
       "    </tr>\n",
       "    <tr>\n",
       "      <th>1</th>\n",
       "      <td>2804400009</td>\n",
       "      <td>3642806036</td>\n",
       "      <td>2019-08-15</td>\n",
       "      <td>15.2</td>\n",
       "      <td>B</td>\n",
       "    </tr>\n",
       "    <tr>\n",
       "      <th>2</th>\n",
       "      <td>2961555356</td>\n",
       "      <td>4069496402</td>\n",
       "      <td>2019-08-15</td>\n",
       "      <td>10.2</td>\n",
       "      <td>A</td>\n",
       "    </tr>\n",
       "    <tr>\n",
       "      <th>3</th>\n",
       "      <td>3797467345</td>\n",
       "      <td>1196621759</td>\n",
       "      <td>2019-08-15</td>\n",
       "      <td>155.1</td>\n",
       "      <td>B</td>\n",
       "    </tr>\n",
       "    <tr>\n",
       "      <th>4</th>\n",
       "      <td>2282983706</td>\n",
       "      <td>2322279887</td>\n",
       "      <td>2019-08-15</td>\n",
       "      <td>40.5</td>\n",
       "      <td>B</td>\n",
       "    </tr>\n",
       "  </tbody>\n",
       "</table>\n",
       "</div>"
      ],
      "text/plain": [
       "   transaction_id  visitor_id       date  revenue group\n",
       "0      3667963787  3312258926 2019-08-15     30.4     B\n",
       "1      2804400009  3642806036 2019-08-15     15.2     B\n",
       "2      2961555356  4069496402 2019-08-15     10.2     A\n",
       "3      3797467345  1196621759 2019-08-15    155.1     B\n",
       "4      2282983706  2322279887 2019-08-15     40.5     B"
      ]
     },
     "execution_count": 58,
     "metadata": {},
     "output_type": "execute_result"
    }
   ],
   "source": [
    "orders.head()"
   ]
  },
  {
   "cell_type": "code",
   "execution_count": 59,
   "id": "3c1a2795",
   "metadata": {},
   "outputs": [],
   "source": [
    "orders_by_usersA = orders[orders['group']=='A'].groupby('visitor_id').agg({'visitor_id' : pd.Series.nunique})\n",
    "orders_by_usersA .columns = ['orders']\n",
    "orders_by_usersA=orders_by_usersA.reset_index()"
   ]
  },
  {
   "cell_type": "code",
   "execution_count": 60,
   "id": "5b1f7c9f",
   "metadata": {},
   "outputs": [],
   "source": [
    "orders_by_usersB = orders[orders['group']=='B'].groupby('visitor_id').agg({'visitor_id' : pd.Series.nunique})\n",
    "orders_by_usersB .columns = ['orders']\n",
    "orders_by_usersB=orders_by_usersB.reset_index()"
   ]
  },
  {
   "cell_type": "markdown",
   "id": "9fabc36e",
   "metadata": {},
   "source": [
    "Now we'll declare the variables sampleA and sampleB, with users from different groups and corresponding numbers of orders. Those who didn't order anything will have 0. This is necessary to prepare the samples for the Mann-Whitney test.\n",
    "sampleA must have two parts:\n",
    "A list of the number of orders for each user: ordersByUsersA['orders'].\n",
    "Zeroes for users who didn't order anything. Their number is the difference between the total number of visitors and the number of records on orders: visitors[visitors['group']=='A']['visitors'].sum() - len(ordersByUsersA['orders'])\n",
    "\n"
   ]
  },
  {
   "cell_type": "code",
   "execution_count": 61,
   "id": "82cb2fe6",
   "metadata": {},
   "outputs": [],
   "source": [
    "sampleA = pd.concat([orders_by_usersA['orders'],pd.Series(0, index=np.arange(visits[visits['group']=='A']['visits'].sum() - len(orders_by_usersA['orders'])), name='orders')],axis=0)\n",
    "\n",
    "sampleB = pd.concat([orders_by_usersB['orders'],pd.Series(0, index=np.arange(visits[visits['group']=='B']['visits'].sum() - len(orders_by_usersB['orders'])), name='orders')],axis=0)"
   ]
  },
  {
   "cell_type": "markdown",
   "id": "e9f5d665",
   "metadata": {},
   "source": [
    "We'll apply the criterion and format the p-value by rounding it to three decimal places.\n",
    "Remember that sampleA stores a sample where each element is the number of orders made by a certain user, including zeroes. So the number of sampleA elements is the number of users, and the sum of all the elements is the number of orders. To get the group's conversion rate, we'll need to divide the sum of the orders by the number of users. Using the mean() method, we'll find the mean for sampleA. We'll find the conversion rate for group B in a similar way: sampleB.mean()."
   ]
  },
  {
   "cell_type": "markdown",
   "id": "e5597365",
   "metadata": {},
   "source": [
    "Let's print the relative conversion gain for group B: group B conversion / group A conversion - 1. We'll round the value to three decimal places."
   ]
  },
  {
   "cell_type": "code",
   "execution_count": 62,
   "id": "84f8b483",
   "metadata": {},
   "outputs": [
    {
     "name": "stdout",
     "output_type": "stream",
     "text": [
      "p-value:  0.016746169422850104\n",
      "Null hypothesis rejected: the difference is statistically significant\n"
     ]
    }
   ],
   "source": [
    "alpha = .05 #significance level\n",
    "\n",
    "results = st.mannwhitneyu(sampleA, sampleB)\n",
    "\n",
    "print('p-value: ', results.pvalue)\n",
    "\n",
    "if (results.pvalue < alpha):\n",
    "    print(\"Null hypothesis rejected: the difference is statistically significant\")\n",
    "else:\n",
    "    print(\"Failed to reject the null hypothesis: we can't make conclusions about the difference\") "
   ]
  },
  {
   "cell_type": "code",
   "execution_count": 63,
   "id": "d55d505c",
   "metadata": {},
   "outputs": [
    {
     "name": "stdout",
     "output_type": "stream",
     "text": [
      "relative conversion gain for group B: 0.1539239925219249\n"
     ]
    }
   ],
   "source": [
    "\n",
    "print(\"relative conversion gain for group B:\", (sampleB.mean()/sampleA.mean()-1)) "
   ]
  },
  {
   "cell_type": "markdown",
   "id": "52e09948",
   "metadata": {},
   "source": [
    "***Conclusion: based on the raw data, there is statistical difference in conversion between groups A and B.***\n",
    "The first row of the output gives us the p-value, 0.017, which is lower than 0.05. So we reject the null hypothesis that there's not a statistically significant difference in conversion between the groups.The relative gain of group B is 15.4 (the second row of the output).\n"
   ]
  },
  {
   "cell_type": "markdown",
   "id": "38ccc10c",
   "metadata": {},
   "source": [
    "### Find the statistical significance of the difference in average order size between the groups using the raw data. \n"
   ]
  },
  {
   "cell_type": "markdown",
   "id": "9f43aa35",
   "metadata": {},
   "source": [
    "H0: There is not a statistically significant difference in average order size  for the tested group and for the control group.         Both Group A and group B average order size  are equal\n",
    "\n",
    "H1: There is a statistically significant difference in average order size  for the tested group and for the control group.             Group A and group B average order size  differs."
   ]
  },
  {
   "cell_type": "markdown",
   "id": "3764be21",
   "metadata": {},
   "source": [
    "To calculate the statistical significance of the difference in the segments' average order size, we'll pass the data on revenue to the mannwhitneyu() criterion.\n",
    "We'll also find the relative difference in average order size between the groups:"
   ]
  },
  {
   "cell_type": "code",
   "execution_count": 64,
   "id": "96a173e6",
   "metadata": {},
   "outputs": [
    {
     "name": "stdout",
     "output_type": "stream",
     "text": [
      "p-value:  0.6915246773264736\n",
      "Failed to reject the null hypothesis: we can't make conclusions about the difference\n"
     ]
    }
   ],
   "source": [
    "alpha = .05 #significance level\n",
    "\n",
    "results = st.mannwhitneyu(orders[orders['group']=='A']['revenue'], orders[orders['group']=='B']['revenue'])\n",
    "\n",
    "print('p-value: ', results.pvalue)\n",
    "\n",
    "if (results.pvalue < alpha):\n",
    "    print(\"Null hypothesis rejected: the difference is statistically significant\")\n",
    "else:\n",
    "    print(\"Failed to reject the null hypothesis: we can't make conclusions about the difference\") "
   ]
  },
  {
   "cell_type": "code",
   "execution_count": 65,
   "id": "db2a5022",
   "metadata": {},
   "outputs": [
    {
     "name": "stdout",
     "output_type": "stream",
     "text": [
      "relative difference in average order size between the groups: 0.25165300678182323\n"
     ]
    }
   ],
   "source": [
    "\n",
    "print('relative difference in average order size between the groups:', \n",
    "      (orders[orders['group']=='B']['revenue'].mean()/orders[orders['group']=='A']['revenue'].mean()-1))"
   ]
  },
  {
   "cell_type": "markdown",
   "id": "61149cf8",
   "metadata": {},
   "source": [
    "The p-value is considerably higher than 0.05, so there's no reason to reject the null hypothesis ( H0= there is no difference between group A and B) and conclude that average order size differs between the groups. Despite what has just been said, the average order size for group B is much higher than it is for group A."
   ]
  },
  {
   "cell_type": "markdown",
   "id": "e5f850cc",
   "metadata": {},
   "source": [
    "### Find the statistical significance of the difference in conversion between the groups using the filtered data. ."
   ]
  },
  {
   "cell_type": "markdown",
   "id": "a1c6914c",
   "metadata": {},
   "source": [
    "Remember that the 95th and 99th percentiles for average order size, which you found in the preceding lessons, were 435,547 and 900.904. The 95th and 99th percentiles for the number of orders per user were 2 and 4 orders.\n",
    "Let's define anomalous users as those who place more than two orders or one order bigger than 600. Thus we'll remove the 5 percent of users with the largest numbers of orders and from 1 percent to 5 percent of the users with the most expensive orders. Let's make data slices with the users who placed more than two orders (users_many_orders) and the users who placed orders for more than  600 (users_expensive_orders). We'll join them in a table called abnormal_users."
   ]
  },
  {
   "cell_type": "code",
   "execution_count": 66,
   "id": "5d6f6f13",
   "metadata": {},
   "outputs": [
    {
     "data": {
      "text/html": [
       "<div>\n",
       "<style scoped>\n",
       "    .dataframe tbody tr th:only-of-type {\n",
       "        vertical-align: middle;\n",
       "    }\n",
       "\n",
       "    .dataframe tbody tr th {\n",
       "        vertical-align: top;\n",
       "    }\n",
       "\n",
       "    .dataframe thead th {\n",
       "        text-align: right;\n",
       "    }\n",
       "</style>\n",
       "<table border=\"1\" class=\"dataframe\">\n",
       "  <thead>\n",
       "    <tr style=\"text-align: right;\">\n",
       "      <th></th>\n",
       "      <th>visitor_id</th>\n",
       "      <th>orders</th>\n",
       "    </tr>\n",
       "  </thead>\n",
       "  <tbody>\n",
       "    <tr>\n",
       "      <th>0</th>\n",
       "      <td>8300375</td>\n",
       "      <td>1</td>\n",
       "    </tr>\n",
       "    <tr>\n",
       "      <th>1</th>\n",
       "      <td>11685486</td>\n",
       "      <td>1</td>\n",
       "    </tr>\n",
       "    <tr>\n",
       "      <th>2</th>\n",
       "      <td>54447517</td>\n",
       "      <td>1</td>\n",
       "    </tr>\n",
       "    <tr>\n",
       "      <th>3</th>\n",
       "      <td>66685450</td>\n",
       "      <td>1</td>\n",
       "    </tr>\n",
       "    <tr>\n",
       "      <th>4</th>\n",
       "      <td>78758296</td>\n",
       "      <td>1</td>\n",
       "    </tr>\n",
       "    <tr>\n",
       "      <th>...</th>\n",
       "      <td>...</td>\n",
       "      <td>...</td>\n",
       "    </tr>\n",
       "    <tr>\n",
       "      <th>498</th>\n",
       "      <td>4243832526</td>\n",
       "      <td>1</td>\n",
       "    </tr>\n",
       "    <tr>\n",
       "      <th>499</th>\n",
       "      <td>4256040402</td>\n",
       "      <td>1</td>\n",
       "    </tr>\n",
       "    <tr>\n",
       "      <th>500</th>\n",
       "      <td>4259830713</td>\n",
       "      <td>1</td>\n",
       "    </tr>\n",
       "    <tr>\n",
       "      <th>501</th>\n",
       "      <td>4266935830</td>\n",
       "      <td>1</td>\n",
       "    </tr>\n",
       "    <tr>\n",
       "      <th>502</th>\n",
       "      <td>4278982564</td>\n",
       "      <td>1</td>\n",
       "    </tr>\n",
       "  </tbody>\n",
       "</table>\n",
       "<p>503 rows × 2 columns</p>\n",
       "</div>"
      ],
      "text/plain": [
       "     visitor_id  orders\n",
       "0       8300375       1\n",
       "1      11685486       1\n",
       "2      54447517       1\n",
       "3      66685450       1\n",
       "4      78758296       1\n",
       "..          ...     ...\n",
       "498  4243832526       1\n",
       "499  4256040402       1\n",
       "500  4259830713       1\n",
       "501  4266935830       1\n",
       "502  4278982564       1\n",
       "\n",
       "[503 rows x 2 columns]"
      ]
     },
     "execution_count": 66,
     "metadata": {},
     "output_type": "execute_result"
    }
   ],
   "source": [
    "orders_by_usersA"
   ]
  },
  {
   "cell_type": "code",
   "execution_count": 67,
   "id": "b4969575",
   "metadata": {},
   "outputs": [
    {
     "name": "stdout",
     "output_type": "stream",
     "text": [
      "1099    148427295\n",
      "684     358944393\n",
      "648     382846391\n",
      "1137    759473111\n",
      "339     834731816\n",
      "Name: visitor_id, dtype: int64\n",
      "(29,)\n"
     ]
    }
   ],
   "source": [
    "users_many_orders = pd.concat([orders_by_usersA[orders_by_usersA['orders'] > 2]['visitor_id'],orders_by_usersB [orders_by_usersB['orders'] > 2]['visitor_id']], axis = 0)\n",
    "users_expensive_orders = orders[orders['revenue'] > 600]['visitor_id']\n",
    "abnormal_users = pd.concat([users_many_orders,users_expensive_orders ], axis = 0).drop_duplicates().sort_values()\n",
    "print(abnormal_users.head(5))\n",
    "print(abnormal_users.shape)"
   ]
  },
  {
   "cell_type": "markdown",
   "id": "d6ee2302",
   "metadata": {},
   "source": [
    "We have 14 anomalous users in total.\n",
    "\n",
    "Let's try to find out how their actions affected the test results. We'll calculate the statistical significance of the differences in conversion between the groups, using filtered data. First we'll prepare samples of the number of orders per user for each test group:"
   ]
  },
  {
   "cell_type": "code",
   "execution_count": 68,
   "id": "8fb5d6db",
   "metadata": {},
   "outputs": [],
   "source": [
    "sampleA_filtered = pd.concat([orders_by_usersA[np.logical_not(orders_by_usersA['visitor_id'].isin(abnormal_users))]['orders'],pd.Series(0, index=np.arange(visits[visits['group']=='A']['visits'].sum() - len(orders_by_usersA['orders'])),name='orders')],axis=0)\n",
    "\n",
    "sampleB_filtered = pd.concat([orders_by_usersB[np.logical_not(orders_by_usersB['visitor_id'].isin(abnormal_users))]['orders'],pd.Series(0, index=np.arange(visits[visits['group']=='B']['visits'].sum() - len(orders_by_usersB['orders'])),name='orders')],axis=0)"
   ]
  },
  {
   "cell_type": "markdown",
   "id": "ec90f799",
   "metadata": {},
   "source": [
    "Let's apply the statistical Mann-Whitney criterion to the resulting samples:"
   ]
  },
  {
   "cell_type": "code",
   "execution_count": 69,
   "id": "84fcc7dc",
   "metadata": {},
   "outputs": [
    {
     "name": "stdout",
     "output_type": "stream",
     "text": [
      "p-value:  0.010596721973880818\n",
      "Null hypothesis rejected: the difference is statistically significant\n"
     ]
    }
   ],
   "source": [
    "alpha = .05 #significance level\n",
    "\n",
    "results = st.mannwhitneyu(sampleA_filtered, sampleB_filtered)\n",
    "\n",
    "print('p-value: ', results.pvalue)\n",
    "\n",
    "if (results.pvalue < alpha):\n",
    "    print(\"Null hypothesis rejected: the difference is statistically significant\")\n",
    "else:\n",
    "    print(\"Failed to reject the null hypothesis: we can't make conclusions about the difference\") "
   ]
  },
  {
   "cell_type": "code",
   "execution_count": 70,
   "id": "4a09396b",
   "metadata": {},
   "outputs": [
    {
     "name": "stdout",
     "output_type": "stream",
     "text": [
      "relative conversion gain for group B: 1.1682672568376067\n"
     ]
    }
   ],
   "source": [
    "print(\"relative conversion gain for group B:\", sampleB_filtered.mean()/sampleA_filtered.mean())"
   ]
  },
  {
   "cell_type": "markdown",
   "id": "b8806a1f",
   "metadata": {},
   "source": [
    "The results for conversion almost didn't change. Let's see what happens to the values for average order size:"
   ]
  },
  {
   "cell_type": "markdown",
   "id": "6c7e3f95",
   "metadata": {},
   "source": [
    "### Find the statistical significance of the difference in average order size between the groups using the filtered data.\n"
   ]
  },
  {
   "cell_type": "code",
   "execution_count": 71,
   "id": "16aef5f1",
   "metadata": {},
   "outputs": [
    {
     "name": "stdout",
     "output_type": "stream",
     "text": [
      "0.516\n",
      "0.066\n"
     ]
    }
   ],
   "source": [
    "print('{0:.3f}'.format(st.mannwhitneyu(\n",
    "    orders[np.logical_and(\n",
    "        orders['group']=='A',\n",
    "        np.logical_not(orders['visitor_id'].isin(abnormal_users)))]['revenue'],\n",
    "    orders[np.logical_and(\n",
    "        orders['group']=='B',\n",
    "        np.logical_not(orders['visitor_id'].isin(abnormal_users)))]['revenue'])[1]))\n",
    "\n",
    "print('{0:.3f}'.format(\n",
    "    orders[np.logical_and(orders['group']=='B',np.logical_not(orders['visitor_id'].isin(abnormal_users)))]['revenue'].mean()/\n",
    "    orders[np.logical_and(\n",
    "        orders['group']=='A',\n",
    "        np.logical_not(orders['visitor_id'].isin(abnormal_users)))]['revenue'].mean() - 1))"
   ]
  },
  {
   "cell_type": "markdown",
   "id": "de273798",
   "metadata": {},
   "source": [
    "The p-value decreased, but now the difference in average order size between group B and group A is 6% instead of 25%."
   ]
  },
  {
   "cell_type": "markdown",
   "id": "8624fbdd",
   "metadata": {},
   "source": [
    "### Make a decision based on the test results"
   ]
  },
  {
   "cell_type": "markdown",
   "id": "0d72a37e",
   "metadata": {},
   "source": [
    "* There's a statistically significant difference in conversion between the groups, according to both the raw and the filtered data.\n",
    "* The raw data and the filtered data didn't show a statistically significant difference between the groups in terms of average purchase size. \n",
    "* The graph of the difference in conversion between the groups shows that group B's results are better than those of group A: they have a tendency to grow or have stabilized around the mean.\n"
   ]
  },
  {
   "cell_type": "markdown",
   "id": "1deef190",
   "metadata": {},
   "source": [
    "Stop the test, the hypotheses tested was a success, and move on to the next hypothesis."
   ]
  },
  {
   "cell_type": "markdown",
   "id": "2049e27e",
   "metadata": {},
   "source": [
    "### SUMMARY OF THE ANALYSIS\n",
    "\n",
    "The goal iof this analysis was to prioritize and test a list of hypotheses that may help boost revenue. To do so, I completed an analysis which consisted in the following steps:\n",
    "\n",
    "*  Data cleaning, consists of amending or removing incorrect or superfluous data, as well as checking for incompleteness or inconsistencies.\n",
    "\n",
    "* Prioritize the hypothesis, in order to choose one (the best one) to test. I did so using the 'ICE and RICE' method.\n",
    "\n",
    "* I conducted an A/B test and analize t's results by focusing on cumulative metrics: A/B testing helps reveal the differences between groups, if there are any. We compared  metrics:\n",
    "Conversion,\n",
    "Average purchase size\n",
    "\n",
    "* I determined that there is a statistical difference in conversion, which means the hipotheses tested helped to boost revenue.\n",
    "\n"
   ]
  }
 ],
 "metadata": {
  "kernelspec": {
   "display_name": "Python 3 (ipykernel)",
   "language": "python",
   "name": "python3"
  },
  "language_info": {
   "codemirror_mode": {
    "name": "ipython",
    "version": 3
   },
   "file_extension": ".py",
   "mimetype": "text/x-python",
   "name": "python",
   "nbconvert_exporter": "python",
   "pygments_lexer": "ipython3",
   "version": "3.9.12"
  },
  "toc": {
   "base_numbering": 1,
   "nav_menu": {},
   "number_sections": true,
   "sideBar": true,
   "skip_h1_title": true,
   "title_cell": "Table of Contents",
   "title_sidebar": "Contents",
   "toc_cell": false,
   "toc_position": {},
   "toc_section_display": true,
   "toc_window_display": false
  }
 },
 "nbformat": 4,
 "nbformat_minor": 5
}
